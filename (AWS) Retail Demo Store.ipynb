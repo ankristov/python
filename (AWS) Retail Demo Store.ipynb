{
 "cells": [
  {
   "cell_type": "markdown",
   "id": "eefbc9fe",
   "metadata": {},
   "source": [
    "# Retail Demo Store - Personalization Workshop - Lab 1\n",
    "Welcome to the Retail Demo Store Personalization Workshop. In this module we're going to be implementing multiple personalization use cases, powered by Amazon Personalize (https://aws.amazon.com/personalize/), to enhance the base Retail Demo Store storefront. We will break up the process into multiple labs that are designed to progressively build on top of each other. Therefore, you should complete the labs in the order specified below. Some labs are optional, as indicated below.\n",
    "\n",
    "## Workshop overview\n",
    "### Core/required labs\n",
    "The following labs guide you step-by-step through building the core personalization capabilities used in the Retail Demo Store storefront as well as foundational components leveraged in other workshops such as experimentation, messaging, and conversational.\n",
    "\n",
    "Lab 1: Introduction and dataset preparation (this lab) (25 minutes)\n",
    "Lab 2: Prepare Amazon Personalize and import datasets (20 minutes)\n",
    "Lab 3: Create e-commerce domain recommenders and custom solutions in Amazon Personalize (60 minutes)\n",
    "Lab 4: Evaluate recommendations from Amazon Personalize recommenders and campaigns, activate real-time events using an Event Tracker, and apply business rules using filters (30-40 minutes)\n",
    "### Optional labs\n",
    "The following labs allow you to further explore how to pair Amazon Personalize with popular customer data platforms (CDPs); using Personalize for user segementation; and alternative use cases such as personalized offers.\n",
    "\n",
    "Real-time events with CDPs\n",
    "Lab 5: Segment real-time data (optional) (45 minutes)\n",
    "Lab 6: mParticle (optional) (45 minutes)\n",
    "Lab 7: Intelligent user segmentation using Amazon Personalize (20-30 minutes)\n",
    "Lab 8: Personalized offers (optional) (120 minutes)\n",
    "### Cleanup\n",
    "The cleanup lab will tear down all of the Personalize resources created by the labs in this workshop.\n",
    "\n",
    "Lab 9: Cleanup resources (15 minutes)\n",
    "## Overview of use cases\n",
    "Through the labs in the workshop we will be adding personalization to several views in the Retail Demo Store.\n",
    "\n",
    "Navigation:\n",
    "Personalized search: the order of search results displayed in the auto-complete search dropdown are personalized to each user's interests.\n",
    "Home page:\n",
    "Recommended For You: the \"Inspired by your shopping trends\" grid is populated with personalized recommendations for the current user (if emulating a shopper or after a few interactions have been collected for a cold user).\n",
    "Featured products personalized ranking: order featured products based on the current user's interests.\n",
    "Product detail:\n",
    "Related product recommendations: the \"Compare similar items\" carousel is populated with related item recommendations based on co-interactions of other items and thematic similarities between items.\n",
    "Category detail:\n",
    "Personalized ranking: the order of items displayed on the category detail pages are personalized to the current user's interests.\n",
    "Interactive video stream:\n",
    "Related product recommendations: the \"Compare similar items\" carousel is populated with related item recommendations based on co-interactions of other items and thematic similarities between items.\n",
    "In addition, the recommenders we build in this workshop will be foundational components of other Retail Demo Store workshops including the customer messaging workshop, conversational AI workshop, and location services workshop."
   ]
  },
  {
   "cell_type": "markdown",
   "id": "aa8b3209",
   "metadata": {},
   "source": [
    "## Introduction to Amazon Personalize\n",
    "Amazon Personalize makes it easy for customers to develop applications with a wide array of personalization use cases, including real time product recommendations and customized direct marketing. Amazon Personalize brings the same machine learning technology used by Amazon.com to everyone for use in their applications – with no machine learning experience required. Amazon Personalize customers pay for what they use, with no minimum fees or upfront commitment. You can start using Amazon Personalize with a simple three step process, which only takes a few clicks in the AWS console, or a set of simple API calls. First, point Amazon Personalize to user data, catalog data, and activity stream of views, clicks, purchases, etc. in Amazon S3 or upload using a simple API call. Second, with a single click in the console or an API call, train a custom private recommendation model for your data. Third, retrieve personalized recommendations for any user by creating a recommender or campaign, and using the GetRecommendations API.\n",
    "\n",
    "In this lab we are going to focus on inspecting and preparing the data we will need to provide to Personalize.\n",
    "\n",
    "## Setup\n",
    "The workshop will be using the python programming language and the AWS SDK for python. Even if you are not fluent in python, the code cells should be reasonably intuitive. In practice, you can use any programming language supported by the AWS SDK to complete the same steps from this workshop in your application environment.\n",
    "\n",
    "### Update dependencies\n",
    "To get started, we need to perform a bit of setup. First, we need to ensure that a current version of botocore is locally installed. The botocore library is used by boto3, the AWS SDK library for python. We need a current version to be able to access some of the newer Amazon Personalize features.\n",
    "\n",
    "The following cell will update pip and install the latest botocore library."
   ]
  },
  {
   "cell_type": "code",
   "execution_count": 1,
   "id": "f369fbf2",
   "metadata": {},
   "outputs": [
    {
     "name": "stdout",
     "output_type": "stream",
     "text": [
      "Requirement already satisfied: pip in ./lib/python3.7/site-packages (22.2.1)\n",
      "Collecting pip\n",
      "  Downloading pip-22.2.2-py3-none-any.whl (2.0 MB)\n",
      "\u001b[2K     \u001b[90m━━━━━━━━━━━━━━━━━━━━━━━━━━━━━━━━━━━━━━━━\u001b[0m \u001b[32m2.0/2.0 MB\u001b[0m \u001b[31m3.7 MB/s\u001b[0m eta \u001b[36m0:00:00\u001b[0m00:01\u001b[0m00:01\u001b[0m\n",
      "\u001b[?25hInstalling collected packages: pip\n",
      "  Attempting uninstall: pip\n",
      "    Found existing installation: pip 22.2.1\n",
      "    Uninstalling pip-22.2.1:\n",
      "      Successfully uninstalled pip-22.2.1\n",
      "Successfully installed pip-22.2.2\n"
     ]
    }
   ],
   "source": [
    "import sys\n",
    "!{sys.executable} -m pip install --upgrade pip"
   ]
  },
  {
   "cell_type": "code",
   "execution_count": 2,
   "id": "f37dff55",
   "metadata": {},
   "outputs": [
    {
     "name": "stdout",
     "output_type": "stream",
     "text": [
      "Collecting botcore\n",
      "  Downloading BotCore-1.1.4.tar.gz (4.6 kB)\n",
      "  Preparing metadata (setup.py) ... \u001b[?25ldone\n",
      "\u001b[?25hUsing legacy 'setup.py install' for botcore, since package 'wheel' is not installed.\n",
      "Installing collected packages: botcore\n",
      "  Running setup.py install for botcore ... \u001b[?25ldone\n",
      "\u001b[?25hSuccessfully installed botcore-1.1.4\n"
     ]
    }
   ],
   "source": [
    "!{sys.executable} -m pip install --upgrade --no-deps --force-reinstall botcore\n"
   ]
  },
  {
   "cell_type": "markdown",
   "id": "c438a05c",
   "metadata": {},
   "source": [
    "### Import dependencies\n",
    "Next we need to import some dependencies/libraries needed to complete this lab."
   ]
  },
  {
   "cell_type": "code",
   "execution_count": 4,
   "id": "5536edd8",
   "metadata": {},
   "outputs": [
    {
     "name": "stdout",
     "output_type": "stream",
     "text": [
      "/bin/bash: {sys.executable}: command not found\r\n"
     ]
    }
   ],
   "source": [
    "!{sys.executable} pip install notebook_utils"
   ]
  },
  {
   "cell_type": "code",
   "execution_count": 31,
   "id": "c2e61924",
   "metadata": {},
   "outputs": [],
   "source": [
    "import boto3\n",
    "import json\n",
    "import pandas as pd\n",
    "import seaborn as sns\n",
    "import matplotlib.pyplot as plt\n",
    "import time\n",
    "import requests\n",
    "import csv\n",
    "import os\n",
    "#import notebook_util\n",
    "\n",
    "%matplotlib inline"
   ]
  },
  {
   "cell_type": "markdown",
   "id": "d501f7d5",
   "metadata": {},
   "source": [
    "### Create cients\n",
    "Next we need to create the AWS service clients needed for this workshop.\n",
    "\n",
    "- personalize: this client is used to create resources in Amazon Personalize\n",
    "- servicediscovery: this client is used to lookup the local IP addresses of the Retail Demo Store microservices that we'll need in the workshop\n",
    "- ssm: this client is used to access application configuration details stored in the Systems Manager parameter store\n",
    "\n",
    "Finally we'll lookup an identifier, stored as a resource tag in the SageMaker instance at deployment time. We need this tag to lookup resources we need, such as the IAM role needed by Personalize"
   ]
  },
  {
   "cell_type": "code",
   "execution_count": 32,
   "id": "73ec0f51",
   "metadata": {},
   "outputs": [],
   "source": [
    "# Setuo clients\n",
    "personalize = boto3.client('personalize')\n",
    "servicediscovery = boto3.client('servicediscovery')\n",
    "ssm = boto3.client('ssm')\n",
    "\n",
    "#Uid = notebook_util.lookup_uid()\n",
    "# assert Uid is not None, 'Uid could not be determined from notebook instance tags'\n",
    "# print('Uid:', Uid)\n"
   ]
  },
  {
   "cell_type": "code",
   "execution_count": 6,
   "id": "df35f6dc",
   "metadata": {},
   "outputs": [
    {
     "name": "stdout",
     "output_type": "stream",
     "text": [
      "<botocore.client.Personalize object at 0x7fe7d0bf7250>\n"
     ]
    }
   ],
   "source": [
    "print(personalize)"
   ]
  },
  {
   "cell_type": "markdown",
   "id": "2a91bdc0",
   "metadata": {},
   "source": [
    "### Lookup S3 bucket and initialize file names\n",
    "We will be configuring some variables that will store the location of our source data. When the Retail Demo Store stack was deployed in this account, an Amazon S3 bucket was created for you and the name of this bucket was stored in Systems Manager Parameter Store. Using the ssm boto3 client we created above, we can retrieve the name of the bucket."
   ]
  },
  {
   "cell_type": "code",
   "execution_count": 33,
   "id": "d64c04b1",
   "metadata": {},
   "outputs": [
    {
     "name": "stdout",
     "output_type": "stream",
     "text": [
      "bucketresponse:\n",
      "{'Parameter': {'Name': 'retaildemostore-stack-bucket', 'Type': 'String', 'Value': 'retaildemostore-base-13eysyuyzzk00-bu-stackbucket-js42fft30ghd', 'Version': 1, 'LastModifiedDate': datetime.datetime(2022, 8, 29, 18, 10, 11, 339000, tzinfo=tzlocal()), 'ARN': 'arn:aws:ssm:us-east-1:016882278218:parameter/retaildemostore-stack-bucket', 'DataType': 'text'}, 'ResponseMetadata': {'RequestId': '4c09e40b-b1b1-4112-a98c-635fc16b2f4e', 'HTTPStatusCode': 200, 'HTTPHeaders': {'server': 'Server', 'date': 'Fri, 09 Sep 2022 10:26:35 GMT', 'content-type': 'application/x-amz-json-1.1', 'content-length': '290', 'connection': 'keep-alive', 'x-amzn-requestid': '4c09e40b-b1b1-4112-a98c-635fc16b2f4e'}, 'RetryAttempts': 0}}\n",
      "---------\n",
      "{'NextToken': 'AAEAAa0V4Kc2ZlY3/EtMgM1D/N9K2DYCJgSrHjB+E5Q9K+pdAAAAAGMbFNs4Te1ZhQVE1NlyE4wc2lEB+6liixZP04ruMPMrIGWuuUexO6WtZN+5/mlmMyxTI46UiD2aFzocqqbctSTU8UpzoZ287Ux5b7lcwReuXVumJMZrt7cV7wrHwb3EC5/45wL6aPVJQhhqsZ0/nVMW/PjVVsHfXlikv9Ii3Bjdk8Wbxam53iGODqvtTeKRQg3qwwBpcV+nYbnR3gCixwjDjUyc7BdojSG1LIKzVSIU6eGXF4N40LWWiQb3soQkB3YY1Jch8W4Zt5LFAKaCzW130gHeX8qjnr2oWogYuEgod1o3AQqPURtJpzu/TTokqUcmOUpqEUD6D43bIaById4POTjK1t4fqIMxhKt35Aqd2DhrnaOxM6Yv/s1JrIvjJ08dgXNQouxQ8jqYizpKaRzRzDlNPqyC5sCFQjmwQn+1ynQfBgCvBn6oxI/FuphIpliJVjx45jUsmTd7pgHvE9UHCU4wuSRw/ep6uogHxZt09dvdRfpOdHzU7mv/4YQYdA7a5wMQg7CqYYo2j93OVe/rbZRyAcOdSgQxjBmUyvayx9f5rURKk7XApWcYq8Ek2zmkvFeoUa++X+97gPAAjtN+CJNJP+vKSz3BbnxQFE4p4UGxICWa8f0BbBrR1uK4Sc6lll4=',\n",
      " 'Parameters': [{'DataType': 'text',\n",
      "                 'Description': 'Retail Demo Store ACM Arn',\n",
      "                 'LastModifiedDate': datetime.datetime(2022, 8, 29, 18, 9, 34, 58000, tzinfo=tzlocal()),\n",
      "                 'LastModifiedUser': 'arn:aws:sts::016882278218:assumed-role/retaildemostore-Base-13EY-ACMimportCertLambdaExecu-1IY53IFKUH8O4/retaildemostore-Base-13EY-ACMimportCertLambdaFunct-uaEM2zkrftVy',\n",
      "                 'Name': '/retaildemostore/acm-arn',\n",
      "                 'Policies': [],\n",
      "                 'Tier': 'Standard',\n",
      "                 'Type': 'String',\n",
      "                 'Version': 2},\n",
      "                {'DataType': 'text',\n",
      "                 'Description': 'Retail Demo Store Amplitude API key',\n",
      "                 'LastModifiedDate': datetime.datetime(2022, 8, 29, 18, 10, 11, 829000, tzinfo=tzlocal()),\n",
      "                 'LastModifiedUser': 'arn:aws:iam::016882278218:user/kristov',\n",
      "                 'Name': 'retaildemostore-amplitude-api-key',\n",
      "                 'Policies': [],\n",
      "                 'Tier': 'Standard',\n",
      "                 'Type': 'String',\n",
      "                 'Version': 1},\n",
      "                {'DataType': 'text',\n",
      "                 'Description': 'Retail Demo Store Experiment Strategy DDB '\n",
      "                                'Table Name',\n",
      "                 'LastModifiedDate': datetime.datetime(2022, 8, 29, 18, 10, 11, 309000, tzinfo=tzlocal()),\n",
      "                 'LastModifiedUser': 'arn:aws:iam::016882278218:user/kristov',\n",
      "                 'Name': 'retaildemostore-experiment-strategy-table-name',\n",
      "                 'Policies': [],\n",
      "                 'Tier': 'Standard',\n",
      "                 'Type': 'String',\n",
      "                 'Version': 1},\n",
      "                {'DataType': 'text',\n",
      "                 'Description': 'Retail Demo Store Google Analytics '\n",
      "                                'Measurement Id',\n",
      "                 'LastModifiedDate': datetime.datetime(2022, 8, 29, 18, 10, 12, 247000, tzinfo=tzlocal()),\n",
      "                 'LastModifiedUser': 'arn:aws:iam::016882278218:user/kristov',\n",
      "                 'Name': 'retaildemostore-google-analytics-measurement-id',\n",
      "                 'Policies': [],\n",
      "                 'Tier': 'Standard',\n",
      "                 'Type': 'String',\n",
      "                 'Version': 1},\n",
      "                {'DataType': 'text',\n",
      "                 'Description': 'Retail Demo Store video file to IVS channel '\n",
      "                                'mapping',\n",
      "                 'LastModifiedDate': datetime.datetime(2022, 8, 29, 18, 10, 12, 52000, tzinfo=tzlocal()),\n",
      "                 'LastModifiedUser': 'arn:aws:iam::016882278218:user/kristov',\n",
      "                 'Name': 'retaildemostore-ivs-video-channel-map',\n",
      "                 'Policies': [],\n",
      "                 'Tier': 'Standard',\n",
      "                 'Type': 'String',\n",
      "                 'Version': 1},\n",
      "                {'DataType': 'text',\n",
      "                 'Description': 'Retail Demo Store mParticle org id',\n",
      "                 'LastModifiedDate': datetime.datetime(2022, 8, 29, 18, 10, 11, 279000, tzinfo=tzlocal()),\n",
      "                 'LastModifiedUser': 'arn:aws:iam::016882278218:user/kristov',\n",
      "                 'Name': 'retaildemostore-mparticle-org-id',\n",
      "                 'Policies': [],\n",
      "                 'Tier': 'Standard',\n",
      "                 'Type': 'String',\n",
      "                 'Version': 1},\n",
      "                {'DataType': 'text',\n",
      "                 'Description': 'Retail Demo Store Optimizely SDK key',\n",
      "                 'LastModifiedDate': datetime.datetime(2022, 8, 29, 18, 10, 11, 794000, tzinfo=tzlocal()),\n",
      "                 'LastModifiedUser': 'arn:aws:iam::016882278218:user/kristov',\n",
      "                 'Name': 'retaildemostore-optimizely-sdk-key',\n",
      "                 'Policies': [],\n",
      "                 'Tier': 'Standard',\n",
      "                 'Type': 'String',\n",
      "                 'Version': 1},\n",
      "                {'DataType': 'text',\n",
      "                 'Description': 'Retail Demo Store Pinpoint SMS Long code',\n",
      "                 'LastModifiedDate': datetime.datetime(2022, 8, 29, 18, 10, 12, 646000, tzinfo=tzlocal()),\n",
      "                 'LastModifiedUser': 'arn:aws:iam::016882278218:user/kristov',\n",
      "                 'Name': 'retaildemostore-pinpoint-sms-longcode',\n",
      "                 'Policies': [],\n",
      "                 'Tier': 'Standard',\n",
      "                 'Type': 'String',\n",
      "                 'Version': 1},\n",
      "                {'DataType': 'text',\n",
      "                 'Description': 'Retail Demo Store Segment source write key',\n",
      "                 'LastModifiedDate': datetime.datetime(2022, 8, 29, 18, 10, 11, 229000, tzinfo=tzlocal()),\n",
      "                 'LastModifiedUser': 'arn:aws:iam::016882278218:user/kristov',\n",
      "                 'Name': 'retaildemostore-segment-write-key',\n",
      "                 'Policies': [],\n",
      "                 'Tier': 'Standard',\n",
      "                 'Type': 'String',\n",
      "                 'Version': 1},\n",
      "                {'DataType': 'text',\n",
      "                 'Description': 'Retail Demo Store Stack Bucket Parameter',\n",
      "                 'LastModifiedDate': datetime.datetime(2022, 8, 29, 18, 10, 11, 339000, tzinfo=tzlocal()),\n",
      "                 'LastModifiedUser': 'arn:aws:iam::016882278218:user/kristov',\n",
      "                 'Name': 'retaildemostore-stack-bucket',\n",
      "                 'Policies': [],\n",
      "                 'Tier': 'Standard',\n",
      "                 'Type': 'String',\n",
      "                 'Version': 1}],\n",
      " 'ResponseMetadata': {'HTTPHeaders': {'connection': 'keep-alive',\n",
      "                                      'content-length': '3645',\n",
      "                                      'content-type': 'application/x-amz-json-1.1',\n",
      "                                      'date': 'Fri, 09 Sep 2022 10:26:35 GMT',\n",
      "                                      'server': 'Server',\n",
      "                                      'x-amzn-requestid': 'eb94bffb-3f0a-483c-87ef-2e7c25ebc74d'},\n",
      "                      'HTTPStatusCode': 200,\n",
      "                      'RequestId': 'eb94bffb-3f0a-483c-87ef-2e7c25ebc74d',\n",
      "                      'RetryAttempts': 0}}\n",
      "---------\n",
      "Bucket: retaildemostore-base-13eysyuyzzk00-bu-stackbucket-js42fft30ghd\n"
     ]
    }
   ],
   "source": [
    "import pprint\n",
    "bucketresponse = ssm.get_parameter(\n",
    "    Name='retaildemostore-stack-bucket'\n",
    ")\n",
    "print(f'bucketresponse:\\n{bucketresponse}')\n",
    "\n",
    "print('---------')\n",
    "pprint.pprint(ssm.describe_parameters())\n",
    "print('---------')\n",
    "\n",
    "# We will use this bucket to store our training data:\n",
    "bucket = bucketresponse['Parameter']['Value']\n",
    "\n",
    "# We will build and upload our training data in these files:\n",
    "items_filename = 'items.csv'\n",
    "users_filename = 'users.csv'\n",
    "interactions_filename = 'interactions.csv'\n",
    "\n",
    "print('Bucket: {}'.format(bucket))\n"
   ]
  },
  {
   "cell_type": "markdown",
   "id": "a75d17da",
   "metadata": {},
   "source": [
    "## Fetch, Prepare, and Upload User, Product, and Interaction Data\n",
    "Amazon Personalize provides predefined recipes, based on common use cases, for training models. A recipe is a machine learning algorithm that you use with settings, or hyperparameters, and the data you provide to train an Amazon Personalize model. The data you provide to train a model are organized into separate datasets by the type of data being provided. A collection of datasets are organized into a dataset group. The three dataset types supported by Personalize are items, users, and interactions. Depending on the recipe type you choose, a different combination of dataset types are required. For all recipe types, an interactions dataset is required. Interactions represent how users interact with items. For example, viewing a product, watching a video, listening to a recording, or reading an article. For this workshop, we will be using a recipes that supports all three dataset types.\n",
    "\n",
    "When we deployed the Retail Demo Store, it was deployed with an initial seed of fictitious User and Product data. We will use this data to train multiple models (recommenders and solutions) in the Amazon Personalize service which will be used to serve product recommendations, related items, and to rerank product lists for our users. The User and Product data can be accessed from the Retail Demo Store's Users and Products microservices, respectively. We will access our data through microservice data APIs, process the data, and upload them as CSVs to S3. Once our datasets are in S3, we can import them into the Amazon Personalize service.\n",
    "\n",
    "Let's get started.\n",
    "\n",
    "### Get Products Service Instance\n",
    "We will be pulling our Product data from the Products Service (https://github.com/aws-samples/retail-demo-store/tree/master/src/products) that was deployed in Amazon Elastic Container Service as part of the Retail Demo Store. To connect to this service we will use AWS Cloud Map's Service Discovery (https://aws.amazon.com/cloud-map/) to discover an instance of the Product Service running in ECS, and then connect directly to that service instances to access our data."
   ]
  },
  {
   "cell_type": "code",
   "execution_count": 34,
   "id": "2d4330ec",
   "metadata": {},
   "outputs": [
    {
     "name": "stdout",
     "output_type": "stream",
     "text": [
      "---------\n",
      "{'Instances': [{'Attributes': {'AVAILABILITY_ZONE': 'us-east-1b',\n",
      "                               'AWS_INIT_HEALTH_STATUS': 'HEALTHY',\n",
      "                               'AWS_INSTANCE_IPV4': '10.215.20.126',\n",
      "                               'AWS_INSTANCE_PORT': '80',\n",
      "                               'ECS_CLUSTER_NAME': 'retaildemostore-Base-13EYSYUYZZK00-ECSCluster-1UJR76NTPQDGE',\n",
      "                               'ECS_SERVICE_NAME': 'retaildemostore-Services-12NF7MRGVY872-ProductsService-17UJT5E9V4T93-Service-4XUADBA0GPN-FargateService-6RsTB9IQ7zSo',\n",
      "                               'ECS_TASK_DEFINITION_FAMILY': 'retaildemostore-Services-12NF7MRGVY872-ProductsService-17UJT5E9V4T93-Service-4XUADBA0GPN-retaildemostore',\n",
      "                               'REGION': 'us-east-1'},\n",
      "                'HealthStatus': 'HEALTHY',\n",
      "                'InstanceId': 'b2b20261815c4c9c86d9fc43eb2f4855',\n",
      "                'NamespaceName': 'retaildemostore.local',\n",
      "                'ServiceName': 'products'}],\n",
      " 'ResponseMetadata': {'HTTPHeaders': {'connection': 'keep-alive',\n",
      "                                      'content-length': '675',\n",
      "                                      'content-type': 'application/x-amz-json-1.1',\n",
      "                                      'date': 'Fri, 09 Sep 2022 10:26:40 GMT',\n",
      "                                      'strict-transport-security': 'max-age=31536000; '\n",
      "                                                                   'includeSubDomains',\n",
      "                                      'x-amzn-requestid': '1366fc32-2f27-4029-8914-5cff70f64e2e',\n",
      "                                      'x-content-type-options': 'nosniff'},\n",
      "                      'HTTPStatusCode': 200,\n",
      "                      'RequestId': '1366fc32-2f27-4029-8914-5cff70f64e2e',\n",
      "                      'RetryAttempts': 0}}\n",
      "---------\n",
      "Products Service Instance IP: 10.215.20.126\n"
     ]
    }
   ],
   "source": [
    "response = servicediscovery.discover_instances(\n",
    "    NamespaceName='retaildemostore.local',\n",
    "    ServiceName='products',\n",
    "    MaxResults=1,\n",
    "    HealthStatus='HEALTHY'\n",
    ")\n",
    "\n",
    "print('---------')\n",
    "pprint.pprint(response)\n",
    "print('---------')\n",
    "\n",
    "assert len(response['Instances']) > 0, 'Products service instance not found; check ECS to ensure it launched cleanly'\n",
    "\n",
    "products_service_instance = response['Instances'][0]['Attributes']['AWS_INSTANCE_IPV4']\n",
    "print('Products Service Instance IP: {}'.format(products_service_instance))\n"
   ]
  },
  {
   "cell_type": "markdown",
   "id": "df9c130c",
   "metadata": {},
   "source": [
    "### Download and Explore the Products Dataset\n",
    "Next, let's call the Products service to fetch all products in the catalog and then load that product information into a Pandas dataframe. Once in a dataframe, we can display, inspect, and manipulate data as needed. A snapshot of the dataframe is displayed to give you an idea of the fields available in the catalog for each product."
   ]
  },
  {
   "cell_type": "code",
   "execution_count": 36,
   "id": "30b1b368",
   "metadata": {},
   "outputs": [
    {
     "data": {
      "text/html": [
       "<div>\n",
       "<style scoped>\n",
       "    .dataframe tbody tr th:only-of-type {\n",
       "        vertical-align: middle;\n",
       "    }\n",
       "\n",
       "    .dataframe tbody tr th {\n",
       "        vertical-align: top;\n",
       "    }\n",
       "\n",
       "    .dataframe thead th {\n",
       "        text-align: right;\n",
       "    }\n",
       "</style>\n",
       "<table border=\"1\" class=\"dataframe\">\n",
       "  <thead>\n",
       "    <tr style=\"text-align: right;\">\n",
       "      <th></th>\n",
       "      <th>id</th>\n",
       "      <th>url</th>\n",
       "      <th>sk</th>\n",
       "      <th>name</th>\n",
       "      <th>category</th>\n",
       "      <th>style</th>\n",
       "      <th>description</th>\n",
       "      <th>aliases</th>\n",
       "      <th>price</th>\n",
       "      <th>image</th>\n",
       "      <th>gender_affinity</th>\n",
       "      <th>current_stock</th>\n",
       "      <th>featured</th>\n",
       "    </tr>\n",
       "  </thead>\n",
       "  <tbody>\n",
       "    <tr>\n",
       "      <th>0</th>\n",
       "      <td>e1669081-8ffc-4dec-97a6-e9176d7f6651</td>\n",
       "      <td>http://d2dqg31qmn6qjz.cloudfront.net/#/product...</td>\n",
       "      <td></td>\n",
       "      <td>Sans Pareil Scarf</td>\n",
       "      <td>apparel</td>\n",
       "      <td>scarf</td>\n",
       "      <td>Sans pareil scarf for women</td>\n",
       "      <td>None</td>\n",
       "      <td>124.99</td>\n",
       "      <td>http://d2dqg31qmn6qjz.cloudfront.net/images/ap...</td>\n",
       "      <td>F</td>\n",
       "      <td>12</td>\n",
       "      <td>NaN</td>\n",
       "    </tr>\n",
       "    <tr>\n",
       "      <th>1</th>\n",
       "      <td>cfafd627-7d6b-43a5-be05-4c7937be417d</td>\n",
       "      <td>http://d2dqg31qmn6qjz.cloudfront.net/#/product...</td>\n",
       "      <td></td>\n",
       "      <td>Chef Knife</td>\n",
       "      <td>housewares</td>\n",
       "      <td>kitchen</td>\n",
       "      <td>A must-have for your kitchen</td>\n",
       "      <td>None</td>\n",
       "      <td>57.99</td>\n",
       "      <td>http://d2dqg31qmn6qjz.cloudfront.net/images/ho...</td>\n",
       "      <td>NaN</td>\n",
       "      <td>9</td>\n",
       "      <td>NaN</td>\n",
       "    </tr>\n",
       "    <tr>\n",
       "      <th>...</th>\n",
       "      <td>...</td>\n",
       "      <td>...</td>\n",
       "      <td>...</td>\n",
       "      <td>...</td>\n",
       "      <td>...</td>\n",
       "      <td>...</td>\n",
       "      <td>...</td>\n",
       "      <td>...</td>\n",
       "      <td>...</td>\n",
       "      <td>...</td>\n",
       "      <td>...</td>\n",
       "      <td>...</td>\n",
       "      <td>...</td>\n",
       "    </tr>\n",
       "    <tr>\n",
       "      <th>2463</th>\n",
       "      <td>12f93a36-e282-4445-92ae-356eb6a560fd</td>\n",
       "      <td>http://d2dqg31qmn6qjz.cloudfront.net/#/product...</td>\n",
       "      <td></td>\n",
       "      <td>Roses Arrangement</td>\n",
       "      <td>floral</td>\n",
       "      <td>arrangement</td>\n",
       "      <td>Roses arrangement grown sustainably on our org...</td>\n",
       "      <td>None</td>\n",
       "      <td>98.99</td>\n",
       "      <td>http://d2dqg31qmn6qjz.cloudfront.net/images/fl...</td>\n",
       "      <td>NaN</td>\n",
       "      <td>19</td>\n",
       "      <td>NaN</td>\n",
       "    </tr>\n",
       "    <tr>\n",
       "      <th>2464</th>\n",
       "      <td>23e77743-ff28-400a-811f-e08d3cab5e45</td>\n",
       "      <td>http://d2dqg31qmn6qjz.cloudfront.net/#/product...</td>\n",
       "      <td></td>\n",
       "      <td>Ultrachic Scarf</td>\n",
       "      <td>apparel</td>\n",
       "      <td>scarf</td>\n",
       "      <td>Ultrachic scarf for women for every occasion</td>\n",
       "      <td>None</td>\n",
       "      <td>123.99</td>\n",
       "      <td>http://d2dqg31qmn6qjz.cloudfront.net/images/ap...</td>\n",
       "      <td>F</td>\n",
       "      <td>7</td>\n",
       "      <td>NaN</td>\n",
       "    </tr>\n",
       "  </tbody>\n",
       "</table>\n",
       "<p>2465 rows × 13 columns</p>\n",
       "</div>"
      ],
      "text/plain": [
       "                                        id  \\\n",
       "0     e1669081-8ffc-4dec-97a6-e9176d7f6651   \n",
       "1     cfafd627-7d6b-43a5-be05-4c7937be417d   \n",
       "...                                    ...   \n",
       "2463  12f93a36-e282-4445-92ae-356eb6a560fd   \n",
       "2464  23e77743-ff28-400a-811f-e08d3cab5e45   \n",
       "\n",
       "                                                    url sk               name  \\\n",
       "0     http://d2dqg31qmn6qjz.cloudfront.net/#/product...     Sans Pareil Scarf   \n",
       "1     http://d2dqg31qmn6qjz.cloudfront.net/#/product...            Chef Knife   \n",
       "...                                                 ... ..                ...   \n",
       "2463  http://d2dqg31qmn6qjz.cloudfront.net/#/product...     Roses Arrangement   \n",
       "2464  http://d2dqg31qmn6qjz.cloudfront.net/#/product...       Ultrachic Scarf   \n",
       "\n",
       "        category        style  \\\n",
       "0        apparel        scarf   \n",
       "1     housewares      kitchen   \n",
       "...          ...          ...   \n",
       "2463      floral  arrangement   \n",
       "2464     apparel        scarf   \n",
       "\n",
       "                                            description aliases   price  \\\n",
       "0                           Sans pareil scarf for women    None  124.99   \n",
       "1                          A must-have for your kitchen    None   57.99   \n",
       "...                                                 ...     ...     ...   \n",
       "2463  Roses arrangement grown sustainably on our org...    None   98.99   \n",
       "2464       Ultrachic scarf for women for every occasion    None  123.99   \n",
       "\n",
       "                                                  image gender_affinity  \\\n",
       "0     http://d2dqg31qmn6qjz.cloudfront.net/images/ap...               F   \n",
       "1     http://d2dqg31qmn6qjz.cloudfront.net/images/ho...             NaN   \n",
       "...                                                 ...             ...   \n",
       "2463  http://d2dqg31qmn6qjz.cloudfront.net/images/fl...             NaN   \n",
       "2464  http://d2dqg31qmn6qjz.cloudfront.net/images/ap...               F   \n",
       "\n",
       "      current_stock featured  \n",
       "0                12      NaN  \n",
       "1                 9      NaN  \n",
       "...             ...      ...  \n",
       "2463             19      NaN  \n",
       "2464              7      NaN  \n",
       "\n",
       "[2465 rows x 13 columns]"
      ]
     },
     "execution_count": 36,
     "metadata": {},
     "output_type": "execute_result"
    }
   ],
   "source": [
    "products_service_instance_public = '3.210.183.19' # when stop the task after run IP different\n",
    "response = requests.get('http://{}/products/all'.format(products_service_instance_public),timeout=10)\n",
    "products = response.json()\n",
    "products_df = pd.DataFrame(products)\n",
    "pd.set_option('display.max_rows', 5)\n",
    "products_df\n"
   ]
  },
  {
   "cell_type": "code",
   "execution_count": null,
   "id": "487c1c9a",
   "metadata": {},
   "outputs": [],
   "source": [
    "# From ECS Clusters->Tasks->Task : 5b7951ca76384157b3a1cfc4fcf9eb10 ( retaildemostore-Services-12NF7MRGVY872-ProductsService-17UJT5E9V4T93-Service-4XUADBA0GPN-retaildemostore:2)\n",
    "# https://us-east-1.console.aws.amazon.com/ecs/home?region=us-east-1#/clusters/retaildemostore-Base-13EYSYUYZZK00-ECSCluster-1UJR76NTPQDGE/tasks/5b7951ca76384157b3a1cfc4fcf9eb10/details\n",
    "http://10.215.10.228/products/all # private (doesn't work)\n",
    "http://34.207.138.244/products/all # public"
   ]
  },
  {
   "cell_type": "markdown",
   "id": "310713e0",
   "metadata": {},
   "source": [
    "### Prepare items dataset\n",
    "When training models in Amazon Personalize, we can provide structured and unstructured metadata about our items. This data helps improve the relevance of recommendations and is particularly useful when recommending new/cold items added to your catalog.\n",
    "\n",
    "For this workshop we will be using retail domain recommenders for some of our personalization use cases as well as creating some custom solutions for other use cases. The retail domain recommenders were released at re:Invent 2021. You can read more about them in the Personalize blog (https://aws.amazon.com/blogs/machine-learning/amazon-personalize-announces-recommenders-optimized-for-retail-and-media-entertainment/).\n",
    "\n",
    "The retail domain recommenders stipulate some reserved fields/columns (https://docs.aws.amazon.com/personalize/latest/dg/ECOMMERCE-datasets-and-schemas.html) that we must conform to. For this workshop we will use the price, category, style, description, and gender_affinity fields from the Retail Demo Store catalog add map them to the PRICE, CATEGORY_L1, CATEGORY_L2, PRODUCT_DESCRIPTION, and GENDER columns expected by Personalize. Personalize will automatically apply a natural language processing (NLP) machine learning model to the product description column to extract features from the text. The product's unique identifier is required.\n",
    "\n",
    "The following cell creates a new dataframe populated with just the columns we intend to use for the items dataset and then renames the columns."
   ]
  },
  {
   "cell_type": "code",
   "execution_count": 156,
   "id": "60a87fbd",
   "metadata": {},
   "outputs": [
    {
     "data": {
      "text/html": [
       "<div>\n",
       "<style scoped>\n",
       "    .dataframe tbody tr th:only-of-type {\n",
       "        vertical-align: middle;\n",
       "    }\n",
       "\n",
       "    .dataframe tbody tr th {\n",
       "        vertical-align: top;\n",
       "    }\n",
       "\n",
       "    .dataframe thead th {\n",
       "        text-align: right;\n",
       "    }\n",
       "</style>\n",
       "<table border=\"1\" class=\"dataframe\">\n",
       "  <thead>\n",
       "    <tr style=\"text-align: right;\">\n",
       "      <th></th>\n",
       "      <th>ITEM_ID</th>\n",
       "      <th>PRICE</th>\n",
       "      <th>CATEGORY_L1</th>\n",
       "      <th>CATEGORY_L2</th>\n",
       "      <th>PRODUCT_DESCRIPTION</th>\n",
       "      <th>GENDER</th>\n",
       "    </tr>\n",
       "  </thead>\n",
       "  <tbody>\n",
       "    <tr>\n",
       "      <th>0</th>\n",
       "      <td>e1669081-8ffc-4dec-97a6-e9176d7f6651</td>\n",
       "      <td>124.99</td>\n",
       "      <td>apparel</td>\n",
       "      <td>scarf</td>\n",
       "      <td>Sans pareil scarf for women</td>\n",
       "      <td>F</td>\n",
       "    </tr>\n",
       "    <tr>\n",
       "      <th>1</th>\n",
       "      <td>cfafd627-7d6b-43a5-be05-4c7937be417d</td>\n",
       "      <td>57.99</td>\n",
       "      <td>housewares</td>\n",
       "      <td>kitchen</td>\n",
       "      <td>A must-have for your kitchen</td>\n",
       "      <td>NaN</td>\n",
       "    </tr>\n",
       "    <tr>\n",
       "      <th>2</th>\n",
       "      <td>6e6ad102-7510-4a02-b8ce-5a0cd6f431d1</td>\n",
       "      <td>133.99</td>\n",
       "      <td>apparel</td>\n",
       "      <td>jacket</td>\n",
       "      <td>This gainsboro jacket for women is perfect for...</td>\n",
       "      <td>F</td>\n",
       "    </tr>\n",
       "    <tr>\n",
       "      <th>3</th>\n",
       "      <td>49b89871-5fe7-4898-b99d-953e15fb42b2</td>\n",
       "      <td>196.99</td>\n",
       "      <td>electronics</td>\n",
       "      <td>speaker</td>\n",
       "      <td>High definition speakers to fill the house wit...</td>\n",
       "      <td>NaN</td>\n",
       "    </tr>\n",
       "    <tr>\n",
       "      <th>4</th>\n",
       "      <td>5cb18925-3a3c-4867-8f1c-46efd7eba067</td>\n",
       "      <td>9.99</td>\n",
       "      <td>footwear</td>\n",
       "      <td>sandals</td>\n",
       "      <td>This spiffy pair of sandals for woman is perfe...</td>\n",
       "      <td>F</td>\n",
       "    </tr>\n",
       "  </tbody>\n",
       "</table>\n",
       "</div>"
      ],
      "text/plain": [
       "                                ITEM_ID   PRICE  CATEGORY_L1 CATEGORY_L2  \\\n",
       "0  e1669081-8ffc-4dec-97a6-e9176d7f6651  124.99      apparel       scarf   \n",
       "1  cfafd627-7d6b-43a5-be05-4c7937be417d   57.99   housewares     kitchen   \n",
       "2  6e6ad102-7510-4a02-b8ce-5a0cd6f431d1  133.99      apparel      jacket   \n",
       "3  49b89871-5fe7-4898-b99d-953e15fb42b2  196.99  electronics     speaker   \n",
       "4  5cb18925-3a3c-4867-8f1c-46efd7eba067    9.99     footwear     sandals   \n",
       "\n",
       "                                 PRODUCT_DESCRIPTION GENDER  \n",
       "0                        Sans pareil scarf for women      F  \n",
       "1                       A must-have for your kitchen    NaN  \n",
       "2  This gainsboro jacket for women is perfect for...      F  \n",
       "3  High definition speakers to fill the house wit...    NaN  \n",
       "4  This spiffy pair of sandals for woman is perfe...      F  "
      ]
     },
     "execution_count": 156,
     "metadata": {},
     "output_type": "execute_result"
    }
   ],
   "source": [
    "products_dataset_df = products_df[['id','price','category','style','description','gender_affinity']]\n",
    "products_dataset_df = products_dataset_df.rename(columns={'id':'ITEM_ID',\n",
    "                                                          'price': 'PRICE',\n",
    "                                                          'category':'CATEGORY_L1',\n",
    "                                                          'style':'CATEGORY_L2',\n",
    "                                                          'description':'PRODUCT_DESCRIPTION',\n",
    "                                                          'gender_affinity':'GENDER'})\n",
    "products_dataset_df.head()\n"
   ]
  },
  {
   "cell_type": "markdown",
   "id": "c1bd5e5b",
   "metadata": {},
   "source": [
    "### Inspect items dataset\n",
    "Let's first get a sense for the dimensions of the item catalog dataframe. The following cell displays the number of rows and columns in the dataframe."
   ]
  },
  {
   "cell_type": "code",
   "execution_count": 157,
   "id": "08df5224",
   "metadata": {},
   "outputs": [
    {
     "data": {
      "text/plain": [
       "(2465, 6)"
      ]
     },
     "execution_count": 157,
     "metadata": {},
     "output_type": "execute_result"
    }
   ],
   "source": [
    "products_dataset_df.shape"
   ]
  },
  {
   "cell_type": "markdown",
   "id": "881d89f0",
   "metadata": {},
   "source": [
    "Now let's make sure that we don't have any missing/null values for each column. Otherwise, Personalize will return an error for columns/fields that it expects to be fully populated. Note that Personalize supports specifying fields that are not fully populated but for the Retail domain recommender fields in the items dataset, all fields for all rows must be fully populated. The following cell will display the list the count of non-null values for each field."
   ]
  },
  {
   "cell_type": "code",
   "execution_count": 158,
   "id": "e4ee82c7",
   "metadata": {},
   "outputs": [
    {
     "name": "stdout",
     "output_type": "stream",
     "text": [
      "<class 'pandas.core.frame.DataFrame'>\n",
      "RangeIndex: 2465 entries, 0 to 2464\n",
      "Data columns (total 6 columns):\n",
      " #   Column               Non-Null Count  Dtype  \n",
      "---  ------               --------------  -----  \n",
      " 0   ITEM_ID              2465 non-null   object \n",
      " 1   PRICE                2465 non-null   float64\n",
      " 2   CATEGORY_L1          2465 non-null   object \n",
      " 3   CATEGORY_L2          2465 non-null   object \n",
      " 4   PRODUCT_DESCRIPTION  2465 non-null   object \n",
      " 5   GENDER               749 non-null    object \n",
      "dtypes: float64(1), object(5)\n",
      "memory usage: 115.7+ KB\n"
     ]
    }
   ],
   "source": [
    "products_dataset_df.info()"
   ]
  },
  {
   "cell_type": "code",
   "execution_count": 159,
   "id": "b14fbc12",
   "metadata": {},
   "outputs": [],
   "source": [
    "products_dataset_df['GENDER'].fillna('Any',inplace=True)"
   ]
  },
  {
   "cell_type": "code",
   "execution_count": 160,
   "id": "4cbc3a41",
   "metadata": {},
   "outputs": [
    {
     "name": "stdout",
     "output_type": "stream",
     "text": [
      "<class 'pandas.core.frame.DataFrame'>\n",
      "RangeIndex: 2465 entries, 0 to 2464\n",
      "Data columns (total 6 columns):\n",
      " #   Column               Non-Null Count  Dtype  \n",
      "---  ------               --------------  -----  \n",
      " 0   ITEM_ID              2465 non-null   object \n",
      " 1   PRICE                2465 non-null   float64\n",
      " 2   CATEGORY_L1          2465 non-null   object \n",
      " 3   CATEGORY_L2          2465 non-null   object \n",
      " 4   PRODUCT_DESCRIPTION  2465 non-null   object \n",
      " 5   GENDER               2465 non-null   object \n",
      "dtypes: float64(1), object(5)\n",
      "memory usage: 115.7+ KB\n"
     ]
    }
   ],
   "source": [
    "products_dataset_df.info()"
   ]
  },
  {
   "cell_type": "code",
   "execution_count": 161,
   "id": "4a8e5a0a",
   "metadata": {},
   "outputs": [
    {
     "data": {
      "text/html": [
       "<div>\n",
       "<style scoped>\n",
       "    .dataframe tbody tr th:only-of-type {\n",
       "        vertical-align: middle;\n",
       "    }\n",
       "\n",
       "    .dataframe tbody tr th {\n",
       "        vertical-align: top;\n",
       "    }\n",
       "\n",
       "    .dataframe thead th {\n",
       "        text-align: right;\n",
       "    }\n",
       "</style>\n",
       "<table border=\"1\" class=\"dataframe\">\n",
       "  <thead>\n",
       "    <tr style=\"text-align: right;\">\n",
       "      <th></th>\n",
       "      <th>ITEM_ID</th>\n",
       "      <th>PRICE</th>\n",
       "      <th>CATEGORY_L1</th>\n",
       "      <th>CATEGORY_L2</th>\n",
       "      <th>PRODUCT_DESCRIPTION</th>\n",
       "      <th>GENDER</th>\n",
       "    </tr>\n",
       "  </thead>\n",
       "  <tbody>\n",
       "    <tr>\n",
       "      <th>0</th>\n",
       "      <td>e1669081-8ffc-4dec-97a6-e9176d7f6651</td>\n",
       "      <td>124.99</td>\n",
       "      <td>apparel</td>\n",
       "      <td>scarf</td>\n",
       "      <td>Sans pareil scarf for women</td>\n",
       "      <td>F</td>\n",
       "    </tr>\n",
       "    <tr>\n",
       "      <th>1</th>\n",
       "      <td>cfafd627-7d6b-43a5-be05-4c7937be417d</td>\n",
       "      <td>57.99</td>\n",
       "      <td>housewares</td>\n",
       "      <td>kitchen</td>\n",
       "      <td>A must-have for your kitchen</td>\n",
       "      <td>Any</td>\n",
       "    </tr>\n",
       "    <tr>\n",
       "      <th>2</th>\n",
       "      <td>6e6ad102-7510-4a02-b8ce-5a0cd6f431d1</td>\n",
       "      <td>133.99</td>\n",
       "      <td>apparel</td>\n",
       "      <td>jacket</td>\n",
       "      <td>This gainsboro jacket for women is perfect for...</td>\n",
       "      <td>F</td>\n",
       "    </tr>\n",
       "    <tr>\n",
       "      <th>3</th>\n",
       "      <td>49b89871-5fe7-4898-b99d-953e15fb42b2</td>\n",
       "      <td>196.99</td>\n",
       "      <td>electronics</td>\n",
       "      <td>speaker</td>\n",
       "      <td>High definition speakers to fill the house wit...</td>\n",
       "      <td>Any</td>\n",
       "    </tr>\n",
       "    <tr>\n",
       "      <th>4</th>\n",
       "      <td>5cb18925-3a3c-4867-8f1c-46efd7eba067</td>\n",
       "      <td>9.99</td>\n",
       "      <td>footwear</td>\n",
       "      <td>sandals</td>\n",
       "      <td>This spiffy pair of sandals for woman is perfe...</td>\n",
       "      <td>F</td>\n",
       "    </tr>\n",
       "  </tbody>\n",
       "</table>\n",
       "</div>"
      ],
      "text/plain": [
       "                                ITEM_ID   PRICE  CATEGORY_L1 CATEGORY_L2  \\\n",
       "0  e1669081-8ffc-4dec-97a6-e9176d7f6651  124.99      apparel       scarf   \n",
       "1  cfafd627-7d6b-43a5-be05-4c7937be417d   57.99   housewares     kitchen   \n",
       "2  6e6ad102-7510-4a02-b8ce-5a0cd6f431d1  133.99      apparel      jacket   \n",
       "3  49b89871-5fe7-4898-b99d-953e15fb42b2  196.99  electronics     speaker   \n",
       "4  5cb18925-3a3c-4867-8f1c-46efd7eba067    9.99     footwear     sandals   \n",
       "\n",
       "                                 PRODUCT_DESCRIPTION GENDER  \n",
       "0                        Sans pareil scarf for women      F  \n",
       "1                       A must-have for your kitchen    Any  \n",
       "2  This gainsboro jacket for women is perfect for...      F  \n",
       "3  High definition speakers to fill the house wit...    Any  \n",
       "4  This spiffy pair of sandals for woman is perfe...      F  "
      ]
     },
     "execution_count": 161,
     "metadata": {},
     "output_type": "execute_result"
    }
   ],
   "source": [
    "products_dataset_df.head()"
   ]
  },
  {
   "cell_type": "markdown",
   "id": "508390aa",
   "metadata": {},
   "source": [
    "Our items dataset is now ready. The following cell will save the dataframe to a local CSV file and then upload the CSV to the staging S3 bucket."
   ]
  },
  {
   "cell_type": "code",
   "execution_count": 162,
   "id": "d7a65319",
   "metadata": {},
   "outputs": [],
   "source": [
    "products_dataset_df.to_csv(items_filename, index=False)\n",
    "boto3.Session().resource('s3').Bucket(bucket).Object(items_filename).upload_file(items_filename)"
   ]
  },
  {
   "cell_type": "markdown",
   "id": "d88ac81f",
   "metadata": {},
   "source": [
    "### Get Users Service Instance\n",
    "Next, let's prepare the users dataset with information on the users pre-loaded into the Retail Detail Store.\n",
    "\n",
    "We will be pulling our User data from the Users Service (https://github.com/aws-samples/retail-demo-store/tree/master/src/users) that is deployed as part of the Retail Demo Store. To connect to this service we will use Service Discovery to discover an instance of the User Service, and then connect directly to that service instance to access our data."
   ]
  },
  {
   "cell_type": "code",
   "execution_count": 43,
   "id": "614f988a",
   "metadata": {},
   "outputs": [
    {
     "name": "stdout",
     "output_type": "stream",
     "text": [
      "{'Instances': [{'Attributes': {'AVAILABILITY_ZONE': 'us-east-1b',\n",
      "                               'AWS_INIT_HEALTH_STATUS': 'HEALTHY',\n",
      "                               'AWS_INSTANCE_IPV4': '10.215.20.178',\n",
      "                               'AWS_INSTANCE_PORT': '80',\n",
      "                               'ECS_CLUSTER_NAME': 'retaildemostore-Base-13EYSYUYZZK00-ECSCluster-1UJR76NTPQDGE',\n",
      "                               'ECS_SERVICE_NAME': 'retaildemostore-Services-12NF7MRGVY872-UsersService-HKOQX1H52UX5-Service-TDFA3FFSDWZJ-FargateService-68DLpCOYHwQe',\n",
      "                               'ECS_TASK_DEFINITION_FAMILY': 'retaildemostore-Services-12NF7MRGVY872-UsersService-HKOQX1H52UX5-Service-TDFA3FFSDWZJ-retaildemostore',\n",
      "                               'REGION': 'us-east-1'},\n",
      "                'HealthStatus': 'HEALTHY',\n",
      "                'InstanceId': 'e58cc25f0ca54fdba47c857f1e912a2d',\n",
      "                'NamespaceName': 'retaildemostore.local',\n",
      "                'ServiceName': 'users'}],\n",
      " 'ResponseMetadata': {'HTTPHeaders': {'connection': 'keep-alive',\n",
      "                                      'content-length': '666',\n",
      "                                      'content-type': 'application/x-amz-json-1.1',\n",
      "                                      'date': 'Fri, 09 Sep 2022 10:38:37 GMT',\n",
      "                                      'strict-transport-security': 'max-age=31536000; '\n",
      "                                                                   'includeSubDomains',\n",
      "                                      'x-amzn-requestid': '2034256a-bdd1-4d24-8fd3-ec00749565b5',\n",
      "                                      'x-content-type-options': 'nosniff'},\n",
      "                      'HTTPStatusCode': 200,\n",
      "                      'RequestId': '2034256a-bdd1-4d24-8fd3-ec00749565b5',\n",
      "                      'RetryAttempts': 0}}\n",
      "users_service_instance: 10.215.20.178\n"
     ]
    }
   ],
   "source": [
    "response = servicediscovery.discover_instances(\n",
    "    NamespaceName='retaildemostore.local',\n",
    "    ServiceName='users',\n",
    "    MaxResults=1,\n",
    "    HealthStatus='HEALTHY'\n",
    ")\n",
    "\n",
    "pprint.pprint(response)\n",
    "\n",
    "assert len(response['Instances']) > 0, 'Users service instance not found; check ECS to ensure it launched cleanly'\n",
    "\n",
    "users_service_instance = response['Instances'][0]['Attributes']['AWS_INSTANCE_IPV4']\n",
    "print(f'users_service_instance: {users_service_instance}')\n"
   ]
  },
  {
   "cell_type": "code",
   "execution_count": null,
   "id": "abac79c7",
   "metadata": {},
   "outputs": [],
   "source": [
    "# users_service_instance contains private IP, it doesn't work, we need public\n",
    "# https://us-east-1.console.aws.amazon.com/ecs/home?region=us-east-1#/clusters/retaildemostore-Base-13EYSYUYZZK00-ECSCluster-1UJR76NTPQDGE/tasks/62afa216fe0f46518b41a874a474c701/details\n",
    "# Private IP 10.215.20.178\n",
    "# Public IP 3.237.180.163 # after stop/start IP changes"
   ]
  },
  {
   "cell_type": "markdown",
   "id": "bdfeacb1",
   "metadata": {},
   "source": [
    "### Download and Explore the Users Dataset\n",
    "Similar to the Products microservice above, we'll query the Users microservice to retrieve information on all pre-loaded users. Along the way we'll remove all users without a gender or persona (i.e. users added to the storefront after deployment)."
   ]
  },
  {
   "cell_type": "code",
   "execution_count": 44,
   "id": "ab4535e4",
   "metadata": {},
   "outputs": [
    {
     "data": {
      "text/html": [
       "<div>\n",
       "<style scoped>\n",
       "    .dataframe tbody tr th:only-of-type {\n",
       "        vertical-align: middle;\n",
       "    }\n",
       "\n",
       "    .dataframe tbody tr th {\n",
       "        vertical-align: top;\n",
       "    }\n",
       "\n",
       "    .dataframe thead th {\n",
       "        text-align: right;\n",
       "    }\n",
       "</style>\n",
       "<table border=\"1\" class=\"dataframe\">\n",
       "  <thead>\n",
       "    <tr style=\"text-align: right;\">\n",
       "      <th></th>\n",
       "      <th>id</th>\n",
       "      <th>username</th>\n",
       "      <th>email</th>\n",
       "      <th>first_name</th>\n",
       "      <th>last_name</th>\n",
       "      <th>addresses</th>\n",
       "      <th>age</th>\n",
       "      <th>gender</th>\n",
       "      <th>persona</th>\n",
       "      <th>discount_persona</th>\n",
       "      <th>selectable_user</th>\n",
       "    </tr>\n",
       "  </thead>\n",
       "  <tbody>\n",
       "    <tr>\n",
       "      <th>0</th>\n",
       "      <td>1</td>\n",
       "      <td>user1</td>\n",
       "      <td>mark.johnson@example.com</td>\n",
       "      <td>Mark</td>\n",
       "      <td>Johnson</td>\n",
       "      <td>[{'first_name': 'Mark', 'last_name': 'Johnson'...</td>\n",
       "      <td>31</td>\n",
       "      <td>M</td>\n",
       "      <td>furniture_homedecor_housewares</td>\n",
       "      <td>lower_priced_products</td>\n",
       "      <td>True</td>\n",
       "    </tr>\n",
       "    <tr>\n",
       "      <th>1</th>\n",
       "      <td>2</td>\n",
       "      <td>user2</td>\n",
       "      <td>kristen.calderon@example.com</td>\n",
       "      <td>Kristen</td>\n",
       "      <td>Calderon</td>\n",
       "      <td>[{'first_name': 'Kristen', 'last_name': 'Calde...</td>\n",
       "      <td>58</td>\n",
       "      <td>F</td>\n",
       "      <td>tools_housewares_apparel</td>\n",
       "      <td>discount_indifferent</td>\n",
       "      <td>True</td>\n",
       "    </tr>\n",
       "    <tr>\n",
       "      <th>2</th>\n",
       "      <td>3</td>\n",
       "      <td>user3</td>\n",
       "      <td>joseph.maddox@example.com</td>\n",
       "      <td>Joseph</td>\n",
       "      <td>Maddox</td>\n",
       "      <td>[{'first_name': 'Joseph', 'last_name': 'Maddox...</td>\n",
       "      <td>43</td>\n",
       "      <td>M</td>\n",
       "      <td>floral_beauty_jewelry</td>\n",
       "      <td>lower_priced_products</td>\n",
       "      <td>True</td>\n",
       "    </tr>\n",
       "    <tr>\n",
       "      <th>3</th>\n",
       "      <td>4</td>\n",
       "      <td>user4</td>\n",
       "      <td>jay.lewis@example.com</td>\n",
       "      <td>Jay</td>\n",
       "      <td>Lewis</td>\n",
       "      <td>[{'first_name': 'Jay', 'last_name': 'Lewis', '...</td>\n",
       "      <td>38</td>\n",
       "      <td>M</td>\n",
       "      <td>books_apparel_homedecor</td>\n",
       "      <td>discount_indifferent</td>\n",
       "      <td>True</td>\n",
       "    </tr>\n",
       "    <tr>\n",
       "      <th>4</th>\n",
       "      <td>5</td>\n",
       "      <td>user5</td>\n",
       "      <td>anthony.valdez@example.com</td>\n",
       "      <td>Anthony</td>\n",
       "      <td>Valdez</td>\n",
       "      <td>[{'first_name': 'Anthony', 'last_name': 'Valde...</td>\n",
       "      <td>24</td>\n",
       "      <td>M</td>\n",
       "      <td>instruments_books_electronics</td>\n",
       "      <td>discount_indifferent</td>\n",
       "      <td>True</td>\n",
       "    </tr>\n",
       "  </tbody>\n",
       "</table>\n",
       "</div>"
      ],
      "text/plain": [
       "  id username                         email first_name last_name  \\\n",
       "0  1    user1      mark.johnson@example.com       Mark   Johnson   \n",
       "1  2    user2  kristen.calderon@example.com    Kristen  Calderon   \n",
       "2  3    user3     joseph.maddox@example.com     Joseph    Maddox   \n",
       "3  4    user4         jay.lewis@example.com        Jay     Lewis   \n",
       "4  5    user5    anthony.valdez@example.com    Anthony    Valdez   \n",
       "\n",
       "                                           addresses  age gender  \\\n",
       "0  [{'first_name': 'Mark', 'last_name': 'Johnson'...   31      M   \n",
       "1  [{'first_name': 'Kristen', 'last_name': 'Calde...   58      F   \n",
       "2  [{'first_name': 'Joseph', 'last_name': 'Maddox...   43      M   \n",
       "3  [{'first_name': 'Jay', 'last_name': 'Lewis', '...   38      M   \n",
       "4  [{'first_name': 'Anthony', 'last_name': 'Valde...   24      M   \n",
       "\n",
       "                          persona       discount_persona  selectable_user  \n",
       "0  furniture_homedecor_housewares  lower_priced_products             True  \n",
       "1        tools_housewares_apparel   discount_indifferent             True  \n",
       "2           floral_beauty_jewelry  lower_priced_products             True  \n",
       "3         books_apparel_homedecor   discount_indifferent             True  \n",
       "4   instruments_books_electronics   discount_indifferent             True  "
      ]
     },
     "execution_count": 44,
     "metadata": {},
     "output_type": "execute_result"
    }
   ],
   "source": [
    "users_service_instance_public = '3.237.180.163'\n",
    "response = requests.get('http://{}/users/all/?count=10000'.format(users_service_instance_public))\n",
    "users = response.json()\n",
    "users_df = pd.DataFrame(users)\n",
    "users_df.head()\n"
   ]
  },
  {
   "cell_type": "code",
   "execution_count": 45,
   "id": "831e3544",
   "metadata": {},
   "outputs": [
    {
     "name": "stdout",
     "output_type": "stream",
     "text": [
      "<class 'pandas.core.frame.DataFrame'>\n",
      "RangeIndex: 5250 entries, 0 to 5249\n",
      "Data columns (total 11 columns):\n",
      " #   Column            Non-Null Count  Dtype \n",
      "---  ------            --------------  ----- \n",
      " 0   id                5250 non-null   object\n",
      " 1   username          5250 non-null   object\n",
      " 2   email             5250 non-null   object\n",
      " 3   first_name        5250 non-null   object\n",
      " 4   last_name         5250 non-null   object\n",
      " 5   addresses         5250 non-null   object\n",
      " 6   age               5250 non-null   int64 \n",
      " 7   gender            5250 non-null   object\n",
      " 8   persona           5250 non-null   object\n",
      " 9   discount_persona  5250 non-null   object\n",
      " 10  selectable_user   5250 non-null   bool  \n",
      "dtypes: bool(1), int64(1), object(9)\n",
      "memory usage: 415.4+ KB\n"
     ]
    }
   ],
   "source": [
    "users_df.info()"
   ]
  },
  {
   "cell_type": "code",
   "execution_count": 50,
   "id": "ae3e4454",
   "metadata": {},
   "outputs": [],
   "source": [
    "#users_df.nunique()"
   ]
  },
  {
   "cell_type": "code",
   "execution_count": 46,
   "id": "8e7904a5",
   "metadata": {},
   "outputs": [
    {
     "data": {
      "text/html": [
       "<div>\n",
       "<style scoped>\n",
       "    .dataframe tbody tr th:only-of-type {\n",
       "        vertical-align: middle;\n",
       "    }\n",
       "\n",
       "    .dataframe tbody tr th {\n",
       "        vertical-align: top;\n",
       "    }\n",
       "\n",
       "    .dataframe thead th {\n",
       "        text-align: right;\n",
       "    }\n",
       "</style>\n",
       "<table border=\"1\" class=\"dataframe\">\n",
       "  <thead>\n",
       "    <tr style=\"text-align: right;\">\n",
       "      <th></th>\n",
       "      <th>id</th>\n",
       "      <th>username</th>\n",
       "      <th>email</th>\n",
       "      <th>first_name</th>\n",
       "      <th>last_name</th>\n",
       "      <th>addresses</th>\n",
       "      <th>age</th>\n",
       "      <th>gender</th>\n",
       "      <th>persona</th>\n",
       "      <th>discount_persona</th>\n",
       "      <th>selectable_user</th>\n",
       "    </tr>\n",
       "  </thead>\n",
       "  <tbody>\n",
       "    <tr>\n",
       "      <th>3747</th>\n",
       "      <td>3748</td>\n",
       "      <td>user3748</td>\n",
       "      <td>hannah.underwood@example.com</td>\n",
       "      <td>Hannah</td>\n",
       "      <td>Underwood</td>\n",
       "      <td>[{'first_name': 'Hannah', 'last_name': 'Underw...</td>\n",
       "      <td>32</td>\n",
       "      <td>F</td>\n",
       "      <td>floral_beauty_jewelry</td>\n",
       "      <td>discount_indifferent</td>\n",
       "      <td>True</td>\n",
       "    </tr>\n",
       "  </tbody>\n",
       "</table>\n",
       "</div>"
      ],
      "text/plain": [
       "        id  username                         email first_name  last_name  \\\n",
       "3747  3748  user3748  hannah.underwood@example.com     Hannah  Underwood   \n",
       "\n",
       "                                              addresses  age gender  \\\n",
       "3747  [{'first_name': 'Hannah', 'last_name': 'Underw...   32      F   \n",
       "\n",
       "                    persona      discount_persona  selectable_user  \n",
       "3747  floral_beauty_jewelry  discount_indifferent             True  "
      ]
     },
     "execution_count": 46,
     "metadata": {},
     "output_type": "execute_result"
    }
   ],
   "source": [
    "# my test userId = 3748\n",
    "users_df[users_df['username'] == 'user3748']"
   ]
  },
  {
   "cell_type": "code",
   "execution_count": 47,
   "id": "5485cf90",
   "metadata": {},
   "outputs": [
    {
     "data": {
      "text/html": [
       "<div>\n",
       "<style scoped>\n",
       "    .dataframe tbody tr th:only-of-type {\n",
       "        vertical-align: middle;\n",
       "    }\n",
       "\n",
       "    .dataframe tbody tr th {\n",
       "        vertical-align: top;\n",
       "    }\n",
       "\n",
       "    .dataframe thead th {\n",
       "        text-align: right;\n",
       "    }\n",
       "</style>\n",
       "<table border=\"1\" class=\"dataframe\">\n",
       "  <thead>\n",
       "    <tr style=\"text-align: right;\">\n",
       "      <th></th>\n",
       "      <th>id</th>\n",
       "      <th>username</th>\n",
       "      <th>email</th>\n",
       "      <th>first_name</th>\n",
       "      <th>last_name</th>\n",
       "      <th>addresses</th>\n",
       "      <th>age</th>\n",
       "      <th>gender</th>\n",
       "      <th>persona</th>\n",
       "      <th>discount_persona</th>\n",
       "      <th>selectable_user</th>\n",
       "    </tr>\n",
       "  </thead>\n",
       "  <tbody>\n",
       "  </tbody>\n",
       "</table>\n",
       "</div>"
      ],
      "text/plain": [
       "Empty DataFrame\n",
       "Columns: [id, username, email, first_name, last_name, addresses, age, gender, persona, discount_persona, selectable_user]\n",
       "Index: []"
      ]
     },
     "execution_count": 47,
     "metadata": {},
     "output_type": "execute_result"
    }
   ],
   "source": [
    "# check users which we are going to remove in the next block\n",
    "users_df[(users_df['persona'].str.strip().astype(bool) == False) | (users_df['gender'].str.strip().astype(bool) == False)]\n"
   ]
  },
  {
   "cell_type": "code",
   "execution_count": 48,
   "id": "8328f5c7",
   "metadata": {},
   "outputs": [
    {
     "name": "stdout",
     "output_type": "stream",
     "text": [
      "(5250, 11)\n",
      "(5250, 11)\n"
     ]
    },
    {
     "data": {
      "text/html": [
       "<div>\n",
       "<style scoped>\n",
       "    .dataframe tbody tr th:only-of-type {\n",
       "        vertical-align: middle;\n",
       "    }\n",
       "\n",
       "    .dataframe tbody tr th {\n",
       "        vertical-align: top;\n",
       "    }\n",
       "\n",
       "    .dataframe thead th {\n",
       "        text-align: right;\n",
       "    }\n",
       "</style>\n",
       "<table border=\"1\" class=\"dataframe\">\n",
       "  <thead>\n",
       "    <tr style=\"text-align: right;\">\n",
       "      <th></th>\n",
       "      <th>id</th>\n",
       "      <th>username</th>\n",
       "      <th>email</th>\n",
       "      <th>first_name</th>\n",
       "      <th>last_name</th>\n",
       "      <th>addresses</th>\n",
       "      <th>age</th>\n",
       "      <th>gender</th>\n",
       "      <th>persona</th>\n",
       "      <th>discount_persona</th>\n",
       "      <th>selectable_user</th>\n",
       "    </tr>\n",
       "  </thead>\n",
       "  <tbody>\n",
       "    <tr>\n",
       "      <th>0</th>\n",
       "      <td>1</td>\n",
       "      <td>user1</td>\n",
       "      <td>mark.johnson@example.com</td>\n",
       "      <td>Mark</td>\n",
       "      <td>Johnson</td>\n",
       "      <td>[{'first_name': 'Mark', 'last_name': 'Johnson'...</td>\n",
       "      <td>31</td>\n",
       "      <td>M</td>\n",
       "      <td>furniture_homedecor_housewares</td>\n",
       "      <td>lower_priced_products</td>\n",
       "      <td>True</td>\n",
       "    </tr>\n",
       "    <tr>\n",
       "      <th>1</th>\n",
       "      <td>2</td>\n",
       "      <td>user2</td>\n",
       "      <td>kristen.calderon@example.com</td>\n",
       "      <td>Kristen</td>\n",
       "      <td>Calderon</td>\n",
       "      <td>[{'first_name': 'Kristen', 'last_name': 'Calde...</td>\n",
       "      <td>58</td>\n",
       "      <td>F</td>\n",
       "      <td>tools_housewares_apparel</td>\n",
       "      <td>discount_indifferent</td>\n",
       "      <td>True</td>\n",
       "    </tr>\n",
       "    <tr>\n",
       "      <th>...</th>\n",
       "      <td>...</td>\n",
       "      <td>...</td>\n",
       "      <td>...</td>\n",
       "      <td>...</td>\n",
       "      <td>...</td>\n",
       "      <td>...</td>\n",
       "      <td>...</td>\n",
       "      <td>...</td>\n",
       "      <td>...</td>\n",
       "      <td>...</td>\n",
       "      <td>...</td>\n",
       "    </tr>\n",
       "    <tr>\n",
       "      <th>5248</th>\n",
       "      <td>5249</td>\n",
       "      <td>user5249</td>\n",
       "      <td>vincent.wells@example.com</td>\n",
       "      <td>Vincent</td>\n",
       "      <td>Wells</td>\n",
       "      <td>[{'first_name': 'Vincent', 'last_name': 'Wells...</td>\n",
       "      <td>33</td>\n",
       "      <td>M</td>\n",
       "      <td>housewares_floral_seasonal</td>\n",
       "      <td>discount_indifferent</td>\n",
       "      <td>True</td>\n",
       "    </tr>\n",
       "    <tr>\n",
       "      <th>5249</th>\n",
       "      <td>5250</td>\n",
       "      <td>user5250</td>\n",
       "      <td>monica.garcia@example.com</td>\n",
       "      <td>Monica</td>\n",
       "      <td>Garcia</td>\n",
       "      <td>[{'first_name': 'Monica', 'last_name': 'Garcia...</td>\n",
       "      <td>34</td>\n",
       "      <td>F</td>\n",
       "      <td>housewares_tools_beauty</td>\n",
       "      <td>discount_indifferent</td>\n",
       "      <td>True</td>\n",
       "    </tr>\n",
       "  </tbody>\n",
       "</table>\n",
       "<p>5250 rows × 11 columns</p>\n",
       "</div>"
      ],
      "text/plain": [
       "        id  username                         email first_name last_name  \\\n",
       "0        1     user1      mark.johnson@example.com       Mark   Johnson   \n",
       "1        2     user2  kristen.calderon@example.com    Kristen  Calderon   \n",
       "...    ...       ...                           ...        ...       ...   \n",
       "5248  5249  user5249     vincent.wells@example.com    Vincent     Wells   \n",
       "5249  5250  user5250     monica.garcia@example.com     Monica    Garcia   \n",
       "\n",
       "                                              addresses  age gender  \\\n",
       "0     [{'first_name': 'Mark', 'last_name': 'Johnson'...   31      M   \n",
       "1     [{'first_name': 'Kristen', 'last_name': 'Calde...   58      F   \n",
       "...                                                 ...  ...    ...   \n",
       "5248  [{'first_name': 'Vincent', 'last_name': 'Wells...   33      M   \n",
       "5249  [{'first_name': 'Monica', 'last_name': 'Garcia...   34      F   \n",
       "\n",
       "                             persona       discount_persona  selectable_user  \n",
       "0     furniture_homedecor_housewares  lower_priced_products             True  \n",
       "1           tools_housewares_apparel   discount_indifferent             True  \n",
       "...                              ...                    ...              ...  \n",
       "5248      housewares_floral_seasonal   discount_indifferent             True  \n",
       "5249         housewares_tools_beauty   discount_indifferent             True  \n",
       "\n",
       "[5250 rows x 11 columns]"
      ]
     },
     "execution_count": 48,
     "metadata": {},
     "output_type": "execute_result"
    }
   ],
   "source": [
    "# Remove any users without a persona or gender (i.e. possibly created in web UI)\n",
    "print(users_df.shape)\n",
    "users_df = users_df[(users_df['persona'].str.strip().astype(bool)) | (users_df['gender'])]\n",
    "print(users_df.shape)\n",
    "pd.set_option('display.max_rows',5)\n",
    "users_df"
   ]
  },
  {
   "cell_type": "markdown",
   "id": "683ddad9",
   "metadata": {},
   "source": [
    "### Prepare and Upload Data\n",
    "Similar to the items dataset we created above, we can provide metadata on our users when training models in Personalize. For this workshop we will include each user's age and gender. Unlike the columns in the items dataset, there are no column naming requirements for the users dataset (https://docs.aws.amazon.com/personalize/latest/dg/ECOMMERCE-users-dataset.html). As before, we will use uppercase column names to match the Personalize convention, save the data as a CSV, and upload to our S3 bucket."
   ]
  },
  {
   "cell_type": "code",
   "execution_count": 52,
   "id": "a698cbc7",
   "metadata": {},
   "outputs": [],
   "source": [
    "users_dataset_df = users_df[['id','age','gender']] # if we don't use persona column why we deleted rows where they are absent?\n",
    "users_dataset_df = users_dataset_df.rename(columns = {'id':'USER_ID','age':'AGE','gender':'GENDER'})\n",
    "\n",
    "users_dataset_df.to_csv(users_filename, index=False)\n",
    "boto3.Session().resource('s3').Bucket(bucket).Object(users_filename).upload_file(users_filename)\n",
    "\n"
   ]
  },
  {
   "cell_type": "markdown",
   "id": "e0c9f90f",
   "metadata": {},
   "source": [
    "### Create User-Items Interactions Dataset\n",
    "To mimic user behavior, we will be using a pre-generted dataset that represents user interactions with items. To make the interactions more realistic, a pre-defined shopper persona is used for each user to generate event types for products matching that persona. The interactions dataset contains for viewing products, adding products to a cart, checking out, and completing orders. The effect of discounts on interactions depends on a separate \"discount persona\" stored against the user.\n",
    "\n",
    "For more information about how interactions dataset was generated, take a look at the script file at generate_interactions_personalize.py.\n",
    "\n",
    "Don't worry about understanding the nuances of the generator script. In a production workload you'd be using actual user interactions from your clickstream analytics and order managemement systems rather than generating them as we've done for this demo.\n",
    "\n",
    "First, let's download the pre-generated interactions CSV from the S3 bucket used to deploy the Retail Demo Store project in your account."
   ]
  },
  {
   "cell_type": "code",
   "execution_count": 4,
   "id": "ac88761f",
   "metadata": {},
   "outputs": [
    {
     "ename": "NameError",
     "evalue": "name 'notebook_util' is not defined",
     "output_type": "error",
     "traceback": [
      "\u001b[0;31m---------------------------------------------------------------------------\u001b[0m",
      "\u001b[0;31mNameError\u001b[0m                                 Traceback (most recent call last)",
      "\u001b[0;32m<ipython-input-4-abdb748f5ea5>\u001b[0m in \u001b[0;36m<module>\u001b[0;34m\u001b[0m\n\u001b[1;32m      2\u001b[0m \u001b[0;34m\u001b[0m\u001b[0m\n\u001b[1;32m      3\u001b[0m \u001b[0;31m# can't install notebook_util, no info anywhere\u001b[0m\u001b[0;34m\u001b[0m\u001b[0;34m\u001b[0m\u001b[0;34m\u001b[0m\u001b[0m\n\u001b[0;32m----> 4\u001b[0;31m \u001b[0mresource_bucket\u001b[0m\u001b[0;34m,\u001b[0m \u001b[0mresource_path\u001b[0m \u001b[0;34m=\u001b[0m \u001b[0mnotebook_util\u001b[0m\u001b[0;34m.\u001b[0m\u001b[0mlookup_resource_bucket_and_path\u001b[0m\u001b[0;34m(\u001b[0m\u001b[0;34m)\u001b[0m\u001b[0;34m\u001b[0m\u001b[0;34m\u001b[0m\u001b[0m\n\u001b[0m\u001b[1;32m      5\u001b[0m \u001b[0;32massert\u001b[0m \u001b[0mresource_bucket\u001b[0m \u001b[0;32mis\u001b[0m \u001b[0;32mnot\u001b[0m \u001b[0;32mNone\u001b[0m\u001b[0;34m,\u001b[0m \u001b[0;34m'Resource bucket could not be determined from notebook instance tags'\u001b[0m\u001b[0;34m\u001b[0m\u001b[0;34m\u001b[0m\u001b[0m\n\u001b[1;32m      6\u001b[0m \u001b[0mprint\u001b[0m\u001b[0;34m(\u001b[0m\u001b[0;34mf'Resource bucket: {resource_bucket}'\u001b[0m\u001b[0;34m)\u001b[0m\u001b[0;34m\u001b[0m\u001b[0;34m\u001b[0m\u001b[0m\n",
      "\u001b[0;31mNameError\u001b[0m: name 'notebook_util' is not defined"
     ]
    }
   ],
   "source": [
    "# the following doesn't work for me: can't install notebook_util, no info anywhere\n",
    "# generated interaction.csv manually with '(AWS) Retail Demo Store - Generate Users Interactions Dataset'\n",
    "\n",
    "s3 = boto3.resource('s3')\n",
    "\n",
    "resource_bucket, resource_path = notebook_util.lookup_resource_bucket_and_path()\n",
    "assert resource_bucket is not None, 'Resource bucket could not be determined from notebook instance tags'\n",
    "print(f'Resource bucket: {resource_bucket}')\n",
    "print(f'Resource path: {resource_path}')\n",
    "\n",
    "print('Downloading pre-generated interactions.csv')\n",
    "s3.Bucket(resource_bucket).download_file(resource_path + 'csvs/interactions.csv', interactions_filename)\n"
   ]
  },
  {
   "cell_type": "markdown",
   "id": "0671c4b7",
   "metadata": {},
   "source": [
    "### Open and Explore the Simulated Interactions Dataset\n",
    "Let's take a closer look at the generated interactions file. First let us see a few lines of the raw CSV data:"
   ]
  },
  {
   "cell_type": "code",
   "execution_count": 7,
   "id": "9165bc84",
   "metadata": {},
   "outputs": [
    {
     "name": "stdout",
     "output_type": "stream",
     "text": [
      "head: $interactions_filename: No such file or directory\r\n"
     ]
    }
   ],
   "source": [
    "!head -n 5 $interactions_filename"
   ]
  },
  {
   "cell_type": "markdown",
   "id": "082af976",
   "metadata": {},
   "source": [
    "Now let us load it as a Pandas dataframe. Note:\n",
    "\n",
    "An EVENT_TYPE column which can be used to train different Personalize campaigns and also to filter on recommendations.\n",
    "The custom DISCOUNT column which is a contextual metadata field, that Personalize reranking campaign and user personalization recommenders can take into account to predict on the best next product based the user's propensity to interact with discount products."
   ]
  },
  {
   "cell_type": "code",
   "execution_count": 168,
   "id": "0cd2608b",
   "metadata": {},
   "outputs": [
    {
     "data": {
      "text/html": [
       "<div>\n",
       "<style scoped>\n",
       "    .dataframe tbody tr th:only-of-type {\n",
       "        vertical-align: middle;\n",
       "    }\n",
       "\n",
       "    .dataframe tbody tr th {\n",
       "        vertical-align: top;\n",
       "    }\n",
       "\n",
       "    .dataframe thead th {\n",
       "        text-align: right;\n",
       "    }\n",
       "</style>\n",
       "<table border=\"1\" class=\"dataframe\">\n",
       "  <thead>\n",
       "    <tr style=\"text-align: right;\">\n",
       "      <th></th>\n",
       "      <th>ITEM_ID</th>\n",
       "      <th>USER_ID</th>\n",
       "      <th>EVENT_TYPE</th>\n",
       "      <th>TIMESTAMP</th>\n",
       "      <th>DISCOUNT</th>\n",
       "    </tr>\n",
       "  </thead>\n",
       "  <tbody>\n",
       "    <tr>\n",
       "      <th>0</th>\n",
       "      <td>b93b7b15-9bb3-407c-b80b-517e7c45e090</td>\n",
       "      <td>3156</td>\n",
       "      <td>View</td>\n",
       "      <td>1654034407</td>\n",
       "      <td>No</td>\n",
       "    </tr>\n",
       "    <tr>\n",
       "      <th>1</th>\n",
       "      <td>b93b7b15-9bb3-407c-b80b-517e7c45e090</td>\n",
       "      <td>3156</td>\n",
       "      <td>View</td>\n",
       "      <td>1654034412</td>\n",
       "      <td>No</td>\n",
       "    </tr>\n",
       "    <tr>\n",
       "      <th>2</th>\n",
       "      <td>3946f4c8-1b5b-4161-b794-70b33affb671</td>\n",
       "      <td>2122</td>\n",
       "      <td>View</td>\n",
       "      <td>1654034430</td>\n",
       "      <td>No</td>\n",
       "    </tr>\n",
       "    <tr>\n",
       "      <th>3</th>\n",
       "      <td>3946f4c8-1b5b-4161-b794-70b33affb671</td>\n",
       "      <td>2122</td>\n",
       "      <td>View</td>\n",
       "      <td>1654034440</td>\n",
       "      <td>No</td>\n",
       "    </tr>\n",
       "    <tr>\n",
       "      <th>4</th>\n",
       "      <td>e9daa7cd-8230-4544-9f07-86fa84d7c3c1</td>\n",
       "      <td>2485</td>\n",
       "      <td>View</td>\n",
       "      <td>1654034450</td>\n",
       "      <td>No</td>\n",
       "    </tr>\n",
       "  </tbody>\n",
       "</table>\n",
       "</div>"
      ],
      "text/plain": [
       "                                ITEM_ID USER_ID EVENT_TYPE   TIMESTAMP  \\\n",
       "0  b93b7b15-9bb3-407c-b80b-517e7c45e090    3156       View  1654034407   \n",
       "1  b93b7b15-9bb3-407c-b80b-517e7c45e090    3156       View  1654034412   \n",
       "2  3946f4c8-1b5b-4161-b794-70b33affb671    2122       View  1654034430   \n",
       "3  3946f4c8-1b5b-4161-b794-70b33affb671    2122       View  1654034440   \n",
       "4  e9daa7cd-8230-4544-9f07-86fa84d7c3c1    2485       View  1654034450   \n",
       "\n",
       "  DISCOUNT  \n",
       "0       No  \n",
       "1       No  \n",
       "2       No  \n",
       "3       No  \n",
       "4       No  "
      ]
     },
     "execution_count": 168,
     "metadata": {},
     "output_type": "execute_result"
    }
   ],
   "source": [
    "interactions_filename = '/Users/Andrew/Desktop/(AWS) Retail Demo Store/interactions.csv'\n",
    "interactions_df = pd.read_csv(interactions_filename)\n",
    "interactions_df = interactions_df.astype({'ITEM_ID':str,'USER_ID':str,'EVENT_TYPE':str,'TIMESTAMP':int,'DISCOUNT':str})\n",
    "interactions_df.head()\n"
   ]
  },
  {
   "cell_type": "code",
   "execution_count": 169,
   "id": "4c0b4d86",
   "metadata": {},
   "outputs": [
    {
     "name": "stdout",
     "output_type": "stream",
     "text": [
      "<class 'pandas.core.frame.DataFrame'>\n",
      "RangeIndex: 675004 entries, 0 to 675003\n",
      "Data columns (total 5 columns):\n",
      " #   Column      Non-Null Count   Dtype \n",
      "---  ------      --------------   ----- \n",
      " 0   ITEM_ID     675004 non-null  object\n",
      " 1   USER_ID     675004 non-null  object\n",
      " 2   EVENT_TYPE  675004 non-null  object\n",
      " 3   TIMESTAMP   675004 non-null  int64 \n",
      " 4   DISCOUNT    675004 non-null  object\n",
      "dtypes: int64(1), object(4)\n",
      "memory usage: 25.7+ MB\n"
     ]
    }
   ],
   "source": [
    "interactions_df.info()"
   ]
  },
  {
   "cell_type": "code",
   "execution_count": 170,
   "id": "95f40511",
   "metadata": {},
   "outputs": [
    {
     "data": {
      "text/plain": [
       "ITEM_ID       object\n",
       "USER_ID       object\n",
       "EVENT_TYPE    object\n",
       "TIMESTAMP      int64\n",
       "DISCOUNT      object\n",
       "dtype: object"
      ]
     },
     "execution_count": 170,
     "metadata": {},
     "output_type": "execute_result"
    }
   ],
   "source": [
    "interactions_df.dtypes"
   ]
  },
  {
   "cell_type": "code",
   "execution_count": 171,
   "id": "045271a0",
   "metadata": {},
   "outputs": [
    {
     "data": {
      "text/html": [
       "<div>\n",
       "<style scoped>\n",
       "    .dataframe tbody tr th:only-of-type {\n",
       "        vertical-align: middle;\n",
       "    }\n",
       "\n",
       "    .dataframe tbody tr th {\n",
       "        vertical-align: top;\n",
       "    }\n",
       "\n",
       "    .dataframe thead th {\n",
       "        text-align: right;\n",
       "    }\n",
       "</style>\n",
       "<table border=\"1\" class=\"dataframe\">\n",
       "  <thead>\n",
       "    <tr style=\"text-align: right;\">\n",
       "      <th></th>\n",
       "      <th>TIMESTAMP</th>\n",
       "    </tr>\n",
       "    <tr>\n",
       "      <th>EVENT_TYPE</th>\n",
       "      <th></th>\n",
       "    </tr>\n",
       "  </thead>\n",
       "  <tbody>\n",
       "    <tr>\n",
       "      <th>View</th>\n",
       "      <td>581900</td>\n",
       "    </tr>\n",
       "    <tr>\n",
       "      <th>AddToCart</th>\n",
       "      <td>46552</td>\n",
       "    </tr>\n",
       "    <tr>\n",
       "      <th>ViewCart</th>\n",
       "      <td>29095</td>\n",
       "    </tr>\n",
       "    <tr>\n",
       "      <th>StartCheckout</th>\n",
       "      <td>11638</td>\n",
       "    </tr>\n",
       "    <tr>\n",
       "      <th>Purchase</th>\n",
       "      <td>5819</td>\n",
       "    </tr>\n",
       "  </tbody>\n",
       "</table>\n",
       "</div>"
      ],
      "text/plain": [
       "               TIMESTAMP\n",
       "EVENT_TYPE              \n",
       "View              581900\n",
       "AddToCart          46552\n",
       "ViewCart           29095\n",
       "StartCheckout      11638\n",
       "Purchase            5819"
      ]
     },
     "execution_count": 171,
     "metadata": {},
     "output_type": "execute_result"
    }
   ],
   "source": [
    "interactions_df.groupby(by='EVENT_TYPE').agg({'TIMESTAMP':'count'}).sort_values(by='TIMESTAMP',ascending=False)"
   ]
  },
  {
   "cell_type": "markdown",
   "id": "9146e9ee",
   "metadata": {},
   "source": [
    "Chart the counts of each EVENT_TYPE generated for the interactions dataset. We're simulating a site where visitors heavily view/browse products and to a lesser degree add products to their cart and checkout."
   ]
  },
  {
   "cell_type": "code",
   "execution_count": 172,
   "id": "7a2521a8",
   "metadata": {},
   "outputs": [
    {
     "name": "stdout",
     "output_type": "stream",
     "text": [
      "                                ITEM_ID USER_ID EVENT_TYPE DISCOUNT\n",
      "0  b93b7b15-9bb3-407c-b80b-517e7c45e090    3156       View       No\n",
      "1  b93b7b15-9bb3-407c-b80b-517e7c45e090    3156       View       No\n",
      "2  3946f4c8-1b5b-4161-b794-70b33affb671    2122       View       No\n",
      "3  3946f4c8-1b5b-4161-b794-70b33affb671    2122       View       No\n",
      "4  e9daa7cd-8230-4544-9f07-86fa84d7c3c1    2485       View       No\n"
     ]
    },
    {
     "data": {
      "image/png": "[encoded data removed]",
      "text/plain": [
       "<Figure size 864x432 with 1 Axes>"
      ]
     },
     "metadata": {
      "needs_background": "light"
     },
     "output_type": "display_data"
    }
   ],
   "source": [
    "categorical_attributes = interactions_df.select_dtypes(include=['object'])\n",
    "print(categorical_attributes.head())\n",
    "plt.figure(figsize=(12,6))\n",
    "chart = sns.countplot(data=categorical_attributes, x = 'EVENT_TYPE')\n",
    "plt.xticks(rotation=90,horizontalalignment='right')\n",
    "plt.show()"
   ]
  },
  {
   "cell_type": "markdown",
   "id": "2821bd8d",
   "metadata": {},
   "source": [
    "Let us plot product persona vs product category distribution - so that you can see what categories get assigned to which types of persona. Note that because of attempts to reach balance between categories and products in the generation script, the proportions do not exactly match those configured."
   ]
  },
  {
   "cell_type": "code",
   "execution_count": 173,
   "id": "e9d7c4f0",
   "metadata": {},
   "outputs": [
    {
     "name": "stdout",
     "output_type": "stream",
     "text": [
      "                   persona category\n",
      "0  housewares_tools_beauty    tools\n",
      "1  housewares_tools_beauty    tools\n",
      "2  housewares_tools_beauty    tools\n",
      "3  housewares_tools_beauty    tools\n",
      "4  housewares_tools_beauty    tools\n"
     ]
    }
   ],
   "source": [
    "merged_df = interactions_df[['USER_ID','ITEM_ID']].astype({'USER_ID':str, 'ITEM_ID':str})\n",
    "merged_df = merged_df.merge(users_df[['id','persona']], left_on='USER_ID',right_on='id').drop(columns=['id','USER_ID'])\n",
    "merged_df = merged_df.merge(products_df[['id','category']],left_on='ITEM_ID',right_on='id').drop(columns=['id','ITEM_ID'])\n",
    "print(merged_df.head())"
   ]
  },
  {
   "cell_type": "code",
   "execution_count": 174,
   "id": "1fdaa4a1",
   "metadata": {},
   "outputs": [
    {
     "data": {
      "image/png": "[encoded data removed]",
      "text/plain": [
       "<Figure size 864x432 with 2 Axes>"
      ]
     },
     "metadata": {
      "needs_background": "light"
     },
     "output_type": "display_data"
    }
   ],
   "source": [
    "plot_df = merged_df.groupby(by=['persona','category'])['category'].count().unstack()\n",
    "#print(plot_df)\n",
    "plt.figure(figsize=(12,6))\n",
    "sns.heatmap(plot_df, annot=True,fmt='g',cmap='viridis')\n",
    "plt.title('Heatmap of user persona vs product category')\n",
    "plt.show()"
   ]
  },
  {
   "cell_type": "markdown",
   "id": "f67958fd",
   "metadata": {},
   "source": [
    "### Discount persona vs event type distribution\n",
    "Let us see how the event distribution came out. We should see a different takeup of discounts between users with different discount personas."
   ]
  },
  {
   "cell_type": "code",
   "execution_count": 175,
   "id": "15a02c92",
   "metadata": {},
   "outputs": [
    {
     "name": "stdout",
     "output_type": "stream",
     "text": [
      "        discount_persona DISCOUNT     id\n",
      "0          all_discounts       No   7153\n",
      "1          all_discounts      Yes   7373\n",
      "2   discount_indifferent       No  11491\n",
      "3   discount_indifferent      Yes   2904\n",
      "4  lower_priced_products       No   8566\n",
      "DISCOUNT                  No   Yes\n",
      "discount_persona                  \n",
      "all_discounts           7153  7373\n",
      "discount_indifferent   11491  2904\n",
      "lower_priced_products   8566  5987\n"
     ]
    },
    {
     "data": {
      "text/plain": [
       "Text(0.5, 1.0, 'Event types according to discount persona')"
      ]
     },
     "execution_count": 175,
     "metadata": {},
     "output_type": "execute_result"
    },
    {
     "data": {
      "image/png": "[encoded data removed]",
      "text/plain": [
       "<Figure size 864x432 with 1 Axes>"
      ]
     },
     "metadata": {
      "needs_background": "light"
     },
     "output_type": "display_data"
    }
   ],
   "source": [
    "merged_df = interactions_df.loc[interactions_df['EVENT_TYPE'] == 'AddToCart'][['USER_ID','DISCOUNT']]\n",
    "merged_df = merged_df[['USER_ID','DISCOUNT']].astype({'USER_ID':str}).merge(users_df,left_on='USER_ID',right_on='id')\n",
    "#merged_df.head()\n",
    "\n",
    "plot_df_stacked = merged_df.groupby(by=['discount_persona','DISCOUNT'])[['id']].count().reset_index()\n",
    "print(plot_df_stacked.head())\n",
    "plot_df_unstacked = merged_df.groupby(by=['discount_persona','DISCOUNT'])[['id']].count().unstack()\n",
    "plot_df_unstacked = plot_df_unstacked.droplevel(axis='columns',level=0)\n",
    "print(plot_df_unstacked.head())\n",
    "\n",
    "plt.figure(figsize=(12,6))\n",
    "sns.barplot(x='discount_persona', y='id',hue='DISCOUNT',data=plot_df_stacked)\n",
    "plt.title('Event types according to discount persona')\n",
    "\n",
    "\n"
   ]
  },
  {
   "cell_type": "code",
   "execution_count": 97,
   "id": "9d5c60c8",
   "metadata": {},
   "outputs": [
    {
     "data": {
      "text/html": [
       "<div>\n",
       "<style scoped>\n",
       "    .dataframe tbody tr th:only-of-type {\n",
       "        vertical-align: middle;\n",
       "    }\n",
       "\n",
       "    .dataframe tbody tr th {\n",
       "        vertical-align: top;\n",
       "    }\n",
       "\n",
       "    .dataframe thead tr th {\n",
       "        text-align: left;\n",
       "    }\n",
       "\n",
       "    .dataframe thead tr:last-of-type th {\n",
       "        text-align: right;\n",
       "    }\n",
       "</style>\n",
       "<table border=\"1\" class=\"dataframe\">\n",
       "  <thead>\n",
       "    <tr>\n",
       "      <th></th>\n",
       "      <th colspan=\"2\" halign=\"left\">id</th>\n",
       "    </tr>\n",
       "    <tr>\n",
       "      <th></th>\n",
       "      <th>count</th>\n",
       "      <th>nunique</th>\n",
       "    </tr>\n",
       "    <tr>\n",
       "      <th>discount_persona</th>\n",
       "      <th></th>\n",
       "      <th></th>\n",
       "    </tr>\n",
       "  </thead>\n",
       "  <tbody>\n",
       "    <tr>\n",
       "      <th>all_discounts</th>\n",
       "      <td>1750</td>\n",
       "      <td>1750</td>\n",
       "    </tr>\n",
       "    <tr>\n",
       "      <th>discount_indifferent</th>\n",
       "      <td>1731</td>\n",
       "      <td>1731</td>\n",
       "    </tr>\n",
       "    <tr>\n",
       "      <th>lower_priced_products</th>\n",
       "      <td>1769</td>\n",
       "      <td>1769</td>\n",
       "    </tr>\n",
       "  </tbody>\n",
       "</table>\n",
       "</div>"
      ],
      "text/plain": [
       "                         id        \n",
       "                      count nunique\n",
       "discount_persona                   \n",
       "all_discounts          1750    1750\n",
       "discount_indifferent   1731    1731\n",
       "lower_priced_products  1769    1769"
      ]
     },
     "execution_count": 97,
     "metadata": {},
     "output_type": "execute_result"
    }
   ],
   "source": [
    "# check if number of users in each discount_persona category is balanced\n",
    "\n",
    "users_df.head()\n",
    "users_df.groupby(by='discount_persona').agg({'id':['count',pd.Series.nunique]})"
   ]
  },
  {
   "cell_type": "markdown",
   "id": "19a5c934",
   "metadata": {},
   "source": [
    "### Balance over products I\n",
    "Let us have a careful look at product and category distributions. The interactions generation script ensures that there are small groups of products users tend to interact with, to maintain strong training signals. If you look at the script you will see that although we choose products randomly within a category, they are interacted with in small random groups in the category."
   ]
  },
  {
   "cell_type": "code",
   "execution_count": null,
   "id": "dc274d7a",
   "metadata": {},
   "outputs": [],
   "source": []
  },
  {
   "cell_type": "code",
   "execution_count": 110,
   "id": "c6afd597",
   "metadata": {},
   "outputs": [
    {
     "name": "stdout",
     "output_type": "stream",
     "text": [
      "USER_ID  category  \n",
      "1        furniture     {485457cd-3e31-4ddc-bb09-e9bb9f151d19, dd8299a...\n",
      "         homedecor     {669b328d-0905-4a3f-b95d-79c8eb83482f, 21a1420...\n",
      "         housewares    {510a7e24-88e0-4581-aeb4-a49022da37ce, e41db00...\n",
      "2        apparel       {5414abd6-a246-4e44-83d9-0ca413290ab0, 79fc3af...\n",
      "         housewares    {8b892d2c-4b84-410f-a053-086eb46eb5f8, cfafd62...\n",
      "Name: id, dtype: object\n",
      "USER_ID  category  \n",
      "1        furniture     5\n",
      "         homedecor     3\n",
      "         housewares    3\n",
      "2        apparel       4\n",
      "         housewares    5\n",
      "Name: id, dtype: int64\n",
      "<bound method NDFrame.head of 1    1855\n",
      "2    1687\n",
      "3    2226\n",
      "4    3825\n",
      "5    7811\n",
      "Name: id, dtype: int64>\n"
     ]
    },
    {
     "data": {
      "image/png": "[encoded data removed]",
      "text/plain": [
       "<Figure size 432x288 with 1 Axes>"
      ]
     },
     "metadata": {
      "needs_background": "light"
     },
     "output_type": "display_data"
    }
   ],
   "source": [
    "merged_df = interactions_df[['ITEM_ID','USER_ID']].astype({'ITEM_ID':str}).merge(products_df,left_on='ITEM_ID',right_on='id')\n",
    "plot_df = merged_df.groupby(by=['USER_ID','category']).id.apply(set)\n",
    "#plot_df = merged_df.groupby(by=['USER_ID','category']).agg({'id':set})\n",
    "print(plot_df.head())\n",
    "plot_df = plot_df.apply(len)\n",
    "#plot_df = plot_df['id'].agg({'id':len})\n",
    "print(plot_df.head())\n",
    "plot_df = plot_df.value_counts().sort_index()\n",
    "print(plot_df.head)\n",
    "plot_df.plot.bar()\n",
    "plt.xlabel('Number of different products examined by user.')\n",
    "plt.title('We should have reduced users to a small number of products')\n",
    "plt.show()\n"
   ]
  },
  {
   "cell_type": "code",
   "execution_count": 128,
   "id": "6ab49ab6",
   "metadata": {},
   "outputs": [
    {
     "name": "stdout",
     "output_type": "stream",
     "text": [
      "                    id\n",
      "USER_ID category      \n",
      "1       furniture    5\n",
      "        homedecor    3\n",
      "        housewares   3\n",
      "2       apparel      4\n",
      "        housewares   5\n",
      "      id\n",
      "id      \n",
      "1   1855\n",
      "2   1687\n",
      "3   2226\n",
      "4   3825\n",
      "5   7811\n",
      "Int64Index([1, 2, 3, 4, 5], dtype='int64', name='id')\n"
     ]
    }
   ],
   "source": [
    "# the same calculations but simpler\n",
    "# we need to find for each user and each product category with how many unique ids there were interactions\n",
    "plot_df1 = merged_df.groupby(by=['USER_ID','category']).agg({'id':pd.Series.nunique})\n",
    "print(plot_df1.head())\n",
    "#plot_df1 = plot_df1['id'].apply(len)\n",
    "plot_df1 = plot_df1.groupby(by='id').agg({'id':'count'})\n",
    "print(plot_df1.head())\n"
   ]
  },
  {
   "cell_type": "markdown",
   "id": "145696d9",
   "metadata": {},
   "source": [
    "### Prepare and Upload Data\n",
    "Finally, let's upload the generated interactions CSV to S3 so it can be picked up by Amazon Personalize later in the workshop."
   ]
  },
  {
   "cell_type": "code",
   "execution_count": 176,
   "id": "b40c5ce0",
   "metadata": {},
   "outputs": [],
   "source": [
    "interactions_filename = 'interactions.csv'\n",
    "interactions_df.to_csv(interactions_filename, index=False)\n",
    "boto3.Session().resource('s3').Bucket(bucket).Object(interactions_filename).upload_file(interactions_filename)\n"
   ]
  },
  {
   "cell_type": "markdown",
   "id": "d3d29e2c",
   "metadata": {},
   "source": [
    "### Lab 1 Summary - What have we accomplished?\n",
    "In this lab we prepared and inspected the three dataset types (items, users, and interactions) that will be used to train models and create recommenders in Amazon Personalize.\n",
    "\n",
    "We created a CSV for each dataset type and uploaded them to the Amazon S3 staging bucket created by the Retail Demo Store deployment.\n",
    "\n",
    "In the next lab we will start creating resources in Amazon Personalize to receive our dataset files.\n",
    "\n",
    "### Store variables needed in the next lab\n",
    "We will pass some variables initialized in this lab by storing them in the notebook environment."
   ]
  },
  {
   "cell_type": "code",
   "execution_count": 133,
   "id": "2d4ee996",
   "metadata": {},
   "outputs": [
    {
     "name": "stderr",
     "output_type": "stream",
     "text": [
      "UsageError: Unknown variable 'Uid'\n"
     ]
    }
   ],
   "source": [
    "%store Uid\n",
    "%store bucket\n",
    "%store items_filename\n",
    "%store users_filename\n",
    "%store interactions_filename"
   ]
  },
  {
   "cell_type": "markdown",
   "id": "9e346f19",
   "metadata": {},
   "source": [
    "# Retail Demo Store - Personalization Workshop - Lab 2\n",
    "In this lab we are going to build on the prior lab by preparing an Amazon Personalize dataset group and importing our three datasets.\n",
    "\n",
    "## Lab 2 Objectives\n",
    "In this lab we will accomplish the following steps.\n",
    "\n",
    "- Create schema resources in Amazon Personalize that define the layout of our three dataset files (CSVs) created in the prior lab\n",
    "- Create a dataset group in Amazon Personalize that will be used to receive our datasets\n",
    "- Create a dataset in the Personalize dataset group for the three dataset types and schemas\n",
    "Items: information about the products in the Retail Demo Store\n",
    "Users: information about the users in the Retail Deme Store\n",
    "Interactions: user-item interactions representing typical storefront behavior such as viewing products, adding products to a shopping cart, purchasing products, and so on\n",
    "- Create dataset import jobs to import each of the three datasets into Personalize\n",
    "\n",
    "## Setup\n",
    "Just as in the first lab, we have to prepare our environment by importing dependencies and creating clients.\n",
    "\n",
    "### Import dependencies\n",
    "The following libraries are needed for this lab."
   ]
  },
  {
   "cell_type": "code",
   "execution_count": 135,
   "id": "7d4d876c",
   "metadata": {},
   "outputs": [],
   "source": [
    "import boto3\n",
    "import json\n",
    "import uuid\n",
    "import time\n",
    "from botocore.exceptions import ClientError"
   ]
  },
  {
   "cell_type": "markdown",
   "id": "aabddeca",
   "metadata": {},
   "source": [
    "### Create clients\n",
    "We will need the following AWS service clients in this lab."
   ]
  },
  {
   "cell_type": "code",
   "execution_count": 136,
   "id": "534e846c",
   "metadata": {},
   "outputs": [],
   "source": [
    "personalize = boto3.client('personalize')"
   ]
  },
  {
   "cell_type": "markdown",
   "id": "f7a67643",
   "metadata": {},
   "source": [
    "### Load variables saved in Lab 1\n",
    "At the end of Lab 1 we saved some variables that we'll need in this lab. The following cell will load those variables into this lab environment."
   ]
  },
  {
   "cell_type": "code",
   "execution_count": 137,
   "id": "cb4da294",
   "metadata": {},
   "outputs": [],
   "source": [
    "%store -r"
   ]
  },
  {
   "cell_type": "markdown",
   "id": "67256b57",
   "metadata": {},
   "source": [
    "## Configure Amazon Personalize\n",
    "Now that we've prepared our three datasets and uploaded them to S3 we'll need to configure the Amazon Personalize service to understand our data so that it can be used to train models for generating recommendations.\n",
    "\n",
    "Note: if you deployed the Retail Demo Store with the \"auto create Personalize resources\" flag set to \"Yes\", the following steps have already been automatically completed for you.\n",
    "\n",
    "### Create Schemas for Datasets\n",
    "Amazon Personalize requires a schema for each dataset so it can map the columns in our CSVs to fields for model training. Each schema is declared in JSON using the Apache Avro format.\n",
    "\n",
    "Let's define and create schemas in Personalize for our datasets.\n",
    "\n",
    "Note that categorical fields include an additional attribute of \"categorical\": true and the textual field has an additional attribute of \"textual\": true. Categorical fields are those where one or more values can be specified for the field value (i.e. enumerated values). For example, one or more category names/codes for the CATEGORY_L1 field. A textual field indicates that Personalize should apply a natural language processing (NLP) model to the field's value to extract model features from unstructured text. In this case, we're using the product description as the textual field. You can only have one textual field in the items dataset.\n",
    "\n",
    "Another detail to note is that when we call the CreateSchema API, we pass an optional domain parameter with a value of ECOMMERCE. This tells Personalize that we are creating a schema for Retail/E-commerce domain. We will do this for all three schemas.\n",
    "\n",
    "### Items Datsaset Schema"
   ]
  },
  {
   "cell_type": "code",
   "execution_count": 141,
   "id": "7f64bf8e",
   "metadata": {},
   "outputs": [
    {
     "name": "stdout",
     "output_type": "stream",
     "text": [
      "{\n",
      "  \"schemaArn\": \"arn:aws:personalize:us-east-1:016882278218:schema/retaildemostore-products-items\",\n",
      "  \"ResponseMetadata\": {\n",
      "    \"RequestId\": \"291533d3-88a3-4bdd-a1fb-0cbf7dda7adc\",\n",
      "    \"HTTPStatusCode\": 200,\n",
      "    \"HTTPHeaders\": {\n",
      "      \"date\": \"Tue, 13 Sep 2022 08:39:32 GMT\",\n",
      "      \"content-type\": \"application/x-amz-json-1.1\",\n",
      "      \"content-length\": \"96\",\n",
      "      \"connection\": \"keep-alive\",\n",
      "      \"x-amzn-requestid\": \"291533d3-88a3-4bdd-a1fb-0cbf7dda7adc\"\n",
      "    },\n",
      "    \"RetryAttempts\": 0\n",
      "  }\n",
      "}\n"
     ]
    }
   ],
   "source": [
    "items_schema = {\n",
    "    'type':'record',\n",
    "    'name': 'Items',\n",
    "    'namespace': 'com.amazonaws.personalize.schema',\n",
    "    'fields':[\n",
    "        {\n",
    "            'name':'ITEM_ID',\n",
    "            'type':'string'\n",
    "        },\n",
    "        {\n",
    "            'name':'PRICE',\n",
    "            'type':'float'\n",
    "        },\n",
    "        {\n",
    "            'name':'CATEGORY_L1',\n",
    "            'type':'string',\n",
    "            'categorical': True\n",
    "        },\n",
    "        {\n",
    "            'name':'CATEGORY_L2',\n",
    "            'type':'string',\n",
    "            'categorical':True\n",
    "        },\n",
    "        {\n",
    "            'name':'PRODUCT_DESCRIPTION',\n",
    "            'type':'string',\n",
    "            'textual':True\n",
    "        },\n",
    "        {\n",
    "            'name':'GENDER',\n",
    "            'type':'string',\n",
    "            'categorical':True\n",
    "        },\n",
    "    ],\n",
    "    'version':'1.0'\n",
    "}\n",
    "\n",
    "try:\n",
    "    create_schema_response = personalize.create_schema(\n",
    "        name = 'retaildemostore-products-items',\n",
    "        domain = 'ECOMMERCE',\n",
    "        schema = json.dumps(items_schema)\n",
    "    )\n",
    "    items_schema_arn = create_schema_response['schemaArn']\n",
    "    print(json.dumps(create_schema_response, indent=2))\n",
    "except personalize.exceptions.ResourceAlreadyExistsException:\n",
    "    print('You aready created this schema, seemingly')\n",
    "    paginator = personalize.get_paginator('list_schemas')\n",
    "    for paginate_result in paginator.paginate():\n",
    "        for schema in paginate_result['schemas']:\n",
    "            if schema['name'] == 'retaildemostore-products-items':\n",
    "                items_schema_arn = schema['schemaArn']\n",
    "                print(f\"Using existing schema: {items_schema_arn}\")\n",
    "                break"
   ]
  },
  {
   "cell_type": "markdown",
   "id": "2eb6dfb5",
   "metadata": {},
   "source": [
    "### Users Dataset Schema"
   ]
  },
  {
   "cell_type": "code",
   "execution_count": 142,
   "id": "12a0e7a1",
   "metadata": {},
   "outputs": [
    {
     "name": "stdout",
     "output_type": "stream",
     "text": [
      "{\n",
      "  \"schemaArn\": \"arn:aws:personalize:us-east-1:016882278218:schema/retaildemostore-products-users\",\n",
      "  \"ResponseMetadata\": {\n",
      "    \"RequestId\": \"81911851-57f5-49d1-b6e5-53f5dd9d888b\",\n",
      "    \"HTTPStatusCode\": 200,\n",
      "    \"HTTPHeaders\": {\n",
      "      \"date\": \"Tue, 13 Sep 2022 08:42:46 GMT\",\n",
      "      \"content-type\": \"application/x-amz-json-1.1\",\n",
      "      \"content-length\": \"96\",\n",
      "      \"connection\": \"keep-alive\",\n",
      "      \"x-amzn-requestid\": \"81911851-57f5-49d1-b6e5-53f5dd9d888b\"\n",
      "    },\n",
      "    \"RetryAttempts\": 0\n",
      "  }\n",
      "}\n"
     ]
    }
   ],
   "source": [
    "users_schema = {\n",
    "    \"type\": \"record\",\n",
    "    \"name\": \"Users\",\n",
    "    \"namespace\": \"com.amazonaws.personalize.schema\",\n",
    "    \"fields\": [\n",
    "        {\n",
    "            \"name\": \"USER_ID\",\n",
    "            \"type\": \"string\"\n",
    "        },\n",
    "        {\n",
    "            \"name\": \"AGE\",\n",
    "            \"type\": \"int\"\n",
    "        },\n",
    "        {\n",
    "            \"name\": \"GENDER\",\n",
    "            \"type\": \"string\",\n",
    "            \"categorical\": True,\n",
    "        }\n",
    "    ],\n",
    "    \"version\": \"1.0\"\n",
    "}\n",
    "\n",
    "try:\n",
    "    create_schema_response = personalize.create_schema(\n",
    "        name = \"retaildemostore-products-users\",\n",
    "        domain = \"ECOMMERCE\",\n",
    "        schema = json.dumps(users_schema)\n",
    "    )\n",
    "    print(json.dumps(create_schema_response, indent=2))\n",
    "    users_schema_arn = create_schema_response['schemaArn']\n",
    "except personalize.exceptions.ResourceAlreadyExistsException:\n",
    "    print('You aready created this schema, seemingly')\n",
    "    paginator = personalize.get_paginator('list_schemas')\n",
    "    for paginate_result in paginator.paginate():\n",
    "        for schema in paginate_result['schemas']:\n",
    "            if schema['name'] == 'retaildemostore-products-users':\n",
    "                users_schema_arn = schema['schemaArn']\n",
    "                print(f\"Using existing schema: {users_schema_arn}\")\n",
    "                break"
   ]
  },
  {
   "cell_type": "markdown",
   "id": "9efe472b",
   "metadata": {},
   "source": [
    "### Interactions Dataset Schema"
   ]
  },
  {
   "cell_type": "code",
   "execution_count": 143,
   "id": "ecf94d29",
   "metadata": {},
   "outputs": [
    {
     "name": "stdout",
     "output_type": "stream",
     "text": [
      "{\n",
      "  \"schemaArn\": \"arn:aws:personalize:us-east-1:016882278218:schema/retaildemostore-products-interactions\",\n",
      "  \"ResponseMetadata\": {\n",
      "    \"RequestId\": \"58515cc9-3009-4ce5-a2af-1643489af6f6\",\n",
      "    \"HTTPStatusCode\": 200,\n",
      "    \"HTTPHeaders\": {\n",
      "      \"date\": \"Tue, 13 Sep 2022 08:43:20 GMT\",\n",
      "      \"content-type\": \"application/x-amz-json-1.1\",\n",
      "      \"content-length\": \"103\",\n",
      "      \"connection\": \"keep-alive\",\n",
      "      \"x-amzn-requestid\": \"58515cc9-3009-4ce5-a2af-1643489af6f6\"\n",
      "    },\n",
      "    \"RetryAttempts\": 0\n",
      "  }\n",
      "}\n"
     ]
    }
   ],
   "source": [
    "interactions_schema = {\n",
    "    \"type\": \"record\",\n",
    "    \"name\": \"Interactions\",\n",
    "    \"namespace\": \"com.amazonaws.personalize.schema\",\n",
    "    \"fields\": [\n",
    "        {\n",
    "            \"name\": \"ITEM_ID\",\n",
    "            \"type\": \"string\"\n",
    "        },\n",
    "        {\n",
    "            \"name\": \"USER_ID\",\n",
    "            \"type\": \"string\"\n",
    "        },\n",
    "        {\n",
    "            \"name\": \"EVENT_TYPE\",  # \"View\", \"Purchase\", etc.\n",
    "            \"type\": \"string\"\n",
    "        },\n",
    "        {\n",
    "            \"name\": \"TIMESTAMP\",\n",
    "            \"type\": \"long\"\n",
    "        },\n",
    "        {\n",
    "            \"name\": \"DISCOUNT\",  # This is the contextual metadata - \"Yes\" or \"No\".\n",
    "            \"type\": \"string\"\n",
    "        },\n",
    "    ],\n",
    "    \"version\": \"1.0\"\n",
    "}\n",
    "\n",
    "try:\n",
    "    create_schema_response = personalize.create_schema(\n",
    "        name = \"retaildemostore-products-interactions\",\n",
    "        domain = \"ECOMMERCE\",\n",
    "        schema = json.dumps(interactions_schema)\n",
    "    )\n",
    "    print(json.dumps(create_schema_response, indent=2))\n",
    "    interactions_schema_arn = create_schema_response['schemaArn']\n",
    "except personalize.exceptions.ResourceAlreadyExistsException:\n",
    "    print('You aready created this schema, seemingly')\n",
    "    paginator = personalize.get_paginator('list_schemas')\n",
    "    for paginate_result in paginator.paginate():\n",
    "        for schema in paginate_result['schemas']:\n",
    "            if schema['name'] == 'retaildemostore-products-interactions':\n",
    "                interactions_schema_arn = schema['schemaArn']\n",
    "                print(f\"Using existing schema: {interactions_schema_arn}\")\n",
    "                break"
   ]
  },
  {
   "cell_type": "markdown",
   "id": "a10bc00e",
   "metadata": {},
   "source": [
    "### Create and Wait for Dataset Group\n",
    "Next we need to create the dataset group that will contain our three datasets. This is one of many Personalize operations that are asynchronous. That is, we call an API to create a resource and have to wait for it to become active.\n",
    "\n",
    "#### Create Dataset Group\n",
    "Note that we are also passing ECOMMERCE for the domain parameter here too."
   ]
  },
  {
   "cell_type": "code",
   "execution_count": 144,
   "id": "bec0e0cd",
   "metadata": {},
   "outputs": [
    {
     "name": "stdout",
     "output_type": "stream",
     "text": [
      "{\n",
      "  \"datasetGroupArn\": \"arn:aws:personalize:us-east-1:016882278218:dataset-group/retaildemostore-products\",\n",
      "  \"domain\": \"ECOMMERCE\",\n",
      "  \"ResponseMetadata\": {\n",
      "    \"RequestId\": \"64b16dc4-38aa-4cfb-a371-32778159bf58\",\n",
      "    \"HTTPStatusCode\": 200,\n",
      "    \"HTTPHeaders\": {\n",
      "      \"date\": \"Tue, 13 Sep 2022 08:49:10 GMT\",\n",
      "      \"content-type\": \"application/x-amz-json-1.1\",\n",
      "      \"content-length\": \"124\",\n",
      "      \"connection\": \"keep-alive\",\n",
      "      \"x-amzn-requestid\": \"64b16dc4-38aa-4cfb-a371-32778159bf58\"\n",
      "    },\n",
      "    \"RetryAttempts\": 0\n",
      "  }\n",
      "}\n",
      "DatasetGroupArn = arn:aws:personalize:us-east-1:016882278218:dataset-group/retaildemostore-products\n"
     ]
    }
   ],
   "source": [
    "try:\n",
    "    create_dataset_group_response = personalize.create_dataset_group(\n",
    "        name = 'retaildemostore-products',\n",
    "        domain = 'ECOMMERCE'\n",
    "    )\n",
    "    dataset_group_arn = create_dataset_group_response['datasetGroupArn']\n",
    "    print(json.dumps(create_dataset_group_response, indent=2))\n",
    "except personalize.exceptions.ResourceAlreadyExistsException:\n",
    "    print('You aready created this dataset group, seemingly')\n",
    "    paginator = personalize.get_paginator('list_dataset_groups')\n",
    "    for paginate_result in paginator.paginate():\n",
    "        for dataset_group in paginate_result['datasetGroups']:\n",
    "            if dataset_group['name'] == 'retaildemostore-products':\n",
    "                dataset_group_arn = dataset_group['datasetGroupArn']\n",
    "                break\n",
    "                \n",
    "print(f'DatasetGroupArn = {dataset_group_arn}')"
   ]
  },
  {
   "cell_type": "markdown",
   "id": "e36300fe",
   "metadata": {},
   "source": [
    "#### Wait for Dataset Group to Have ACTIVE Status"
   ]
  },
  {
   "cell_type": "code",
   "execution_count": 145,
   "id": "5b970f08",
   "metadata": {},
   "outputs": [
    {
     "name": "stdout",
     "output_type": "stream",
     "text": [
      "DatasetGroup: ACTIVE\n"
     ]
    }
   ],
   "source": [
    "status = None\n",
    "max_time = time.time() + 3*60*60 # 3 hours\n",
    "while time.time() < max_time:\n",
    "    describe_dataset_group_response = personalize.describe_dataset_group(\n",
    "        datasetGroupArn = dataset_group_arn\n",
    "    )\n",
    "    status = describe_dataset_group_response[\"datasetGroup\"][\"status\"]\n",
    "    print(\"DatasetGroup: {}\".format(status))\n",
    "    \n",
    "    if status == \"ACTIVE\" or status == \"CREATE FAILED\":\n",
    "        break\n",
    "        \n",
    "    time.sleep(15)"
   ]
  },
  {
   "cell_type": "markdown",
   "id": "386a8af1",
   "metadata": {},
   "source": [
    "### Create Items Dataset\n",
    "Next we will create the datasets in Personalize for our three dataset types. Let's start with the items dataset."
   ]
  },
  {
   "cell_type": "code",
   "execution_count": 146,
   "id": "e9aacf24",
   "metadata": {},
   "outputs": [
    {
     "name": "stdout",
     "output_type": "stream",
     "text": [
      "{\n",
      "  \"datasetArn\": \"arn:aws:personalize:us-east-1:016882278218:dataset/retaildemostore-products/ITEMS\",\n",
      "  \"ResponseMetadata\": {\n",
      "    \"RequestId\": \"28ecba82-27d6-4e0d-a2bc-1f4948205200\",\n",
      "    \"HTTPStatusCode\": 200,\n",
      "    \"HTTPHeaders\": {\n",
      "      \"date\": \"Tue, 13 Sep 2022 08:57:16 GMT\",\n",
      "      \"content-type\": \"application/x-amz-json-1.1\",\n",
      "      \"content-length\": \"98\",\n",
      "      \"connection\": \"keep-alive\",\n",
      "      \"x-amzn-requestid\": \"28ecba82-27d6-4e0d-a2bc-1f4948205200\"\n",
      "    },\n",
      "    \"RetryAttempts\": 0\n",
      "  }\n",
      "}\n",
      "Items dataset ARN = arn:aws:personalize:us-east-1:016882278218:dataset/retaildemostore-products/ITEMS\n"
     ]
    }
   ],
   "source": [
    "try:\n",
    "    dataset_type = \"ITEMS\"\n",
    "    create_dataset_response = personalize.create_dataset(\n",
    "        name = \"retaildemostore-products-items\",\n",
    "        datasetType = dataset_type,\n",
    "        datasetGroupArn = dataset_group_arn,\n",
    "        schemaArn = items_schema_arn\n",
    "    )\n",
    "\n",
    "    items_dataset_arn = create_dataset_response['datasetArn']\n",
    "    print(json.dumps(create_dataset_response, indent=2))\n",
    "except personalize.exceptions.ResourceAlreadyExistsException:\n",
    "    print('You aready created this dataset, seemingly')\n",
    "    paginator = personalize.get_paginator('list_datasets')\n",
    "    for paginate_result in paginator.paginate(datasetGroupArn = dataset_group_arn):\n",
    "        for dataset in paginate_result['datasets']:\n",
    "            if dataset['name'] == 'retaildemostore-products-items':\n",
    "                items_dataset_arn = dataset['datasetArn']\n",
    "                break\n",
    "                \n",
    "print(f'Items dataset ARN = {items_dataset_arn}')"
   ]
  },
  {
   "cell_type": "markdown",
   "id": "dbc5c759",
   "metadata": {},
   "source": [
    "### Create Users Dataset\n"
   ]
  },
  {
   "cell_type": "code",
   "execution_count": 147,
   "id": "36af954a",
   "metadata": {},
   "outputs": [
    {
     "name": "stdout",
     "output_type": "stream",
     "text": [
      "{\n",
      "  \"datasetArn\": \"arn:aws:personalize:us-east-1:016882278218:dataset/retaildemostore-products/USERS\",\n",
      "  \"ResponseMetadata\": {\n",
      "    \"RequestId\": \"c05450b2-5d5f-4b52-b6d9-a987eed4f344\",\n",
      "    \"HTTPStatusCode\": 200,\n",
      "    \"HTTPHeaders\": {\n",
      "      \"date\": \"Tue, 13 Sep 2022 08:57:47 GMT\",\n",
      "      \"content-type\": \"application/x-amz-json-1.1\",\n",
      "      \"content-length\": \"98\",\n",
      "      \"connection\": \"keep-alive\",\n",
      "      \"x-amzn-requestid\": \"c05450b2-5d5f-4b52-b6d9-a987eed4f344\"\n",
      "    },\n",
      "    \"RetryAttempts\": 0\n",
      "  }\n",
      "}\n",
      "Users dataset ARN = arn:aws:personalize:us-east-1:016882278218:dataset/retaildemostore-products/USERS\n"
     ]
    }
   ],
   "source": [
    "try:\n",
    "    dataset_type = \"USERS\"\n",
    "    create_dataset_response = personalize.create_dataset(\n",
    "        name = \"retaildemostore-products-users\",\n",
    "        datasetType = dataset_type,\n",
    "        datasetGroupArn = dataset_group_arn,\n",
    "        schemaArn = users_schema_arn\n",
    "    )\n",
    "\n",
    "    users_dataset_arn = create_dataset_response['datasetArn']\n",
    "    print(json.dumps(create_dataset_response, indent=2))\n",
    "except personalize.exceptions.ResourceAlreadyExistsException:\n",
    "    print('You aready created this dataset, seemingly')\n",
    "    paginator = personalize.get_paginator('list_datasets')\n",
    "    for paginate_result in paginator.paginate(datasetGroupArn = dataset_group_arn):\n",
    "        for dataset in paginate_result['datasets']:\n",
    "            if dataset['name'] == 'retaildemostore-products-users':\n",
    "                users_dataset_arn = dataset['datasetArn']\n",
    "                break\n",
    "                \n",
    "print(f'Users dataset ARN = {users_dataset_arn}')"
   ]
  },
  {
   "cell_type": "markdown",
   "id": "9627de9a",
   "metadata": {},
   "source": [
    "### Create Interactions Dataset"
   ]
  },
  {
   "cell_type": "code",
   "execution_count": 148,
   "id": "0eb332bf",
   "metadata": {},
   "outputs": [
    {
     "name": "stdout",
     "output_type": "stream",
     "text": [
      "{\n",
      "  \"datasetArn\": \"arn:aws:personalize:us-east-1:016882278218:dataset/retaildemostore-products/INTERACTIONS\",\n",
      "  \"ResponseMetadata\": {\n",
      "    \"RequestId\": \"fe24e448-1010-42df-ad85-aceedf88177d\",\n",
      "    \"HTTPStatusCode\": 200,\n",
      "    \"HTTPHeaders\": {\n",
      "      \"date\": \"Tue, 13 Sep 2022 08:58:23 GMT\",\n",
      "      \"content-type\": \"application/x-amz-json-1.1\",\n",
      "      \"content-length\": \"105\",\n",
      "      \"connection\": \"keep-alive\",\n",
      "      \"x-amzn-requestid\": \"fe24e448-1010-42df-ad85-aceedf88177d\"\n",
      "    },\n",
      "    \"RetryAttempts\": 0\n",
      "  }\n",
      "}\n",
      "Interactions dataset ARN = arn:aws:personalize:us-east-1:016882278218:dataset/retaildemostore-products/INTERACTIONS\n"
     ]
    }
   ],
   "source": [
    "try:\n",
    "    dataset_type = \"INTERACTIONS\"\n",
    "    create_dataset_response = personalize.create_dataset(\n",
    "        name = \"retaildemostore-products-interactions\",\n",
    "        datasetType = dataset_type,\n",
    "        datasetGroupArn = dataset_group_arn,\n",
    "        schemaArn = interactions_schema_arn\n",
    "    )\n",
    "\n",
    "    interactions_dataset_arn = create_dataset_response['datasetArn']\n",
    "    print(json.dumps(create_dataset_response, indent=2))\n",
    "except personalize.exceptions.ResourceAlreadyExistsException:\n",
    "    print('You aready created this dataset, seemingly')\n",
    "    paginator = personalize.get_paginator('list_datasets')\n",
    "    for paginate_result in paginator.paginate(datasetGroupArn = dataset_group_arn):\n",
    "        for dataset in paginate_result['datasets']:\n",
    "            if dataset['name'] == 'retaildemostore-products-interactions':\n",
    "                interactions_dataset_arn = dataset['datasetArn']\n",
    "                break\n",
    "                \n",
    "print(f'Interactions dataset ARN = {interactions_dataset_arn}')"
   ]
  },
  {
   "cell_type": "markdown",
   "id": "93eeeeec",
   "metadata": {},
   "source": [
    "### Wait for datasets to become active\n",
    "It can take a minute or two for the datasets to be created. Let's wait for all three to become active."
   ]
  },
  {
   "cell_type": "code",
   "execution_count": 149,
   "id": "8c25328d",
   "metadata": {},
   "outputs": [
    {
     "name": "stdout",
     "output_type": "stream",
     "text": [
      "Dataset arn:aws:personalize:us-east-1:016882278218:dataset/retaildemostore-products/INTERACTIONS successfully completed\n",
      "Dataset arn:aws:personalize:us-east-1:016882278218:dataset/retaildemostore-products/USERS successfully completed\n",
      "Dataset arn:aws:personalize:us-east-1:016882278218:dataset/retaildemostore-products/ITEMS successfully completed\n",
      "All datasets have completed\n",
      "CPU times: user 38.7 ms, sys: 18.8 ms, total: 57.5 ms\n",
      "Wall time: 1.24 s\n"
     ]
    }
   ],
   "source": [
    "%%time\n",
    "\n",
    "dataset_arns = [ items_dataset_arn, users_dataset_arn, interactions_dataset_arn ]\n",
    "\n",
    "max_time = time.time() + 3*60*60 # 3 hours\n",
    "while time.time() < max_time:\n",
    "    for dataset_arn in reversed(dataset_arns):\n",
    "        response = personalize.describe_dataset(\n",
    "            datasetArn = dataset_arn\n",
    "        )\n",
    "        status = response[\"dataset\"][\"status\"]\n",
    "\n",
    "        if status == \"ACTIVE\":\n",
    "            print(f'Dataset {dataset_arn} successfully completed')\n",
    "            dataset_arns.remove(dataset_arn)\n",
    "        elif status == \"CREATE FAILED\":\n",
    "            print(f'Dataset {dataset_arn} failed')\n",
    "            if response['dataset'].get('failureReason'):\n",
    "                print('   Reason: ' + response['dataset']['failureReason'])\n",
    "            dataset_arns.remove(dataset_arn)\n",
    "\n",
    "    if len(dataset_arns) > 0:\n",
    "        print('At least one dataset is still in progress')\n",
    "        time.sleep(15)\n",
    "    else:\n",
    "        print(\"All datasets have completed\")\n",
    "        break"
   ]
  },
  {
   "cell_type": "markdown",
   "id": "505b2952",
   "metadata": {},
   "source": [
    "### Import Datasets to Personalize\n",
    "In Lab 1 we generated CSVs containing bulk data for our users, items, and interactions and staged them in an S3 bucket. So far in this Lab we have created schemas in Personalize that define the columns in our CSVs. Then we created a datset group and three datasets in Personalize that will receive our data. In the following steps we will create import jobs with Personalize that will import the datasets from our S3 bucket into the service.\n",
    "\n",
    "## Inspect permissions\n",
    "By default, the Personalize service does not have permission to acccess the data we uploaded into the S3 bucket in our account. In order to grant access to the Personalize service to read our CSVs, we need to set a Bucket Policy and create an IAM role that the Amazon Personalize service will assume.\n",
    "\n",
    "The deployment process for the Retail Demo Store has already setup these resources for you. However, let's take a look at the bucket policy and IAM role to see the required permissions.\n",
    "\n",
    "We'll start by displaying the bucket policy in the S3 staging bucket where we uploaded the CSVs."
   ]
  },
  {
   "cell_type": "code",
   "execution_count": 150,
   "id": "d3cecf7f",
   "metadata": {},
   "outputs": [
    {
     "name": "stdout",
     "output_type": "stream",
     "text": [
      "{\n",
      "  \"Version\": \"2012-10-17\",\n",
      "  \"Statement\": [\n",
      "    {\n",
      "      \"Effect\": \"Deny\",\n",
      "      \"Principal\": \"*\",\n",
      "      \"Action\": \"s3:*\",\n",
      "      \"Resource\": [\n",
      "        \"arn:aws:s3:::retaildemostore-base-13eysyuyzzk00-bu-stackbucket-js42fft30ghd\",\n",
      "        \"arn:aws:s3:::retaildemostore-base-13eysyuyzzk00-bu-stackbucket-js42fft30ghd/*\"\n",
      "      ],\n",
      "      \"Condition\": {\n",
      "        \"Bool\": {\n",
      "          \"aws:SecureTransport\": \"false\"\n",
      "        }\n",
      "      }\n",
      "    },\n",
      "    {\n",
      "      \"Effect\": \"Allow\",\n",
      "      \"Principal\": {\n",
      "        \"Service\": \"personalize.amazonaws.com\"\n",
      "      },\n",
      "      \"Action\": [\n",
      "        \"s3:GetObject\",\n",
      "        \"s3:PutObject\",\n",
      "        \"s3:ListBucket\"\n",
      "      ],\n",
      "      \"Resource\": [\n",
      "        \"arn:aws:s3:::retaildemostore-base-13eysyuyzzk00-bu-stackbucket-js42fft30ghd\",\n",
      "        \"arn:aws:s3:::retaildemostore-base-13eysyuyzzk00-bu-stackbucket-js42fft30ghd/*\"\n",
      "      ]\n",
      "    }\n",
      "  ]\n",
      "}\n"
     ]
    }
   ],
   "source": [
    "s3 = boto3.client('s3')\n",
    "response = s3.get_bucket_policy(Bucket = bucket)\n",
    "print(json.dumps(json.loads(response['Policy']), indent=2))"
   ]
  },
  {
   "cell_type": "markdown",
   "id": "5795a09e",
   "metadata": {},
   "source": [
    "In the bucket policy above you will see that there are two policy statements. The first statement denies all S3 actions that are not made using secure transport. This statement is not required for Personalize access since it already uses secure transport but it is included as a security best practice. The second statement is where access is granted to Personalize. Note the service principal of personalize.amazonaws.com and the actions allowed on the staging bucket. The s3:GetObject is needed for import jobs to allow Personalize to read objects from the bucket and the s3:PutObject is used for export jobs, batch inference jobs, and batch segment jobs to allow Personalize to write output files to the bucket. The s3:ListBucket action allows Personalize to list the contents of a folder.\n",
    "\n",
    "Next, let's look at the IAM role that Personalize will need to assume to access the S3 bucket. Again, this role was created for you during the Retail Demo Store deployment. We'll start by inspecting the role itself."
   ]
  },
  {
   "cell_type": "code",
   "execution_count": 152,
   "id": "f4e627d9",
   "metadata": {},
   "outputs": [
    {
     "name": "stdout",
     "output_type": "stream",
     "text": [
      "{\n",
      "  \"Path\": \"/\",\n",
      "  \"RoleName\": \"retaildemostore-us-east-1-PersonalizeS3\",\n",
      "  \"RoleId\": \"AROAQH3SDD5FNWMUCL3AD\",\n",
      "  \"Arn\": \"arn:aws:iam::016882278218:role/retaildemostore-us-east-1-PersonalizeS3\",\n",
      "  \"CreateDate\": \"2022-08-29 16:09:38+00:00\",\n",
      "  \"AssumeRolePolicyDocument\": {\n",
      "    \"Version\": \"2012-10-17\",\n",
      "    \"Statement\": [\n",
      "      {\n",
      "        \"Effect\": \"Allow\",\n",
      "        \"Principal\": {\n",
      "          \"Service\": \"personalize.amazonaws.com\"\n",
      "        },\n",
      "        \"Action\": \"sts:AssumeRole\"\n",
      "      }\n",
      "    ]\n",
      "  },\n",
      "  \"Description\": \"\",\n",
      "  \"MaxSessionDuration\": 3600,\n",
      "  \"RoleLastUsed\": {}\n",
      "}\n"
     ]
    }
   ],
   "source": [
    "iam = boto3.client(\"iam\")\n",
    "\n",
    "Uid = 'retaildemostore-us-east-1' # couldn't get in the lab 1 because no module notebook_utils\n",
    "\n",
    "role_name = Uid+\"-PersonalizeS3\"\n",
    "\n",
    "response = iam.get_role(RoleName = role_name)\n",
    "role_arn = response['Role']['Arn']\n",
    "print(json.dumps(response['Role'], indent=2, default = str))"
   ]
  },
  {
   "cell_type": "markdown",
   "id": "91c74872",
   "metadata": {},
   "source": [
    "### Create Import Jobs\n",
    "With the permissions in place to allow Personalize to access our CSV files, let's create three import jobs to import each file into its respective dataset. Each import job can take several minutes to complete so we'll create all three import jobs and then wait for them all to complete. This allows them to import in parallel.\n",
    "\n",
    "#### Create Items Dataset Import Job"
   ]
  },
  {
   "cell_type": "code",
   "execution_count": 165,
   "id": "a92ca106",
   "metadata": {},
   "outputs": [
    {
     "data": {
      "text/plain": [
       "'3f032526'"
      ]
     },
     "execution_count": 165,
     "metadata": {},
     "output_type": "execute_result"
    }
   ],
   "source": [
    "str(uuid.uuid4())[:8]"
   ]
  },
  {
   "cell_type": "code",
   "execution_count": 163,
   "id": "a81cdb8c",
   "metadata": {},
   "outputs": [
    {
     "name": "stdout",
     "output_type": "stream",
     "text": [
      "{\n",
      "  \"datasetImportJobArn\": \"arn:aws:personalize:us-east-1:016882278218:dataset-import-job/retaildemostore-products-items-d56f1e45\",\n",
      "  \"ResponseMetadata\": {\n",
      "    \"RequestId\": \"21865eed-1d2a-4d2f-92ad-bdd9aa1a86a3\",\n",
      "    \"HTTPStatusCode\": 200,\n",
      "    \"HTTPHeaders\": {\n",
      "      \"date\": \"Tue, 13 Sep 2022 09:38:51 GMT\",\n",
      "      \"content-type\": \"application/x-amz-json-1.1\",\n",
      "      \"content-length\": \"127\",\n",
      "      \"connection\": \"keep-alive\",\n",
      "      \"x-amzn-requestid\": \"21865eed-1d2a-4d2f-92ad-bdd9aa1a86a3\"\n",
      "    },\n",
      "    \"RetryAttempts\": 0\n",
      "  }\n",
      "}\n"
     ]
    }
   ],
   "source": [
    "import_job_suffix = str(uuid.uuid4())[:8]\n",
    "\n",
    "items_create_dataset_import_job_response = personalize.create_dataset_import_job(\n",
    "    jobName = \"retaildemostore-products-items-\" + import_job_suffix,\n",
    "    datasetArn = items_dataset_arn,\n",
    "    dataSource = {\n",
    "        \"dataLocation\": \"s3://{}/{}\".format(bucket, items_filename)\n",
    "    },\n",
    "    roleArn = role_arn\n",
    ")\n",
    "\n",
    "items_dataset_import_job_arn = items_create_dataset_import_job_response['datasetImportJobArn']\n",
    "print(json.dumps(items_create_dataset_import_job_response, indent=2))"
   ]
  },
  {
   "cell_type": "markdown",
   "id": "863a212a",
   "metadata": {},
   "source": [
    "#### Create Users Dataset Import Job"
   ]
  },
  {
   "cell_type": "code",
   "execution_count": 166,
   "id": "0eb5f453",
   "metadata": {},
   "outputs": [
    {
     "name": "stdout",
     "output_type": "stream",
     "text": [
      "{\n",
      "  \"datasetImportJobArn\": \"arn:aws:personalize:us-east-1:016882278218:dataset-import-job/retaildemostore-products-users-d56f1e45\",\n",
      "  \"ResponseMetadata\": {\n",
      "    \"RequestId\": \"279d87a0-1344-4728-8e6c-24e8045d7192\",\n",
      "    \"HTTPStatusCode\": 200,\n",
      "    \"HTTPHeaders\": {\n",
      "      \"date\": \"Tue, 13 Sep 2022 09:50:41 GMT\",\n",
      "      \"content-type\": \"application/x-amz-json-1.1\",\n",
      "      \"content-length\": \"127\",\n",
      "      \"connection\": \"keep-alive\",\n",
      "      \"x-amzn-requestid\": \"279d87a0-1344-4728-8e6c-24e8045d7192\"\n",
      "    },\n",
      "    \"RetryAttempts\": 0\n",
      "  }\n",
      "}\n"
     ]
    }
   ],
   "source": [
    "users_create_dataset_import_job_response = personalize.create_dataset_import_job(\n",
    "    jobName = \"retaildemostore-products-users-\" + import_job_suffix,\n",
    "    datasetArn = users_dataset_arn,\n",
    "    dataSource = {\n",
    "        \"dataLocation\": \"s3://{}/{}\".format(bucket, users_filename)\n",
    "    },\n",
    "    roleArn = role_arn\n",
    ")\n",
    "\n",
    "users_dataset_import_job_arn = users_create_dataset_import_job_response['datasetImportJobArn']\n",
    "print(json.dumps(users_create_dataset_import_job_response, indent=2))"
   ]
  },
  {
   "cell_type": "markdown",
   "id": "dba21b05",
   "metadata": {},
   "source": [
    "#### Create Interactions Dataset Import Job"
   ]
  },
  {
   "cell_type": "code",
   "execution_count": 177,
   "id": "4c90706e",
   "metadata": {},
   "outputs": [
    {
     "name": "stdout",
     "output_type": "stream",
     "text": [
      "{\n",
      "  \"datasetImportJobArn\": \"arn:aws:personalize:us-east-1:016882278218:dataset-import-job/retaildemostore-products-interactions-d56f1e45\",\n",
      "  \"ResponseMetadata\": {\n",
      "    \"RequestId\": \"731b1617-d12e-476d-92be-093dc332cbb2\",\n",
      "    \"HTTPStatusCode\": 200,\n",
      "    \"HTTPHeaders\": {\n",
      "      \"date\": \"Tue, 13 Sep 2022 10:09:55 GMT\",\n",
      "      \"content-type\": \"application/x-amz-json-1.1\",\n",
      "      \"content-length\": \"134\",\n",
      "      \"connection\": \"keep-alive\",\n",
      "      \"x-amzn-requestid\": \"731b1617-d12e-476d-92be-093dc332cbb2\"\n",
      "    },\n",
      "    \"RetryAttempts\": 0\n",
      "  }\n",
      "}\n"
     ]
    }
   ],
   "source": [
    "interactions_create_dataset_import_job_response = personalize.create_dataset_import_job(\n",
    "    jobName = \"retaildemostore-products-interactions-\" + import_job_suffix,\n",
    "    datasetArn = interactions_dataset_arn,\n",
    "    dataSource = {\n",
    "        \"dataLocation\": \"s3://{}/{}\".format(bucket, interactions_filename)\n",
    "    },\n",
    "    roleArn = role_arn\n",
    ")\n",
    "\n",
    "interactions_dataset_import_job_arn = interactions_create_dataset_import_job_response['datasetImportJobArn']\n",
    "print(json.dumps(interactions_create_dataset_import_job_response, indent=2))"
   ]
  },
  {
   "cell_type": "markdown",
   "id": "10bafa20",
   "metadata": {},
   "source": [
    "### Wait for Import Jobs to Complete\n",
    "It will take 10-15 minutes for the import jobs to complete, while you're waiting you can learn more about Datasets and Schemas here: https://docs.aws.amazon.com/personalize/latest/dg/how-it-works-dataset-schema.html\n",
    "\n",
    "We will wait for all three jobs to finish.\n",
    "\n",
    "### Wait for Items Import Job to Complete"
   ]
  },
  {
   "cell_type": "code",
   "execution_count": 178,
   "id": "e5409177",
   "metadata": {},
   "outputs": [
    {
     "name": "stdout",
     "output_type": "stream",
     "text": [
      "Import job arn:aws:personalize:us-east-1:016882278218:dataset-import-job/retaildemostore-products-interactions-d56f1e45 successfully completed\n",
      "Import job arn:aws:personalize:us-east-1:016882278218:dataset-import-job/retaildemostore-products-users-d56f1e45 successfully completed\n",
      "Import job arn:aws:personalize:us-east-1:016882278218:dataset-import-job/retaildemostore-products-items-d56f1e45 successfully completed\n",
      "All import jobs have ended\n",
      "CPU times: user 31.4 ms, sys: 7.82 ms, total: 39.3 ms\n",
      "Wall time: 1.26 s\n"
     ]
    }
   ],
   "source": [
    "%%time\n",
    "\n",
    "import_job_arns = [ items_dataset_import_job_arn, users_dataset_import_job_arn, interactions_dataset_import_job_arn ]\n",
    "\n",
    "max_time = time.time() + 3*60*60 # 3 hours\n",
    "while time.time() < max_time:\n",
    "    for job_arn in reversed(import_job_arns):\n",
    "        import_job_response = personalize.describe_dataset_import_job(\n",
    "            datasetImportJobArn = job_arn\n",
    "        )\n",
    "        status = import_job_response[\"datasetImportJob\"]['status']\n",
    "\n",
    "        if status == \"ACTIVE\":\n",
    "            print(f'Import job {job_arn} successfully completed')\n",
    "            import_job_arns.remove(job_arn)\n",
    "        elif status == \"CREATE FAILED\":\n",
    "            print(f'Import job {job_arn} failed')\n",
    "            if import_job_response[\"datasetImportJob\"].get('failureReason'):\n",
    "                print('   Reason: ' + import_job_response[\"datasetImportJob\"]['failureReason'])\n",
    "            import_job_arns.remove(job_arn)\n",
    "\n",
    "    if len(import_job_arns) > 0:\n",
    "        print('At least one dataset import job still in progress')\n",
    "        time.sleep(60)\n",
    "    else:\n",
    "        print(\"All import jobs have ended\")\n",
    "        break"
   ]
  },
  {
   "cell_type": "markdown",
   "id": "52cdb498",
   "metadata": {},
   "source": [
    "## Lab 2 Summary - What have we accomplished?\n",
    "In this lab we created schemas in Amazon Personalize that mapped to the dataset CSVs we created in Lab 1. We also created a dataset group in Personalize as well as datasets to receive our CSVs. Since Personalize needs access to the staging S3 bucket where the CSVs were uploaded, we inspected the S3 bucket policy and IAM role that needs to be passed to Personalize. Finally, we create dataset import jobs in Personalize to upload the three datasets into Personalize.\n",
    "\n",
    "In the next lab we will create the recommenders and custom solutions and solution versions for our personalization use cases. This is where the machine learning models are trained and deployed.\n",
    "\n",
    "### Store variables needed in the next lab\n",
    "We will pass some variables initialized in this lab by storing them in the notebook environment."
   ]
  },
  {
   "cell_type": "code",
   "execution_count": 179,
   "id": "0f7bcc21",
   "metadata": {},
   "outputs": [
    {
     "name": "stdout",
     "output_type": "stream",
     "text": [
      "Stored 'dataset_group_arn' (str)\n",
      "Stored 'role_arn' (str)\n"
     ]
    }
   ],
   "source": [
    "%store dataset_group_arn\n",
    "%store role_arn"
   ]
  },
  {
   "cell_type": "markdown",
   "id": "be144538",
   "metadata": {},
   "source": [
    "## Retail Demo Store - Personalization Workshop - Lab 3\n",
    "In this lab we are going to build on the prior lab by creating Amazon Personalize domain recommenders and custom solutions for additional use cases.\n",
    "\n",
    "### Lab 3 Objectives\n",
    "In this lab we will accomplish the following steps.\n",
    "\n",
    "- Create retail domain recommenders for the following use cases:\n",
    " - Recommended For You: will be used on the homepage (and other later workshops) to provide personalized recommendations for a given user. This recommender will be used for known users or warm anonymous users.\n",
    " - Popular Items by Views: will be used on the homepage for new/cold anonymous users where no interaction history is available. Once a new/cold user has a few interactions (product views), the homepage will switch to the Recommended For You recommender.\n",
    "- Create custom solutions and solution versions for the following use cases:\n",
    " - Similar Items: will be used on the product detail and \"live\" pages to display similar items to a given item.\n",
    " - Personalized-Ranking: will be used to rerank featured products and search results.\n",
    " - Item Attribute Affinity: user segmentation model that will be used in a later lab.\n",
    "\n",
    "### Setup\n",
    "Just as in the previous labs, we have to prepare our environment by importing dependencies and creating clients.\n",
    "\n",
    "#### Import dependencies\n",
    "The following libraries are needed for this lab."
   ]
  },
  {
   "cell_type": "code",
   "execution_count": null,
   "id": "6f66be4b",
   "metadata": {},
   "outputs": [],
   "source": [
    "import boto3\n",
    "import json\n",
    "import time\n",
    "from botocore.exceptions import ClientError\n"
   ]
  },
  {
   "cell_type": "markdown",
   "id": "ed644f2a",
   "metadata": {},
   "source": [
    "### Create clients\n",
    "We will need the following AWS service clients in this lab."
   ]
  },
  {
   "cell_type": "code",
   "execution_count": 180,
   "id": "75b60d41",
   "metadata": {},
   "outputs": [],
   "source": [
    "personalize = boto3.client('personalize')"
   ]
  },
  {
   "cell_type": "markdown",
   "id": "0ba3a67e",
   "metadata": {},
   "source": [
    "### Load variables saved in prior labs\n",
    "At the end of Lab 1 we saved some variables that we'll need in this lab. The following cell will load those variables into this lab environment."
   ]
  },
  {
   "cell_type": "code",
   "execution_count": 181,
   "id": "24b9ab16",
   "metadata": {},
   "outputs": [],
   "source": [
    "%store -r"
   ]
  },
  {
   "cell_type": "markdown",
   "id": "80a9c59a",
   "metadata": {},
   "source": [
    "### Create Recommenders\n",
    "With our three datasets imported into our dataset group, we can now turn to creating recommenders and solutions. We'll start with pre-configured recommenders that match some of our core use cases.\n",
    "\n",
    "Let's start by listing the recipes for the ECOMMERCE domain. From these recipes we will be creating the following three recommenders.\n",
    "\n",
    "- Recommended For You - will be used on the home page for the \"Inspired by your shopping trends\" grid.\n",
    "- Popular Items By Views - will be used on the home page for new/cold users with no interactions so we can bootstrap the user experience with popular products. Once the user is \"warm\", we will switch to the Recommended For You recommender."
   ]
  },
  {
   "cell_type": "code",
   "execution_count": 184,
   "id": "639b1023",
   "metadata": {},
   "outputs": [
    {
     "name": "stdout",
     "output_type": "stream",
     "text": [
      "[\n",
      "  {\n",
      "    \"name\": \"aws-ecomm-customers-who-viewed-x-also-viewed\",\n",
      "    \"recipeArn\": \"arn:aws:personalize:::recipe/aws-ecomm-customers-who-viewed-x-also-viewed\",\n",
      "    \"status\": \"ACTIVE\",\n",
      "    \"creationDateTime\": \"2019-06-10 02:00:00+02:00\",\n",
      "    \"lastUpdatedDateTime\": \"2022-08-17 02:25:42.935000+02:00\",\n",
      "    \"domain\": \"ECOMMERCE\"\n",
      "  },\n",
      "  {\n",
      "    \"name\": \"aws-ecomm-frequently-bought-together\",\n",
      "    \"recipeArn\": \"arn:aws:personalize:::recipe/aws-ecomm-frequently-bought-together\",\n",
      "    \"status\": \"ACTIVE\",\n",
      "    \"creationDateTime\": \"2019-06-10 02:00:00+02:00\",\n",
      "    \"lastUpdatedDateTime\": \"2022-08-17 02:25:42.935000+02:00\",\n",
      "    \"domain\": \"ECOMMERCE\"\n",
      "  },\n",
      "  {\n",
      "    \"name\": \"aws-ecomm-popular-items-by-purchases\",\n",
      "    \"recipeArn\": \"arn:aws:personalize:::recipe/aws-ecomm-popular-items-by-purchases\",\n",
      "    \"status\": \"ACTIVE\",\n",
      "    \"creationDateTime\": \"2019-06-10 02:00:00+02:00\",\n",
      "    \"lastUpdatedDateTime\": \"2022-08-17 02:25:42.935000+02:00\",\n",
      "    \"domain\": \"ECOMMERCE\"\n",
      "  },\n",
      "  {\n",
      "    \"name\": \"aws-ecomm-popular-items-by-views\",\n",
      "    \"recipeArn\": \"arn:aws:personalize:::recipe/aws-ecomm-popular-items-by-views\",\n",
      "    \"status\": \"ACTIVE\",\n",
      "    \"creationDateTime\": \"2019-06-10 02:00:00+02:00\",\n",
      "    \"lastUpdatedDateTime\": \"2022-08-17 02:25:42.935000+02:00\",\n",
      "    \"domain\": \"ECOMMERCE\"\n",
      "  },\n",
      "  {\n",
      "    \"name\": \"aws-ecomm-recommended-for-you\",\n",
      "    \"recipeArn\": \"arn:aws:personalize:::recipe/aws-ecomm-recommended-for-you\",\n",
      "    \"status\": \"ACTIVE\",\n",
      "    \"creationDateTime\": \"2019-06-10 02:00:00+02:00\",\n",
      "    \"lastUpdatedDateTime\": \"2022-08-17 02:25:42.935000+02:00\",\n",
      "    \"domain\": \"ECOMMERCE\"\n",
      "  }\n",
      "]\n"
     ]
    }
   ],
   "source": [
    "response = personalize.list_recipes(domain = 'ECOMMERCE')\n",
    "print(json.dumps(response['recipes'], indent=2, default=str))\n"
   ]
  },
  {
   "cell_type": "code",
   "execution_count": 185,
   "id": "7ec6fa8a",
   "metadata": {},
   "outputs": [
    {
     "name": "stdout",
     "output_type": "stream",
     "text": [
      "{\n",
      "  \"recommenderArn\": \"arn:aws:personalize:us-east-1:016882278218:recommender/retaildemostore-recommended-for-you\",\n",
      "  \"ResponseMetadata\": {\n",
      "    \"RequestId\": \"2b520709-f365-4f45-ae59-341509fa9cdd\",\n",
      "    \"HTTPStatusCode\": 200,\n",
      "    \"HTTPHeaders\": {\n",
      "      \"date\": \"Tue, 13 Sep 2022 12:19:07 GMT\",\n",
      "      \"content-type\": \"application/x-amz-json-1.1\",\n",
      "      \"content-length\": \"111\",\n",
      "      \"connection\": \"keep-alive\",\n",
      "      \"x-amzn-requestid\": \"2b520709-f365-4f45-ae59-341509fa9cdd\"\n",
      "    },\n",
      "    \"RetryAttempts\": 0\n",
      "  }\n",
      "}\n",
      "Recommended For You recommender ARN = arn:aws:personalize:us-east-1:016882278218:recommender/retaildemostore-recommended-for-you\n"
     ]
    }
   ],
   "source": [
    "try:\n",
    "    response = personalize.create_recommender(\n",
    "      name = 'retaildemostore-recommended-for-you',\n",
    "      recipeArn = 'arn:aws:personalize:::recipe/aws-ecomm-recommended-for-you',\n",
    "      datasetGroupArn = dataset_group_arn\n",
    "    )\n",
    "    rfy_recommender_arn = response['recommenderArn']\n",
    "    print(json.dumps(response, indent=2))\n",
    "except personalize.exceptions.ResourceAlreadyExistsException:\n",
    "    print('You aready created this recommender, seemingly')\n",
    "    paginator = personalize.get_paginator('list_recommenders')\n",
    "    for paginate_result in paginator.paginate(datasetGroupArn = dataset_group_arn):\n",
    "        for recommender in paginate_result['recommenders']:\n",
    "            if recommender['name'] == 'retaildemostore-recommended-for-you':\n",
    "                rfy_recommender_arn = recommender['recommenderArn']\n",
    "                break\n",
    "                \n",
    "print(f'Recommended For You recommender ARN = {rfy_recommender_arn}')"
   ]
  },
  {
   "cell_type": "markdown",
   "id": "313dc840",
   "metadata": {},
   "source": [
    "### Create Popular Items By Views recommender"
   ]
  },
  {
   "cell_type": "code",
   "execution_count": 186,
   "id": "f00a1712",
   "metadata": {},
   "outputs": [
    {
     "name": "stdout",
     "output_type": "stream",
     "text": [
      "{\n",
      "  \"recommenderArn\": \"arn:aws:personalize:us-east-1:016882278218:recommender/retaildemostore-popular-items\",\n",
      "  \"ResponseMetadata\": {\n",
      "    \"RequestId\": \"0516cb84-f687-43b6-8ea1-6052e89c71c1\",\n",
      "    \"HTTPStatusCode\": 200,\n",
      "    \"HTTPHeaders\": {\n",
      "      \"date\": \"Tue, 13 Sep 2022 12:20:11 GMT\",\n",
      "      \"content-type\": \"application/x-amz-json-1.1\",\n",
      "      \"content-length\": \"105\",\n",
      "      \"connection\": \"keep-alive\",\n",
      "      \"x-amzn-requestid\": \"0516cb84-f687-43b6-8ea1-6052e89c71c1\"\n",
      "    },\n",
      "    \"RetryAttempts\": 0\n",
      "  }\n",
      "}\n",
      "Most Viewed recommender ARN = arn:aws:personalize:us-east-1:016882278218:recommender/retaildemostore-popular-items\n"
     ]
    }
   ],
   "source": [
    "try:\n",
    "    response = personalize.create_recommender(\n",
    "      name = 'retaildemostore-popular-items',\n",
    "      recipeArn = 'arn:aws:personalize:::recipe/aws-ecomm-popular-items-by-views',\n",
    "      datasetGroupArn = dataset_group_arn\n",
    "    )\n",
    "    most_viewed_recommender_arn = response['recommenderArn']\n",
    "    print(json.dumps(response, indent=2))\n",
    "except personalize.exceptions.ResourceAlreadyExistsException:\n",
    "    print('You aready created this recommender, seemingly')\n",
    "    paginator = personalize.get_paginator('list_recommenders')\n",
    "    for paginate_result in paginator.paginate(datasetGroupArn = dataset_group_arn):\n",
    "        for recommender in paginate_result['recommenders']:\n",
    "            if recommender['name'] == 'retaildemostore-popular-items':\n",
    "                most_viewed_recommender_arn = recommender['recommenderArn']\n",
    "                break\n",
    "                \n",
    "print(f'Most Viewed recommender ARN = {most_viewed_recommender_arn}')"
   ]
  },
  {
   "cell_type": "markdown",
   "id": "40006474",
   "metadata": {},
   "source": [
    "## Create Custom Solutions\n",
    "The recommenders created above do not cover all of the personalization use cases that we want to implement in the Retail Demo Store. We also want to provide related items recommendations on the product detail page, personalize the order of featured products displayed on the home page, and we want to personalize the search results returned from Open Search in the search widget. To implement these use cases, we will create a custom solution using the Similar-Items (https://docs.aws.amazon.com/personalize/latest/dg/native-recipe-similar-items.html) and Personalized-Ranking recipes (https://docs.aws.amazon.com/personalize/latest/dg/native-recipe-search.html).\n",
    "\n",
    "In addition, we also want to use Personalize to create user segments based on user affinity with specific product attributes. We'll explore this is a later lab but let's go ahead and create a custom solution using the Item-Attribute-Affinity (https://docs.aws.amazon.com/personalize/latest/dg/item-attribute-affinity-recipe.html) recipe.\n",
    "\n",
    "These custom solutions will use the same datasets that we already implemented so all we need to do is create a solution and solution version for each recipe.\n",
    "\n",
    "### List Recipes\n",
    "First, let's list all available recipes that aren't associated with a domain."
   ]
  },
  {
   "cell_type": "code",
   "execution_count": 222,
   "id": "935ca478",
   "metadata": {},
   "outputs": [
    {
     "name": "stdout",
     "output_type": "stream",
     "text": [
      "[\n",
      "  {\n",
      "    \"name\": \"aws-item-affinity\",\n",
      "    \"recipeArn\": \"arn:aws:personalize:::recipe/aws-item-affinity\",\n",
      "    \"status\": \"ACTIVE\",\n",
      "    \"creationDateTime\": \"2021-07-15 02:00:00+02:00\",\n",
      "    \"lastUpdatedDateTime\": \"2022-08-17 02:25:42.935000+02:00\"\n",
      "  },\n",
      "  {\n",
      "    \"name\": \"aws-item-attribute-affinity\",\n",
      "    \"recipeArn\": \"arn:aws:personalize:::recipe/aws-item-attribute-affinity\",\n",
      "    \"status\": \"ACTIVE\",\n",
      "    \"creationDateTime\": \"2021-08-25 02:00:00+02:00\",\n",
      "    \"lastUpdatedDateTime\": \"2022-08-17 02:25:42.935000+02:00\"\n",
      "  },\n",
      "  {\n",
      "    \"name\": \"aws-personalized-ranking\",\n",
      "    \"recipeArn\": \"arn:aws:personalize:::recipe/aws-personalized-ranking\",\n",
      "    \"status\": \"ACTIVE\",\n",
      "    \"creationDateTime\": \"2019-06-10 02:00:00+02:00\",\n",
      "    \"lastUpdatedDateTime\": \"2022-08-17 02:25:42.935000+02:00\"\n",
      "  },\n",
      "  {\n",
      "    \"name\": \"aws-popularity-count\",\n",
      "    \"recipeArn\": \"arn:aws:personalize:::recipe/aws-popularity-count\",\n",
      "    \"status\": \"ACTIVE\",\n",
      "    \"creationDateTime\": \"2019-06-10 02:00:00+02:00\",\n",
      "    \"lastUpdatedDateTime\": \"2022-08-17 02:25:42.935000+02:00\"\n",
      "  },\n",
      "  {\n",
      "    \"name\": \"aws-similar-items\",\n",
      "    \"recipeArn\": \"arn:aws:personalize:::recipe/aws-similar-items\",\n",
      "    \"status\": \"ACTIVE\",\n",
      "    \"creationDateTime\": \"2019-06-10 02:00:00+02:00\",\n",
      "    \"lastUpdatedDateTime\": \"2022-08-17 02:25:42.935000+02:00\"\n",
      "  },\n",
      "  {\n",
      "    \"name\": \"aws-sims\",\n",
      "    \"recipeArn\": \"arn:aws:personalize:::recipe/aws-sims\",\n",
      "    \"status\": \"ACTIVE\",\n",
      "    \"creationDateTime\": \"2019-06-10 02:00:00+02:00\",\n",
      "    \"lastUpdatedDateTime\": \"2022-08-17 02:25:42.935000+02:00\"\n",
      "  }\n",
      "]\n"
     ]
    }
   ],
   "source": [
    "response = personalize.list_recipes()\n",
    "#print(json.dumps(response, indent=2,default=str))\n",
    "custom_recipes = []\n",
    "for recipe in response['recipes']:\n",
    "    if not recipe.get('domain'):\n",
    "        custom_recipes.append(recipe)\n",
    "        \n",
    "print(json.dumps(custom_recipes, indent=2, default=str))\n",
    "        \n"
   ]
  },
  {
   "cell_type": "markdown",
   "id": "60695727",
   "metadata": {},
   "source": [
    "As you can see above, there are several recipes to choose from. Let's declare the recipes for the two custom solutions we will have to create.\n",
    "\n",
    "### Declare Personalize Recipe for Similar Items\n",
    "In use-cases where we have an item/product and we want to display similar items based on the co-interactions of all users as well as draw upon thematic similarities based on item metadata, we can use the Similar-Items (https://docs.aws.amazon.com/personalize/latest/dg/native-recipe-similar-items.html) recipe to provided related items recommendations.\n",
    "\n",
    "The Similar-Items (aws-similar-items) generates recommendations for items that are similar to an item you specify. Similar-Items is optimized for similar item recommendation scenarios with item metadata. To use Similar-Items, you must create an Interactions dataset and an Items dataset. Use Similar-Items when your catalog has item metadata and items with little to no interactions, but your Interactions dataset still has at minimum 1000 unique historical and event interactions (combined).\n",
    "\n",
    "Similar-Items calculates similarity based on both the co-occurrence of the item in user histories in your Interaction dataset, and the item metadata, including categorical and unstructured text metadata, in your Items dataset. For example, with Similar-Items Amazon Personalize could recommend items customers frequently bought together with a similar style, or movies that different users also watched with a similar description.\n",
    "\n",
    "Note that Personalize also has the SIMS (https://docs.aws.amazon.com/personalize/latest/dg/native-recipe-sims.html) recipe for the related items use case. However, SIMS only trains on co-interaction data (i.e. the interactions dataset) and does not consider item metadata. Since we may have some items with fewer (or no) interactions, the Similar-Items recipe is a better match for the Retail Demo Store."
   ]
  },
  {
   "cell_type": "code",
   "execution_count": 193,
   "id": "e1bcda9b",
   "metadata": {},
   "outputs": [],
   "source": [
    "similar_items_recipe_arn = 'arn:aws:personalize:::recipe/aws-similar-items'"
   ]
  },
  {
   "cell_type": "markdown",
   "id": "544949d5",
   "metadata": {},
   "source": [
    "### Declare Personalize Recipe for Personalized Ranking\n",
    "In use-cases where we have a curated list of products, we can use the Personalized-Ranking (https://docs.aws.amazon.com/personalize/latest/dg/native-recipe-search.html) recipe to reorder the products for the current user.\n",
    "\n",
    "The Personalized-Ranking recipe generates personalized rankings. A personalized ranking is a list of recommended items that are re-ranked for a specific user."
   ]
  },
  {
   "cell_type": "code",
   "execution_count": 194,
   "id": "c2bab41f",
   "metadata": {},
   "outputs": [],
   "source": [
    "ranking_recipe_arn = 'arn:aws:personalize:::recipe/aws-personalized-ranking'\n"
   ]
  },
  {
   "cell_type": "markdown",
   "id": "4394869a",
   "metadata": {},
   "source": [
    "### Declare Personalize Recipe for Item Attribute Affinity\n",
    "For the user segmentation use case, we will generate groups of users (segments) with an affinity for specific item attributes. We will explore this use case further in an upcoming lab but for now we will create a custom solution and solution version using the Item-Attribute-Affinity recipe.\n",
    "\n",
    "The Item-Attribute-Affinity (aws-item-attribute-affinity) recipe is a USER_SEGMENTATION recipe that creates a user segment (group of users) for each item attribute that you specify. Use Item-Attribute-Affinity to learn more about your users and take actions based on their respective user segments.\n",
    "\n",
    "For example, you might want to create a marketing campaign for your retail application based on user preferences for shoe types in your catalog. Item-Attribute-Affinity would create a user segment for each shoe type based data in your Interactions and Items datasets. You could use this to promote different shoes to different user segments based on the likelihood that they will take an action (for example, click a shoe or purchase a shoe). Other uses might include promoting different movie genres to different users or identifying prospective job applicant based on job type."
   ]
  },
  {
   "cell_type": "code",
   "execution_count": 202,
   "id": "90a09d09",
   "metadata": {},
   "outputs": [],
   "source": [
    "item_attribute_affinity_recipe_arn = 'arn:aws:personalize:::recipe/aws-item-attribute-affinity'"
   ]
  },
  {
   "cell_type": "markdown",
   "id": "4d9c7546",
   "metadata": {},
   "source": [
    "### Create Custom Solutions and Solution Versions\n",
    "With our recipes defined, we can now create our solutions and solution versions.\n",
    "\n",
    "#### Create Similar Items Solution"
   ]
  },
  {
   "cell_type": "code",
   "execution_count": 195,
   "id": "79dd486e",
   "metadata": {},
   "outputs": [
    {
     "name": "stdout",
     "output_type": "stream",
     "text": [
      "{\n",
      "  \"solutionArn\": \"arn:aws:personalize:us-east-1:016882278218:solution/retaildemostore-related-items\",\n",
      "  \"ResponseMetadata\": {\n",
      "    \"RequestId\": \"1edce6af-ec61-409c-bfd3-361daa43dd4f\",\n",
      "    \"HTTPStatusCode\": 200,\n",
      "    \"HTTPHeaders\": {\n",
      "      \"date\": \"Tue, 13 Sep 2022 13:09:21 GMT\",\n",
      "      \"content-type\": \"application/x-amz-json-1.1\",\n",
      "      \"content-length\": \"99\",\n",
      "      \"connection\": \"keep-alive\",\n",
      "      \"x-amzn-requestid\": \"1edce6af-ec61-409c-bfd3-361daa43dd4f\"\n",
      "    },\n",
      "    \"RetryAttempts\": 0\n",
      "  }\n",
      "}\n"
     ]
    }
   ],
   "source": [
    "similar_items_solution_version_arn = None\n",
    "\n",
    "try:\n",
    "    create_solution_response = personalize.create_solution(\n",
    "        name = \"retaildemostore-related-items\",\n",
    "        datasetGroupArn = dataset_group_arn,\n",
    "        recipeArn = similar_items_recipe_arn\n",
    "    )\n",
    "\n",
    "    similar_items_solution_arn = create_solution_response['solutionArn']\n",
    "    print(json.dumps(create_solution_response, indent=2))\n",
    "except personalize.exceptions.ResourceAlreadyExistsException:\n",
    "    print('You aready created this solution, seemingly')\n",
    "    paginator = personalize.get_paginator('list_solutions')\n",
    "    for paginate_result in paginator.paginate(datasetGroupArn = dataset_group_arn):\n",
    "        for solution in paginate_result['solutions']:\n",
    "            if solution['name'] == 'retaildemostore-related-items':\n",
    "                similar_items_solution_arn = solution['solutionArn']\n",
    "                print(f'Similar Items solution ARN = {similar_items_solution_arn}')\n",
    "                \n",
    "                response = personalize.list_solution_versions(\n",
    "                    solutionArn = similar_items_solution_arn,\n",
    "                    maxResults = 100\n",
    "                )\n",
    "                if len(response['solutionVersions']) > 0:\n",
    "                    similar_items_solution_version_arn = response['solutionVersions'][-1]['solutionVersionArn']\n",
    "                    print(f'Will use most recent solution version for this solution: {similar_items_solution_version_arn}')\n",
    "                    \n",
    "                break"
   ]
  },
  {
   "cell_type": "markdown",
   "id": "9e6119f8",
   "metadata": {},
   "source": [
    "#### Create Similar Items Solution Version\n",
    "Next we can create a solution version for the solution. This is where the model is trained for this custom solution."
   ]
  },
  {
   "cell_type": "code",
   "execution_count": 198,
   "id": "b3086248",
   "metadata": {},
   "outputs": [
    {
     "name": "stdout",
     "output_type": "stream",
     "text": [
      "{\n",
      "  \"solutionVersionArn\": \"arn:aws:personalize:us-east-1:016882278218:solution/retaildemostore-related-items/f66c9ed4\",\n",
      "  \"ResponseMetadata\": {\n",
      "    \"RequestId\": \"f4d37152-4159-45b8-b398-d7854bf85dd4\",\n",
      "    \"HTTPStatusCode\": 200,\n",
      "    \"HTTPHeaders\": {\n",
      "      \"date\": \"Tue, 13 Sep 2022 13:12:32 GMT\",\n",
      "      \"content-type\": \"application/x-amz-json-1.1\",\n",
      "      \"content-length\": \"115\",\n",
      "      \"connection\": \"keep-alive\",\n",
      "      \"x-amzn-requestid\": \"f4d37152-4159-45b8-b398-d7854bf85dd4\"\n",
      "    },\n",
      "    \"RetryAttempts\": 0\n",
      "  }\n",
      "}\n"
     ]
    }
   ],
   "source": [
    "if not similar_items_solution_version_arn:\n",
    "    create_solution_version_response = personalize.create_solution_version(\n",
    "        solutionArn = similar_items_solution_arn\n",
    "    )\n",
    "\n",
    "    similar_items_solution_version_arn = create_solution_version_response['solutionVersionArn']\n",
    "    print(json.dumps(create_solution_version_response, indent=2))\n",
    "else:\n",
    "    print(f'Solution version {similar_items_solution_version_arn} already exists; not creating')"
   ]
  },
  {
   "cell_type": "markdown",
   "id": "43438f27",
   "metadata": {},
   "source": [
    "#### Create Personalized Ranking Solution"
   ]
  },
  {
   "cell_type": "code",
   "execution_count": 199,
   "id": "4062b925",
   "metadata": {},
   "outputs": [
    {
     "name": "stdout",
     "output_type": "stream",
     "text": [
      "{\n",
      "  \"solutionArn\": \"arn:aws:personalize:us-east-1:016882278218:solution/retaildemostore-personalized-ranking\",\n",
      "  \"ResponseMetadata\": {\n",
      "    \"RequestId\": \"ae654aac-0db6-44d8-8e80-91a2335fee65\",\n",
      "    \"HTTPStatusCode\": 200,\n",
      "    \"HTTPHeaders\": {\n",
      "      \"date\": \"Tue, 13 Sep 2022 13:13:10 GMT\",\n",
      "      \"content-type\": \"application/x-amz-json-1.1\",\n",
      "      \"content-length\": \"106\",\n",
      "      \"connection\": \"keep-alive\",\n",
      "      \"x-amzn-requestid\": \"ae654aac-0db6-44d8-8e80-91a2335fee65\"\n",
      "    },\n",
      "    \"RetryAttempts\": 0\n",
      "  }\n",
      "}\n"
     ]
    }
   ],
   "source": [
    "ranking_solution_version_arn = None\n",
    "\n",
    "try:\n",
    "    create_solution_response = personalize.create_solution(\n",
    "        name = \"retaildemostore-personalized-ranking\",\n",
    "        datasetGroupArn = dataset_group_arn,\n",
    "        recipeArn = ranking_recipe_arn\n",
    "    )\n",
    "\n",
    "    ranking_solution_arn = create_solution_response['solutionArn']\n",
    "    print(json.dumps(create_solution_response, indent=2))\n",
    "except personalize.exceptions.ResourceAlreadyExistsException:\n",
    "    print('You aready created this solution, seemingly')\n",
    "    paginator = personalize.get_paginator('list_solutions')\n",
    "    for paginate_result in paginator.paginate(datasetGroupArn = dataset_group_arn):\n",
    "        for solution in paginate_result['solutions']:\n",
    "            if solution['name'] == 'retaildemostore-personalized-ranking':\n",
    "                ranking_solution_arn = solution['solutionArn']\n",
    "                print(f'Ranking solution ARN = {ranking_solution_arn}')\n",
    "                \n",
    "                response = personalize.list_solution_versions(\n",
    "                    solutionArn = ranking_solution_arn,\n",
    "                    maxResults = 100\n",
    "                )\n",
    "                if len(response['solutionVersions']) > 0:\n",
    "                    ranking_solution_version_arn = response['solutionVersions'][-1]['solutionVersionArn']\n",
    "                    print(f'Will use most recent solution version for this solution: {ranking_solution_version_arn}')\n",
    "                    \n",
    "                break"
   ]
  },
  {
   "cell_type": "markdown",
   "id": "fe297474",
   "metadata": {},
   "source": [
    "#### Create Personalized Ranking Solution Version\n",
    "Next we can create a solution version for the solution. This is where the model is trained for this custom solution."
   ]
  },
  {
   "cell_type": "code",
   "execution_count": 200,
   "id": "095917e2",
   "metadata": {},
   "outputs": [
    {
     "name": "stdout",
     "output_type": "stream",
     "text": [
      "{\n",
      "  \"solutionVersionArn\": \"arn:aws:personalize:us-east-1:016882278218:solution/retaildemostore-personalized-ranking/c36bd02a\",\n",
      "  \"ResponseMetadata\": {\n",
      "    \"RequestId\": \"055d4125-e321-48ee-bfd0-335f29c5a8c1\",\n",
      "    \"HTTPStatusCode\": 200,\n",
      "    \"HTTPHeaders\": {\n",
      "      \"date\": \"Tue, 13 Sep 2022 13:13:49 GMT\",\n",
      "      \"content-type\": \"application/x-amz-json-1.1\",\n",
      "      \"content-length\": \"122\",\n",
      "      \"connection\": \"keep-alive\",\n",
      "      \"x-amzn-requestid\": \"055d4125-e321-48ee-bfd0-335f29c5a8c1\"\n",
      "    },\n",
      "    \"RetryAttempts\": 0\n",
      "  }\n",
      "}\n"
     ]
    }
   ],
   "source": [
    "if not ranking_solution_version_arn:\n",
    "    create_solution_version_response = personalize.create_solution_version(\n",
    "        solutionArn = ranking_solution_arn\n",
    "    )\n",
    "\n",
    "    ranking_solution_version_arn = create_solution_version_response['solutionVersionArn']\n",
    "    print(json.dumps(create_solution_version_response, indent=2))\n",
    "else:\n",
    "    print(f'Solution version {ranking_solution_version_arn} already exists; not creating')"
   ]
  },
  {
   "cell_type": "markdown",
   "id": "c6ab5432",
   "metadata": {},
   "source": [
    "#### Create Item Attribute Affinity Solution"
   ]
  },
  {
   "cell_type": "code",
   "execution_count": 203,
   "id": "ed26e891",
   "metadata": {},
   "outputs": [
    {
     "name": "stdout",
     "output_type": "stream",
     "text": [
      "{\n",
      "  \"solutionArn\": \"arn:aws:personalize:us-east-1:016882278218:solution/retaildemostore-item-attribute-affinity\",\n",
      "  \"ResponseMetadata\": {\n",
      "    \"RequestId\": \"ce55b6b1-931c-42f5-8ce7-e335b75422a6\",\n",
      "    \"HTTPStatusCode\": 200,\n",
      "    \"HTTPHeaders\": {\n",
      "      \"date\": \"Tue, 13 Sep 2022 13:15:56 GMT\",\n",
      "      \"content-type\": \"application/x-amz-json-1.1\",\n",
      "      \"content-length\": \"109\",\n",
      "      \"connection\": \"keep-alive\",\n",
      "      \"x-amzn-requestid\": \"ce55b6b1-931c-42f5-8ce7-e335b75422a6\"\n",
      "    },\n",
      "    \"RetryAttempts\": 0\n",
      "  }\n",
      "}\n"
     ]
    }
   ],
   "source": [
    "item_attribute_affinity_solution_version_arn = None\n",
    "\n",
    "try:\n",
    "    create_solution_response = personalize.create_solution(\n",
    "        name = \"retaildemostore-item-attribute-affinity\",\n",
    "        datasetGroupArn = dataset_group_arn,\n",
    "        recipeArn = item_attribute_affinity_recipe_arn\n",
    "    )\n",
    "\n",
    "    item_attribute_affinity_solution_arn = create_solution_response['solutionArn']\n",
    "    print(json.dumps(create_solution_response, indent=2))\n",
    "except personalize.exceptions.ResourceAlreadyExistsException:\n",
    "    print('You aready created this solution, seemingly')\n",
    "    paginator = personalize.get_paginator('list_solutions')\n",
    "    for paginate_result in paginator.paginate(datasetGroupArn = dataset_group_arn):\n",
    "        for solution in paginate_result['solutions']:\n",
    "            if solution['name'] == 'retaildemostore-item-attribute-affinity':\n",
    "                item_attribute_affinity_solution_arn = solution['solutionArn']\n",
    "                print(f'Item Attribute Affinity solution ARN = {item_attribute_affinity_solution_arn}')\n",
    "                \n",
    "                response = personalize.list_solution_versions(\n",
    "                    solutionArn = item_attribute_affinity_solution_arn,\n",
    "                    maxResults = 100\n",
    "                )\n",
    "                if len(response['solutionVersions']) > 0:\n",
    "                    item_attribute_affinity_solution_version_arn = response['solutionVersions'][-1]['solutionVersionArn']\n",
    "                    print(f'Will use most recent solution version for this solution: {item_attribute_affinity_solution_version_arn}')\n",
    "                    \n",
    "                break"
   ]
  },
  {
   "cell_type": "code",
   "execution_count": 210,
   "id": "54f164a9",
   "metadata": {},
   "outputs": [
    {
     "name": "stdout",
     "output_type": "stream",
     "text": [
      "{\n",
      "  \"solutionVersionArn\": \"arn:aws:personalize:us-east-1:016882278218:solution/retaildemostore-item-attribute-affinity/5202d82f\",\n",
      "  \"ResponseMetadata\": {\n",
      "    \"RequestId\": \"eac91455-6312-4944-9cbf-4caef2882432\",\n",
      "    \"HTTPStatusCode\": 200,\n",
      "    \"HTTPHeaders\": {\n",
      "      \"date\": \"Tue, 13 Sep 2022 14:04:40 GMT\",\n",
      "      \"content-type\": \"application/x-amz-json-1.1\",\n",
      "      \"content-length\": \"125\",\n",
      "      \"connection\": \"keep-alive\",\n",
      "      \"x-amzn-requestid\": \"eac91455-6312-4944-9cbf-4caef2882432\"\n",
      "    },\n",
      "    \"RetryAttempts\": 0\n",
      "  }\n",
      "}\n"
     ]
    }
   ],
   "source": [
    "if not item_attribute_affinity_solution_version_arn:\n",
    "    create_solution_version_response = personalize.create_solution_version(\n",
    "        solutionArn = item_attribute_affinity_solution_arn\n",
    "    )\n",
    "\n",
    "    item_attribute_affinity_solution_version_arn = create_solution_version_response['solutionVersionArn']\n",
    "    print(json.dumps(create_solution_version_response, indent=2))\n",
    "else:\n",
    "    print(f'Solution version {item_attribute_affinity_solution_version_arn} already exists; not creating')"
   ]
  },
  {
   "cell_type": "markdown",
   "id": "3bb13715",
   "metadata": {},
   "source": [
    "###  Wait for Recommenders and Solution Versions to Complete\n",
    "It can take 40-60 minutes for all recommenders and solution versions to be created. During this process a model is being trained and tested with the data contained within your datasets. The duration of training jobs can increase based on the size of the dataset, training parameters and a selected recipe. We submitted requests for all three recommenders and two custom solutions and versions at once so they are trained in parallel. In the cells below we will wait for all recommenders and solution versions to finish.\n",
    "\n",
    "While you are waiting for this process to complete you can learn more about recommenders (https://docs.aws.amazon.com/personalize/latest/dg/creating-recommenders.html) and custom solutions (https://docs.aws.amazon.com/personalize/latest/dg/training-deploying-solutions.html).\n",
    "\n",
    "The following cell waits for all recommenders to become active."
   ]
  },
  {
   "cell_type": "code",
   "execution_count": 204,
   "id": "a8b292d8",
   "metadata": {},
   "outputs": [
    {
     "name": "stdout",
     "output_type": "stream",
     "text": [
      "Recommender arn:aws:personalize:us-east-1:016882278218:recommender/retaildemostore-popular-items successfully completed\n",
      "Recommender arn:aws:personalize:us-east-1:016882278218:recommender/retaildemostore-recommended-for-you successfully completed\n",
      "All recommenders have completed\n",
      "CPU times: user 35.6 ms, sys: 36.6 ms, total: 72.2 ms\n",
      "Wall time: 1.15 s\n"
     ]
    }
   ],
   "source": [
    "%%time\n",
    "\n",
    "recommender_arns = [ rfy_recommender_arn, most_viewed_recommender_arn ]\n",
    "\n",
    "max_time = time.time() + 3*60*60 # 3 hours\n",
    "while time.time() < max_time:\n",
    "    for recommender_arn in reversed(recommender_arns):\n",
    "        response = personalize.describe_recommender(\n",
    "            recommenderArn = recommender_arn\n",
    "        )\n",
    "        status = response[\"recommender\"][\"status\"]\n",
    "\n",
    "        if status == \"ACTIVE\":\n",
    "            print(f'Recommender {recommender_arn} successfully completed')\n",
    "            recommender_arns.remove(recommender_arn)\n",
    "        elif status == \"CREATE FAILED\":\n",
    "            print(f'Recommender {recommender_arn} failed')\n",
    "            if response[\"recommender\"].get('failureReason'):\n",
    "                print('   Reason: ' + response[\"recommender\"]['failureReason'])\n",
    "            recommender_arns.remove(recommender_arn)\n",
    "\n",
    "    if len(recommender_arns) > 0:\n",
    "        print('At least one recommender is still in progress')\n",
    "        time.sleep(60)\n",
    "    else:\n",
    "        print(\"All recommenders have completed\")\n",
    "        break"
   ]
  },
  {
   "cell_type": "markdown",
   "id": "e1d92b47",
   "metadata": {},
   "source": [
    "### Wait for custom solution versions to become active\n",
    "The following cell waits for the solution versions for the similar items, personalized ranking, and item attribute affinity use cases to become active. It's likely that they're already active (or close to being active) since they were being created in parallel with the recommenders. Nevertheless, we'll make sure they are active too before proceeding."
   ]
  },
  {
   "cell_type": "code",
   "execution_count": 213,
   "id": "6a3bea72",
   "metadata": {},
   "outputs": [
    {
     "name": "stdout",
     "output_type": "stream",
     "text": [
      "Solution version arn:aws:personalize:us-east-1:016882278218:solution/retaildemostore-personalized-ranking/c36bd02a successfully completed\n",
      "Solution version arn:aws:personalize:us-east-1:016882278218:solution/retaildemostore-related-items/f66c9ed4 successfully completed\n",
      "At least one solution version is still in progress\n"
     ]
    },
    {
     "ename": "KeyboardInterrupt",
     "evalue": "",
     "output_type": "error",
     "traceback": [
      "\u001b[0;31m---------------------------------------------------------------------------\u001b[0m",
      "\u001b[0;31mKeyboardInterrupt\u001b[0m                         Traceback (most recent call last)",
      "\u001b[0;32m<timed exec>\u001b[0m in \u001b[0;36m<module>\u001b[0;34m\u001b[0m\n",
      "\u001b[0;31mKeyboardInterrupt\u001b[0m: "
     ]
    }
   ],
   "source": [
    "%%time\n",
    "\n",
    "soln_ver_arns = [ \n",
    "    similar_items_solution_version_arn, \n",
    "    ranking_solution_version_arn, \n",
    "    item_attribute_affinity_solution_version_arn \n",
    "]\n",
    "\n",
    "max_time = time.time() + 3*60*60 # 3 hours\n",
    "while time.time() < max_time:\n",
    "    for soln_ver_arn in reversed(soln_ver_arns):\n",
    "        soln_ver_response = personalize.describe_solution_version(\n",
    "            solutionVersionArn = soln_ver_arn\n",
    "        )\n",
    "        status = soln_ver_response[\"solutionVersion\"][\"status\"]\n",
    "\n",
    "        if status == \"ACTIVE\":\n",
    "            print(f'Solution version {soln_ver_arn} successfully completed')\n",
    "            soln_ver_arns.remove(soln_ver_arn)\n",
    "        elif status == \"CREATE FAILED\":\n",
    "            print(f'Solution version {soln_ver_arn} failed')\n",
    "            if soln_ver_response[\"solutionVersion\"].get('failureReason'):\n",
    "                print('   Reason: ' + soln_ver_response[\"solutionVersion\"]['failureReason'])\n",
    "            soln_ver_arns.remove(soln_ver_arn)\n",
    "\n",
    "    if len(soln_ver_arns) > 0:\n",
    "        print('At least one solution version is still in progress')\n",
    "        time.sleep(60)\n",
    "    else:\n",
    "        print(\"All solution versions have completed\")\n",
    "        break"
   ]
  },
  {
   "cell_type": "markdown",
   "id": "af5e20e5",
   "metadata": {},
   "source": [
    "### Evaluate Offline Metrics for Custom Solution Versions\n",
    "Amazon Personalize provides offline metrics (https://docs.aws.amazon.com/personalize/latest/dg/working-with-training-metrics.html#working-with-training-metrics-metrics) for custom solutions that allow you to evaluate the performance of the solution version before you deploy the model in your application. Metrics can also be used to view the effects of modifying a custom solution's hyperparameters or to compare the metrics between solutions that use the same training data but created with different recipes.\n",
    "\n",
    "Let's retrieve the metrics for the custom solution versions we just created.\n",
    "\n",
    "#### Similar Items Metrics"
   ]
  },
  {
   "cell_type": "code",
   "execution_count": 212,
   "id": "ebd748b4",
   "metadata": {},
   "outputs": [
    {
     "name": "stdout",
     "output_type": "stream",
     "text": [
      "{\n",
      "  \"coverage\": 0.9651,\n",
      "  \"mean_reciprocal_rank_at_25\": 0.2362,\n",
      "  \"normalized_discounted_cumulative_gain_at_10\": 0.2923,\n",
      "  \"normalized_discounted_cumulative_gain_at_25\": 0.3302,\n",
      "  \"normalized_discounted_cumulative_gain_at_5\": 0.247,\n",
      "  \"precision_at_10\": 0.06,\n",
      "  \"precision_at_25\": 0.0325,\n",
      "  \"precision_at_5\": 0.0842\n",
      "}\n"
     ]
    }
   ],
   "source": [
    "get_solution_metrics_response = personalize.get_solution_metrics(\n",
    "    solutionVersionArn = similar_items_solution_version_arn\n",
    ")\n",
    "\n",
    "print(json.dumps(get_solution_metrics_response['metrics'], indent=2))"
   ]
  },
  {
   "cell_type": "markdown",
   "id": "89e2520a",
   "metadata": {},
   "source": [
    "#### Personalized Ranking Metrics\n"
   ]
  },
  {
   "cell_type": "code",
   "execution_count": 214,
   "id": "3e40645a",
   "metadata": {},
   "outputs": [
    {
     "name": "stdout",
     "output_type": "stream",
     "text": [
      "{\n",
      "  \"coverage\": 0.9822,\n",
      "  \"mean_reciprocal_rank_at_25\": 0.8423,\n",
      "  \"normalized_discounted_cumulative_gain_at_10\": 0.7395,\n",
      "  \"normalized_discounted_cumulative_gain_at_25\": 0.77,\n",
      "  \"normalized_discounted_cumulative_gain_at_5\": 0.708,\n",
      "  \"precision_at_10\": 0.1369,\n",
      "  \"precision_at_25\": 0.0651,\n",
      "  \"precision_at_5\": 0.2375\n",
      "}\n"
     ]
    }
   ],
   "source": [
    "get_solution_metrics_response = personalize.get_solution_metrics(\n",
    "    solutionVersionArn = ranking_solution_version_arn\n",
    ")\n",
    "\n",
    "print(json.dumps(get_solution_metrics_response['metrics'], indent=2))"
   ]
  },
  {
   "cell_type": "markdown",
   "id": "03283b18",
   "metadata": {},
   "source": [
    "#### Item Attribute Affinity Metrics"
   ]
  },
  {
   "cell_type": "code",
   "execution_count": 215,
   "id": "27738992",
   "metadata": {},
   "outputs": [
    {
     "name": "stdout",
     "output_type": "stream",
     "text": [
      "{\n",
      "  \"coverage\": 0.6167,\n",
      "  \"hits_at_1_percent\": 12.428,\n",
      "  \"recall_at_1_percent\": 0.7541\n",
      "}\n"
     ]
    }
   ],
   "source": [
    "get_solution_metrics_response = personalize.get_solution_metrics(\n",
    "    solutionVersionArn = item_attribute_affinity_solution_version_arn\n",
    ")\n",
    "\n",
    "print(json.dumps(get_solution_metrics_response['metrics'], indent=2))"
   ]
  },
  {
   "cell_type": "markdown",
   "id": "012316d5",
   "metadata": {},
   "source": [
    "You can learn more about interpreting offline metrics in the Personalize documentation (https://docs.aws.amazon.com/personalize/latest/dg/working-with-training-metrics.html) and in the blog post on A/B testing (https://aws.amazon.com/blogs/machine-learning/using-a-b-testing-to-measure-the-efficacy-of-recommendations-generated-by-amazon-personalize/) with Personalize."
   ]
  },
  {
   "cell_type": "markdown",
   "id": "b5db17c7",
   "metadata": {},
   "source": [
    "## Create campaigns for Similar Items and Personalized Ranking solutions\n",
    "Once we're satisfied with our solution versions, we need to create campaigns for the custom solution versions created for the similar items and personalized ranking recipes. This is required so we have an real-time API endpoints that can be called from the Recommendations microservice to return related items for the product detail page and rerank products for the featured products and search widgets. When creating a campaign you can specify the minimum transactions per second (minProvisionedTPS) that you expect to make against the service for this campaign. Personalize will automatically scale resources for the inference endpoint up and down for the campaign to match demand but will never scale below minProvisionedTPS.\n",
    "\n",
    "Let's create campaigns for the similar items and personalized ranking custom solution versions with each set at minProvisionedTPS of 1 (which is also the default if not specified).\n",
    "\n",
    "Note: For the item attribute affinity custom solution, we don't need a campaign since it only supports generating user segments using batch segmentation jobs. We'll explore this in a later lab.\n",
    "\n",
    "### Create Similar Items campaign"
   ]
  },
  {
   "cell_type": "code",
   "execution_count": 216,
   "id": "c606a60f",
   "metadata": {},
   "outputs": [
    {
     "name": "stdout",
     "output_type": "stream",
     "text": [
      "{\n",
      "  \"campaignArn\": \"arn:aws:personalize:us-east-1:016882278218:campaign/retaildemostore-related-items\",\n",
      "  \"ResponseMetadata\": {\n",
      "    \"RequestId\": \"9fc86555-d7b2-4e45-b6f4-8d25bb26ca76\",\n",
      "    \"HTTPStatusCode\": 200,\n",
      "    \"HTTPHeaders\": {\n",
      "      \"date\": \"Wed, 14 Sep 2022 10:42:17 GMT\",\n",
      "      \"content-type\": \"application/x-amz-json-1.1\",\n",
      "      \"content-length\": \"99\",\n",
      "      \"connection\": \"keep-alive\",\n",
      "      \"x-amzn-requestid\": \"9fc86555-d7b2-4e45-b6f4-8d25bb26ca76\"\n",
      "    },\n",
      "    \"RetryAttempts\": 0\n",
      "  }\n",
      "}\n"
     ]
    }
   ],
   "source": [
    "try:\n",
    "    create_campaign_response = personalize.create_campaign(\n",
    "        name = \"retaildemostore-related-items\",\n",
    "        solutionVersionArn = similar_items_solution_version_arn,\n",
    "        minProvisionedTPS = 1\n",
    "    )\n",
    "\n",
    "    similar_items_campaign_arn = create_campaign_response['campaignArn']\n",
    "    print(json.dumps(create_campaign_response, indent=2))\n",
    "except personalize.exceptions.ResourceAlreadyExistsException:\n",
    "    print('You aready created this campaign, seemingly. Will update campaign instead.')\n",
    "    paginator = personalize.get_paginator('list_campaigns')\n",
    "    for paginate_result in paginator.paginate(solutionArn = similar_items_solution_arn):\n",
    "        for campaign in paginate_result['campaigns']:\n",
    "            if campaign['name'] == 'retaildemostore-related-items':\n",
    "                similar_items_campaign_arn = campaign['campaignArn']\n",
    "                print(f'Found existing campaign for solution: {similar_items_campaign_arn}')\n",
    "                \n",
    "                response = personalize.describe_campaign(campaignArn = similar_items_campaign_arn)\n",
    "                if response['campaign']['solutionVersionArn'] == similar_items_solution_version_arn:\n",
    "                    print('Campaign is already using the latest solution version')\n",
    "                else:\n",
    "                    print('Updating campaign with the latest solution version')\n",
    "                    response = personalize.update_campaign(\n",
    "                        campaignArn = similar_items_campaign_arn,\n",
    "                        solutionVersionArn = similar_items_solution_version_arn,\n",
    "                        minProvisionedTPS = 1\n",
    "                    )\n",
    "                    print(json.dumps(response, indent=2))\n",
    "                break"
   ]
  },
  {
   "cell_type": "markdown",
   "id": "c3fa271c",
   "metadata": {},
   "source": [
    "### Create Personalized Ranking campaign"
   ]
  },
  {
   "cell_type": "code",
   "execution_count": 218,
   "id": "ebcfcf27",
   "metadata": {},
   "outputs": [
    {
     "name": "stdout",
     "output_type": "stream",
     "text": [
      "{\n",
      "  \"campaignArn\": \"arn:aws:personalize:us-east-1:016882278218:campaign/retaildemostore-personalized-ranking\",\n",
      "  \"ResponseMetadata\": {\n",
      "    \"RequestId\": \"78f48a22-6c9b-4666-8ff2-dff14b0fbc24\",\n",
      "    \"HTTPStatusCode\": 200,\n",
      "    \"HTTPHeaders\": {\n",
      "      \"date\": \"Wed, 14 Sep 2022 10:42:53 GMT\",\n",
      "      \"content-type\": \"application/x-amz-json-1.1\",\n",
      "      \"content-length\": \"106\",\n",
      "      \"connection\": \"keep-alive\",\n",
      "      \"x-amzn-requestid\": \"78f48a22-6c9b-4666-8ff2-dff14b0fbc24\"\n",
      "    },\n",
      "    \"RetryAttempts\": 0\n",
      "  }\n",
      "}\n"
     ]
    }
   ],
   "source": [
    "try:\n",
    "    create_campaign_response = personalize.create_campaign(\n",
    "        name = \"retaildemostore-personalized-ranking\",\n",
    "        solutionVersionArn = ranking_solution_version_arn,\n",
    "        minProvisionedTPS = 1\n",
    "    )\n",
    "\n",
    "    ranking_campaign_arn = create_campaign_response['campaignArn']\n",
    "    print(json.dumps(create_campaign_response, indent=2))\n",
    "except personalize.exceptions.ResourceAlreadyExistsException:\n",
    "    print('You aready created this campaign, seemingly. Will update campaign instead.')\n",
    "    paginator = personalize.get_paginator('list_campaigns')\n",
    "    for paginate_result in paginator.paginate(solutionArn = ranking_solution_arn):\n",
    "        for campaign in paginate_result['campaigns']:\n",
    "            if campaign['name'] == 'retaildemostore-personalized-ranking':\n",
    "                ranking_campaign_arn = campaign['campaignArn']\n",
    "                print(f'Found existing campaign for solution: {ranking_campaign_arn}')\n",
    "                \n",
    "                response = personalize.describe_campaign(campaignArn = ranking_campaign_arn)\n",
    "                if response['campaign']['solutionVersionArn'] == ranking_solution_version_arn:\n",
    "                    print('Campaign is already using the latest solution version')\n",
    "                else:\n",
    "                    print('Updating campaign with the latest solution version')\n",
    "                    response = personalize.update_campaign(\n",
    "                        campaignArn = ranking_campaign_arn,\n",
    "                        solutionVersionArn = ranking_solution_version_arn,\n",
    "                        minProvisionedTPS = 1\n",
    "                    )\n",
    "                    print(json.dumps(response, indent=2))\n",
    "                break"
   ]
  },
  {
   "cell_type": "markdown",
   "id": "f6663309",
   "metadata": {},
   "source": [
    "#### Wait for campaigns to Have ACTIVE Status\n",
    "It can take 15-20 minutes for a campaign to be fully created.\n",
    "\n",
    "While you are waiting for this to complete you can learn more about campaigns here: https://docs.aws.amazon.com/personalize/latest/dg/campaigns.html"
   ]
  },
  {
   "cell_type": "code",
   "execution_count": 219,
   "id": "54b20ca2",
   "metadata": {},
   "outputs": [
    {
     "name": "stdout",
     "output_type": "stream",
     "text": [
      "At least one campaign is still in progress\n",
      "At least one campaign is still in progress\n",
      "At least one campaign is still in progress\n",
      "At least one campaign is still in progress\n",
      "At least one campaign is still in progress\n",
      "At least one campaign is still in progress\n",
      "At least one campaign is still in progress\n",
      "Campaign arn:aws:personalize:us-east-1:016882278218:campaign/retaildemostore-related-items successfully completed\n",
      "At least one campaign is still in progress\n",
      "Campaign arn:aws:personalize:us-east-1:016882278218:campaign/retaildemostore-personalized-ranking successfully completed\n",
      "All campaigns have completed\n",
      "CPU times: user 237 ms, sys: 45.3 ms, total: 282 ms\n",
      "Wall time: 8min 12s\n"
     ]
    }
   ],
   "source": [
    "%%time\n",
    "\n",
    "campaign_arns = [ similar_items_campaign_arn, ranking_campaign_arn ]\n",
    "\n",
    "max_time = time.time() + 3*60*60 # 3 hours\n",
    "while time.time() < max_time:\n",
    "    for campaign_arn in reversed(campaign_arns):\n",
    "        campaign_response = personalize.describe_campaign(\n",
    "            campaignArn = campaign_arn\n",
    "        )\n",
    "        status = campaign_response[\"campaign\"][\"status\"]\n",
    "        if status == 'ACTIVE' and campaign_response.get('latestCampaignUpdate'):\n",
    "            status = campaign_response['latestCampaignUpdate']['status']\n",
    "\n",
    "        if status == \"ACTIVE\":\n",
    "            print(f'Campaign {campaign_arn} successfully completed')\n",
    "            campaign_arns.remove(campaign_arn)\n",
    "        elif status == \"CREATE FAILED\":\n",
    "            print(f'Campaign {campaign_arn} failed')\n",
    "            if campaign_response[\"campaign\"].get('failureReason'):\n",
    "                print('   Reason: ' + campaign_response[\"campaign\"]['failureReason'])\n",
    "            campaign_arns.remove(campaign_arn)\n",
    "\n",
    "    if len(campaign_arns) > 0:\n",
    "        print('At least one campaign is still in progress')\n",
    "        time.sleep(60)\n",
    "    else:\n",
    "        print(\"All campaigns have completed\")\n",
    "        break"
   ]
  },
  {
   "cell_type": "markdown",
   "id": "94458316",
   "metadata": {},
   "source": [
    "## Lab 3 Summary - What have we accomplished?\n",
    "In this lab we created retail domain recommenders for different personalization use cases. We also created custom solutions for similar items and personalized ranking as well as item attribute affinity (user segmentation) use cases.\n",
    "\n",
    "In the next lab we will examine the recommendations provided by the recommenders and the custom campaigns.\n",
    "\n",
    "### Store variables needed in the next lab\n",
    "We will pass some variables initialized in this lab by storing them in the notebook environment."
   ]
  },
  {
   "cell_type": "code",
   "execution_count": 220,
   "id": "57760a02",
   "metadata": {},
   "outputs": [
    {
     "name": "stdout",
     "output_type": "stream",
     "text": [
      "Stored 'rfy_recommender_arn' (str)\n",
      "Stored 'most_viewed_recommender_arn' (str)\n",
      "Stored 'similar_items_solution_version_arn' (str)\n",
      "Stored 'ranking_solution_version_arn' (str)\n",
      "Stored 'item_attribute_affinity_solution_version_arn' (str)\n",
      "Stored 'similar_items_campaign_arn' (str)\n",
      "Stored 'ranking_campaign_arn' (str)\n"
     ]
    }
   ],
   "source": [
    "# Store recommender ARNs\n",
    "%store rfy_recommender_arn\n",
    "%store most_viewed_recommender_arn\n",
    "\n",
    "# Store solution version ARNs\n",
    "%store similar_items_solution_version_arn\n",
    "%store ranking_solution_version_arn\n",
    "%store item_attribute_affinity_solution_version_arn\n",
    "\n",
    "# Store campaign ARNs\n",
    "%store similar_items_campaign_arn\n",
    "%store ranking_campaign_arn"
   ]
  },
  {
   "cell_type": "markdown",
   "id": "3ba8cbf5",
   "metadata": {},
   "source": [
    "## Retail Demo Store - Personalization Workshop - Lab 4\n",
    "In this lab we are going to build on the prior lab by creating Amazon Personalize domain recommenders and custom solutions for additional use cases.\n",
    "\n",
    "### Lab 4 Objectives\n",
    "In this lab we will accomplish the following steps.\n",
    "\n",
    "- Evaluate the recommendations from the e-commerce recommenders created in the last lab.\n",
    "- Evaluate the recommendations from the custom solutions and campaigns created in the last lab.\n",
    "- Activate the recommenders and campaigns in the Retail Demo Store storefront by setting their ARNs in the System Manager Parameter Store.\n",
    "- Real-time events:\n",
    " - Create a Amazon Personalize Event Tracker that can be used to stream real-time events in the storefront to Personalize so Personalize can learn from user bahvior in real-time.\n",
    " - Evaluate the effect of the event tracker on real-time recommendations.\n",
    " - Configure and deploy the Retail Demo Store web app to pick up the event tracker so it can start streaming events.\n",
    "- Create and evaluate how to use filters to apply business rules to recommendations.\n",
    "\n",
    "### Setup\n",
    "Just as in the previous labs, we have to prepare our environment by importing dependencies and creating clients.\n",
    "\n",
    "#### Import dependencies\n",
    "The following libraries are needed for this lab."
   ]
  },
  {
   "cell_type": "code",
   "execution_count": 223,
   "id": "3db3ac5a",
   "metadata": {},
   "outputs": [],
   "source": [
    "import boto3\n",
    "import json\n",
    "import time\n",
    "import requests\n",
    "import random\n",
    "import uuid\n",
    "from botocore.exceptions import ClientError"
   ]
  },
  {
   "cell_type": "markdown",
   "id": "e916ec33",
   "metadata": {},
   "source": [
    "#### Create clients\n",
    "We will need the following AWS service clients in this lab. Notice that we are creating some new Personalize clients with the service name of personalize-runtime and personalize-events. We'll be using these clients in this lab to get recommendations from our recommenders and campaigns and sending events to Personalize."
   ]
  },
  {
   "cell_type": "code",
   "execution_count": 224,
   "id": "902d9382",
   "metadata": {},
   "outputs": [],
   "source": [
    "personalize = boto3.client('personalize')\n",
    "personalize_runtime = boto3.client('personalize-runtime')\n",
    "personalize_events = boto3.client('personalize-events')\n",
    "servicediscovery = boto3.client('servicediscovery')\n",
    "ssm = boto3.client('ssm')"
   ]
  },
  {
   "cell_type": "markdown",
   "id": "e8540abb",
   "metadata": {},
   "source": [
    "#### Load variables saved in prior labs\n",
    "At the end of Lab 1 we saved some variables that we'll need in this lab. The following cell will load those variables into this lab environment."
   ]
  },
  {
   "cell_type": "code",
   "execution_count": 225,
   "id": "96cf7718",
   "metadata": {},
   "outputs": [],
   "source": [
    "%store -r"
   ]
  },
  {
   "cell_type": "markdown",
   "id": "480c6dad",
   "metadata": {},
   "source": [
    "### Lookup IP addresses of Products and Users microservices\n",
    "In this lab we will need to lookup details on recommended products and users. We'll do this by making RESTful API calls to these services. In the cells below, we will lookup the IP addresses of these microservices using AWS Cloud Map's Service Discovery (https://aws.amazon.com/cloud-map/)."
   ]
  },
  {
   "cell_type": "code",
   "execution_count": 226,
   "id": "7fa60703",
   "metadata": {},
   "outputs": [
    {
     "name": "stdout",
     "output_type": "stream",
     "text": [
      "Products Service Instance IP: 10.215.20.126\n"
     ]
    }
   ],
   "source": [
    "response = servicediscovery.discover_instances(\n",
    "    NamespaceName='retaildemostore.local',\n",
    "    ServiceName='products',\n",
    "    MaxResults=1,\n",
    "    HealthStatus='HEALTHY'\n",
    ")\n",
    "\n",
    "assert len(response['Instances']) > 0, 'Products service instance not found; check ECS to ensure it launched cleanly'\n",
    "\n",
    "products_service_instance = response['Instances'][0]['Attributes']['AWS_INSTANCE_IPV4']\n",
    "print('Products Service Instance IP: {}'.format(products_service_instance))"
   ]
  },
  {
   "cell_type": "code",
   "execution_count": 248,
   "id": "add57f2c",
   "metadata": {},
   "outputs": [],
   "source": [
    "# Public IP: 3.210.183.19\n",
    "products_service_instance = '3.210.183.19'"
   ]
  },
  {
   "cell_type": "code",
   "execution_count": 227,
   "id": "d6be05c8",
   "metadata": {},
   "outputs": [
    {
     "name": "stdout",
     "output_type": "stream",
     "text": [
      "Users Service Instance IP: 10.215.20.178\n"
     ]
    }
   ],
   "source": [
    "response = servicediscovery.discover_instances(\n",
    "    NamespaceName='retaildemostore.local',\n",
    "    ServiceName='users',\n",
    "    MaxResults=1,\n",
    "    HealthStatus='HEALTHY'\n",
    ")\n",
    "\n",
    "assert len(response['Instances']) > 0, 'Users service instance not found; check ECS to ensure it launched cleanly'\n",
    "\n",
    "users_service_instance = response['Instances'][0]['Attributes']['AWS_INSTANCE_IPV4']\n",
    "print('Users Service Instance IP: {}'.format(users_service_instance))"
   ]
  },
  {
   "cell_type": "code",
   "execution_count": 249,
   "id": "e247785e",
   "metadata": {},
   "outputs": [],
   "source": [
    "# Public IP 3.237.180.163 # after stop/start IP changes\n",
    "users_service_instance = '3.237.180.163'"
   ]
  },
  {
   "cell_type": "markdown",
   "id": "3f900a4b",
   "metadata": {},
   "source": [
    "### Evaluate Recommenders\n",
    "Let's start by evaluating the product recommendations from the recommenders we created in the last lab.\n",
    "\n",
    "#### Recommended For You recommender\n",
    "We'll start with the \"Recommended For You\" recommender that we created in the last lab. This recommender provides personalized product recommendations for a specific user.\n",
    "\n",
    "Let's pick a random user ID and lookup details for the user from the Users microservice."
   ]
  },
  {
   "cell_type": "code",
   "execution_count": 264,
   "id": "e4892404",
   "metadata": {},
   "outputs": [
    {
     "name": "stdout",
     "output_type": "stream",
     "text": [
      "Shopper persona for user 256 is electronics_outdoors_footwear\n"
     ]
    }
   ],
   "source": [
    "user_id = 256\n",
    "#user_id = 3748 # my user_id on the web with which i played\n",
    "\n",
    "response = requests.get('http://{}/users/id/{}'.format(users_service_instance, user_id))\n",
    "user = response.json()\n",
    "persona = user['persona']\n",
    "print('Shopper persona for user {} is {}'.format(user_id, persona))"
   ]
  },
  {
   "cell_type": "markdown",
   "id": "a3b07191",
   "metadata": {},
   "source": [
    "Taking note of the shopper persona above, let's retrieve recommendations for this user from the Recommended For You recommender.\n",
    "\n",
    "As a reminder, the shopper persona was used to generate interaction history for the user by creating interactions (clicks, purchases, etc) against products in the categories represented in the persona. Since the model is trained based on these interactions we should expect to see recommendations that are consistent with the persona."
   ]
  },
  {
   "cell_type": "code",
   "execution_count": 265,
   "id": "396df225",
   "metadata": {},
   "outputs": [
    {
     "name": "stdout",
     "output_type": "stream",
     "text": [
      "[\n",
      "    {\n",
      "        \"itemId\": \"54b32288-cfad-4422-9ed2-4f852c178469\"\n",
      "    },\n",
      "    {\n",
      "        \"itemId\": \"5ff6ab61-2296-418b-b09f-ea92e17f7bec\"\n",
      "    },\n",
      "    {\n",
      "        \"itemId\": \"2a44c312-f951-4c8a-a77d-bf379a5e80cb\"\n",
      "    },\n",
      "    {\n",
      "        \"itemId\": \"a51e9895-f3ee-47c1-b594-a8e7df8e8fd8\"\n",
      "    },\n",
      "    {\n",
      "        \"itemId\": \"bc24f94d-c4c3-4378-bf8b-0455ef1aa72b\"\n",
      "    },\n",
      "    {\n",
      "        \"itemId\": \"b30f5517-9cc2-45ef-87d8-5bb60a443c36\"\n",
      "    },\n",
      "    {\n",
      "        \"itemId\": \"36110e9f-8947-4dff-8c37-070f134ce98d\"\n",
      "    },\n",
      "    {\n",
      "        \"itemId\": \"c9864541-b1a9-45a5-9304-e6782843a9c1\"\n",
      "    },\n",
      "    {\n",
      "        \"itemId\": \"0c4e5ca2-93cd-4ddb-a5d3-197fa2221ead\"\n",
      "    },\n",
      "    {\n",
      "        \"itemId\": \"b41b240a-6046-4f78-a4b7-9ce904e726d6\"\n",
      "    }\n",
      "]\n"
     ]
    }
   ],
   "source": [
    "get_recommendations_response = personalize_runtime.get_recommendations(\n",
    "    recommenderArn = rfy_recommender_arn,\n",
    "    userId = str(user_id),\n",
    "    numResults = 10\n",
    ")\n",
    "\n",
    "item_list = get_recommendations_response['itemList']\n",
    "print(json.dumps(item_list, indent=4))"
   ]
  },
  {
   "cell_type": "markdown",
   "id": "ac98e0c5",
   "metadata": {},
   "source": [
    "Since the itemId values returned from the recommender don't tell us much about the products, let's lookup details on each product to see how they line up with the shopper persona."
   ]
  },
  {
   "cell_type": "code",
   "execution_count": 266,
   "id": "5c530c48",
   "metadata": {},
   "outputs": [
    {
     "name": "stdout",
     "output_type": "stream",
     "text": [
      "User ID: 256 persona: electronics_outdoors_footwear\n",
      "{\n",
      "  \"id\": \"54b32288-cfad-4422-9ed2-4f852c178469\",\n",
      "  \"url\": \"http://d2dqg31qmn6qjz.cloudfront.net/#/product/54b32288-cfad-4422-9ed2-4f852c178469\",\n",
      "  \"sk\": \"\",\n",
      "  \"name\": \"Dark Brown Boots\",\n",
      "  \"category\": \"footwear\",\n",
      "  \"style\": \"boot\",\n",
      "  \"description\": \"This pair of dark brown boots is outstanding for the season\",\n",
      "  \"aliases\": null,\n",
      "  \"price\": 155.99,\n",
      "  \"image\": \"http://d2dqg31qmn6qjz.cloudfront.net/images/footwear/54b32288-cfad-4422-9ed2-4f852c178469.jpg\",\n",
      "  \"gender_affinity\": \"M\",\n",
      "  \"current_stock\": 19\n",
      "}\n",
      "{\n",
      "  \"id\": \"5ff6ab61-2296-418b-b09f-ea92e17f7bec\",\n",
      "  \"url\": \"http://d2dqg31qmn6qjz.cloudfront.net/#/product/5ff6ab61-2296-418b-b09f-ea92e17f7bec\",\n",
      "  \"sk\": \"\",\n",
      "  \"name\": \"Convenient Cable\",\n",
      "  \"category\": \"electronics\",\n",
      "  \"style\": \"cable\",\n",
      "  \"description\": \"This convenient cable is a must-have for your electronics\",\n",
      "  \"aliases\": null,\n",
      "  \"price\": 8.99,\n",
      "  \"image\": \"http://d2dqg31qmn6qjz.cloudfront.net/images/electronics/5ff6ab61-2296-418b-b09f-ea92e17f7bec.jpg\",\n",
      "  \"current_stock\": 10\n",
      "}\n",
      "{\n",
      "  \"id\": \"2a44c312-f951-4c8a-a77d-bf379a5e80cb\",\n",
      "  \"url\": \"http://d2dqg31qmn6qjz.cloudfront.net/#/product/2a44c312-f951-4c8a-a77d-bf379a5e80cb\",\n",
      "  \"sk\": \"\",\n",
      "  \"name\": \"High Fidelity Speakers\",\n",
      "  \"category\": \"electronics\",\n",
      "  \"style\": \"speaker\",\n",
      "  \"description\": \"High fidelity speakers to fill the house with beautiful music\",\n",
      "  \"aliases\": null,\n",
      "  \"price\": 132.99,\n",
      "  \"image\": \"http://d2dqg31qmn6qjz.cloudfront.net/images/electronics/2a44c312-f951-4c8a-a77d-bf379a5e80cb.jpg\",\n",
      "  \"current_stock\": 16\n",
      "}\n",
      "{\n",
      "  \"id\": \"a51e9895-f3ee-47c1-b594-a8e7df8e8fd8\",\n",
      "  \"url\": \"http://d2dqg31qmn6qjz.cloudfront.net/#/product/a51e9895-f3ee-47c1-b594-a8e7df8e8fd8\",\n",
      "  \"sk\": \"\",\n",
      "  \"name\": \"Dark Slate Blue Sneakers\",\n",
      "  \"category\": \"footwear\",\n",
      "  \"style\": \"sneaker\",\n",
      "  \"description\": \"Funky pair of dark slate blue sneakers to explore in the neighborhood\",\n",
      "  \"aliases\": null,\n",
      "  \"price\": 127.99,\n",
      "  \"image\": \"http://d2dqg31qmn6qjz.cloudfront.net/images/footwear/a51e9895-f3ee-47c1-b594-a8e7df8e8fd8.jpg\",\n",
      "  \"gender_affinity\": \"M\",\n",
      "  \"current_stock\": 18\n",
      "}\n",
      "{\n",
      "  \"id\": \"bc24f94d-c4c3-4378-bf8b-0455ef1aa72b\",\n",
      "  \"url\": \"http://d2dqg31qmn6qjz.cloudfront.net/#/product/bc24f94d-c4c3-4378-bf8b-0455ef1aa72b\",\n",
      "  \"sk\": \"\",\n",
      "  \"name\": \"Practical Cable\",\n",
      "  \"category\": \"electronics\",\n",
      "  \"style\": \"cable\",\n",
      "  \"description\": \"This practical cable is a must-have for your electronics\",\n",
      "  \"aliases\": null,\n",
      "  \"price\": 5.99,\n",
      "  \"image\": \"http://d2dqg31qmn6qjz.cloudfront.net/images/electronics/bc24f94d-c4c3-4378-bf8b-0455ef1aa72b.jpg\",\n",
      "  \"current_stock\": 7\n",
      "}\n",
      "{\n",
      "  \"id\": \"b30f5517-9cc2-45ef-87d8-5bb60a443c36\",\n",
      "  \"url\": \"http://d2dqg31qmn6qjz.cloudfront.net/#/product/b30f5517-9cc2-45ef-87d8-5bb60a443c36\",\n",
      "  \"sk\": \"\",\n",
      "  \"name\": \"Video Camera\",\n",
      "  \"category\": \"electronics\",\n",
      "  \"style\": \"camera\",\n",
      "  \"description\": \"This video camera is perfect for capturing those special moments\",\n",
      "  \"aliases\": null,\n",
      "  \"price\": 752.99,\n",
      "  \"image\": \"http://d2dqg31qmn6qjz.cloudfront.net/images/electronics/b30f5517-9cc2-45ef-87d8-5bb60a443c36.jpg\",\n",
      "  \"current_stock\": 9\n",
      "}\n",
      "{\n",
      "  \"id\": \"36110e9f-8947-4dff-8c37-070f134ce98d\",\n",
      "  \"url\": \"http://d2dqg31qmn6qjz.cloudfront.net/#/product/36110e9f-8947-4dff-8c37-070f134ce98d\",\n",
      "  \"sk\": \"\",\n",
      "  \"name\": \"Television\",\n",
      "  \"category\": \"electronics\",\n",
      "  \"style\": \"television\",\n",
      "  \"description\": \"This television is perfect for every room\",\n",
      "  \"aliases\": null,\n",
      "  \"price\": 631.99,\n",
      "  \"image\": \"http://d2dqg31qmn6qjz.cloudfront.net/images/electronics/36110e9f-8947-4dff-8c37-070f134ce98d.jpg\",\n",
      "  \"current_stock\": 18\n",
      "}\n",
      "{\n",
      "  \"id\": \"c9864541-b1a9-45a5-9304-e6782843a9c1\",\n",
      "  \"url\": \"http://d2dqg31qmn6qjz.cloudfront.net/#/product/c9864541-b1a9-45a5-9304-e6782843a9c1\",\n",
      "  \"sk\": \"\",\n",
      "  \"name\": \"Brown Boots\",\n",
      "  \"category\": \"footwear\",\n",
      "  \"style\": \"boot\",\n",
      "  \"description\": \"This pair of brown boots is outstanding for the season\",\n",
      "  \"aliases\": null,\n",
      "  \"price\": 74.99,\n",
      "  \"image\": \"http://d2dqg31qmn6qjz.cloudfront.net/images/footwear/c9864541-b1a9-45a5-9304-e6782843a9c1.jpg\",\n",
      "  \"gender_affinity\": \"M\",\n",
      "  \"current_stock\": 19\n",
      "}\n",
      "{\n",
      "  \"id\": \"0c4e5ca2-93cd-4ddb-a5d3-197fa2221ead\",\n",
      "  \"url\": \"http://d2dqg31qmn6qjz.cloudfront.net/#/product/0c4e5ca2-93cd-4ddb-a5d3-197fa2221ead\",\n",
      "  \"sk\": \"\",\n",
      "  \"name\": \"Pet Accessory\",\n",
      "  \"category\": \"outdoors\",\n",
      "  \"style\": \"pet\",\n",
      "  \"description\": \"Your pet will love this accessory\",\n",
      "  \"aliases\": null,\n",
      "  \"price\": 52.99,\n",
      "  \"image\": \"http://d2dqg31qmn6qjz.cloudfront.net/images/outdoors/0c4e5ca2-93cd-4ddb-a5d3-197fa2221ead.jpg\",\n",
      "  \"current_stock\": 7\n",
      "}\n",
      "{\n",
      "  \"id\": \"b41b240a-6046-4f78-a4b7-9ce904e726d6\",\n",
      "  \"url\": \"http://d2dqg31qmn6qjz.cloudfront.net/#/product/b41b240a-6046-4f78-a4b7-9ce904e726d6\",\n",
      "  \"sk\": \"\",\n",
      "  \"name\": \"Trusty Fishing Hooks\",\n",
      "  \"category\": \"outdoors\",\n",
      "  \"style\": \"fishing\",\n",
      "  \"description\": \"These trusty fishing hooks are sure to bring success\",\n",
      "  \"aliases\": null,\n",
      "  \"price\": 55.99,\n",
      "  \"image\": \"http://d2dqg31qmn6qjz.cloudfront.net/images/outdoors/b41b240a-6046-4f78-a4b7-9ce904e726d6.jpg\",\n",
      "  \"current_stock\": 9\n",
      "}\n"
     ]
    }
   ],
   "source": [
    "print(f'User ID: {user_id} persona: {persona}')\n",
    "\n",
    "for item in item_list:\n",
    "    response = requests.get(f\"http://{products_service_instance}/products/id/{item['itemId']}\")\n",
    "    print(json.dumps(response.json(), indent=2))\n",
    "    #print(json.dumps(response.json(), indent=2))"
   ]
  },
  {
   "cell_type": "markdown",
   "id": "0d0995b4",
   "metadata": {},
   "source": [
    "Are the details for the recommended products consistent with the shopper's persona?\n",
    "\n",
    "### Most Viewed recommender\n",
    "Next let's take a look at the recommendations from the \"Most Viewed\" recommender. This recommender looks at product view interactions across all users to find the most popular products. Therefore, items recommended by this recommender will be the same across all users. In other words, they're not personalized to the user but rather a representation of what's popular based on all user behavior. This recommender will be used in the storefront to make recommendations of popular items to brand new/cold users."
   ]
  },
  {
   "cell_type": "code",
   "execution_count": 267,
   "id": "ca5b7621",
   "metadata": {},
   "outputs": [
    {
     "name": "stdout",
     "output_type": "stream",
     "text": [
      "User ID: 256 persona: electronics_outdoors_footwear\n",
      "[\n",
      "    {\n",
      "        \"itemId\": \"54b32288-cfad-4422-9ed2-4f852c178469\"\n",
      "    },\n",
      "    {\n",
      "        \"itemId\": \"5ff6ab61-2296-418b-b09f-ea92e17f7bec\"\n",
      "    },\n",
      "    {\n",
      "        \"itemId\": \"2a44c312-f951-4c8a-a77d-bf379a5e80cb\"\n",
      "    },\n",
      "    {\n",
      "        \"itemId\": \"a51e9895-f3ee-47c1-b594-a8e7df8e8fd8\"\n",
      "    },\n",
      "    {\n",
      "        \"itemId\": \"bc24f94d-c4c3-4378-bf8b-0455ef1aa72b\"\n",
      "    },\n",
      "    {\n",
      "        \"itemId\": \"b30f5517-9cc2-45ef-87d8-5bb60a443c36\"\n",
      "    },\n",
      "    {\n",
      "        \"itemId\": \"36110e9f-8947-4dff-8c37-070f134ce98d\"\n",
      "    },\n",
      "    {\n",
      "        \"itemId\": \"c9864541-b1a9-45a5-9304-e6782843a9c1\"\n",
      "    },\n",
      "    {\n",
      "        \"itemId\": \"0c4e5ca2-93cd-4ddb-a5d3-197fa2221ead\"\n",
      "    },\n",
      "    {\n",
      "        \"itemId\": \"b41b240a-6046-4f78-a4b7-9ce904e726d6\"\n",
      "    }\n",
      "]\n"
     ]
    }
   ],
   "source": [
    "# should be the same for any user_id\n",
    "user_id = 256\n",
    "#user_id = 3748 # my user_id on the web with which i played\n",
    "\n",
    "print(f'User ID: {user_id} persona: {persona}')\n",
    "\n",
    "get_recomendations_response = personalize_runtime.get_recommendations(\n",
    "    recommenderArn = most_viewed_recommender_arn,\n",
    "    userId = str(user_id),\n",
    "    numResults = 10\n",
    ")\n",
    "item_list = get_recommendations_response['itemList']\n",
    "print(json.dumps(item_list, indent=4))"
   ]
  },
  {
   "cell_type": "markdown",
   "id": "f214fac8",
   "metadata": {},
   "source": [
    "As before, let's lookup details on each of the products to provide a better sense of what's popular for the storefront."
   ]
  },
  {
   "cell_type": "code",
   "execution_count": 268,
   "id": "f6b173e8",
   "metadata": {},
   "outputs": [
    {
     "name": "stdout",
     "output_type": "stream",
     "text": [
      "Dark Brown Boots(footwear)\n",
      "Convenient Cable(electronics)\n",
      "High Fidelity Speakers(electronics)\n",
      "Dark Slate Blue Sneakers(footwear)\n",
      "Practical Cable(electronics)\n",
      "Video Camera(electronics)\n",
      "Television(electronics)\n",
      "Brown Boots(footwear)\n",
      "Pet Accessory(outdoors)\n",
      "Trusty Fishing Hooks(outdoors)\n"
     ]
    }
   ],
   "source": [
    "\n",
    "for item in item_list:\n",
    "    response = requests.get('http://{}/products/id/{}'.format(products_service_instance, item['itemId']))\n",
    "    if response.status_code == requests.codes.ok:\n",
    "        #print(response.json())\n",
    "        print(f\"{response.json()['name']}({response.json()['category']})\")\n",
    "    elif response.status_code == 404:\n",
    "        print(f'Product {item[\"itemId\"]} not found in the catalog')\n",
    "    else:\n",
    "        response.raise_for_status()"
   ]
  },
  {
   "cell_type": "markdown",
   "id": "f30723f2",
   "metadata": {},
   "source": [
    "### Evaluate custom campaigns\n",
    "As you may recall from the prior lab, we created custom solutions for the related items and personalized ranking use cases. Let's evaluate the recommendations from the campaigns for those solutions below.\n",
    "\n",
    "#### Similar items custom campaign\n",
    "The Similar-Items (https://docs.aws.amazon.com/personalize/latest/dg/native-recipe-similar-items.html) recipe is designed to balance co-interactions across all users and thematic similarity between items to make relevant related items recommendations. Since the input for related items recommendations is an item ID, let's select a product from the catalog to use as our source item."
   ]
  },
  {
   "cell_type": "code",
   "execution_count": 280,
   "id": "15221e89",
   "metadata": {},
   "outputs": [
    {
     "name": "stdout",
     "output_type": "stream",
     "text": [
      "{\n",
      "    \"aliases\": null,\n",
      "    \"category\": \"housewares\",\n",
      "    \"current_stock\": 17,\n",
      "    \"description\": \"This elegant ceramic bowl is a must-have\",\n",
      "    \"id\": \"020a5afe-fb13-4499-a1fa-8594d326eaa0\",\n",
      "    \"image\": \"http://d2dqg31qmn6qjz.cloudfront.net/images/housewares/020a5afe-fb13-4499-a1fa-8594d326eaa0.jpg\",\n",
      "    \"name\": \"Elegant Ceramic Bowl\",\n",
      "    \"price\": 31.99,\n",
      "    \"sk\": \"\",\n",
      "    \"style\": \"bowls\",\n",
      "    \"url\": \"http://d2dqg31qmn6qjz.cloudfront.net/#/product/020a5afe-fb13-4499-a1fa-8594d326eaa0\"\n",
      "}\n"
     ]
    }
   ],
   "source": [
    "product_id = '020a5afe-fb13-4499-a1fa-8594d326eaa0'\n",
    "\n",
    "response = requests.get('http://{}/products/id/{}'.format(products_service_instance, product_id))\n",
    "product = response.json()\n",
    "print(json.dumps(product, indent=4, sort_keys=True))"
   ]
  },
  {
   "cell_type": "markdown",
   "id": "8bda1e53",
   "metadata": {},
   "source": [
    "Now let's get some related item recommendations from the Similar Items based campaign for the above product. Notice that we're using the same GetRecommendation API as the recommenders above but this time we're specifying a campaignArn rather than a recommenderArn."
   ]
  },
  {
   "cell_type": "code",
   "execution_count": 284,
   "id": "fa6d90fb",
   "metadata": {},
   "outputs": [
    {
     "name": "stdout",
     "output_type": "stream",
     "text": [
      "Product ID: 020a5afe-fb13-4499-a1fa-8594d326eaa0, name: Elegant Ceramic Bowl, category: housewares\n",
      "[\n",
      "    {\n",
      "        \"itemId\": \"3f90e04e-9bfe-4fd4-a137-387b694baad2\"\n",
      "    },\n",
      "    {\n",
      "        \"itemId\": \"ef446e39-c864-46ea-b273-f2a48b7dc2a5\"\n",
      "    },\n",
      "    {\n",
      "        \"itemId\": \"eb8f10ab-1317-4a11-b058-b2098bb64326\"\n",
      "    },\n",
      "    {\n",
      "        \"itemId\": \"0e20e3c5-5a55-4aec-bea3-ad654c6aef5f\"\n",
      "    },\n",
      "    {\n",
      "        \"itemId\": \"64759ab3-34a0-4f00-ae1a-1dc68b490774\"\n",
      "    },\n",
      "    {\n",
      "        \"itemId\": \"57a7d4c1-03f7-4a5b-a618-cbfb5a0004f1\"\n",
      "    },\n",
      "    {\n",
      "        \"itemId\": \"34327402-69b9-44ed-b688-55e6f73b7fd9\"\n",
      "    },\n",
      "    {\n",
      "        \"itemId\": \"101172c2-2a10-4597-bdc2-bc8f5583ef6a\"\n",
      "    },\n",
      "    {\n",
      "        \"itemId\": \"05f4f79c-e6d1-4c31-bcfe-44d7e77fcb68\"\n",
      "    },\n",
      "    {\n",
      "        \"itemId\": \"c4ad80c9-9cb6-4944-be19-d53e48ad5029\"\n",
      "    }\n",
      "]\n"
     ]
    }
   ],
   "source": [
    "print(f\"Product ID: {product_id}, name: {response.json()['name']}, category: {response.json()['category']}\")\n",
    "\n",
    "get_recommendations_response = personalize_runtime.get_recommendations(\n",
    "    campaignArn = similar_items_campaign_arn,\n",
    "    itemId = str(product_id),\n",
    "    numResults = 10\n",
    ")\n",
    "\n",
    "item_list = get_recommendations_response['itemList']\n",
    "print(json.dumps(item_list, indent=4))"
   ]
  },
  {
   "cell_type": "markdown",
   "id": "4c5918fc",
   "metadata": {},
   "source": [
    "As before, we'll lookup the product details for each recommended product. Do the recommended products seem similar?"
   ]
  },
  {
   "cell_type": "code",
   "execution_count": 271,
   "id": "ae21dd7b",
   "metadata": {},
   "outputs": [
    {
     "name": "stdout",
     "output_type": "stream",
     "text": [
      "{\n",
      "    \"id\": \"3f90e04e-9bfe-4fd4-a137-387b694baad2\",\n",
      "    \"url\": \"http://d2dqg31qmn6qjz.cloudfront.net/#/product/3f90e04e-9bfe-4fd4-a137-387b694baad2\",\n",
      "    \"sk\": \"\",\n",
      "    \"name\": \"Chic Ceramic Bowl\",\n",
      "    \"category\": \"housewares\",\n",
      "    \"style\": \"bowls\",\n",
      "    \"description\": \"Chic ceramic bowl for every occasion\",\n",
      "    \"aliases\": null,\n",
      "    \"price\": 69.99,\n",
      "    \"image\": \"http://d2dqg31qmn6qjz.cloudfront.net/images/housewares/3f90e04e-9bfe-4fd4-a137-387b694baad2.jpg\",\n",
      "    \"current_stock\": 13\n",
      "}\n",
      "{\n",
      "    \"id\": \"ef446e39-c864-46ea-b273-f2a48b7dc2a5\",\n",
      "    \"url\": \"http://d2dqg31qmn6qjz.cloudfront.net/#/product/ef446e39-c864-46ea-b273-f2a48b7dc2a5\",\n",
      "    \"sk\": \"\",\n",
      "    \"name\": \"Teapot\",\n",
      "    \"category\": \"housewares\",\n",
      "    \"style\": \"kitchen\",\n",
      "    \"description\": \"Definitive for every kitchen\",\n",
      "    \"aliases\": null,\n",
      "    \"price\": 54.99,\n",
      "    \"image\": \"http://d2dqg31qmn6qjz.cloudfront.net/images/housewares/ef446e39-c864-46ea-b273-f2a48b7dc2a5.jpg\",\n",
      "    \"current_stock\": 17\n",
      "}\n",
      "{\n",
      "    \"id\": \"eb8f10ab-1317-4a11-b058-b2098bb64326\",\n",
      "    \"url\": \"http://d2dqg31qmn6qjz.cloudfront.net/#/product/eb8f10ab-1317-4a11-b058-b2098bb64326\",\n",
      "    \"sk\": \"\",\n",
      "    \"name\": \"Chef Knife\",\n",
      "    \"category\": \"housewares\",\n",
      "    \"style\": \"kitchen\",\n",
      "    \"description\": \"Outstanding for every kitchen\",\n",
      "    \"aliases\": null,\n",
      "    \"price\": 55.99,\n",
      "    \"image\": \"http://d2dqg31qmn6qjz.cloudfront.net/images/housewares/eb8f10ab-1317-4a11-b058-b2098bb64326.jpg\",\n",
      "    \"current_stock\": 7\n",
      "}\n",
      "{\n",
      "    \"id\": \"0e20e3c5-5a55-4aec-bea3-ad654c6aef5f\",\n",
      "    \"url\": \"http://d2dqg31qmn6qjz.cloudfront.net/#/product/0e20e3c5-5a55-4aec-bea3-ad654c6aef5f\",\n",
      "    \"sk\": \"\",\n",
      "    \"name\": \"White Plates\",\n",
      "    \"category\": \"housewares\",\n",
      "    \"style\": \"kitchen\",\n",
      "    \"description\": \"A must-have for your kitchen\",\n",
      "    \"aliases\": null,\n",
      "    \"price\": 73.99,\n",
      "    \"image\": \"http://d2dqg31qmn6qjz.cloudfront.net/images/housewares/0e20e3c5-5a55-4aec-bea3-ad654c6aef5f.jpg\",\n",
      "    \"current_stock\": 9\n",
      "}\n",
      "{\n",
      "    \"id\": \"64759ab3-34a0-4f00-ae1a-1dc68b490774\",\n",
      "    \"url\": \"http://d2dqg31qmn6qjz.cloudfront.net/#/product/64759ab3-34a0-4f00-ae1a-1dc68b490774\",\n",
      "    \"sk\": \"\",\n",
      "    \"name\": \"Drill\",\n",
      "    \"category\": \"tools\",\n",
      "    \"style\": \"drill\",\n",
      "    \"description\": \"Essential drill for every craftperson\",\n",
      "    \"aliases\": null,\n",
      "    \"price\": 19.99,\n",
      "    \"image\": \"http://d2dqg31qmn6qjz.cloudfront.net/images/tools/64759ab3-34a0-4f00-ae1a-1dc68b490774.jpg\",\n",
      "    \"current_stock\": 6\n",
      "}\n",
      "{\n",
      "    \"id\": \"57a7d4c1-03f7-4a5b-a618-cbfb5a0004f1\",\n",
      "    \"url\": \"http://d2dqg31qmn6qjz.cloudfront.net/#/product/57a7d4c1-03f7-4a5b-a618-cbfb5a0004f1\",\n",
      "    \"sk\": \"\",\n",
      "    \"name\": \"Honey Dipper\",\n",
      "    \"category\": \"housewares\",\n",
      "    \"style\": \"kitchen\",\n",
      "    \"description\": \"Unequaled for every kitchen\",\n",
      "    \"aliases\": null,\n",
      "    \"price\": 70.99,\n",
      "    \"image\": \"http://d2dqg31qmn6qjz.cloudfront.net/images/housewares/57a7d4c1-03f7-4a5b-a618-cbfb5a0004f1.jpg\",\n",
      "    \"current_stock\": 11\n",
      "}\n",
      "{\n",
      "    \"id\": \"34327402-69b9-44ed-b688-55e6f73b7fd9\",\n",
      "    \"url\": \"http://d2dqg31qmn6qjz.cloudfront.net/#/product/34327402-69b9-44ed-b688-55e6f73b7fd9\",\n",
      "    \"sk\": \"\",\n",
      "    \"name\": \"Sophisticated Aluminum Bowl\",\n",
      "    \"category\": \"housewares\",\n",
      "    \"style\": \"bowls\",\n",
      "    \"description\": \"Sophisticated aluminum bowl for every occasion\",\n",
      "    \"aliases\": null,\n",
      "    \"price\": 21.99,\n",
      "    \"image\": \"http://d2dqg31qmn6qjz.cloudfront.net/images/housewares/34327402-69b9-44ed-b688-55e6f73b7fd9.jpg\",\n",
      "    \"current_stock\": 17\n",
      "}\n",
      "{\n",
      "    \"id\": \"101172c2-2a10-4597-bdc2-bc8f5583ef6a\",\n",
      "    \"url\": \"http://d2dqg31qmn6qjz.cloudfront.net/#/product/101172c2-2a10-4597-bdc2-bc8f5583ef6a\",\n",
      "    \"sk\": \"\",\n",
      "    \"name\": \"Utensils\",\n",
      "    \"category\": \"housewares\",\n",
      "    \"style\": \"kitchen\",\n",
      "    \"description\": \"A must-have for your kitchen\",\n",
      "    \"aliases\": null,\n",
      "    \"price\": 50.99,\n",
      "    \"image\": \"http://d2dqg31qmn6qjz.cloudfront.net/images/housewares/101172c2-2a10-4597-bdc2-bc8f5583ef6a.jpg\",\n",
      "    \"current_stock\": 10\n",
      "}\n",
      "{\n",
      "    \"id\": \"05f4f79c-e6d1-4c31-bcfe-44d7e77fcb68\",\n",
      "    \"url\": \"http://d2dqg31qmn6qjz.cloudfront.net/#/product/05f4f79c-e6d1-4c31-bcfe-44d7e77fcb68\",\n",
      "    \"sk\": \"\",\n",
      "    \"name\": \"Strainer\",\n",
      "    \"category\": \"housewares\",\n",
      "    \"style\": \"kitchen\",\n",
      "    \"description\": \"A must-have for your kitchen\",\n",
      "    \"aliases\": null,\n",
      "    \"price\": 68.99,\n",
      "    \"image\": \"http://d2dqg31qmn6qjz.cloudfront.net/images/housewares/05f4f79c-e6d1-4c31-bcfe-44d7e77fcb68.jpg\",\n",
      "    \"current_stock\": 18\n",
      "}\n",
      "{\n",
      "    \"id\": \"c4ad80c9-9cb6-4944-be19-d53e48ad5029\",\n",
      "    \"url\": \"http://d2dqg31qmn6qjz.cloudfront.net/#/product/c4ad80c9-9cb6-4944-be19-d53e48ad5029\",\n",
      "    \"sk\": \"\",\n",
      "    \"name\": \"Cocktail Glass\",\n",
      "    \"category\": \"housewares\",\n",
      "    \"style\": \"kitchen\",\n",
      "    \"description\": \"Definitive for every kitchen\",\n",
      "    \"aliases\": null,\n",
      "    \"price\": 75.99,\n",
      "    \"image\": \"http://d2dqg31qmn6qjz.cloudfront.net/images/housewares/c4ad80c9-9cb6-4944-be19-d53e48ad5029.jpg\",\n",
      "    \"current_stock\": 9\n",
      "}\n"
     ]
    }
   ],
   "source": [
    "for item in item_list:\n",
    "    response = requests.get('http://{}/products/id/{}'.format(products_service_instance, item['itemId']))\n",
    "    print(json.dumps(response.json(), indent = 4))"
   ]
  },
  {
   "cell_type": "markdown",
   "id": "7f67903f",
   "metadata": {},
   "source": [
    "### Personalized Ranking campaign\n",
    "Next let's evaluate the results of the personalized ranking campaign. As a reminder, given a list of items and a user, this campaign will rerank the items based on the preferences of the user. For the Retail Demo Store, we will use this campaign to rerank the products listed for each category and the featured products list as well as reranking catalog search results displayed in the search widget.\n",
    "\n",
    "#### Get Featured Products List\n",
    "First let's get the list of featured products from the Products microservice."
   ]
  },
  {
   "cell_type": "code",
   "execution_count": 272,
   "id": "a8a027a5",
   "metadata": {},
   "outputs": [
    {
     "name": "stdout",
     "output_type": "stream",
     "text": [
      "[\n",
      "    {\n",
      "        \"id\": \"8bffb5fb-624f-48a8-a99f-b8e9c64bbe29\",\n",
      "        \"url\": \"http://d2dqg31qmn6qjz.cloudfront.net/#/product/8bffb5fb-624f-48a8-a99f-b8e9c64bbe29\",\n",
      "        \"sk\": \"\",\n",
      "        \"name\": \"Screwdriver\",\n",
      "        \"category\": \"tools\",\n",
      "        \"style\": \"screwdriver\",\n",
      "        \"description\": \"Essential screwdriver for every craftperson\",\n",
      "        \"aliases\": null,\n",
      "        \"price\": 24.99,\n",
      "        \"image\": \"http://d2dqg31qmn6qjz.cloudfront.net/images/tools/8bffb5fb-624f-48a8-a99f-b8e9c64bbe29.jpg\",\n",
      "        \"featured\": \"true\",\n",
      "        \"current_stock\": 9\n",
      "    },\n",
      "    {\n",
      "        \"id\": \"5d37a44b-d121-426e-b528-59e603ba5923\",\n",
      "        \"url\": \"http://d2dqg31qmn6qjz.cloudfront.net/#/product/5d37a44b-d121-426e-b528-59e603ba5923\",\n",
      "        \"sk\": \"\",\n",
      "        \"name\": \"Visit Egypt\",\n",
      "        \"category\": \"books\",\n",
      "        \"style\": \"travel\",\n",
      "        \"description\": \"Plan your next trip with this essential reference book on Egypt\",\n",
      "        \"aliases\": null,\n",
      "        \"price\": 11.99,\n",
      "        \"image\": \"http://d2dqg31qmn6qjz.cloudfront.net/images/books/5d37a44b-d121-426e-b528-59e603ba5923.jpg\",\n",
      "        \"featured\": \"true\",\n",
      "        \"current_stock\": 9\n",
      "    },\n",
      "    {\n",
      "        \"id\": \"a31ad4b3-f9a8-4a9b-a8b3-3034af7bacec\",\n",
      "        \"url\": \"http://d2dqg31qmn6qjz.cloudfront.net/#/product/a31ad4b3-f9a8-4a9b-a8b3-3034af7bacec\",\n",
      "        \"sk\": \"\",\n",
      "        \"name\": \"Kiwi\",\n",
      "        \"category\": \"groceries\",\n",
      "        \"style\": \"fruits\",\n",
      "        \"description\": \"Make sure to have your fresh dose of vitamin C every day\",\n",
      "        \"aliases\": null,\n",
      "        \"price\": 3.99,\n",
      "        \"image\": \"http://d2dqg31qmn6qjz.cloudfront.net/images/groceries/a31ad4b3-f9a8-4a9b-a8b3-3034af7bacec.jpg\",\n",
      "        \"featured\": \"true\",\n",
      "        \"current_stock\": 17\n",
      "    },\n",
      "    {\n",
      "        \"id\": \"01a8978b-2a84-4dbd-acc4-aff74a468681\",\n",
      "        \"url\": \"http://d2dqg31qmn6qjz.cloudfront.net/#/product/01a8978b-2a84-4dbd-acc4-aff74a468681\",\n",
      "        \"sk\": \"\",\n",
      "        \"name\": \"Ceramic Vase\",\n",
      "        \"category\": \"homedecor\",\n",
      "        \"style\": \"decorative\",\n",
      "        \"description\": \"This ceramic vase will delight everyone\",\n",
      "        \"aliases\": null,\n",
      "        \"price\": 58.99,\n",
      "        \"image\": \"http://d2dqg31qmn6qjz.cloudfront.net/images/homedecor/01a8978b-2a84-4dbd-acc4-aff74a468681.jpg\",\n",
      "        \"featured\": \"true\",\n",
      "        \"current_stock\": 10\n",
      "    },\n",
      "    {\n",
      "        \"id\": \"8b9733b9-cbea-4de3-978b-5e3f0e8c796c\",\n",
      "        \"url\": \"http://d2dqg31qmn6qjz.cloudfront.net/#/product/8b9733b9-cbea-4de3-978b-5e3f0e8c796c\",\n",
      "        \"sk\": \"\",\n",
      "        \"name\": \"Chocolate Sofa\",\n",
      "        \"category\": \"furniture\",\n",
      "        \"style\": \"sofas\",\n",
      "        \"description\": \"Unrivaled chocolate sofa for any room\",\n",
      "        \"aliases\": null,\n",
      "        \"price\": 736.99,\n",
      "        \"image\": \"http://d2dqg31qmn6qjz.cloudfront.net/images/furniture/8b9733b9-cbea-4de3-978b-5e3f0e8c796c.jpg\",\n",
      "        \"featured\": \"true\",\n",
      "        \"current_stock\": 18\n",
      "    },\n",
      "    {\n",
      "        \"id\": \"1e96e374-be23-4c97-b87e-b5c45cb8999f\",\n",
      "        \"url\": \"http://d2dqg31qmn6qjz.cloudfront.net/#/product/1e96e374-be23-4c97-b87e-b5c45cb8999f\",\n",
      "        \"sk\": \"\",\n",
      "        \"name\": \"Pots Set\",\n",
      "        \"category\": \"housewares\",\n",
      "        \"style\": \"kitchen\",\n",
      "        \"description\": \"Definitive for every kitchen\",\n",
      "        \"aliases\": null,\n",
      "        \"price\": 52.99,\n",
      "        \"image\": \"http://d2dqg31qmn6qjz.cloudfront.net/images/housewares/1e96e374-be23-4c97-b87e-b5c45cb8999f.jpg\",\n",
      "        \"featured\": \"true\",\n",
      "        \"current_stock\": 15\n",
      "    },\n",
      "    {\n",
      "        \"id\": \"2b67230f-dc22-462e-9afe-c9e459f74093\",\n",
      "        \"url\": \"http://d2dqg31qmn6qjz.cloudfront.net/#/product/2b67230f-dc22-462e-9afe-c9e459f74093\",\n",
      "        \"sk\": \"\",\n",
      "        \"name\": \"Tan Handbag\",\n",
      "        \"category\": \"accessories\",\n",
      "        \"style\": \"handbag\",\n",
      "        \"description\": \"This groovy tan handbag is the perfect accessory for casually roving outdoors\",\n",
      "        \"aliases\": null,\n",
      "        \"price\": 78.99,\n",
      "        \"image\": \"http://d2dqg31qmn6qjz.cloudfront.net/images/accessories/2b67230f-dc22-462e-9afe-c9e459f74093.jpg\",\n",
      "        \"featured\": \"true\",\n",
      "        \"gender_affinity\": \"F\",\n",
      "        \"current_stock\": 13\n",
      "    },\n",
      "    {\n",
      "        \"id\": \"3f9a39b2-0d63-4751-b6ee-4ecd08dd2276\",\n",
      "        \"url\": \"http://d2dqg31qmn6qjz.cloudfront.net/#/product/3f9a39b2-0d63-4751-b6ee-4ecd08dd2276\",\n",
      "        \"sk\": \"\",\n",
      "        \"name\": \"Electric Guitar\",\n",
      "        \"category\": \"instruments\",\n",
      "        \"style\": \"strings\",\n",
      "        \"description\": \"This electric guitar will delight the most demanding musician\",\n",
      "        \"aliases\": null,\n",
      "        \"price\": 405.99,\n",
      "        \"image\": \"http://d2dqg31qmn6qjz.cloudfront.net/images/instruments/3f9a39b2-0d63-4751-b6ee-4ecd08dd2276.jpg\",\n",
      "        \"featured\": \"true\",\n",
      "        \"current_stock\": 11\n",
      "    },\n",
      "    {\n",
      "        \"id\": \"7160b264-e3ed-4ac3-9dd7-2c537b00e5ed\",\n",
      "        \"url\": \"http://d2dqg31qmn6qjz.cloudfront.net/#/product/7160b264-e3ed-4ac3-9dd7-2c537b00e5ed\",\n",
      "        \"sk\": \"\",\n",
      "        \"name\": \"Dog Frisbee\",\n",
      "        \"category\": \"outdoors\",\n",
      "        \"style\": \"pet\",\n",
      "        \"description\": \"This frisbee will keep your dog exercised\",\n",
      "        \"aliases\": null,\n",
      "        \"price\": 28.99,\n",
      "        \"image\": \"http://d2dqg31qmn6qjz.cloudfront.net/images/outdoors/7160b264-e3ed-4ac3-9dd7-2c537b00e5ed.jpg\",\n",
      "        \"featured\": \"true\",\n",
      "        \"current_stock\": 17\n",
      "    },\n",
      "    {\n",
      "        \"id\": \"22552eb1-57f1-4fa3-a93a-a9fa22851f9f\",\n",
      "        \"url\": \"http://d2dqg31qmn6qjz.cloudfront.net/#/product/22552eb1-57f1-4fa3-a93a-a9fa22851f9f\",\n",
      "        \"sk\": \"\",\n",
      "        \"name\": \"Red Sneakers\",\n",
      "        \"category\": \"footwear\",\n",
      "        \"style\": \"sneaker\",\n",
      "        \"description\": \"Edgy pair of red sneakers for roving in the neighborhood\",\n",
      "        \"aliases\": null,\n",
      "        \"price\": 58.99,\n",
      "        \"image\": \"http://d2dqg31qmn6qjz.cloudfront.net/images/footwear/22552eb1-57f1-4fa3-a93a-a9fa22851f9f.jpg\",\n",
      "        \"featured\": \"true\",\n",
      "        \"gender_affinity\": \"F\",\n",
      "        \"current_stock\": 18\n",
      "    },\n",
      "    {\n",
      "        \"id\": \"3b145528-d5fc-4c2a-b2a5-e119128caa5f\",\n",
      "        \"url\": \"http://d2dqg31qmn6qjz.cloudfront.net/#/product/3b145528-d5fc-4c2a-b2a5-e119128caa5f\",\n",
      "        \"sk\": \"\",\n",
      "        \"name\": \"Faultless Headphones\",\n",
      "        \"category\": \"electronics\",\n",
      "        \"style\": \"headphones\",\n",
      "        \"description\": \"Faultless pair of headphones for listening to your music\",\n",
      "        \"aliases\": null,\n",
      "        \"price\": 56.99,\n",
      "        \"image\": \"http://d2dqg31qmn6qjz.cloudfront.net/images/electronics/3b145528-d5fc-4c2a-b2a5-e119128caa5f.jpg\",\n",
      "        \"featured\": \"true\",\n",
      "        \"current_stock\": 19\n",
      "    },\n",
      "    {\n",
      "        \"id\": \"6f04daee-7387-442f-bc99-a9b0072b29ce\",\n",
      "        \"url\": \"http://d2dqg31qmn6qjz.cloudfront.net/#/product/6f04daee-7387-442f-bc99-a9b0072b29ce\",\n",
      "        \"sk\": \"\",\n",
      "        \"name\": \"Halloween Lights\",\n",
      "        \"category\": \"seasonal\",\n",
      "        \"style\": \"halloween\",\n",
      "        \"description\": \"Be sure to order early in October\",\n",
      "        \"aliases\": null,\n",
      "        \"price\": 39.99,\n",
      "        \"image\": \"http://d2dqg31qmn6qjz.cloudfront.net/images/seasonal/6f04daee-7387-442f-bc99-a9b0072b29ce.jpg\",\n",
      "        \"featured\": \"true\",\n",
      "        \"current_stock\": 17\n",
      "    },\n",
      "    {\n",
      "        \"id\": \"b87da3f8-9a3e-417d-abd7-16329c5be1ba\",\n",
      "        \"url\": \"http://d2dqg31qmn6qjz.cloudfront.net/#/product/b87da3f8-9a3e-417d-abd7-16329c5be1ba\",\n",
      "        \"sk\": \"\",\n",
      "        \"name\": \"Luxurious Soap\",\n",
      "        \"category\": \"beauty\",\n",
      "        \"style\": \"bathing\",\n",
      "        \"description\": \"Enjoy the fragrance of this luxurious soap\",\n",
      "        \"aliases\": null,\n",
      "        \"price\": 43.99,\n",
      "        \"image\": \"http://d2dqg31qmn6qjz.cloudfront.net/images/beauty/b87da3f8-9a3e-417d-abd7-16329c5be1ba.jpg\",\n",
      "        \"featured\": \"true\",\n",
      "        \"current_stock\": 19\n",
      "    },\n",
      "    {\n",
      "        \"id\": \"2ad09e8e-fd41-4d29-953e-546b924d7cb8\",\n",
      "        \"url\": \"http://d2dqg31qmn6qjz.cloudfront.net/#/product/2ad09e8e-fd41-4d29-953e-546b924d7cb8\",\n",
      "        \"sk\": \"\",\n",
      "        \"name\": \"Trendy Necklace\",\n",
      "        \"category\": \"jewelry\",\n",
      "        \"style\": \"necklace\",\n",
      "        \"description\": \"Trendy necklace for women for any occasion\",\n",
      "        \"aliases\": null,\n",
      "        \"price\": 50.99,\n",
      "        \"image\": \"http://d2dqg31qmn6qjz.cloudfront.net/images/jewelry/2ad09e8e-fd41-4d29-953e-546b924d7cb8.jpg\",\n",
      "        \"featured\": \"true\",\n",
      "        \"gender_affinity\": \"F\",\n",
      "        \"current_stock\": 16\n",
      "    },\n",
      "    {\n",
      "        \"id\": \"4bb66b8a-cf13-4959-87ce-ca506fa568a2\",\n",
      "        \"url\": \"http://d2dqg31qmn6qjz.cloudfront.net/#/product/4bb66b8a-cf13-4959-87ce-ca506fa568a2\",\n",
      "        \"sk\": \"\",\n",
      "        \"name\": \"Wedding Bouquet\",\n",
      "        \"category\": \"floral\",\n",
      "        \"style\": \"bouquet\",\n",
      "        \"description\": \"Wedding bouquet grown sustainably on our organic farms\",\n",
      "        \"aliases\": null,\n",
      "        \"price\": 58.99,\n",
      "        \"image\": \"http://d2dqg31qmn6qjz.cloudfront.net/images/floral/4bb66b8a-cf13-4959-87ce-ca506fa568a2.jpg\",\n",
      "        \"featured\": \"true\",\n",
      "        \"current_stock\": 6\n",
      "    },\n",
      "    {\n",
      "        \"id\": \"6bd74f2d-90c0-4ca6-9663-f3bbe9bf405b\",\n",
      "        \"url\": \"http://d2dqg31qmn6qjz.cloudfront.net/#/product/6bd74f2d-90c0-4ca6-9663-f3bbe9bf405b\",\n",
      "        \"sk\": \"\",\n",
      "        \"name\": \"Dark Red Jacket\",\n",
      "        \"category\": \"apparel\",\n",
      "        \"style\": \"jacket\",\n",
      "        \"description\": \"Dark red jacket for men about town\",\n",
      "        \"aliases\": null,\n",
      "        \"price\": 150.99,\n",
      "        \"image\": \"http://d2dqg31qmn6qjz.cloudfront.net/images/apparel/6bd74f2d-90c0-4ca6-9663-f3bbe9bf405b.jpg\",\n",
      "        \"featured\": \"true\",\n",
      "        \"gender_affinity\": \"M\",\n",
      "        \"current_stock\": 18\n",
      "    }\n",
      "]\n"
     ]
    }
   ],
   "source": [
    "response = requests.get('http://{}/products/featured'.format(products_service_instance))\n",
    "featured_products = response.json()\n",
    "print(json.dumps(featured_products, indent = 4))"
   ]
  },
  {
   "cell_type": "markdown",
   "id": "dcf4c91b",
   "metadata": {},
   "source": [
    "#### ReRank Featured Products\n",
    "Using the featured products list just retrieved, first we'll create a list of item IDs that we want to rerank for a specific user. This reranking will allow us to provide ranked products based on the user's behavior. These behaviors should be consistent the same persona that was mentioned above (since we're going to use the same user_id)."
   ]
  },
  {
   "cell_type": "code",
   "execution_count": 273,
   "id": "9c2c5caa",
   "metadata": {},
   "outputs": [
    {
     "name": "stdout",
     "output_type": "stream",
     "text": [
      "8bffb5fb-624f-48a8-a99f-b8e9c64bbe29, 5d37a44b-d121-426e-b528-59e603ba5923, a31ad4b3-f9a8-4a9b-a8b3-3034af7bacec, 01a8978b-2a84-4dbd-acc4-aff74a468681, 8b9733b9-cbea-4de3-978b-5e3f0e8c796c, 1e96e374-be23-4c97-b87e-b5c45cb8999f, 2b67230f-dc22-462e-9afe-c9e459f74093, 3f9a39b2-0d63-4751-b6ee-4ecd08dd2276, 7160b264-e3ed-4ac3-9dd7-2c537b00e5ed, 22552eb1-57f1-4fa3-a93a-a9fa22851f9f, 3b145528-d5fc-4c2a-b2a5-e119128caa5f, 6f04daee-7387-442f-bc99-a9b0072b29ce, b87da3f8-9a3e-417d-abd7-16329c5be1ba, 2ad09e8e-fd41-4d29-953e-546b924d7cb8, 4bb66b8a-cf13-4959-87ce-ca506fa568a2, 6bd74f2d-90c0-4ca6-9663-f3bbe9bf405b\n"
     ]
    }
   ],
   "source": [
    "unranked_product_ids = []\n",
    "\n",
    "for product in featured_products:\n",
    "    unranked_product_ids.append(product['id'])\n",
    "    \n",
    "print(', '.join(unranked_product_ids))"
   ]
  },
  {
   "cell_type": "markdown",
   "id": "9a05ad18",
   "metadata": {},
   "source": [
    "Now let's have Personalize rank the featured product IDs based on our random user."
   ]
  },
  {
   "cell_type": "code",
   "execution_count": 274,
   "id": "7aae98d7",
   "metadata": {},
   "outputs": [
    {
     "name": "stdout",
     "output_type": "stream",
     "text": [
      "[\n",
      "    {\n",
      "        \"itemId\": \"3b145528-d5fc-4c2a-b2a5-e119128caa5f\",\n",
      "        \"score\": 0.7339494\n",
      "    },\n",
      "    {\n",
      "        \"itemId\": \"22552eb1-57f1-4fa3-a93a-a9fa22851f9f\",\n",
      "        \"score\": 0.0563545\n",
      "    },\n",
      "    {\n",
      "        \"itemId\": \"7160b264-e3ed-4ac3-9dd7-2c537b00e5ed\",\n",
      "        \"score\": 0.0529209\n",
      "    },\n",
      "    {\n",
      "        \"itemId\": \"5d37a44b-d121-426e-b528-59e603ba5923\",\n",
      "        \"score\": 0.051606\n",
      "    },\n",
      "    {\n",
      "        \"itemId\": \"b87da3f8-9a3e-417d-abd7-16329c5be1ba\",\n",
      "        \"score\": 0.0508821\n",
      "    },\n",
      "    {\n",
      "        \"itemId\": \"8b9733b9-cbea-4de3-978b-5e3f0e8c796c\",\n",
      "        \"score\": 0.0326613\n",
      "    },\n",
      "    {\n",
      "        \"itemId\": \"01a8978b-2a84-4dbd-acc4-aff74a468681\",\n",
      "        \"score\": 0.0084158\n",
      "    },\n",
      "    {\n",
      "        \"itemId\": \"6bd74f2d-90c0-4ca6-9663-f3bbe9bf405b\",\n",
      "        \"score\": 0.0058017\n",
      "    },\n",
      "    {\n",
      "        \"itemId\": \"3f9a39b2-0d63-4751-b6ee-4ecd08dd2276\",\n",
      "        \"score\": 0.003612\n",
      "    },\n",
      "    {\n",
      "        \"itemId\": \"4bb66b8a-cf13-4959-87ce-ca506fa568a2\",\n",
      "        \"score\": 0.0013478\n",
      "    },\n",
      "    {\n",
      "        \"itemId\": \"2ad09e8e-fd41-4d29-953e-546b924d7cb8\",\n",
      "        \"score\": 0.0008652\n",
      "    },\n",
      "    {\n",
      "        \"itemId\": \"2b67230f-dc22-462e-9afe-c9e459f74093\",\n",
      "        \"score\": 0.0007573\n",
      "    },\n",
      "    {\n",
      "        \"itemId\": \"a31ad4b3-f9a8-4a9b-a8b3-3034af7bacec\",\n",
      "        \"score\": 0.000427\n",
      "    },\n",
      "    {\n",
      "        \"itemId\": \"8bffb5fb-624f-48a8-a99f-b8e9c64bbe29\",\n",
      "        \"score\": 0.0003754\n",
      "    },\n",
      "    {\n",
      "        \"itemId\": \"1e96e374-be23-4c97-b87e-b5c45cb8999f\",\n",
      "        \"score\": 1.61e-05\n",
      "    },\n",
      "    {\n",
      "        \"itemId\": \"6f04daee-7387-442f-bc99-a9b0072b29ce\",\n",
      "        \"score\": 7.5e-06\n",
      "    }\n",
      "]\n"
     ]
    }
   ],
   "source": [
    "response = personalize_runtime.get_personalized_ranking(\n",
    "    campaignArn=ranking_campaign_arn,\n",
    "    inputList=unranked_product_ids,\n",
    "    userId=str(user_id)\n",
    ")\n",
    "reranked = response['personalizedRanking']\n",
    "print(json.dumps(response['personalizedRanking'], indent = 4))"
   ]
  },
  {
   "cell_type": "markdown",
   "id": "e8da6ce1",
   "metadata": {},
   "source": [
    "Are the reranked results for our user different than the original results from the Products service? Experiment with a different user_id in the cells above to see how the item ranking changes.\n",
    "\n",
    "### Pick products for discount - contextual recommendations\n",
    "Using the featured products list we'll pick some products for discount from the featured products.\n",
    "\n",
    "We'll get the ranking when discount context is applied for comparison. This is a using the \"contextual metadata\" feature of Amazon Personalize."
   ]
  },
  {
   "cell_type": "code",
   "execution_count": 285,
   "id": "acefc37b",
   "metadata": {},
   "outputs": [
    {
     "name": "stdout",
     "output_type": "stream",
     "text": [
      "Discount context ranking: [\n",
      "    {\n",
      "        \"itemId\": \"3b145528-d5fc-4c2a-b2a5-e119128caa5f\",\n",
      "        \"score\": 0.7339494\n",
      "    },\n",
      "    {\n",
      "        \"itemId\": \"22552eb1-57f1-4fa3-a93a-a9fa22851f9f\",\n",
      "        \"score\": 0.0563545\n",
      "    },\n",
      "    {\n",
      "        \"itemId\": \"7160b264-e3ed-4ac3-9dd7-2c537b00e5ed\",\n",
      "        \"score\": 0.0529209\n",
      "    },\n",
      "    {\n",
      "        \"itemId\": \"5d37a44b-d121-426e-b528-59e603ba5923\",\n",
      "        \"score\": 0.051606\n",
      "    },\n",
      "    {\n",
      "        \"itemId\": \"b87da3f8-9a3e-417d-abd7-16329c5be1ba\",\n",
      "        \"score\": 0.0508821\n",
      "    },\n",
      "    {\n",
      "        \"itemId\": \"8b9733b9-cbea-4de3-978b-5e3f0e8c796c\",\n",
      "        \"score\": 0.0326613\n",
      "    },\n",
      "    {\n",
      "        \"itemId\": \"01a8978b-2a84-4dbd-acc4-aff74a468681\",\n",
      "        \"score\": 0.0084158\n",
      "    },\n",
      "    {\n",
      "        \"itemId\": \"6bd74f2d-90c0-4ca6-9663-f3bbe9bf405b\",\n",
      "        \"score\": 0.0058017\n",
      "    },\n",
      "    {\n",
      "        \"itemId\": \"3f9a39b2-0d63-4751-b6ee-4ecd08dd2276\",\n",
      "        \"score\": 0.003612\n",
      "    },\n",
      "    {\n",
      "        \"itemId\": \"4bb66b8a-cf13-4959-87ce-ca506fa568a2\",\n",
      "        \"score\": 0.0013478\n",
      "    },\n",
      "    {\n",
      "        \"itemId\": \"2ad09e8e-fd41-4d29-953e-546b924d7cb8\",\n",
      "        \"score\": 0.0008652\n",
      "    },\n",
      "    {\n",
      "        \"itemId\": \"2b67230f-dc22-462e-9afe-c9e459f74093\",\n",
      "        \"score\": 0.0007573\n",
      "    },\n",
      "    {\n",
      "        \"itemId\": \"a31ad4b3-f9a8-4a9b-a8b3-3034af7bacec\",\n",
      "        \"score\": 0.000427\n",
      "    },\n",
      "    {\n",
      "        \"itemId\": \"8bffb5fb-624f-48a8-a99f-b8e9c64bbe29\",\n",
      "        \"score\": 0.0003754\n",
      "    },\n",
      "    {\n",
      "        \"itemId\": \"1e96e374-be23-4c97-b87e-b5c45cb8999f\",\n",
      "        \"score\": 1.61e-05\n",
      "    },\n",
      "    {\n",
      "        \"itemId\": \"6f04daee-7387-442f-bc99-a9b0072b29ce\",\n",
      "        \"score\": 7.5e-06\n",
      "    }\n",
      "]\n",
      "Discount: ['3b145528-d5fc-4c2a-b2a5-e119128caa5f', '22552eb1-57f1-4fa3-a93a-a9fa22851f9f']\n"
     ]
    }
   ],
   "source": [
    "response = personalize_runtime.get_personalized_ranking(\n",
    "    campaignArn=ranking_campaign_arn,\n",
    "    inputList=unranked_product_ids,\n",
    "    userId=str(user_id),\n",
    "    context={'DISCOUNT': 'Yes'} # Here we provide the context for the ranking\n",
    ")\n",
    "disount_reranked = response['personalizedRanking']\n",
    "print('Discount context ranking:', json.dumps(disount_reranked, indent = 4))\n",
    "print('Discount:', [item['itemId'] for item in disount_reranked[:2]])"
   ]
  },
  {
   "cell_type": "markdown",
   "id": "1a5aaf6e",
   "metadata": {},
   "source": [
    "We could use the discount-context ranking directly, but what we might be more interested in seeing is those products that benefit from having a discount shown. In our simulated data, certain products are more likely to see purchases with discount (to be precise, the less expensive ones). Let us find out which products benefit most. We also make use of the scores returned by Personalize when it returns the ranking."
   ]
  },
  {
   "cell_type": "code",
   "execution_count": 288,
   "id": "2b227702",
   "metadata": {},
   "outputs": [
    {
     "name": "stdout",
     "output_type": "stream",
     "text": [
      "non_discount_rerank_scores: {'3b145528-d5fc-4c2a-b2a5-e119128caa5f': 0.7339494, '22552eb1-57f1-4fa3-a93a-a9fa22851f9f': 0.0563545, '7160b264-e3ed-4ac3-9dd7-2c537b00e5ed': 0.0529209, '5d37a44b-d121-426e-b528-59e603ba5923': 0.051606, 'b87da3f8-9a3e-417d-abd7-16329c5be1ba': 0.0508821, '8b9733b9-cbea-4de3-978b-5e3f0e8c796c': 0.0326613, '01a8978b-2a84-4dbd-acc4-aff74a468681': 0.0084158, '6bd74f2d-90c0-4ca6-9663-f3bbe9bf405b': 0.0058017, '3f9a39b2-0d63-4751-b6ee-4ecd08dd2276': 0.003612, '4bb66b8a-cf13-4959-87ce-ca506fa568a2': 0.0013478, '2ad09e8e-fd41-4d29-953e-546b924d7cb8': 0.0008652, '2b67230f-dc22-462e-9afe-c9e459f74093': 0.0007573, 'a31ad4b3-f9a8-4a9b-a8b3-3034af7bacec': 0.000427, '8bffb5fb-624f-48a8-a99f-b8e9c64bbe29': 0.0003754, '1e96e374-be23-4c97-b87e-b5c45cb8999f': 1.61e-05, '6f04daee-7387-442f-bc99-a9b0072b29ce': 1e-05}\n",
      "discount_rerank_scores: {'3b145528-d5fc-4c2a-b2a5-e119128caa5f': 0.7339494, '22552eb1-57f1-4fa3-a93a-a9fa22851f9f': 0.0563545, '7160b264-e3ed-4ac3-9dd7-2c537b00e5ed': 0.0529209, '5d37a44b-d121-426e-b528-59e603ba5923': 0.051606, 'b87da3f8-9a3e-417d-abd7-16329c5be1ba': 0.0508821, '8b9733b9-cbea-4de3-978b-5e3f0e8c796c': 0.0326613, '01a8978b-2a84-4dbd-acc4-aff74a468681': 0.0084158, '6bd74f2d-90c0-4ca6-9663-f3bbe9bf405b': 0.0058017, '3f9a39b2-0d63-4751-b6ee-4ecd08dd2276': 0.003612, '4bb66b8a-cf13-4959-87ce-ca506fa568a2': 0.0013478, '2ad09e8e-fd41-4d29-953e-546b924d7cb8': 0.0008652, '2b67230f-dc22-462e-9afe-c9e459f74093': 0.0007573, 'a31ad4b3-f9a8-4a9b-a8b3-3034af7bacec': 0.000427, '8bffb5fb-624f-48a8-a99f-b8e9c64bbe29': 0.0003754, '1e96e374-be23-4c97-b87e-b5c45cb8999f': 1.61e-05, '6f04daee-7387-442f-bc99-a9b0072b29ce': 7.5e-06}\n",
      "score_increases_with_discount: {'3b145528-d5fc-4c2a-b2a5-e119128caa5f': 1.0, '22552eb1-57f1-4fa3-a93a-a9fa22851f9f': 1.0, '7160b264-e3ed-4ac3-9dd7-2c537b00e5ed': 1.0, '5d37a44b-d121-426e-b528-59e603ba5923': 1.0, 'b87da3f8-9a3e-417d-abd7-16329c5be1ba': 1.0, '8b9733b9-cbea-4de3-978b-5e3f0e8c796c': 1.0, '01a8978b-2a84-4dbd-acc4-aff74a468681': 1.0, '6bd74f2d-90c0-4ca6-9663-f3bbe9bf405b': 1.0, '3f9a39b2-0d63-4751-b6ee-4ecd08dd2276': 1.0, '4bb66b8a-cf13-4959-87ce-ca506fa568a2': 1.0, '2ad09e8e-fd41-4d29-953e-546b924d7cb8': 1.0, '2b67230f-dc22-462e-9afe-c9e459f74093': 1.0, 'a31ad4b3-f9a8-4a9b-a8b3-3034af7bacec': 1.0, '8bffb5fb-624f-48a8-a99f-b8e9c64bbe29': 1.0, '1e96e374-be23-4c97-b87e-b5c45cb8999f': 1.0, '6f04daee-7387-442f-bc99-a9b0072b29ce': 0.75}\n",
      "Improvement ranking: ['6f04daee-7387-442f-bc99-a9b0072b29ce', '3b145528-d5fc-4c2a-b2a5-e119128caa5f', '22552eb1-57f1-4fa3-a93a-a9fa22851f9f', '7160b264-e3ed-4ac3-9dd7-2c537b00e5ed', '5d37a44b-d121-426e-b528-59e603ba5923', 'b87da3f8-9a3e-417d-abd7-16329c5be1ba', '8b9733b9-cbea-4de3-978b-5e3f0e8c796c', '01a8978b-2a84-4dbd-acc4-aff74a468681', '6bd74f2d-90c0-4ca6-9663-f3bbe9bf405b', '3f9a39b2-0d63-4751-b6ee-4ecd08dd2276', '4bb66b8a-cf13-4959-87ce-ca506fa568a2', '2ad09e8e-fd41-4d29-953e-546b924d7cb8', '2b67230f-dc22-462e-9afe-c9e459f74093', 'a31ad4b3-f9a8-4a9b-a8b3-3034af7bacec', '8bffb5fb-624f-48a8-a99f-b8e9c64bbe29', '1e96e374-be23-4c97-b87e-b5c45cb8999f']\n",
      "Discount: ['6f04daee-7387-442f-bc99-a9b0072b29ce', '3b145528-d5fc-4c2a-b2a5-e119128caa5f']\n"
     ]
    }
   ],
   "source": [
    "eps = 0.00001 #  \"epsilon\" - a number slightly more than zero so we don't get division by zero\n",
    "non_discount_rerank_scores = {item['itemId']: max(item['score'], eps) for item in reranked}\n",
    "print('non_discount_rerank_scores:',non_discount_rerank_scores)\n",
    "discount_rerank_scores = {item['itemId']: item['score'] for item in disount_reranked}\n",
    "print('discount_rerank_scores:',discount_rerank_scores)\n",
    "score_increases_with_discount = {item_id: discount_rerank_scores[item_id]/non_discount_rerank_scores[item_id]\n",
    "                                 for item_id in discount_rerank_scores}\n",
    "print('score_increases_with_discount:',score_increases_with_discount)\n",
    "# Let us get the sorted items:\n",
    "discount_improve_sorted_items = sorted(score_increases_with_discount.keys(),\n",
    "                                       key=lambda key: score_increases_with_discount[key])\n",
    "\n",
    "print('Improvement ranking:', discount_improve_sorted_items)\n",
    "# Let us pick the two items that respond best to discounts\n",
    "print('Discount:', discount_improve_sorted_items[:2])"
   ]
  },
  {
   "cell_type": "markdown",
   "id": "adacb6d0",
   "metadata": {},
   "source": [
    "Has the ranking changed?\n",
    "\n",
    "### Enable recommenders and campaigns in Retail Demo Store Recommendations service\n",
    "Now that we've tested our campaigns and can get related product, product recommendations, and reranked items for our users, we need to enable the recommenders and campaigns in the Retail Demo Store's Recommendations service (https://github.com/aws-samples/retail-demo-store/tree/master/src/recommendations). The Recommendations service is called by the Retail Demo Store Web UI when a user visits a page with personalized content capabilities (home page, product detail page, and category page). The Recommendations service checks Systems Manager Parameter values to determine the Personalize recommender and campaign ARNs to use for each of our personalization use-cases.\n",
    "\n",
    "Let's set the recommender and campaign ARNs in the expected parameter names.\n",
    "\n",
    "#### Update SSM Parameters to enable recommenders"
   ]
  },
  {
   "cell_type": "code",
   "execution_count": 291,
   "id": "8bfcd40b",
   "metadata": {},
   "outputs": [
    {
     "data": {
      "text/plain": [
       "{'Version': 3,\n",
       " 'Tier': 'Standard',\n",
       " 'ResponseMetadata': {'RequestId': '6bd84f83-ad25-4d4b-bf94-d3235fc98417',\n",
       "  'HTTPStatusCode': 200,\n",
       "  'HTTPHeaders': {'server': 'Server',\n",
       "   'date': 'Wed, 14 Sep 2022 14:35:12 GMT',\n",
       "   'content-type': 'application/x-amz-json-1.1',\n",
       "   'content-length': '31',\n",
       "   'connection': 'keep-alive',\n",
       "   'x-amzn-requestid': '6bd84f83-ad25-4d4b-bf94-d3235fc98417'},\n",
       "  'RetryAttempts': 0}}"
      ]
     },
     "execution_count": 291,
     "metadata": {},
     "output_type": "execute_result"
    }
   ],
   "source": [
    "response = ssm.put_parameter(\n",
    "    Name='/retaildemostore/personalize/recommended-for-you-arn',\n",
    "    Description='Retail Demo Store Recommended For You Recommender/Campaign Arn Parameter',\n",
    "    Value='{}'.format(rfy_recommender_arn),\n",
    "    Type='String',\n",
    "    Overwrite=True\n",
    ")\n",
    "response\n"
   ]
  },
  {
   "cell_type": "code",
   "execution_count": 292,
   "id": "008d95ba",
   "metadata": {},
   "outputs": [
    {
     "data": {
      "text/plain": [
       "{'Version': 2,\n",
       " 'Tier': 'Standard',\n",
       " 'ResponseMetadata': {'RequestId': 'b5b2a2a0-f8dc-4ed5-9778-93cd7da928a5',\n",
       "  'HTTPStatusCode': 200,\n",
       "  'HTTPHeaders': {'server': 'Server',\n",
       "   'date': 'Wed, 14 Sep 2022 14:35:24 GMT',\n",
       "   'content-type': 'application/x-amz-json-1.1',\n",
       "   'content-length': '31',\n",
       "   'connection': 'keep-alive',\n",
       "   'x-amzn-requestid': 'b5b2a2a0-f8dc-4ed5-9778-93cd7da928a5'},\n",
       "  'RetryAttempts': 0}}"
      ]
     },
     "execution_count": 292,
     "metadata": {},
     "output_type": "execute_result"
    }
   ],
   "source": [
    "response = ssm.put_parameter(\n",
    "    Name='/retaildemostore/personalize/popular-items-arn',\n",
    "    Description='Retail Demo Store Most Viewed Recommender/Campaign Arn Parameter',\n",
    "    Value='{}'.format(most_viewed_recommender_arn),\n",
    "    Type='String',\n",
    "    Overwrite=True\n",
    ")\n",
    "response"
   ]
  },
  {
   "cell_type": "markdown",
   "id": "87b9add2",
   "metadata": {},
   "source": [
    "#### Update SSM Parameter to enable campaigns"
   ]
  },
  {
   "cell_type": "code",
   "execution_count": 293,
   "id": "541ba371",
   "metadata": {},
   "outputs": [
    {
     "data": {
      "text/plain": [
       "{'Version': 2,\n",
       " 'Tier': 'Standard',\n",
       " 'ResponseMetadata': {'RequestId': 'f80ab53d-6395-4a47-9d03-2d8401ba311f',\n",
       "  'HTTPStatusCode': 200,\n",
       "  'HTTPHeaders': {'server': 'Server',\n",
       "   'date': 'Wed, 14 Sep 2022 14:36:17 GMT',\n",
       "   'content-type': 'application/x-amz-json-1.1',\n",
       "   'content-length': '31',\n",
       "   'connection': 'keep-alive',\n",
       "   'x-amzn-requestid': 'f80ab53d-6395-4a47-9d03-2d8401ba311f'},\n",
       "  'RetryAttempts': 0}}"
      ]
     },
     "execution_count": 293,
     "metadata": {},
     "output_type": "execute_result"
    }
   ],
   "source": [
    "response = ssm.put_parameter(\n",
    "    Name='/retaildemostore/personalize/related-items-arn',\n",
    "    Description='Retail Demo Store Also Viewed Recommender/Campaign Arn Parameter',\n",
    "    Value='{}'.format(similar_items_campaign_arn),\n",
    "    Type='String',\n",
    "    Overwrite=True\n",
    ")\n",
    "response"
   ]
  },
  {
   "cell_type": "code",
   "execution_count": 294,
   "id": "b0502b97",
   "metadata": {},
   "outputs": [
    {
     "data": {
      "text/plain": [
       "{'Version': 2,\n",
       " 'Tier': 'Standard',\n",
       " 'ResponseMetadata': {'RequestId': '3e872d51-69fe-406e-a8e0-ebf08d2facbf',\n",
       "  'HTTPStatusCode': 200,\n",
       "  'HTTPHeaders': {'server': 'Server',\n",
       "   'date': 'Wed, 14 Sep 2022 14:36:34 GMT',\n",
       "   'content-type': 'application/x-amz-json-1.1',\n",
       "   'content-length': '31',\n",
       "   'connection': 'keep-alive',\n",
       "   'x-amzn-requestid': '3e872d51-69fe-406e-a8e0-ebf08d2facbf'},\n",
       "  'RetryAttempts': 0}}"
      ]
     },
     "execution_count": 294,
     "metadata": {},
     "output_type": "execute_result"
    }
   ],
   "source": [
    "response = ssm.put_parameter(\n",
    "    Name='/retaildemostore/personalize/personalized-ranking-arn',\n",
    "    Description='Retail Demo Store Personalized Ranking Campaign Arn Parameter',\n",
    "    Value='{}'.format(ranking_campaign_arn),\n",
    "    Type='String',\n",
    "    Overwrite=True\n",
    ")\n",
    "response"
   ]
  },
  {
   "cell_type": "markdown",
   "id": "1c969a83",
   "metadata": {},
   "source": [
    "### Evaluate Personalization in Retail Demo Store's Web UI\n",
    "Now that you've enabled each personalization feature by setting the respective recommender and campaign ARN, you can test these personalization features through the Retail Demo Store's Web App UI. If you haven't already opened a browser window/tab to the Retail Demo Store Web UI, navigate to the CloudFormation console in this AWS account and check the Outputs section of the stack used to launch the Retail Demo Store. Make sure you're checking the base/root stack and not the nested stacks that were created. In the Outputs section look for the output named: WebURL and browse to the URL provided.\n"
   ]
  },
  {
   "cell_type": "markdown",
   "id": "30e3df46",
   "metadata": {},
   "source": [
    "If you haven't already created a user account in your Retail Demo Store instance, let's create one now. When you access the Retail Demo Store Web UI for the first time, you will be prompted to create an account or sign in to an existing account. Click the \"Create an account\" button. If you skipped the account creation process, click the \"Sign In\" button and then click the \"No account? Create account\" link to create an account. Follow the prompts and enter the required data. You will need to provide a valid email address in order to receive an email with the confirmation code to validate your account.\n",
    "\n",
    "Once you've created and validated your account, click on the Sign In button again and sign in with the account you created.\n",
    "\n",
    "### Emulate Shopper\n",
    "To confirm product recommendations are personalized, you can emulate one of the many ficticious shoppers loaded into the system. You can also switch between shoppers by clicking the shopper profile name and details in the top navigation. You can have a shopper auto-selected for you or you can choose your own. In the shopper selection modal dialog, specify an age range and a primary shopping interest. Click Submit and a closely matching shopper is shown, confirm your choice or try again. Product recommendations should match the persona of the shopper you've selected.\n",
    "\n",
    "### Viewing Related Product Recommendations\n",
    "Let's start with the Related Product Recommendations use-case. This recommender for this use-case is based on the Similar-Items (https://docs.aws.amazon.com/personalize/latest/dg/native-recipe-similar-items.html) custom solution recipe which uses item-to-item co-interactions and thematic item similarity (based on item metadata) to determine item similarity.\n",
    "\n",
    "Browse to a product detail page (https://github.com/aws-samples/retail-demo-store/blob/master/src/web-ui/src/public/ProductDetail.vue) and evaluate the products listed in the Compare similar items section. You should see the Personalize service icon displayed to the right of the section header. This tells you that results are actually coming from a recommender or campaign. If you don't see the Personalize service icon and recipe name, the page is using default behavior of displaying products from the same category (verify that the campaign was created successfully above and the campaign ARN is set as an SSM parameter)."
   ]
  },
  {
   "cell_type": "markdown",
   "id": "1a60429a",
   "metadata": {},
   "source": [
    "### Viewing Product Recommendations\n",
    "With the user emulation saved, browse to the Retail Demo Store home page (https://github.com/aws-samples/retail-demo-store/blob/master/src/web-ui/src/public/Main.vue) and evaluate the products listed in the Inspired by your shopping trends section. Do they appear consistent with the shopping persona you're emulating? For the screenshots listed here, the user was trained with historical data based primarily on products from the \"Footwear\" category, then to a lesser degree on products from the \"Jewelry\" category, and slightly on products from the \"Furniture\" category."
   ]
  },
  {
   "cell_type": "markdown",
   "id": "e1af7502",
   "metadata": {},
   "source": [
    "Note that if the section is titled Featured or you don't see the Personalize service icon and recipe name displayed, this indicates that either you are not signed in as a user or the recommender ARN is not set as the appropriate SSM parameter. Double check that the recommender was created successfully in the prior lab and that the recommender ARN is set in SSM.\n",
    "\n",
    "### Personalized Ranking\n",
    "Finally, let's evaluate the personalizated ranking use-case. There are two places where personalized ranking is implemented in the Retail Demo Store. With a user emulated, browse to the featured product category list by clicking on \"Featured\" from the Retail Demo Store home page. Note how for the emulated user with a persona of \"Electronics, Outdoors, Footwear\" has the headphones, frisbee, and pair of shoes sorted to the top of the list. (See CategoryDetail.vue (https://github.com/aws-samples/retail-demo-store/blob/master/src/web-ui/src/public/CategoryDetail.vue))."
   ]
  },
  {
   "cell_type": "markdown",
   "id": "3be54a4c",
   "metadata": {},
   "source": [
    "The other feature where personalized ranking is implemented is in search results (https://github.com/aws-samples/retail-demo-store/blob/master/src/web-ui/src/public/Search.vue). Start typing a word in the search box and a search result widget will be displayed. If the results were reranked by Personalize, you will see a \"Personalize Ranking\" annotation in the search box. For the emulated user with a historical affinity for electronics, outdoors, and footwear, notice that a search for product keywords starting with \"s\" will move shoes and speakers to the top of the results."
   ]
  },
  {
   "cell_type": "markdown",
   "id": "2601bd3c",
   "metadata": {},
   "source": [
    "### Personalized Discounts\n",
    "The Personalized Discounts are enabled against the Amazon Interactive Video Service (IVS) demo (https://aws.amazon.com/ivs/). You can access this page from the \"Shop\" dropdown and then select \"Live Streams\" in the navigation bar. Discounted products are chosen over the current set of products streamed from the IVS live stream:"
   ]
  },
  {
   "cell_type": "markdown",
   "id": "a72af3e4",
   "metadata": {},
   "source": [
    "Currently 2 products are selected for each video to be offered a discount.\n",
    "\n",
    "### Event Tracking - Keeping up with evolving user intent\n",
    "Up to this point we have trained and deployed Amazon Personalize recommenders and campaigns based on historical data that we generated in this workshop. This allows us to make related product, user recommendations, and rerank product lists based on already observed behavior of our users. However, user intent often changes in real-time such that what products the user is interested in now may be different than what they were interested in a week ago, a day ago, or even a few minutes ago. Making recommendations that keep up with evolving user intent is one of the more difficult challenges with personalization. Fortunately, Amazon Personalize has a mechanism for this exact issue.\n",
    "\n",
    "Amazon Personalize supports the ability to send real-time user events (i.e. clickstream) data into the service. Personalize uses this event data to adjust recommendations. It will also save these events and automatically include them when recommenders and solutions for the same dataset group are re-trained.\n",
    "\n",
    "The Retail Demo Store's Web UI already has logic to send events (https://github.com/aws-samples/retail-demo-store/blob/master/src/web-ui/src/analytics/AnalyticsHandler.js) such as 'View', 'AddToCart', 'Purchase', and others as they occur in real-time to a Personalize Event Tracker. These are the same event types we used to initially create the recommenders, solutions, and campaigns for our personalization use-cases. All we need to do is create an event tracker in Personalize, set the tracking Id for the tracker in an SSM parameter, and rebuild the Web UI service to pick up the change.\n",
    "\n",
    "#### Create Personalize Event Tracker\n",
    "Let's start by creating an event tracker for our dataset group."
   ]
  },
  {
   "cell_type": "code",
   "execution_count": 300,
   "id": "3ef600c4",
   "metadata": {},
   "outputs": [
    {
     "name": "stdout",
     "output_type": "stream",
     "text": [
      "Event Tracker ARN: arn:aws:personalize:us-east-1:016882278218:event-tracker/b7f4b38e\n",
      "Event Tracking ID: a951fa94-801a-4819-b9fd-fd0bc40038ce\n"
     ]
    }
   ],
   "source": [
    "try:\n",
    "    event_tracker_response = personalize.create_event_tracker(\n",
    "        datasetGroupArn=dataset_group_arn,\n",
    "        name='retaildemostore-event-tracker'\n",
    "    )\n",
    "\n",
    "    event_tracker_arn = event_tracker_response['eventTrackerArn']\n",
    "    event_tracking_id = event_tracker_response['trackingId']\n",
    "except personalize.exceptions.ResourceAlreadyExistsException:\n",
    "    print('You aready created an event tracker for this dataset group, seemingly')\n",
    "    paginator = personalize.get_paginator('list_event_trackers')\n",
    "    for paginate_result in paginator.paginate(datasetGroupArn = dataset_group_arn):\n",
    "        for event_tracker in paginate_result['eventTrackers']:\n",
    "            if event_tracker['name'] == 'retaildemostore-event-tracker':\n",
    "                event_tracker_arn = event_tracker['eventTrackerArn']\n",
    "                \n",
    "                response = personalize.describe_event_tracker(eventTrackerArn = event_tracker_arn)\n",
    "                event_tracking_id = response['eventTracker']['trackingId']\n",
    "                break\n",
    "\n",
    "print('Event Tracker ARN: ' + event_tracker_arn)\n",
    "print('Event Tracking ID: ' + event_tracking_id)"
   ]
  },
  {
   "cell_type": "markdown",
   "id": "e286c515",
   "metadata": {},
   "source": [
    "#### Wait for Event Tracker Status to Become ACTIVE\n",
    "The event tracker should take a minute or so to become active."
   ]
  },
  {
   "cell_type": "code",
   "execution_count": 305,
   "id": "029ddef0",
   "metadata": {},
   "outputs": [
    {
     "name": "stdout",
     "output_type": "stream",
     "text": [
      "EventTracker: ACTIVE\n",
      "describe_event_tracker_response: {'eventTracker': {'name': 'retaildemostore-event-tracker', 'eventTrackerArn': 'arn:aws:personalize:us-east-1:016882278218:event-tracker/b7f4b38e', 'accountId': '016882278218', 'trackingId': 'a951fa94-801a-4819-b9fd-fd0bc40038ce', 'datasetGroupArn': 'arn:aws:personalize:us-east-1:016882278218:dataset-group/retaildemostore-products', 'status': 'ACTIVE', 'creationDateTime': datetime.datetime(2022, 9, 15, 18, 14, 17, 128000, tzinfo=tzlocal()), 'lastUpdatedDateTime': datetime.datetime(2022, 9, 15, 18, 14, 38, 720000, tzinfo=tzlocal())}, 'ResponseMetadata': {'RequestId': 'f046b7b7-ec3d-47e0-8d07-5ef877f7c4b8', 'HTTPStatusCode': 200, 'HTTPHeaders': {'date': 'Thu, 15 Sep 2022 16:28:22 GMT', 'content-type': 'application/x-amz-json-1.1', 'content-length': '416', 'connection': 'keep-alive', 'x-amzn-requestid': 'f046b7b7-ec3d-47e0-8d07-5ef877f7c4b8'}, 'RetryAttempts': 0}}\n"
     ]
    }
   ],
   "source": [
    "status = None\n",
    "max_time = time.time() + 60*60 # 1 hours\n",
    "while time.time() < max_time:\n",
    "    describe_event_tracker_response = personalize.describe_event_tracker(\n",
    "        eventTrackerArn = event_tracker_arn\n",
    "    )\n",
    "    status = describe_event_tracker_response[\"eventTracker\"][\"status\"]\n",
    "    print(\"EventTracker: {}\".format(status))\n",
    "    print(f\"describe_event_tracker_response: {describe_event_tracker_response}\")\n",
    "    \n",
    "    if status == \"ACTIVE\" or status == \"CREATE FAILED\":\n",
    "        break\n",
    "        \n",
    "    time.sleep(15)\n",
    "    \n"
   ]
  },
  {
   "cell_type": "markdown",
   "id": "7b0d40f6",
   "metadata": {},
   "source": [
    "Update SSM Parameter To Enable Event Tracking\n",
    "The Retail Demo Store's Web UI service just needs a Personalize Event Tracking Id to be able to send events to Personalize. The CodeBuild configuration for the Web UI service will pull the event tracking ID from an SSM parameter.\n",
    "\n",
    "Let's set our tracking ID in an SSM parameter."
   ]
  },
  {
   "cell_type": "code",
   "execution_count": 304,
   "id": "2e563fef",
   "metadata": {},
   "outputs": [
    {
     "data": {
      "text/plain": [
       "{'Version': 4,\n",
       " 'Tier': 'Standard',\n",
       " 'ResponseMetadata': {'RequestId': '09514114-1423-41e1-957e-5c42794cf905',\n",
       "  'HTTPStatusCode': 200,\n",
       "  'HTTPHeaders': {'server': 'Server',\n",
       "   'date': 'Thu, 15 Sep 2022 16:26:10 GMT',\n",
       "   'content-type': 'application/x-amz-json-1.1',\n",
       "   'content-length': '31',\n",
       "   'connection': 'keep-alive',\n",
       "   'x-amzn-requestid': '09514114-1423-41e1-957e-5c42794cf905'},\n",
       "  'RetryAttempts': 0}}"
      ]
     },
     "execution_count": 304,
     "metadata": {},
     "output_type": "execute_result"
    }
   ],
   "source": [
    "response = ssm.put_parameter(\n",
    "    Name='/retaildemostore/personalize/event-tracker-id',\n",
    "    Description='Retail Demo Store Personalize Event Tracker ID Parameter',\n",
    "    Value='{}'.format(event_tracking_id),\n",
    "    Type='String',\n",
    "    Overwrite=True\n",
    ")\n",
    "response"
   ]
  },
  {
   "cell_type": "markdown",
   "id": "cd23782a",
   "metadata": {},
   "source": [
    "#### Trigger Web UI Service Release\n",
    "Next let's trigger a new release of the Retail Demo Store's Web UI service so that it will pick up our SSM parameter change.\n",
    "\n",
    "In the AWS console, browse to the AWS Code Pipeline service. Find the pipeline with WebUIPipeline in the name. Click on the pipeline name."
   ]
  },
  {
   "cell_type": "markdown",
   "id": "5a1ef486",
   "metadata": {},
   "source": [
    "#### Trigger Release\n",
    "To manually trigger a new release, click the Release change button, click the Release button on the popup dialog window, and then wait for the pipeline to build and deploy. This will rebuild the web app, deploy it to the web UI S3 bucket, and invalidate the CloudFront distribution to force browsers to load from the origin rather than from their local cache."
   ]
  },
  {
   "cell_type": "code",
   "execution_count": 306,
   "id": "f9440484",
   "metadata": {},
   "outputs": [
    {
     "data": {
      "text/plain": [
       "{'Parameter': {'Name': '/retaildemostore/personalize/event-tracker-id',\n",
       "  'Type': 'String',\n",
       "  'Value': 'a951fa94-801a-4819-b9fd-fd0bc40038ce',\n",
       "  'Version': 4,\n",
       "  'LastModifiedDate': datetime.datetime(2022, 9, 15, 18, 26, 10, 607000, tzinfo=tzlocal()),\n",
       "  'ARN': 'arn:aws:ssm:us-east-1:016882278218:parameter/retaildemostore/personalize/event-tracker-id',\n",
       "  'DataType': 'text'},\n",
       " 'ResponseMetadata': {'RequestId': 'ff69f678-f668-44f0-8362-68aa27e3382f',\n",
       "  'HTTPStatusCode': 200,\n",
       "  'HTTPHeaders': {'server': 'Server',\n",
       "   'date': 'Thu, 15 Sep 2022 16:49:08 GMT',\n",
       "   'content-type': 'application/x-amz-json-1.1',\n",
       "   'content-length': '297',\n",
       "   'connection': 'keep-alive',\n",
       "   'x-amzn-requestid': 'ff69f678-f668-44f0-8362-68aa27e3382f'},\n",
       "  'RetryAttempts': 0}}"
      ]
     },
     "execution_count": 306,
     "metadata": {},
     "output_type": "execute_result"
    }
   ],
   "source": [
    "ssm.get_parameter(\n",
    "    Name='/retaildemostore/personalize/event-tracker-id'\n",
    ")"
   ]
  },
  {
   "cell_type": "markdown",
   "id": "a2f619fd",
   "metadata": {},
   "source": [
    "### Verify Event Tracking\n",
    "Return to your web browser tab/window where the Retail Demo Store Web UI is loaded and reload the web app/page. Reloading the page is important so that the web app is reloaded in your browser and the new event tracking configuration is loaded as well.\n",
    "\n",
    "There are a couple ways to verify that events are being sent to the Event Tracker. First, you can use your browser's Developer Tools to monitor the network calls made by the Retail Demo Store Web UI when you're browsing to product detail pages, adding items to carts, and completing orders. The other way you can verify that events are being received by the event tracker is in CloudWatch metrics for Personalize.\n",
    "\n",
    "If you have done so, reload the web app by refreshing/reloading your browser page. This is important so you browser session picks up the Event Tracker change released above.\n",
    "If not already signed in as a storefront user, sign in as (or create) a user.\n",
    "In the Retail Demo Store Web app, view product detail pages, add items to your cart, complete an order.\n",
    "Verify that the Web UI is making \"events\" calls to the Personalize Event Tracker.\n",
    "In the AWS console, browse to CloudWatch and then Metrics."
   ]
  },
  {
   "cell_type": "markdown",
   "id": "181290f8",
   "metadata": {},
   "source": [
    "If events are not being sent to the event tracker, make sure that the WebUIPipeline pipeline was built and deployed successfully and that you reloaded the web app in your browser. Note that it make take a minute or so before events are reflected in CloudWatch.\n",
    "\n",
    "To assess the impact of real-time event tracking in recommendations made by the user recommendations on the home page, follow these steps.\n",
    "\n",
    "- Sign in as (or create) a storefront user.\n",
    "- View the product recommendations displayed on the home page under the \"Inspired by your shopping trends\" header. Take note of the products being recommended.\n",
    "- View products from categories that are not being recommended by clicking on their product images to take you to the product detail view. When you view the details for a product, an event is fired and sent to the Personalize event tracker.\n",
    "- Return to the home page and you should see product recommendations subtly changing to reflect the products you've engaged with. Repeat this process with other products and return to home page to see how recommendations are shifting.\n",
    "\n",
    "### Cold User Recommendations\n",
    "One of the key features of Personalize is being able to cold start users. Cold users are typically those who are new to your site or application and cold starting a user is getting from no personalization to making personalized recommendations in real-time.\n",
    "\n",
    "Personalize accomplishes cold starting users via the Event Tracker, just as we saw above with existing users. However, since new users are typically anonymous for a period of time before they create an account or may choose to transact as a guest, personalization is a valuable tool to help convert those anonymous users to transacting users.\n",
    "\n",
    "The challenge here is that Personalize needs a userId for anonymous users before it can make personalized recommendations. The Retail Demo Store solves this challenge by creating a provisional user ID the moment an anonymous user first hits the site. This provisional user ID is then used when streaming events to the Event Tracker and when retrieving recommendations from the Recommendations service. This allows the Retail Demo Store to start serving personalized recommendations after the first couple events are streamed to Personalize. Before recommendations can be personalized, Personalize will provide recommendations for popular items as a fallback.\n",
    "\n",
    "To see this behavior in action, browse to the Retail Demo Store storefront using a different browser, an Incognito/Private window, or sign out of your existing account. What you should see on the home page is that instead of \"Inspired by your shopping behavior\", the section is \"Popular products\". After you click on a couple provide detail pages, return to the home page and see that the section title and recommendations have changed. This indicates that recommendations are now being personalized and will continue to become more relevant as you engage with products.\n",
    "\n",
    "Similarly, the category pages will rerank products at first based on popularity and then become more and more personalized.\n",
    "\n",
    "There are some challenges with this approach, though. First is the question of what to do with the provisional user ID when the user creates an account. To maintain continuity of the user's interaction history, the Retail Demo Store passes the provisional user ID to the Users microservice when creating a new user account. The Users service then uses this ID as the user's ID going forward. Another challenge is how to handle a user that anonymously browses the site using multiple devices such as on the mobile device and then on a desktop/laptop. In this case, separate provisional user IDs are generated for sessions on each device. However, once the user creates an account on one device and then signs in with that account on the other device, both devices will starting using the same user ID going forward. A side effect here is that the interaction history from one of the devices will be orphaned. This is an acceptable tradeoff given the benefit of cold starting users earlier and is functionally the same UX without this scheme. Additional logic could be added to merge the interaction history from both prior anonymous sessions when the user creates an account. Also, customer data platforms can be used to help manage this for you.\n",
    "\n",
    "## Apply business rules to recommendations using filters\n",
    "Often times recommendations need to be post-processed to apply business rules. For example, exclude products from being recommended that are no longer in stock or that the current user has recently purchased. Or creating a \"Buy Again\" user experience that only recommends products that the current user has recently purchased. Amazon Personalize provides this capability with a feature called filters (https://docs.aws.amazon.com/personalize/latest/dg/filter.html). Below we will create a few filters for the Retail Demo Store that are used with different use-cases.\n",
    "\n",
    "### Create/lookup filter utility function\n",
    "The following python function will be used to create/lookup each of our filters. It uses the CreateFilter API (https://docs.aws.amazon.com/personalize/latest/dg/API_CreateFilter.html) to attempt to create the filter and, if the filter already exists, it uses the ListFilters API (https://docs.aws.amazon.com/personalize/latest/dg/API_ListFilters.html) to lookup the filter's ARN."
   ]
  }
 ],
 "metadata": {
  "kernelspec": {
   "display_name": "env",
   "language": "python",
   "name": "env"
  },
  "language_info": {
   "codemirror_mode": {
    "name": "ipython",
    "version": 3
   },
   "file_extension": ".py",
   "mimetype": "text/x-python",
   "name": "python",
   "nbconvert_exporter": "python",
   "pygments_lexer": "ipython3",
   "version": "3.7.4"
  }
 },
 "nbformat": 4,
 "nbformat_minor": 5
}
