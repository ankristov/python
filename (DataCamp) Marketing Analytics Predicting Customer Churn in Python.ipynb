{
 "cells": [
  {
   "cell_type": "markdown",
   "id": "c6a77b44",
   "metadata": {},
   "source": [
    "## Exploring customer churn\n",
    "\n",
    "Now that you know what customer churn is, let's examine the structure of our customer dataset, which has been pre-loaded into a DataFrame called telco. Being able to check the structure of the data is a fundamental step in the churn modeling process and is often overlooked.\n",
    "\n",
    "Use pandas methods such as .info() to get a sense for its structure and notice the different columns (also known as \"features\" in machine learning), such as 'CustServ_Calls', which denotes the number of customer service calls the customer made, and 'State', which indicates the state the customer is from.\n",
    "\n",
    "One feature is of particular interest to us: 'Churn', which can take in two values - yes and no - indicating whether or not the customer has churned. In this exercise, your job is to explore this feature. You can access it using telco['Churn'].\n",
    "\n",
    "How many churners does the dataset have, and how many non-churners? To easily answer this, you can use the .value_counts() method on telco['Churn'].\n",
    "\n",
    "Possible Answers\n",
    "- 2850 Churners and 483 Non-Churners.\n",
    "- 21 Churners and 3312 Non-Churners.\n",
    "- 483 Churners and 2850 Non-Churners.\n",
    "- 727 Churners and 2606 Non-Churners"
   ]
  },
  {
   "cell_type": "code",
   "execution_count": 2,
   "id": "a6b10339",
   "metadata": {},
   "outputs": [],
   "source": [
    "import pandas as pd\n",
    "import matplotlib.pyplot as plt\n",
    "import seaborn as sns\n",
    "from IPython.display import Image\n",
    "from IPython.core.display import HTML\n",
    "import numpy as np"
   ]
  },
  {
   "cell_type": "code",
   "execution_count": 52,
   "id": "4f1bbc81",
   "metadata": {},
   "outputs": [
    {
     "data": {
      "text/html": [
       "<div>\n",
       "<style scoped>\n",
       "    .dataframe tbody tr th:only-of-type {\n",
       "        vertical-align: middle;\n",
       "    }\n",
       "\n",
       "    .dataframe tbody tr th {\n",
       "        vertical-align: top;\n",
       "    }\n",
       "\n",
       "    .dataframe thead th {\n",
       "        text-align: right;\n",
       "    }\n",
       "</style>\n",
       "<table border=\"1\" class=\"dataframe\">\n",
       "  <thead>\n",
       "    <tr style=\"text-align: right;\">\n",
       "      <th></th>\n",
       "      <th>Account_Length</th>\n",
       "      <th>Vmail_Message</th>\n",
       "      <th>Day_Mins</th>\n",
       "      <th>Eve_Mins</th>\n",
       "      <th>Night_Mins</th>\n",
       "      <th>Intl_Mins</th>\n",
       "      <th>CustServ_Calls</th>\n",
       "      <th>Churn</th>\n",
       "      <th>Intl_Plan</th>\n",
       "      <th>Vmail_Plan</th>\n",
       "      <th>...</th>\n",
       "      <th>Day_Charge</th>\n",
       "      <th>Eve_Calls</th>\n",
       "      <th>Eve_Charge</th>\n",
       "      <th>Night_Calls</th>\n",
       "      <th>Night_Charge</th>\n",
       "      <th>Intl_Calls</th>\n",
       "      <th>Intl_Charge</th>\n",
       "      <th>State</th>\n",
       "      <th>Area_Code</th>\n",
       "      <th>Phone</th>\n",
       "    </tr>\n",
       "  </thead>\n",
       "  <tbody>\n",
       "    <tr>\n",
       "      <th>0</th>\n",
       "      <td>128</td>\n",
       "      <td>25</td>\n",
       "      <td>265.1</td>\n",
       "      <td>197.4</td>\n",
       "      <td>244.7</td>\n",
       "      <td>10.0</td>\n",
       "      <td>1</td>\n",
       "      <td>no</td>\n",
       "      <td>no</td>\n",
       "      <td>yes</td>\n",
       "      <td>...</td>\n",
       "      <td>45.07</td>\n",
       "      <td>99</td>\n",
       "      <td>16.78</td>\n",
       "      <td>91</td>\n",
       "      <td>11.01</td>\n",
       "      <td>3</td>\n",
       "      <td>2.70</td>\n",
       "      <td>KS</td>\n",
       "      <td>415</td>\n",
       "      <td>382-4657</td>\n",
       "    </tr>\n",
       "    <tr>\n",
       "      <th>1</th>\n",
       "      <td>107</td>\n",
       "      <td>26</td>\n",
       "      <td>161.6</td>\n",
       "      <td>195.5</td>\n",
       "      <td>254.4</td>\n",
       "      <td>13.7</td>\n",
       "      <td>1</td>\n",
       "      <td>no</td>\n",
       "      <td>no</td>\n",
       "      <td>yes</td>\n",
       "      <td>...</td>\n",
       "      <td>27.47</td>\n",
       "      <td>103</td>\n",
       "      <td>16.62</td>\n",
       "      <td>103</td>\n",
       "      <td>11.45</td>\n",
       "      <td>3</td>\n",
       "      <td>3.70</td>\n",
       "      <td>OH</td>\n",
       "      <td>415</td>\n",
       "      <td>371-7191</td>\n",
       "    </tr>\n",
       "    <tr>\n",
       "      <th>2</th>\n",
       "      <td>137</td>\n",
       "      <td>0</td>\n",
       "      <td>243.4</td>\n",
       "      <td>121.2</td>\n",
       "      <td>162.6</td>\n",
       "      <td>12.2</td>\n",
       "      <td>0</td>\n",
       "      <td>no</td>\n",
       "      <td>no</td>\n",
       "      <td>no</td>\n",
       "      <td>...</td>\n",
       "      <td>41.38</td>\n",
       "      <td>110</td>\n",
       "      <td>10.30</td>\n",
       "      <td>104</td>\n",
       "      <td>7.32</td>\n",
       "      <td>5</td>\n",
       "      <td>3.29</td>\n",
       "      <td>NJ</td>\n",
       "      <td>415</td>\n",
       "      <td>358-1921</td>\n",
       "    </tr>\n",
       "    <tr>\n",
       "      <th>3</th>\n",
       "      <td>84</td>\n",
       "      <td>0</td>\n",
       "      <td>299.4</td>\n",
       "      <td>61.9</td>\n",
       "      <td>196.9</td>\n",
       "      <td>6.6</td>\n",
       "      <td>2</td>\n",
       "      <td>no</td>\n",
       "      <td>yes</td>\n",
       "      <td>no</td>\n",
       "      <td>...</td>\n",
       "      <td>50.90</td>\n",
       "      <td>88</td>\n",
       "      <td>5.26</td>\n",
       "      <td>89</td>\n",
       "      <td>8.86</td>\n",
       "      <td>7</td>\n",
       "      <td>1.78</td>\n",
       "      <td>OH</td>\n",
       "      <td>408</td>\n",
       "      <td>375-9999</td>\n",
       "    </tr>\n",
       "    <tr>\n",
       "      <th>4</th>\n",
       "      <td>75</td>\n",
       "      <td>0</td>\n",
       "      <td>166.7</td>\n",
       "      <td>148.3</td>\n",
       "      <td>186.9</td>\n",
       "      <td>10.1</td>\n",
       "      <td>3</td>\n",
       "      <td>no</td>\n",
       "      <td>yes</td>\n",
       "      <td>no</td>\n",
       "      <td>...</td>\n",
       "      <td>28.34</td>\n",
       "      <td>122</td>\n",
       "      <td>12.61</td>\n",
       "      <td>121</td>\n",
       "      <td>8.41</td>\n",
       "      <td>3</td>\n",
       "      <td>2.73</td>\n",
       "      <td>OK</td>\n",
       "      <td>415</td>\n",
       "      <td>330-6626</td>\n",
       "    </tr>\n",
       "  </tbody>\n",
       "</table>\n",
       "<p>5 rows × 21 columns</p>\n",
       "</div>"
      ],
      "text/plain": [
       "   Account_Length  Vmail_Message  Day_Mins  Eve_Mins  Night_Mins  Intl_Mins  \\\n",
       "0             128             25     265.1     197.4       244.7       10.0   \n",
       "1             107             26     161.6     195.5       254.4       13.7   \n",
       "2             137              0     243.4     121.2       162.6       12.2   \n",
       "3              84              0     299.4      61.9       196.9        6.6   \n",
       "4              75              0     166.7     148.3       186.9       10.1   \n",
       "\n",
       "   CustServ_Calls Churn Intl_Plan Vmail_Plan  ...  Day_Charge  Eve_Calls  \\\n",
       "0               1    no        no        yes  ...       45.07         99   \n",
       "1               1    no        no        yes  ...       27.47        103   \n",
       "2               0    no        no         no  ...       41.38        110   \n",
       "3               2    no       yes         no  ...       50.90         88   \n",
       "4               3    no       yes         no  ...       28.34        122   \n",
       "\n",
       "   Eve_Charge  Night_Calls  Night_Charge  Intl_Calls  Intl_Charge  State  \\\n",
       "0       16.78           91         11.01           3         2.70     KS   \n",
       "1       16.62          103         11.45           3         3.70     OH   \n",
       "2       10.30          104          7.32           5         3.29     NJ   \n",
       "3        5.26           89          8.86           7         1.78     OH   \n",
       "4       12.61          121          8.41           3         2.73     OK   \n",
       "\n",
       "  Area_Code     Phone  \n",
       "0       415  382-4657  \n",
       "1       415  371-7191  \n",
       "2       415  358-1921  \n",
       "3       408  375-9999  \n",
       "4       415  330-6626  \n",
       "\n",
       "[5 rows x 21 columns]"
      ]
     },
     "execution_count": 52,
     "metadata": {},
     "output_type": "execute_result"
    }
   ],
   "source": [
    "telco = pd.read_csv('/Users/Andrew/Downloads/(DataCamp) Marketing Analytics Predicting Customer Churn in Python/Churn.csv')\n",
    "telco.head()\n"
   ]
  },
  {
   "cell_type": "code",
   "execution_count": 4,
   "id": "eccd1d03",
   "metadata": {},
   "outputs": [
    {
     "name": "stdout",
     "output_type": "stream",
     "text": [
      "<class 'pandas.core.frame.DataFrame'>\n",
      "RangeIndex: 3333 entries, 0 to 3332\n",
      "Data columns (total 21 columns):\n",
      " #   Column          Non-Null Count  Dtype  \n",
      "---  ------          --------------  -----  \n",
      " 0   Account_Length  3333 non-null   int64  \n",
      " 1   Vmail_Message   3333 non-null   int64  \n",
      " 2   Day_Mins        3333 non-null   float64\n",
      " 3   Eve_Mins        3333 non-null   float64\n",
      " 4   Night_Mins      3333 non-null   float64\n",
      " 5   Intl_Mins       3333 non-null   float64\n",
      " 6   CustServ_Calls  3333 non-null   int64  \n",
      " 7   Churn           3333 non-null   object \n",
      " 8   Intl_Plan       3333 non-null   object \n",
      " 9   Vmail_Plan      3333 non-null   object \n",
      " 10  Day_Calls       3333 non-null   int64  \n",
      " 11  Day_Charge      3333 non-null   float64\n",
      " 12  Eve_Calls       3333 non-null   int64  \n",
      " 13  Eve_Charge      3333 non-null   float64\n",
      " 14  Night_Calls     3333 non-null   int64  \n",
      " 15  Night_Charge    3333 non-null   float64\n",
      " 16  Intl_Calls      3333 non-null   int64  \n",
      " 17  Intl_Charge     3333 non-null   float64\n",
      " 18  State           3333 non-null   object \n",
      " 19  Area_Code       3333 non-null   int64  \n",
      " 20  Phone           3333 non-null   object \n",
      "dtypes: float64(8), int64(8), object(5)\n",
      "memory usage: 546.9+ KB\n"
     ]
    }
   ],
   "source": [
    "telco.info()"
   ]
  },
  {
   "cell_type": "code",
   "execution_count": 5,
   "id": "63950537",
   "metadata": {},
   "outputs": [
    {
     "data": {
      "text/plain": [
       "Account_Length     212\n",
       "Vmail_Message       46\n",
       "Day_Mins          1667\n",
       "Eve_Mins          1611\n",
       "Night_Mins        1591\n",
       "Intl_Mins          162\n",
       "CustServ_Calls      10\n",
       "Churn                2\n",
       "Intl_Plan            2\n",
       "Vmail_Plan           2\n",
       "Day_Calls          119\n",
       "Day_Charge        1667\n",
       "Eve_Calls          123\n",
       "Eve_Charge        1440\n",
       "Night_Calls        120\n",
       "Night_Charge       933\n",
       "Intl_Calls          21\n",
       "Intl_Charge        162\n",
       "State               51\n",
       "Area_Code            3\n",
       "Phone             3333\n",
       "dtype: int64"
      ]
     },
     "execution_count": 5,
     "metadata": {},
     "output_type": "execute_result"
    }
   ],
   "source": [
    "telco.nunique()"
   ]
  },
  {
   "cell_type": "code",
   "execution_count": 6,
   "id": "e54e3797",
   "metadata": {},
   "outputs": [
    {
     "data": {
      "text/html": [
       "<div>\n",
       "<style scoped>\n",
       "    .dataframe tbody tr th:only-of-type {\n",
       "        vertical-align: middle;\n",
       "    }\n",
       "\n",
       "    .dataframe tbody tr th {\n",
       "        vertical-align: top;\n",
       "    }\n",
       "\n",
       "    .dataframe thead th {\n",
       "        text-align: right;\n",
       "    }\n",
       "</style>\n",
       "<table border=\"1\" class=\"dataframe\">\n",
       "  <thead>\n",
       "    <tr style=\"text-align: right;\">\n",
       "      <th></th>\n",
       "      <th>Account_Length</th>\n",
       "      <th>Vmail_Message</th>\n",
       "      <th>Day_Mins</th>\n",
       "      <th>Eve_Mins</th>\n",
       "      <th>Night_Mins</th>\n",
       "      <th>Intl_Mins</th>\n",
       "      <th>CustServ_Calls</th>\n",
       "      <th>Day_Calls</th>\n",
       "      <th>Day_Charge</th>\n",
       "      <th>Eve_Calls</th>\n",
       "      <th>Eve_Charge</th>\n",
       "      <th>Night_Calls</th>\n",
       "      <th>Night_Charge</th>\n",
       "      <th>Intl_Calls</th>\n",
       "      <th>Intl_Charge</th>\n",
       "      <th>Area_Code</th>\n",
       "    </tr>\n",
       "  </thead>\n",
       "  <tbody>\n",
       "    <tr>\n",
       "      <th>count</th>\n",
       "      <td>3333.000000</td>\n",
       "      <td>3333.000000</td>\n",
       "      <td>3333.000000</td>\n",
       "      <td>3333.000000</td>\n",
       "      <td>3333.000000</td>\n",
       "      <td>3333.000000</td>\n",
       "      <td>3333.000000</td>\n",
       "      <td>3333.000000</td>\n",
       "      <td>3333.000000</td>\n",
       "      <td>3333.000000</td>\n",
       "      <td>3333.000000</td>\n",
       "      <td>3333.000000</td>\n",
       "      <td>3333.000000</td>\n",
       "      <td>3333.000000</td>\n",
       "      <td>3333.000000</td>\n",
       "      <td>3333.000000</td>\n",
       "    </tr>\n",
       "    <tr>\n",
       "      <th>mean</th>\n",
       "      <td>101.064806</td>\n",
       "      <td>8.099010</td>\n",
       "      <td>179.775098</td>\n",
       "      <td>200.980348</td>\n",
       "      <td>200.872037</td>\n",
       "      <td>10.237294</td>\n",
       "      <td>1.562856</td>\n",
       "      <td>100.435644</td>\n",
       "      <td>30.562307</td>\n",
       "      <td>100.114311</td>\n",
       "      <td>17.083540</td>\n",
       "      <td>100.107711</td>\n",
       "      <td>9.039325</td>\n",
       "      <td>4.479448</td>\n",
       "      <td>2.764581</td>\n",
       "      <td>437.182418</td>\n",
       "    </tr>\n",
       "    <tr>\n",
       "      <th>std</th>\n",
       "      <td>39.822106</td>\n",
       "      <td>13.688365</td>\n",
       "      <td>54.467389</td>\n",
       "      <td>50.713844</td>\n",
       "      <td>50.573847</td>\n",
       "      <td>2.791840</td>\n",
       "      <td>1.315491</td>\n",
       "      <td>20.069084</td>\n",
       "      <td>9.259435</td>\n",
       "      <td>19.922625</td>\n",
       "      <td>4.310668</td>\n",
       "      <td>19.568609</td>\n",
       "      <td>2.275873</td>\n",
       "      <td>2.461214</td>\n",
       "      <td>0.753773</td>\n",
       "      <td>42.371290</td>\n",
       "    </tr>\n",
       "    <tr>\n",
       "      <th>min</th>\n",
       "      <td>1.000000</td>\n",
       "      <td>0.000000</td>\n",
       "      <td>0.000000</td>\n",
       "      <td>0.000000</td>\n",
       "      <td>23.200000</td>\n",
       "      <td>0.000000</td>\n",
       "      <td>0.000000</td>\n",
       "      <td>0.000000</td>\n",
       "      <td>0.000000</td>\n",
       "      <td>0.000000</td>\n",
       "      <td>0.000000</td>\n",
       "      <td>33.000000</td>\n",
       "      <td>1.040000</td>\n",
       "      <td>0.000000</td>\n",
       "      <td>0.000000</td>\n",
       "      <td>408.000000</td>\n",
       "    </tr>\n",
       "    <tr>\n",
       "      <th>25%</th>\n",
       "      <td>74.000000</td>\n",
       "      <td>0.000000</td>\n",
       "      <td>143.700000</td>\n",
       "      <td>166.600000</td>\n",
       "      <td>167.000000</td>\n",
       "      <td>8.500000</td>\n",
       "      <td>1.000000</td>\n",
       "      <td>87.000000</td>\n",
       "      <td>24.430000</td>\n",
       "      <td>87.000000</td>\n",
       "      <td>14.160000</td>\n",
       "      <td>87.000000</td>\n",
       "      <td>7.520000</td>\n",
       "      <td>3.000000</td>\n",
       "      <td>2.300000</td>\n",
       "      <td>408.000000</td>\n",
       "    </tr>\n",
       "    <tr>\n",
       "      <th>50%</th>\n",
       "      <td>101.000000</td>\n",
       "      <td>0.000000</td>\n",
       "      <td>179.400000</td>\n",
       "      <td>201.400000</td>\n",
       "      <td>201.200000</td>\n",
       "      <td>10.300000</td>\n",
       "      <td>1.000000</td>\n",
       "      <td>101.000000</td>\n",
       "      <td>30.500000</td>\n",
       "      <td>100.000000</td>\n",
       "      <td>17.120000</td>\n",
       "      <td>100.000000</td>\n",
       "      <td>9.050000</td>\n",
       "      <td>4.000000</td>\n",
       "      <td>2.780000</td>\n",
       "      <td>415.000000</td>\n",
       "    </tr>\n",
       "    <tr>\n",
       "      <th>75%</th>\n",
       "      <td>127.000000</td>\n",
       "      <td>20.000000</td>\n",
       "      <td>216.400000</td>\n",
       "      <td>235.300000</td>\n",
       "      <td>235.300000</td>\n",
       "      <td>12.100000</td>\n",
       "      <td>2.000000</td>\n",
       "      <td>114.000000</td>\n",
       "      <td>36.790000</td>\n",
       "      <td>114.000000</td>\n",
       "      <td>20.000000</td>\n",
       "      <td>113.000000</td>\n",
       "      <td>10.590000</td>\n",
       "      <td>6.000000</td>\n",
       "      <td>3.270000</td>\n",
       "      <td>510.000000</td>\n",
       "    </tr>\n",
       "    <tr>\n",
       "      <th>max</th>\n",
       "      <td>243.000000</td>\n",
       "      <td>51.000000</td>\n",
       "      <td>350.800000</td>\n",
       "      <td>363.700000</td>\n",
       "      <td>395.000000</td>\n",
       "      <td>20.000000</td>\n",
       "      <td>9.000000</td>\n",
       "      <td>165.000000</td>\n",
       "      <td>59.640000</td>\n",
       "      <td>170.000000</td>\n",
       "      <td>30.910000</td>\n",
       "      <td>175.000000</td>\n",
       "      <td>17.770000</td>\n",
       "      <td>20.000000</td>\n",
       "      <td>5.400000</td>\n",
       "      <td>510.000000</td>\n",
       "    </tr>\n",
       "  </tbody>\n",
       "</table>\n",
       "</div>"
      ],
      "text/plain": [
       "       Account_Length  Vmail_Message     Day_Mins     Eve_Mins   Night_Mins  \\\n",
       "count     3333.000000    3333.000000  3333.000000  3333.000000  3333.000000   \n",
       "mean       101.064806       8.099010   179.775098   200.980348   200.872037   \n",
       "std         39.822106      13.688365    54.467389    50.713844    50.573847   \n",
       "min          1.000000       0.000000     0.000000     0.000000    23.200000   \n",
       "25%         74.000000       0.000000   143.700000   166.600000   167.000000   \n",
       "50%        101.000000       0.000000   179.400000   201.400000   201.200000   \n",
       "75%        127.000000      20.000000   216.400000   235.300000   235.300000   \n",
       "max        243.000000      51.000000   350.800000   363.700000   395.000000   \n",
       "\n",
       "         Intl_Mins  CustServ_Calls    Day_Calls   Day_Charge    Eve_Calls  \\\n",
       "count  3333.000000     3333.000000  3333.000000  3333.000000  3333.000000   \n",
       "mean     10.237294        1.562856   100.435644    30.562307   100.114311   \n",
       "std       2.791840        1.315491    20.069084     9.259435    19.922625   \n",
       "min       0.000000        0.000000     0.000000     0.000000     0.000000   \n",
       "25%       8.500000        1.000000    87.000000    24.430000    87.000000   \n",
       "50%      10.300000        1.000000   101.000000    30.500000   100.000000   \n",
       "75%      12.100000        2.000000   114.000000    36.790000   114.000000   \n",
       "max      20.000000        9.000000   165.000000    59.640000   170.000000   \n",
       "\n",
       "        Eve_Charge  Night_Calls  Night_Charge   Intl_Calls  Intl_Charge  \\\n",
       "count  3333.000000  3333.000000   3333.000000  3333.000000  3333.000000   \n",
       "mean     17.083540   100.107711      9.039325     4.479448     2.764581   \n",
       "std       4.310668    19.568609      2.275873     2.461214     0.753773   \n",
       "min       0.000000    33.000000      1.040000     0.000000     0.000000   \n",
       "25%      14.160000    87.000000      7.520000     3.000000     2.300000   \n",
       "50%      17.120000   100.000000      9.050000     4.000000     2.780000   \n",
       "75%      20.000000   113.000000     10.590000     6.000000     3.270000   \n",
       "max      30.910000   175.000000     17.770000    20.000000     5.400000   \n",
       "\n",
       "         Area_Code  \n",
       "count  3333.000000  \n",
       "mean    437.182418  \n",
       "std      42.371290  \n",
       "min     408.000000  \n",
       "25%     408.000000  \n",
       "50%     415.000000  \n",
       "75%     510.000000  \n",
       "max     510.000000  "
      ]
     },
     "execution_count": 6,
     "metadata": {},
     "output_type": "execute_result"
    }
   ],
   "source": [
    "telco.describe()"
   ]
  },
  {
   "cell_type": "code",
   "execution_count": 7,
   "id": "7acf2f48",
   "metadata": {},
   "outputs": [
    {
     "data": {
      "text/plain": [
       "no     2850\n",
       "yes     483\n",
       "Name: Churn, dtype: int64"
      ]
     },
     "execution_count": 7,
     "metadata": {},
     "output_type": "execute_result"
    }
   ],
   "source": [
    "telco['Churn'].value_counts()"
   ]
  },
  {
   "cell_type": "markdown",
   "id": "37f209d5",
   "metadata": {},
   "source": [
    "Indeed! It looks like there are far more Non-Churners than Churners in our dataset.\n"
   ]
  },
  {
   "cell_type": "markdown",
   "id": "62aac5d6",
   "metadata": {},
   "source": [
    "## Summary statistics for both classes\n",
    "\n",
    "Consider the following .groupby() code:\n",
    "\n",
    "#Group by x and compute the standard deviation\n",
    "\n",
    "df.groupby(['x']).std()\n",
    "\n",
    "Here, a DataFrame df is grouped by a column 'x', and then the standard deviation is calculated across all columns of df for each value of 'x'. The .groupby() method is incredibly useful when you want to investigate specific columns of your dataset. Here, you're going to explore the 'Churn' column further to see if there are differences between churners and non-churners. A subset version of the telco DataFrame, consisting of the columns 'Churn', 'CustServ_Calls', and 'Vmail_Message' is available in your workspace.\n",
    "\n",
    "If you need a refresher on how .groupby() works, please refer back to the pre-requisite Manipulating DataFrames with pandas course.\n",
    "\n",
    "Instructions 1/3\n",
    "- Group telco by 'Churn' and compute the mean."
   ]
  },
  {
   "cell_type": "code",
   "execution_count": 13,
   "id": "ebabae4c",
   "metadata": {},
   "outputs": [
    {
     "data": {
      "text/html": [
       "<div>\n",
       "<style scoped>\n",
       "    .dataframe tbody tr th:only-of-type {\n",
       "        vertical-align: middle;\n",
       "    }\n",
       "\n",
       "    .dataframe tbody tr th {\n",
       "        vertical-align: top;\n",
       "    }\n",
       "\n",
       "    .dataframe thead th {\n",
       "        text-align: right;\n",
       "    }\n",
       "</style>\n",
       "<table border=\"1\" class=\"dataframe\">\n",
       "  <thead>\n",
       "    <tr style=\"text-align: right;\">\n",
       "      <th></th>\n",
       "      <th>CustServ_Calls</th>\n",
       "      <th>Vmail_Message</th>\n",
       "      <th>Churn</th>\n",
       "    </tr>\n",
       "  </thead>\n",
       "  <tbody>\n",
       "    <tr>\n",
       "      <th>0</th>\n",
       "      <td>1</td>\n",
       "      <td>25</td>\n",
       "      <td>no</td>\n",
       "    </tr>\n",
       "    <tr>\n",
       "      <th>1</th>\n",
       "      <td>1</td>\n",
       "      <td>26</td>\n",
       "      <td>no</td>\n",
       "    </tr>\n",
       "    <tr>\n",
       "      <th>2</th>\n",
       "      <td>0</td>\n",
       "      <td>0</td>\n",
       "      <td>no</td>\n",
       "    </tr>\n",
       "    <tr>\n",
       "      <th>3</th>\n",
       "      <td>2</td>\n",
       "      <td>0</td>\n",
       "      <td>no</td>\n",
       "    </tr>\n",
       "    <tr>\n",
       "      <th>4</th>\n",
       "      <td>3</td>\n",
       "      <td>0</td>\n",
       "      <td>no</td>\n",
       "    </tr>\n",
       "  </tbody>\n",
       "</table>\n",
       "</div>"
      ],
      "text/plain": [
       "   CustServ_Calls  Vmail_Message Churn\n",
       "0               1             25    no\n",
       "1               1             26    no\n",
       "2               0              0    no\n",
       "3               2              0    no\n",
       "4               3              0    no"
      ]
     },
     "execution_count": 13,
     "metadata": {},
     "output_type": "execute_result"
    }
   ],
   "source": [
    "telco_small = telco[['CustServ_Calls','Vmail_Message','Churn']]\n",
    "telco_small.head()"
   ]
  },
  {
   "cell_type": "code",
   "execution_count": 14,
   "id": "26daa149",
   "metadata": {},
   "outputs": [
    {
     "name": "stdout",
     "output_type": "stream",
     "text": [
      "       CustServ_Calls  Vmail_Message\n",
      "Churn                               \n",
      "no           1.449825       8.604561\n",
      "yes          2.229814       5.115942\n"
     ]
    }
   ],
   "source": [
    "# Group telco by 'Churn' and compute the mean\n",
    "print(telco_small.groupby(['Churn']).mean())"
   ]
  },
  {
   "cell_type": "markdown",
   "id": "386ed914",
   "metadata": {},
   "source": [
    "- Adapt your code to compute the standard deviation instead of the mean."
   ]
  },
  {
   "cell_type": "code",
   "execution_count": 15,
   "id": "8235eeb8",
   "metadata": {},
   "outputs": [
    {
     "name": "stdout",
     "output_type": "stream",
     "text": [
      "       CustServ_Calls  Vmail_Message\n",
      "Churn                               \n",
      "no           1.163883      13.913125\n",
      "yes          1.853275      11.860138\n"
     ]
    }
   ],
   "source": [
    "# Adapt your code to compute the standard deviation\n",
    "print(telco_small.groupby(['Churn']).std())"
   ]
  },
  {
   "cell_type": "markdown",
   "id": "f0f524d6",
   "metadata": {},
   "source": [
    "### Question\n",
    "Based on the results you see in the IPython Shell, select the correct statement from the options below.\n",
    "\n",
    "Possible Answers\n",
    "- Churners leave more voice mail messages than non-churners.\n",
    "- Churners make more customer service calls than non-churners. +\n",
    "\n",
    "Yes! Perhaps unsurprisingly, churners seem to make more customer service calls than non-churners.\n",
    "- Churners leave fewer voice mail messages than non-churners.\n",
    "\n",
    "Incorrect Submission\n",
    "Not quite. Have a look at the output in the IPython Shell again.\n",
    "- Churners make fewer customer service calls than non-churners."
   ]
  },
  {
   "cell_type": "markdown",
   "id": "6970f0d9",
   "metadata": {},
   "source": [
    "## Churn by State\n",
    "\n",
    "When dealing with customer data, geographic regions may play an important part in determining whether a customer will cancel their service or not. You may have noticed that there is a 'State' column in the dataset. In this exercise, you'll group 'State' and 'Churn' to count the number of churners and non-churners by state. For example, if you wanted to group by x and aggregate by y, you could use .groupby() as follows:\n",
    "\n",
    "df.groupby('x')['y'].value_counts()\n",
    "\n",
    "Instructions 1/2\n",
    "- Group telco by 'State', aggregate by 'Churn', and then use value_counts() to count the number of churners and non-churners by state."
   ]
  },
  {
   "cell_type": "code",
   "execution_count": 33,
   "id": "0dbb6863",
   "metadata": {},
   "outputs": [
    {
     "data": {
      "text/plain": [
       "State  Churn\n",
       "AK     no       49\n",
       "       yes       3\n",
       "AL     no       72\n",
       "       yes       8\n",
       "AR     no       44\n",
       "                ..\n",
       "WI     yes       7\n",
       "WV     no       96\n",
       "       yes      10\n",
       "WY     no       68\n",
       "       yes       9\n",
       "Name: Churn, Length: 102, dtype: int64"
      ]
     },
     "execution_count": 33,
     "metadata": {},
     "output_type": "execute_result"
    }
   ],
   "source": [
    "# Count the number of churners and non-churners by State\n",
    "telco.groupby(by='State')['Churn'].value_counts()\n",
    "# the same\n",
    "# telco.groupby(by=['State','Churn']).agg({'Area_Code':'count'})"
   ]
  },
  {
   "cell_type": "code",
   "execution_count": 35,
   "id": "c869b7c6",
   "metadata": {},
   "outputs": [
    {
     "data": {
      "text/html": [
       "<div>\n",
       "<style scoped>\n",
       "    .dataframe tbody tr th:only-of-type {\n",
       "        vertical-align: middle;\n",
       "    }\n",
       "\n",
       "    .dataframe tbody tr th {\n",
       "        vertical-align: top;\n",
       "    }\n",
       "\n",
       "    .dataframe thead th {\n",
       "        text-align: right;\n",
       "    }\n",
       "</style>\n",
       "<table border=\"1\" class=\"dataframe\">\n",
       "  <thead>\n",
       "    <tr style=\"text-align: right;\">\n",
       "      <th>Churn</th>\n",
       "      <th>no</th>\n",
       "      <th>yes</th>\n",
       "    </tr>\n",
       "    <tr>\n",
       "      <th>State</th>\n",
       "      <th></th>\n",
       "      <th></th>\n",
       "    </tr>\n",
       "  </thead>\n",
       "  <tbody>\n",
       "    <tr>\n",
       "      <th>CA</th>\n",
       "      <td>25</td>\n",
       "      <td>9</td>\n",
       "    </tr>\n",
       "    <tr>\n",
       "      <th>CO</th>\n",
       "      <td>57</td>\n",
       "      <td>9</td>\n",
       "    </tr>\n",
       "    <tr>\n",
       "      <th>AL</th>\n",
       "      <td>72</td>\n",
       "      <td>8</td>\n",
       "    </tr>\n",
       "  </tbody>\n",
       "</table>\n",
       "</div>"
      ],
      "text/plain": [
       "Churn  no  yes\n",
       "State         \n",
       "CA     25    9\n",
       "CO     57    9\n",
       "AL     72    8"
      ]
     },
     "execution_count": 35,
     "metadata": {},
     "output_type": "execute_result"
    }
   ],
   "source": [
    "telco.groupby(by='State')['Churn'].value_counts().unstack(level=1).filter(items=['CA','CO','AL'],axis=0)"
   ]
  },
  {
   "cell_type": "markdown",
   "id": "f9c7fa8f",
   "metadata": {},
   "source": [
    "### Question\n",
    "Take a look at the output in the IPython Shell and select the correct statement from the options below.\n",
    "\n",
    "Possible Answers\n",
    "- California (CA) has 25 non-churners and 9 churners.+\n",
    "- Colorado (CO) has 9 non-churners and 57 churners.\n",
    "- Alabama (AL) has 49 non-churners and 3 churners."
   ]
  },
  {
   "cell_type": "markdown",
   "id": "1de3c2a5",
   "metadata": {},
   "source": [
    "Indeed! While California is the most populous state in the U.S, there are not as many customers from California in our dataset. Arizona (AZ), for example, has 64 customers, 4 of whom ended up churning. In comparison, California has a higher number (and percentage) of customers who churned. This is useful information for a company!"
   ]
  },
  {
   "cell_type": "markdown",
   "id": "7c98b41d",
   "metadata": {},
   "source": [
    "## Exploring your data using visualizations\n",
    "\n",
    "3 Exploring your data using visualizations.mp4"
   ]
  },
  {
   "cell_type": "markdown",
   "id": "b1fc7682",
   "metadata": {},
   "source": [
    "### Exploring feature distributions\n",
    "\n",
    "You saw in the video that the 'Account_Length' feature was normally distributed. Let's now visualize the distributions of the following features using seaborn's distribution plot:\n",
    "\n",
    "'Day_Mins'\n",
    "'Eve_Mins'\n",
    "'Night_Mins'\n",
    "'Intl_Mins'\n",
    "To create a feature's distribution plot, pass it in as an argument to sns.distplot(). The Telco dataset is available to you as a DataFrame called telco.\n",
    "\n",
    "Instructions 1/4\n",
    "- Visualize the distribution of 'Day_Mins'."
   ]
  },
  {
   "cell_type": "code",
   "execution_count": 41,
   "id": "bcc68072",
   "metadata": {},
   "outputs": [
    {
     "data": {
      "image/png": "[encoded data removed]",
      "text/plain": [
       "<Figure size 1152x648 with 1 Axes>"
      ]
     },
     "metadata": {
      "needs_background": "light"
     },
     "output_type": "display_data"
    }
   ],
   "source": [
    "fig,ax = plt.subplots(figsize=(16,9))\n",
    "sns.distplot(a = telco['Day_Mins'],ax=ax)\n",
    "plt.show()"
   ]
  },
  {
   "cell_type": "code",
   "execution_count": 39,
   "id": "fcae75cb",
   "metadata": {},
   "outputs": [],
   "source": [
    "?sns.distplot"
   ]
  },
  {
   "cell_type": "markdown",
   "id": "0f1fb1e7",
   "metadata": {},
   "source": [
    "- Update your code to visualize the distribution of 'Eve_Mins'."
   ]
  },
  {
   "cell_type": "code",
   "execution_count": 35,
   "id": "836bbaf1",
   "metadata": {},
   "outputs": [
    {
     "data": {
      "image/png": "[encoded data removed]",
      "text/plain": [
       "<Figure size 1152x648 with 1 Axes>"
      ]
     },
     "metadata": {
      "needs_background": "light"
     },
     "output_type": "display_data"
    }
   ],
   "source": [
    "fig,ax = plt.subplots(figsize=(16,9))\n",
    "sns.distplot(a = telco['Eve_Mins'],ax=ax)\n",
    "plt.show()"
   ]
  },
  {
   "cell_type": "markdown",
   "id": "93fbe7bc",
   "metadata": {},
   "source": [
    "- Update your code to visualize the distribution of 'Night_Mins'."
   ]
  },
  {
   "cell_type": "code",
   "execution_count": 36,
   "id": "5cc50a2b",
   "metadata": {},
   "outputs": [
    {
     "data": {
      "image/png": "[encoded data removed]",
      "text/plain": [
       "<Figure size 1152x648 with 1 Axes>"
      ]
     },
     "metadata": {
      "needs_background": "light"
     },
     "output_type": "display_data"
    }
   ],
   "source": [
    "fig,ax = plt.subplots(figsize=(16,9))\n",
    "sns.distplot(a = telco['Night_Mins'],ax=ax)\n",
    "plt.show()"
   ]
  },
  {
   "cell_type": "markdown",
   "id": "ad03946a",
   "metadata": {},
   "source": [
    "- Update your code to visualize the distribution of 'Intl_Mins'."
   ]
  },
  {
   "cell_type": "code",
   "execution_count": 37,
   "id": "1ad407c2",
   "metadata": {},
   "outputs": [
    {
     "data": {
      "image/png": "[encoded data removed]",
      "text/plain": [
       "<Figure size 1152x648 with 1 Axes>"
      ]
     },
     "metadata": {
      "needs_background": "light"
     },
     "output_type": "display_data"
    }
   ],
   "source": [
    "fig,ax = plt.subplots(figsize=(16,9))\n",
    "sns.distplot(a = telco['Intl_Mins'],ax=ax)\n",
    "plt.show()"
   ]
  },
  {
   "cell_type": "markdown",
   "id": "a551e5c3",
   "metadata": {},
   "source": [
    "Well done! All of these features appear to be well approximated by the normal distribution. If this were not the case, we would have to consider applying a feature transformation of some kind."
   ]
  },
  {
   "cell_type": "markdown",
   "id": "12189160",
   "metadata": {},
   "source": [
    "## Customer service calls and churn\n",
    "\n",
    "You've already seen that there's not much of a difference in account lengths between churners and non-churners, but that there is a difference in the number of customer service calls left by churners.\n",
    "\n",
    "Let's now visualize this difference using a box plot and incorporate other features of interest - do customers who have international plans make more customer service calls? Or do they tend to churn more? How about voicemail plans? Let's find out!\n",
    "\n",
    "Recall the syntax for creating a box plot using seaborn:\n",
    "\n",
    "sns.boxplot(x = \"X-axis variable\",\n",
    "            y = \"Y-axis variable\",\n",
    "            data = DataFrame)\n",
    "\n",
    "If you want to remove outliers, you can specify the additional parameter sym=\"\", and you can add a third variable using hue.\n",
    "Instructions 1/4\n",
    "- Create a box plot with 'Churn' on the x-axis and 'CustServ_Calls' on the y-axis."
   ]
  },
  {
   "cell_type": "code",
   "execution_count": 42,
   "id": "433f652a",
   "metadata": {},
   "outputs": [
    {
     "data": {
      "image/png": "[encoded data removed]",
      "text/plain": [
       "<Figure size 1152x648 with 1 Axes>"
      ]
     },
     "metadata": {
      "needs_background": "light"
     },
     "output_type": "display_data"
    }
   ],
   "source": [
    "fig,ax = plt.subplots(figsize=(16,9))\n",
    "sns.boxplot(x='Churn',y='CustServ_Calls',data=telco,ax=ax)\n",
    "plt.show()"
   ]
  },
  {
   "cell_type": "markdown",
   "id": "2692f376",
   "metadata": {},
   "source": [
    "- There is a very noticeable difference here between churners and non-churners! Now, remove the outliers from the box plot."
   ]
  },
  {
   "cell_type": "code",
   "execution_count": 44,
   "id": "be726694",
   "metadata": {},
   "outputs": [
    {
     "data": {
      "image/png": "[encoded data removed]",
      "text/plain": [
       "<Figure size 1152x648 with 1 Axes>"
      ]
     },
     "metadata": {
      "needs_background": "light"
     },
     "output_type": "display_data"
    }
   ],
   "source": [
    "fig,ax = plt.subplots(figsize=(16,9))\n",
    "sns.boxplot(x='Churn',y='CustServ_Calls',data=telco,sym='',ax=ax)\n",
    "plt.show()"
   ]
  },
  {
   "cell_type": "markdown",
   "id": "475637c8",
   "metadata": {},
   "source": [
    "- Add a third variable to this plot - 'Vmail_Plan' - to visualize whether or not having a voice mail plan affects the number of customer service calls or churn."
   ]
  },
  {
   "cell_type": "code",
   "execution_count": 46,
   "id": "9386c556",
   "metadata": {},
   "outputs": [
    {
     "data": {
      "image/png": "[encoded data removed]",
      "text/plain": [
       "<Figure size 1152x648 with 1 Axes>"
      ]
     },
     "metadata": {
      "needs_background": "light"
     },
     "output_type": "display_data"
    }
   ],
   "source": [
    "fig,ax = plt.subplots(figsize=(16,9))\n",
    "sns.boxplot(x='Churn',\n",
    "            y='CustServ_Calls',\n",
    "            data=telco,\n",
    "            sym='',\n",
    "            hue='Vmail_Plan',\n",
    "            ax=ax)\n",
    "plt.show()"
   ]
  },
  {
   "cell_type": "markdown",
   "id": "f4baeb41",
   "metadata": {},
   "source": [
    "- Not much of a difference there. Update your code so that the third variable is 'Intl_Plan' instead."
   ]
  },
  {
   "cell_type": "code",
   "execution_count": 36,
   "id": "990327a7",
   "metadata": {},
   "outputs": [
    {
     "data": {
      "image/png": "[encoded data removed]",
      "text/plain": [
       "<Figure size 1152x648 with 1 Axes>"
      ]
     },
     "metadata": {
      "needs_background": "light"
     },
     "output_type": "display_data"
    }
   ],
   "source": [
    "fig,ax = plt.subplots(figsize=(16,9))\n",
    "sns.boxplot(x='Churn',\n",
    "            y='CustServ_Calls',\n",
    "            data=telco,\n",
    "            sym='',\n",
    "            hue='Intl_Plan',\n",
    "            ax=ax)\n",
    "plt.show()"
   ]
  },
  {
   "cell_type": "markdown",
   "id": "59a6976f",
   "metadata": {},
   "source": [
    "Excellent work, and congratulations on completing Chapter 1! There are some very interesting insights here. It looks like customers who do churn end up leaving more customer service calls, unless these customers also have an international plan, in which case they leave fewer customer service calls. This type of information is really useful in better understanding the drivers of churn. It's now time to learn about how to preprocess your data prior to modeling."
   ]
  },
  {
   "cell_type": "code",
   "execution_count": 54,
   "id": "460e9b3e",
   "metadata": {},
   "outputs": [
    {
     "name": "stdout",
     "output_type": "stream",
     "text": [
      "[False  True]\n"
     ]
    },
    {
     "data": {
      "text/html": [
       "<div>\n",
       "<style scoped>\n",
       "    .dataframe tbody tr th:only-of-type {\n",
       "        vertical-align: middle;\n",
       "    }\n",
       "\n",
       "    .dataframe tbody tr th {\n",
       "        vertical-align: top;\n",
       "    }\n",
       "\n",
       "    .dataframe thead th {\n",
       "        text-align: right;\n",
       "    }\n",
       "</style>\n",
       "<table border=\"1\" class=\"dataframe\">\n",
       "  <thead>\n",
       "    <tr style=\"text-align: right;\">\n",
       "      <th>Churn</th>\n",
       "      <th>False</th>\n",
       "      <th>True</th>\n",
       "    </tr>\n",
       "    <tr>\n",
       "      <th>Intl_Plan</th>\n",
       "      <th></th>\n",
       "      <th></th>\n",
       "    </tr>\n",
       "  </thead>\n",
       "  <tbody>\n",
       "    <tr>\n",
       "      <th>no</th>\n",
       "      <td>1.456081</td>\n",
       "      <td>2.476879</td>\n",
       "    </tr>\n",
       "    <tr>\n",
       "      <th>yes</th>\n",
       "      <td>1.360215</td>\n",
       "      <td>1.605839</td>\n",
       "    </tr>\n",
       "  </tbody>\n",
       "</table>\n",
       "</div>"
      ],
      "text/plain": [
       "Churn         False     True \n",
       "Intl_Plan                    \n",
       "no         1.456081  2.476879\n",
       "yes        1.360215  1.605839"
      ]
     },
     "execution_count": 54,
     "metadata": {},
     "output_type": "execute_result"
    }
   ],
   "source": [
    "#telco['Churn'] = telco['Churn'].map({'yes':True,'no':False}) # use only once\n",
    "#print(telco['Churn'].unique())\n",
    "telco.groupby(by=['Intl_Plan','Churn'])['CustServ_Calls'].mean().unstack(level=1)"
   ]
  },
  {
   "cell_type": "markdown",
   "id": "d427bf45",
   "metadata": {},
   "source": [
    "## Data preprocessing\n",
    "\n",
    "4 Data preprocessing.mp4"
   ]
  },
  {
   "cell_type": "markdown",
   "id": "8c4779a0",
   "metadata": {},
   "source": [
    "## Identifying features to convert\n",
    "\n",
    "As Mark explained in the video, it is preferable to have features like 'Churn' encoded as 0 and 1 instead of no and yes, so that you can then feed it into machine learning algorithms that only accept numeric values.\n",
    "\n",
    "Besides 'Churn', other features that are of type object can be converted into 0s and 1s. In this exercise, your job is to explore the different data types of telco in the IPython Shell and identify the ones that are of type object.\n",
    "\n",
    "Instructions\n",
    "Possible Answers\n",
    "- Vmail_Plan, Churn, Intl_Plan, Night_Charge.\n",
    "- Churn, Intl_Plan, Vmail_Plan, State. +\n",
    "- Churn, Eve_Charge, Intl_Plan, Vmail_Plan, State.\n",
    "- State, Churn, Intl_Plan, Vmail_Plan, CustServ_Calls"
   ]
  },
  {
   "cell_type": "code",
   "execution_count": 56,
   "id": "6e890caf",
   "metadata": {},
   "outputs": [
    {
     "name": "stdout",
     "output_type": "stream",
     "text": [
      "<class 'pandas.core.frame.DataFrame'>\n",
      "RangeIndex: 3333 entries, 0 to 3332\n",
      "Data columns (total 21 columns):\n",
      " #   Column          Non-Null Count  Dtype  \n",
      "---  ------          --------------  -----  \n",
      " 0   Account_Length  3333 non-null   int64  \n",
      " 1   Vmail_Message   3333 non-null   int64  \n",
      " 2   Day_Mins        3333 non-null   float64\n",
      " 3   Eve_Mins        3333 non-null   float64\n",
      " 4   Night_Mins      3333 non-null   float64\n",
      " 5   Intl_Mins       3333 non-null   float64\n",
      " 6   CustServ_Calls  3333 non-null   int64  \n",
      " 7   Churn           3333 non-null   bool   \n",
      " 8   Intl_Plan       3333 non-null   object \n",
      " 9   Vmail_Plan      3333 non-null   object \n",
      " 10  Day_Calls       3333 non-null   int64  \n",
      " 11  Day_Charge      3333 non-null   float64\n",
      " 12  Eve_Calls       3333 non-null   int64  \n",
      " 13  Eve_Charge      3333 non-null   float64\n",
      " 14  Night_Calls     3333 non-null   int64  \n",
      " 15  Night_Charge    3333 non-null   float64\n",
      " 16  Intl_Calls      3333 non-null   int64  \n",
      " 17  Intl_Charge     3333 non-null   float64\n",
      " 18  State           3333 non-null   object \n",
      " 19  Area_Code       3333 non-null   int64  \n",
      " 20  Phone           3333 non-null   object \n",
      "dtypes: bool(1), float64(8), int64(8), object(4)\n",
      "memory usage: 524.2+ KB\n"
     ]
    }
   ],
   "source": [
    "telco.info()\n",
    "#telco.dtypes"
   ]
  },
  {
   "cell_type": "markdown",
   "id": "69007344",
   "metadata": {},
   "source": [
    "Indeed! Churn, Vmail_Plan, and Intl_Plan, in particular, are binary features that can easily be converted into 0s and 1s. This is what you'll do in the next exercise."
   ]
  },
  {
   "cell_type": "markdown",
   "id": "6f3164c3",
   "metadata": {},
   "source": [
    "## Encoding binary features\n",
    "\n",
    "Recasting data types is an important part of data preprocessing. In this exercise you will assign the values 1 to 'yes' and 0 to 'no' to the 'Vmail_Plan' and 'Churn' features, respectively.\n",
    "\n",
    "You saw two approaches to doing this in the video - one using pandas, and the other using scikit-learn. For straightforward tasks like this, sticking with pandas is recommended, so that's what we'll do in this exercise. If you're trying to build machine learning pipelines, on the other hand - which is beyond the scope of this course - you can explore using LabelEncoder(). When doing data science, it's important to be aware that there is always more than one way to accomplish a task, and you need to pick the one that is most effective for your application.\n",
    "\n",
    "Instructions\n",
    "- Replace 'no' with 0 and 'yes' with 1 in the 'Vmail_Plan' column of telco.\n",
    "- Do the same for the 'Churn' column."
   ]
  },
  {
   "cell_type": "code",
   "execution_count": 49,
   "id": "a11a7827",
   "metadata": {},
   "outputs": [
    {
     "data": {
      "text/html": [
       "<div>\n",
       "<style scoped>\n",
       "    .dataframe tbody tr th:only-of-type {\n",
       "        vertical-align: middle;\n",
       "    }\n",
       "\n",
       "    .dataframe tbody tr th {\n",
       "        vertical-align: top;\n",
       "    }\n",
       "\n",
       "    .dataframe thead th {\n",
       "        text-align: right;\n",
       "    }\n",
       "</style>\n",
       "<table border=\"1\" class=\"dataframe\">\n",
       "  <thead>\n",
       "    <tr style=\"text-align: right;\">\n",
       "      <th></th>\n",
       "      <th>Churn</th>\n",
       "      <th>Vmail_Plan</th>\n",
       "    </tr>\n",
       "  </thead>\n",
       "  <tbody>\n",
       "    <tr>\n",
       "      <th>0</th>\n",
       "      <td>no</td>\n",
       "      <td>yes</td>\n",
       "    </tr>\n",
       "    <tr>\n",
       "      <th>1</th>\n",
       "      <td>no</td>\n",
       "      <td>yes</td>\n",
       "    </tr>\n",
       "    <tr>\n",
       "      <th>2</th>\n",
       "      <td>no</td>\n",
       "      <td>no</td>\n",
       "    </tr>\n",
       "    <tr>\n",
       "      <th>3</th>\n",
       "      <td>no</td>\n",
       "      <td>no</td>\n",
       "    </tr>\n",
       "    <tr>\n",
       "      <th>4</th>\n",
       "      <td>no</td>\n",
       "      <td>no</td>\n",
       "    </tr>\n",
       "  </tbody>\n",
       "</table>\n",
       "</div>"
      ],
      "text/plain": [
       "  Churn Vmail_Plan\n",
       "0    no        yes\n",
       "1    no        yes\n",
       "2    no         no\n",
       "3    no         no\n",
       "4    no         no"
      ]
     },
     "execution_count": 49,
     "metadata": {},
     "output_type": "execute_result"
    }
   ],
   "source": [
    "telco[['Churn','Vmail_Plan']].head()"
   ]
  },
  {
   "cell_type": "code",
   "execution_count": 86,
   "id": "0faf84df",
   "metadata": {},
   "outputs": [
    {
     "data": {
      "text/html": [
       "<div>\n",
       "<style scoped>\n",
       "    .dataframe tbody tr th:only-of-type {\n",
       "        vertical-align: middle;\n",
       "    }\n",
       "\n",
       "    .dataframe tbody tr th {\n",
       "        vertical-align: top;\n",
       "    }\n",
       "\n",
       "    .dataframe thead th {\n",
       "        text-align: right;\n",
       "    }\n",
       "</style>\n",
       "<table border=\"1\" class=\"dataframe\">\n",
       "  <thead>\n",
       "    <tr style=\"text-align: right;\">\n",
       "      <th></th>\n",
       "      <th>Churn</th>\n",
       "      <th>Vmail_Plan</th>\n",
       "    </tr>\n",
       "  </thead>\n",
       "  <tbody>\n",
       "    <tr>\n",
       "      <th>0</th>\n",
       "      <td>0</td>\n",
       "      <td>1</td>\n",
       "    </tr>\n",
       "    <tr>\n",
       "      <th>1</th>\n",
       "      <td>0</td>\n",
       "      <td>1</td>\n",
       "    </tr>\n",
       "    <tr>\n",
       "      <th>2</th>\n",
       "      <td>0</td>\n",
       "      <td>0</td>\n",
       "    </tr>\n",
       "    <tr>\n",
       "      <th>3</th>\n",
       "      <td>0</td>\n",
       "      <td>0</td>\n",
       "    </tr>\n",
       "    <tr>\n",
       "      <th>4</th>\n",
       "      <td>0</td>\n",
       "      <td>0</td>\n",
       "    </tr>\n",
       "  </tbody>\n",
       "</table>\n",
       "</div>"
      ],
      "text/plain": [
       "   Churn  Vmail_Plan\n",
       "0      0           1\n",
       "1      0           1\n",
       "2      0           0\n",
       "3      0           0\n",
       "4      0           0"
      ]
     },
     "execution_count": 86,
     "metadata": {},
     "output_type": "execute_result"
    }
   ],
   "source": [
    "#telco['Churn'] = telco['Churn'].replace({'yes':1,'no':0})\n",
    "telco['Churn'] = telco['Churn'].replace({True:1,False:0})\n",
    "telco['Vmail_Plan'] = telco['Vmail_Plan'].replace({'yes':1,'no':0})\n",
    "telco[['Churn','Vmail_Plan']].head()"
   ]
  },
  {
   "cell_type": "markdown",
   "id": "65c43352",
   "metadata": {},
   "source": [
    "Wonderful! With these features encoded as 0 and 1, you can now use them in machine learning algorithms."
   ]
  },
  {
   "cell_type": "code",
   "execution_count": 67,
   "id": "9dc3f71b",
   "metadata": {},
   "outputs": [
    {
     "data": {
      "text/plain": [
       "array([1, 1, 0, 0, 0])"
      ]
     },
     "execution_count": 67,
     "metadata": {},
     "output_type": "execute_result"
    }
   ],
   "source": [
    "from sklearn.preprocessing import LabelEncoder\n",
    "\n",
    "LabelEncoder().fit_transform(y=telco['Vmail_Plan'])[:5]"
   ]
  },
  {
   "cell_type": "code",
   "execution_count": 61,
   "id": "d3c7a7c6",
   "metadata": {},
   "outputs": [],
   "source": [
    "?LabelEncoder.fit_transform"
   ]
  },
  {
   "cell_type": "markdown",
   "id": "cfbd0804",
   "metadata": {},
   "source": [
    "## One hot encoding\n",
    "\n",
    "In the video, you saw how the 'State' feature can be encoded numerically using the technique of one hot encoding:\n",
    "\n",
    "![title](img/ohe_part3.png)\n",
    "\n",
    "Doing this manually would be quite tedious, especially when you have 50 states and over 3000 customers! Fortunately, pandas has a get_dummies() function which automatically applies one hot encoding over the selected feature.\n",
    "\n",
    "Instructions 1/2\n",
    "- Use the pd.get_dummies() function to apply one hot encoding on the 'State' feature of telco."
   ]
  },
  {
   "cell_type": "code",
   "execution_count": 53,
   "id": "bfddb7c7",
   "metadata": {},
   "outputs": [
    {
     "data": {
      "image/png": "[encoded data removed]",
      "text/plain": [
       "<IPython.core.display.Image object>"
      ]
     },
     "execution_count": 53,
     "metadata": {
      "image/png": {
       "height": 200,
       "width": 400
      }
     },
     "output_type": "execute_result"
    }
   ],
   "source": [
    "\n",
    "Image(filename=\"/Users/Andrew/Downloads/(DataCamp) Marketing Analytics Predicting Customer Churn in Python/ohe_part3.png\",width=400,height=200)\n"
   ]
  },
  {
   "cell_type": "code",
   "execution_count": 87,
   "id": "e9bcfdc5",
   "metadata": {},
   "outputs": [
    {
     "data": {
      "text/html": [
       "<div>\n",
       "<style scoped>\n",
       "    .dataframe tbody tr th:only-of-type {\n",
       "        vertical-align: middle;\n",
       "    }\n",
       "\n",
       "    .dataframe tbody tr th {\n",
       "        vertical-align: top;\n",
       "    }\n",
       "\n",
       "    .dataframe thead th {\n",
       "        text-align: right;\n",
       "    }\n",
       "</style>\n",
       "<table border=\"1\" class=\"dataframe\">\n",
       "  <thead>\n",
       "    <tr style=\"text-align: right;\">\n",
       "      <th></th>\n",
       "      <th>AK</th>\n",
       "      <th>AL</th>\n",
       "      <th>AR</th>\n",
       "      <th>AZ</th>\n",
       "      <th>CA</th>\n",
       "      <th>CO</th>\n",
       "      <th>CT</th>\n",
       "      <th>DC</th>\n",
       "      <th>DE</th>\n",
       "      <th>FL</th>\n",
       "      <th>...</th>\n",
       "      <th>SD</th>\n",
       "      <th>TN</th>\n",
       "      <th>TX</th>\n",
       "      <th>UT</th>\n",
       "      <th>VA</th>\n",
       "      <th>VT</th>\n",
       "      <th>WA</th>\n",
       "      <th>WI</th>\n",
       "      <th>WV</th>\n",
       "      <th>WY</th>\n",
       "    </tr>\n",
       "  </thead>\n",
       "  <tbody>\n",
       "    <tr>\n",
       "      <th>0</th>\n",
       "      <td>0</td>\n",
       "      <td>0</td>\n",
       "      <td>0</td>\n",
       "      <td>0</td>\n",
       "      <td>0</td>\n",
       "      <td>0</td>\n",
       "      <td>0</td>\n",
       "      <td>0</td>\n",
       "      <td>0</td>\n",
       "      <td>0</td>\n",
       "      <td>...</td>\n",
       "      <td>0</td>\n",
       "      <td>0</td>\n",
       "      <td>0</td>\n",
       "      <td>0</td>\n",
       "      <td>0</td>\n",
       "      <td>0</td>\n",
       "      <td>0</td>\n",
       "      <td>0</td>\n",
       "      <td>0</td>\n",
       "      <td>0</td>\n",
       "    </tr>\n",
       "    <tr>\n",
       "      <th>1</th>\n",
       "      <td>0</td>\n",
       "      <td>0</td>\n",
       "      <td>0</td>\n",
       "      <td>0</td>\n",
       "      <td>0</td>\n",
       "      <td>0</td>\n",
       "      <td>0</td>\n",
       "      <td>0</td>\n",
       "      <td>0</td>\n",
       "      <td>0</td>\n",
       "      <td>...</td>\n",
       "      <td>0</td>\n",
       "      <td>0</td>\n",
       "      <td>0</td>\n",
       "      <td>0</td>\n",
       "      <td>0</td>\n",
       "      <td>0</td>\n",
       "      <td>0</td>\n",
       "      <td>0</td>\n",
       "      <td>0</td>\n",
       "      <td>0</td>\n",
       "    </tr>\n",
       "    <tr>\n",
       "      <th>2</th>\n",
       "      <td>0</td>\n",
       "      <td>0</td>\n",
       "      <td>0</td>\n",
       "      <td>0</td>\n",
       "      <td>0</td>\n",
       "      <td>0</td>\n",
       "      <td>0</td>\n",
       "      <td>0</td>\n",
       "      <td>0</td>\n",
       "      <td>0</td>\n",
       "      <td>...</td>\n",
       "      <td>0</td>\n",
       "      <td>0</td>\n",
       "      <td>0</td>\n",
       "      <td>0</td>\n",
       "      <td>0</td>\n",
       "      <td>0</td>\n",
       "      <td>0</td>\n",
       "      <td>0</td>\n",
       "      <td>0</td>\n",
       "      <td>0</td>\n",
       "    </tr>\n",
       "    <tr>\n",
       "      <th>3</th>\n",
       "      <td>0</td>\n",
       "      <td>0</td>\n",
       "      <td>0</td>\n",
       "      <td>0</td>\n",
       "      <td>0</td>\n",
       "      <td>0</td>\n",
       "      <td>0</td>\n",
       "      <td>0</td>\n",
       "      <td>0</td>\n",
       "      <td>0</td>\n",
       "      <td>...</td>\n",
       "      <td>0</td>\n",
       "      <td>0</td>\n",
       "      <td>0</td>\n",
       "      <td>0</td>\n",
       "      <td>0</td>\n",
       "      <td>0</td>\n",
       "      <td>0</td>\n",
       "      <td>0</td>\n",
       "      <td>0</td>\n",
       "      <td>0</td>\n",
       "    </tr>\n",
       "    <tr>\n",
       "      <th>4</th>\n",
       "      <td>0</td>\n",
       "      <td>0</td>\n",
       "      <td>0</td>\n",
       "      <td>0</td>\n",
       "      <td>0</td>\n",
       "      <td>0</td>\n",
       "      <td>0</td>\n",
       "      <td>0</td>\n",
       "      <td>0</td>\n",
       "      <td>0</td>\n",
       "      <td>...</td>\n",
       "      <td>0</td>\n",
       "      <td>0</td>\n",
       "      <td>0</td>\n",
       "      <td>0</td>\n",
       "      <td>0</td>\n",
       "      <td>0</td>\n",
       "      <td>0</td>\n",
       "      <td>0</td>\n",
       "      <td>0</td>\n",
       "      <td>0</td>\n",
       "    </tr>\n",
       "  </tbody>\n",
       "</table>\n",
       "<p>5 rows × 51 columns</p>\n",
       "</div>"
      ],
      "text/plain": [
       "   AK  AL  AR  AZ  CA  CO  CT  DC  DE  FL  ...  SD  TN  TX  UT  VA  VT  WA  \\\n",
       "0   0   0   0   0   0   0   0   0   0   0  ...   0   0   0   0   0   0   0   \n",
       "1   0   0   0   0   0   0   0   0   0   0  ...   0   0   0   0   0   0   0   \n",
       "2   0   0   0   0   0   0   0   0   0   0  ...   0   0   0   0   0   0   0   \n",
       "3   0   0   0   0   0   0   0   0   0   0  ...   0   0   0   0   0   0   0   \n",
       "4   0   0   0   0   0   0   0   0   0   0  ...   0   0   0   0   0   0   0   \n",
       "\n",
       "   WI  WV  WY  \n",
       "0   0   0   0  \n",
       "1   0   0   0  \n",
       "2   0   0   0  \n",
       "3   0   0   0  \n",
       "4   0   0   0  \n",
       "\n",
       "[5 rows x 51 columns]"
      ]
     },
     "execution_count": 87,
     "metadata": {},
     "output_type": "execute_result"
    }
   ],
   "source": [
    "telco_state = pd.get_dummies(telco['State'])\n",
    "telco_state.head()"
   ]
  },
  {
   "cell_type": "markdown",
   "id": "785e99d9",
   "metadata": {},
   "source": [
    "Excellent work! Notice that this creates an entirely new DataFrame. Once you merge this back into the original telco DataFrame, you can begin using these state features in your models. Do note, however, that we now have many more features in our dataset, so we should consider dropping any that are unnecessary."
   ]
  },
  {
   "cell_type": "markdown",
   "id": "f8a204c0",
   "metadata": {},
   "source": [
    "## Feature scaling\n",
    "\n",
    "Recall from the video the different scales of the 'Intl_Calls' and 'Night_Mins' features:\n",
    "\n",
    "![title](img/ohe_part3_2.png)\n",
    "\n",
    "Your job in this exercise is to re-scale them using StandardScaler.\n",
    "\n",
    "In your workspace, the telco DataFrame has been subset to only include the features you want to rescale: 'Intl_Calls' and 'Night_Mins'. To apply StandardScaler, you need to first instantiate it using StandardScaler(), and then apply the fit_transform() method, passing in the DataFrame you want to rescale. You can do this in one line of code:\n",
    "\n",
    "StandardScaler().fit_transform(df)\n",
    "Instructions\n",
    "100 XP\n",
    "Scale telco using StandardScaler() and .fit_transform().\n",
    "Print the summary statistics of telco_scaled_df using .describe()."
   ]
  },
  {
   "cell_type": "code",
   "execution_count": 88,
   "id": "5bda3280",
   "metadata": {},
   "outputs": [
    {
     "data": {
      "text/html": [
       "<div>\n",
       "<style scoped>\n",
       "    .dataframe tbody tr th:only-of-type {\n",
       "        vertical-align: middle;\n",
       "    }\n",
       "\n",
       "    .dataframe tbody tr th {\n",
       "        vertical-align: top;\n",
       "    }\n",
       "\n",
       "    .dataframe thead th {\n",
       "        text-align: right;\n",
       "    }\n",
       "</style>\n",
       "<table border=\"1\" class=\"dataframe\">\n",
       "  <thead>\n",
       "    <tr style=\"text-align: right;\">\n",
       "      <th></th>\n",
       "      <th>Intl_Calls</th>\n",
       "      <th>Night_Mins</th>\n",
       "    </tr>\n",
       "  </thead>\n",
       "  <tbody>\n",
       "    <tr>\n",
       "      <th>0</th>\n",
       "      <td>3</td>\n",
       "      <td>244.7</td>\n",
       "    </tr>\n",
       "    <tr>\n",
       "      <th>1</th>\n",
       "      <td>3</td>\n",
       "      <td>254.4</td>\n",
       "    </tr>\n",
       "    <tr>\n",
       "      <th>2</th>\n",
       "      <td>5</td>\n",
       "      <td>162.6</td>\n",
       "    </tr>\n",
       "    <tr>\n",
       "      <th>3</th>\n",
       "      <td>7</td>\n",
       "      <td>196.9</td>\n",
       "    </tr>\n",
       "    <tr>\n",
       "      <th>4</th>\n",
       "      <td>3</td>\n",
       "      <td>186.9</td>\n",
       "    </tr>\n",
       "  </tbody>\n",
       "</table>\n",
       "</div>"
      ],
      "text/plain": [
       "   Intl_Calls  Night_Mins\n",
       "0           3       244.7\n",
       "1           3       254.4\n",
       "2           5       162.6\n",
       "3           7       196.9\n",
       "4           3       186.9"
      ]
     },
     "execution_count": 88,
     "metadata": {},
     "output_type": "execute_result"
    }
   ],
   "source": [
    "telco_1 = telco[['Intl_Calls','Night_Mins']]\n",
    "telco_1.head()"
   ]
  },
  {
   "cell_type": "code",
   "execution_count": 89,
   "id": "1f682bee",
   "metadata": {},
   "outputs": [
    {
     "data": {
      "text/html": [
       "<div>\n",
       "<style scoped>\n",
       "    .dataframe tbody tr th:only-of-type {\n",
       "        vertical-align: middle;\n",
       "    }\n",
       "\n",
       "    .dataframe tbody tr th {\n",
       "        vertical-align: top;\n",
       "    }\n",
       "\n",
       "    .dataframe thead th {\n",
       "        text-align: right;\n",
       "    }\n",
       "</style>\n",
       "<table border=\"1\" class=\"dataframe\">\n",
       "  <thead>\n",
       "    <tr style=\"text-align: right;\">\n",
       "      <th></th>\n",
       "      <th>Intl_Calls</th>\n",
       "      <th>Night_Mins</th>\n",
       "    </tr>\n",
       "  </thead>\n",
       "  <tbody>\n",
       "    <tr>\n",
       "      <th>0</th>\n",
       "      <td>-0.601195</td>\n",
       "      <td>0.866743</td>\n",
       "    </tr>\n",
       "    <tr>\n",
       "      <th>1</th>\n",
       "      <td>-0.601195</td>\n",
       "      <td>1.058571</td>\n",
       "    </tr>\n",
       "    <tr>\n",
       "      <th>2</th>\n",
       "      <td>0.211534</td>\n",
       "      <td>-0.756869</td>\n",
       "    </tr>\n",
       "    <tr>\n",
       "      <th>3</th>\n",
       "      <td>1.024263</td>\n",
       "      <td>-0.078551</td>\n",
       "    </tr>\n",
       "    <tr>\n",
       "      <th>4</th>\n",
       "      <td>-0.601195</td>\n",
       "      <td>-0.276311</td>\n",
       "    </tr>\n",
       "  </tbody>\n",
       "</table>\n",
       "</div>"
      ],
      "text/plain": [
       "   Intl_Calls  Night_Mins\n",
       "0   -0.601195    0.866743\n",
       "1   -0.601195    1.058571\n",
       "2    0.211534   -0.756869\n",
       "3    1.024263   -0.078551\n",
       "4   -0.601195   -0.276311"
      ]
     },
     "execution_count": 89,
     "metadata": {},
     "output_type": "execute_result"
    }
   ],
   "source": [
    "# 1\n",
    "from sklearn.preprocessing import StandardScaler\n",
    "\n",
    "telco_scaled = StandardScaler().fit_transform(telco_1)\n",
    "telco_scaled = pd.DataFrame(telco_scaled, columns=[\"Intl_Calls\", \"Night_Mins\"])\n",
    "telco_scaled.head()\n"
   ]
  },
  {
   "cell_type": "code",
   "execution_count": 73,
   "id": "d8f7734d",
   "metadata": {},
   "outputs": [
    {
     "data": {
      "text/html": [
       "<div>\n",
       "<style scoped>\n",
       "    .dataframe tbody tr th:only-of-type {\n",
       "        vertical-align: middle;\n",
       "    }\n",
       "\n",
       "    .dataframe tbody tr th {\n",
       "        vertical-align: top;\n",
       "    }\n",
       "\n",
       "    .dataframe thead th {\n",
       "        text-align: right;\n",
       "    }\n",
       "</style>\n",
       "<table border=\"1\" class=\"dataframe\">\n",
       "  <thead>\n",
       "    <tr style=\"text-align: right;\">\n",
       "      <th></th>\n",
       "      <th>Intl_Calls</th>\n",
       "      <th>Night_Mins</th>\n",
       "    </tr>\n",
       "  </thead>\n",
       "  <tbody>\n",
       "    <tr>\n",
       "      <th>0</th>\n",
       "      <td>-0.601105</td>\n",
       "      <td>0.866613</td>\n",
       "    </tr>\n",
       "    <tr>\n",
       "      <th>1</th>\n",
       "      <td>-0.601105</td>\n",
       "      <td>1.058412</td>\n",
       "    </tr>\n",
       "    <tr>\n",
       "      <th>2</th>\n",
       "      <td>0.211502</td>\n",
       "      <td>-0.756756</td>\n",
       "    </tr>\n",
       "    <tr>\n",
       "      <th>3</th>\n",
       "      <td>1.024109</td>\n",
       "      <td>-0.078539</td>\n",
       "    </tr>\n",
       "    <tr>\n",
       "      <th>4</th>\n",
       "      <td>-0.601105</td>\n",
       "      <td>-0.276270</td>\n",
       "    </tr>\n",
       "  </tbody>\n",
       "</table>\n",
       "</div>"
      ],
      "text/plain": [
       "   Intl_Calls  Night_Mins\n",
       "0   -0.601105    0.866613\n",
       "1   -0.601105    1.058412\n",
       "2    0.211502   -0.756756\n",
       "3    1.024109   -0.078539\n",
       "4   -0.601105   -0.276270"
      ]
     },
     "execution_count": 73,
     "metadata": {},
     "output_type": "execute_result"
    }
   ],
   "source": [
    "# 2\n",
    "telco_scaled_1 = (telco_1 - telco_1.mean()) / telco_1.std()\n",
    "telco_scaled_1.head()"
   ]
  },
  {
   "cell_type": "code",
   "execution_count": 61,
   "id": "a119ec6c",
   "metadata": {},
   "outputs": [
    {
     "data": {
      "text/html": [
       "<div>\n",
       "<style scoped>\n",
       "    .dataframe tbody tr th:only-of-type {\n",
       "        vertical-align: middle;\n",
       "    }\n",
       "\n",
       "    .dataframe tbody tr th {\n",
       "        vertical-align: top;\n",
       "    }\n",
       "\n",
       "    .dataframe thead th {\n",
       "        text-align: right;\n",
       "    }\n",
       "</style>\n",
       "<table border=\"1\" class=\"dataframe\">\n",
       "  <thead>\n",
       "    <tr style=\"text-align: right;\">\n",
       "      <th></th>\n",
       "      <th>Intl_Calls</th>\n",
       "      <th>Night_Mins</th>\n",
       "    </tr>\n",
       "  </thead>\n",
       "  <tbody>\n",
       "    <tr>\n",
       "      <th>count</th>\n",
       "      <td>3.333000e+03</td>\n",
       "      <td>3.333000e+03</td>\n",
       "    </tr>\n",
       "    <tr>\n",
       "      <th>mean</th>\n",
       "      <td>-8.527366e-18</td>\n",
       "      <td>7.887813e-17</td>\n",
       "    </tr>\n",
       "    <tr>\n",
       "      <th>std</th>\n",
       "      <td>1.000150e+00</td>\n",
       "      <td>1.000150e+00</td>\n",
       "    </tr>\n",
       "    <tr>\n",
       "      <th>min</th>\n",
       "      <td>-1.820289e+00</td>\n",
       "      <td>-3.513648e+00</td>\n",
       "    </tr>\n",
       "    <tr>\n",
       "      <th>25%</th>\n",
       "      <td>-6.011951e-01</td>\n",
       "      <td>-6.698545e-01</td>\n",
       "    </tr>\n",
       "    <tr>\n",
       "      <th>50%</th>\n",
       "      <td>-1.948306e-01</td>\n",
       "      <td>6.485803e-03</td>\n",
       "    </tr>\n",
       "    <tr>\n",
       "      <th>75%</th>\n",
       "      <td>6.178983e-01</td>\n",
       "      <td>6.808485e-01</td>\n",
       "    </tr>\n",
       "    <tr>\n",
       "      <th>max</th>\n",
       "      <td>6.307001e+00</td>\n",
       "      <td>3.839081e+00</td>\n",
       "    </tr>\n",
       "  </tbody>\n",
       "</table>\n",
       "</div>"
      ],
      "text/plain": [
       "         Intl_Calls    Night_Mins\n",
       "count  3.333000e+03  3.333000e+03\n",
       "mean  -8.527366e-18  7.887813e-17\n",
       "std    1.000150e+00  1.000150e+00\n",
       "min   -1.820289e+00 -3.513648e+00\n",
       "25%   -6.011951e-01 -6.698545e-01\n",
       "50%   -1.948306e-01  6.485803e-03\n",
       "75%    6.178983e-01  6.808485e-01\n",
       "max    6.307001e+00  3.839081e+00"
      ]
     },
     "execution_count": 61,
     "metadata": {},
     "output_type": "execute_result"
    }
   ],
   "source": [
    "telco_scaled.describe()"
   ]
  },
  {
   "cell_type": "code",
   "execution_count": 65,
   "id": "fc393814",
   "metadata": {},
   "outputs": [
    {
     "data": {
      "image/png": "[encoded data removed]",
      "text/plain": [
       "<Figure size 1152x648 with 1 Axes>"
      ]
     },
     "metadata": {
      "needs_background": "light"
     },
     "output_type": "display_data"
    }
   ],
   "source": [
    "fig,ax = plt.subplots(figsize=(16,9))\n",
    "sns.distplot(a=telco_scaled['Intl_Calls'])\n",
    "#sns.distplot(a=telco['Intl_Calls']) # not scaled version\n",
    "plt.show()"
   ]
  },
  {
   "cell_type": "markdown",
   "id": "2ea47766",
   "metadata": {},
   "source": [
    "Great work! Both features are now on the same scale. In practice, you'll need to carefully ensure this is the case for all features of interest. Next up: feature selection and feature engineering. See you in the next video!"
   ]
  },
  {
   "cell_type": "markdown",
   "id": "ef0dc867",
   "metadata": {},
   "source": [
    "## Feature selection and engineering\n",
    "5 Feature selection and engineering.mp4"
   ]
  },
  {
   "cell_type": "markdown",
   "id": "6f48dd27",
   "metadata": {},
   "source": [
    "### Dropping unnecessary features\n",
    "\n",
    "Some features such as 'Area_Code' and 'Phone' are not useful when it comes to predicting customer churn, and they need to be dropped prior to modeling. The easiest way to do so in Python is using the .drop() method of pandas DataFrames, just as you saw in the video, where 'Soc_Sec' and 'Tax_ID' were dropped:\n",
    "\n",
    "telco.drop(['Soc_Sec', 'Tax_ID'], axis=1)\n",
    "Here, axis=1 indicates that you want to drop 'Soc_Sec' and 'Tax_ID' from the columns.\n",
    "\n",
    "Instructions 1/2\n",
    "- Drop 'Area_Code' and 'Phone' from telco."
   ]
  },
  {
   "cell_type": "code",
   "execution_count": 75,
   "id": "9eebff73",
   "metadata": {},
   "outputs": [
    {
     "data": {
      "text/plain": [
       "array(['Account_Length', 'Vmail_Message', 'Day_Mins', 'Eve_Mins',\n",
       "       'Night_Mins', 'Intl_Mins', 'CustServ_Calls', 'Churn', 'Intl_Plan',\n",
       "       'Vmail_Plan', 'Day_Calls', 'Day_Charge', 'Eve_Calls', 'Eve_Charge',\n",
       "       'Night_Calls', 'Night_Charge', 'Intl_Calls', 'Intl_Charge',\n",
       "       'State', 'Area_Code', 'Phone'], dtype=object)"
      ]
     },
     "execution_count": 75,
     "metadata": {},
     "output_type": "execute_result"
    }
   ],
   "source": [
    "telco.columns.values"
   ]
  },
  {
   "cell_type": "code",
   "execution_count": 76,
   "id": "f10ca739",
   "metadata": {},
   "outputs": [
    {
     "data": {
      "text/plain": [
       "array(['Account_Length', 'Vmail_Message', 'Day_Mins', 'Eve_Mins',\n",
       "       'Night_Mins', 'Intl_Mins', 'CustServ_Calls', 'Churn', 'Intl_Plan',\n",
       "       'Vmail_Plan', 'Day_Calls', 'Day_Charge', 'Eve_Calls', 'Eve_Charge',\n",
       "       'Night_Calls', 'Night_Charge', 'Intl_Calls', 'Intl_Charge',\n",
       "       'State'], dtype=object)"
      ]
     },
     "execution_count": 76,
     "metadata": {},
     "output_type": "execute_result"
    }
   ],
   "source": [
    "telco.drop(['Area_Code','Phone'],axis=1,inplace=True)\n",
    "# Verify that the features got dropped by printing telco.columns\n",
    "telco.columns.values"
   ]
  },
  {
   "cell_type": "code",
   "execution_count": 149,
   "id": "b998c18e",
   "metadata": {},
   "outputs": [
    {
     "data": {
      "text/html": [
       "<div>\n",
       "<style scoped>\n",
       "    .dataframe tbody tr th:only-of-type {\n",
       "        vertical-align: middle;\n",
       "    }\n",
       "\n",
       "    .dataframe tbody tr th {\n",
       "        vertical-align: top;\n",
       "    }\n",
       "\n",
       "    .dataframe thead th {\n",
       "        text-align: right;\n",
       "    }\n",
       "</style>\n",
       "<table border=\"1\" class=\"dataframe\">\n",
       "  <thead>\n",
       "    <tr style=\"text-align: right;\">\n",
       "      <th></th>\n",
       "      <th>Account_Length</th>\n",
       "      <th>Vmail_Message</th>\n",
       "      <th>Day_Mins</th>\n",
       "      <th>Eve_Mins</th>\n",
       "      <th>Night_Mins</th>\n",
       "      <th>Intl_Mins</th>\n",
       "      <th>CustServ_Calls</th>\n",
       "      <th>Churn</th>\n",
       "      <th>Intl_Plan</th>\n",
       "      <th>Vmail_Plan</th>\n",
       "      <th>Day_Calls</th>\n",
       "      <th>Day_Charge</th>\n",
       "      <th>Eve_Calls</th>\n",
       "      <th>Eve_Charge</th>\n",
       "      <th>Night_Calls</th>\n",
       "      <th>Night_Charge</th>\n",
       "      <th>Intl_Calls</th>\n",
       "      <th>Intl_Charge</th>\n",
       "      <th>Avg_Night_Calls</th>\n",
       "    </tr>\n",
       "  </thead>\n",
       "  <tbody>\n",
       "    <tr>\n",
       "      <th>Account_Length</th>\n",
       "      <td>1.000000</td>\n",
       "      <td>-0.004628</td>\n",
       "      <td>0.006216</td>\n",
       "      <td>-0.006757</td>\n",
       "      <td>-0.008955</td>\n",
       "      <td>0.009514</td>\n",
       "      <td>-0.003796</td>\n",
       "      <td>0.016541</td>\n",
       "      <td>0.024735</td>\n",
       "      <td>0.002918</td>\n",
       "      <td>0.038470</td>\n",
       "      <td>0.006214</td>\n",
       "      <td>0.019260</td>\n",
       "      <td>-0.006745</td>\n",
       "      <td>-0.013176</td>\n",
       "      <td>-0.008960</td>\n",
       "      <td>0.020661</td>\n",
       "      <td>0.009546</td>\n",
       "      <td>-0.004067</td>\n",
       "    </tr>\n",
       "    <tr>\n",
       "      <th>Vmail_Message</th>\n",
       "      <td>-0.004628</td>\n",
       "      <td>1.000000</td>\n",
       "      <td>0.000778</td>\n",
       "      <td>0.017562</td>\n",
       "      <td>0.007681</td>\n",
       "      <td>0.002856</td>\n",
       "      <td>-0.013263</td>\n",
       "      <td>-0.089728</td>\n",
       "      <td>0.008745</td>\n",
       "      <td>0.956927</td>\n",
       "      <td>-0.009548</td>\n",
       "      <td>0.000776</td>\n",
       "      <td>-0.005864</td>\n",
       "      <td>0.017578</td>\n",
       "      <td>0.007123</td>\n",
       "      <td>0.007663</td>\n",
       "      <td>0.013957</td>\n",
       "      <td>0.002884</td>\n",
       "      <td>0.003061</td>\n",
       "    </tr>\n",
       "    <tr>\n",
       "      <th>Day_Mins</th>\n",
       "      <td>0.006216</td>\n",
       "      <td>0.000778</td>\n",
       "      <td>1.000000</td>\n",
       "      <td>0.007043</td>\n",
       "      <td>0.004323</td>\n",
       "      <td>-0.010155</td>\n",
       "      <td>-0.013423</td>\n",
       "      <td>0.205151</td>\n",
       "      <td>0.049396</td>\n",
       "      <td>-0.001684</td>\n",
       "      <td>0.006750</td>\n",
       "      <td>1.000000</td>\n",
       "      <td>0.015769</td>\n",
       "      <td>0.007029</td>\n",
       "      <td>0.022972</td>\n",
       "      <td>0.004300</td>\n",
       "      <td>0.008033</td>\n",
       "      <td>-0.010092</td>\n",
       "      <td>-0.011777</td>\n",
       "    </tr>\n",
       "    <tr>\n",
       "      <th>Eve_Mins</th>\n",
       "      <td>-0.006757</td>\n",
       "      <td>0.017562</td>\n",
       "      <td>0.007043</td>\n",
       "      <td>1.000000</td>\n",
       "      <td>-0.012584</td>\n",
       "      <td>-0.011035</td>\n",
       "      <td>-0.012985</td>\n",
       "      <td>0.092796</td>\n",
       "      <td>0.019100</td>\n",
       "      <td>0.021545</td>\n",
       "      <td>-0.021451</td>\n",
       "      <td>0.007050</td>\n",
       "      <td>-0.011430</td>\n",
       "      <td>1.000000</td>\n",
       "      <td>0.007586</td>\n",
       "      <td>-0.012593</td>\n",
       "      <td>0.002541</td>\n",
       "      <td>-0.011067</td>\n",
       "      <td>-0.011740</td>\n",
       "    </tr>\n",
       "    <tr>\n",
       "      <th>Night_Mins</th>\n",
       "      <td>-0.008955</td>\n",
       "      <td>0.007681</td>\n",
       "      <td>0.004323</td>\n",
       "      <td>-0.012584</td>\n",
       "      <td>1.000000</td>\n",
       "      <td>-0.015207</td>\n",
       "      <td>-0.009288</td>\n",
       "      <td>0.035493</td>\n",
       "      <td>-0.028905</td>\n",
       "      <td>0.006079</td>\n",
       "      <td>0.022938</td>\n",
       "      <td>0.004324</td>\n",
       "      <td>-0.002093</td>\n",
       "      <td>-0.012592</td>\n",
       "      <td>0.011204</td>\n",
       "      <td>0.999999</td>\n",
       "      <td>-0.012353</td>\n",
       "      <td>-0.015180</td>\n",
       "      <td>0.738404</td>\n",
       "    </tr>\n",
       "    <tr>\n",
       "      <th>Intl_Mins</th>\n",
       "      <td>0.009514</td>\n",
       "      <td>0.002856</td>\n",
       "      <td>-0.010155</td>\n",
       "      <td>-0.011035</td>\n",
       "      <td>-0.015207</td>\n",
       "      <td>1.000000</td>\n",
       "      <td>-0.009640</td>\n",
       "      <td>0.068239</td>\n",
       "      <td>0.045871</td>\n",
       "      <td>-0.001318</td>\n",
       "      <td>0.021565</td>\n",
       "      <td>-0.010157</td>\n",
       "      <td>0.008703</td>\n",
       "      <td>-0.011043</td>\n",
       "      <td>-0.013605</td>\n",
       "      <td>-0.015214</td>\n",
       "      <td>0.032304</td>\n",
       "      <td>0.999993</td>\n",
       "      <td>-0.001844</td>\n",
       "    </tr>\n",
       "    <tr>\n",
       "      <th>CustServ_Calls</th>\n",
       "      <td>-0.003796</td>\n",
       "      <td>-0.013263</td>\n",
       "      <td>-0.013423</td>\n",
       "      <td>-0.012985</td>\n",
       "      <td>-0.009288</td>\n",
       "      <td>-0.009640</td>\n",
       "      <td>1.000000</td>\n",
       "      <td>0.208750</td>\n",
       "      <td>-0.024522</td>\n",
       "      <td>-0.017824</td>\n",
       "      <td>-0.018942</td>\n",
       "      <td>-0.013427</td>\n",
       "      <td>0.002423</td>\n",
       "      <td>-0.012987</td>\n",
       "      <td>-0.012802</td>\n",
       "      <td>-0.009277</td>\n",
       "      <td>-0.017561</td>\n",
       "      <td>-0.009675</td>\n",
       "      <td>-0.000153</td>\n",
       "    </tr>\n",
       "    <tr>\n",
       "      <th>Churn</th>\n",
       "      <td>0.016541</td>\n",
       "      <td>-0.089728</td>\n",
       "      <td>0.205151</td>\n",
       "      <td>0.092796</td>\n",
       "      <td>0.035493</td>\n",
       "      <td>0.068239</td>\n",
       "      <td>0.208750</td>\n",
       "      <td>1.000000</td>\n",
       "      <td>0.259852</td>\n",
       "      <td>-0.102148</td>\n",
       "      <td>0.018459</td>\n",
       "      <td>0.205151</td>\n",
       "      <td>0.009233</td>\n",
       "      <td>0.092786</td>\n",
       "      <td>0.006141</td>\n",
       "      <td>0.035496</td>\n",
       "      <td>-0.052844</td>\n",
       "      <td>0.068259</td>\n",
       "      <td>0.023433</td>\n",
       "    </tr>\n",
       "    <tr>\n",
       "      <th>Intl_Plan</th>\n",
       "      <td>0.024735</td>\n",
       "      <td>0.008745</td>\n",
       "      <td>0.049396</td>\n",
       "      <td>0.019100</td>\n",
       "      <td>-0.028905</td>\n",
       "      <td>0.045871</td>\n",
       "      <td>-0.024522</td>\n",
       "      <td>0.259852</td>\n",
       "      <td>1.000000</td>\n",
       "      <td>0.006006</td>\n",
       "      <td>0.003755</td>\n",
       "      <td>0.049398</td>\n",
       "      <td>0.006114</td>\n",
       "      <td>0.019106</td>\n",
       "      <td>0.012451</td>\n",
       "      <td>-0.028913</td>\n",
       "      <td>0.017366</td>\n",
       "      <td>0.045780</td>\n",
       "      <td>-0.029635</td>\n",
       "    </tr>\n",
       "    <tr>\n",
       "      <th>Vmail_Plan</th>\n",
       "      <td>0.002918</td>\n",
       "      <td>0.956927</td>\n",
       "      <td>-0.001684</td>\n",
       "      <td>0.021545</td>\n",
       "      <td>0.006079</td>\n",
       "      <td>-0.001318</td>\n",
       "      <td>-0.017824</td>\n",
       "      <td>-0.102148</td>\n",
       "      <td>0.006006</td>\n",
       "      <td>1.000000</td>\n",
       "      <td>-0.011086</td>\n",
       "      <td>-0.001686</td>\n",
       "      <td>-0.006444</td>\n",
       "      <td>0.021559</td>\n",
       "      <td>0.015553</td>\n",
       "      <td>0.006064</td>\n",
       "      <td>0.007618</td>\n",
       "      <td>-0.001276</td>\n",
       "      <td>-0.004060</td>\n",
       "    </tr>\n",
       "    <tr>\n",
       "      <th>Day_Calls</th>\n",
       "      <td>0.038470</td>\n",
       "      <td>-0.009548</td>\n",
       "      <td>0.006750</td>\n",
       "      <td>-0.021451</td>\n",
       "      <td>0.022938</td>\n",
       "      <td>0.021565</td>\n",
       "      <td>-0.018942</td>\n",
       "      <td>0.018459</td>\n",
       "      <td>0.003755</td>\n",
       "      <td>-0.011086</td>\n",
       "      <td>1.000000</td>\n",
       "      <td>0.006753</td>\n",
       "      <td>0.006462</td>\n",
       "      <td>-0.021449</td>\n",
       "      <td>-0.019557</td>\n",
       "      <td>0.022927</td>\n",
       "      <td>0.004574</td>\n",
       "      <td>0.021666</td>\n",
       "      <td>0.029716</td>\n",
       "    </tr>\n",
       "    <tr>\n",
       "      <th>Day_Charge</th>\n",
       "      <td>0.006214</td>\n",
       "      <td>0.000776</td>\n",
       "      <td>1.000000</td>\n",
       "      <td>0.007050</td>\n",
       "      <td>0.004324</td>\n",
       "      <td>-0.010157</td>\n",
       "      <td>-0.013427</td>\n",
       "      <td>0.205151</td>\n",
       "      <td>0.049398</td>\n",
       "      <td>-0.001686</td>\n",
       "      <td>0.006753</td>\n",
       "      <td>1.000000</td>\n",
       "      <td>0.015769</td>\n",
       "      <td>0.007036</td>\n",
       "      <td>0.022972</td>\n",
       "      <td>0.004301</td>\n",
       "      <td>0.008032</td>\n",
       "      <td>-0.010094</td>\n",
       "      <td>-0.011779</td>\n",
       "    </tr>\n",
       "    <tr>\n",
       "      <th>Eve_Calls</th>\n",
       "      <td>0.019260</td>\n",
       "      <td>-0.005864</td>\n",
       "      <td>0.015769</td>\n",
       "      <td>-0.011430</td>\n",
       "      <td>-0.002093</td>\n",
       "      <td>0.008703</td>\n",
       "      <td>0.002423</td>\n",
       "      <td>0.009233</td>\n",
       "      <td>0.006114</td>\n",
       "      <td>-0.006444</td>\n",
       "      <td>0.006462</td>\n",
       "      <td>0.015769</td>\n",
       "      <td>1.000000</td>\n",
       "      <td>-0.011423</td>\n",
       "      <td>0.007710</td>\n",
       "      <td>-0.002056</td>\n",
       "      <td>0.017434</td>\n",
       "      <td>0.008674</td>\n",
       "      <td>-0.010663</td>\n",
       "    </tr>\n",
       "    <tr>\n",
       "      <th>Eve_Charge</th>\n",
       "      <td>-0.006745</td>\n",
       "      <td>0.017578</td>\n",
       "      <td>0.007029</td>\n",
       "      <td>1.000000</td>\n",
       "      <td>-0.012592</td>\n",
       "      <td>-0.011043</td>\n",
       "      <td>-0.012987</td>\n",
       "      <td>0.092786</td>\n",
       "      <td>0.019106</td>\n",
       "      <td>0.021559</td>\n",
       "      <td>-0.021449</td>\n",
       "      <td>0.007036</td>\n",
       "      <td>-0.011423</td>\n",
       "      <td>1.000000</td>\n",
       "      <td>0.007596</td>\n",
       "      <td>-0.012601</td>\n",
       "      <td>0.002541</td>\n",
       "      <td>-0.011074</td>\n",
       "      <td>-0.011753</td>\n",
       "    </tr>\n",
       "    <tr>\n",
       "      <th>Night_Calls</th>\n",
       "      <td>-0.013176</td>\n",
       "      <td>0.007123</td>\n",
       "      <td>0.022972</td>\n",
       "      <td>0.007586</td>\n",
       "      <td>0.011204</td>\n",
       "      <td>-0.013605</td>\n",
       "      <td>-0.012802</td>\n",
       "      <td>0.006141</td>\n",
       "      <td>0.012451</td>\n",
       "      <td>0.015553</td>\n",
       "      <td>-0.019557</td>\n",
       "      <td>0.022972</td>\n",
       "      <td>0.007710</td>\n",
       "      <td>0.007596</td>\n",
       "      <td>1.000000</td>\n",
       "      <td>0.011188</td>\n",
       "      <td>0.000305</td>\n",
       "      <td>-0.013630</td>\n",
       "      <td>-0.614356</td>\n",
       "    </tr>\n",
       "    <tr>\n",
       "      <th>Night_Charge</th>\n",
       "      <td>-0.008960</td>\n",
       "      <td>0.007663</td>\n",
       "      <td>0.004300</td>\n",
       "      <td>-0.012593</td>\n",
       "      <td>0.999999</td>\n",
       "      <td>-0.015214</td>\n",
       "      <td>-0.009277</td>\n",
       "      <td>0.035496</td>\n",
       "      <td>-0.028913</td>\n",
       "      <td>0.006064</td>\n",
       "      <td>0.022927</td>\n",
       "      <td>0.004301</td>\n",
       "      <td>-0.002056</td>\n",
       "      <td>-0.012601</td>\n",
       "      <td>0.011188</td>\n",
       "      <td>1.000000</td>\n",
       "      <td>-0.012329</td>\n",
       "      <td>-0.015186</td>\n",
       "      <td>0.738419</td>\n",
       "    </tr>\n",
       "    <tr>\n",
       "      <th>Intl_Calls</th>\n",
       "      <td>0.020661</td>\n",
       "      <td>0.013957</td>\n",
       "      <td>0.008033</td>\n",
       "      <td>0.002541</td>\n",
       "      <td>-0.012353</td>\n",
       "      <td>0.032304</td>\n",
       "      <td>-0.017561</td>\n",
       "      <td>-0.052844</td>\n",
       "      <td>0.017366</td>\n",
       "      <td>0.007618</td>\n",
       "      <td>0.004574</td>\n",
       "      <td>0.008032</td>\n",
       "      <td>0.017434</td>\n",
       "      <td>0.002541</td>\n",
       "      <td>0.000305</td>\n",
       "      <td>-0.012329</td>\n",
       "      <td>1.000000</td>\n",
       "      <td>0.032372</td>\n",
       "      <td>-0.012412</td>\n",
       "    </tr>\n",
       "    <tr>\n",
       "      <th>Intl_Charge</th>\n",
       "      <td>0.009546</td>\n",
       "      <td>0.002884</td>\n",
       "      <td>-0.010092</td>\n",
       "      <td>-0.011067</td>\n",
       "      <td>-0.015180</td>\n",
       "      <td>0.999993</td>\n",
       "      <td>-0.009675</td>\n",
       "      <td>0.068259</td>\n",
       "      <td>0.045780</td>\n",
       "      <td>-0.001276</td>\n",
       "      <td>0.021666</td>\n",
       "      <td>-0.010094</td>\n",
       "      <td>0.008674</td>\n",
       "      <td>-0.011074</td>\n",
       "      <td>-0.013630</td>\n",
       "      <td>-0.015186</td>\n",
       "      <td>0.032372</td>\n",
       "      <td>1.000000</td>\n",
       "      <td>-0.001845</td>\n",
       "    </tr>\n",
       "    <tr>\n",
       "      <th>Avg_Night_Calls</th>\n",
       "      <td>-0.004067</td>\n",
       "      <td>0.003061</td>\n",
       "      <td>-0.011777</td>\n",
       "      <td>-0.011740</td>\n",
       "      <td>0.738404</td>\n",
       "      <td>-0.001844</td>\n",
       "      <td>-0.000153</td>\n",
       "      <td>0.023433</td>\n",
       "      <td>-0.029635</td>\n",
       "      <td>-0.004060</td>\n",
       "      <td>0.029716</td>\n",
       "      <td>-0.011779</td>\n",
       "      <td>-0.010663</td>\n",
       "      <td>-0.011753</td>\n",
       "      <td>-0.614356</td>\n",
       "      <td>0.738419</td>\n",
       "      <td>-0.012412</td>\n",
       "      <td>-0.001845</td>\n",
       "      <td>1.000000</td>\n",
       "    </tr>\n",
       "  </tbody>\n",
       "</table>\n",
       "</div>"
      ],
      "text/plain": [
       "                 Account_Length  Vmail_Message  Day_Mins  Eve_Mins  \\\n",
       "Account_Length         1.000000      -0.004628  0.006216 -0.006757   \n",
       "Vmail_Message         -0.004628       1.000000  0.000778  0.017562   \n",
       "Day_Mins               0.006216       0.000778  1.000000  0.007043   \n",
       "Eve_Mins              -0.006757       0.017562  0.007043  1.000000   \n",
       "Night_Mins            -0.008955       0.007681  0.004323 -0.012584   \n",
       "Intl_Mins              0.009514       0.002856 -0.010155 -0.011035   \n",
       "CustServ_Calls        -0.003796      -0.013263 -0.013423 -0.012985   \n",
       "Churn                  0.016541      -0.089728  0.205151  0.092796   \n",
       "Intl_Plan              0.024735       0.008745  0.049396  0.019100   \n",
       "Vmail_Plan             0.002918       0.956927 -0.001684  0.021545   \n",
       "Day_Calls              0.038470      -0.009548  0.006750 -0.021451   \n",
       "Day_Charge             0.006214       0.000776  1.000000  0.007050   \n",
       "Eve_Calls              0.019260      -0.005864  0.015769 -0.011430   \n",
       "Eve_Charge            -0.006745       0.017578  0.007029  1.000000   \n",
       "Night_Calls           -0.013176       0.007123  0.022972  0.007586   \n",
       "Night_Charge          -0.008960       0.007663  0.004300 -0.012593   \n",
       "Intl_Calls             0.020661       0.013957  0.008033  0.002541   \n",
       "Intl_Charge            0.009546       0.002884 -0.010092 -0.011067   \n",
       "Avg_Night_Calls       -0.004067       0.003061 -0.011777 -0.011740   \n",
       "\n",
       "                 Night_Mins  Intl_Mins  CustServ_Calls     Churn  Intl_Plan  \\\n",
       "Account_Length    -0.008955   0.009514       -0.003796  0.016541   0.024735   \n",
       "Vmail_Message      0.007681   0.002856       -0.013263 -0.089728   0.008745   \n",
       "Day_Mins           0.004323  -0.010155       -0.013423  0.205151   0.049396   \n",
       "Eve_Mins          -0.012584  -0.011035       -0.012985  0.092796   0.019100   \n",
       "Night_Mins         1.000000  -0.015207       -0.009288  0.035493  -0.028905   \n",
       "Intl_Mins         -0.015207   1.000000       -0.009640  0.068239   0.045871   \n",
       "CustServ_Calls    -0.009288  -0.009640        1.000000  0.208750  -0.024522   \n",
       "Churn              0.035493   0.068239        0.208750  1.000000   0.259852   \n",
       "Intl_Plan         -0.028905   0.045871       -0.024522  0.259852   1.000000   \n",
       "Vmail_Plan         0.006079  -0.001318       -0.017824 -0.102148   0.006006   \n",
       "Day_Calls          0.022938   0.021565       -0.018942  0.018459   0.003755   \n",
       "Day_Charge         0.004324  -0.010157       -0.013427  0.205151   0.049398   \n",
       "Eve_Calls         -0.002093   0.008703        0.002423  0.009233   0.006114   \n",
       "Eve_Charge        -0.012592  -0.011043       -0.012987  0.092786   0.019106   \n",
       "Night_Calls        0.011204  -0.013605       -0.012802  0.006141   0.012451   \n",
       "Night_Charge       0.999999  -0.015214       -0.009277  0.035496  -0.028913   \n",
       "Intl_Calls        -0.012353   0.032304       -0.017561 -0.052844   0.017366   \n",
       "Intl_Charge       -0.015180   0.999993       -0.009675  0.068259   0.045780   \n",
       "Avg_Night_Calls    0.738404  -0.001844       -0.000153  0.023433  -0.029635   \n",
       "\n",
       "                 Vmail_Plan  Day_Calls  Day_Charge  Eve_Calls  Eve_Charge  \\\n",
       "Account_Length     0.002918   0.038470    0.006214   0.019260   -0.006745   \n",
       "Vmail_Message      0.956927  -0.009548    0.000776  -0.005864    0.017578   \n",
       "Day_Mins          -0.001684   0.006750    1.000000   0.015769    0.007029   \n",
       "Eve_Mins           0.021545  -0.021451    0.007050  -0.011430    1.000000   \n",
       "Night_Mins         0.006079   0.022938    0.004324  -0.002093   -0.012592   \n",
       "Intl_Mins         -0.001318   0.021565   -0.010157   0.008703   -0.011043   \n",
       "CustServ_Calls    -0.017824  -0.018942   -0.013427   0.002423   -0.012987   \n",
       "Churn             -0.102148   0.018459    0.205151   0.009233    0.092786   \n",
       "Intl_Plan          0.006006   0.003755    0.049398   0.006114    0.019106   \n",
       "Vmail_Plan         1.000000  -0.011086   -0.001686  -0.006444    0.021559   \n",
       "Day_Calls         -0.011086   1.000000    0.006753   0.006462   -0.021449   \n",
       "Day_Charge        -0.001686   0.006753    1.000000   0.015769    0.007036   \n",
       "Eve_Calls         -0.006444   0.006462    0.015769   1.000000   -0.011423   \n",
       "Eve_Charge         0.021559  -0.021449    0.007036  -0.011423    1.000000   \n",
       "Night_Calls        0.015553  -0.019557    0.022972   0.007710    0.007596   \n",
       "Night_Charge       0.006064   0.022927    0.004301  -0.002056   -0.012601   \n",
       "Intl_Calls         0.007618   0.004574    0.008032   0.017434    0.002541   \n",
       "Intl_Charge       -0.001276   0.021666   -0.010094   0.008674   -0.011074   \n",
       "Avg_Night_Calls   -0.004060   0.029716   -0.011779  -0.010663   -0.011753   \n",
       "\n",
       "                 Night_Calls  Night_Charge  Intl_Calls  Intl_Charge  \\\n",
       "Account_Length     -0.013176     -0.008960    0.020661     0.009546   \n",
       "Vmail_Message       0.007123      0.007663    0.013957     0.002884   \n",
       "Day_Mins            0.022972      0.004300    0.008033    -0.010092   \n",
       "Eve_Mins            0.007586     -0.012593    0.002541    -0.011067   \n",
       "Night_Mins          0.011204      0.999999   -0.012353    -0.015180   \n",
       "Intl_Mins          -0.013605     -0.015214    0.032304     0.999993   \n",
       "CustServ_Calls     -0.012802     -0.009277   -0.017561    -0.009675   \n",
       "Churn               0.006141      0.035496   -0.052844     0.068259   \n",
       "Intl_Plan           0.012451     -0.028913    0.017366     0.045780   \n",
       "Vmail_Plan          0.015553      0.006064    0.007618    -0.001276   \n",
       "Day_Calls          -0.019557      0.022927    0.004574     0.021666   \n",
       "Day_Charge          0.022972      0.004301    0.008032    -0.010094   \n",
       "Eve_Calls           0.007710     -0.002056    0.017434     0.008674   \n",
       "Eve_Charge          0.007596     -0.012601    0.002541    -0.011074   \n",
       "Night_Calls         1.000000      0.011188    0.000305    -0.013630   \n",
       "Night_Charge        0.011188      1.000000   -0.012329    -0.015186   \n",
       "Intl_Calls          0.000305     -0.012329    1.000000     0.032372   \n",
       "Intl_Charge        -0.013630     -0.015186    0.032372     1.000000   \n",
       "Avg_Night_Calls    -0.614356      0.738419   -0.012412    -0.001845   \n",
       "\n",
       "                 Avg_Night_Calls  \n",
       "Account_Length         -0.004067  \n",
       "Vmail_Message           0.003061  \n",
       "Day_Mins               -0.011777  \n",
       "Eve_Mins               -0.011740  \n",
       "Night_Mins              0.738404  \n",
       "Intl_Mins              -0.001844  \n",
       "CustServ_Calls         -0.000153  \n",
       "Churn                   0.023433  \n",
       "Intl_Plan              -0.029635  \n",
       "Vmail_Plan             -0.004060  \n",
       "Day_Calls               0.029716  \n",
       "Day_Charge             -0.011779  \n",
       "Eve_Calls              -0.010663  \n",
       "Eve_Charge             -0.011753  \n",
       "Night_Calls            -0.614356  \n",
       "Night_Charge            0.738419  \n",
       "Intl_Calls             -0.012412  \n",
       "Intl_Charge            -0.001845  \n",
       "Avg_Night_Calls         1.000000  "
      ]
     },
     "execution_count": 149,
     "metadata": {},
     "output_type": "execute_result"
    }
   ],
   "source": [
    "# Highly correlated features also can be dropped\n",
    "# They provide no additional information to the model\n",
    "telco.corr()\n",
    "# here DayMins & Day_Charge, Eve_Mins & Eve_Charge, Night_Mins & Night_Charge, Intl_Mins & Intl_Charge are highly correlated\n"
   ]
  },
  {
   "cell_type": "code",
   "execution_count": 152,
   "id": "5e5654bb",
   "metadata": {},
   "outputs": [],
   "source": [
    "?pd.DataFrame.corr"
   ]
  },
  {
   "cell_type": "markdown",
   "id": "df6d88e1",
   "metadata": {},
   "source": [
    "Nicely done! Why don't we use unique identifiers such as phone numbers in our churn model? They don't provide any predictive power."
   ]
  },
  {
   "cell_type": "markdown",
   "id": "0ea4b2a5",
   "metadata": {},
   "source": [
    "## Engineering a new column\n",
    "\n",
    "Leveraging domain knowledge to engineer new features is an essential part of modeling. This quote from Andrew Ng summarizes the importance of feature engineering:\n",
    "\n",
    "\"Coming up with features is difficult, time-consuming, requires expert knowledge. 'Applied machine learning' is basically feature engineering.\"\n",
    "\n",
    "Your job in this exercise is to create a new feature that contains information about the average length of night calls made by customers.\n",
    "\n",
    "Instructions\n",
    "- Create a new feature - 'Avg_Night_Calls' - that is the result of dividing 'Night_Mins by 'Night_Calls'.\n",
    "- Print the first five rows of this new feature."
   ]
  },
  {
   "cell_type": "code",
   "execution_count": 90,
   "id": "f6bbf4b5",
   "metadata": {},
   "outputs": [
    {
     "name": "stdout",
     "output_type": "stream",
     "text": [
      "   Night_Mins  Night_Calls  Avg_Night_Calls\n",
      "0       244.7           91         2.689011\n",
      "1       254.4          103         2.469903\n",
      "2       162.6          104         1.563462\n",
      "3       196.9           89         2.212360\n",
      "4       186.9          121         1.544628\n"
     ]
    }
   ],
   "source": [
    "# Create the new feature\n",
    "telco['Avg_Night_Calls'] = telco['Night_Mins'] / telco['Night_Calls']\n",
    "\n",
    "# Print the first five rows of 'Avg_Night_Calls'\n",
    "print(telco[['Night_Mins','Night_Calls','Avg_Night_Calls']].head())"
   ]
  },
  {
   "cell_type": "markdown",
   "id": "56f1b827",
   "metadata": {},
   "source": [
    "Well done! Leveraging your domain knowledge is crucial in churn modeling."
   ]
  },
  {
   "cell_type": "markdown",
   "id": "a63e5ab5",
   "metadata": {},
   "source": [
    "## Making Predictions\n",
    "6 Making Predictions.mp4"
   ]
  },
  {
   "cell_type": "markdown",
   "id": "b536640a",
   "metadata": {},
   "source": [
    "## Predicting whether a new customer will churn\n",
    "\n",
    "As you saw in the video, to train a model using sklearn:\n",
    "\n",
    "- Import the model of interest - here, a Support Vector Classifier:\n",
    "from sklearn.svm import SVC\n",
    "- Instantiate it:\n",
    "svc = SVC()\n",
    "- Train it, or \"fit it\", to the data:\n",
    "svc.fit(telco['data'], telco['target'])\n",
    "\n",
    "Here, the first argument consists of the features, while the second argument is the label that we are trying to predict - whether or not the customer will churn. After you've fitted the model, you can use the model's .predict() method to predict the label of a new customer.\n",
    "\n",
    "This process is true no matter which model you use, and sklearn has many! In this exercise, you'll use LogisticRegression.\n",
    "\n",
    "Instructions 1/4\n",
    "- From sklearn.linear_model, import LogisticRegression."
   ]
  },
  {
   "cell_type": "code",
   "execution_count": 80,
   "id": "01b19ea7",
   "metadata": {},
   "outputs": [],
   "source": [
    "# Import LogisticRegression\n",
    "from sklearn.linear_model import LogisticRegression"
   ]
  },
  {
   "cell_type": "markdown",
   "id": "25272642",
   "metadata": {},
   "source": [
    "- Instantiate LogisticRegression(), storing the result in clf (short for classifier)."
   ]
  },
  {
   "cell_type": "code",
   "execution_count": 81,
   "id": "cb0c783c",
   "metadata": {},
   "outputs": [],
   "source": [
    "# Instantiate the classifier\n",
    "clf = LogisticRegression()"
   ]
  },
  {
   "cell_type": "markdown",
   "id": "f1b15259",
   "metadata": {},
   "source": [
    "- Fit clf to the data. Here, the features are contained in the features variable, and the target variable of interest is 'Churn'."
   ]
  },
  {
   "cell_type": "code",
   "execution_count": 82,
   "id": "26b2dc9c",
   "metadata": {},
   "outputs": [
    {
     "name": "stdout",
     "output_type": "stream",
     "text": [
      "['Account_Length' 'Vmail_Message' 'Day_Mins' 'Eve_Mins' 'Night_Mins'\n",
      " 'Intl_Mins' 'CustServ_Calls' 'Intl_Plan' 'Vmail_Plan' 'Day_Calls'\n",
      " 'Day_Charge' 'Eve_Calls' 'Eve_Charge' 'Night_Calls' 'Night_Charge'\n",
      " 'Intl_Calls' 'Intl_Charge']\n",
      "(17,)\n",
      "['Account_Length', 'Vmail_Message', 'Day_Mins', 'Eve_Mins', 'Night_Mins', 'Intl_Mins', 'CustServ_Calls', 'Intl_Plan', 'Vmail_Plan', 'Day_Calls', 'Day_Charge', 'Eve_Calls', 'Eve_Charge', 'Night_Calls', 'Night_Charge', 'Intl_Calls', 'Intl_Charge']\n",
      "17\n"
     ]
    }
   ],
   "source": [
    "# AK: select features automatically\n",
    "features = telco.columns.drop(['Churn','State','Avg_Night_Calls']).values\n",
    "print(features)\n",
    "print(features.shape)\n",
    "# select features manually\n",
    "features = ['Account_Length', 'Vmail_Message', 'Day_Mins', 'Eve_Mins', 'Night_Mins', 'Intl_Mins', 'CustServ_Calls', 'Intl_Plan', 'Vmail_Plan', 'Day_Calls', 'Day_Charge', 'Eve_Calls', 'Eve_Charge','Night_Calls', 'Night_Charge', 'Intl_Calls', 'Intl_Charge']\n",
    "print(features)\n",
    "print(len(features))"
   ]
  },
  {
   "cell_type": "code",
   "execution_count": 93,
   "id": "be3bc6be",
   "metadata": {},
   "outputs": [
    {
     "name": "stdout",
     "output_type": "stream",
     "text": [
      "   Account_Length  Vmail_Message  Day_Mins  Eve_Mins  Night_Mins  Intl_Mins  \\\n",
      "0             128             25     265.1     197.4       244.7       10.0   \n",
      "1             107             26     161.6     195.5       254.4       13.7   \n",
      "2             137              0     243.4     121.2       162.6       12.2   \n",
      "3              84              0     299.4      61.9       196.9        6.6   \n",
      "4              75              0     166.7     148.3       186.9       10.1   \n",
      "\n",
      "   CustServ_Calls  Intl_Plan  Vmail_Plan  Day_Calls  Day_Charge  Eve_Calls  \\\n",
      "0               1          0           1        110       45.07         99   \n",
      "1               1          0           1        123       27.47        103   \n",
      "2               0          0           0        114       41.38        110   \n",
      "3               2          1           0         71       50.90         88   \n",
      "4               3          1           0        113       28.34        122   \n",
      "\n",
      "   Eve_Charge  Night_Calls  Night_Charge  Intl_Calls  Intl_Charge  \n",
      "0       16.78           91         11.01           3         2.70  \n",
      "1       16.62          103         11.45           3         3.70  \n",
      "2       10.30          104          7.32           5         3.29  \n",
      "3        5.26           89          8.86           7         1.78  \n",
      "4       12.61          121          8.41           3         2.73  \n",
      "0    0\n",
      "1    0\n",
      "2    0\n",
      "3    1\n",
      "4    1\n",
      "Name: Intl_Plan, dtype: int64\n"
     ]
    }
   ],
   "source": [
    "print(telco[features].head())\n",
    "# Intl_Plan is not (0,1), model fit doesn't work, let's replace\n",
    "#telco['Intl_Plan'] = telco['Intl_Plan'].replace({'no':0,'yes':1})\n",
    "print(telco['Intl_Plan'].head())"
   ]
  },
  {
   "cell_type": "code",
   "execution_count": 94,
   "id": "c9be3418",
   "metadata": {},
   "outputs": [
    {
     "name": "stderr",
     "output_type": "stream",
     "text": [
      "/Users/Andrew/Documents/python/env/lib/python3.7/site-packages/sklearn/linear_model/_logistic.py:818: ConvergenceWarning: lbfgs failed to converge (status=1):\n",
      "STOP: TOTAL NO. of ITERATIONS REACHED LIMIT.\n",
      "\n",
      "Increase the number of iterations (max_iter) or scale the data as shown in:\n",
      "    https://scikit-learn.org/stable/modules/preprocessing.html\n",
      "Please also refer to the documentation for alternative solver options:\n",
      "    https://scikit-learn.org/stable/modules/linear_model.html#logistic-regression\n",
      "  extra_warning_msg=_LOGISTIC_SOLVER_CONVERGENCE_MSG,\n"
     ]
    },
    {
     "data": {
      "text/plain": [
       "LogisticRegression()"
      ]
     },
     "execution_count": 94,
     "metadata": {},
     "output_type": "execute_result"
    }
   ],
   "source": [
    "# Fit the classifier\n",
    "clf.fit(telco[features], telco['Churn'])"
   ]
  },
  {
   "cell_type": "markdown",
   "id": "04b1debb",
   "metadata": {},
   "source": [
    "- The features of a new customer are contained in the variable new_customer. Use your fitted classifier to predict whether or not this customer will churn."
   ]
  },
  {
   "cell_type": "code",
   "execution_count": 96,
   "id": "914ae809",
   "metadata": {},
   "outputs": [
    {
     "data": {
      "text/html": [
       "<div>\n",
       "<style scoped>\n",
       "    .dataframe tbody tr th:only-of-type {\n",
       "        vertical-align: middle;\n",
       "    }\n",
       "\n",
       "    .dataframe tbody tr th {\n",
       "        vertical-align: top;\n",
       "    }\n",
       "\n",
       "    .dataframe thead th {\n",
       "        text-align: right;\n",
       "    }\n",
       "</style>\n",
       "<table border=\"1\" class=\"dataframe\">\n",
       "  <thead>\n",
       "    <tr style=\"text-align: right;\">\n",
       "      <th></th>\n",
       "      <th>Account_Length</th>\n",
       "      <th>Vmail_Message</th>\n",
       "      <th>Day_Mins</th>\n",
       "      <th>Eve_Mins</th>\n",
       "      <th>Night_Mins</th>\n",
       "      <th>Intl_Mins</th>\n",
       "      <th>CustServ_Calls</th>\n",
       "      <th>Intl_Plan</th>\n",
       "      <th>Vmail_Plan</th>\n",
       "      <th>Day_Calls</th>\n",
       "      <th>Day_Charge</th>\n",
       "      <th>Eve_Calls</th>\n",
       "      <th>Eve_Charge</th>\n",
       "      <th>Night_Calls</th>\n",
       "      <th>Night_Charge</th>\n",
       "      <th>Intl_Calls</th>\n",
       "      <th>Intl_Charge</th>\n",
       "    </tr>\n",
       "  </thead>\n",
       "  <tbody>\n",
       "    <tr>\n",
       "      <th>0</th>\n",
       "      <td>91.0</td>\n",
       "      <td>23.0</td>\n",
       "      <td>232.4</td>\n",
       "      <td>186.0</td>\n",
       "      <td>190.5</td>\n",
       "      <td>12.3</td>\n",
       "      <td>3.0</td>\n",
       "      <td>0.0</td>\n",
       "      <td>1.0</td>\n",
       "      <td>97.0</td>\n",
       "      <td>39.51</td>\n",
       "      <td>88.0</td>\n",
       "      <td>15.81</td>\n",
       "      <td>128.0</td>\n",
       "      <td>8.57</td>\n",
       "      <td>3.0</td>\n",
       "      <td>3.32</td>\n",
       "    </tr>\n",
       "  </tbody>\n",
       "</table>\n",
       "</div>"
      ],
      "text/plain": [
       "   Account_Length  Vmail_Message  Day_Mins  Eve_Mins  Night_Mins  Intl_Mins  \\\n",
       "0            91.0           23.0     232.4     186.0       190.5       12.3   \n",
       "\n",
       "   CustServ_Calls  Intl_Plan  Vmail_Plan  Day_Calls  Day_Charge  Eve_Calls  \\\n",
       "0             3.0        0.0         1.0       97.0       39.51       88.0   \n",
       "\n",
       "   Eve_Charge  Night_Calls  Night_Charge  Intl_Calls  Intl_Charge  \n",
       "0       15.81        128.0          8.57         3.0         3.32  "
      ]
     },
     "execution_count": 96,
     "metadata": {},
     "output_type": "execute_result"
    }
   ],
   "source": [
    "new_customer = pd.DataFrame(data={\n",
    "    'Account_Length': [91],\n",
    "    'Vmail_Message': [23],\n",
    "    'Day_Mins': [232.4],\n",
    "    'Eve_Mins': [186.0],\n",
    "    'Night_Mins': [190.5],\n",
    "    'Intl_Mins': [12.3],\n",
    "    'CustServ_Calls': [3],\n",
    "    'Intl_Plan': [0],\n",
    "    'Vmail_Plan': [1],\n",
    "    'Day_Calls': [97],\n",
    "    'Day_Charge': [39.51],\n",
    "    'Eve_Calls': [88],\n",
    "    'Eve_Charge': [15.81],\n",
    "    'Night_Calls': [128],\n",
    "    'Night_Charge': [8.57],\n",
    "    'Intl_Calls': [3],\n",
    "    'Intl_Charge': [3.32]\n",
    "})\n",
    "\n",
    "new_customer = pd.DataFrame(data= np.array([[91.0,23.0,232.4,186.0,190.5,12.3,3.0,0.0,1.0,97.0,39.51,88.0,15.81,128.0,8.57,3.0,3.32]]),\n",
    "                            columns= ['Account_Length', 'Vmail_Message', 'Day_Mins', 'Eve_Mins', 'Night_Mins', 'Intl_Mins', 'CustServ_Calls', 'Intl_Plan', 'Vmail_Plan', 'Day_Calls', 'Day_Charge', 'Eve_Calls', 'Eve_Charge','Night_Calls', 'Night_Charge', 'Intl_Calls', 'Intl_Charge'])\n",
    "new_customer\n",
    "\n"
   ]
  },
  {
   "cell_type": "code",
   "execution_count": 97,
   "id": "16edc1ba",
   "metadata": {},
   "outputs": [
    {
     "name": "stdout",
     "output_type": "stream",
     "text": [
      "[0]\n"
     ]
    }
   ],
   "source": [
    "print(clf.predict(new_customer))"
   ]
  },
  {
   "cell_type": "markdown",
   "id": "ec1f8908",
   "metadata": {},
   "source": [
    "## Training another scikit-learn model\n",
    "\n",
    "All sklearn models have .fit() and .predict() methods like the one you used in the previous exercise for the LogisticRegression model. This feature allows you to easily try many different models to see which one gives you the best performance. To get you more confident with using the sklearn API, in this exercise you'll try fitting a DecisionTreeClassifier instead of a LogisticRegression.\n",
    "\n",
    "Instructions\n",
    "- Import DecisionTreeClassifier from sklearn.tree.\n",
    "- Instantiate the classifier, storing the result in clf.\n",
    "- Train the classifier to the data. The features are contained in the features variable, and the target variable of interest is 'Churn'.\n",
    "- Predict the label of new_customer."
   ]
  },
  {
   "cell_type": "code",
   "execution_count": 98,
   "id": "254295b3",
   "metadata": {},
   "outputs": [
    {
     "name": "stdout",
     "output_type": "stream",
     "text": [
      "[0]\n"
     ]
    }
   ],
   "source": [
    "# Import DecisionTreeClassifier\n",
    "from sklearn.tree import DecisionTreeClassifier\n",
    "\n",
    "# Instantiate the classifier\n",
    "clf = DecisionTreeClassifier()\n",
    "\n",
    "# Fit the classifier\n",
    "clf.fit(telco[features],telco['Churn'])\n",
    "\n",
    "# Predict the label of new_customer\n",
    "print(clf.predict(new_customer))"
   ]
  },
  {
   "cell_type": "markdown",
   "id": "af7a2142",
   "metadata": {},
   "source": [
    "Great work! Let's now learn about how to evaluate model performance when you have more data."
   ]
  },
  {
   "cell_type": "markdown",
   "id": "307f9177",
   "metadata": {},
   "source": [
    "## Evaluating Model Performance\n",
    "7 Evaluating Model Performance.mp4"
   ]
  },
  {
   "cell_type": "markdown",
   "id": "0a4fbcd8",
   "metadata": {},
   "source": [
    "### Creating training and test sets\n",
    "\n",
    "Before you create any model, it is important to split your dataset into two: a training set which will be used to build your churn model, and a test set which will be used to validate your model. To do this, you can use the train_test_split() function from sklearn.model_selection.\n",
    "\n",
    "You'll practice creating training and test sets in this exercise. The telco DataFrame is available in your workspace.\n",
    "\n",
    "Instructions 1/4\n",
    "- Import train_test_split from sklearn.model_selection."
   ]
  },
  {
   "cell_type": "code",
   "execution_count": 102,
   "id": "1539e6d1",
   "metadata": {},
   "outputs": [],
   "source": [
    "# Import train_test_split\n",
    "from sklearn.model_selection import train_test_split"
   ]
  },
  {
   "cell_type": "markdown",
   "id": "38e5e6c0",
   "metadata": {},
   "source": [
    "- Create a feature variable X which holds all of the features of telco by dropping the target variable 'Churn' from telco."
   ]
  },
  {
   "cell_type": "code",
   "execution_count": 99,
   "id": "fc311e88",
   "metadata": {},
   "outputs": [
    {
     "name": "stdout",
     "output_type": "stream",
     "text": [
      "(3333, 17)\n"
     ]
    },
    {
     "data": {
      "text/html": [
       "<div>\n",
       "<style scoped>\n",
       "    .dataframe tbody tr th:only-of-type {\n",
       "        vertical-align: middle;\n",
       "    }\n",
       "\n",
       "    .dataframe tbody tr th {\n",
       "        vertical-align: top;\n",
       "    }\n",
       "\n",
       "    .dataframe thead th {\n",
       "        text-align: right;\n",
       "    }\n",
       "</style>\n",
       "<table border=\"1\" class=\"dataframe\">\n",
       "  <thead>\n",
       "    <tr style=\"text-align: right;\">\n",
       "      <th></th>\n",
       "      <th>Account_Length</th>\n",
       "      <th>Vmail_Message</th>\n",
       "      <th>Day_Mins</th>\n",
       "      <th>Eve_Mins</th>\n",
       "      <th>Night_Mins</th>\n",
       "      <th>Intl_Mins</th>\n",
       "      <th>CustServ_Calls</th>\n",
       "      <th>Intl_Plan</th>\n",
       "      <th>Vmail_Plan</th>\n",
       "      <th>Day_Calls</th>\n",
       "      <th>Day_Charge</th>\n",
       "      <th>Eve_Calls</th>\n",
       "      <th>Eve_Charge</th>\n",
       "      <th>Night_Calls</th>\n",
       "      <th>Night_Charge</th>\n",
       "      <th>Intl_Calls</th>\n",
       "      <th>Intl_Charge</th>\n",
       "    </tr>\n",
       "  </thead>\n",
       "  <tbody>\n",
       "    <tr>\n",
       "      <th>0</th>\n",
       "      <td>128</td>\n",
       "      <td>25</td>\n",
       "      <td>265.1</td>\n",
       "      <td>197.4</td>\n",
       "      <td>244.7</td>\n",
       "      <td>10.0</td>\n",
       "      <td>1</td>\n",
       "      <td>0</td>\n",
       "      <td>1</td>\n",
       "      <td>110</td>\n",
       "      <td>45.07</td>\n",
       "      <td>99</td>\n",
       "      <td>16.78</td>\n",
       "      <td>91</td>\n",
       "      <td>11.01</td>\n",
       "      <td>3</td>\n",
       "      <td>2.70</td>\n",
       "    </tr>\n",
       "    <tr>\n",
       "      <th>1</th>\n",
       "      <td>107</td>\n",
       "      <td>26</td>\n",
       "      <td>161.6</td>\n",
       "      <td>195.5</td>\n",
       "      <td>254.4</td>\n",
       "      <td>13.7</td>\n",
       "      <td>1</td>\n",
       "      <td>0</td>\n",
       "      <td>1</td>\n",
       "      <td>123</td>\n",
       "      <td>27.47</td>\n",
       "      <td>103</td>\n",
       "      <td>16.62</td>\n",
       "      <td>103</td>\n",
       "      <td>11.45</td>\n",
       "      <td>3</td>\n",
       "      <td>3.70</td>\n",
       "    </tr>\n",
       "    <tr>\n",
       "      <th>2</th>\n",
       "      <td>137</td>\n",
       "      <td>0</td>\n",
       "      <td>243.4</td>\n",
       "      <td>121.2</td>\n",
       "      <td>162.6</td>\n",
       "      <td>12.2</td>\n",
       "      <td>0</td>\n",
       "      <td>0</td>\n",
       "      <td>0</td>\n",
       "      <td>114</td>\n",
       "      <td>41.38</td>\n",
       "      <td>110</td>\n",
       "      <td>10.30</td>\n",
       "      <td>104</td>\n",
       "      <td>7.32</td>\n",
       "      <td>5</td>\n",
       "      <td>3.29</td>\n",
       "    </tr>\n",
       "    <tr>\n",
       "      <th>3</th>\n",
       "      <td>84</td>\n",
       "      <td>0</td>\n",
       "      <td>299.4</td>\n",
       "      <td>61.9</td>\n",
       "      <td>196.9</td>\n",
       "      <td>6.6</td>\n",
       "      <td>2</td>\n",
       "      <td>1</td>\n",
       "      <td>0</td>\n",
       "      <td>71</td>\n",
       "      <td>50.90</td>\n",
       "      <td>88</td>\n",
       "      <td>5.26</td>\n",
       "      <td>89</td>\n",
       "      <td>8.86</td>\n",
       "      <td>7</td>\n",
       "      <td>1.78</td>\n",
       "    </tr>\n",
       "    <tr>\n",
       "      <th>4</th>\n",
       "      <td>75</td>\n",
       "      <td>0</td>\n",
       "      <td>166.7</td>\n",
       "      <td>148.3</td>\n",
       "      <td>186.9</td>\n",
       "      <td>10.1</td>\n",
       "      <td>3</td>\n",
       "      <td>1</td>\n",
       "      <td>0</td>\n",
       "      <td>113</td>\n",
       "      <td>28.34</td>\n",
       "      <td>122</td>\n",
       "      <td>12.61</td>\n",
       "      <td>121</td>\n",
       "      <td>8.41</td>\n",
       "      <td>3</td>\n",
       "      <td>2.73</td>\n",
       "    </tr>\n",
       "  </tbody>\n",
       "</table>\n",
       "</div>"
      ],
      "text/plain": [
       "   Account_Length  Vmail_Message  Day_Mins  Eve_Mins  Night_Mins  Intl_Mins  \\\n",
       "0             128             25     265.1     197.4       244.7       10.0   \n",
       "1             107             26     161.6     195.5       254.4       13.7   \n",
       "2             137              0     243.4     121.2       162.6       12.2   \n",
       "3              84              0     299.4      61.9       196.9        6.6   \n",
       "4              75              0     166.7     148.3       186.9       10.1   \n",
       "\n",
       "   CustServ_Calls  Intl_Plan  Vmail_Plan  Day_Calls  Day_Charge  Eve_Calls  \\\n",
       "0               1          0           1        110       45.07         99   \n",
       "1               1          0           1        123       27.47        103   \n",
       "2               0          0           0        114       41.38        110   \n",
       "3               2          1           0         71       50.90         88   \n",
       "4               3          1           0        113       28.34        122   \n",
       "\n",
       "   Eve_Charge  Night_Calls  Night_Charge  Intl_Calls  Intl_Charge  \n",
       "0       16.78           91         11.01           3         2.70  \n",
       "1       16.62          103         11.45           3         3.70  \n",
       "2       10.30          104          7.32           5         3.29  \n",
       "3        5.26           89          8.86           7         1.78  \n",
       "4       12.61          121          8.41           3         2.73  "
      ]
     },
     "execution_count": 99,
     "metadata": {},
     "output_type": "execute_result"
    }
   ],
   "source": [
    "# Create feature variable\n",
    "X = telco.drop(['Churn', 'State','Avg_Night_Calls'], axis=1)\n",
    "print(X.shape)\n",
    "#print(X.columns)\n",
    "X.head()\n"
   ]
  },
  {
   "cell_type": "markdown",
   "id": "20db3158",
   "metadata": {},
   "source": [
    "- Create a target variable y which holds the values of the target variable - 'Churn'."
   ]
  },
  {
   "cell_type": "code",
   "execution_count": 100,
   "id": "3b39d97f",
   "metadata": {},
   "outputs": [],
   "source": [
    "# Create target variable\n",
    "Y = telco['Churn']"
   ]
  },
  {
   "cell_type": "markdown",
   "id": "6a20d674",
   "metadata": {},
   "source": [
    "- Split your model into training and testing sets such that 70% of the data is used for training. Unpack the result into X_train, X_test, y_train, and y_test."
   ]
  },
  {
   "cell_type": "code",
   "execution_count": 104,
   "id": "d7bba693",
   "metadata": {},
   "outputs": [],
   "source": [
    "X_train, X_test, Y_train, Y_test = train_test_split(X,Y,test_size=0.3)\n",
    "#print(X_train.head())\n",
    "#print(X_test.head())\n",
    "#print(Y_train.head())\n",
    "#print(Y_test.head())"
   ]
  },
  {
   "cell_type": "code",
   "execution_count": 159,
   "id": "6bdb8a7d",
   "metadata": {},
   "outputs": [],
   "source": [
    "?train_test_split"
   ]
  },
  {
   "cell_type": "markdown",
   "id": "1c832e02",
   "metadata": {},
   "source": [
    "### Check each sets length\n",
    "\n",
    "Just to make sure train_test_split() worked as you expected it to, check the lengths of X_train and X_test to see how many records are in each set. You can use functions like len() or attributes like .shape to explore this.\n",
    "\n",
    "Instructions\n",
    "- 2666 Train set, 660 Test set.\n",
    "- 2669 Train set, 668 Test set.\n",
    "- 2333 Train set, 1000 Test set.+\n",
    "- 2662 Train set, 667 Test set.\n",
    "\n"
   ]
  },
  {
   "cell_type": "code",
   "execution_count": 105,
   "id": "80a83c83",
   "metadata": {},
   "outputs": [
    {
     "name": "stdout",
     "output_type": "stream",
     "text": [
      "2333\n",
      "1000\n"
     ]
    }
   ],
   "source": [
    "print(len(X_train))\n",
    "print(len(X_test))"
   ]
  },
  {
   "cell_type": "markdown",
   "id": "ec074658",
   "metadata": {},
   "source": [
    "### Computing accuracy\n",
    "\n",
    "Having split your data into training and testing sets, you can now fit your model to the training data and then predict the labels of the test data. That's what you'll practice doing in this exercise.\n",
    "\n",
    "So far, you've used Logistic Regression and Decision Trees. Here, you'll use a RandomForestClassifier, which you can think of as an ensemble of Decision Trees that generally outperforms a single Decision Tree.\n",
    "\n",
    "Your work in the previous exercises has carried over, and the training and test sets are available in the variables X_train, X_test, y_train, and y_test.\n",
    "\n",
    "Instructions\n",
    "- Import RandomForestClassifier from sklearn.ensemble.\n",
    "- Instantiate a RandomForestClassifier as clf.\n",
    "- Fit clf to the training data: X_train and y_train.\n",
    "- Compute the accuracy of clf on the testing data using the .score() method."
   ]
  },
  {
   "cell_type": "code",
   "execution_count": 114,
   "id": "430b314d",
   "metadata": {},
   "outputs": [
    {
     "name": "stdout",
     "output_type": "stream",
     "text": [
      "0.953\n"
     ]
    }
   ],
   "source": [
    "# Import RandomForestClassifier\n",
    "from sklearn.ensemble import RandomForestClassifier\n",
    "\n",
    "# Instantiate the classifier\n",
    "clf_rf = RandomForestClassifier()\n",
    "\n",
    "# Fit to the training data\n",
    "clf_rf.fit(X_train,Y_train)\n",
    "\n",
    "# Compute accuracy\n",
    "print(clf_rf.score(X_test, Y_test))"
   ]
  },
  {
   "cell_type": "code",
   "execution_count": 111,
   "id": "f5f23b91",
   "metadata": {},
   "outputs": [
    {
     "data": {
      "text/plain": [
       "0.861"
      ]
     },
     "execution_count": 111,
     "metadata": {},
     "output_type": "execute_result"
    }
   ],
   "source": [
    "from sklearn.svm import SVC\n",
    "\n",
    "clf_svc = SVC()\n",
    "clf_svc.fit(X_train, Y_train)\n",
    "clf_svc.score(X_test, Y_test)"
   ]
  },
  {
   "cell_type": "code",
   "execution_count": 108,
   "id": "dd5f5fb9",
   "metadata": {},
   "outputs": [
    {
     "data": {
      "text/plain": [
       "0.901"
      ]
     },
     "execution_count": 108,
     "metadata": {},
     "output_type": "execute_result"
    }
   ],
   "source": [
    "clf = DecisionTreeClassifier()\n",
    "clf.fit(X_train, Y_train)\n",
    "clf.score(X_test, Y_test)"
   ]
  },
  {
   "cell_type": "code",
   "execution_count": 113,
   "id": "5e57e253",
   "metadata": {},
   "outputs": [
    {
     "name": "stderr",
     "output_type": "stream",
     "text": [
      "/Users/Andrew/Documents/python/env/lib/python3.7/site-packages/sklearn/linear_model/_logistic.py:818: ConvergenceWarning: lbfgs failed to converge (status=1):\n",
      "STOP: TOTAL NO. of ITERATIONS REACHED LIMIT.\n",
      "\n",
      "Increase the number of iterations (max_iter) or scale the data as shown in:\n",
      "    https://scikit-learn.org/stable/modules/preprocessing.html\n",
      "Please also refer to the documentation for alternative solver options:\n",
      "    https://scikit-learn.org/stable/modules/linear_model.html#logistic-regression\n",
      "  extra_warning_msg=_LOGISTIC_SOLVER_CONVERGENCE_MSG,\n"
     ]
    },
    {
     "data": {
      "text/plain": [
       "0.857"
      ]
     },
     "execution_count": 113,
     "metadata": {},
     "output_type": "execute_result"
    }
   ],
   "source": [
    "clf_lg = LogisticRegression()\n",
    "clf_lg.fit(X_train, Y_train)\n",
    "clf_lg.score(X_test, Y_test)"
   ]
  },
  {
   "cell_type": "markdown",
   "id": "95dd715e",
   "metadata": {},
   "source": [
    "Excellent work! Looks like this random forest classifier outperforms the support vector classifier."
   ]
  },
  {
   "cell_type": "markdown",
   "id": "59faea99",
   "metadata": {},
   "source": [
    "## Model Metrics\n",
    "\n",
    "8 Model Metrics.mp4"
   ]
  },
  {
   "cell_type": "markdown",
   "id": "7d21cb97",
   "metadata": {},
   "source": [
    "### Confusion matrix\n",
    "\n",
    "Using scikit-learn's confusion_matrix() function, you can easily create your classifier's confusion matrix and gain a more nuanced understanding of its performance. It takes in two arguments: The actual labels of your test set - y_test - and your predicted labels.\n",
    "\n",
    "The predicted labels of your Random Forest classifier from the previous exercise are stored in y_pred and were computed as follows:\n",
    "\n",
    "y_pred = clf.predict(X_test)\n",
    "\n",
    "Important note: sklearn, by default, computes the confusion matrix as follows:\n",
    "\n",
    "Notice that the axes are the opposite of what you saw in the video. The metrics themselves remain the same, but keep this in mind when interpreting the table.\n",
    "\n",
    "Instructions 1/3\n",
    "- Import confusion_matrix from sklearn.metrics."
   ]
  },
  {
   "cell_type": "code",
   "execution_count": 115,
   "id": "a5d280d6",
   "metadata": {},
   "outputs": [
    {
     "name": "stdout",
     "output_type": "stream",
     "text": [
      "[0 0 0 0 0 0 0 0 0 0]\n",
      "[0 0 0 0 0 1 0 0 0 0]\n",
      "[[9 0]\n",
      " [1 0]]\n"
     ]
    }
   ],
   "source": [
    "# Import confusion_matrix\n",
    "from sklearn.metrics import confusion_matrix\n",
    "\n",
    "Y_pred = clf_rf.predict(X_test)\n",
    "\n",
    "print(Y_pred[:10])\n",
    "print(Y_test[:10].values)\n",
    "\n",
    "# Print the confusion matrix\n",
    "print(confusion_matrix(Y_test.values[:10],Y_pred[:10]))\n",
    "#         pred\n",
    "# real N  TN FP\n",
    "# real P  FN TP"
   ]
  },
  {
   "cell_type": "code",
   "execution_count": 118,
   "id": "15e64625",
   "metadata": {},
   "outputs": [
    {
     "data": {
      "text/plain": [
       "array([[858,   3],\n",
       "       [ 44,  95]])"
      ]
     },
     "execution_count": 118,
     "metadata": {},
     "output_type": "execute_result"
    }
   ],
   "source": [
    "confusion_matrix(Y_test,Y_pred)"
   ]
  },
  {
   "cell_type": "code",
   "execution_count": 139,
   "id": "be1288cf",
   "metadata": {},
   "outputs": [
    {
     "name": "stdout",
     "output_type": "stream",
     "text": [
      "precision: 0.9693877551020408\n",
      "sensitivity: 0.6834532374100719\n"
     ]
    }
   ],
   "source": [
    "precision = 95 / (95 + 3)\n",
    "sensitivity = 95 / (95 + 44)\n",
    "print(f'precision: {precision}')\n",
    "print(f'sensitivity: {sensitivity}')"
   ]
  },
  {
   "cell_type": "markdown",
   "id": "8e1a56eb",
   "metadata": {},
   "source": [
    "#### Question\n",
    "\n",
    "Analyze the confusion matrix printed in the IPython Shell and select the statement below that is not true.\n",
    "\n",
    "Possible Answers\n",
    "\n",
    "- Your classifier made 934 correct predictions.\n",
    "\n",
    "Incorrect Submission. This is a true statement. The classifier has 842 true negatives and 92 true positives for a total of 934 correct predictions.\n",
    "\n",
    "- The precision of your classifier is 87.61%.\n",
    "\n",
    "Incorrect Submission. This is a true statement. Precision is the number of true positives divided by the sum of true positives and false positives - 92/105, in this case - which is 0.876.\n",
    "- The sensitivity, or recall, of your classifier is 63.44%.\n",
    "\n",
    "Incorrect Submission. This is a true statement. Sensitivity is the number of true positives divided by the sum of true positives and false negatives - 92/145, in this case - which is 0.634.\n",
    "\n",
    "- There are 92 false negatives in your classifier's predictions.\n",
    "\n",
    "Great work! There are 92 true positives and 53 false negatives.\n",
    "\n",
    "- There are 13 false positives in your classifier's predictions.\n",
    "\n",
    "Incorrect Submission. This is a true statement. There are indeed 13 false positives in the classifier's predictions."
   ]
  },
  {
   "cell_type": "markdown",
   "id": "eccd048b",
   "metadata": {},
   "source": [
    "### Varying training set size\n",
    "\n",
    "The size of your training and testing sets influences model performance. Models learn better when they have more training data. However, there's a risk that they overfit to the training data and don't generalize well to new data, so in order to properly evaluate the model's ability to generalize, you need enough testing data. As a result, there is a important balance and trade-off involved between how much you use for training and how much you hold for testing.\n",
    "\n",
    "So far, you've used 70% for training and 30% for testing. Let's now use 80% of the data for training and evaluate how that changes the model's performance.\n",
    "\n",
    "Instructions 1/3\n",
    "- Create training and testing sets, with 80% of data used for training and 20% held for testing."
   ]
  },
  {
   "cell_type": "code",
   "execution_count": 123,
   "id": "75f493a6",
   "metadata": {},
   "outputs": [],
   "source": [
    "# Import train_test_split\n",
    "from sklearn.model_selection import train_test_split\n",
    "\n",
    "# Create feature variable\n",
    "X = telco.drop(['Churn','State','Avg_Night_Calls'], axis=1)\n",
    "\n",
    "# Create target variable\n",
    "y = telco['Churn']\n",
    "\n",
    "# Create training and testing sets\n",
    "X_train, X_test, y_train, y_test = train_test_split(X,y,test_size=0.2)"
   ]
  },
  {
   "cell_type": "markdown",
   "id": "72398b6e",
   "metadata": {},
   "source": [
    "- A RandomForestClassifier has been fit to the new training set. Print its confusion matrix."
   ]
  },
  {
   "cell_type": "code",
   "execution_count": 124,
   "id": "4899bc36",
   "metadata": {},
   "outputs": [
    {
     "name": "stdout",
     "output_type": "stream",
     "text": [
      "[[545   7]\n",
      " [ 32  83]]\n"
     ]
    }
   ],
   "source": [
    "# Import RandomForestClassifier\n",
    "from sklearn.ensemble import RandomForestClassifier\n",
    "\n",
    "# Instantiate the classifier\n",
    "clf = RandomForestClassifier()\n",
    "\n",
    "# Fit to the training data\n",
    "clf.fit(X_train, y_train)\n",
    "\n",
    "# Predict the labels of the test set\n",
    "y_pred = clf.predict(X_test)\n",
    "\n",
    "# Import confusion_matrix\n",
    "from sklearn.metrics import confusion_matrix\n",
    "\n",
    "# Print confusion matrix\n",
    "print(confusion_matrix(y_test,y_pred))"
   ]
  },
  {
   "cell_type": "code",
   "execution_count": 134,
   "id": "d8b00cf1",
   "metadata": {},
   "outputs": [
    {
     "name": "stdout",
     "output_type": "stream",
     "text": [
      "[[26  1]\n",
      " [ 0  3]]\n",
      "[1 0 0 0 0 1 0 0 0 0 0 0 0 0 0 0 0 0 0 0 0 0 1 0 0 0 0 0 0 0]\n",
      "[1 0 0 0 0 1 0 0 0 0 0 0 0 0 0 0 0 0 0 0 0 0 1 0 0 0 0 0 1 0]\n"
     ]
    }
   ],
   "source": [
    "print(confusion_matrix(y_test[:30],y_pred[:30]))\n",
    "print(y_test[:30].values)\n",
    "print(y_pred[:30])"
   ]
  },
  {
   "cell_type": "code",
   "execution_count": null,
   "id": "5353977e",
   "metadata": {},
   "outputs": [],
   "source": [
    "#         pred\n",
    "# real N  TN FP\n",
    "# real P  FN TP"
   ]
  },
  {
   "cell_type": "code",
   "execution_count": 138,
   "id": "e3717e9b",
   "metadata": {},
   "outputs": [
    {
     "name": "stdout",
     "output_type": "stream",
     "text": [
      "precision: 0.9222222222222223\n",
      "sensitivity: 0.7217391304347827\n"
     ]
    }
   ],
   "source": [
    "precision = 83 / (83 + 7)\n",
    "sensitivity = 83 / (83 + 32)\n",
    "print(f'precision: {precision}')\n",
    "print(f'sensitivity: {sensitivity}')"
   ]
  },
  {
   "attachments": {
    "Screenshot%202019-05-13%2006.39.52.png": {
     "image/png": "[encoded data removed]"
    }
   },
   "cell_type": "markdown",
   "id": "00aa5c2c",
   "metadata": {},
   "source": [
    "#### Question\n",
    "\n",
    "As a reminder, here's the output from the previous confusion matrix:\n",
    "\n",
    "![Screenshot%202019-05-13%2006.39.52.png](attachment:Screenshot%202019-05-13%2006.39.52.png)\n",
    "\n",
    "Previous confusion matrix\n",
    "\n",
    "Analyze the new confusion matrix and select the correct statement from the options below.\n",
    "\n",
    "Possible Answers\n",
    "- This classifier made 628 correct predictions, while the previous classifier made 934 correct predictions. As a result, the previous classifier was better.\n",
    "\n",
    "Incorrect Submission. Incorrect. Remember that since we are using more training data here, we have less data available for testing, so the new classifier does not have as many labels to predict.\n",
    "\n",
    "- This classifier has a higher recall than the previous classifier.\n",
    "\n",
    "Incorrect Submission. Incorrect. This classifier has a recall of 63.26%, while the previous classifier had a recall of 63.44%.\n",
    "\n",
    "- This classifier has a higher precision than the previous classifier.+\n",
    "\n",
    "- This classifier has a lower accuracy than the previous classifier.\n",
    "\n",
    "Incorrect Submission. Incorrect. This classifier actually has a slightly higher accuracy than the previous classifier."
   ]
  },
  {
   "cell_type": "code",
   "execution_count": 126,
   "id": "e127d3d1",
   "metadata": {},
   "outputs": [],
   "source": [
    "# New confusion matrix from the lab\n",
    "\n",
    "#<script.py> output:\n",
    "#    [[561   8]\n",
    "#     [ 28  70]]"
   ]
  },
  {
   "cell_type": "markdown",
   "id": "38f68826",
   "metadata": {},
   "source": [
    "### Computing precision and recall\n",
    "\n",
    "The sklearn.metrics submodule has many functions that allow you to easily calculate interesting metrics. So far, you've calculated precision and recall by hand - this is important while you develop your intuition for both these metrics.\n",
    "\n",
    "In practice, once you do, you can leverage the precision_score and recall_score functions that automatically compute precision and recall, respectively. Both work similarly to other functions in sklearn.metrics - they accept 2 arguments: the first is the actual labels (y_test), and the second is the predicted labels (y_pred).\n",
    "\n",
    "Let's now try a training size of 90%.\n",
    "\n",
    "Instructions 1/3\n",
    "- Import precision_score from sklearn.metrics.\n",
    "- Print the precision of the classifier."
   ]
  },
  {
   "cell_type": "code",
   "execution_count": 143,
   "id": "de5a1081",
   "metadata": {},
   "outputs": [
    {
     "name": "stdout",
     "output_type": "stream",
     "text": [
      "0.918918918918919\n",
      "[[284   3]\n",
      " [ 13  34]]\n",
      "precision (manually): 0.918918918918919\n"
     ]
    }
   ],
   "source": [
    "# Import train_test_split\n",
    "from sklearn.model_selection import train_test_split\n",
    "\n",
    "# Create feature variable\n",
    "X = telco.drop(['Churn','State','Avg_Night_Calls'], axis=1)\n",
    "\n",
    "# Create target variable\n",
    "y = telco['Churn']\n",
    "\n",
    "# Create training and testing sets\n",
    "X_train, X_test, y_train, y_test = train_test_split(X, y, test_size=0.1)\n",
    "\n",
    "# Import RandomForestClassifier\n",
    "from sklearn.ensemble import RandomForestClassifier\n",
    "\n",
    "# Instantiate the classifier\n",
    "clf = RandomForestClassifier()\n",
    "\n",
    "# Fit to the training data\n",
    "clf.fit(X_train, y_train)\n",
    "\n",
    "# Predict the labels of the test set\n",
    "y_pred = clf.predict(X_test)\n",
    "\n",
    "# Import precision_score\n",
    "from sklearn.metrics import precision_score\n",
    "\n",
    "# Print the precision\n",
    "print(precision_score(y_test,y_pred))\n",
    "\n",
    "from sklearn.metrics import confusion_matrix\n",
    "cm = confusion_matrix(y_test,y_pred)\n",
    "print(cm)\n",
    "print(f'precision (manually): {cm[1,1]/(cm[1,1]+cm[0,1])}')"
   ]
  },
  {
   "cell_type": "markdown",
   "id": "01aac102",
   "metadata": {},
   "source": [
    "- Update your code to calculate the recall_score instead of the precision_score."
   ]
  },
  {
   "cell_type": "code",
   "execution_count": 144,
   "id": "441e6a78",
   "metadata": {},
   "outputs": [
    {
     "name": "stdout",
     "output_type": "stream",
     "text": [
      "0.723404255319149\n",
      "[[284   3]\n",
      " [ 13  34]]\n",
      "precision (manually): 0.723404255319149\n"
     ]
    }
   ],
   "source": [
    "# Import precision_score\n",
    "from sklearn.metrics import recall_score\n",
    "\n",
    "# Print the precision\n",
    "print(recall_score(y_test,y_pred))\n",
    "\n",
    "from sklearn.metrics import confusion_matrix\n",
    "cm = confusion_matrix(y_test,y_pred)\n",
    "print(cm)\n",
    "print(f'precision (manually): {cm[1,1]/(cm[1,1]+cm[1,0])}')"
   ]
  },
  {
   "cell_type": "markdown",
   "id": "0831c57e",
   "metadata": {},
   "source": [
    "## Other model metrics\n",
    "\n",
    "9 Other model metrics.mp4"
   ]
  },
  {
   "cell_type": "markdown",
   "id": "02a83e5e",
   "metadata": {},
   "source": [
    "### ROC curve\n",
    "\n",
    "Let's now create an ROC curve for our random forest classifier. The first step is to calculate the predicted probabilities output by the classifier for each label using its .predict_proba() method. Then, you can use the roc_curve function from sklearn.metrics to compute the false positive rate and true positive rate, which you can then plot using matplotlib.\n",
    "\n",
    "A RandomForestClassifier with a training set size of 70% has been fit to the data and is available in your workspace as clf.\n",
    "\n",
    "Instructions 1/4\n",
    "- Compute the predicted probabilities of clf.\n",
    "- Import roc_curve from sklearn.metrics.\n",
    "- Use roc_curve() to calculate the false positive rate, true positive rate, and thresholds. Unpack the output into the variables fpr, tpr, and thresholds.\n",
    "- Use plt.plot() to plot the fpr on the x-axis and tpr on the y-axis."
   ]
  },
  {
   "cell_type": "code",
   "execution_count": 145,
   "id": "19ec093f",
   "metadata": {},
   "outputs": [
    {
     "name": "stdout",
     "output_type": "stream",
     "text": [
      "[0.02 0.04 0.26 0.67 0.03]\n",
      "[[0.98 0.02]\n",
      " [0.96 0.04]\n",
      " [0.74 0.26]\n",
      " [0.33 0.67]\n",
      " [0.97 0.03]]\n"
     ]
    }
   ],
   "source": [
    "# Generate the probabilities\n",
    "y_pred_prob = clf.predict_proba(X_test)[:, 1]\n",
    "print(y_pred_prob[:5])\n",
    "print(clf.predict_proba(X_test)[:5])"
   ]
  },
  {
   "cell_type": "code",
   "execution_count": 146,
   "id": "fe4d26c2",
   "metadata": {},
   "outputs": [
    {
     "name": "stdout",
     "output_type": "stream",
     "text": [
      "[0. 0. 0. 0. 0.]\n",
      "[0.         0.0212766  0.04255319 0.08510638 0.17021277]\n",
      "[1.99 0.99 0.98 0.96 0.87]\n"
     ]
    },
    {
     "data": {
      "image/png": "[encoded data removed]",
      "text/plain": [
       "<Figure size 432x288 with 1 Axes>"
      ]
     },
     "metadata": {
      "needs_background": "light"
     },
     "output_type": "display_data"
    }
   ],
   "source": [
    "# Import roc_curve\n",
    "from sklearn.metrics import roc_curve\n",
    "\n",
    "# Calculate the roc metrics\n",
    "fpr, tpr, thresholds = roc_curve(y_test, y_pred_prob)\n",
    "print(fpr[:5])\n",
    "print(tpr[:5])\n",
    "print(thresholds[:5])\n",
    "# Plot the ROC curve\n",
    "plt.plot(fpr,tpr)\n",
    "\n",
    "# Add labels and diagonal line\n",
    "plt.xlabel(\"False Positive Rate\")\n",
    "plt.ylabel(\"True Positive Rate\")\n",
    "plt.plot([0, 1], [0, 1], \"k--\")\n",
    "plt.show()"
   ]
  },
  {
   "cell_type": "markdown",
   "id": "d0abd104",
   "metadata": {},
   "source": [
    "### Area under the curve\n",
    "\n",
    "The ROC curve from the previous exercise is viewable on the right. Visually, it looks like a well-performing model. Let's quantify this by computing the area under the curve.\n",
    "\n",
    "Instructions 1/2\n",
    "- Import roc_auc_score from sklearn.metrics.\n",
    "- Print the area under the ROC curve."
   ]
  },
  {
   "cell_type": "code",
   "execution_count": 147,
   "id": "72e30411",
   "metadata": {},
   "outputs": [
    {
     "name": "stdout",
     "output_type": "stream",
     "text": [
      "0.9044777225887759\n"
     ]
    }
   ],
   "source": [
    "# Import roc_auc_score\n",
    "from sklearn.metrics import roc_auc_score\n",
    "\n",
    "# Print the AUC\n",
    "print(roc_auc_score(y_test,y_pred_prob))"
   ]
  },
  {
   "cell_type": "markdown",
   "id": "2dd722d7",
   "metadata": {},
   "source": [
    "Great work! This indicates that this baseline random forest classifier is quite good!"
   ]
  },
  {
   "attachments": {
    "Screen%20Shot%202022-12-12%20at%202.03.07%20PM.png": {
     "image/png": "[encoded data removed]"
    }
   },
   "cell_type": "markdown",
   "id": "42ded5e1",
   "metadata": {},
   "source": [
    "### Precision-recall curve\n",
    "\n",
    "Another way to evaluate model performance is using a precision-recall curve, which shows the tradeoff between precision and recall for different thresholds.\n",
    "\n",
    "On the right, a precision-recall curve has been generated. Spend some time studying it and then select the statement below that is not true.\n",
    "\n",
    "![Screen%20Shot%202022-12-12%20at%202.03.07%20PM.png](attachment:Screen%20Shot%202022-12-12%20at%202.03.07%20PM.png)\n",
    "\n",
    "Instructions\n",
    "\n",
    "Possible Answers\n",
    "- This curves summarize the tradeoff between the true positive rate and the positive predictive value.\n",
    "\n",
    "Incorrect Submission. This is a true statement.\n",
    "\n",
    "- A high area under the curve represents both high recall and high precision.\n",
    "\n",
    "Incorrect Submission. This is a true statement.\n",
    "\n",
    "- Recall is synonymous with specificity, and precision is identical with positive predictive value.\n",
    "\n",
    "Great job! Recall is actually synonymous with sensitivity.\n",
    "\n",
    "- Precision-recall curves tend to be more informative when you have imbalanced classes.\n",
    "\n",
    "Incorrect Submission. This is a true statement."
   ]
  },
  {
   "cell_type": "markdown",
   "id": "b6123109",
   "metadata": {},
   "source": [
    "### F1 score\n",
    "\n",
    "As you've discovered, there's a tradeoff between precision and recall. Both are important metrics, and depending on how the business is trying to model churn, you may want to focus on optimizing one over the other. Often, stakeholders are interested in a single metric that can quantify model performance. The AUC is one metric you can use in these cases, and another is the F1 score, which is calculated as below:\n",
    "\n",
    "2 * (precision * recall) / (precision + recall)\n",
    "The advantage of the F1 score is it incorporates both precision and recall into a single metric, and a high F1 score is a sign of a well-performing model, even in situations where you might have imbalanced classes. In scikit-learn, you can compute the f-1 score using using the f1_score function.\n",
    "\n",
    "Instructions\n",
    "- Import f1_score from sklearn.metrics.\n",
    "- Print the F1 score of the trained random forest."
   ]
  },
  {
   "cell_type": "code",
   "execution_count": 148,
   "id": "f5ac270a",
   "metadata": {},
   "outputs": [
    {
     "name": "stdout",
     "output_type": "stream",
     "text": [
      "0.7951807228915662\n"
     ]
    }
   ],
   "source": [
    "# Instantiate the classifier\n",
    "clf = RandomForestClassifier()\n",
    "\n",
    "# Fit to the training data\n",
    "clf.fit(X_train, y_train)\n",
    "\n",
    "# Predict the labels of the test set\n",
    "y_pred = clf.predict(X_test)\n",
    "\n",
    "# Import f1_score\n",
    "from sklearn.metrics import f1_score\n",
    "\n",
    "# Print the F1 score\n",
    "print(f1_score(y_test,y_pred))"
   ]
  },
  {
   "cell_type": "markdown",
   "id": "05d4900b",
   "metadata": {},
   "source": [
    "Fantastic work, and congratulations on completing Chapter 3! It's now time to learn how to boost model performance using hyperparameter tuning."
   ]
  },
  {
   "cell_type": "markdown",
   "id": "3c1d6b74",
   "metadata": {},
   "source": [
    "## Tuning your model\n",
    "11 Tuning your model.mp4\n"
   ]
  },
  {
   "cell_type": "markdown",
   "id": "9fce5ace",
   "metadata": {},
   "source": [
    "### Tuning the number of features\n",
    "\n",
    "The default hyperparameters used by your models are not optimized for your data. The goal of grid search cross-validation is to identify those hyperparameters that lead to optimal model performance. In the video, you saw how the random forest's n_estimators hyperparameter was tuned. Here, you'll practice tuning the max_features hyperparameter. The cv hyperparameter is set to 3 so that the code executes quickly.\n",
    "\n",
    "Hyperparameter\tPurpose\n",
    "\n",
    "max_features\tNumber of features for best split\n",
    "\n",
    "A random forest is an ensemble of many decision trees. The n_estimators hyperparameter controls the number of trees to use in the forest, while the max_features hyperparameter controls the number features the random forest should consider when looking for the best split at decision tree.\n",
    "\n",
    "A random forest classifier has been instantiated for you as clf.\n",
    "\n",
    "Instructions 1/4\n",
    "- Import GridSearchCV from sklearn.model_selection.\n",
    "- Specify the hyperparameter grid by creating a dictionary with 'max_features' as the key and a list consisting of 'auto', 'sqrt', 'log2' as the value.\n",
    "- Perform grid search cross-validation using GridSearchCV. First, instantiate the estimator, and then fit it to the data.\n",
    "- Print the optimal value for 'max_features' using the .best_params_ attribute of grid_search.\n"
   ]
  },
  {
   "cell_type": "code",
   "execution_count": 151,
   "id": "722e0742",
   "metadata": {},
   "outputs": [
    {
     "name": "stdout",
     "output_type": "stream",
     "text": [
      "{'max_features': 'log2'}\n"
     ]
    }
   ],
   "source": [
    "# Import GridSearchCV\n",
    "from sklearn.model_selection import GridSearchCV\n",
    "\n",
    "# Create the hyperparameter grid\n",
    "param_grid = {'max_features': ['auto', 'sqrt', 'log2']}\n",
    "\n",
    "# Call GridSearchCV\n",
    "grid_search = GridSearchCV(clf, param_grid, cv=3)\n",
    "\n",
    "# Fit the model\n",
    "grid_search.fit(X, y)\n",
    "#print(X[:5])\n",
    "#print(y[:5])\n",
    "\n",
    "# Print the optimal parameters\n",
    "print(grid_search.best_params_)"
   ]
  },
  {
   "cell_type": "markdown",
   "id": "78f3a9d3",
   "metadata": {},
   "source": [
    "Great work! It looks like taking a log of the number of features leads to optimal model performance. By default, the model takes the square root of the number of features."
   ]
  },
  {
   "cell_type": "markdown",
   "id": "a6870294",
   "metadata": {},
   "source": [
    "### Tuning other hyperparameters\n",
    "\n",
    "The power of GridSearchCV really comes into play when you're tuning multiple hyperparameters, as then the algorithm tries out all possible combinations of hyperparameters to identify the best combination. Here, you'll tune the following random forest hyperparameters:\n",
    "\n",
    "Hyperparameter\tPurpose\n",
    "\n",
    "criterion\tQuality of Split\n",
    "\n",
    "max_features\tNumber of features for best split\n",
    "\n",
    "max_depth\tMax depth of tree\n",
    "\n",
    "bootstrap\tWhether Bootstrap samples are used\n",
    "\n",
    "The hyperparameter grid has been specified for you, along with a random forest classifier called clf.\n",
    "\n",
    "Instructions 1/3\n",
    "- Instantiate the GridSearchCV object using clf and param_grid.\n",
    "- Fit grid_search to X and y."
   ]
  },
  {
   "cell_type": "code",
   "execution_count": 152,
   "id": "b553fda2",
   "metadata": {},
   "outputs": [
    {
     "name": "stdout",
     "output_type": "stream",
     "text": [
      "{'bootstrap': True, 'criterion': 'entropy', 'max_depth': None, 'max_features': 10}\n"
     ]
    }
   ],
   "source": [
    "# Import GridSearchCV\n",
    "from sklearn.model_selection import GridSearchCV\n",
    "\n",
    "# Create the hyperparameter grid\n",
    "param_grid = {\"max_depth\": [3, None],\n",
    "              \"max_features\": [1, 3, 10],\n",
    "              \"bootstrap\": [True, False],\n",
    "              \"criterion\": [\"gini\", \"entropy\"]}\n",
    "\n",
    "# Call GridSearchCV\n",
    "grid_search = GridSearchCV(clf, param_grid, cv=3)\n",
    "\n",
    "# Fit the model\n",
    "grid_search.fit(X,y)\n",
    "\n",
    "# Print the best hyperparameters\n",
    "print(grid_search.best_params_) "
   ]
  },
  {
   "cell_type": "markdown",
   "id": "8e416c0b",
   "metadata": {},
   "source": [
    "Question\n",
    "\n",
    "Use the .best_params_ attribute of grid_search to identify the best combination of parameters, hit \"Run Code\", and then select the correct option.\n",
    "\n",
    "Possible Answers\n",
    "\n",
    "- {'bootstrap': True, 'criterion': 'entropy', 'max_depth': None, 'max_features': 10}+\n",
    "- {'bootstrap': True, 'criterion': 'gini', 'max_depth': None, 'max_features': 10}\n",
    "- {'bootstrap': False, 'criterion': 'gini', 'max_depth': None, 'max_features': 10}\n",
    "- {'bootstrap': True, 'criterion': 'entropy', 'max_depth': None, 'max_features': 3}"
   ]
  },
  {
   "cell_type": "markdown",
   "id": "42bfaaed",
   "metadata": {},
   "source": [
    "Indeed! Notice how the grid search took longer this time. That's because the grid to search through was larger compared to the previous exercise."
   ]
  },
  {
   "cell_type": "markdown",
   "id": "765b0a03",
   "metadata": {},
   "source": [
    "### Randomized search\n",
    "\n",
    "-- Call GridSearchCV\n",
    "\n",
    "grid_search = GridSearchCV(clf, param_grid)\n",
    "\n",
    "-- Fit the model\n",
    "\n",
    "grid_search.fit(X, y)\n",
    "\n",
    "In the above chunk of code from the previous exercise, you may have noticed that the first line of code did not take much time to run, while the call to .fit() took several seconds to execute.\n",
    "\n",
    "This is because .fit() is what actually performs the grid search, and in our case, it was grid with many different combinations. As the hyperparameter grid gets larger, grid search becomes slower. In order to solve this problem, instead of trying out every single combination of values, we could randomly jump around the grid and try different combinations. There's a small possibility we may miss the best combination, but we would save a lot of time, or be able to tune more hyperparameters in the same amount of time.\n",
    "\n",
    "In scikit-learn, you can do this using RandomizedSearchCV. It has the same API as GridSearchCV, except that you need to specify a parameter distribution that it can sample from instead of specific hyperparameter values. Let's try it out now! The parameter distribution has been set up for you, along with a random forest classifier called clf.\n",
    "\n",
    "Instructions 1/3\n",
    "- Import RandomizedSearchCV from sklearn.model_selection.\n",
    "- Notice how \"max_features\" has been specified. Call RandomizedSearchCV using clf and param_dist.\n",
    "- Perform the randomized search by fitting to the data and then print the best parameters."
   ]
  },
  {
   "cell_type": "code",
   "execution_count": 156,
   "id": "872ae4af",
   "metadata": {},
   "outputs": [
    {
     "ename": "TypeError",
     "evalue": "Parameter value is not iterable or distribution (key='max_features', value=9)",
     "output_type": "error",
     "traceback": [
      "\u001b[0;31m---------------------------------------------------------------------------\u001b[0m",
      "\u001b[0;31mTypeError\u001b[0m                                 Traceback (most recent call last)",
      "\u001b[0;32m<ipython-input-156-7595b0e04b9b>\u001b[0m in \u001b[0;36m<module>\u001b[0;34m\u001b[0m\n\u001b[1;32m     13\u001b[0m \u001b[0;34m\u001b[0m\u001b[0m\n\u001b[1;32m     14\u001b[0m \u001b[0;31m# Fit the model\u001b[0m\u001b[0;34m\u001b[0m\u001b[0;34m\u001b[0m\u001b[0;34m\u001b[0m\u001b[0m\n\u001b[0;32m---> 15\u001b[0;31m \u001b[0mrandom_search\u001b[0m\u001b[0;34m.\u001b[0m\u001b[0mfit\u001b[0m\u001b[0;34m(\u001b[0m\u001b[0mX\u001b[0m\u001b[0;34m,\u001b[0m\u001b[0my\u001b[0m\u001b[0;34m)\u001b[0m\u001b[0;34m\u001b[0m\u001b[0;34m\u001b[0m\u001b[0m\n\u001b[0m\u001b[1;32m     16\u001b[0m \u001b[0;34m\u001b[0m\u001b[0m\n\u001b[1;32m     17\u001b[0m \u001b[0;31m# Print best parameters\u001b[0m\u001b[0;34m\u001b[0m\u001b[0;34m\u001b[0m\u001b[0;34m\u001b[0m\u001b[0m\n",
      "\u001b[0;32m~/Documents/python/env/lib/python3.7/site-packages/sklearn/model_selection/_search.py\u001b[0m in \u001b[0;36mfit\u001b[0;34m(self, X, y, groups, **fit_params)\u001b[0m\n\u001b[1;32m    889\u001b[0m                 \u001b[0;32mreturn\u001b[0m \u001b[0mresults\u001b[0m\u001b[0;34m\u001b[0m\u001b[0;34m\u001b[0m\u001b[0m\n\u001b[1;32m    890\u001b[0m \u001b[0;34m\u001b[0m\u001b[0m\n\u001b[0;32m--> 891\u001b[0;31m             \u001b[0mself\u001b[0m\u001b[0;34m.\u001b[0m\u001b[0m_run_search\u001b[0m\u001b[0;34m(\u001b[0m\u001b[0mevaluate_candidates\u001b[0m\u001b[0;34m)\u001b[0m\u001b[0;34m\u001b[0m\u001b[0;34m\u001b[0m\u001b[0m\n\u001b[0m\u001b[1;32m    892\u001b[0m \u001b[0;34m\u001b[0m\u001b[0m\n\u001b[1;32m    893\u001b[0m             \u001b[0;31m# multimetric is determined here because in the case of a callable\u001b[0m\u001b[0;34m\u001b[0m\u001b[0;34m\u001b[0m\u001b[0;34m\u001b[0m\u001b[0m\n",
      "\u001b[0;32m~/Documents/python/env/lib/python3.7/site-packages/sklearn/model_selection/_search.py\u001b[0m in \u001b[0;36m_run_search\u001b[0;34m(self, evaluate_candidates)\u001b[0m\n\u001b[1;32m   1766\u001b[0m         evaluate_candidates(\n\u001b[1;32m   1767\u001b[0m             ParameterSampler(\n\u001b[0;32m-> 1768\u001b[0;31m                 \u001b[0mself\u001b[0m\u001b[0;34m.\u001b[0m\u001b[0mparam_distributions\u001b[0m\u001b[0;34m,\u001b[0m \u001b[0mself\u001b[0m\u001b[0;34m.\u001b[0m\u001b[0mn_iter\u001b[0m\u001b[0;34m,\u001b[0m \u001b[0mrandom_state\u001b[0m\u001b[0;34m=\u001b[0m\u001b[0mself\u001b[0m\u001b[0;34m.\u001b[0m\u001b[0mrandom_state\u001b[0m\u001b[0;34m\u001b[0m\u001b[0;34m\u001b[0m\u001b[0m\n\u001b[0m\u001b[1;32m   1769\u001b[0m             )\n\u001b[1;32m   1770\u001b[0m         )\n",
      "\u001b[0;32m~/Documents/python/env/lib/python3.7/site-packages/sklearn/model_selection/_search.py\u001b[0m in \u001b[0;36m__init__\u001b[0;34m(self, param_distributions, n_iter, random_state)\u001b[0m\n\u001b[1;32m    266\u001b[0m                     raise TypeError(\n\u001b[1;32m    267\u001b[0m                         \u001b[0;34m\"Parameter value is not iterable \"\u001b[0m\u001b[0;34m\u001b[0m\u001b[0;34m\u001b[0m\u001b[0m\n\u001b[0;32m--> 268\u001b[0;31m                         \u001b[0;34m\"or distribution (key={!r}, value={!r})\"\u001b[0m\u001b[0;34m.\u001b[0m\u001b[0mformat\u001b[0m\u001b[0;34m(\u001b[0m\u001b[0mkey\u001b[0m\u001b[0;34m,\u001b[0m \u001b[0mdist\u001b[0m\u001b[0;34m[\u001b[0m\u001b[0mkey\u001b[0m\u001b[0;34m]\u001b[0m\u001b[0;34m)\u001b[0m\u001b[0;34m\u001b[0m\u001b[0;34m\u001b[0m\u001b[0m\n\u001b[0m\u001b[1;32m    269\u001b[0m                     )\n\u001b[1;32m    270\u001b[0m         \u001b[0mself\u001b[0m\u001b[0;34m.\u001b[0m\u001b[0mn_iter\u001b[0m \u001b[0;34m=\u001b[0m \u001b[0mn_iter\u001b[0m\u001b[0;34m\u001b[0m\u001b[0;34m\u001b[0m\u001b[0m\n",
      "\u001b[0;31mTypeError\u001b[0m: Parameter value is not iterable or distribution (key='max_features', value=9)"
     ]
    }
   ],
   "source": [
    "# Import RandomizedSearchCV\n",
    "from sklearn.model_selection import RandomizedSearchCV\n",
    "from random import randint\n",
    "\n",
    "# Create the hyperparameter grid\n",
    "param_dist = {\"max_depth\": [3, None],\n",
    "              \"max_features\": randint(1, 11),\n",
    "              \"bootstrap\": [True, False],\n",
    "              \"criterion\": [\"gini\", \"entropy\"]}\n",
    "\n",
    "# Call RandomizedSearchCV\n",
    "random_search = RandomizedSearchCV(clf, param_dist, cv=3)\n",
    "\n",
    "# Fit the model\n",
    "random_search.fit(X,y)\n",
    "\n",
    "# Print best parameters\n",
    "print(random_search.best_params_)"
   ]
  },
  {
   "cell_type": "markdown",
   "id": "e3f5772b",
   "metadata": {},
   "source": [
    "## Feature importances\n",
    "\n",
    "12 Feature importances.mp4"
   ]
  },
  {
   "cell_type": "markdown",
   "id": "80fb4c67",
   "metadata": {},
   "source": [
    "### Visualizing feature importances\n",
    "\n",
    "Your random forest classifier from earlier exercises has been fit to the telco data and is available to you as clf. Let's visualize the feature importances and get a sense for what the drivers of churn are, using matplotlib's barh to create a horizontal bar plot of feature importances.\n",
    "\n",
    "Instructions\n",
    "- Calculate the feature importances of clf.\n",
    "- Use plt.barh() to create a horizontal bar plot of importances."
   ]
  },
  {
   "cell_type": "code",
   "execution_count": 162,
   "id": "da0f549e",
   "metadata": {},
   "outputs": [
    {
     "data": {
      "image/png": "[encoded data removed]",
      "text/plain": [
       "<Figure size 432x288 with 1 Axes>"
      ]
     },
     "metadata": {
      "needs_background": "light"
     },
     "output_type": "display_data"
    }
   ],
   "source": [
    "# Calculate feature importances\n",
    "importances = clf.feature_importances_\n",
    "\n",
    "# Create plot\n",
    "#plt.barh(range(X.shape[1]), importances)\n",
    "plt.barh(X.columns.values, importances)\n",
    "plt.show()"
   ]
  },
  {
   "cell_type": "code",
   "execution_count": 161,
   "id": "8b038f05",
   "metadata": {},
   "outputs": [
    {
     "name": "stdout",
     "output_type": "stream",
     "text": [
      "['Account_Length' 'Vmail_Message' 'Day_Mins' 'Eve_Mins' 'Night_Mins'\n",
      " 'Intl_Mins' 'CustServ_Calls' 'Intl_Plan' 'Vmail_Plan' 'Day_Calls'\n",
      " 'Day_Charge' 'Eve_Calls' 'Eve_Charge' 'Night_Calls' 'Night_Charge'\n",
      " 'Intl_Calls' 'Intl_Charge']\n",
      "range(0, 17)\n"
     ]
    }
   ],
   "source": [
    "print(X.columns.values)\n",
    "print(range(X.shape[1]))"
   ]
  },
  {
   "cell_type": "markdown",
   "id": "2ba1df78",
   "metadata": {},
   "source": [
    "Well done! But this is not any easier to interpret... let's sort the importances and add labels so we can properly interpret the plot."
   ]
  },
  {
   "cell_type": "markdown",
   "id": "27c7d2f8",
   "metadata": {},
   "source": [
    "### Improving the plot\n",
    "\n",
    "In order to make the plot more readable, we need to do achieve two goals:\n",
    "\n",
    "Re-order the bars in ascending order.\n",
    "Add labels to the plot that correspond to the feature names.\n",
    "To do this, we'll take advantage of NumPy indexing. The .argsort() method sorts an array and returns the indices. We'll use these indices to achieve both goals.\n",
    "\n",
    "Instructions\n",
    "- Calculate the sorted indices of importances by using np.argsort() on importances.\n",
    "- Create the sorted labels by accessing the columns of X and indexing by sorted_index.\n",
    "- Create the plot by indexing importances using sorted_index and specifying the keyword argument tick_label=labels."
   ]
  },
  {
   "cell_type": "code",
   "execution_count": 164,
   "id": "ab35d210",
   "metadata": {},
   "outputs": [
    {
     "name": "stdout",
     "output_type": "stream",
     "text": [
      "[ 8 11 13  1  0  9 14 16  4  5 15  3 12  7  6 10  2]\n",
      "[0.03048811 0.03014717 0.14904235 0.06749202 0.04032262 0.04637878\n",
      " 0.11748723 0.07498769 0.02522531 0.03229512 0.13368422 0.02720678\n",
      " 0.07198758 0.02811705 0.03681274 0.05045438 0.03787085]\n"
     ]
    },
    {
     "data": {
      "image/png": "[encoded data removed]",
      "text/plain": [
       "<Figure size 432x288 with 1 Axes>"
      ]
     },
     "metadata": {
      "needs_background": "light"
     },
     "output_type": "display_data"
    }
   ],
   "source": [
    "# Sort importances\n",
    "sorted_index = np.argsort(importances)\n",
    "print(sorted_index)\n",
    "print(importances)\n",
    "\n",
    "# Create labels\n",
    "labels = X.columns[sorted_index]\n",
    "\n",
    "# Clear current plot\n",
    "plt.clf()\n",
    "\n",
    "# Create plot\n",
    "plt.barh(range(X.shape[1]), importances[sorted_index], tick_label=labels)\n",
    "plt.show()"
   ]
  },
  {
   "cell_type": "code",
   "execution_count": 179,
   "id": "abf3ad44",
   "metadata": {},
   "outputs": [
    {
     "name": "stdout",
     "output_type": "stream",
     "text": [
      "Vmail_Plan        0.025225\n",
      "Eve_Calls         0.027207\n",
      "Night_Calls       0.028117\n",
      "Vmail_Message     0.030147\n",
      "Account_Length    0.030488\n",
      "Day_Calls         0.032295\n",
      "Night_Charge      0.036813\n",
      "Intl_Charge       0.037871\n",
      "Night_Mins        0.040323\n",
      "Intl_Mins         0.046379\n",
      "Intl_Calls        0.050454\n",
      "Eve_Mins          0.067492\n",
      "Eve_Charge        0.071988\n",
      "Intl_Plan         0.074988\n",
      "CustServ_Calls    0.117487\n",
      "Day_Charge        0.133684\n",
      "Day_Mins          0.149042\n",
      "dtype: float64\n"
     ]
    },
    {
     "data": {
      "text/plain": [
       "<BarContainer object of 17 artists>"
      ]
     },
     "execution_count": 179,
     "metadata": {},
     "output_type": "execute_result"
    },
    {
     "data": {
      "image/png": "[encoded data removed]",
      "text/plain": [
       "<Figure size 432x288 with 1 Axes>"
      ]
     },
     "metadata": {
      "needs_background": "light"
     },
     "output_type": "display_data"
    }
   ],
   "source": [
    "# AK: another way\n",
    "df = pd.Series(data=importances,index=X.columns.values)\n",
    "df.sort_values(inplace=True,ascending=True)\n",
    "print(df)\n",
    "plt.barh(df.index.values,df.values)"
   ]
  },
  {
   "cell_type": "code",
   "execution_count": 167,
   "id": "7f249b56",
   "metadata": {},
   "outputs": [],
   "source": [
    "?pd.DataFrame"
   ]
  },
  {
   "cell_type": "code",
   "execution_count": 174,
   "id": "96a73874",
   "metadata": {},
   "outputs": [],
   "source": [
    "?pd.DataFrame.sort_values"
   ]
  },
  {
   "cell_type": "markdown",
   "id": "f75c1138",
   "metadata": {},
   "source": [
    "Super! Now you have a good understanding of which features are important in driving churn."
   ]
  },
  {
   "cell_type": "markdown",
   "id": "fd4d82da",
   "metadata": {},
   "source": [
    "Take a look at the feature importance plot you just made and select the correct option below.\n",
    "\n",
    "Possible Answers\n",
    "\n",
    "- CustServ_Calls, Day_Mins and Day_Charge are not important in predicting churn.\n",
    "- Intl_Charge is more important than Intl_Calls in predicting churn.\n",
    "- Vmail_Plan is the least important feature in predicting churn.+\n",
    "- Night_Mins and Night_Charge are equally important in predicting churn.\n",
    "press\n"
   ]
  },
  {
   "cell_type": "markdown",
   "id": "eca4f730",
   "metadata": {},
   "source": [
    "Correct! The plot tells us that CustServ_Calls, Day_Mins and Day_Charge are the most important drivers of churn. What if we added additional sources of data and more features? Let's explore this now."
   ]
  },
  {
   "cell_type": "markdown",
   "id": "4e15317d",
   "metadata": {},
   "source": [
    "## Adding new features\n",
    "13 Adding new features.mp4"
   ]
  },
  {
   "cell_type": "markdown",
   "id": "6116dff4",
   "metadata": {},
   "source": [
    "### Does model performance improve?\n",
    "\n",
    "6 new features have been added to the telco DataFrame:\n",
    "\n",
    "- Region_Code\n",
    "- Cost_Call\n",
    "- Total_Charge\n",
    "- Total_Minutes\n",
    "- Total_Calls\n",
    "- Min_Call\n",
    "- Will this improve the churn model? Let's find out!\n",
    "\n",
    "Instructions 1/3\n",
    "- Create training and test sets using X and y. Hold 30% of the data for testing.\n",
    "- Instantiate a RandomForestClassifier as clf and fit it to the training data.\n",
    "- Print the accuracy of the trained classifier using .score()."
   ]
  },
  {
   "cell_type": "code",
   "execution_count": 181,
   "id": "3791a4b9",
   "metadata": {},
   "outputs": [
    {
     "data": {
      "text/html": [
       "<div>\n",
       "<style scoped>\n",
       "    .dataframe tbody tr th:only-of-type {\n",
       "        vertical-align: middle;\n",
       "    }\n",
       "\n",
       "    .dataframe tbody tr th {\n",
       "        vertical-align: top;\n",
       "    }\n",
       "\n",
       "    .dataframe thead th {\n",
       "        text-align: right;\n",
       "    }\n",
       "</style>\n",
       "<table border=\"1\" class=\"dataframe\">\n",
       "  <thead>\n",
       "    <tr style=\"text-align: right;\">\n",
       "      <th></th>\n",
       "      <th>Account_Length</th>\n",
       "      <th>Vmail_Message</th>\n",
       "      <th>Day_Mins</th>\n",
       "      <th>Eve_Mins</th>\n",
       "      <th>Night_Mins</th>\n",
       "      <th>Intl_Mins</th>\n",
       "      <th>CustServ_Calls</th>\n",
       "      <th>Churn</th>\n",
       "      <th>Intl_Plan</th>\n",
       "      <th>Vmail_Plan</th>\n",
       "      <th>Day_Calls</th>\n",
       "      <th>Day_Charge</th>\n",
       "      <th>Eve_Calls</th>\n",
       "      <th>Eve_Charge</th>\n",
       "      <th>Night_Calls</th>\n",
       "      <th>Night_Charge</th>\n",
       "      <th>Intl_Calls</th>\n",
       "      <th>Intl_Charge</th>\n",
       "      <th>State</th>\n",
       "      <th>Avg_Night_Calls</th>\n",
       "    </tr>\n",
       "  </thead>\n",
       "  <tbody>\n",
       "    <tr>\n",
       "      <th>0</th>\n",
       "      <td>128</td>\n",
       "      <td>25</td>\n",
       "      <td>265.1</td>\n",
       "      <td>197.4</td>\n",
       "      <td>244.7</td>\n",
       "      <td>10.0</td>\n",
       "      <td>1</td>\n",
       "      <td>0</td>\n",
       "      <td>0</td>\n",
       "      <td>1</td>\n",
       "      <td>110</td>\n",
       "      <td>45.07</td>\n",
       "      <td>99</td>\n",
       "      <td>16.78</td>\n",
       "      <td>91</td>\n",
       "      <td>11.01</td>\n",
       "      <td>3</td>\n",
       "      <td>2.70</td>\n",
       "      <td>KS</td>\n",
       "      <td>2.689011</td>\n",
       "    </tr>\n",
       "    <tr>\n",
       "      <th>1</th>\n",
       "      <td>107</td>\n",
       "      <td>26</td>\n",
       "      <td>161.6</td>\n",
       "      <td>195.5</td>\n",
       "      <td>254.4</td>\n",
       "      <td>13.7</td>\n",
       "      <td>1</td>\n",
       "      <td>0</td>\n",
       "      <td>0</td>\n",
       "      <td>1</td>\n",
       "      <td>123</td>\n",
       "      <td>27.47</td>\n",
       "      <td>103</td>\n",
       "      <td>16.62</td>\n",
       "      <td>103</td>\n",
       "      <td>11.45</td>\n",
       "      <td>3</td>\n",
       "      <td>3.70</td>\n",
       "      <td>OH</td>\n",
       "      <td>2.469903</td>\n",
       "    </tr>\n",
       "    <tr>\n",
       "      <th>2</th>\n",
       "      <td>137</td>\n",
       "      <td>0</td>\n",
       "      <td>243.4</td>\n",
       "      <td>121.2</td>\n",
       "      <td>162.6</td>\n",
       "      <td>12.2</td>\n",
       "      <td>0</td>\n",
       "      <td>0</td>\n",
       "      <td>0</td>\n",
       "      <td>0</td>\n",
       "      <td>114</td>\n",
       "      <td>41.38</td>\n",
       "      <td>110</td>\n",
       "      <td>10.30</td>\n",
       "      <td>104</td>\n",
       "      <td>7.32</td>\n",
       "      <td>5</td>\n",
       "      <td>3.29</td>\n",
       "      <td>NJ</td>\n",
       "      <td>1.563462</td>\n",
       "    </tr>\n",
       "    <tr>\n",
       "      <th>3</th>\n",
       "      <td>84</td>\n",
       "      <td>0</td>\n",
       "      <td>299.4</td>\n",
       "      <td>61.9</td>\n",
       "      <td>196.9</td>\n",
       "      <td>6.6</td>\n",
       "      <td>2</td>\n",
       "      <td>0</td>\n",
       "      <td>1</td>\n",
       "      <td>0</td>\n",
       "      <td>71</td>\n",
       "      <td>50.90</td>\n",
       "      <td>88</td>\n",
       "      <td>5.26</td>\n",
       "      <td>89</td>\n",
       "      <td>8.86</td>\n",
       "      <td>7</td>\n",
       "      <td>1.78</td>\n",
       "      <td>OH</td>\n",
       "      <td>2.212360</td>\n",
       "    </tr>\n",
       "    <tr>\n",
       "      <th>4</th>\n",
       "      <td>75</td>\n",
       "      <td>0</td>\n",
       "      <td>166.7</td>\n",
       "      <td>148.3</td>\n",
       "      <td>186.9</td>\n",
       "      <td>10.1</td>\n",
       "      <td>3</td>\n",
       "      <td>0</td>\n",
       "      <td>1</td>\n",
       "      <td>0</td>\n",
       "      <td>113</td>\n",
       "      <td>28.34</td>\n",
       "      <td>122</td>\n",
       "      <td>12.61</td>\n",
       "      <td>121</td>\n",
       "      <td>8.41</td>\n",
       "      <td>3</td>\n",
       "      <td>2.73</td>\n",
       "      <td>OK</td>\n",
       "      <td>1.544628</td>\n",
       "    </tr>\n",
       "  </tbody>\n",
       "</table>\n",
       "</div>"
      ],
      "text/plain": [
       "   Account_Length  Vmail_Message  Day_Mins  Eve_Mins  Night_Mins  Intl_Mins  \\\n",
       "0             128             25     265.1     197.4       244.7       10.0   \n",
       "1             107             26     161.6     195.5       254.4       13.7   \n",
       "2             137              0     243.4     121.2       162.6       12.2   \n",
       "3              84              0     299.4      61.9       196.9        6.6   \n",
       "4              75              0     166.7     148.3       186.9       10.1   \n",
       "\n",
       "   CustServ_Calls  Churn  Intl_Plan  Vmail_Plan  Day_Calls  Day_Charge  \\\n",
       "0               1      0          0           1        110       45.07   \n",
       "1               1      0          0           1        123       27.47   \n",
       "2               0      0          0           0        114       41.38   \n",
       "3               2      0          1           0         71       50.90   \n",
       "4               3      0          1           0        113       28.34   \n",
       "\n",
       "   Eve_Calls  Eve_Charge  Night_Calls  Night_Charge  Intl_Calls  Intl_Charge  \\\n",
       "0         99       16.78           91         11.01           3         2.70   \n",
       "1        103       16.62          103         11.45           3         3.70   \n",
       "2        110       10.30          104          7.32           5         3.29   \n",
       "3         88        5.26           89          8.86           7         1.78   \n",
       "4        122       12.61          121          8.41           3         2.73   \n",
       "\n",
       "  State  Avg_Night_Calls  \n",
       "0    KS         2.689011  \n",
       "1    OH         2.469903  \n",
       "2    NJ         1.563462  \n",
       "3    OH         2.212360  \n",
       "4    OK         1.544628  "
      ]
     },
     "execution_count": 181,
     "metadata": {},
     "output_type": "execute_result"
    }
   ],
   "source": [
    "telco.head()"
   ]
  },
  {
   "cell_type": "code",
   "execution_count": 187,
   "id": "b497328c",
   "metadata": {},
   "outputs": [
    {
     "data": {
      "text/html": [
       "<div>\n",
       "<style scoped>\n",
       "    .dataframe tbody tr th:only-of-type {\n",
       "        vertical-align: middle;\n",
       "    }\n",
       "\n",
       "    .dataframe tbody tr th {\n",
       "        vertical-align: top;\n",
       "    }\n",
       "\n",
       "    .dataframe thead th {\n",
       "        text-align: right;\n",
       "    }\n",
       "</style>\n",
       "<table border=\"1\" class=\"dataframe\">\n",
       "  <thead>\n",
       "    <tr style=\"text-align: right;\">\n",
       "      <th></th>\n",
       "      <th>Account_Length</th>\n",
       "      <th>Vmail_Message</th>\n",
       "      <th>Day_Mins</th>\n",
       "      <th>Eve_Mins</th>\n",
       "      <th>Night_Mins</th>\n",
       "      <th>Intl_Mins</th>\n",
       "      <th>CustServ_Calls</th>\n",
       "      <th>Churn</th>\n",
       "      <th>Intl_Plan</th>\n",
       "      <th>Vmail_Plan</th>\n",
       "      <th>...</th>\n",
       "      <th>Intl_Calls</th>\n",
       "      <th>Intl_Charge</th>\n",
       "      <th>State</th>\n",
       "      <th>Avg_Night_Calls</th>\n",
       "      <th>Total_Calls</th>\n",
       "      <th>Total_Charge</th>\n",
       "      <th>Total_Minutes</th>\n",
       "      <th>Cost_Call</th>\n",
       "      <th>Min_Call</th>\n",
       "      <th>Call_Cost</th>\n",
       "    </tr>\n",
       "  </thead>\n",
       "  <tbody>\n",
       "    <tr>\n",
       "      <th>0</th>\n",
       "      <td>128</td>\n",
       "      <td>25</td>\n",
       "      <td>265.1</td>\n",
       "      <td>197.4</td>\n",
       "      <td>244.7</td>\n",
       "      <td>10.0</td>\n",
       "      <td>1</td>\n",
       "      <td>0</td>\n",
       "      <td>0</td>\n",
       "      <td>1</td>\n",
       "      <td>...</td>\n",
       "      <td>3</td>\n",
       "      <td>2.70</td>\n",
       "      <td>KS</td>\n",
       "      <td>2.689011</td>\n",
       "      <td>303</td>\n",
       "      <td>75.56</td>\n",
       "      <td>717.2</td>\n",
       "      <td>0.25</td>\n",
       "      <td>2.37</td>\n",
       "      <td>4.01</td>\n",
       "    </tr>\n",
       "    <tr>\n",
       "      <th>1</th>\n",
       "      <td>107</td>\n",
       "      <td>26</td>\n",
       "      <td>161.6</td>\n",
       "      <td>195.5</td>\n",
       "      <td>254.4</td>\n",
       "      <td>13.7</td>\n",
       "      <td>1</td>\n",
       "      <td>0</td>\n",
       "      <td>0</td>\n",
       "      <td>1</td>\n",
       "      <td>...</td>\n",
       "      <td>3</td>\n",
       "      <td>3.70</td>\n",
       "      <td>OH</td>\n",
       "      <td>2.469903</td>\n",
       "      <td>332</td>\n",
       "      <td>59.24</td>\n",
       "      <td>625.2</td>\n",
       "      <td>0.18</td>\n",
       "      <td>1.88</td>\n",
       "      <td>5.60</td>\n",
       "    </tr>\n",
       "    <tr>\n",
       "      <th>2</th>\n",
       "      <td>137</td>\n",
       "      <td>0</td>\n",
       "      <td>243.4</td>\n",
       "      <td>121.2</td>\n",
       "      <td>162.6</td>\n",
       "      <td>12.2</td>\n",
       "      <td>0</td>\n",
       "      <td>0</td>\n",
       "      <td>0</td>\n",
       "      <td>0</td>\n",
       "      <td>...</td>\n",
       "      <td>5</td>\n",
       "      <td>3.29</td>\n",
       "      <td>NJ</td>\n",
       "      <td>1.563462</td>\n",
       "      <td>333</td>\n",
       "      <td>62.29</td>\n",
       "      <td>539.4</td>\n",
       "      <td>0.19</td>\n",
       "      <td>1.62</td>\n",
       "      <td>5.35</td>\n",
       "    </tr>\n",
       "    <tr>\n",
       "      <th>3</th>\n",
       "      <td>84</td>\n",
       "      <td>0</td>\n",
       "      <td>299.4</td>\n",
       "      <td>61.9</td>\n",
       "      <td>196.9</td>\n",
       "      <td>6.6</td>\n",
       "      <td>2</td>\n",
       "      <td>0</td>\n",
       "      <td>1</td>\n",
       "      <td>0</td>\n",
       "      <td>...</td>\n",
       "      <td>7</td>\n",
       "      <td>1.78</td>\n",
       "      <td>OH</td>\n",
       "      <td>2.212360</td>\n",
       "      <td>255</td>\n",
       "      <td>66.80</td>\n",
       "      <td>564.8</td>\n",
       "      <td>0.26</td>\n",
       "      <td>2.21</td>\n",
       "      <td>3.82</td>\n",
       "    </tr>\n",
       "    <tr>\n",
       "      <th>4</th>\n",
       "      <td>75</td>\n",
       "      <td>0</td>\n",
       "      <td>166.7</td>\n",
       "      <td>148.3</td>\n",
       "      <td>186.9</td>\n",
       "      <td>10.1</td>\n",
       "      <td>3</td>\n",
       "      <td>0</td>\n",
       "      <td>1</td>\n",
       "      <td>0</td>\n",
       "      <td>...</td>\n",
       "      <td>3</td>\n",
       "      <td>2.73</td>\n",
       "      <td>OK</td>\n",
       "      <td>1.544628</td>\n",
       "      <td>359</td>\n",
       "      <td>52.09</td>\n",
       "      <td>512.0</td>\n",
       "      <td>0.15</td>\n",
       "      <td>1.43</td>\n",
       "      <td>6.89</td>\n",
       "    </tr>\n",
       "  </tbody>\n",
       "</table>\n",
       "<p>5 rows × 26 columns</p>\n",
       "</div>"
      ],
      "text/plain": [
       "   Account_Length  Vmail_Message  Day_Mins  Eve_Mins  Night_Mins  Intl_Mins  \\\n",
       "0             128             25     265.1     197.4       244.7       10.0   \n",
       "1             107             26     161.6     195.5       254.4       13.7   \n",
       "2             137              0     243.4     121.2       162.6       12.2   \n",
       "3              84              0     299.4      61.9       196.9        6.6   \n",
       "4              75              0     166.7     148.3       186.9       10.1   \n",
       "\n",
       "   CustServ_Calls  Churn  Intl_Plan  Vmail_Plan  ...  Intl_Calls  Intl_Charge  \\\n",
       "0               1      0          0           1  ...           3         2.70   \n",
       "1               1      0          0           1  ...           3         3.70   \n",
       "2               0      0          0           0  ...           5         3.29   \n",
       "3               2      0          1           0  ...           7         1.78   \n",
       "4               3      0          1           0  ...           3         2.73   \n",
       "\n",
       "   State  Avg_Night_Calls  Total_Calls  Total_Charge  Total_Minutes  \\\n",
       "0     KS         2.689011          303         75.56          717.2   \n",
       "1     OH         2.469903          332         59.24          625.2   \n",
       "2     NJ         1.563462          333         62.29          539.4   \n",
       "3     OH         2.212360          255         66.80          564.8   \n",
       "4     OK         1.544628          359         52.09          512.0   \n",
       "\n",
       "   Cost_Call Min_Call  Call_Cost  \n",
       "0       0.25     2.37       4.01  \n",
       "1       0.18     1.88       5.60  \n",
       "2       0.19     1.62       5.35  \n",
       "3       0.26     2.21       3.82  \n",
       "4       0.15     1.43       6.89  \n",
       "\n",
       "[5 rows x 26 columns]"
      ]
     },
     "execution_count": 187,
     "metadata": {},
     "output_type": "execute_result"
    }
   ],
   "source": [
    "telco['Total_Calls'] = telco['Day_Calls'] + telco['Eve_Calls'] + telco['Night_Calls'] + telco['Intl_Calls']\n",
    "telco['Total_Charge'] = telco['Day_Charge'] + telco['Eve_Charge'] + telco['Night_Charge'] + telco['Intl_Charge']\n",
    "telco['Total_Minutes'] = telco['Day_Mins'] + telco['Eve_Mins'] + telco['Night_Mins'] + telco['Intl_Mins']\n",
    "telco['Cost_Call'] = round(telco['Total_Charge'] / telco['Total_Calls'],2)\n",
    "telco['Call_Cost'] = round(telco['Total_Calls'] / telco['Total_Charge'],2)\n",
    "telco['Min_Call'] = round(telco['Total_Minutes'] / telco['Total_Calls'],2)\n",
    "telco.head()"
   ]
  },
  {
   "cell_type": "code",
   "execution_count": 188,
   "id": "40d151b3",
   "metadata": {},
   "outputs": [],
   "source": [
    "# Create feature variable\n",
    "X = telco.drop(['Churn','State','Avg_Night_Calls'], axis=1)\n",
    "\n",
    "# Create target variable\n",
    "y = telco['Churn']"
   ]
  },
  {
   "cell_type": "code",
   "execution_count": 190,
   "id": "eac13eb6",
   "metadata": {},
   "outputs": [],
   "source": [
    "# Import necessary modules\n",
    "from sklearn.model_selection import train_test_split\n",
    "from sklearn.ensemble import RandomForestClassifier\n",
    "\n",
    "# Create training and testing sets\n",
    "X_train, X_test, y_train, y_test = train_test_split(X, y, test_size=.3)"
   ]
  },
  {
   "cell_type": "code",
   "execution_count": 191,
   "id": "e31bc35e",
   "metadata": {},
   "outputs": [
    {
     "data": {
      "text/plain": [
       "RandomForestClassifier()"
      ]
     },
     "execution_count": 191,
     "metadata": {},
     "output_type": "execute_result"
    }
   ],
   "source": [
    "# Instantiate the classifier\n",
    "clf = RandomForestClassifier()\n",
    "\n",
    "# Fit to the data\n",
    "clf.fit(X_train,y_train)"
   ]
  },
  {
   "cell_type": "code",
   "execution_count": 192,
   "id": "9182678a",
   "metadata": {},
   "outputs": [
    {
     "name": "stdout",
     "output_type": "stream",
     "text": [
      "0.967\n"
     ]
    }
   ],
   "source": [
    "# Print the accuracy\n",
    "print(clf.score(X_test,y_test))"
   ]
  },
  {
   "cell_type": "markdown",
   "id": "63d8ba32",
   "metadata": {},
   "source": [
    "### Computing other metrics\n",
    "\n",
    "In addition to accuracy, let's also compute the F1 score of this new model to get a better picture of model performance.\n",
    "\n",
    "A 70-30 train-test split has already been done for you, and all necessary modules have been imported.\n",
    "\n",
    "Instructions\n",
    "100 XP\n",
    "Predict the labels of the test set.\n",
    "Print the F1 score."
   ]
  },
  {
   "cell_type": "code",
   "execution_count": 193,
   "id": "0d6c9993",
   "metadata": {},
   "outputs": [
    {
     "name": "stdout",
     "output_type": "stream",
     "text": [
      "0.8695652173913044\n"
     ]
    }
   ],
   "source": [
    "# Predict the labels of the test set\n",
    "y_pred = clf.predict(X_test)\n",
    "\n",
    "# Print the F1 score\n",
    "print(f1_score(y_test,y_pred))"
   ]
  },
  {
   "cell_type": "markdown",
   "id": "1762190f",
   "metadata": {},
   "source": [
    "Excellent work, and congratulations on completing the final exercise of the course!"
   ]
  }
 ],
 "metadata": {
  "kernelspec": {
   "display_name": "env",
   "language": "python",
   "name": "env"
  },
  "language_info": {
   "codemirror_mode": {
    "name": "ipython",
    "version": 3
   },
   "file_extension": ".py",
   "mimetype": "text/x-python",
   "name": "python",
   "nbconvert_exporter": "python",
   "pygments_lexer": "ipython3",
   "version": "3.7.4"
  }
 },
 "nbformat": 4,
 "nbformat_minor": 5
}
