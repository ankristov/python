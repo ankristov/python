{
 "cells": [
  {
   "cell_type": "markdown",
   "metadata": {},
   "source": [
    "## Numpy array\n"
   ]
  },
  {
   "cell_type": "code",
   "execution_count": null,
   "metadata": {
    "collapsed": true
   },
   "outputs": [],
   "source": []
  },
  {
   "cell_type": "code",
   "execution_count": null,
   "metadata": {
    "collapsed": true
   },
   "outputs": [],
   "source": [
    "# One of the reasons NumPy is so important for numerical computations in Python is because it is designed for efficiency on large arrays of data. There are a number of reasons for this:\n",
    "# - NumPy internally stores data in a contiguous block of memory, independent of other built-in Python objects. NumPy’s library of algorithms written in the C lan‐ guage can operate on this memory without any type checking or other overhead. NumPy arrays also use much less memory than built-in Python sequences.\n",
    "# - NumPy operations perform complex computations on entire arrays without the need for Python for loops\n",
    "# To give you an idea of the performance difference, consider a NumPy array of one million integers, and the equivalent Python list\n",
    "import numpy as np\n",
    "my_arr = np.arange(1000000)\n",
    "my_list = list(range(1000000))\n",
    "# Now let’s multiply each sequence by 2\n",
    "%time for _ in range(10): my_arr * 2"
   ]
  },
  {
   "cell_type": "code",
   "execution_count": null,
   "metadata": {
    "collapsed": true
   },
   "outputs": [],
   "source": [
    "%time for _ in range(10): [x * 2 for x in my_list]"
   ]
  },
  {
   "cell_type": "code",
   "execution_count": null,
   "metadata": {
    "collapsed": true
   },
   "outputs": [],
   "source": [
    "# NumPy-based algorithms are generally 10 to 100 times faster (or more) than their pure Python counterparts and use significantly less memory"
   ]
  },
  {
   "cell_type": "markdown",
   "metadata": {},
   "source": [
    "### The NumPy ndarray: A Multidimensional Array Object"
   ]
  },
  {
   "cell_type": "code",
   "execution_count": null,
   "metadata": {
    "collapsed": true
   },
   "outputs": [],
   "source": [
    "# One of the key features of NumPy is its N-dimensional array object, or ndarray, which is a fast, flexible container for large datasets in Python. Arrays enable you to perform mathematical operations on whole blocks of data using similar syntax to the equivalent operations between scalar elements.\n",
    "# example\n",
    "import numpy as np\n",
    "data = np.random.randn(2,3)\n",
    "data"
   ]
  },
  {
   "cell_type": "code",
   "execution_count": null,
   "metadata": {
    "collapsed": true
   },
   "outputs": [],
   "source": [
    "data * 10"
   ]
  },
  {
   "cell_type": "code",
   "execution_count": null,
   "metadata": {
    "collapsed": true
   },
   "outputs": [],
   "source": [
    "data + data"
   ]
  },
  {
   "cell_type": "code",
   "execution_count": null,
   "metadata": {
    "collapsed": true
   },
   "outputs": [],
   "source": [
    "# An ndarray is a generic multidimensional container for homogeneous data; that is, all of the elements must be the same type. Every array has a shape, a tuple indicating the size of each dimension, and a dtype, an object describing the data type of the array\n",
    "print(data.shape)\n",
    "print(data.dtype)"
   ]
  },
  {
   "cell_type": "markdown",
   "metadata": {},
   "source": [
    "### Creating ndarrays"
   ]
  },
  {
   "cell_type": "code",
   "execution_count": 2,
   "metadata": {},
   "outputs": [
    {
     "data": {
      "text/plain": [
       "array([ 6. ,  7.5,  8. ,  0. ,  1. ])"
      ]
     },
     "execution_count": 2,
     "metadata": {},
     "output_type": "execute_result"
    }
   ],
   "source": [
    "# The easiest way to create an array is to use the array function. This accepts any sequence-like object (including other arrays) and produces a new NumPy array con‐ taining the passed data. For example, a list is a good candidate for conversion\n",
    "import numpy as np\n",
    "data1 = [6,7.5,8,0,1]\n",
    "arr1 = np.array(data1)\n",
    "arr1"
   ]
  },
  {
   "cell_type": "code",
   "execution_count": 3,
   "metadata": {},
   "outputs": [
    {
     "data": {
      "text/plain": [
       "array([[1, 2, 3, 4],\n",
       "       [5, 6, 7, 8]])"
      ]
     },
     "execution_count": 3,
     "metadata": {},
     "output_type": "execute_result"
    }
   ],
   "source": [
    "# Nested sequences, like a list of equal-length lists, will be converted into a multidimen‐ sional array\n",
    "data2 = [[1,2,3,4], [5,6,7,8]]\n",
    "arr2 = np.array(data2)\n",
    "arr2"
   ]
  },
  {
   "cell_type": "code",
   "execution_count": 5,
   "metadata": {},
   "outputs": [
    {
     "name": "stdout",
     "output_type": "stream",
     "text": [
      "2\n",
      "(2, 4)\n"
     ]
    }
   ],
   "source": [
    "print(arr2.ndim)\n",
    "print(arr2.shape)"
   ]
  },
  {
   "cell_type": "code",
   "execution_count": 6,
   "metadata": {},
   "outputs": [
    {
     "name": "stdout",
     "output_type": "stream",
     "text": [
      "float64\n",
      "int64\n"
     ]
    }
   ],
   "source": [
    "# Unless explicitly specified (more on this later), np.array tries to infer a good data type for the array that it creates. The data type is stored in a special dtype metadata object; for example, in the previous two examples we have\n",
    "print(arr1.dtype)\n",
    "print(arr2.dtype)"
   ]
  },
  {
   "cell_type": "code",
   "execution_count": 7,
   "metadata": {},
   "outputs": [
    {
     "data": {
      "text/plain": [
       "array([ 0.,  0.,  0.,  0.,  0.,  0.,  0.,  0.,  0.,  0.])"
      ]
     },
     "execution_count": 7,
     "metadata": {},
     "output_type": "execute_result"
    }
   ],
   "source": [
    "# In addition to np.array, there are a number of other functions for creating new arrays. As examples, zeros and ones create arrays of 0s or 1s, respectively, with a given length or shape. empty creates an array without initializing its values to any par‐ ticular value. To create a higher dimensional array with these methods, pass a tuple for the shape\n",
    "np.zeros(10)"
   ]
  },
  {
   "cell_type": "code",
   "execution_count": 8,
   "metadata": {},
   "outputs": [
    {
     "data": {
      "text/plain": [
       "array([[ 0.,  0.,  0.,  0.,  0.,  0.],\n",
       "       [ 0.,  0.,  0.,  0.,  0.,  0.],\n",
       "       [ 0.,  0.,  0.,  0.,  0.,  0.]])"
      ]
     },
     "execution_count": 8,
     "metadata": {},
     "output_type": "execute_result"
    }
   ],
   "source": [
    "np.zeros((3,6))"
   ]
  },
  {
   "cell_type": "code",
   "execution_count": 9,
   "metadata": {},
   "outputs": [
    {
     "data": {
      "text/plain": [
       "array([[[  0.00000000e+000,  -1.72723382e-077],\n",
       "        [  2.25364916e-314,   2.17558129e-314],\n",
       "        [  2.17389384e-314,   2.17558195e-314]],\n",
       "\n",
       "       [[  2.17405286e-314,   0.00000000e+000],\n",
       "        [  2.15652762e-314,   6.36598737e-311],\n",
       "        [  0.00000000e+000,   8.34402833e-309]]])"
      ]
     },
     "execution_count": 9,
     "metadata": {},
     "output_type": "execute_result"
    }
   ],
   "source": [
    "np.empty((2,3,2))\n",
    "# It’s not safe to assume that np.empty will return an array of all zeros. In some cases, it may return uninitialized “garbage” values"
   ]
  },
  {
   "cell_type": "code",
   "execution_count": 10,
   "metadata": {},
   "outputs": [
    {
     "data": {
      "text/plain": [
       "array([ 0,  1,  2,  3,  4,  5,  6,  7,  8,  9, 10, 11, 12, 13, 14])"
      ]
     },
     "execution_count": 10,
     "metadata": {},
     "output_type": "execute_result"
    }
   ],
   "source": [
    "# arange is an array-valued version of the built-in Python range function\n",
    "np.arange(15)"
   ]
  },
  {
   "cell_type": "code",
   "execution_count": 12,
   "metadata": {},
   "outputs": [
    {
     "data": {
      "text/plain": [
       "array([[ 1.,  1.,  1.,  1.,  1.],\n",
       "       [ 1.,  1.,  1.,  1.,  1.]])"
      ]
     },
     "execution_count": 12,
     "metadata": {},
     "output_type": "execute_result"
    }
   ],
   "source": [
    "np.ones((2,5))"
   ]
  },
  {
   "cell_type": "code",
   "execution_count": 18,
   "metadata": {},
   "outputs": [
    {
     "name": "stdout",
     "output_type": "stream",
     "text": [
      "[[ 1.40244025  0.18168031 -1.15484664  0.2453333   0.38983624]\n",
      " [ 1.19973642 -0.66916348  2.3585591   0.93213188  2.07050873]]\n",
      "[[ 1.  1.  1.  1.  1.]\n",
      " [ 1.  1.  1.  1.  1.]]\n",
      "[[ 0.  0.  0.  0.  0.]\n",
      " [ 0.  0.  0.  0.  0.]]\n"
     ]
    }
   ],
   "source": [
    "# ones_like takes another array and produces a ones array of the same shape and dtype\n",
    "a = np.random.randn(2,5)\n",
    "print(a)\n",
    "print(np.ones_like(a))\n",
    "print(np.zeros_like(a))"
   ]
  },
  {
   "cell_type": "code",
   "execution_count": 19,
   "metadata": {},
   "outputs": [
    {
     "data": {
      "text/plain": [
       "array([[ 1.,  0.,  0.,  0.,  0.],\n",
       "       [ 0.,  1.,  0.,  0.,  0.],\n",
       "       [ 0.,  0.,  1.,  0.,  0.],\n",
       "       [ 0.,  0.,  0.,  1.,  0.],\n",
       "       [ 0.,  0.,  0.,  0.,  1.]])"
      ]
     },
     "execution_count": 19,
     "metadata": {},
     "output_type": "execute_result"
    }
   ],
   "source": [
    "# Create a square N × N identity matrix (1s on the diagonal and 0s elsewhere)\n",
    "np.eye(5)"
   ]
  },
  {
   "cell_type": "code",
   "execution_count": 20,
   "metadata": {},
   "outputs": [
    {
     "data": {
      "text/plain": [
       "array([[ 1.,  0.,  0.],\n",
       "       [ 0.,  1.,  0.],\n",
       "       [ 0.,  0.,  1.]])"
      ]
     },
     "execution_count": 20,
     "metadata": {},
     "output_type": "execute_result"
    }
   ],
   "source": [
    "np.identity(3)"
   ]
  },
  {
   "cell_type": "markdown",
   "metadata": {},
   "source": [
    "### Data Types for ndarrays"
   ]
  },
  {
   "cell_type": "code",
   "execution_count": 21,
   "metadata": {},
   "outputs": [
    {
     "name": "stdout",
     "output_type": "stream",
     "text": [
      "float64\n",
      "int32\n"
     ]
    }
   ],
   "source": [
    "# The data type or dtype is a special object containing the information (or metadata, data about data) the ndarray needs to interpret a chunk of memory as a particular type of data:\n",
    "arr1 = np.array([1,2,3], dtype = np.float64)\n",
    "arr2 = np.array([1,2,3], dtype = np.int32)\n",
    "print(arr1.dtype)\n",
    "print(arr2.dtype)"
   ]
  },
  {
   "cell_type": "code",
   "execution_count": 23,
   "metadata": {},
   "outputs": [
    {
     "name": "stdout",
     "output_type": "stream",
     "text": [
      "int64\n",
      "float64\n"
     ]
    }
   ],
   "source": [
    "# You can explicitly convert or cast an array from one dtype to another using ndarray’s astype method\n",
    "arr = np.array([1,2,3,4,5])\n",
    "print(arr.dtype)\n",
    "float_arr = arr.astype(np.float64)\n",
    "print(float_arr.dtype)"
   ]
  },
  {
   "cell_type": "code",
   "execution_count": 26,
   "metadata": {},
   "outputs": [
    {
     "name": "stdout",
     "output_type": "stream",
     "text": [
      "[  3.7  -1.2  -2.6   0.5  12.9  10.1]\n",
      "float64\n",
      "[ 3 -1 -2  0 12 10]\n"
     ]
    }
   ],
   "source": [
    "# If I cast some floating-point numbers to be of integer dtype, the decimal part will be truncated\n",
    "arr = np.array([3.7, -1.2, -2.6, 0.5, 12.9, 10.1])\n",
    "print(arr)\n",
    "#print(arr.dtype)\n",
    "print(arr.astype(np.int32))"
   ]
  },
  {
   "cell_type": "code",
   "execution_count": 29,
   "metadata": {},
   "outputs": [
    {
     "name": "stdout",
     "output_type": "stream",
     "text": [
      "[  1.25  -9.6   42.  ]\n",
      "[  1.25  -9.6   42.  ]\n"
     ]
    }
   ],
   "source": [
    "# If you have an array of strings representing numbers, you can use astype to convert them to numeric form\n",
    "numeric_string = np.array(['1.25', '-9.6', '42'], dtype = np.string_)\n",
    "print(numeric_string.astype(float))\n",
    "print(numeric_string.astype(np.float64))\n"
   ]
  },
  {
   "cell_type": "code",
   "execution_count": 33,
   "metadata": {},
   "outputs": [
    {
     "name": "stdout",
     "output_type": "stream",
     "text": [
      "int64\n",
      "float64\n",
      "[ 0.  1.  2.  3.  4.  5.  6.  7.  8.  9.]\n"
     ]
    }
   ],
   "source": [
    "# You can also use another array’s dtype attribute\n",
    "int_arr = np.arange(10)\n",
    "calibers = np.array([.22, .270, .357, .380, .44, .50], dtype = np.float64)\n",
    "print(int_arr.dtype)\n",
    "print(calibers.dtype)\n",
    "print(int_arr.astype(calibers.dtype))"
   ]
  },
  {
   "cell_type": "markdown",
   "metadata": {},
   "source": [
    "### Arithmetic with NumPy Arrays"
   ]
  },
  {
   "cell_type": "code",
   "execution_count": 39,
   "metadata": {},
   "outputs": [
    {
     "name": "stdout",
     "output_type": "stream",
     "text": [
      "[[ 1.  2.  3.]\n",
      " [ 4.  5.  6.]]\n",
      "[[  1.   4.   9.]\n",
      " [ 16.  25.  36.]]\n",
      "[[ 0.  0.  0.]\n",
      " [ 0.  0.  0.]]\n",
      "[[ 1.          0.5         0.33333333]\n",
      " [ 0.25        0.2         0.16666667]]\n",
      "[[ 1.          1.41421356  1.73205081]\n",
      " [ 2.          2.23606798  2.44948974]]\n"
     ]
    }
   ],
   "source": [
    "# Arrays are important because they enable you to express batch operations on data without writing any for loops. NumPy users call this vectorization\n",
    "arr = np.array([[1.,2.,3.], [4.,5.,6.]])\n",
    "print(arr)\n",
    "print(arr*arr)\n",
    "print(arr - arr)\n",
    "print(1/arr)\n",
    "print(arr ** 0.5)"
   ]
  },
  {
   "cell_type": "code",
   "execution_count": 42,
   "metadata": {},
   "outputs": [
    {
     "name": "stdout",
     "output_type": "stream",
     "text": [
      "[[  0.   4.   1.]\n",
      " [  7.   2.  12.]]\n",
      "[[ 1.  2.  3.]\n",
      " [ 4.  5.  6.]]\n",
      "[[False  True False]\n",
      " [ True False  True]]\n"
     ]
    }
   ],
   "source": [
    "# Comparisons between arrays of the same size yield boolean arrays\n",
    "arr2 = np.array([[0.,4.,1.], [7.,2.,12.]])\n",
    "print(arr2)\n",
    "print(arr)\n",
    "print(arr2 > arr)"
   ]
  },
  {
   "cell_type": "markdown",
   "metadata": {},
   "source": [
    "### Basic Indexing and Slicing"
   ]
  },
  {
   "cell_type": "code",
   "execution_count": 43,
   "metadata": {},
   "outputs": [
    {
     "name": "stdout",
     "output_type": "stream",
     "text": [
      "[0 1 2 3 4 5 6 7 8 9]\n"
     ]
    }
   ],
   "source": [
    "arr = np.arange(10)\n",
    "print(arr)"
   ]
  },
  {
   "cell_type": "code",
   "execution_count": 44,
   "metadata": {},
   "outputs": [
    {
     "name": "stdout",
     "output_type": "stream",
     "text": [
      "5\n"
     ]
    }
   ],
   "source": [
    "print(arr[5])"
   ]
  },
  {
   "cell_type": "code",
   "execution_count": 45,
   "metadata": {},
   "outputs": [
    {
     "name": "stdout",
     "output_type": "stream",
     "text": [
      "[5 6 7]\n"
     ]
    }
   ],
   "source": [
    "print(arr[5:8])"
   ]
  },
  {
   "cell_type": "code",
   "execution_count": 46,
   "metadata": {
    "collapsed": true
   },
   "outputs": [],
   "source": [
    "arr[5:8] = 12"
   ]
  },
  {
   "cell_type": "code",
   "execution_count": 47,
   "metadata": {},
   "outputs": [
    {
     "name": "stdout",
     "output_type": "stream",
     "text": [
      "[ 0  1  2  3  4 12 12 12  8  9]\n"
     ]
    }
   ],
   "source": [
    "print(arr)"
   ]
  },
  {
   "cell_type": "code",
   "execution_count": 56,
   "metadata": {},
   "outputs": [
    {
     "name": "stdout",
     "output_type": "stream",
     "text": [
      "[1, 2, 3, 4, 5, 6, 7, 8, 9]\n",
      "[6, 7, 8]\n",
      "[1, 2, 3, 4, 5, 12, 12, 12, 9]\n"
     ]
    }
   ],
   "source": [
    "# An important first distinction from Python’s built-in lists is that array slices are views on the original array. This means that the data is not copied, and any modifications to the view will be reflected in the source array.\n",
    "# let's check\n",
    "a = [1, 2, 3, 4, 5, 6, 7, 8, 9]\n",
    "print(a)\n",
    "print(a[5:8])\n",
    "#a[5:8] = 12 # error\n",
    "a[5:8] = [12,12,12]\n",
    "print(a)"
   ]
  },
  {
   "cell_type": "code",
   "execution_count": 58,
   "metadata": {},
   "outputs": [
    {
     "name": "stdout",
     "output_type": "stream",
     "text": [
      "[12 12 12]\n",
      "[    0     1     2     3     4    12 12345    12     8     9]\n"
     ]
    }
   ],
   "source": [
    "# To give an example of this, I first create a slice of arr\n",
    "arr_slice = arr[5:8]\n",
    "print(arr_slice)\n",
    "# Now, when I change values in arr_slice, the mutations are reflected in the original array arr\n",
    "arr_slice[1] = 12345\n",
    "print(arr)"
   ]
  },
  {
   "cell_type": "code",
   "execution_count": 60,
   "metadata": {},
   "outputs": [
    {
     "name": "stdout",
     "output_type": "stream",
     "text": [
      "[ 0  1  2  3  4 64 64 64  8  9]\n"
     ]
    }
   ],
   "source": [
    "# The “bare” slice [:] will assign to all values in an array\n",
    "arr_slice[:] = 64\n",
    "print(arr)"
   ]
  },
  {
   "cell_type": "code",
   "execution_count": 64,
   "metadata": {},
   "outputs": [
    {
     "name": "stdout",
     "output_type": "stream",
     "text": [
      "[64 64 64]\n",
      "[ 0  1  2  3  4 64 64 64  8  9]\n"
     ]
    }
   ],
   "source": [
    "# As NumPy has been designed to be able to work with very large arrays, you could imagine performance and memory problems if NumPy insisted on always copying data\n",
    "# If you want a copy of a slice of an ndarray instead of a view, you will need to explicitly copy the array—for example\n",
    "arr_slice_copy = arr[5:8].copy()\n",
    "print(arr_slice_copy)\n",
    "arr_slice_copy = 32\n",
    "print(arr)"
   ]
  },
  {
   "cell_type": "code",
   "execution_count": 65,
   "metadata": {},
   "outputs": [
    {
     "data": {
      "text/plain": [
       "array([7, 8, 9])"
      ]
     },
     "execution_count": 65,
     "metadata": {},
     "output_type": "execute_result"
    }
   ],
   "source": [
    "# In a two-dimensional array, the elements at each index are no longer scalars but rather one-dimensional arrays\n",
    "arr2d = np.array([[1, 2, 3], [4, 5, 6], [7, 8, 9]])\n",
    "arr2d[2]"
   ]
  },
  {
   "cell_type": "code",
   "execution_count": 67,
   "metadata": {},
   "outputs": [
    {
     "name": "stdout",
     "output_type": "stream",
     "text": [
      "3\n",
      "3\n"
     ]
    }
   ],
   "source": [
    "# individual elements\n",
    "print(arr2d[0][2])\n",
    "print(arr2d[0,2])"
   ]
  },
  {
   "cell_type": "code",
   "execution_count": 74,
   "metadata": {},
   "outputs": [
    {
     "name": "stdout",
     "output_type": "stream",
     "text": [
      "[[[ 1  2  3]\n",
      "  [ 4  5  6]]\n",
      "\n",
      " [[ 7  8  9]\n",
      "  [10 11 12]]]\n"
     ]
    }
   ],
   "source": [
    "# In multidimensional arrays, if you omit later indices, the returned object will be a lower dimensional ndarray consisting of all the data along the higher dimensions.\n",
    "arr3d = np.array([[[1,2,3], [4,5,6]], [[7,8,9], [10,11,12]]])\n",
    "print(arr3d)"
   ]
  },
  {
   "cell_type": "code",
   "execution_count": 75,
   "metadata": {},
   "outputs": [
    {
     "name": "stdout",
     "output_type": "stream",
     "text": [
      "[[1 2 3]\n",
      " [4 5 6]]\n"
     ]
    }
   ],
   "source": [
    "# arr3d[0] is a 2 × 3 array\n",
    "print(arr3[0])"
   ]
  },
  {
   "cell_type": "code",
   "execution_count": 76,
   "metadata": {},
   "outputs": [
    {
     "name": "stdout",
     "output_type": "stream",
     "text": [
      "[[[42 42 42]\n",
      "  [42 42 42]]\n",
      "\n",
      " [[ 7  8  9]\n",
      "  [10 11 12]]]\n"
     ]
    }
   ],
   "source": [
    "# Both scalar values and arrays can be assigned to arr3d[0]\n",
    "old_values = arr3d[0].copy()\n",
    "arr3d[0] = 42\n",
    "print(arr3d)"
   ]
  },
  {
   "cell_type": "code",
   "execution_count": 78,
   "metadata": {},
   "outputs": [
    {
     "name": "stdout",
     "output_type": "stream",
     "text": [
      "[[[ 1  2  3]\n",
      "  [ 4  5  6]]\n",
      "\n",
      " [[ 7  8  9]\n",
      "  [10 11 12]]]\n"
     ]
    }
   ],
   "source": [
    "arr3d[0] = old_values\n",
    "print(arr3d)"
   ]
  },
  {
   "cell_type": "code",
   "execution_count": 79,
   "metadata": {},
   "outputs": [
    {
     "name": "stdout",
     "output_type": "stream",
     "text": [
      "[7 8 9]\n"
     ]
    }
   ],
   "source": [
    "print(arr3d[1,0])"
   ]
  },
  {
   "cell_type": "code",
   "execution_count": 81,
   "metadata": {},
   "outputs": [
    {
     "name": "stdout",
     "output_type": "stream",
     "text": [
      "[[ 7  8  9]\n",
      " [10 11 12]]\n",
      "[7 8 9]\n"
     ]
    }
   ],
   "source": [
    "x = arr3d[1]\n",
    "print(x)\n",
    "print(x[0])"
   ]
  },
  {
   "cell_type": "code",
   "execution_count": null,
   "metadata": {
    "collapsed": true
   },
   "outputs": [],
   "source": [
    "# Note that in all of these cases where subsections of the array have been selected, the returned arrays are views"
   ]
  },
  {
   "cell_type": "markdown",
   "metadata": {},
   "source": [
    "### Indexing with slices"
   ]
  },
  {
   "cell_type": "code",
   "execution_count": 82,
   "metadata": {},
   "outputs": [
    {
     "name": "stdout",
     "output_type": "stream",
     "text": [
      "[ 0  1  2  3  4 64 64 64  8  9]\n"
     ]
    }
   ],
   "source": [
    "print(arr)"
   ]
  },
  {
   "cell_type": "code",
   "execution_count": 83,
   "metadata": {},
   "outputs": [
    {
     "name": "stdout",
     "output_type": "stream",
     "text": [
      "[ 1  2  3  4 64]\n"
     ]
    }
   ],
   "source": [
    "print(arr[1:6])"
   ]
  },
  {
   "cell_type": "code",
   "execution_count": 85,
   "metadata": {},
   "outputs": [
    {
     "data": {
      "text/plain": [
       "array([[1, 2, 3],\n",
       "       [4, 5, 6],\n",
       "       [7, 8, 9]])"
      ]
     },
     "execution_count": 85,
     "metadata": {},
     "output_type": "execute_result"
    }
   ],
   "source": [
    "arr2d"
   ]
  },
  {
   "cell_type": "code",
   "execution_count": 86,
   "metadata": {},
   "outputs": [
    {
     "data": {
      "text/plain": [
       "array([[1, 2, 3],\n",
       "       [4, 5, 6]])"
      ]
     },
     "execution_count": 86,
     "metadata": {},
     "output_type": "execute_result"
    }
   ],
   "source": [
    "arr2d[:2]"
   ]
  },
  {
   "cell_type": "code",
   "execution_count": 87,
   "metadata": {},
   "outputs": [
    {
     "data": {
      "text/plain": [
       "array([[2, 3],\n",
       "       [5, 6]])"
      ]
     },
     "execution_count": 87,
     "metadata": {},
     "output_type": "execute_result"
    }
   ],
   "source": [
    "arr2d[:2, 1:]"
   ]
  },
  {
   "cell_type": "code",
   "execution_count": 89,
   "metadata": {},
   "outputs": [
    {
     "name": "stdout",
     "output_type": "stream",
     "text": [
      "[4 5]\n",
      "[3 6]\n"
     ]
    }
   ],
   "source": [
    "# By mixing integer indexes and slices, you get lower dimensional slices\n",
    "print(arr2d[1, :2])\n",
    "print(arr2d[:2, 2])\n"
   ]
  },
  {
   "cell_type": "code",
   "execution_count": 93,
   "metadata": {},
   "outputs": [
    {
     "name": "stdout",
     "output_type": "stream",
     "text": [
      "[[1]\n",
      " [4]\n",
      " [7]]\n",
      "[1 4 7]\n"
     ]
    }
   ],
   "source": [
    "print(arr2d[:, :1])\n",
    "print(arr2d[:, 0])"
   ]
  },
  {
   "cell_type": "code",
   "execution_count": 95,
   "metadata": {},
   "outputs": [
    {
     "name": "stdout",
     "output_type": "stream",
     "text": [
      "[[2 3]\n",
      " [5 6]]\n",
      "[[1 0 0]\n",
      " [4 0 0]\n",
      " [7 8 9]]\n"
     ]
    }
   ],
   "source": [
    "# assigning to a slice expression assigns to the whole selection\n",
    "print(arr2d[:2, 1:])\n",
    "arr2d[:2, 1:] = 0\n",
    "print(arr2d)"
   ]
  },
  {
   "cell_type": "markdown",
   "metadata": {},
   "source": [
    "### Boolean indexing"
   ]
  },
  {
   "cell_type": "code",
   "execution_count": 96,
   "metadata": {},
   "outputs": [
    {
     "name": "stdout",
     "output_type": "stream",
     "text": [
      "['Bob' 'Joe' 'Will' 'Bob' 'Will' 'Joe' 'Joe']\n",
      "[[ 0.26161362  1.55568696  0.20532463  0.49857724]\n",
      " [-0.15538373 -1.24860518  0.46471791  0.00270333]\n",
      " [-1.83355209  0.22821248 -0.06619832  0.3937938 ]\n",
      " [-0.42188943 -0.44216362  0.54340271 -0.84440685]\n",
      " [ 2.10841232 -0.31170169 -0.82883383  0.32196541]\n",
      " [-0.66051184 -0.6377787  -0.49095248  0.86781516]\n",
      " [-0.60732176  1.14106109  0.56388673  1.42161754]]\n"
     ]
    }
   ],
   "source": [
    "names = np.array(['Bob', 'Joe', 'Will', 'Bob', 'Will', 'Joe', 'Joe'])\n",
    "data = np.random.randn(7, 4)\n",
    "print(names)\n",
    "print(data)"
   ]
  },
  {
   "cell_type": "code",
   "execution_count": 104,
   "metadata": {},
   "outputs": [
    {
     "name": "stdout",
     "output_type": "stream",
     "text": [
      "[ True False False  True False False False]\n",
      "[[ 0.26161362  1.55568696  0.20532463  0.49857724]\n",
      " [-0.42188943 -0.44216362  0.54340271 -0.84440685]]\n",
      "[[ 0.26161362  1.55568696  0.20532463  0.49857724]\n",
      " [-0.42188943 -0.44216362  0.54340271 -0.84440685]]\n",
      "[[ 0.20532463  0.49857724]\n",
      " [ 0.54340271 -0.84440685]]\n",
      "[ 0.49857724 -0.84440685]\n"
     ]
    }
   ],
   "source": [
    "# Suppose each name corresponds to a row in the data array and we wanted to select all the rows with corresponding name 'Bob'\n",
    "print(names == 'Bob')\n",
    "print(data[names == 'Bob'])\n",
    "print(data[names == 'Bob', :])\n",
    "print(data[names == 'Bob', 2:])\n",
    "print(data[names == 'Bob', 3])"
   ]
  },
  {
   "cell_type": "code",
   "execution_count": 107,
   "metadata": {},
   "outputs": [
    {
     "name": "stdout",
     "output_type": "stream",
     "text": [
      "[[-0.15538373 -1.24860518  0.46471791  0.00270333]\n",
      " [-1.83355209  0.22821248 -0.06619832  0.3937938 ]\n",
      " [ 2.10841232 -0.31170169 -0.82883383  0.32196541]\n",
      " [-0.66051184 -0.6377787  -0.49095248  0.86781516]\n",
      " [-0.60732176  1.14106109  0.56388673  1.42161754]]\n",
      "[[-0.15538373 -1.24860518  0.46471791  0.00270333]\n",
      " [-1.83355209  0.22821248 -0.06619832  0.3937938 ]\n",
      " [ 2.10841232 -0.31170169 -0.82883383  0.32196541]\n",
      " [-0.66051184 -0.6377787  -0.49095248  0.86781516]\n",
      " [-0.60732176  1.14106109  0.56388673  1.42161754]]\n"
     ]
    }
   ],
   "source": [
    "# To select everything but 'Bob', you can either use != or negate the condition using ~\n",
    "print(data[names != 'Bob'])\n",
    "print(data[~(names == 'Bob')])"
   ]
  },
  {
   "cell_type": "code",
   "execution_count": 108,
   "metadata": {},
   "outputs": [
    {
     "data": {
      "text/plain": [
       "array([[-0.15538373, -1.24860518,  0.46471791,  0.00270333],\n",
       "       [-1.83355209,  0.22821248, -0.06619832,  0.3937938 ],\n",
       "       [ 2.10841232, -0.31170169, -0.82883383,  0.32196541],\n",
       "       [-0.66051184, -0.6377787 , -0.49095248,  0.86781516],\n",
       "       [-0.60732176,  1.14106109,  0.56388673,  1.42161754]])"
      ]
     },
     "execution_count": 108,
     "metadata": {},
     "output_type": "execute_result"
    }
   ],
   "source": [
    "# The ~ operator can be useful when you want to invert a general condition\n",
    "cond = names == 'Bob'\n",
    "data[~cond]"
   ]
  },
  {
   "cell_type": "code",
   "execution_count": 110,
   "metadata": {},
   "outputs": [
    {
     "name": "stdout",
     "output_type": "stream",
     "text": [
      "[ True False False  True False False False]\n",
      "[False False  True False  True False False]\n",
      "[ True False  True  True  True False False]\n",
      "[[ 0.26161362  1.55568696  0.20532463  0.49857724]\n",
      " [-1.83355209  0.22821248 -0.06619832  0.3937938 ]\n",
      " [-0.42188943 -0.44216362  0.54340271 -0.84440685]\n",
      " [ 2.10841232 -0.31170169 -0.82883383  0.32196541]]\n"
     ]
    }
   ],
   "source": [
    "# Selecting two of the three names to combine multiple boolean conditions, use boolean arithmetic operators like & (and) and | (or)\n",
    "mask = (names == 'Bob') | (names == 'Will')\n",
    "print(names == 'Bob')\n",
    "print(names == 'Will')\n",
    "print(mask)\n",
    "print(data[mask])"
   ]
  },
  {
   "cell_type": "code",
   "execution_count": null,
   "metadata": {
    "collapsed": true
   },
   "outputs": [],
   "source": [
    "# Selecting data from an array by boolean indexing always creates a copy of the data, even if the returned array is unchanged\n",
    "# The Python keywords and and or do not work with boolean arrays. Use & (and) and | (or) instead\n"
   ]
  },
  {
   "cell_type": "code",
   "execution_count": 112,
   "metadata": {},
   "outputs": [
    {
     "name": "stdout",
     "output_type": "stream",
     "text": [
      "[[ 0.26161362  1.55568696  0.20532463  0.49857724]\n",
      " [ 0.          0.          0.46471791  0.00270333]\n",
      " [ 0.          0.22821248  0.          0.3937938 ]\n",
      " [ 0.          0.          0.54340271  0.        ]\n",
      " [ 2.10841232  0.          0.          0.32196541]\n",
      " [ 0.          0.          0.          0.86781516]\n",
      " [ 0.          1.14106109  0.56388673  1.42161754]]\n"
     ]
    }
   ],
   "source": [
    "# To set all of the negative values in data to 0\n",
    "data[data < 0] = 0\n",
    "print(data)"
   ]
  },
  {
   "cell_type": "code",
   "execution_count": 119,
   "metadata": {},
   "outputs": [
    {
     "name": "stdout",
     "output_type": "stream",
     "text": [
      "['Bob' 'Joe' 'Will' 'Bob' 'Will' 'Joe' 'Joe']\n",
      "[[  7.00000000e+00   7.00000000e+00   7.00000000e+00   7.00000000e+00]\n",
      " [  0.00000000e+00   0.00000000e+00   4.64717915e-01   2.70332717e-03]\n",
      " [  7.00000000e+00   7.00000000e+00   7.00000000e+00   7.00000000e+00]\n",
      " [  7.00000000e+00   7.00000000e+00   7.00000000e+00   7.00000000e+00]\n",
      " [  7.00000000e+00   7.00000000e+00   7.00000000e+00   7.00000000e+00]\n",
      " [  0.00000000e+00   0.00000000e+00   0.00000000e+00   8.67815162e-01]\n",
      " [  0.00000000e+00   1.14106109e+00   5.63886729e-01   1.42161754e+00]]\n"
     ]
    }
   ],
   "source": [
    "# Setting whole rows or columns using a one-dimensional boolean array is also easy:\n",
    "print(names)\n",
    "#print(data)\n",
    "data[names != 'Joe'] = 7\n",
    "print(data)"
   ]
  },
  {
   "cell_type": "markdown",
   "metadata": {},
   "source": [
    "### Fancy indexing"
   ]
  },
  {
   "cell_type": "code",
   "execution_count": 121,
   "metadata": {},
   "outputs": [
    {
     "name": "stdout",
     "output_type": "stream",
     "text": [
      "[[ 0.  0.  0.  0.]\n",
      " [ 1.  1.  1.  1.]\n",
      " [ 2.  2.  2.  2.]\n",
      " [ 3.  3.  3.  3.]\n",
      " [ 4.  4.  4.  4.]\n",
      " [ 5.  5.  5.  5.]\n",
      " [ 6.  6.  6.  6.]\n",
      " [ 7.  7.  7.  7.]]\n"
     ]
    }
   ],
   "source": [
    "# Fancy indexing is a term adopted by NumPy to describe indexing using integer arrays. Suppose we had an 8 × 4 array\n",
    "arr = np.empty((8,4))\n",
    "#print(arr)\n",
    "for i in range(8):\n",
    "    arr[i] = i\n",
    "print(arr)"
   ]
  },
  {
   "cell_type": "code",
   "execution_count": 122,
   "metadata": {},
   "outputs": [
    {
     "data": {
      "text/plain": [
       "array([[ 4.,  4.,  4.,  4.],\n",
       "       [ 3.,  3.,  3.,  3.],\n",
       "       [ 0.,  0.,  0.,  0.],\n",
       "       [ 6.,  6.,  6.,  6.]])"
      ]
     },
     "execution_count": 122,
     "metadata": {},
     "output_type": "execute_result"
    }
   ],
   "source": [
    "# To select out a subset of the rows in a particular order, you can simply pass a list or ndarray of integers specifying the desired order\n",
    "arr[[4,3,0,6]]"
   ]
  },
  {
   "cell_type": "code",
   "execution_count": 123,
   "metadata": {},
   "outputs": [
    {
     "data": {
      "text/plain": [
       "array([[ 5.,  5.,  5.,  5.],\n",
       "       [ 1.,  1.,  1.,  1.]])"
      ]
     },
     "execution_count": 123,
     "metadata": {},
     "output_type": "execute_result"
    }
   ],
   "source": [
    "# Using negative indices selects rows from the end:\n",
    "arr[[-3,-7]]"
   ]
  },
  {
   "cell_type": "code",
   "execution_count": 125,
   "metadata": {},
   "outputs": [
    {
     "name": "stdout",
     "output_type": "stream",
     "text": [
      "[[ 0  1  2  3]\n",
      " [ 4  5  6  7]\n",
      " [ 8  9 10 11]\n",
      " [12 13 14 15]\n",
      " [16 17 18 19]\n",
      " [20 21 22 23]\n",
      " [24 25 26 27]\n",
      " [28 29 30 31]]\n",
      "[ 4 23 29 10]\n"
     ]
    }
   ],
   "source": [
    "# Passing multiple index arrays does something slightly different; it selects a one-dimensional array of elements corresponding to each tuple of indices:\n",
    "arr = np.arange(32).reshape((8,4))    \n",
    "print(arr)\n",
    "print(arr[[1,5,7,2], [0,3,1,2]])"
   ]
  },
  {
   "cell_type": "code",
   "execution_count": 126,
   "metadata": {},
   "outputs": [
    {
     "name": "stdout",
     "output_type": "stream",
     "text": [
      "[[ 4  7  5  6]\n",
      " [20 23 21 22]\n",
      " [28 31 29 30]\n",
      " [ 8 11  9 10]]\n"
     ]
    }
   ],
   "source": [
    "# The behavior of fancy indexing in this case is a bit different from what some users might have expected (myself included), which is the rectangular region formed by selecting a subset of the matrix’s rows and columns. Here is one way to get that\n",
    "print(arr[[1,5,7,2]][:,[0,3,1,2]])"
   ]
  },
  {
   "cell_type": "markdown",
   "metadata": {},
   "source": [
    "### Transposing Arrays and Swapping Axes"
   ]
  },
  {
   "cell_type": "code",
   "execution_count": 129,
   "metadata": {},
   "outputs": [
    {
     "name": "stdout",
     "output_type": "stream",
     "text": [
      "[[ 0  1  2  3  4]\n",
      " [ 5  6  7  8  9]\n",
      " [10 11 12 13 14]]\n"
     ]
    }
   ],
   "source": [
    "# Transposing is a special form of reshaping that similarly returns a view on the under‐ lying data without copying anything. Arrays have the transpose method and also the special T attribute\n",
    "arr = np.arange(15).reshape((3,5))\n",
    "print(arr)"
   ]
  },
  {
   "cell_type": "code",
   "execution_count": 131,
   "metadata": {},
   "outputs": [
    {
     "name": "stdout",
     "output_type": "stream",
     "text": [
      "[[ 0  5 10]\n",
      " [ 1  6 11]\n",
      " [ 2  7 12]\n",
      " [ 3  8 13]\n",
      " [ 4  9 14]]\n"
     ]
    }
   ],
   "source": [
    "print(arr.T)"
   ]
  },
  {
   "cell_type": "code",
   "execution_count": 133,
   "metadata": {},
   "outputs": [
    {
     "name": "stdout",
     "output_type": "stream",
     "text": [
      "[[ 1.26897651  0.65983104 -1.63866816]\n",
      " [ 0.96894705  0.53227892 -0.00584792]\n",
      " [-1.45134018  2.10180308 -1.95486787]\n",
      " [-1.10127858  0.78941272  0.2117114 ]\n",
      " [-0.12341338  0.90737157 -1.25876562]\n",
      " [-0.80108548 -0.36895107  0.67952241]]\n",
      "[[ 6.5253314  -2.38315485  0.12992033]\n",
      " [-2.38315485  6.71889453 -6.41885514]\n",
      " [ 0.12992033 -6.41885514  8.59783924]]\n"
     ]
    }
   ],
   "source": [
    "# When doing matrix computations, you may do this very often—for example, when computing the inner matrix product using np.dot\n",
    "arr = np.random.randn(6,3)\n",
    "print(arr)\n",
    "print(np.dot(arr.T, arr))"
   ]
  },
  {
   "cell_type": "markdown",
   "metadata": {},
   "source": [
    "### Universal Functions: Fast Element-Wise Array Functions"
   ]
  },
  {
   "cell_type": "code",
   "execution_count": 141,
   "metadata": {},
   "outputs": [
    {
     "name": "stdout",
     "output_type": "stream",
     "text": [
      "[0 1 2 3 4 5 6 7 8 9]\n",
      "[ 0.          1.          1.41421356  1.73205081  2.          2.23606798\n",
      "  2.44948974  2.64575131  2.82842712  3.        ]\n",
      "[  1.00000000e+00   2.71828183e+00   7.38905610e+00   2.00855369e+01\n",
      "   5.45981500e+01   1.48413159e+02   4.03428793e+02   1.09663316e+03\n",
      "   2.98095799e+03   8.10308393e+03]\n"
     ]
    }
   ],
   "source": [
    "# unary ufuncs\n",
    "arr = np.arange(10)\n",
    "print(arr)\n",
    "print(np.sqrt(arr))\n",
    "print(np.exp(arr))"
   ]
  },
  {
   "cell_type": "code",
   "execution_count": 147,
   "metadata": {},
   "outputs": [
    {
     "name": "stdout",
     "output_type": "stream",
     "text": [
      "[ 0.47837304  0.18438648 -0.84985198 -0.0158499  -0.28205844 -0.99578156\n",
      "  1.01637468 -0.33534897]\n",
      "[ 0.33557409 -0.28126837  0.0826899  -0.25374257 -2.5129853   1.72495314\n",
      " -0.4373597   0.88220205]\n",
      "[ 0.47837304  0.18438648  0.0826899  -0.0158499  -0.28205844  1.72495314\n",
      "  1.01637468  0.88220205]\n"
     ]
    }
   ],
   "source": [
    "# binary ufunc\n",
    "x = np.random.randn(8)\n",
    "y = np.random.randn(8)\n",
    "print(x)\n",
    "print(y)\n",
    "print(np.maximum(x,y))"
   ]
  },
  {
   "cell_type": "code",
   "execution_count": 153,
   "metadata": {},
   "outputs": [
    {
     "name": "stdout",
     "output_type": "stream",
     "text": [
      "[ -6.24919464  -8.8166399    4.31036646 -14.31857342  -5.91639705\n",
      "  -0.23145796  -0.870624  ]\n",
      "[ -6.  -8.   4. -14.  -5.  -0.  -0.]\n",
      "[-0.24919464 -0.8166399   0.31036646 -0.31857342 -0.91639705 -0.23145796\n",
      " -0.870624  ]\n"
     ]
    }
   ],
   "source": [
    "# modf is one example, a vec‐ torized version of the built-in Python divmod; returns the fractional and integral parts of a floating-point array\n",
    "arr = np.random.randn(7) * 5\n",
    "print(arr)\n",
    "remainder, whole_part = np.modf(arr)\n",
    "print(whole_part)\n",
    "print(remainder)"
   ]
  },
  {
   "cell_type": "code",
   "execution_count": 234,
   "metadata": {},
   "outputs": [
    {
     "name": "stdout",
     "output_type": "stream",
     "text": [
      "[        nan         nan         nan  2.31799482  1.90215667  1.85741756\n",
      "  2.23778909]\n"
     ]
    },
    {
     "name": "stderr",
     "output_type": "stream",
     "text": [
      "/Users/Andrew/Library/Enthought/Canopy/edm/envs/Python_3/lib/python3.5/site-packages/ipykernel/__main__.py:3: RuntimeWarning: invalid value encountered in sqrt\n",
      "  app.launch_new_instance()\n"
     ]
    }
   ],
   "source": [
    "# \n",
    "arr = [-3.2623, -6.0915, -6.663 ,  5.3731,  3.6182,  3.45  ,  5.0077]\n",
    "print(np.sqrt(arr))"
   ]
  },
  {
   "cell_type": "code",
   "execution_count": 164,
   "metadata": {},
   "outputs": [
    {
     "name": "stdout",
     "output_type": "stream",
     "text": [
      "[-3.2623, -6.0915, -6.663, 5.3731, 3.6182, 3.45, 5.0077]\n",
      "[ 3.2623  6.0915  6.663   5.3731  3.6182  3.45    5.0077]\n",
      "[ 3.2623  6.0915  6.663   5.3731  3.6182  3.45    5.0077]\n",
      "[ 10.64260129  37.10637225  44.395569    28.87020361  13.09137124  11.9025\n",
      "  25.07705929]\n",
      "[-1. -1. -1.  1.  1.  1.  1.]\n",
      "[-3. -6. -6.  6.  4.  4.  6.]\n",
      "[-4. -7. -7.  5.  3.  3.  5.]\n",
      "[ True  True  True  True  True  True  True]\n"
     ]
    }
   ],
   "source": [
    "print(arr)\n",
    "print(np.abs(arr))\n",
    "print(np.fabs(arr))\n",
    "print(np.square(arr))\n",
    "print(np.sign(arr))\n",
    "print(np.ceil(arr))\n",
    "print(np.floor(arr))\n",
    "print(np.isfinite(arr))"
   ]
  },
  {
   "cell_type": "code",
   "execution_count": 166,
   "metadata": {},
   "outputs": [
    {
     "name": "stdout",
     "output_type": "stream",
     "text": [
      "[[-5.   -4.99 -4.98 ...,  4.97  4.98  4.99]\n",
      " [-5.   -4.99 -4.98 ...,  4.97  4.98  4.99]\n",
      " [-5.   -4.99 -4.98 ...,  4.97  4.98  4.99]\n",
      " ..., \n",
      " [-5.   -4.99 -4.98 ...,  4.97  4.98  4.99]\n",
      " [-5.   -4.99 -4.98 ...,  4.97  4.98  4.99]\n",
      " [-5.   -4.99 -4.98 ...,  4.97  4.98  4.99]]\n",
      "[[-5.   -5.   -5.   ..., -5.   -5.   -5.  ]\n",
      " [-4.99 -4.99 -4.99 ..., -4.99 -4.99 -4.99]\n",
      " [-4.98 -4.98 -4.98 ..., -4.98 -4.98 -4.98]\n",
      " ..., \n",
      " [ 4.97  4.97  4.97 ...,  4.97  4.97  4.97]\n",
      " [ 4.98  4.98  4.98 ...,  4.98  4.98  4.98]\n",
      " [ 4.99  4.99  4.99 ...,  4.99  4.99  4.99]]\n"
     ]
    }
   ],
   "source": [
    "# Using NumPy arrays enables you to express many kinds of data processing tasks as concise array expressions that might otherwise require writing loops. This practice of replacing explicit loops with array expressions is commonly referred to as vectoriza‐ tion. In general, vectorized array operations will often be one or two (or more) orders of magnitude faster than their pure Python equivalents, with the biggest impact in any kind of numerical computations\n",
    "# As a simple example, suppose we wished to evaluate the function sqrt(x^2 + y^2) across a regular grid of values. The np.meshgrid function takes two 1D arrays and produces two 2D matrices corresponding to all pairs of (x, y) in the two arrays:\n",
    "points = np.arange(-5,5,0.01)\n",
    "xs, ys = np.meshgrid(points, points)\n",
    "print(xs)\n",
    "print(ys)"
   ]
  },
  {
   "cell_type": "code",
   "execution_count": 173,
   "metadata": {},
   "outputs": [],
   "source": [
    "# Now, evaluating the function is a matter of writing the same expression you would write with two points\n",
    "z = np.sqrt(xs ** 2 + ys ** 2)\n",
    "#print(z)"
   ]
  },
  {
   "cell_type": "code",
   "execution_count": 179,
   "metadata": {},
   "outputs": [
    {
     "data": {
      "image/png": "[encoded data removed]",
      "text/plain": [
       "<matplotlib.figure.Figure at 0x124d93080>"
      ]
     },
     "metadata": {},
     "output_type": "display_data"
    }
   ],
   "source": [
    "# I use matplotlib to create visualizations of this two- dimensional array\n",
    "import matplotlib.pyplot as plt\n",
    "plt.figure(figsize = (12,12))\n",
    "plt.imshow(z, cmap=plt.cm.gray)\n",
    "plt.colorbar()\n",
    "plt.title('Image plot of $\\sqrt{x^2 + y^2}$ for a grid of values')\n",
    "plt.show()"
   ]
  },
  {
   "cell_type": "markdown",
   "metadata": {},
   "source": [
    "### Expressing Conditional Logic as Array Operations. np.where() "
   ]
  },
  {
   "cell_type": "code",
   "execution_count": 186,
   "metadata": {},
   "outputs": [
    {
     "name": "stdout",
     "output_type": "stream",
     "text": [
      "[1.1000000000000001, 2.2000000000000002, 1.3, 1.3999999999999999, 2.5]\n"
     ]
    }
   ],
   "source": [
    "# The numpy.where function is a vectorized version of the ternary expression 'x if con dition else y'. Suppose we had a boolean array and two arrays of values\n",
    "xarr = np.array([1.1, 1.2, 1.3, 1.4, 1.5])\n",
    "yarr = np.array([2.1, 2.2, 2.3, 2.4, 2.5])\n",
    "cond = np.array([True, False, True, True, False])\n",
    "# Suppose we wanted to take a value from xarr whenever the corresponding value in cond is True, and otherwise take the value from yarr. A list comprehension doing this might look like\n",
    "result = [(x if c else y) for x,y,c in zip(xarr, yarr, cond)]\n",
    "print(result)"
   ]
  },
  {
   "cell_type": "code",
   "execution_count": 187,
   "metadata": {},
   "outputs": [
    {
     "name": "stdout",
     "output_type": "stream",
     "text": [
      "[ 1.1  2.2  1.3  1.4  2.5]\n"
     ]
    }
   ],
   "source": [
    "# This has multiple problems. First, it will not be very fast for large arrays (because all the work is being done in interpreted Python code). Second, it will not work with multidimensional arrays. With np.where you can write this very concisely\n",
    "result = np.where(cond, xarr, yarr)\n",
    "print(result)"
   ]
  },
  {
   "cell_type": "code",
   "execution_count": 188,
   "metadata": {},
   "outputs": [
    {
     "name": "stdout",
     "output_type": "stream",
     "text": [
      "[[ 0.46556001  0.71854503  0.29349276  0.50385164]\n",
      " [ 0.13765282 -1.14278637 -0.46297968 -0.0635249 ]\n",
      " [ 1.44303346 -0.43603819  0.21586001 -0.6399929 ]\n",
      " [-0.37600804  0.33557696 -0.25764308 -0.32105408]]\n"
     ]
    }
   ],
   "source": [
    "# A typical use of where in data analysis is to produce a new array of values based on another array. Suppose you had a matrix of randomly generated data and you wanted to replace all positive values with 2 and all negative values with –2. This is very easy to do with np.where\n",
    "arr = np.random.randn(4,4)\n",
    "print(arr)"
   ]
  },
  {
   "cell_type": "code",
   "execution_count": 189,
   "metadata": {},
   "outputs": [
    {
     "name": "stdout",
     "output_type": "stream",
     "text": [
      "[[ True  True  True  True]\n",
      " [ True False False False]\n",
      " [ True False  True False]\n",
      " [False  True False False]]\n"
     ]
    }
   ],
   "source": [
    "print(arr > 0)"
   ]
  },
  {
   "cell_type": "code",
   "execution_count": 191,
   "metadata": {},
   "outputs": [
    {
     "name": "stdout",
     "output_type": "stream",
     "text": [
      "[[ 2  2  2  2]\n",
      " [ 2 -2 -2 -2]\n",
      " [ 2 -2  2 -2]\n",
      " [-2  2 -2 -2]]\n"
     ]
    }
   ],
   "source": [
    "print(np.where(arr > 0, 2, -2))"
   ]
  },
  {
   "cell_type": "code",
   "execution_count": 192,
   "metadata": {},
   "outputs": [
    {
     "name": "stdout",
     "output_type": "stream",
     "text": [
      "[[ 2.          2.          2.          2.        ]\n",
      " [ 2.         -1.14278637 -0.46297968 -0.0635249 ]\n",
      " [ 2.         -0.43603819  2.         -0.6399929 ]\n",
      " [-0.37600804  2.         -0.25764308 -0.32105408]]\n"
     ]
    }
   ],
   "source": [
    "# You can combine scalars and arrays when using np.where. For example, I can replace all positive values in arr with the constant 2 like so\n",
    "print(np.where(arr > 0, 2, arr))"
   ]
  },
  {
   "cell_type": "markdown",
   "metadata": {},
   "source": [
    "### Mathematical and Statistical Methods"
   ]
  },
  {
   "cell_type": "code",
   "execution_count": 231,
   "metadata": {},
   "outputs": [
    {
     "name": "stdout",
     "output_type": "stream",
     "text": [
      "[[-0.1896052   1.55593016  2.2738371   0.12428528]\n",
      " [-0.12997504 -0.22973649 -0.00830527 -2.27760272]\n",
      " [ 0.88614171  0.11548223 -0.90515425  1.06298282]\n",
      " [ 0.07364311 -1.24066699 -0.40700375 -1.07455238]\n",
      " [-1.71726332 -1.37982091 -0.59010618 -1.54881581]]\n"
     ]
    }
   ],
   "source": [
    "# A set of mathematical functions that compute statistics about an entire array or about the data along an axis are accessible as methods of the array class\n",
    "arr = np.random.randn(5,4)\n",
    "print(arr)"
   ]
  },
  {
   "cell_type": "code",
   "execution_count": 232,
   "metadata": {},
   "outputs": [
    {
     "name": "stdout",
     "output_type": "stream",
     "text": [
      "-0.280315295653\n",
      "-0.280315295653\n",
      "-5.60630591306\n",
      "-5.60630591306\n"
     ]
    }
   ],
   "source": [
    "print(arr.mean())\n",
    "print(np.mean(arr))\n",
    "print(arr.sum())\n",
    "print(np.sum(arr))"
   ]
  },
  {
   "cell_type": "code",
   "execution_count": 233,
   "metadata": {},
   "outputs": [
    {
     "name": "stdout",
     "output_type": "stream",
     "text": [
      "[ 0.94111183 -0.66140488  0.28986313 -0.662145   -1.30900156]\n",
      "[ 0.94111183 -0.66140488  0.28986313 -0.662145   -1.30900156]\n",
      "[-0.21541175 -0.2357624   0.07265353 -0.74274056]\n"
     ]
    }
   ],
   "source": [
    "# Functions like mean and sum take an optional axis argument that computes the statis‐ tic over the given axis, resulting in an array with one fewer dimension\n",
    "print(arr.mean(axis = 1)) # 1 means accross columns from left to right\n",
    "print(np.mean(arr, axis = 1))\n",
    "print(np.mean(arr, axis = 0))"
   ]
  },
  {
   "cell_type": "code",
   "execution_count": 198,
   "metadata": {},
   "outputs": [
    {
     "name": "stdout",
     "output_type": "stream",
     "text": [
      "[-0.08470068  0.37868564  1.32737374 -0.48932392]\n"
     ]
    }
   ],
   "source": [
    "print(arr.sum(axis = 0)) # 0 means accross rows down"
   ]
  },
  {
   "cell_type": "code",
   "execution_count": 201,
   "metadata": {},
   "outputs": [
    {
     "name": "stdout",
     "output_type": "stream",
     "text": [
      "[ 0  1  3  6 10 15 21 28]\n",
      "[   1    2    6   24  120  720 5040]\n"
     ]
    }
   ],
   "source": [
    "# Other methods like cumsum and cumprod do not aggregate, instead producing an array of the intermediate results\n",
    "arr = np.array([0,1,2,3,4,5,6,7])\n",
    "print(arr.cumsum())\n",
    "print(arr[1:].cumprod())"
   ]
  },
  {
   "cell_type": "markdown",
   "metadata": {},
   "source": [
    "### Methods for Boolean Arrays"
   ]
  },
  {
   "cell_type": "code",
   "execution_count": 205,
   "metadata": {},
   "outputs": [
    {
     "name": "stdout",
     "output_type": "stream",
     "text": [
      "41\n"
     ]
    }
   ],
   "source": [
    "# Boolean values are coerced to 1 (True) and 0 (False) in the preceding methods. Thus, sum is often used as a means of counting True values in a boolean array\n",
    "arr = np.random.randn(100)\n",
    "print((arr > 0).sum())"
   ]
  },
  {
   "cell_type": "code",
   "execution_count": 207,
   "metadata": {},
   "outputs": [
    {
     "name": "stdout",
     "output_type": "stream",
     "text": [
      "True\n",
      "False\n"
     ]
    }
   ],
   "source": [
    "# There are two additional methods, any and all, useful especially for boolean arrays. any tests whether one or more values in an array is True, while all checks if every value is True:\n",
    "bools = np.array([False, False, True, False])\n",
    "print(bools.any())\n",
    "print(bools.all())"
   ]
  },
  {
   "cell_type": "markdown",
   "metadata": {},
   "source": [
    "### Sorting"
   ]
  },
  {
   "cell_type": "code",
   "execution_count": 213,
   "metadata": {},
   "outputs": [
    {
     "name": "stdout",
     "output_type": "stream",
     "text": [
      "[ 0.25298176 -1.53686922 -2.11139038 -1.07552924  0.21414379  1.64615818]\n",
      "[-2.11139038 -1.53686922 -1.07552924  0.21414379  0.25298176  1.64615818]\n"
     ]
    }
   ],
   "source": [
    "# Like Python’s built-in list type, NumPy arrays can be sorted in-place with the sort method\n",
    "arr = np.random.randn(6)\n",
    "print(arr)\n",
    "arr.sort()\n",
    "print(arr)"
   ]
  },
  {
   "cell_type": "code",
   "execution_count": 215,
   "metadata": {},
   "outputs": [
    {
     "name": "stdout",
     "output_type": "stream",
     "text": [
      "[[ 2.16741449 -1.50523437  0.04118937]\n",
      " [-0.02115917  0.88441951 -1.47123017]\n",
      " [ 0.56813284  0.71305134 -1.95474847]\n",
      " [-0.39873349  0.35793534 -0.6702457 ]\n",
      " [ 0.03362992 -0.40533024 -1.59928416]]\n",
      "[[-1.50523437  0.04118937  2.16741449]\n",
      " [-1.47123017 -0.02115917  0.88441951]\n",
      " [-1.95474847  0.56813284  0.71305134]\n",
      " [-0.6702457  -0.39873349  0.35793534]\n",
      " [-1.59928416 -0.40533024  0.03362992]]\n"
     ]
    }
   ],
   "source": [
    "# You can sort each one-dimensional section of values in a multidimensional array in- place along an axis by passing the axis number to sort\n",
    "arr = np.random.randn(5,3)\n",
    "print(arr)\n",
    "arr.sort(1)\n",
    "print(arr)"
   ]
  },
  {
   "cell_type": "code",
   "execution_count": 216,
   "metadata": {},
   "outputs": [
    {
     "data": {
      "text/plain": [
       "-1.6815785683619378"
      ]
     },
     "execution_count": 216,
     "metadata": {},
     "output_type": "execute_result"
    }
   ],
   "source": [
    "# The top-level method np.sort returns a sorted copy of an array instead of modifying the array in-place. A quick-and-dirty way to compute the quantiles of an array is to sort it and select the value at a particular rank\n",
    "large_arr = np.random.randn(1000)\n",
    "large_arr.sort()\n",
    "large_arr[int(0.05 * len(large_arr))]"
   ]
  },
  {
   "cell_type": "markdown",
   "metadata": {},
   "source": [
    "### Unique and Other Set Logic"
   ]
  },
  {
   "cell_type": "code",
   "execution_count": 218,
   "metadata": {},
   "outputs": [
    {
     "name": "stdout",
     "output_type": "stream",
     "text": [
      "['Bob' 'Joe' 'Will']\n"
     ]
    }
   ],
   "source": [
    "# NumPy has some basic set operations for one-dimensional ndarrays. A commonly used one is np.unique, which returns the sorted unique values in an array\n",
    "names = np.array(['Bob', 'Joe', 'Will', 'Bob', 'Will', 'Joe', 'Joe'])\n",
    "print(np.unique(names))"
   ]
  },
  {
   "cell_type": "code",
   "execution_count": 219,
   "metadata": {},
   "outputs": [
    {
     "name": "stdout",
     "output_type": "stream",
     "text": [
      "[1 2 3 4]\n"
     ]
    }
   ],
   "source": [
    "ints = np.array([3, 3, 3, 2, 2, 1, 1, 4, 4])\n",
    "print(np.unique(ints))"
   ]
  },
  {
   "cell_type": "code",
   "execution_count": 221,
   "metadata": {},
   "outputs": [
    {
     "data": {
      "text/plain": [
       "['Bob', 'Joe', 'Will']"
      ]
     },
     "execution_count": 221,
     "metadata": {},
     "output_type": "execute_result"
    }
   ],
   "source": [
    "# Contrast np.unique with the pure Python alternative:\n",
    "sorted(set(names))"
   ]
  },
  {
   "cell_type": "code",
   "execution_count": 222,
   "metadata": {},
   "outputs": [
    {
     "name": "stdout",
     "output_type": "stream",
     "text": [
      "[ True False False  True  True False  True]\n"
     ]
    }
   ],
   "source": [
    "# Another function, np.in1d, tests membership of the values in one array in another, returning a boolean array\n",
    "values = np.array([6, 0, 0, 3, 2, 5, 6])\n",
    "print(np.in1d(values, [2,3,6]))\n"
   ]
  },
  {
   "cell_type": "code",
   "execution_count": 223,
   "metadata": {},
   "outputs": [
    {
     "name": "stdout",
     "output_type": "stream",
     "text": [
      "[2 3 6]\n"
     ]
    }
   ],
   "source": [
    "print(np.intersect1d(values, [2,3,6]))"
   ]
  },
  {
   "cell_type": "code",
   "execution_count": 225,
   "metadata": {},
   "outputs": [
    {
     "name": "stdout",
     "output_type": "stream",
     "text": [
      "[0 5]\n",
      "[]\n"
     ]
    }
   ],
   "source": [
    "print(np.setdiff1d(values, [2,3,6]))\n",
    "print(np.setdiff1d([2,3,6], values))"
   ]
  },
  {
   "cell_type": "code",
   "execution_count": 226,
   "metadata": {},
   "outputs": [
    {
     "name": "stdout",
     "output_type": "stream",
     "text": [
      "[0 1 2 3 5 6 7]\n"
     ]
    }
   ],
   "source": [
    "print(np.union1d(values, [7, 1, 6, 0]))"
   ]
  },
  {
   "cell_type": "code",
   "execution_count": 227,
   "metadata": {},
   "outputs": [
    {
     "name": "stdout",
     "output_type": "stream",
     "text": [
      "[1 2 3 5 7]\n"
     ]
    }
   ],
   "source": [
    "print(np.setxor1d(values, [7, 1, 6, 0]))"
   ]
  },
  {
   "cell_type": "markdown",
   "metadata": {},
   "source": [
    "### File Input and Output with Arrays"
   ]
  },
  {
   "cell_type": "code",
   "execution_count": 236,
   "metadata": {},
   "outputs": [
    {
     "name": "stdout",
     "output_type": "stream",
     "text": [
      "[0 1 2 3 4 5 6 7 8 9]\n"
     ]
    }
   ],
   "source": [
    "# In this section I only discuss NumPy’s built-in binary format, since most users will prefer pandas and other tools for loading text or tabular data (see Chapter 6 for much more).\n",
    "# np.save and np.load are the two workhorse functions for efficiently saving and load‐ ing array data on disk. Arrays are saved by default in an uncompressed raw binary format with file extension .npy\n",
    "arr = np.arange(10)\n",
    "print(arr)\n",
    "np.save('some array', arr)"
   ]
  },
  {
   "cell_type": "code",
   "execution_count": 237,
   "metadata": {},
   "outputs": [
    {
     "data": {
      "text/plain": [
       "array([0, 1, 2, 3, 4, 5, 6, 7, 8, 9])"
      ]
     },
     "execution_count": 237,
     "metadata": {},
     "output_type": "execute_result"
    }
   ],
   "source": [
    "np.load('some array.npy')"
   ]
  },
  {
   "cell_type": "code",
   "execution_count": 238,
   "metadata": {
    "collapsed": true
   },
   "outputs": [],
   "source": [
    "# You save multiple arrays in an uncompressed archive using np.savez and passing the arrays as keyword arguments\n",
    "np.savez('array_archive.npz', a = arr, b = [99, 199, 299])"
   ]
  },
  {
   "cell_type": "code",
   "execution_count": 241,
   "metadata": {},
   "outputs": [
    {
     "name": "stdout",
     "output_type": "stream",
     "text": [
      "<numpy.lib.npyio.NpzFile object at 0x11f650940>\n",
      "[ 99 199 299]\n",
      "[0 1 2 3 4 5 6 7 8 9]\n"
     ]
    }
   ],
   "source": [
    "# When loading an .npz file, you get back a dict-like object that loads the individual arrays lazily\n",
    "arch = np.load('array_archive.npz')\n",
    "print(arch)\n",
    "print(arch['b'])\n",
    "print(arch['a'])"
   ]
  },
  {
   "cell_type": "markdown",
   "metadata": {},
   "source": [
    "### Linear Algebra with np.array(s)"
   ]
  },
  {
   "cell_type": "code",
   "execution_count": 242,
   "metadata": {},
   "outputs": [
    {
     "name": "stdout",
     "output_type": "stream",
     "text": [
      "[[ 1.  2.  3.]\n",
      " [ 4.  5.  6.]]\n",
      "[[  6.  23.]\n",
      " [ -2.   7.]\n",
      " [  8.   9.]]\n"
     ]
    }
   ],
   "source": [
    "# dot product\n",
    "x = np.array([[1.,2.,3.], [4.,5.,6.]])\n",
    "y = np.array([[6., 23.], [-2,7], [8,9]])\n",
    "print(x)\n",
    "print(y)"
   ]
  },
  {
   "cell_type": "code",
   "execution_count": 243,
   "metadata": {},
   "outputs": [
    {
     "data": {
      "text/plain": [
       "array([[  26.,   64.],\n",
       "       [  62.,  181.]])"
      ]
     },
     "execution_count": 243,
     "metadata": {},
     "output_type": "execute_result"
    }
   ],
   "source": [
    "x.dot(y)"
   ]
  },
  {
   "cell_type": "code",
   "execution_count": 244,
   "metadata": {},
   "outputs": [
    {
     "data": {
      "text/plain": [
       "array([[  26.,   64.],\n",
       "       [  62.,  181.]])"
      ]
     },
     "execution_count": 244,
     "metadata": {},
     "output_type": "execute_result"
    }
   ],
   "source": [
    "np.dot(x,y)"
   ]
  },
  {
   "cell_type": "code",
   "execution_count": 245,
   "metadata": {},
   "outputs": [
    {
     "data": {
      "text/plain": [
       "array([  6.,  15.])"
      ]
     },
     "execution_count": 245,
     "metadata": {},
     "output_type": "execute_result"
    }
   ],
   "source": [
    "# A matrix product between a two-dimensional array and a suitably sized one-dimensional array results in a one-dimensional array\n",
    "np.dot(x, np.ones(3))\n"
   ]
  },
  {
   "cell_type": "code",
   "execution_count": 246,
   "metadata": {},
   "outputs": [
    {
     "data": {
      "text/plain": [
       "array([  6.,  15.])"
      ]
     },
     "execution_count": 246,
     "metadata": {},
     "output_type": "execute_result"
    }
   ],
   "source": [
    "# The @ symbol (as of Python 3.5) also works as an infix operator that performs matrix multiplication\n",
    "x @ np.ones(3)"
   ]
  },
  {
   "cell_type": "code",
   "execution_count": 248,
   "metadata": {},
   "outputs": [
    {
     "name": "stdout",
     "output_type": "stream",
     "text": [
      "[[ 0.90437075 -0.7474915  -0.48442779  0.20971784  0.95967294]\n",
      " [-0.7474915   1.38895507  1.05303817  0.39146236 -1.3527869 ]\n",
      " [-0.48442779  1.05303817  1.00178941  0.45080138 -1.03823897]\n",
      " [ 0.20971784  0.39146236  0.45080138  1.15478371 -0.07364083]\n",
      " [ 0.95967294 -1.3527869  -1.03823897 -0.07364083  1.57404069]]\n"
     ]
    }
   ],
   "source": [
    "# numpy.linalg has a standard set of matrix decompositions and things like inverse and determinant\n",
    "from numpy.linalg import inv, qr\n",
    "\n",
    "X = np.random.randn(5,5)\n",
    "mat = X.T.dot(X)\n",
    "print(inv(mat))"
   ]
  },
  {
   "cell_type": "code",
   "execution_count": 251,
   "metadata": {},
   "outputs": [
    {
     "name": "stdout",
     "output_type": "stream",
     "text": [
      "[[  1.00000000e+00  -4.29463727e-16  -1.50220861e-16   9.41408183e-17\n",
      "   -2.37524063e-16]\n",
      " [  4.35140472e-16   1.00000000e+00   3.23224438e-15   1.79500634e-16\n",
      "   -1.08082177e-15]\n",
      " [  4.38344777e-16  -3.04388500e-16   1.00000000e+00  -5.03308672e-17\n",
      "   -1.13703304e-16]\n",
      " [ -5.02317765e-16   7.25779918e-16   4.68671014e-17   1.00000000e+00\n",
      "   -6.47800711e-16]\n",
      " [  1.45564062e-15   1.06163217e-15   1.22394380e-15   3.86275475e-17\n",
      "    1.00000000e+00]]\n"
     ]
    }
   ],
   "source": [
    "print(mat.dot(inv(mat)))"
   ]
  },
  {
   "cell_type": "code",
   "execution_count": 253,
   "metadata": {},
   "outputs": [
    {
     "name": "stdout",
     "output_type": "stream",
     "text": [
      "[[-0.75463244 -0.14781847 -0.42452988 -0.28730674  0.38198009]\n",
      " [-0.06789125 -0.8277028   0.020029   -0.14130572 -0.53845184]\n",
      " [ 0.27272888  0.2661526  -0.7949968  -0.22800164 -0.41325185]\n",
      " [ 0.09095694  0.17563252  0.36591224 -0.90891646 -0.02931137]\n",
      " [ 0.58588945 -0.43746289 -0.23121751 -0.13918927  0.62651782]]\n",
      "[[ -5.4794736    1.49906486   4.96152427  -0.84604802   8.23438147]\n",
      " [  0.         -10.16957687   2.22222192   2.25711656  -7.44664356]\n",
      " [  0.           0.          -6.07307524   2.4300887   -4.03901069]\n",
      " [  0.           0.           0.          -0.79509927  -0.12562638]\n",
      " [  0.           0.           0.           0.           0.39803153]]\n"
     ]
    }
   ],
   "source": [
    "q, r = qr(mat)\n",
    "print(q)\n",
    "print(r)"
   ]
  },
  {
   "cell_type": "markdown",
   "metadata": {},
   "source": [
    "### Pseudorandom Number Generation"
   ]
  },
  {
   "cell_type": "code",
   "execution_count": 258,
   "metadata": {},
   "outputs": [
    {
     "name": "stdout",
     "output_type": "stream",
     "text": [
      "[[-1.14035808 -1.48180698  0.2236581  -0.16254065]\n",
      " [-0.08004171  0.96170992 -1.53866971 -0.96004753]\n",
      " [-0.67231638 -0.20562372  1.35428745 -0.16787133]\n",
      " [-0.40727862 -1.92067294  0.92900703 -1.57683322]]\n"
     ]
    }
   ],
   "source": [
    "# For example, you can get a 4 × 4 array of samples from the standard normal distribution using normal\n",
    "samples = np.random.normal(size=(4,4))\n",
    "print(samples)"
   ]
  },
  {
   "cell_type": "code",
   "execution_count": 259,
   "metadata": {},
   "outputs": [
    {
     "name": "stdout",
     "output_type": "stream",
     "text": [
      "1 loop, best of 3: 1.08 s per loop\n"
     ]
    }
   ],
   "source": [
    "# As you can see from this benchmark, numpy.random is well over an order of magnitude faster for generating very large samples\n",
    "from random import normalvariate\n",
    "N = 1000000\n",
    "%timeit samples = [normalvariate(0,1) for _ in range(N)]"
   ]
  },
  {
   "cell_type": "code",
   "execution_count": 260,
   "metadata": {},
   "outputs": [
    {
     "name": "stdout",
     "output_type": "stream",
     "text": [
      "10 loops, best of 3: 37.9 ms per loop\n"
     ]
    }
   ],
   "source": [
    "%timeit np.random.normal(size=N)"
   ]
  },
  {
   "cell_type": "code",
   "execution_count": 261,
   "metadata": {
    "collapsed": true
   },
   "outputs": [],
   "source": [
    "# We say that these are pseudorandom numbers because they are generated by an algo‐ rithm with deterministic behavior based on the seed of the random number genera‐ tor. You can change NumPy’s random number generation seed using np.random.seed\n",
    "np.random.seed(1234)"
   ]
  },
  {
   "cell_type": "code",
   "execution_count": 262,
   "metadata": {},
   "outputs": [
    {
     "data": {
      "text/plain": [
       "array([ 0.47143516, -1.19097569,  1.43270697, -0.3126519 , -0.72058873,\n",
       "        0.88716294,  0.85958841, -0.6365235 ,  0.01569637, -2.24268495])"
      ]
     },
     "execution_count": 262,
     "metadata": {},
     "output_type": "execute_result"
    }
   ],
   "source": [
    "# The data generation functions in numpy.random use a global random seed. To avoid global state, you can use numpy.random.RandomState to create a random number generator isolated from others\n",
    "rng = np.random.RandomState(1234)\n",
    "rng.randn(10)"
   ]
  },
  {
   "cell_type": "code",
   "execution_count": 268,
   "metadata": {},
   "outputs": [
    {
     "name": "stdout",
     "output_type": "stream",
     "text": [
      "[ 0.18428708  0.04735528  0.67488094  0.59462478  0.53331016  0.04332406\n",
      "  0.56143308  0.32966845  0.50296683  0.11189432]\n",
      "[ 0.60719371  0.56594464  0.00676406  0.61744171  0.91212289  0.79052413\n",
      "  0.99208147  0.95880176  0.79196414  0.28525096]\n"
     ]
    }
   ],
   "source": [
    "print(np.random.uniform(size = 10))\n",
    "print(np.random.rand(10))"
   ]
  },
  {
   "cell_type": "code",
   "execution_count": 275,
   "metadata": {},
   "outputs": [
    {
     "name": "stdout",
     "output_type": "stream",
     "text": [
      "[ 1.45939176 -0.86161079 -2.08808027 -0.59505928 -2.57581839 -0.01391407\n",
      "  0.05313    -0.34552026  0.86996073 -1.44042457]\n",
      "[ 1.31844217 -0.65996957 -0.68501363 -0.73589099 -0.13859447  1.24376869\n",
      "  0.73374688 -0.17960024  0.62789723 -0.91374167]\n"
     ]
    }
   ],
   "source": [
    "print(np.random.randn(10))\n",
    "print(np.random.normal(size = 10))\n"
   ]
  },
  {
   "cell_type": "code",
   "execution_count": 279,
   "metadata": {},
   "outputs": [
    {
     "name": "stdout",
     "output_type": "stream",
     "text": [
      "7\n"
     ]
    }
   ],
   "source": [
    "print(np.random.randint(0,10))"
   ]
  },
  {
   "cell_type": "code",
   "execution_count": 283,
   "metadata": {},
   "outputs": [
    {
     "name": "stdout",
     "output_type": "stream",
     "text": [
      "[7 1 0 5 2 9 4 8 3 6]\n",
      "[9 7 5 8 4 1 6 3 2 0]\n",
      "[3 9 0 4 8 7 2 1 6 5]\n"
     ]
    }
   ],
   "source": [
    "print(np.random.permutation(np.arange(10)))\n",
    "print(np.random.permutation(np.arange(10)))\n",
    "print(np.random.permutation(np.arange(10)))"
   ]
  },
  {
   "cell_type": "markdown",
   "metadata": {},
   "source": [
    "### Example: Random Walks"
   ]
  },
  {
   "cell_type": "code",
   "execution_count": 289,
   "metadata": {},
   "outputs": [
    {
     "data": {
      "image/png": "[encoded data removed]",
      "text/plain": [
       "<matplotlib.figure.Figure at 0x12483e4e0>"
      ]
     },
     "metadata": {},
     "output_type": "display_data"
    }
   ],
   "source": [
    "# The simulation of random walks provides an illustrative application of utilizing array operations. Let’s first consider a simple random walk starting at 0 with steps of 1 and –1 occurring with equal probability.\n",
    "# Here is a pure Python way to implement a single random walk with 1,000 steps using the built-in random module:\n",
    "import random\n",
    "position = 0\n",
    "walk = [position]\n",
    "steps = 1000\n",
    "for i in range(steps):\n",
    "    step = 1 if random.randint(0,1) else -1\n",
    "    position += step\n",
    "    walk.append(position)\n",
    "plt.plot(walk[:100])\n",
    "plt.show()"
   ]
  },
  {
   "cell_type": "code",
   "execution_count": 290,
   "metadata": {},
   "outputs": [
    {
     "name": "stdout",
     "output_type": "stream",
     "text": [
      "1001\n"
     ]
    }
   ],
   "source": [
    "#print(walk)\n",
    "print(len(walk))"
   ]
  },
  {
   "cell_type": "code",
   "execution_count": 299,
   "metadata": {},
   "outputs": [
    {
     "data": {
      "image/png": "[encoded data removed]",
      "text/plain": [
       "<matplotlib.figure.Figure at 0x1244f1048>"
      ]
     },
     "metadata": {},
     "output_type": "display_data"
    },
    {
     "name": "stdout",
     "output_type": "stream",
     "text": [
      "-14\n",
      "24\n"
     ]
    }
   ],
   "source": [
    "# You might make the observation that walk is simply the cumulative sum of the ran‐ dom steps and could be evaluated as an array expression. Thus, I use the np.random module to draw 1,000 coin flips at once, set these to 1 and –1, and compute the cumulative sum\n",
    "nsteps = 1000\n",
    "draws = np.random.randint(0,2, size=nsteps)\n",
    "#print(draws)\n",
    "steps = np.where(draws > 0, 1, -1)\n",
    "#print(steps)\n",
    "walk = steps.cumsum()\n",
    "#print(walk)\n",
    "print(walk.min())\n",
    "print(walk.max())\n",
    "\n",
    "plt.plot(walk)\n",
    "plt.show()"
   ]
  },
  {
   "cell_type": "code",
   "execution_count": 303,
   "metadata": {},
   "outputs": [
    {
     "name": "stdout",
     "output_type": "stream",
     "text": [
      "77\n"
     ]
    }
   ],
   "source": [
    "# A more complicated statistic is the first crossing time, the step at which the random walk reaches a particular value. Here we might want to know how long it took the random walk to get at least 10 steps away from the origin 0 in either direction. np.abs(walk) >= 10 gives us a boolean array indicating where the walk has reached or exceeded 10, but we want the index of the first 10 or –10. Turns out, we can com‐ pute this using argmax, which returns the first index of the maximum value in the boolean array (True is the maximum value)\n",
    "#print(np.abs(walk) >= 10)\n",
    "print((np.abs(walk) >= 10).argmax())"
   ]
  },
  {
   "cell_type": "markdown",
   "metadata": {},
   "source": [
    "### Example: Simulating Many Random Walks at Once"
   ]
  },
  {
   "cell_type": "code",
   "execution_count": 330,
   "metadata": {},
   "outputs": [
    {
     "name": "stdout",
     "output_type": "stream",
     "text": [
      "(5000, 1000)\n",
      "{0, 1}\n",
      "[[  1   0   1 ..., -14 -13 -14]\n",
      " [  1   2   1 ...,  24  25  26]\n",
      " [  1   0  -1 ..., -18 -17 -18]\n",
      " ..., \n",
      " [ -1  -2  -1 ..., -26 -25 -26]\n",
      " [ -1  -2  -3 ...,   4   3   4]\n",
      " [ -1  -2  -1 ..., -42 -41 -40]]\n",
      "104\n",
      "-116\n"
     ]
    }
   ],
   "source": [
    "# If your goal was to simulate many random walks, say 5,000 of them, you can generate all of the random walks with minor modifications to the preceding code. If passed a 2-tuple, the numpy.random functions will generate a two-dimensional array of draws, and we can compute the cumulative sum across the rows to compute all 5,000 ran‐ dom walks in one shot\n",
    "nwalks = 5000\n",
    "nsteps = 1000\n",
    "draws = np.random.randint(0,2,size=(nwalks, nsteps))\n",
    "print(draws.shape)\n",
    "#print(draws)\n",
    "print(set(draws[1,:])) # unique values\n",
    "#steps = np.where(draws == 0, -1, draws)\n",
    "steps = np.where(draws > 0, 1, -1)\n",
    "#print(steps)\n",
    "walks = steps.cumsum(axis = 1)\n",
    "#print(walks.shape)\n",
    "print(walks)\n",
    "# Now, we can compute the maximum and minimum values obtained over all of the walks\n",
    "print(walks.max())\n",
    "print(walks.min())"
   ]
  },
  {
   "cell_type": "code",
   "execution_count": 317,
   "metadata": {},
   "outputs": [],
   "source": [
    "?np.cumsum()?"
   ]
  },
  {
   "cell_type": "code",
   "execution_count": 333,
   "metadata": {},
   "outputs": [
    {
     "name": "stdout",
     "output_type": "stream",
     "text": [
      "[ True  True False ...,  True  True  True]\n",
      "5000\n",
      "3380\n"
     ]
    }
   ],
   "source": [
    "# Out of these walks, let’s compute the minimum crossing time to 30 or –30. This is slightly tricky because not all 5,000 of them reach 30. We can check this using the any method\n",
    "hits30 = (np.abs(walks) >=30).any(1)\n",
    "print(hits30)\n",
    "print(len(hits30))\n",
    "print(hits30.sum()) # Number of walks that hit 30 or -30"
   ]
  },
  {
   "cell_type": "code",
   "execution_count": 342,
   "metadata": {},
   "outputs": [
    {
     "name": "stdout",
     "output_type": "stream",
     "text": [
      "[689 767 381 ..., 925 405 383]\n",
      "500.634319527\n"
     ]
    },
    {
     "data": {
      "image/png": "[encoded data removed]",
      "text/plain": [
       "<matplotlib.figure.Figure at 0x12312ce80>"
      ]
     },
     "metadata": {},
     "output_type": "display_data"
    }
   ],
   "source": [
    "# We can use this boolean array to select out the rows of walks that actually cross the absolute 30 level and call argmax across axis 1 to get the crossing times\n",
    "crossing_times = (np.abs(walks[hits30]) >= 30).argmax(1)\n",
    "print(crossing_times)\n",
    "print(crossing_times.mean()) #\n",
    "# let's check for the second walk \n",
    "plt.plot(np.arange(walks.shape[1]), walks[1,:])\n",
    "plt.axhline(y = 30, linestyle = '--', color = 'black')\n",
    "plt.axhline(y = -30, linestyle = '--', color = 'black')\n",
    "plt.show()"
   ]
  },
  {
   "cell_type": "code",
   "execution_count": null,
   "metadata": {
    "collapsed": true
   },
   "outputs": [],
   "source": []
  }
 ],
 "metadata": {
  "kernelspec": {
   "display_name": "Python 3",
   "language": "python",
   "name": "python3"
  },
  "language_info": {
   "codemirror_mode": {
    "name": "ipython",
    "version": 3
   },
   "file_extension": ".py",
   "mimetype": "text/x-python",
   "name": "python",
   "nbconvert_exporter": "python",
   "pygments_lexer": "ipython3",
   "version": "3.7.4"
  }
 },
 "nbformat": 4,
 "nbformat_minor": 2
}
