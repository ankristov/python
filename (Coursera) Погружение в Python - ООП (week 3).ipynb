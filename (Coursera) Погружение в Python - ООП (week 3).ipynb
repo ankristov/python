{
 "cells": [
  {
   "cell_type": "markdown",
   "metadata": {},
   "source": [
    "# Классы и эксземпляры"
   ]
  },
  {
   "cell_type": "code",
   "execution_count": 10,
   "metadata": {},
   "outputs": [
    {
     "name": "stdout",
     "output_type": "stream",
     "text": [
      "<class 'int'>\n",
      "<class 'str'>\n",
      "<class 'dict'>\n"
     ]
    }
   ],
   "source": [
    "i = int(5)\n",
    "print(type(i))\n",
    "s = 'this is a string'\n",
    "print(type(s))\n",
    "d = {'a': [1,2,3], 'b': [4,5,6]}\n",
    "print(type(d))"
   ]
  },
  {
   "cell_type": "code",
   "execution_count": 14,
   "metadata": {},
   "outputs": [
    {
     "name": "stdout",
     "output_type": "stream",
     "text": [
      "True\n",
      "True\n",
      "False\n"
     ]
    }
   ],
   "source": [
    "# isinstance\n",
    "print(isinstance(d, dict))\n",
    "print(isinstance(i, int))\n",
    "print(isinstance(i, float))"
   ]
  },
  {
   "cell_type": "markdown",
   "metadata": {},
   "source": [
    "### Объявление класса"
   ]
  },
  {
   "cell_type": "code",
   "execution_count": null,
   "metadata": {},
   "outputs": [],
   "source": [
    "# empty class\n",
    "class Human:\n",
    "    pass"
   ]
  },
  {
   "cell_type": "code",
   "execution_count": 16,
   "metadata": {},
   "outputs": [],
   "source": [
    "# empty class\n",
    "class Robot:\n",
    "    \"\"\"Данный класс позволяет создавать роботов :)\"\"\""
   ]
  },
  {
   "cell_type": "code",
   "execution_count": 17,
   "metadata": {},
   "outputs": [
    {
     "name": "stdout",
     "output_type": "stream",
     "text": [
      "<class '__main__.Robot'>\n"
     ]
    }
   ],
   "source": [
    "print(Robot)"
   ]
  },
  {
   "cell_type": "code",
   "execution_count": 18,
   "metadata": {},
   "outputs": [
    {
     "name": "stdout",
     "output_type": "stream",
     "text": [
      "['__class__', '__delattr__', '__dict__', '__dir__', '__doc__', '__eq__', '__format__', '__ge__', '__getattribute__', '__gt__', '__hash__', '__init__', '__init_subclass__', '__le__', '__lt__', '__module__', '__ne__', '__new__', '__reduce__', '__reduce_ex__', '__repr__', '__setattr__', '__sizeof__', '__str__', '__subclasshook__', '__weakref__']\n"
     ]
    }
   ],
   "source": [
    "# methodes of newly created class\n",
    "print(dir(Robot))"
   ]
  },
  {
   "cell_type": "code",
   "execution_count": 19,
   "metadata": {},
   "outputs": [
    {
     "name": "stdout",
     "output_type": "stream",
     "text": [
      "<method '__sizeof__' of 'object' objects>\n"
     ]
    }
   ],
   "source": [
    "print(Robot.__sizeof__)"
   ]
  },
  {
   "cell_type": "markdown",
   "metadata": {},
   "source": [
    "### Создание экземпляра (объекта) класса"
   ]
  },
  {
   "cell_type": "code",
   "execution_count": 21,
   "metadata": {},
   "outputs": [
    {
     "name": "stdout",
     "output_type": "stream",
     "text": [
      "<__main__.Planet object at 0x1042c7fd0>\n"
     ]
    }
   ],
   "source": [
    "class Planet:\n",
    "    pass\n",
    "planet = Planet()\n",
    "print(planet)"
   ]
  },
  {
   "cell_type": "code",
   "execution_count": 22,
   "metadata": {},
   "outputs": [
    {
     "name": "stdout",
     "output_type": "stream",
     "text": [
      "[<__main__.Planet object at 0x106c323d0>, <__main__.Planet object at 0x106c32390>, <__main__.Planet object at 0x106c32450>, <__main__.Planet object at 0x106c32c50>, <__main__.Planet object at 0x106c32c90>, <__main__.Planet object at 0x106c32d10>, <__main__.Planet object at 0x106c32f50>, <__main__.Planet object at 0x106c32fd0>]\n"
     ]
    }
   ],
   "source": [
    "solar_system = []\n",
    "for i in range(8):\n",
    "    planet = Planet()\n",
    "    solar_system.append(planet)\n",
    "\n",
    "print(solar_system)"
   ]
  },
  {
   "cell_type": "code",
   "execution_count": 23,
   "metadata": {},
   "outputs": [
    {
     "name": "stdout",
     "output_type": "stream",
     "text": [
      "{<__main__.Planet object at 0x106c77890>: True, <__main__.Planet object at 0x106c776d0>: True, <__main__.Planet object at 0x106c77050>: True, <__main__.Planet object at 0x106c77850>: True, <__main__.Planet object at 0x106c77ad0>: True, <__main__.Planet object at 0x106c77950>: True, <__main__.Planet object at 0x106c77cd0>: True, <__main__.Planet object at 0x106c77dd0>: True}\n"
     ]
    }
   ],
   "source": [
    "# Важно: экземпляры класса хэшируются, те могут быть ключами словаря\n",
    "solar_system = {}\n",
    "for i in range(8):\n",
    "    planet = Planet()\n",
    "    solar_system[planet] = True\n",
    "\n",
    "print(solar_system)"
   ]
  },
  {
   "cell_type": "markdown",
   "metadata": {},
   "source": [
    "### Инициализация экземпляра"
   ]
  },
  {
   "cell_type": "code",
   "execution_count": 24,
   "metadata": {},
   "outputs": [
    {
     "name": "stdout",
     "output_type": "stream",
     "text": [
      "Earth\n",
      "<__main__.Planet object at 0x10644ee50>\n"
     ]
    }
   ],
   "source": [
    "class Planet:\n",
    "    def __init__(self, name):\n",
    "        self.name = name\n",
    "    \n",
    "earth = Planet('Earth')\n",
    "print(earth.name)\n",
    "print(earth)"
   ]
  },
  {
   "cell_type": "code",
   "execution_count": 25,
   "metadata": {},
   "outputs": [
    {
     "name": "stdout",
     "output_type": "stream",
     "text": [
      "Earth\n"
     ]
    }
   ],
   "source": [
    "# what if we want to print name of planet when print(earth)\n",
    "class Planet:\n",
    "    def __init__(self, name):\n",
    "        self.name = name\n",
    "    def __str__(self):\n",
    "        return self.name\n",
    "    \n",
    "earth = Planet('Earth')\n",
    "print(earth)"
   ]
  },
  {
   "cell_type": "code",
   "execution_count": 32,
   "metadata": {},
   "outputs": [
    {
     "name": "stdout",
     "output_type": "stream",
     "text": [
      "[Planet Mercury, Planet Venus, Planet Earth, Planet Mars, Planet Jupiter, Planet Saturn, Planet Uranus, Planet Neptune]\n"
     ]
    }
   ],
   "source": [
    "solar_system = []\n",
    "planet_names = [\n",
    "    'Mercury', 'Venus', 'Earth', 'Mars',\n",
    "    'Jupiter', 'Saturn', 'Uranus', 'Neptune'\n",
    "]\n",
    "for name in planet_names:\n",
    "    planet = Planet(name)\n",
    "    solar_system.append(planet)\n",
    "\n",
    "print(solar_system)"
   ]
  },
  {
   "cell_type": "code",
   "execution_count": 39,
   "metadata": {},
   "outputs": [],
   "source": [
    "# to get correct when printing print(solar_system) names we need to define __repr__ method\n",
    "class Planet:\n",
    "    def __init__(self, name):\n",
    "        self.name = name\n",
    "    #def __str__(self):\n",
    "    #    return self.name\n",
    "    def __repr__(self):\n",
    "        #return f'Planet {self.name}'\n",
    "        return 'Planet {}'.format(self.name)\n",
    "# rerun code in previous block   "
   ]
  },
  {
   "cell_type": "markdown",
   "metadata": {},
   "source": [
    "### Работа с атрибутами экземпляра"
   ]
  },
  {
   "cell_type": "code",
   "execution_count": 40,
   "metadata": {},
   "outputs": [
    {
     "name": "stdout",
     "output_type": "stream",
     "text": [
      "Planet Mars\n",
      "Mars\n"
     ]
    }
   ],
   "source": [
    "mars = Planet('Mars')\n",
    "print(mars)\n",
    "print(mars.name)"
   ]
  },
  {
   "cell_type": "code",
   "execution_count": 41,
   "metadata": {},
   "outputs": [
    {
     "name": "stdout",
     "output_type": "stream",
     "text": [
      "Second Earth?\n"
     ]
    }
   ],
   "source": [
    "mars.name = 'Second Earth?'\n",
    "print(mars.name)"
   ]
  },
  {
   "cell_type": "code",
   "execution_count": 42,
   "metadata": {},
   "outputs": [
    {
     "ename": "AttributeError",
     "evalue": "'Planet' object has no attribute 'mass'",
     "output_type": "error",
     "traceback": [
      "\u001b[0;31m---------------------------------------------------------------------------\u001b[0m",
      "\u001b[0;31mAttributeError\u001b[0m                            Traceback (most recent call last)",
      "\u001b[0;32m<ipython-input-42-318658eaebb0>\u001b[0m in \u001b[0;36m<module>\u001b[0;34m\u001b[0m\n\u001b[0;32m----> 1\u001b[0;31m \u001b[0mmars\u001b[0m\u001b[0;34m.\u001b[0m\u001b[0mmass\u001b[0m\u001b[0;34m\u001b[0m\u001b[0;34m\u001b[0m\u001b[0m\n\u001b[0m",
      "\u001b[0;31mAttributeError\u001b[0m: 'Planet' object has no attribute 'mass'"
     ]
    }
   ],
   "source": [
    "mars.mass"
   ]
  },
  {
   "cell_type": "code",
   "execution_count": 43,
   "metadata": {},
   "outputs": [
    {
     "ename": "AttributeError",
     "evalue": "'Planet' object has no attribute 'name'",
     "output_type": "error",
     "traceback": [
      "\u001b[0;31m---------------------------------------------------------------------------\u001b[0m",
      "\u001b[0;31mAttributeError\u001b[0m                            Traceback (most recent call last)",
      "\u001b[0;32m<ipython-input-43-a262c73978b3>\u001b[0m in \u001b[0;36m<module>\u001b[0;34m\u001b[0m\n\u001b[1;32m      1\u001b[0m \u001b[0;32mdel\u001b[0m \u001b[0mmars\u001b[0m\u001b[0;34m.\u001b[0m\u001b[0mname\u001b[0m\u001b[0;34m\u001b[0m\u001b[0;34m\u001b[0m\u001b[0m\n\u001b[0;32m----> 2\u001b[0;31m \u001b[0mprint\u001b[0m\u001b[0;34m(\u001b[0m\u001b[0mmars\u001b[0m\u001b[0;34m.\u001b[0m\u001b[0mname\u001b[0m\u001b[0;34m)\u001b[0m\u001b[0;34m\u001b[0m\u001b[0;34m\u001b[0m\u001b[0m\n\u001b[0m",
      "\u001b[0;31mAttributeError\u001b[0m: 'Planet' object has no attribute 'name'"
     ]
    }
   ],
   "source": [
    "del mars.name\n",
    "print(mars.name)"
   ]
  },
  {
   "cell_type": "markdown",
   "metadata": {},
   "source": [
    "### Атрибуты класса"
   ]
  },
  {
   "cell_type": "markdown",
   "metadata": {},
   "source": [
    "Атрибут класса - переменная которая относится к самому классу а не к экземплярам класса"
   ]
  },
  {
   "cell_type": "code",
   "execution_count": 5,
   "metadata": {},
   "outputs": [
    {
     "name": "stdout",
     "output_type": "stream",
     "text": [
      "2\n",
      "2\n"
     ]
    }
   ],
   "source": [
    "class Planet:\n",
    "    count = 0 # class attribute\n",
    "    def __init__(self, name, population = None):\n",
    "        self.name = name\n",
    "        self.population = population or []\n",
    "        Planet.count += 1\n",
    "\n",
    "earth = Planet('Earth')\n",
    "mars = Planet('Mars')\n",
    "print(Planet.count)\n",
    "print(mars.count)"
   ]
  },
  {
   "cell_type": "code",
   "execution_count": 3,
   "metadata": {},
   "outputs": [
    {
     "name": "stdout",
     "output_type": "stream",
     "text": [
      "[]\n",
      "4\n"
     ]
    }
   ],
   "source": [
    "print(None or [])\n",
    "print(4 or [])"
   ]
  },
  {
   "cell_type": "markdown",
   "metadata": {},
   "source": [
    "### Деструктор экземпляра класса"
   ]
  },
  {
   "cell_type": "code",
   "execution_count": 6,
   "metadata": {},
   "outputs": [
    {
     "name": "stdout",
     "output_type": "stream",
     "text": [
      "Goodbuy!\n"
     ]
    }
   ],
   "source": [
    "class Human:\n",
    "    def __del__(self):\n",
    "        print('Goodbuy!')\n",
    "\n",
    "human = Human()\n",
    "del human"
   ]
  },
  {
   "cell_type": "markdown",
   "metadata": {},
   "source": [
    "### Словарь экземпляра и класса"
   ]
  },
  {
   "cell_type": "code",
   "execution_count": 14,
   "metadata": {},
   "outputs": [
    {
     "name": "stdout",
     "output_type": "stream",
     "text": [
      "{'name': 'Earth', 'population': []}\n",
      "{'name': 'Earth', 'population': [], 'mass': 5.97e+24}\n"
     ]
    }
   ],
   "source": [
    "class Planet:\n",
    "    \"\"\"This class describes planets\"\"\"\n",
    "    \n",
    "    count = 0 # class attribute\n",
    "    \n",
    "    def __init__(self, name, population = None):\n",
    "        self.name = name\n",
    "        self.population = population or []\n",
    "        Planet.count += 1\n",
    "        \n",
    "planet = Planet('Earth')\n",
    "\n",
    "print(planet.__dict__)\n",
    "\n",
    "planet.mass = 5.97e24\n",
    "\n",
    "print(planet.__dict__)"
   ]
  },
  {
   "cell_type": "code",
   "execution_count": 21,
   "metadata": {},
   "outputs": [
    {
     "name": "stdout",
     "output_type": "stream",
     "text": [
      "{'__module__': '__main__', '__doc__': 'This class describes planets', 'count': 1, '__init__': <function Planet.__init__ at 0x106722170>, '__dict__': <attribute '__dict__' of 'Planet' objects>, '__weakref__': <attribute '__weakref__' of 'Planet' objects>}\n"
     ]
    }
   ],
   "source": [
    "#Planet.__dict__\n",
    "print(Planet.__dict__)"
   ]
  },
  {
   "cell_type": "code",
   "execution_count": 17,
   "metadata": {},
   "outputs": [
    {
     "name": "stdout",
     "output_type": "stream",
     "text": [
      "This class describes planets\n",
      "This class describes planets\n",
      "This class describes planets\n"
     ]
    }
   ],
   "source": [
    "print(Planet.__dict__['__doc__'])\n",
    "print(Planet.__doc__)\n",
    "print(planet.__doc__)"
   ]
  },
  {
   "cell_type": "code",
   "execution_count": 19,
   "metadata": {},
   "outputs": [
    {
     "name": "stdout",
     "output_type": "stream",
     "text": [
      "['__class__', '__delattr__', '__dict__', '__dir__', '__doc__', '__eq__', '__format__', '__ge__', '__getattribute__', '__gt__', '__hash__', '__init__', '__init_subclass__', '__le__', '__lt__', '__module__', '__ne__', '__new__', '__reduce__', '__reduce_ex__', '__repr__', '__setattr__', '__sizeof__', '__str__', '__subclasshook__', '__weakref__', 'count', 'mass', 'name', 'population']\n"
     ]
    }
   ],
   "source": [
    "# Какие еще методы есть у экземпляра?\n",
    "print(dir(planet))"
   ]
  },
  {
   "cell_type": "code",
   "execution_count": 22,
   "metadata": {},
   "outputs": [
    {
     "name": "stdout",
     "output_type": "stream",
     "text": [
      "<class '__main__.Planet'>\n"
     ]
    }
   ],
   "source": [
    "print(planet.__class__)"
   ]
  },
  {
   "cell_type": "markdown",
   "metadata": {},
   "source": [
    "### Конструктор экземпляра класса\n",
    "Конструктор экземпляра класса позволяет переопределеить действия которые с ним происходят до его инициализации"
   ]
  },
  {
   "cell_type": "code",
   "execution_count": 23,
   "metadata": {},
   "outputs": [
    {
     "name": "stdout",
     "output_type": "stream",
     "text": [
      "__new__ called\n",
      "__init__ called\n"
     ]
    }
   ],
   "source": [
    "class Planet:\n",
    "    \n",
    "    def __new__(cls, *args, **kwargs):\n",
    "        print('__new__ called')\n",
    "        obj = super().__new__(cls)\n",
    "        return obj\n",
    "    def __init__(self, name):\n",
    "        print(\"__init__ called\")\n",
    "        self.name = name\n",
    "        \n",
    "earth = Planet('Earth')"
   ]
  },
  {
   "cell_type": "code",
   "execution_count": null,
   "metadata": {},
   "outputs": [],
   "source": [
    "# При вызове Planet('Earth') происходит примерно следующее\n",
    "earth = Planet.__new__(Planet, 'Earth')\n",
    "if isinstance(earth, Planet):  # if everything is ok...\n",
    "    Planet.__init__(earth, 'Earth')"
   ]
  },
  {
   "cell_type": "markdown",
   "metadata": {},
   "source": [
    "### Методы\n",
    "Это функции которые действуют в контексте экземпляра класса\n"
   ]
  },
  {
   "cell_type": "code",
   "execution_count": 25,
   "metadata": {},
   "outputs": [],
   "source": [
    "class Human:\n",
    "    def __init__(self, name, age = 0):\n",
    "        self.name = name\n",
    "        self.age = age\n",
    "        \n",
    "class Planet:\n",
    "    def __init__(self, name, population = None):\n",
    "        self.name = name\n",
    "        self.population = population or []\n",
    "    def add_human(self, human):\n",
    "        print(f'Welcome to {self.name}, {human.name}!')\n",
    "        self.population.append(human)"
   ]
  },
  {
   "cell_type": "code",
   "execution_count": 26,
   "metadata": {},
   "outputs": [
    {
     "name": "stdout",
     "output_type": "stream",
     "text": [
      "Welcome to Mars, Bob!\n"
     ]
    }
   ],
   "source": [
    "mars = Planet('Mars')\n",
    "bob = Human('Bob')\n",
    "mars.add_human(bob)"
   ]
  },
  {
   "cell_type": "code",
   "execution_count": 27,
   "metadata": {},
   "outputs": [
    {
     "name": "stdout",
     "output_type": "stream",
     "text": [
      "[<__main__.Human object at 0x1085d1c90>]\n"
     ]
    }
   ],
   "source": [
    "print(mars.population)"
   ]
  },
  {
   "cell_type": "markdown",
   "metadata": {},
   "source": [
    "### Вызов методов из методов"
   ]
  },
  {
   "cell_type": "code",
   "execution_count": 46,
   "metadata": {},
   "outputs": [
    {
     "name": "stdout",
     "output_type": "stream",
     "text": [
      "Hello, my name is Andrew.\n",
      "None\n",
      "I'm 36 years old.\n",
      "None\n"
     ]
    }
   ],
   "source": [
    "class Human:\n",
    "    def __init__(self, name, age = 0):\n",
    "        self._name = name\n",
    "        self._age = age\n",
    "    def _say(self, text): # private method\n",
    "        print(text)\n",
    "    def say_name(self):   # public method\n",
    "        self._say(f\"Hello, my name is {self._name}.\")\n",
    "    def say_how_old(self): # public method\n",
    "        self._say(f\"I\\'m {self._age} years old.\")\n",
    "        \n",
    "andrei = Human('Andrew', 36)\n",
    "print(andrei.say_name())\n",
    "print(andrei.say_how_old())"
   ]
  },
  {
   "cell_type": "code",
   "execution_count": 33,
   "metadata": {},
   "outputs": [
    {
     "name": "stdout",
     "output_type": "stream",
     "text": [
      "Andrew\n",
      "Wharever we want\n",
      "None\n"
     ]
    }
   ],
   "source": [
    "# обращаться напрямую к приватным методам и атрибутам не рекомендуется несмотря на то, что python позволяет это делать\n",
    "# не рекомендуется!\n",
    "print(andrei._name)\n",
    "print(andrei._say('Wharever we want'))"
   ]
  },
  {
   "cell_type": "markdown",
   "metadata": {},
   "source": [
    "### Метод класса (@classmethod)"
   ]
  },
  {
   "cell_type": "code",
   "execution_count": 38,
   "metadata": {},
   "outputs": [],
   "source": [
    "# функции заглушки\n",
    "def extract_description(user_string):\n",
    "    return 'Открытие чемпионата мира по футболу'\n",
    "def extract_date(user_string):\n",
    "    return date(2018, 6, 14)\n",
    "\n",
    "class Event:\n",
    "    def __init__(self, description, event_date):\n",
    "        self.description = description\n",
    "        self.date = event_date\n",
    "    def __str__(self):\n",
    "        return f'Event: \\\"{self.description}\\\" at {self.date}'\n",
    "    \n",
    "    @classmethod\n",
    "    def from_string(cls, user_input):\n",
    "        description = extract_description(user_input)\n",
    "        date = extract_date(user_input)\n",
    "        return cls(description, date)"
   ]
  },
  {
   "cell_type": "code",
   "execution_count": 39,
   "metadata": {},
   "outputs": [
    {
     "name": "stdout",
     "output_type": "stream",
     "text": [
      "Event: \"Tell to audience about @classmethod\" at 2020-07-01\n"
     ]
    }
   ],
   "source": [
    "from datetime import date\n",
    "\n",
    "event_description = 'Tell to audience about @classmethod'\n",
    "event_date = date.today()\n",
    "\n",
    "event = Event(event_description, event_date)\n",
    "\n",
    "print(event)\n"
   ]
  },
  {
   "cell_type": "code",
   "execution_count": 40,
   "metadata": {},
   "outputs": [
    {
     "name": "stdout",
     "output_type": "stream",
     "text": [
      "Event: \"Открытие чемпионата мира по футболу\" at 2018-06-14\n"
     ]
    }
   ],
   "source": [
    "# класс метод может быть полезен как альтернативный конструктор класса\n",
    "event = Event.from_string('Добавить в мой календарь открытие чемпионата мира по футболу на 14 июня 2018 года')\n",
    "print(event)\n",
    "\n"
   ]
  },
  {
   "cell_type": "code",
   "execution_count": 41,
   "metadata": {},
   "outputs": [
    {
     "data": {
      "text/plain": [
       "{'1': None, '2': None, '3': None, '4': None, '5': None}"
      ]
     },
     "execution_count": 41,
     "metadata": {},
     "output_type": "execute_result"
    }
   ],
   "source": [
    "# Внутри стандартной библиотеки класс-методы активно используются\n",
    "dict.fromkeys('12345')"
   ]
  },
  {
   "cell_type": "markdown",
   "metadata": {},
   "source": [
    "### Статические методы @staticmethod\n",
    "Это методы которые не оперируют ни ссылкой на экземпляр класса ни на класс.\n",
    "Зачем они нужны? это просто вопрос организации кода. Они могут быть нужны просто чтобы к ним обращаться относительно класса. Их можно было бы объявлять как обычную функцию, вне пространства класса, но когда мы делаем это внутри, мы просто организуем все фукнции касающееся класса, методы и атрибуты в одном месте"
   ]
  },
  {
   "cell_type": "code",
   "execution_count": 51,
   "metadata": {},
   "outputs": [
    {
     "name": "stdout",
     "output_type": "stream",
     "text": [
      "True\n",
      "False\n"
     ]
    }
   ],
   "source": [
    "class Human:\n",
    "    def __init__(self, name, age = 0):\n",
    "        self.name = name\n",
    "        self.age = age\n",
    "        \n",
    "    @staticmethod\n",
    "    def is_age_valid(age):\n",
    "        return 0 < age < 150\n",
    "    \n",
    "print(Human.is_age_valid(35))\n",
    "andrei = Human('Andrei', 36)\n",
    "print(andrei.is_age_valid(234))"
   ]
  },
  {
   "cell_type": "code",
   "execution_count": 53,
   "metadata": {},
   "outputs": [
    {
     "name": "stdout",
     "output_type": "stream",
     "text": [
      "{'name': 'Andrei', 'age': 36}\n"
     ]
    }
   ],
   "source": [
    "print(andrei.__dict__)"
   ]
  },
  {
   "cell_type": "markdown",
   "metadata": {},
   "source": [
    "### Пример использования статитеских методов и методов класса "
   ]
  },
  {
   "cell_type": "code",
   "execution_count": 13,
   "metadata": {},
   "outputs": [
    {
     "name": "stdout",
     "output_type": "stream",
     "text": [
      "Begin\n",
      "(29, 23): \n",
      "iteration: 1\n",
      "(23, 6): \n",
      "iteration: 2\n",
      "(6, 5): \n",
      "iteration: 3\n",
      "(5, 1): \n",
      "iteration: 4\n",
      "(1, 0): \n",
      "29/23\n",
      "3\n"
     ]
    }
   ],
   "source": [
    "class fraction(object):\n",
    "    \n",
    "    def __init__(self, n, d):\n",
    "        self.numerator, self.denominator = fraction.reduce(n, d)\n",
    "      \n",
    "    @staticmethod\n",
    "    def gcd(a, b):\n",
    "        c = 0\n",
    "        print('Begin')\n",
    "        print('({}, {}): '.format(a, b))\n",
    "        while b != 0:\n",
    "            c += 1\n",
    "            a, b = b, a % b\n",
    "            print('iteration: {}'.format(c))\n",
    "            print('({}, {}): '.format(a, b))\n",
    "        return a\n",
    "    \n",
    "    @classmethod\n",
    "    def reduce(cls, n1, n2):\n",
    "        g = cls.gcd(n1, n2)\n",
    "        return (n1 // g, n2 // g)\n",
    "    \n",
    "    def __str__(self):\n",
    "        return str(self.numerator) + '/' + str(self.denominator)\n",
    "    \n",
    "f = fraction(29, 23)\n",
    "print(f)\n",
    "print(24 % 7)"
   ]
  },
  {
   "cell_type": "markdown",
   "metadata": {},
   "source": [
    "### Вычисляемые свойства класса (property)\n",
    "\n",
    "Позволяют изменять поведение или осуществлять какую-то вычислительную работу при обращении к атрибуту экземпляра или при его изменении или удалении"
   ]
  },
  {
   "cell_type": "code",
   "execution_count": 54,
   "metadata": {},
   "outputs": [
    {
     "name": "stdout",
     "output_type": "stream",
     "text": [
      "200\n"
     ]
    }
   ],
   "source": [
    "class Robot:\n",
    "    def __init__(self, power):\n",
    "        self.power = power\n",
    "        \n",
    "wall_e = Robot(100)\n",
    "wall_e.power = 200\n",
    "print(wall_e.power)"
   ]
  },
  {
   "cell_type": "code",
   "execution_count": null,
   "metadata": {},
   "outputs": [],
   "source": [
    "# we use property to protect from assigning negative values by users\n",
    "wall_e.power = -20 # we don't want to allow users.."
   ]
  },
  {
   "cell_type": "code",
   "execution_count": 57,
   "metadata": {},
   "outputs": [
    {
     "name": "stdout",
     "output_type": "stream",
     "text": [
      "100\n",
      "0\n"
     ]
    }
   ],
   "source": [
    "class Robot:\n",
    "    def __init__(self, power):\n",
    "        self.power = power\n",
    "    def set_power(self, power):\n",
    "        if power < 0:\n",
    "            self.power = 0\n",
    "        else:\n",
    "            self.power = power\n",
    "\n",
    "wall_e = Robot(100)\n",
    "print(wall_e.power)\n",
    "wall_e.set_power(-20)\n",
    "print(wall_e.power)"
   ]
  },
  {
   "cell_type": "code",
   "execution_count": 60,
   "metadata": {},
   "outputs": [
    {
     "name": "stdout",
     "output_type": "stream",
     "text": [
      "0\n"
     ]
    }
   ],
   "source": [
    "# Однако в этом случае программисту придется менять код, это неудобно\n",
    "class Robot:\n",
    "    def __init__(self, power):\n",
    "        self._power = power # now it's private\n",
    "        \n",
    "    power = property()\n",
    "    \n",
    "    @power.setter\n",
    "    def power(self, value):\n",
    "        if value < 0:\n",
    "            self._power = 0\n",
    "        else:\n",
    "            self._power = value\n",
    "    \n",
    "    @power.getter\n",
    "    def power(self):\n",
    "        return self._power\n",
    "    \n",
    "    @power.deleter\n",
    "    def power(self):\n",
    "        print('destroying robot...')\n",
    "        del self._power\n",
    "        \n",
    "# теперь если другой программист будет использовать наш класс, то он можен работать с атрибутом power как и раньше, но если он попытается присвоить ему отрицательное значение, отработает setter и оно будет установлено в 0\n",
    "\n",
    "wall_e = Robot(100)\n",
    "wall_e.power = -20\n",
    "print(wall_e.power)"
   ]
  },
  {
   "cell_type": "code",
   "execution_count": 61,
   "metadata": {},
   "outputs": [
    {
     "name": "stdout",
     "output_type": "stream",
     "text": [
      "destroying robot...\n"
     ]
    }
   ],
   "source": [
    "del wall_e.power"
   ]
  },
  {
   "cell_type": "code",
   "execution_count": 62,
   "metadata": {},
   "outputs": [
    {
     "name": "stdout",
     "output_type": "stream",
     "text": [
      "200\n"
     ]
    }
   ],
   "source": [
    "# Иногда нужно модифицировть только чтение атрибута и не требудется менять поведение при его объявлении или удалении\n",
    "class Robot:\n",
    "    def __init__(self, power):\n",
    "        self._power = power # now it's private\n",
    "    \n",
    "    @property\n",
    "    def power(self):\n",
    "        # здесь могут быть любые полезные вычисления\n",
    "        return self._power\n",
    "    \n",
    "wall_e = Robot(200)\n",
    "print(wall_e.power)\n"
   ]
  },
  {
   "cell_type": "markdown",
   "metadata": {},
   "source": [
    "# Наследование в Python"
   ]
  },
  {
   "cell_type": "code",
   "execution_count": 33,
   "metadata": {},
   "outputs": [
    {
     "name": "stdout",
     "output_type": "stream",
     "text": [
      "Шарик: гав! Я - настоящий Доберман!\n"
     ]
    }
   ],
   "source": [
    "class Pet:\n",
    "    def __init__(self, name):\n",
    "        self.name = name\n",
    "\n",
    "class Dog(Pet):\n",
    "    def __init__(self, name, breed = None):\n",
    "        super().__init__(name)\n",
    "        self.breed = breed\n",
    "    def say(self):\n",
    "        return '{0}: гав! Я - настоящий {1}!'.format(self.name, self.breed)\n",
    "\n",
    "dog = Dog('Шарик', 'Доберман')\n",
    "print(dog.say())"
   ]
  },
  {
   "cell_type": "markdown",
   "metadata": {},
   "source": [
    "### Пример: экспорт в json с помощья класса-примеси"
   ]
  },
  {
   "cell_type": "code",
   "execution_count": 34,
   "metadata": {},
   "outputs": [
    {
     "name": "stdout",
     "output_type": "stream",
     "text": [
      "Белка: гав! Я - настоящий Дворняжка!\n",
      "{\"name\": \"\\u0411\\u0435\\u043b\\u043a\\u0430\", \"breed\": \"\\u0414\\u0432\\u043e\\u0440\\u043d\\u044f\\u0436\\u043a\\u0430\"}\n",
      "['name', 'breed', '__module__', '__doc__', '__init__', 'say', '__dict__', '__weakref__', '__repr__', '__hash__', '__str__', '__getattribute__', '__setattr__', '__delattr__', '__lt__', '__le__', '__eq__', '__ne__', '__gt__', '__ge__', '__new__', '__reduce_ex__', '__reduce__', '__subclasshook__', '__init_subclass__', '__format__', '__sizeof__', '__dir__', '__class__', 'to_json']\n"
     ]
    }
   ],
   "source": [
    "import json\n",
    "\n",
    "class ExportJSON:\n",
    "    def to_json(self):\n",
    "        return json.dumps({\n",
    "            'name': self.name,\n",
    "            'breed': self.breed\n",
    "        })\n",
    "\n",
    "class ExDog(Dog, ExportJSON):\n",
    "    pass\n",
    "\n",
    "dog = ExDog('Белка', breed = 'Дворняжка')\n",
    "print(dog.say())\n",
    "print(dog.to_json())\n",
    "print(dog.__dir__()) # say(), to_json() in the list\n"
   ]
  },
  {
   "cell_type": "code",
   "execution_count": 20,
   "metadata": {},
   "outputs": [
    {
     "name": "stdout",
     "output_type": "stream",
     "text": [
      "True\n",
      "True\n",
      "True\n",
      "False\n"
     ]
    }
   ],
   "source": [
    "# Любой класс в Python является потомком класса object\n",
    "print(issubclass(int, object))\n",
    "print(issubclass(Dog, object))\n",
    "print(issubclass(Dog, Pet))\n",
    "print(isinstance(Dog, int))"
   ]
  },
  {
   "cell_type": "code",
   "execution_count": 23,
   "metadata": {},
   "outputs": [
    {
     "name": "stdout",
     "output_type": "stream",
     "text": [
      "True\n",
      "True\n",
      "True\n"
     ]
    }
   ],
   "source": [
    "# also we can test if an object is instance of a class\n",
    "print(isinstance(dog, Dog))\n",
    "print(isinstance(dog, Pet))\n",
    "print(isinstance(dog, object))"
   ]
  },
  {
   "cell_type": "markdown",
   "metadata": {},
   "source": [
    "### Поиск атрибутов и методов объекта, линеаризация класса"
   ]
  },
  {
   "cell_type": "code",
   "execution_count": 24,
   "metadata": {},
   "outputs": [
    {
     "name": "stdout",
     "output_type": "stream",
     "text": [
      "(<class '__main__.ExDog'>, <class '__main__.Dog'>, <class '__main__.Pet'>, <class '__main__.ExportJSON'>, <class 'object'>)\n"
     ]
    }
   ],
   "source": [
    "#       object\n",
    "#       |   \\\n",
    "#      |     \\\n",
    "#    Pet    ExportJSON\n",
    "#     |      |\n",
    "#    Dog    |\n",
    "#      \\   |\n",
    "#      ExDog\n",
    "\n",
    "# Method Resolution Order\n",
    "print(ExDog.__mro__)"
   ]
  },
  {
   "cell_type": "markdown",
   "metadata": {},
   "source": [
    "### Использование super()"
   ]
  },
  {
   "cell_type": "code",
   "execution_count": 25,
   "metadata": {},
   "outputs": [
    {
     "name": "stdout",
     "output_type": "stream",
     "text": [
      "Шерстяная собака породы Такса\n"
     ]
    }
   ],
   "source": [
    "class ExDog(Dog, ExportJSON):\n",
    "    def __init__(self, name, breed=None):\n",
    "        super().__init__(name, breed)\n",
    "        # super(ExDog, self).__init__(name)\n",
    "\n",
    "class WoolenDog(Dog, ExportJSON):\n",
    "    def __init__(self, name, breed = None):\n",
    "        super(Dog, self).__init__(name)\n",
    "        self.breed = 'Шерстяная собака породы {}'.format(breed)\n",
    "        \n",
    "dog = WoolenDog('Жучка', breed = 'Такса')\n",
    "print(dog.breed)"
   ]
  },
  {
   "cell_type": "markdown",
   "metadata": {},
   "source": [
    "### Разрешение конфликта имен, name mangling\n"
   ]
  },
  {
   "cell_type": "code",
   "execution_count": 32,
   "metadata": {},
   "outputs": [
    {
     "ename": "TypeError",
     "evalue": "object.__init__() takes exactly one argument (the instance to initialize)",
     "output_type": "error",
     "traceback": [
      "\u001b[0;31m-----------------------------------------------------------------\u001b[0m",
      "\u001b[0;31mTypeError\u001b[0m                       Traceback (most recent call last)",
      "\u001b[0;32m<ipython-input-32-54829db99a84>\u001b[0m in \u001b[0;36m<module>\u001b[0;34m\u001b[0m\n\u001b[1;32m     12\u001b[0m         \u001b[0;32mreturn\u001b[0m \u001b[0;34m'the breed: {0} - {1}'\u001b[0m\u001b[0;34m.\u001b[0m\u001b[0mformat\u001b[0m\u001b[0;34m(\u001b[0m\u001b[0mself\u001b[0m\u001b[0;34m.\u001b[0m\u001b[0mname\u001b[0m\u001b[0;34m,\u001b[0m \u001b[0mself\u001b[0m\u001b[0;34m.\u001b[0m\u001b[0m__breed\u001b[0m\u001b[0;34m)\u001b[0m\u001b[0;34m\u001b[0m\u001b[0;34m\u001b[0m\u001b[0m\n\u001b[1;32m     13\u001b[0m \u001b[0;34m\u001b[0m\u001b[0m\n\u001b[0;32m---> 14\u001b[0;31m \u001b[0mdog\u001b[0m \u001b[0;34m=\u001b[0m \u001b[0mExDog\u001b[0m\u001b[0;34m(\u001b[0m\u001b[0;34m'Фокс'\u001b[0m\u001b[0;34m,\u001b[0m \u001b[0;34m'Мопс'\u001b[0m\u001b[0;34m)\u001b[0m\u001b[0;34m\u001b[0m\u001b[0;34m\u001b[0m\u001b[0m\n\u001b[0m\u001b[1;32m     15\u001b[0m \u001b[0mprint\u001b[0m\u001b[0;34m(\u001b[0m\u001b[0mdog\u001b[0m\u001b[0;34m.\u001b[0m\u001b[0m__dict__\u001b[0m\u001b[0;34m)\u001b[0m\u001b[0;34m\u001b[0m\u001b[0;34m\u001b[0m\u001b[0m\n\u001b[1;32m     16\u001b[0m \u001b[0mprint\u001b[0m\u001b[0;34m(\u001b[0m\u001b[0mdog\u001b[0m\u001b[0;34m.\u001b[0m\u001b[0mget_breed\u001b[0m\u001b[0;34m(\u001b[0m\u001b[0;34m)\u001b[0m\u001b[0;34m)\u001b[0m\u001b[0;34m\u001b[0m\u001b[0;34m\u001b[0m\u001b[0m\n",
      "\u001b[0;32m<ipython-input-32-54829db99a84>\u001b[0m in \u001b[0;36m__init__\u001b[0;34m(self, name, breed)\u001b[0m\n\u001b[1;32m      1\u001b[0m \u001b[0;32mclass\u001b[0m \u001b[0mDog\u001b[0m\u001b[0;34m(\u001b[0m\u001b[0mPet\u001b[0m\u001b[0;34m)\u001b[0m\u001b[0;34m:\u001b[0m\u001b[0;34m\u001b[0m\u001b[0;34m\u001b[0m\u001b[0m\n\u001b[1;32m      2\u001b[0m     \u001b[0;32mdef\u001b[0m \u001b[0m__init__\u001b[0m\u001b[0;34m(\u001b[0m\u001b[0mself\u001b[0m\u001b[0;34m,\u001b[0m \u001b[0mname\u001b[0m\u001b[0;34m,\u001b[0m \u001b[0mbreed\u001b[0m \u001b[0;34m=\u001b[0m \u001b[0;32mNone\u001b[0m\u001b[0;34m)\u001b[0m\u001b[0;34m:\u001b[0m\u001b[0;34m\u001b[0m\u001b[0;34m\u001b[0m\u001b[0m\n\u001b[0;32m----> 3\u001b[0;31m         \u001b[0msuper\u001b[0m\u001b[0;34m(\u001b[0m\u001b[0;34m)\u001b[0m\u001b[0;34m.\u001b[0m\u001b[0m__init__\u001b[0m\u001b[0;34m(\u001b[0m\u001b[0mname\u001b[0m\u001b[0;34m)\u001b[0m\u001b[0;34m\u001b[0m\u001b[0;34m\u001b[0m\u001b[0m\n\u001b[0m\u001b[1;32m      4\u001b[0m         \u001b[0mself\u001b[0m\u001b[0;34m.\u001b[0m\u001b[0m__breed\u001b[0m \u001b[0;34m=\u001b[0m \u001b[0mbreed\u001b[0m\u001b[0;34m\u001b[0m\u001b[0;34m\u001b[0m\u001b[0m\n\u001b[1;32m      5\u001b[0m     \u001b[0;32mdef\u001b[0m \u001b[0msay\u001b[0m\u001b[0;34m(\u001b[0m\u001b[0mself\u001b[0m\u001b[0;34m)\u001b[0m\u001b[0;34m:\u001b[0m\u001b[0;34m\u001b[0m\u001b[0;34m\u001b[0m\u001b[0m\n",
      "\u001b[0;31mTypeError\u001b[0m: object.__init__() takes exactly one argument (the instance to initialize)"
     ]
    }
   ],
   "source": [
    "class Dog(Pet):\n",
    "    def __init__(self, name, breed = None):\n",
    "        super().__init__(name)\n",
    "        self.__breed = breed\n",
    "    def say(self):\n",
    "        return '{0}: гав! Я - настоящий {1}!'.format(self.name, self.__breed)\n",
    "    def get_breed(self):\n",
    "        return self.__breed\n",
    "    \n",
    "class ExDog(Dog, ExportJSON):\n",
    "    def get_breed(self):\n",
    "        return 'the breed: {0} - {1}'.format(self.name, self.__breed)\n",
    "\n",
    "dog = ExDog('Фокс', 'Мопс')\n",
    "print(dog.__dict__)\n",
    "print(dog.get_breed())\n",
    "    \n",
    "\n",
    "    "
   ]
  },
  {
   "cell_type": "markdown",
   "metadata": {},
   "source": [
    "### Композиция классов"
   ]
  },
  {
   "cell_type": "code",
   "execution_count": null,
   "metadata": {},
   "outputs": [],
   "source": [
    "# Our current structure\n",
    "class Pet:\n",
    "    pass\n",
    "\n",
    "class Dog(Pet):\n",
    "    pass\n",
    "\n",
    "class ExportJSON():\n",
    "    pass\n",
    "\n",
    "class ExDog(Dog, ExportJSON):\n",
    "    pass\n"
   ]
  },
  {
   "cell_type": "markdown",
   "metadata": {},
   "source": [
    "Предположим что мы хотим экспортировать не только в json но и xml. Как тогда изменится структура нашей программы?"
   ]
  },
  {
   "cell_type": "code",
   "execution_count": 35,
   "metadata": {},
   "outputs": [
    {
     "data": {
      "text/plain": [
       "'{\"name\": \"\\\\u0424\\\\u043e\\\\u043a\\\\u0441\", \"breed\": \"\\\\u041c\\\\u043e\\\\u043f\\\\u0441\"}'"
      ]
     },
     "execution_count": 35,
     "metadata": {},
     "output_type": "execute_result"
    }
   ],
   "source": [
    "class Pet:\n",
    "    pass\n",
    "\n",
    "class Dog(Pet):\n",
    "    pass\n",
    "\n",
    "class ExportJSON():\n",
    "    def to_json(self):\n",
    "        pass\n",
    "    \n",
    "class ExportXML():\n",
    "    def to_xml(self):\n",
    "        pass\n",
    "\n",
    "class ExDog(Dog, ExportJSON, ExportXML):\n",
    "    pass\n",
    "\n",
    "dog = ExDog('Фокс', 'Мопс')\n",
    "dog.to_xml()\n",
    "dog.to_json()"
   ]
  },
  {
   "cell_type": "markdown",
   "metadata": {},
   "source": [
    "Если нам понадобится добавлять различные методы для экспорта то придется изменять и класс ExDog() а также в тело программы для вызова этих методов. Это неудобно. Для удобства  используется композиция"
   ]
  },
  {
   "cell_type": "code",
   "execution_count": 48,
   "metadata": {},
   "outputs": [],
   "source": [
    "class PetExport:\n",
    "    def export(self, dog):\n",
    "        raise NotImplementedError\n",
    "        \n",
    "# PetExport предназначен только для наследования, мы не будем создавать объекты этого класса\n",
    "\n",
    "class ExportJSON(PetExport):\n",
    "    def export(self, dog):\n",
    "        return json.dumps({\n",
    "            'name': dog.name,\n",
    "            'breed': dog.breed\n",
    "        })\n",
    "\n",
    "class ExportXML(PetExport):\n",
    "    def export(self, dog):\n",
    "        return \"\"\"<?xml version='1.0' encoding='utf-8'?>\n",
    "            <dog>\n",
    "                <name>{0}</name>\n",
    "                <breed>{1}</breed>\n",
    "            </dog>\n",
    "            \"\"\".format(dog.name, dog.breed)\n",
    "    \n",
    "class Pet:\n",
    "    def __init__(self, name):\n",
    "        self.name = name\n",
    "\n",
    "class Dog(Pet):\n",
    "    def __init__(self, name, breed = None):\n",
    "        super().__init__(name)\n",
    "        self.breed = breed\n",
    "\n",
    "# теперь мы не будем использовать множественное наследование а переопределим ExDog и будем передавать нужный объект для экспорта в качестве параметра инициализатора\n",
    "\n",
    "class ExDog(Dog):\n",
    "    def __init__(self, name, breed = None, exporter = None):\n",
    "        super().__init__(name, breed=breed)\n",
    "        self._exporter = exporter or ExportJSON()\n",
    "        if not isinstance(self._exporter, PetExport):\n",
    "            raise ValueError('Bad exporter', exporter)\n",
    "    def export(self):\n",
    "        return self._exporter.export(self)\n",
    "    "
   ]
  },
  {
   "cell_type": "code",
   "execution_count": 49,
   "metadata": {},
   "outputs": [
    {
     "data": {
      "text/plain": [
       "\"<?xml version='1.0' encoding='utf-8'?>\\n            <dog>\\n                <name>Шарик</name>\\n                <breed>Дворняга</breed>\\n            </dog>\\n            \""
      ]
     },
     "execution_count": 49,
     "metadata": {},
     "output_type": "execute_result"
    }
   ],
   "source": [
    "dog = ExDog('Шарик', 'Дворняга', exporter=ExportXML())\n",
    "dog.export()\n"
   ]
  },
  {
   "cell_type": "code",
   "execution_count": 50,
   "metadata": {},
   "outputs": [
    {
     "data": {
      "text/plain": [
       "'{\"name\": \" \\\\u041f\\\\u0438\\\\u0440\\\\u0430\\\\u0442\", \"breed\": \"\\\\u041e\\\\u0432\\\\u0447\\\\u0430\\\\u0440\\\\u043a\\\\u0430\"}'"
      ]
     },
     "execution_count": 50,
     "metadata": {},
     "output_type": "execute_result"
    }
   ],
   "source": [
    "# теперь если мы не объявим exporter по уполчанию будет использован ExportJSON \n",
    "dog = ExDog(' Пират', 'Овчарка')\n",
    "dog.export()"
   ]
  },
  {
   "cell_type": "markdown",
   "metadata": {},
   "source": [
    "Теперь если нам понадобиися добавить новый экспортер то не нужно менять класс ExDog; потребуется только добавить новый класс экспорта и исопльзовать его при вызове класаа ExDog\n"
   ]
  }
 ],
 "metadata": {
  "kernelspec": {
   "display_name": "env",
   "language": "python",
   "name": "env"
  },
  "language_info": {
   "codemirror_mode": {
    "name": "ipython",
    "version": 3
   },
   "file_extension": ".py",
   "mimetype": "text/x-python",
   "name": "python",
   "nbconvert_exporter": "python",
   "pygments_lexer": "ipython3",
   "version": "3.7.4"
  }
 },
 "nbformat": 4,
 "nbformat_minor": 4
}
