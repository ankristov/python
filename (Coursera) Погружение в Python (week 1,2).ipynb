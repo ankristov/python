{
 "cells": [
  {
   "cell_type": "markdown",
   "metadata": {},
   "source": [
    "## Базовые типы: логический тип"
   ]
  },
  {
   "cell_type": "markdown",
   "metadata": {},
   "source": [
    "**Задача**: определить високосный год или нет?\n",
    "Год является високосным если он кратен 4, но при этом не кратен 100 или кратен 400"
   ]
  },
  {
   "cell_type": "code",
   "execution_count": 73,
   "metadata": {},
   "outputs": [
    {
     "name": "stdout",
     "output_type": "stream",
     "text": [
      "not leap\n"
     ]
    }
   ],
   "source": [
    "year = 2021\n",
    "is_leap = year % 4 == 0 and (year % 100 != 0 or year % 400 == 0)\n",
    "print('leap year' if is_leap else 'not leap')"
   ]
  },
  {
   "cell_type": "code",
   "execution_count": 72,
   "metadata": {},
   "outputs": [
    {
     "name": "stdout",
     "output_type": "stream",
     "text": [
      "False\n"
     ]
    }
   ],
   "source": [
    "import calendar\n",
    "print(calendar.isleap(year))"
   ]
  },
  {
   "cell_type": "markdown",
   "metadata": {},
   "source": [
    "## Базовые типы: строки и байтовые строки"
   ]
  },
  {
   "cell_type": "markdown",
   "metadata": {},
   "source": [
    "\"Сырые\" r-строки"
   ]
  },
  {
   "cell_type": "code",
   "execution_count": 12,
   "metadata": {},
   "outputs": [
    {
     "name": "stdout",
     "output_type": "stream",
     "text": [
      "Файлы на диске с:\\\\\n",
      "Файлы на диске с:\\\\\n",
      "Course on \"Python\" на \"Coursera\" \n"
     ]
    }
   ],
   "source": [
    "s1 = \"Файлы на диске с:\\\\\\\\\"\n",
    "s2 = r\"Файлы на диске с:\\\\\" # raw string (don't need escape '\\')\n",
    "s3 = \"Course on \\\"Python\\\" на \\\"Coursera\\\"\"\n",
    "print(s1)\n",
    "print(s2)\n",
    "print(s3)"
   ]
  },
  {
   "cell_type": "markdown",
   "metadata": {},
   "source": [
    " Strings are immutable: when we change string Python creates new object (addresses in memory different!)"
   ]
  },
  {
   "cell_type": "code",
   "execution_count": 13,
   "metadata": {},
   "outputs": [
    {
     "name": "stdout",
     "output_type": "stream",
     "text": [
      "4401270544\n",
      "4401316528\n"
     ]
    }
   ],
   "source": [
    "s1 = 'Hello'\n",
    "print(id(s1))\n",
    "s1 += ', World!'\n",
    "print(id(s1))"
   ]
  },
  {
   "cell_type": "code",
   "execution_count": 21,
   "metadata": {},
   "outputs": [
    {
     "name": "stdout",
     "output_type": "stream",
     "text": [
      "Python on Coursera\n",
      "Python\n",
      "Coursera\n",
      "13579\n",
      "147\n",
      "wocsoM\n"
     ]
    }
   ],
   "source": [
    "# Slicing: s[start:stop:step]\n",
    "s = 'Course on Python on Coursera'\n",
    "print(s[10:])\n",
    "print(s[10:16])\n",
    "print(s[-8:])\n",
    "s1 = '123456789'\n",
    "print(s1[::2])\n",
    "print(s1[::3])\n",
    "# usually step is used for string invertion\n",
    "s2 = 'Moscow'\n",
    "print(s2[::-1])"
   ]
  },
  {
   "cell_type": "code",
   "execution_count": 27,
   "metadata": {},
   "outputs": [
    {
     "name": "stdout",
     "output_type": "stream",
     "text": [
      "5\n",
      "Moscow\n",
      "True\n"
     ]
    }
   ],
   "source": [
    "# Strings have methods\n",
    "s = 'Course on Python on Coursera'\n",
    "print(s.count('o'))\n",
    "print('moscow'.capitalize())\n",
    "print('2020'.isdigit())"
   ]
  },
  {
   "cell_type": "code",
   "execution_count": 29,
   "metadata": {},
   "outputs": [
    {
     "name": "stdout",
     "output_type": "stream",
     "text": [
      "True\n",
      "False\n"
     ]
    }
   ],
   "source": [
    "# Operator 'in'\n",
    "print('3.14' in 'Number pi = 3.1415926')\n",
    "print('Andrei' in 'Alexander Pushkin')"
   ]
  },
  {
   "cell_type": "code",
   "execution_count": 30,
   "metadata": {},
   "outputs": [
    {
     "name": "stdout",
     "output_type": "stream",
     "text": [
      "A\n",
      "n\n",
      "d\n",
      "r\n",
      "e\n",
      "i\n",
      " \n",
      "K\n",
      ".\n"
     ]
    }
   ],
   "source": [
    "# for .. in ..\n",
    "for letter in 'Andrei K.':\n",
    "    print(letter)"
   ]
  },
  {
   "cell_type": "code",
   "execution_count": 33,
   "metadata": {},
   "outputs": [
    {
     "name": "stdout",
     "output_type": "stream",
     "text": [
      "<class 'str'>\n",
      "999.01\n",
      "True\n",
      "False\n"
     ]
    }
   ],
   "source": [
    "# type conversion\n",
    "s = str(999.01)\n",
    "print(type(s))\n",
    "print(s)\n",
    "print(bool('Not empty string'))\n",
    "print(bool(''))"
   ]
  },
  {
   "cell_type": "code",
   "execution_count": 43,
   "metadata": {},
   "outputs": [
    {
     "name": "stdout",
     "output_type": "stream",
     "text": [
      "Laiziness - the main advantage of a programmer. (Larry Wall)\n",
      "Laiziness - the main advantage of a programmer. Larry Wall\n",
      "640 Kb should be enough for any task. (Bill Gates)\n"
     ]
    }
   ],
   "source": [
    "# string format\n",
    "# 1\n",
    "template1 = '%s - the main advantage of a programmer. (%s)'\n",
    "print(template1 % ('Laiziness', 'Larry Wall'))\n",
    "# 2\n",
    "s1 = '{0} - the main advantage of a programmer. {1}'.format('Laiziness', 'Larry Wall')\n",
    "print(s1)\n",
    "# 3\n",
    "s2 = '{num} Kb should be enough for any task. ({author})'.format(num = 640, author = 'Bill Gates')\n",
    "print(s2)\n",
    "# 4 f-strings (Python >= 3.6)\n",
    "subject = 'optimization'\n",
    "author = 'Donald Knuth'\n",
    "#s3 = f\"Preterm {subject} - root of all evils. ({author})\"\n",
    "#print(s3)"
   ]
  },
  {
   "cell_type": "code",
   "execution_count": 47,
   "metadata": {},
   "outputs": [
    {
     "name": "stdout",
     "output_type": "stream",
     "text": [
      "Binary: 0b1000\n",
      "Float: 0.667 original: 0.6666666666666666\n"
     ]
    }
   ],
   "source": [
    "# format modificators\n",
    "print('Binary: {:#b}'.format(8))\n",
    "print('Float: {:.3f}'.format(2/3) + ' original: {}'.format(2/3))"
   ]
  },
  {
   "cell_type": "code",
   "execution_count": 48,
   "metadata": {},
   "outputs": [
    {
     "name": "stdout",
     "output_type": "stream",
     "text": [
      "Enter your name: Andrei\n",
      "Hi, Andrei\n"
     ]
    }
   ],
   "source": [
    "# input()\n",
    "name = input('Enter your name: ')\n",
    "print('Hi, {}'.format(name))"
   ]
  },
  {
   "cell_type": "code",
   "execution_count": 71,
   "metadata": {},
   "outputs": [
    {
     "name": "stdout",
     "output_type": "stream",
     "text": [
      "<class 'bytes'>\n",
      "b'hello'\n",
      "104\n",
      "101\n",
      "108\n",
      "108\n",
      "111\n",
      "<class 'str'>\n",
      "original string: привет\n",
      "encoded string: b'\\xd0\\xbf\\xd1\\x80\\xd0\\xb8\\xd0\\xb2\\xd0\\xb5\\xd1\\x82'\n",
      "<class 'bytes'>\n",
      "letter 'и' in utf-8:  b'\\xd0\\xb8'\n",
      "decoded string: привет\n"
     ]
    }
   ],
   "source": [
    "# new string type 'bytes' - byte strings\n",
    "byte_string = b'hello'\n",
    "print(type(byte_string))\n",
    "print(byte_string)\n",
    "for byte in byte_string:\n",
    "    print(byte)\n",
    "\n",
    "#byte_string = b\"привет\" # error encoding: we need to transform unicode symbols to bytes (0..255) for this different encodings are used; the most popular utf-8\n",
    "\n",
    "s = 'привет'\n",
    "print(type(s))\n",
    "print('original string: ' + s)\n",
    "encoded_s = s.encode(encoding='utf-8')\n",
    "print('encoded string: ' + str(encoded_s))\n",
    "print(type(encoded_s))\n",
    "print(\"letter\" + \" 'и' \" + \"in utf-8: \", 'и'.encode(encoding='utf-8')) # from 5fth half-byte\n",
    "# decoding from utf-8 \n",
    "print('decoded string: ' + encoded_s.decode())\n",
    "\n"
   ]
  },
  {
   "cell_type": "markdown",
   "metadata": {},
   "source": [
    "## Базовые типы: объект None"
   ]
  },
  {
   "cell_type": "code",
   "execution_count": 92,
   "metadata": {},
   "outputs": [
    {
     "name": "stdout",
     "output_type": "stream",
     "text": [
      "<class 'NoneType'>\n"
     ]
    }
   ],
   "source": [
    "answer = None\n",
    "print(type(answer))"
   ]
  },
  {
   "cell_type": "code",
   "execution_count": 93,
   "metadata": {},
   "outputs": [
    {
     "data": {
      "text/plain": [
       "False"
      ]
     },
     "execution_count": 93,
     "metadata": {},
     "output_type": "execute_result"
    }
   ],
   "source": [
    "bool(None)"
   ]
  },
  {
   "cell_type": "code",
   "execution_count": 94,
   "metadata": {},
   "outputs": [
    {
     "name": "stdout",
     "output_type": "stream",
     "text": [
      "No answer\n"
     ]
    }
   ],
   "source": [
    "if not answer:\n",
    "    print('No answer')"
   ]
  },
  {
   "cell_type": "code",
   "execution_count": 97,
   "metadata": {},
   "outputs": [
    {
     "name": "stdout",
     "output_type": "stream",
     "text": [
      "Income = 0\n"
     ]
    }
   ],
   "source": [
    "# example: when none is needed in code\n",
    "income = None # when var is not defined\n",
    "#income = 0 # when var has 0 value\n",
    "\n",
    "\n",
    "if income is None:\n",
    "    print(\"We haven't started to sell yet..\")\n",
    "elif not income:\n",
    "    print('Income = 0')"
   ]
  },
  {
   "cell_type": "markdown",
   "metadata": {},
   "source": [
    "None:\n",
    "- is used in function arguments to underline that they are optional\n",
    "- is returned by function when return is not explicitly defined \n",
    "- used in class definition\n"
   ]
  },
  {
   "cell_type": "markdown",
   "metadata": {
    "collapsed": true
   },
   "source": [
    "## Конструкции управления потоком"
   ]
  },
  {
   "cell_type": "code",
   "execution_count": null,
   "metadata": {
    "collapsed": true
   },
   "outputs": [],
   "source": []
  },
  {
   "cell_type": "markdown",
   "metadata": {},
   "source": [
    "###  if"
   ]
  },
  {
   "cell_type": "code",
   "execution_count": 78,
   "metadata": {},
   "outputs": [
    {
     "name": "stdout",
     "output_type": "stream",
     "text": [
      "Condition is True\n",
      "Condition is False\n",
      "Argentina\n"
     ]
    }
   ],
   "source": [
    "company = 'https://promusculus.ru/'\n",
    "# if\n",
    "if 'pro' in company:\n",
    "    print('Condition is True')\n",
    "# if-else\n",
    "if 'https' in company and company.endswith('.com'):\n",
    "    print('Condition is True')\n",
    "else:\n",
    "    print('Condition is False')\n",
    "# if-elif-else\n",
    "#...\n",
    "\n",
    "# ternary if\n",
    "score_1 = 5\n",
    "score_2 = 0\n",
    "winner = 'Argentina' if score_1 > score_2 else 'Jamaica'\n",
    "print(winner)"
   ]
  },
  {
   "cell_type": "markdown",
   "metadata": {},
   "source": [
    "### while"
   ]
  },
  {
   "cell_type": "code",
   "execution_count": 79,
   "metadata": {},
   "outputs": [
    {
     "name": "stdout",
     "output_type": "stream",
     "text": [
      "0\n",
      "1\n",
      "2\n",
      "3\n",
      "4\n"
     ]
    }
   ],
   "source": [
    "i = 0\n",
    "while i < 5:\n",
    "    print(i)\n",
    "    i += 1"
   ]
  },
  {
   "cell_type": "markdown",
   "metadata": {},
   "source": [
    "### for"
   ]
  },
  {
   "cell_type": "code",
   "execution_count": 80,
   "metadata": {},
   "outputs": [
    {
     "name": "stdout",
     "output_type": "stream",
     "text": [
      "5050\n",
      "[0, 1, 2, 3, 4, 5, 6, 7, 8, 9, 10, 11, 12, 13, 14, 15, 16, 17, 18, 19, 20, 21, 22, 23, 24, 25, 26, 27, 28, 29, 30, 31, 32, 33, 34, 35, 36, 37, 38, 39, 40, 41, 42, 43, 44, 45, 46, 47, 48, 49, 50, 51, 52, 53, 54, 55, 56, 57, 58, 59, 60, 61, 62, 63, 64, 65, 66, 67, 68, 69, 70, 71, 72, 73, 74, 75, 76, 77, 78, 79, 80, 81, 82, 83, 84, 85, 86, 87, 88, 89, 90, 91, 92, 93, 94, 95, 96, 97, 98, 99, 100]\n"
     ]
    }
   ],
   "source": [
    "# Task: sum of numbers from 0 to 100\n",
    "s = 0\n",
    "ar = []\n",
    "for n in range(101):\n",
    "    s += n\n",
    "    ar.append(n)\n",
    "print(s)\n",
    "print(ar)"
   ]
  },
  {
   "cell_type": "code",
   "execution_count": 81,
   "metadata": {},
   "outputs": [
    {
     "name": "stdout",
     "output_type": "stream",
     "text": [
      "5\n",
      "6\n",
      "7\n"
     ]
    }
   ],
   "source": [
    "for i in range(5, 8):\n",
    "    print(i)"
   ]
  },
  {
   "cell_type": "code",
   "execution_count": 82,
   "metadata": {},
   "outputs": [
    {
     "name": "stdout",
     "output_type": "stream",
     "text": [
      "1\n",
      "3\n",
      "5\n",
      "7\n",
      "9\n"
     ]
    }
   ],
   "source": [
    "for i in range(1, 10, 2):\n",
    "    print(i)"
   ]
  },
  {
   "cell_type": "code",
   "execution_count": 84,
   "metadata": {},
   "outputs": [
    {
     "name": "stdout",
     "output_type": "stream",
     "text": [
      "10\n",
      "8\n",
      "6\n"
     ]
    }
   ],
   "source": [
    "for i in range(10, 5, -2):\n",
    "    print(i)"
   ]
  },
  {
   "cell_type": "markdown",
   "metadata": {},
   "source": [
    "### pass"
   ]
  },
  {
   "cell_type": "code",
   "execution_count": null,
   "metadata": {
    "collapsed": true
   },
   "outputs": [],
   "source": [
    "# это \"заглушка\"\n",
    "for i in range(100):\n",
    "    pass"
   ]
  },
  {
   "cell_type": "markdown",
   "metadata": {},
   "source": [
    "### break"
   ]
  },
  {
   "cell_type": "code",
   "execution_count": 86,
   "metadata": {},
   "outputs": [
    {
     "name": "stdout",
     "output_type": "stream",
     "text": [
      "98\n"
     ]
    }
   ],
   "source": [
    "result = 0\n",
    "while True:\n",
    "    result += 1\n",
    "    if result >= 98:\n",
    "        break\n",
    "print(result)"
   ]
  },
  {
   "cell_type": "code",
   "execution_count": 88,
   "metadata": {},
   "outputs": [
    {
     "name": "stdout",
     "output_type": "stream",
     "text": [
      "0\n",
      "1\n",
      "2\n",
      "3\n",
      "4\n"
     ]
    }
   ],
   "source": [
    "for i in range(10):\n",
    "    if i == 5:\n",
    "        break\n",
    "    print(i)"
   ]
  },
  {
   "cell_type": "markdown",
   "metadata": {},
   "source": [
    "### continue"
   ]
  },
  {
   "cell_type": "code",
   "execution_count": 91,
   "metadata": {},
   "outputs": [
    {
     "name": "stdout",
     "output_type": "stream",
     "text": [
      "20\n"
     ]
    }
   ],
   "source": [
    "# task: sum only even numbers from 1 to 10 \n",
    "s = 0\n",
    "for i in range(10):\n",
    "    if i % 2 != 0:\n",
    "        continue\n",
    "    s += i\n",
    "print(s)"
   ]
  },
  {
   "cell_type": "markdown",
   "metadata": {},
   "source": [
    "## Модули и пакеты"
   ]
  },
  {
   "cell_type": "code",
   "execution_count": 98,
   "metadata": {},
   "outputs": [
    {
     "data": {
      "text/plain": [
       "'/Users/Andrew/python/notebooks'"
      ]
     },
     "execution_count": 98,
     "metadata": {},
     "output_type": "execute_result"
    }
   ],
   "source": [
    "# current working directory\n",
    "pwd"
   ]
  },
  {
   "cell_type": "code",
   "execution_count": 99,
   "metadata": {},
   "outputs": [
    {
     "name": "stdout",
     "output_type": "stream",
     "text": [
      "['', '/Users/Andrew/Library/Enthought/Canopy/edm/envs/Python_3/lib/python35.zip', '/Users/Andrew/Library/Enthought/Canopy/edm/envs/Python_3/lib/python3.5', '/Users/Andrew/Library/Enthought/Canopy/edm/envs/Python_3/lib/python3.5/plat-darwin', '/Users/Andrew/Library/Enthought/Canopy/edm/envs/Python_3/lib/python3.5/lib-dynload', '/Users/Andrew/Library/Enthought/Canopy/edm/envs/Python_3/lib/python3.5/site-packages', '/Users/Andrew/Library/Enthought/Canopy/edm/envs/Python_3/lib/python3.5/site-packages/IPython/extensions', '/Users/Andrew/.ipython']\n"
     ]
    }
   ],
   "source": [
    "import sys\n",
    "print(sys.path) # system paths where python is looking for modules and packages\n"
   ]
  },
  {
   "cell_type": "code",
   "execution_count": 104,
   "metadata": {},
   "outputs": [
    {
     "name": "stdout",
     "output_type": "stream",
     "text": [
      "path to this:/Users/Andrew/Library/Enthought/Canopy/edm/envs/Python_3/lib/python3.5/this.py\n",
      "path to numpy: /Users/Andrew/Library/Enthought/Canopy/edm/envs/Python_3/lib/python3.5/site-packages/numpy/__init__.py\n"
     ]
    }
   ],
   "source": [
    "# how to look where module is stored\n",
    "import this\n",
    "import numpy\n",
    "import inspect\n",
    "print('path to this:' + inspect.getfile(this)) # get directory where module is located \n",
    "print('path to numpy: ' + inspect.getfile(numpy))"
   ]
  },
  {
   "cell_type": "code",
   "execution_count": 106,
   "metadata": {},
   "outputs": [
    {
     "data": {
      "text/plain": [
       "['zipfile.py',\n",
       " 'shutil.py',\n",
       " 'tempfile.py',\n",
       " 'lib-dynload',\n",
       " 'encodings',\n",
       " 'queue.py',\n",
       " 'macpath.py',\n",
       " '_pyio.py',\n",
       " 'crypt.py',\n",
       " 'pkgutil.py',\n",
       " 'distutils',\n",
       " '_dummy_thread.py',\n",
       " 'lzma.py',\n",
       " 'asyncore.py',\n",
       " '__phello__.foo.py',\n",
       " '_sitebuiltins.py',\n",
       " 'copyreg.py',\n",
       " 'sndhdr.py',\n",
       " 'rlcompleter.py',\n",
       " 'gzip.py',\n",
       " 'ctypes',\n",
       " 'ipaddress.py',\n",
       " 'trace.py',\n",
       " 'webbrowser.py',\n",
       " 'nntplib.py',\n",
       " '_compat_pickle.py',\n",
       " 'unittest',\n",
       " 'dis.py',\n",
       " 'formatter.py',\n",
       " 'bdb.py',\n",
       " 'zipapp.py',\n",
       " 'cmd.py',\n",
       " 'tty.py',\n",
       " 'curses',\n",
       " 'tabnanny.py',\n",
       " 'cProfile.py',\n",
       " 'token.py',\n",
       " 'textwrap.py',\n",
       " 'base64.py',\n",
       " '_markupbase.py',\n",
       " 'bz2.py',\n",
       " 'signal.py',\n",
       " 'sre_constants.py',\n",
       " 'cgitb.py',\n",
       " 'macurl2path.py',\n",
       " '_threading_local.py',\n",
       " 'pyclbr.py',\n",
       " 'config-3.5m',\n",
       " 'test',\n",
       " 'gettext.py',\n",
       " 'wave.py',\n",
       " 'weakref.py',\n",
       " 'bisect.py',\n",
       " 'opcode.py',\n",
       " 'netrc.py',\n",
       " 'heapq.py',\n",
       " 'functools.py',\n",
       " 'modulefinder.py',\n",
       " '_compression.py',\n",
       " 'tracemalloc.py',\n",
       " 'hashlib.py',\n",
       " 'cgi.py',\n",
       " 'codeop.py',\n",
       " 'turtledemo',\n",
       " 'fnmatch.py',\n",
       " 'multiprocessing',\n",
       " 'traceback.py',\n",
       " 'nturl2path.py',\n",
       " 'warnings.py',\n",
       " 'subprocess.py',\n",
       " 'profile.py',\n",
       " 'imghdr.py',\n",
       " 'this.py',\n",
       " 'filecmp.py',\n",
       " 'codecs.py',\n",
       " 'urllib',\n",
       " 'uu.py',\n",
       " '_weakrefset.py',\n",
       " 'io.py',\n",
       " 'code.py',\n",
       " 'operator.py',\n",
       " 'fileinput.py',\n",
       " 'os.py',\n",
       " 'site-packages',\n",
       " 'difflib.py',\n",
       " 'pydoc.py',\n",
       " 'symbol.py',\n",
       " 'selectors.py',\n",
       " 'decimal.py',\n",
       " 'socketserver.py',\n",
       " 'copy.py',\n",
       " 'html',\n",
       " 'genericpath.py',\n",
       " 'linecache.py',\n",
       " 'types.py',\n",
       " 'custom_tools',\n",
       " 'tkinter',\n",
       " 'mimetypes.py',\n",
       " 'xdrlib.py',\n",
       " '__pycache__',\n",
       " 'colorsys.py',\n",
       " 'numbers.py',\n",
       " '_strptime.py',\n",
       " 'dummy_threading.py',\n",
       " 'random.py',\n",
       " 'ftplib.py',\n",
       " 'chunk.py',\n",
       " 'optparse.py',\n",
       " 'xml',\n",
       " 'pdb.py',\n",
       " 'threading.py',\n",
       " 'turtle.py',\n",
       " 'platform.py',\n",
       " 'pstats.py',\n",
       " 'glob.py',\n",
       " 'quopri.py',\n",
       " 'symtable.py',\n",
       " 'pprint.py',\n",
       " 'calendar.py',\n",
       " 'inspect.py',\n",
       " 'wsgiref',\n",
       " 'poplib.py',\n",
       " 'binhex.py',\n",
       " 'plistlib.py',\n",
       " 'pickletools.py',\n",
       " 'pipes.py',\n",
       " 'site.py',\n",
       " 'json',\n",
       " 'telnetlib.py',\n",
       " 'keyword.py',\n",
       " 'configparser.py',\n",
       " 'reprlib.py',\n",
       " 'shlex.py',\n",
       " 'http',\n",
       " 'sqlite3',\n",
       " 'posixpath.py',\n",
       " 'py_compile.py',\n",
       " 'ensurepip',\n",
       " '_osx_support.py',\n",
       " 'stat.py',\n",
       " 'compileall.py',\n",
       " 'concurrent',\n",
       " 'csv.py',\n",
       " 'plat-darwin',\n",
       " 'fractions.py',\n",
       " 'sched.py',\n",
       " 'imaplib.py',\n",
       " 'mailbox.py',\n",
       " 'sre_compile.py',\n",
       " 'locale.py',\n",
       " 'ast.py',\n",
       " 'doctest.py',\n",
       " 'argparse.py',\n",
       " 'getpass.py',\n",
       " 'pickle.py',\n",
       " 'pty.py',\n",
       " 'contextlib.py',\n",
       " 'statistics.py',\n",
       " '_collections_abc.py',\n",
       " 'sunau.py',\n",
       " '__future__.py',\n",
       " 'shelve.py',\n",
       " 'string.py',\n",
       " 'smtplib.py',\n",
       " 'venv',\n",
       " 'getopt.py',\n",
       " 'antigravity.py',\n",
       " 'enum.py',\n",
       " 'dbm',\n",
       " 'timeit.py',\n",
       " 'hmac.py',\n",
       " 'tarfile.py',\n",
       " 'importlib',\n",
       " 'xmlrpc',\n",
       " 'stringprep.py',\n",
       " 'typing.py',\n",
       " 'LICENSE.txt',\n",
       " 'lib2to3',\n",
       " 'idlelib',\n",
       " 'pydoc_data',\n",
       " 'ssl.py',\n",
       " 'socket.py',\n",
       " 'datetime.py',\n",
       " 'sysconfig.py',\n",
       " 'collections',\n",
       " 'pathlib.py',\n",
       " '_pydecimal.py',\n",
       " 'ntpath.py',\n",
       " 'tokenize.py',\n",
       " 'uuid.py',\n",
       " 'asyncio',\n",
       " 'logging',\n",
       " 'imp.py',\n",
       " 'smtpd.py',\n",
       " 're.py',\n",
       " '_sysconfigdata.py',\n",
       " 'email',\n",
       " 'mailcap.py',\n",
       " 'aifc.py',\n",
       " 'struct.py',\n",
       " 'asynchat.py',\n",
       " 'sre_parse.py',\n",
       " 'abc.py',\n",
       " 'runpy.py',\n",
       " '_bootlocale.py']"
      ]
     },
     "execution_count": 106,
     "metadata": {},
     "output_type": "execute_result"
    }
   ],
   "source": [
    "# how to look for others modules in system or special directory\n",
    "import os\n",
    "os.listdir('/Users/Andrew/Library/Enthought/Canopy/edm/envs/Python_3/lib/python3.5/')"
   ]
  },
  {
   "cell_type": "markdown",
   "metadata": {},
   "source": [
    "### Виртуальное окружение (Virtualenv). Установка сторонних модулей"
   ]
  },
  {
   "cell_type": "markdown",
   "metadata": {},
   "source": [
    " Is used for isolation projects. For example for using different versions of the same module in different projects"
   ]
  },
  {
   "cell_type": "code",
   "execution_count": null,
   "metadata": {
    "collapsed": true
   },
   "outputs": [],
   "source": [
    "# Create virtual environment\n",
    "# > mkdir playground\n",
    "# > cd playground\n",
    "# > python3 -m venv env\n",
    "# > source env/bin/activate\n",
    "# > pip install requests\n",
    "# > pip install jupyter\n",
    "# > python3\n",
    "# > import requests\n",
    "# > import jupyter\n",
    "# > jupyter-notebook"
   ]
  },
  {
   "cell_type": "code",
   "execution_count": 109,
   "metadata": {},
   "outputs": [
    {
     "data": {
      "text/plain": [
       "'/Users/Andrew/python/notebooks'"
      ]
     },
     "execution_count": 109,
     "metadata": {},
     "output_type": "execute_result"
    }
   ],
   "source": [
    "pwd"
   ]
  },
  {
   "cell_type": "markdown",
   "metadata": {},
   "source": [
    " ### **Task**: determine geo location by ip-address"
   ]
  },
  {
   "cell_type": "code",
   "execution_count": 110,
   "metadata": {},
   "outputs": [
    {
     "name": "stdout",
     "output_type": "stream",
     "text": [
      "{'geoplugin_credit': \"Some of the returned data includes GeoLite data created by MaxMind, available from <a href='http://www.maxmind.com'>http://www.maxmind.com</a>.\", 'geoplugin_currencySymbol': 'Br', 'geoplugin_delay': '1ms', 'geoplugin_regionCode': 'HM', 'geoplugin_inEU': 0, 'geoplugin_continentCode': 'EU', 'geoplugin_currencySymbol_UTF8': 'Br', 'geoplugin_regionName': 'Minsk City', 'geoplugin_countryCode': 'BY', 'geoplugin_latitude': '53.8996', 'geoplugin_currencyConverter': 2.391, 'geoplugin_locationAccuracyRadius': '10', 'geoplugin_longitude': '27.5678', 'geoplugin_status': 200, 'geoplugin_countryName': 'Belarus', 'geoplugin_city': 'Minsk', 'geoplugin_region': 'Minsk City', 'geoplugin_request': '37.215.56.150', 'geoplugin_currencyCode': 'BYN', 'geoplugin_timezone': 'Europe/Minsk', 'geoplugin_continentName': 'Europe', 'geoplugin_dmaCode': '', 'geoplugin_areaCode': '', 'geoplugin_euVATrate': False}\n"
     ]
    }
   ],
   "source": [
    "import requests\n",
    "\n",
    "def get_location_info():\n",
    "        return requests.get('http://www.geoplugin.net/json.gp').json()\n",
    "\n",
    "# we want that our program works only when it is launched inside our interpretator\n",
    "if __name__ == \"__main__\":\n",
    "    print(get_location_info())"
   ]
  },
  {
   "cell_type": "markdown",
   "metadata": {},
   "source": [
    "### Task: draw stairs\n",
    "\n",
    "Это задание чуть сложней предыдущего и потребует от вас размышлений. Необходимо написать скрипт, который «нарисует» (выведет на консоль) лестницу. Количество ступенек в лестнице передается скрипту в качестве параметра. Гарантируется, что на вход подаются только целые числа > 0. Чтение данных нужно произвести способом, аналогичным тому, что описан в предыдущем задании. Ступени должны отображаться с помощью символа решетки  \"#\" и пробелов. Пример работы скрипта:\n"
   ]
  },
  {
   "cell_type": "code",
   "execution_count": 113,
   "metadata": {
    "collapsed": true
   },
   "outputs": [],
   "source": [
    "# Пример работы скрипта:\n",
    "# $ python solution.py 3\n",
    "#   #\n",
    "#  ##\n",
    "# ###\n",
    "# $ python solution.py 5\n",
    "#     #\n",
    "#    ##\n",
    "#   ###\n",
    "#  ####\n",
    "# #####\n",
    "# $"
   ]
  },
  {
   "cell_type": "code",
   "execution_count": 1,
   "metadata": {},
   "outputs": [
    {
     "name": "stdout",
     "output_type": "stream",
     "text": [
      "    #\n",
      "   ##\n",
      "  ###\n",
      " ####\n",
      "#####\n",
      "    #\n",
      "   ##\n",
      "  ###\n",
      " ####\n",
      "#####\n"
     ]
    }
   ],
   "source": [
    "n_steps = 5\n",
    "\n",
    "for i in range(1, n_steps + 1):\n",
    "    #s = '#' * n_steps\n",
    "    s = ''\n",
    "    for j in range(1, n_steps - i + 1):\n",
    "        s += ' '\n",
    "    for j in range(n_steps - i + 1, n_steps + 1):\n",
    "        s += '#'\n",
    "    print(s)\n",
    "\n",
    "for i in range(1, n_steps + 1):\n",
    "    #s = '#' * n_steps\n",
    "    s = ''\n",
    "    for j in range(1, n_steps - i + 1):\n",
    "        s += ' '\n",
    "    s += '#' * i\n",
    "    #for j in range(n_steps - i + 1, n_steps + 1):\n",
    "    #    s += '#'\n",
    "    print(s)"
   ]
  },
  {
   "cell_type": "markdown",
   "metadata": {},
   "source": [
    "### Task: roots of a square equation\n",
    "\n",
    "Python очень активно применяют ученые со всего мира в своих исследованиях. В этом задании мы с вами попробуем с помощью Python найти корни квадратного уравнения.\n",
    "\n",
    "Напомним, что квадратное уравнение выглядит следующим образом:\n",
    "\n",
    "$ax^2 + bx + c = 0$\n",
    "\n",
    "\n",
    "Если вы не помните формулу (а мы и сами ее не помним!), позволяющую найти корни такого уравнения, обратитесь за помощью к статье в Википедии.\n",
    "\n",
    "Ваша задача написать программу, которая запускается в командной строке с параметрами, вычисляет значения корней квадратного уравнения и выводит их на печать. На вход программе подаются коэффициенты a, b и c. На печать должно выводиться два корня квадратного уравнения. Обратите внимание на то, как выводятся корни - каждый с новой строки.\n",
    "\n",
    "Чтобы не усложнять вашу задачу все коэффициенты, которые мы будем подавать вам на вход являются коэффициентами, которые в итоге дают 2 корня квадратного уравнения.\n"
   ]
  },
  {
   "cell_type": "code",
   "execution_count": 2,
   "metadata": {
    "collapsed": true
   },
   "outputs": [],
   "source": [
    "# Прочитать коэффициенты a,  b,  c вы можете следующим образом:\n",
    "\n",
    "# import sys\n",
    "# a = int(sys.argv[1])\n",
    "# b = int(sys.argv[2])\n",
    "# c = int(sys.argv[3])\n",
    "\n",
    "# Примеры работы скрипта:\n",
    "\n",
    "# $ python squareroots.py 1 -3 -4\n",
    "# 4\n",
    "# -1\n",
    "# $ python squareroots.py 13 23 1\n",
    "# 1\n",
    "# -19"
   ]
  },
  {
   "cell_type": "code",
   "execution_count": 4,
   "metadata": {},
   "outputs": [
    {
     "name": "stdout",
     "output_type": "stream",
     "text": [
      "x1: None\n",
      "x2: None\n"
     ]
    }
   ],
   "source": [
    "a = 1\n",
    "b = -3\n",
    "c = 4\n",
    "\n",
    "D = b**2 - 4*a*c\n",
    "if D > 0:\n",
    "    x1 = (-b + (D)**(1/2)) / (2 * a)\n",
    "    x2 = (-b - (D)**(1/2)) / (2 * a)\n",
    "elif D == 0:\n",
    "    x1 = x2 = -b/(2*a)\n",
    "elif D < 0:\n",
    "    x1 = x2 = None\n",
    "\n",
    "print('x1: ' + str(x1))\n",
    "print('x2: ' + str(x2))\n",
    "\n"
   ]
  },
  {
   "cell_type": "markdown",
   "metadata": {
    "collapsed": true
   },
   "source": [
    "# Объектная структура в Python"
   ]
  },
  {
   "cell_type": "markdown",
   "metadata": {},
   "source": [
    "В других языках программирования переменная ссылается на ячейку памяти. В питане не так. Она ссылается на объект. в питоне всё является объектами (даже модули и пакеты). Самый главный вывод из этого: всё можно присвоить переменной и передать в функцию в качестве аргумента). \n",
    "\n"
   ]
  },
  {
   "cell_type": "code",
   "execution_count": 5,
   "metadata": {},
   "outputs": [
    {
     "data": {
      "text/plain": [
       "15"
      ]
     },
     "execution_count": 5,
     "metadata": {},
     "output_type": "execute_result"
    }
   ],
   "source": [
    "num = 13\n",
    "num.__add__(2)"
   ]
  },
  {
   "cell_type": "code",
   "execution_count": 10,
   "metadata": {},
   "outputs": [
    {
     "name": "stdout",
     "output_type": "stream",
     "text": [
      "<class 'int'>\n",
      "['__abs__', '__add__', '__and__', '__bool__', '__ceil__', '__class__', '__delattr__', '__dir__', '__divmod__', '__doc__', '__eq__', '__float__', '__floor__', '__floordiv__', '__format__', '__ge__', '__getattribute__', '__getnewargs__', '__gt__', '__hash__', '__index__', '__init__', '__init_subclass__', '__int__', '__invert__', '__le__', '__lshift__', '__lt__', '__mod__', '__mul__', '__ne__', '__neg__', '__new__', '__or__', '__pos__', '__pow__', '__radd__', '__rand__', '__rdivmod__', '__reduce__', '__reduce_ex__', '__repr__', '__rfloordiv__', '__rlshift__', '__rmod__', '__rmul__', '__ror__', '__round__', '__rpow__', '__rrshift__', '__rshift__', '__rsub__', '__rtruediv__', '__rxor__', '__setattr__', '__sizeof__', '__str__', '__sub__', '__subclasshook__', '__truediv__', '__trunc__', '__xor__', 'bit_length', 'conjugate', 'denominator', 'from_bytes', 'imag', 'numerator', 'real', 'to_bytes']\n"
     ]
    }
   ],
   "source": [
    "# print object's methodes\n",
    "print(type(num))\n",
    "print(dir(num))"
   ]
  },
  {
   "cell_type": "code",
   "execution_count": 9,
   "metadata": {},
   "outputs": [
    {
     "name": "stdout",
     "output_type": "stream",
     "text": [
      "<class 'str'>\n",
      "['__add__', '__class__', '__contains__', '__delattr__', '__dir__', '__doc__', '__eq__', '__format__', '__ge__', '__getattribute__', '__getitem__', '__getnewargs__', '__gt__', '__hash__', '__init__', '__init_subclass__', '__iter__', '__le__', '__len__', '__lt__', '__mod__', '__mul__', '__ne__', '__new__', '__reduce__', '__reduce_ex__', '__repr__', '__rmod__', '__rmul__', '__setattr__', '__sizeof__', '__str__', '__subclasshook__', 'capitalize', 'casefold', 'center', 'count', 'encode', 'endswith', 'expandtabs', 'find', 'format', 'format_map', 'index', 'isalnum', 'isalpha', 'isascii', 'isdecimal', 'isdigit', 'isidentifier', 'islower', 'isnumeric', 'isprintable', 'isspace', 'istitle', 'isupper', 'join', 'ljust', 'lower', 'lstrip', 'maketrans', 'partition', 'replace', 'rfind', 'rindex', 'rjust', 'rpartition', 'rsplit', 'rstrip', 'split', 'splitlines', 'startswith', 'strip', 'swapcase', 'title', 'translate', 'upper', 'zfill']\n"
     ]
    }
   ],
   "source": [
    "s = 'Andrew'\n",
    "print(type(s))\n",
    "print(dir(s))"
   ]
  },
  {
   "cell_type": "markdown",
   "metadata": {},
   "source": [
    "# Lists"
   ]
  },
  {
   "cell_type": "code",
   "execution_count": 5,
   "metadata": {
    "scrolled": true
   },
   "outputs": [
    {
     "name": "stdout",
     "output_type": "stream",
     "text": [
      "list\n",
      "tuple\n",
      "dict\n",
      "set\n",
      "(0, 'list')\n",
      "(1, 'tuple')\n",
      "(2, 'dict')\n",
      "(3, 'set')\n",
      "0\n",
      "list\n",
      "1\n",
      "tuple\n",
      "2\n",
      "dict\n",
      "3\n",
      "set\n"
     ]
    }
   ],
   "source": [
    "collections = ['list', 'tuple', 'dict', 'set']\n",
    "for c in collections:\n",
    "    print(c)\n",
    "for c in enumerate(collections):\n",
    "    print(c)\n",
    "for i, c in enumerate(collections):\n",
    "    print(i)\n",
    "    print(c)"
   ]
  },
  {
   "cell_type": "markdown",
   "metadata": {},
   "source": [
    "### Add elements"
   ]
  },
  {
   "cell_type": "code",
   "execution_count": 17,
   "metadata": {},
   "outputs": [
    {
     "name": "stdout",
     "output_type": "stream",
     "text": [
      "['list', 'tuple', 'dict', 'set', 'OrderedDict']\n",
      "['list', 'tuple', 'dict', 'set', 'OrderedDict', 'ponyset', 'unicorndict']\n",
      "['list', 'tuple', 'dict', 'set', 'OrderedDict', 'ponyset', 'unicorndict', 'newelement']\n",
      "['list', 'tuple', 'dict', 'set', 'OrderedDict', 'ponyset', 'unicorndict', 'newelement', None]\n"
     ]
    }
   ],
   "source": [
    "\n",
    "collections = ['list', 'tuple', 'dict', 'set']\n",
    "collections.append('OrderedDict')\n",
    "print(collections)\n",
    "collections.extend(['ponyset', 'unicorndict'])\n",
    "print(collections)\n",
    "collections += ['newelement']\n",
    "print(collections)\n",
    "collections += [None]\n",
    "print(collections)"
   ]
  },
  {
   "cell_type": "markdown",
   "metadata": {},
   "source": [
    "### Delete element"
   ]
  },
  {
   "cell_type": "code",
   "execution_count": 18,
   "metadata": {},
   "outputs": [
    {
     "name": "stdout",
     "output_type": "stream",
     "text": [
      "['list', 'tuple', 'dict', 'set', 'ponyset', 'unicorndict', 'newelement', None]\n"
     ]
    }
   ],
   "source": [
    "del collections[4]\n",
    "print(collections)"
   ]
  },
  {
   "cell_type": "code",
   "execution_count": 19,
   "metadata": {},
   "outputs": [
    {
     "name": "stdout",
     "output_type": "stream",
     "text": [
      "['list', 'tuple', 'dict', 'ponyset', 'unicorndict', 'newelement', None]\n"
     ]
    }
   ],
   "source": [
    "collections.remove('set')\n",
    "print(collections)"
   ]
  },
  {
   "cell_type": "code",
   "execution_count": 20,
   "metadata": {},
   "outputs": [
    {
     "name": "stdout",
     "output_type": "stream",
     "text": [
      "['list', 'tuple', 'ponyset', 'unicorndict', 'newelement', None]\n"
     ]
    }
   ],
   "source": [
    "collections.remove(collections[2])\n",
    "print(collections)"
   ]
  },
  {
   "cell_type": "markdown",
   "metadata": {},
   "source": [
    "### str.join"
   ]
  },
  {
   "cell_type": "code",
   "execution_count": 21,
   "metadata": {},
   "outputs": [
    {
     "name": "stdout",
     "output_type": "stream",
     "text": [
      "python, course, coursera\n"
     ]
    }
   ],
   "source": [
    "tag_list = ['python', 'course', 'coursera']\n",
    "print(', '.join(tag_list))"
   ]
  },
  {
   "cell_type": "code",
   "execution_count": 22,
   "metadata": {},
   "outputs": [
    {
     "data": {
      "text/plain": [
       "'pythonaaacourseaaacoursera'"
      ]
     },
     "execution_count": 22,
     "metadata": {},
     "output_type": "execute_result"
    }
   ],
   "source": [
    "'aaa'.join(tag_list)"
   ]
  },
  {
   "cell_type": "code",
   "execution_count": 23,
   "metadata": {},
   "outputs": [
    {
     "name": "stdout",
     "output_type": "stream",
     "text": [
      "['p', 'y', 't', 'h', 'o', 'n', ',', ' ', 'c', 'o', 'u', 'r', 's', 'e', ',', ' ', 'c', 'o', 'u', 'r', 's', 'e', 'r', 'a']\n"
     ]
    }
   ],
   "source": [
    "s = ', '.join(tag_list)\n",
    "print(list(s))"
   ]
  },
  {
   "cell_type": "markdown",
   "metadata": {},
   "source": [
    "### Sorting"
   ]
  },
  {
   "cell_type": "code",
   "execution_count": 25,
   "metadata": {},
   "outputs": [
    {
     "name": "stdout",
     "output_type": "stream",
     "text": [
      "[10, 9, 1, 8, 7, 7, 8, 6, 8, 3]\n",
      "[1, 3, 6, 7, 7, 8, 8, 8, 9, 10]\n"
     ]
    }
   ],
   "source": [
    "import random\n",
    "numbers = []\n",
    "for _ in range(10):\n",
    "    numbers.append(random.randint(1, 10))\n",
    "print(numbers)\n",
    "print(sorted(numbers)) # new list is returned, original one isn't changed"
   ]
  },
  {
   "cell_type": "code",
   "execution_count": 27,
   "metadata": {},
   "outputs": [
    {
     "name": "stdout",
     "output_type": "stream",
     "text": [
      "[1, 3, 6, 7, 7, 8, 8, 8, 9, 10]\n"
     ]
    }
   ],
   "source": [
    "# sort in place\n",
    "numbers.sort() # sorted in place, original changed\n",
    "print(numbers) "
   ]
  },
  {
   "cell_type": "code",
   "execution_count": 28,
   "metadata": {},
   "outputs": [
    {
     "name": "stdout",
     "output_type": "stream",
     "text": [
      "[10, 9, 8, 8, 8, 7, 7, 6, 3, 1]\n"
     ]
    }
   ],
   "source": [
    "# sort reverse\n",
    "print(sorted(numbers, reverse = True))"
   ]
  },
  {
   "cell_type": "code",
   "execution_count": 29,
   "metadata": {},
   "outputs": [
    {
     "name": "stdout",
     "output_type": "stream",
     "text": [
      "[10, 9, 8, 8, 8, 7, 7, 6, 3, 1]\n"
     ]
    }
   ],
   "source": [
    "# sort reverse in place\n",
    "numbers.sort(reverse=True)\n",
    "print(numbers)"
   ]
  },
  {
   "cell_type": "code",
   "execution_count": 30,
   "metadata": {},
   "outputs": [
    {
     "name": "stdout",
     "output_type": "stream",
     "text": [
      "<list_reverseiterator object at 0x114defe50>\n"
     ]
    }
   ],
   "source": [
    "# iterator\n",
    "print(reversed(numbers))"
   ]
  },
  {
   "cell_type": "code",
   "execution_count": 31,
   "metadata": {},
   "outputs": [
    {
     "name": "stdout",
     "output_type": "stream",
     "text": [
      "[1, 3, 6, 7, 7, 8, 8, 8, 9, 10]\n"
     ]
    }
   ],
   "source": [
    "print(list(reversed(numbers)))"
   ]
  },
  {
   "cell_type": "code",
   "execution_count": 33,
   "metadata": {},
   "outputs": [
    {
     "name": "stdout",
     "output_type": "stream",
     "text": [
      "3\n"
     ]
    }
   ],
   "source": [
    "print(numbers.count(8))"
   ]
  },
  {
   "cell_type": "markdown",
   "metadata": {},
   "source": [
    "## Кортежи или tuple"
   ]
  },
  {
   "cell_type": "code",
   "execution_count": 57,
   "metadata": {},
   "outputs": [
    {
     "name": "stdout",
     "output_type": "stream",
     "text": [
      "(<class 'int'>, <class 'str'>, <class 'tuple'>)\n"
     ]
    }
   ],
   "source": [
    "# immutable!\n",
    "empty_tuple = ()\n",
    "empty_tuple = tuple()\n",
    "immutables = (int, str, tuple)\n",
    "print(immutables)\n"
   ]
  },
  {
   "cell_type": "code",
   "execution_count": 36,
   "metadata": {},
   "outputs": [
    {
     "ename": "TypeError",
     "evalue": "'tuple' object does not support item assignment",
     "output_type": "error",
     "traceback": [
      "\u001b[0;31m---------------------------------------------------------------------------\u001b[0m",
      "\u001b[0;31mTypeError\u001b[0m                                 Traceback (most recent call last)",
      "\u001b[0;32m<ipython-input-36-36a3a527cff0>\u001b[0m in \u001b[0;36m<module>\u001b[0;34m\u001b[0m\n\u001b[0;32m----> 1\u001b[0;31m \u001b[0mimmutables\u001b[0m\u001b[0;34m[\u001b[0m\u001b[0;36m0\u001b[0m\u001b[0;34m]\u001b[0m \u001b[0;34m=\u001b[0m \u001b[0mfloat\u001b[0m\u001b[0;34m\u001b[0m\u001b[0;34m\u001b[0m\u001b[0m\n\u001b[0m",
      "\u001b[0;31mTypeError\u001b[0m: 'tuple' object does not support item assignment"
     ]
    }
   ],
   "source": [
    "immutables[0] = float # error, immutable!"
   ]
  },
  {
   "cell_type": "code",
   "execution_count": 38,
   "metadata": {},
   "outputs": [
    {
     "name": "stdout",
     "output_type": "stream",
     "text": [
      "([7], [])\n"
     ]
    }
   ],
   "source": [
    "# tules are immutable but objects inside can be mutable\n",
    "blink = ([], [])\n",
    "blink[0].append(7)\n",
    "print(blink)"
   ]
  },
  {
   "cell_type": "code",
   "execution_count": 39,
   "metadata": {},
   "outputs": [
    {
     "data": {
      "text/plain": [
       "3527539"
      ]
     },
     "execution_count": 39,
     "metadata": {},
     "output_type": "execute_result"
    }
   ],
   "source": [
    "# hash: we can use this function to tuple() that means tuples can be used as keys for dictionaries\n",
    "hash(tuple())"
   ]
  },
  {
   "cell_type": "markdown",
   "metadata": {},
   "source": [
    "### Task: find median of a list"
   ]
  },
  {
   "cell_type": "code",
   "execution_count": 51,
   "metadata": {},
   "outputs": [
    {
     "name": "stdout",
     "output_type": "stream",
     "text": [
      "[10, 10, 19, 12, 20, 14, 10, 20, 16, 16]\n",
      "[10, 10, 10, 12, 14, 16, 16, 19, 20, 20]\n"
     ]
    }
   ],
   "source": [
    "import random\n",
    "\n",
    "numbers = []\n",
    "numbers_size = random.randint(10,15)\n",
    "for _ in range(numbers_size):\n",
    "    numbers.append(random.randint(10,20))\n",
    "print(numbers)\n",
    "numbers.sort()\n",
    "print(numbers)"
   ]
  },
  {
   "cell_type": "code",
   "execution_count": 55,
   "metadata": {},
   "outputs": [
    {
     "name": "stdout",
     "output_type": "stream",
     "text": [
      "5\n",
      "even\n",
      "15\n"
     ]
    }
   ],
   "source": [
    "# median - if number of elements is odd median is an element in the middle, if even - mean of two elements in the middle\n",
    "\n",
    "half_size = len(numbers) // 2\n",
    "print(half_size)\n",
    "median = None\n",
    "\n",
    "if numbers_size % 2 == 1:\n",
    "    # odd\n",
    "    print('odd')\n",
    "    median = numbers[half_size]\n",
    "else: \n",
    "    # even\n",
    "    print('even')\n",
    "    median = sum(numbers[half_size - 1 : half_size + 1]) // 2\n",
    "    \n",
    "print(median)"
   ]
  },
  {
   "cell_type": "code",
   "execution_count": 56,
   "metadata": {},
   "outputs": [
    {
     "data": {
      "text/plain": [
       "15.0"
      ]
     },
     "execution_count": 56,
     "metadata": {},
     "output_type": "execute_result"
    }
   ],
   "source": [
    "# check\n",
    "import statistics\n",
    "\n",
    "statistics.median(numbers)"
   ]
  },
  {
   "cell_type": "markdown",
   "metadata": {},
   "source": [
    "## Dictionaries"
   ]
  },
  {
   "cell_type": "code",
   "execution_count": 58,
   "metadata": {},
   "outputs": [
    {
     "name": "stdout",
     "output_type": "stream",
     "text": [
      "['tuple', 'frozenset']\n"
     ]
    }
   ],
   "source": [
    "# advantage: dictionaries allow to receive value using key very fast due to hashing algo\n",
    "\n",
    "empty_dict = {}\n",
    "empty_dict = dict()\n",
    "\n",
    "collections_map = {\n",
    "    'mutable': ['list', 'set', 'dict'],\n",
    "    'immutable': ['tuple', 'frozenset']\n",
    "}\n",
    "\n",
    "print(collections_map['immutable'])"
   ]
  },
  {
   "cell_type": "code",
   "execution_count": 60,
   "metadata": {},
   "outputs": [
    {
     "ename": "KeyError",
     "evalue": "'irresistible'",
     "output_type": "error",
     "traceback": [
      "\u001b[0;31m---------------------------------------------------------------------------\u001b[0m",
      "\u001b[0;31mKeyError\u001b[0m                                  Traceback (most recent call last)",
      "\u001b[0;32m<ipython-input-60-d349f16e9bc3>\u001b[0m in \u001b[0;36m<module>\u001b[0;34m\u001b[0m\n\u001b[1;32m      1\u001b[0m \u001b[0;31m# if key doesn't exist error\u001b[0m\u001b[0;34m\u001b[0m\u001b[0;34m\u001b[0m\u001b[0;34m\u001b[0m\u001b[0m\n\u001b[0;32m----> 2\u001b[0;31m \u001b[0mprint\u001b[0m\u001b[0;34m(\u001b[0m\u001b[0mcollections_map\u001b[0m\u001b[0;34m[\u001b[0m\u001b[0;34m'irresistible'\u001b[0m\u001b[0;34m]\u001b[0m\u001b[0;34m)\u001b[0m\u001b[0;34m\u001b[0m\u001b[0;34m\u001b[0m\u001b[0m\n\u001b[0m\u001b[1;32m      3\u001b[0m \u001b[0;31m# but sometimes we need to return default value if key does't exists\u001b[0m\u001b[0;34m\u001b[0m\u001b[0;34m\u001b[0m\u001b[0;34m\u001b[0m\u001b[0m\n\u001b[1;32m      4\u001b[0m \u001b[0mprint\u001b[0m\u001b[0;34m(\u001b[0m\u001b[0mcollections_map\u001b[0m\u001b[0;34m.\u001b[0m\u001b[0mget\u001b[0m\u001b[0;34m(\u001b[0m\u001b[0;34m'irresistible'\u001b[0m\u001b[0;34m,\u001b[0m \u001b[0;34m'not found'\u001b[0m\u001b[0;34m)\u001b[0m\u001b[0;34m)\u001b[0m\u001b[0;34m\u001b[0m\u001b[0;34m\u001b[0m\u001b[0m\n",
      "\u001b[0;31mKeyError\u001b[0m: 'irresistible'"
     ]
    }
   ],
   "source": [
    "# if key doesn't exist error\n",
    "print(collections_map['irresistible'])\n"
   ]
  },
  {
   "cell_type": "code",
   "execution_count": 61,
   "metadata": {},
   "outputs": [
    {
     "name": "stdout",
     "output_type": "stream",
     "text": [
      "not found\n"
     ]
    }
   ],
   "source": [
    "# but sometimes we need to return default value if key does't exists\n",
    "print(collections_map.get('irresistible', 'not found'))"
   ]
  },
  {
   "cell_type": "code",
   "execution_count": 62,
   "metadata": {},
   "outputs": [
    {
     "name": "stdout",
     "output_type": "stream",
     "text": [
      "True\n"
     ]
    }
   ],
   "source": [
    "# to chech if a dictionary has a key\n",
    "print('mutable' in collections_map)\n"
   ]
  },
  {
   "cell_type": "markdown",
   "metadata": {},
   "source": [
    "### Add/remove elements\n"
   ]
  },
  {
   "cell_type": "code",
   "execution_count": 67,
   "metadata": {},
   "outputs": [
    {
     "name": "stdout",
     "output_type": "stream",
     "text": [
      "{'Paul': 'Bass', 'John': 'Guitar', 'George': 'Guitar'}\n"
     ]
    }
   ],
   "source": [
    "beatles_map = {\n",
    "    'Paul': 'Bass',\n",
    "    'John': 'Guitar',\n",
    "    'George': 'Guitar'\n",
    "}\n",
    "\n",
    "print(beatles_map)"
   ]
  },
  {
   "cell_type": "code",
   "execution_count": 68,
   "metadata": {},
   "outputs": [
    {
     "name": "stdout",
     "output_type": "stream",
     "text": [
      "{'Paul': 'Bass', 'John': 'Guitar', 'George': 'Guitar', 'Ringo': 'Drums'}\n"
     ]
    }
   ],
   "source": [
    "# add (by key-value pair)\n",
    "beatles_map['Ringo'] = 'Drums'\n",
    "print(beatles_map)"
   ]
  },
  {
   "cell_type": "code",
   "execution_count": 69,
   "metadata": {},
   "outputs": [
    {
     "name": "stdout",
     "output_type": "stream",
     "text": [
      "{'Paul': 'Bass', 'George': 'Guitar', 'Ringo': 'Drums'}\n"
     ]
    }
   ],
   "source": [
    "# delete\n",
    "del beatles_map['John']\n",
    "print(beatles_map)"
   ]
  },
  {
   "cell_type": "code",
   "execution_count": 70,
   "metadata": {},
   "outputs": [
    {
     "name": "stdout",
     "output_type": "stream",
     "text": [
      "{'Paul': 'Bass', 'George': 'Guitar', 'Ringo': 'Drums', 'John': 'Guitar'}\n"
     ]
    }
   ],
   "source": [
    "# add (by new dict)\n",
    "beatles_map.update({\n",
    "    'John': 'Guitar'\n",
    "})\n",
    "print(beatles_map)"
   ]
  },
  {
   "cell_type": "code",
   "execution_count": 72,
   "metadata": {},
   "outputs": [
    {
     "name": "stdout",
     "output_type": "stream",
     "text": [
      "Drums\n",
      "{'Paul': 'Bass', 'George': 'Guitar', 'John': 'Guitar'}\n"
     ]
    }
   ],
   "source": [
    "# delete (delete by key and return value)\n",
    "print(beatles_map.pop('Ringo'))\n",
    "print(beatles_map)"
   ]
  },
  {
   "cell_type": "code",
   "execution_count": 73,
   "metadata": {},
   "outputs": [
    {
     "name": "stdout",
     "output_type": "stream",
     "text": [
      "default_value\n"
     ]
    }
   ],
   "source": [
    "# default\n",
    "# often we need not only check whether a key exists in dict but also in case of unsuccess add default value to dict\n",
    "unknown_dict = {}\n",
    "print(unknown_dict.setdefault('key', 'default_value'))"
   ]
  },
  {
   "cell_type": "code",
   "execution_count": 74,
   "metadata": {},
   "outputs": [
    {
     "name": "stdout",
     "output_type": "stream",
     "text": [
      "{'key': 'default_value'}\n"
     ]
    }
   ],
   "source": [
    "print(unknown_dict)"
   ]
  },
  {
   "cell_type": "code",
   "execution_count": 79,
   "metadata": {},
   "outputs": [
    {
     "name": "stdout",
     "output_type": "stream",
     "text": [
      "{'key': 'default_value', 'new_key': 'new_value', 'key1': 'key1_default'}\n",
      "new_value\n",
      "key1_default\n",
      "{'key': 'default_value', 'new_key': 'new_value', 'key1': 'key1_default'}\n"
     ]
    }
   ],
   "source": [
    "unknown_dict['new_key'] = 'new_value'\n",
    "print(unknown_dict)\n",
    "print(unknown_dict.setdefault('new_key', 'default_for_new_key'))\n",
    "print(unknown_dict.setdefault('key1', 'key1_default'))\n",
    "print(unknown_dict)"
   ]
  },
  {
   "cell_type": "markdown",
   "metadata": {},
   "source": [
    "### iteration"
   ]
  },
  {
   "cell_type": "code",
   "execution_count": 82,
   "metadata": {},
   "outputs": [
    {
     "name": "stdout",
     "output_type": "stream",
     "text": [
      "{'mutable': ['list', 'set', 'dict'], 'immutable': ['tuple', 'frozenset']}\n",
      "mutable\n",
      "immutable\n",
      "0\n",
      "mutable\n",
      "1\n",
      "immutable\n"
     ]
    }
   ],
   "source": [
    "print(collections_map)\n",
    "for key in collections_map:   # by default iteration on keys\n",
    "    print(key)\n",
    "for i, key in enumerate(collections_map):\n",
    "    print(i)\n",
    "    print(key)"
   ]
  },
  {
   "cell_type": "code",
   "execution_count": 84,
   "metadata": {},
   "outputs": [
    {
     "name": "stdout",
     "output_type": "stream",
     "text": [
      "mutable - ['list', 'set', 'dict']\n",
      "immutable - ['tuple', 'frozenset']\n"
     ]
    }
   ],
   "source": [
    "# to iterate on keys and values\n",
    "for key, value in collections_map.items():\n",
    "    print('{} - {}'.format(key, value))"
   ]
  },
  {
   "cell_type": "code",
   "execution_count": 85,
   "metadata": {},
   "outputs": [
    {
     "name": "stdout",
     "output_type": "stream",
     "text": [
      "['list', 'set', 'dict']\n",
      "['tuple', 'frozenset']\n"
     ]
    }
   ],
   "source": [
    "# to iterate on values\n",
    "for value in collections_map.values():\n",
    "    print(value)"
   ]
  },
  {
   "cell_type": "code",
   "execution_count": 86,
   "metadata": {},
   "outputs": [
    {
     "name": "stdout",
     "output_type": "stream",
     "text": [
      "mutable\n",
      "immutable\n"
     ]
    }
   ],
   "source": [
    "# to iterate on keys\n",
    "for key in collections_map.keys():\n",
    "    print(key)"
   ]
  },
  {
   "cell_type": "markdown",
   "metadata": {},
   "source": [
    "### OrderedDict"
   ]
  },
  {
   "cell_type": "code",
   "execution_count": 90,
   "metadata": {},
   "outputs": [
    {
     "name": "stdout",
     "output_type": "stream",
     "text": [
      "ordered_dict keys:\n",
      "0\n",
      "1\n",
      "2\n",
      "3\n",
      "4\n",
      "5\n",
      "6\n",
      "7\n",
      "8\n",
      "9\n",
      "not_ordered_dict keys:\n",
      "0\n",
      "1\n",
      "2\n",
      "3\n",
      "4\n",
      "5\n",
      "6\n",
      "7\n",
      "8\n",
      "9\n"
     ]
    }
   ],
   "source": [
    "# By default keys are not ordered: do not follow order in which they where added to dict\n",
    "# OrderedDict keeps order\n",
    "from collections import OrderedDict\n",
    "ordered_dict = OrderedDict()\n",
    "not_ordered_dict = {}\n",
    "for number in range(10):\n",
    "    ordered_dict[number] = str(number)\n",
    "    not_ordered_dict[number] = str(number)\n",
    "print('ordered_dict keys:')\n",
    "for key in ordered_dict:\n",
    "    print(key)\n",
    "print('not_ordered_dict keys:')\n",
    "for key in not_ordered_dict:\n",
    "    print(key)"
   ]
  },
  {
   "cell_type": "markdown",
   "metadata": {},
   "source": [
    "### Task: Find 3 most frequent words in Zen of Python (module this)"
   ]
  },
  {
   "cell_type": "code",
   "execution_count": 91,
   "metadata": {},
   "outputs": [
    {
     "name": "stdout",
     "output_type": "stream",
     "text": [
      "The Zen of Python, by Tim Peters\n",
      "\n",
      "Beautiful is better than ugly.\n",
      "Explicit is better than implicit.\n",
      "Simple is better than complex.\n",
      "Complex is better than complicated.\n",
      "Flat is better than nested.\n",
      "Sparse is better than dense.\n",
      "Readability counts.\n",
      "Special cases aren't special enough to break the rules.\n",
      "Although practicality beats purity.\n",
      "Errors should never pass silently.\n",
      "Unless explicitly silenced.\n",
      "In the face of ambiguity, refuse the temptation to guess.\n",
      "There should be one-- and preferably only one --obvious way to do it.\n",
      "Although that way may not be obvious at first unless you're Dutch.\n",
      "Now is better than never.\n",
      "Although never is often better than *right* now.\n",
      "If the implementation is hard to explain, it's a bad idea.\n",
      "If the implementation is easy to explain, it may be a good idea.\n",
      "Namespaces are one honking great idea -- let's do more of those!\n"
     ]
    }
   ],
   "source": [
    "import this"
   ]
  },
  {
   "cell_type": "code",
   "execution_count": 95,
   "metadata": {
    "collapsed": true
   },
   "outputs": [],
   "source": [
    "zen = \"\"\"\n",
    "The Zen of Python, by Tim Peters\n",
    "\n",
    "Beautiful is better than ugly.\n",
    "Explicit is better than implicit.\n",
    "Simple is better than complex.\n",
    "Complex is better than complicated.\n",
    "Flat is better than nested.\n",
    "Sparse is better than dense.\n",
    "Readability counts.\n",
    "Special cases aren't special enough to break the rules.\n",
    "Although practicality beats purity.\n",
    "Errors should never pass silently.\n",
    "Unless explicitly silenced.\n",
    "In the face of ambiguity, refuse the temptation to guess.\n",
    "There should be one-- and preferably only one --obvious way to do it.\n",
    "Although that way may not be obvious at first unless you're Dutch.\n",
    "Now is better than never.\n",
    "Although never is often better than *right* now.\n",
    "If the implementation is hard to explain, it's a bad idea.\n",
    "If the implementation is easy to explain, it may be a good idea.\n",
    "Namespaces are one honking great idea -- let's do more of those!\n",
    "\"\"\"\n"
   ]
  },
  {
   "cell_type": "code",
   "execution_count": 103,
   "metadata": {},
   "outputs": [
    {
     "name": "stdout",
     "output_type": "stream",
     "text": [
      "{'the': 6, 'zen': 1, 'of': 3, 'python': 1, 'by': 1, 'tim': 1, 'peters': 1, 'beautiful': 1, 'is': 10, 'better': 8, 'than': 8, 'ugly': 1, 'explicit': 1, 'implicit': 1, 'simple': 1, 'complex': 2, 'complicated': 1, 'flat': 1, 'nested': 1, 'sparse': 1, 'dense': 1, 'readability': 1, 'counts': 1, 'special': 2, 'cases': 1, \"aren't\": 1, 'enough': 1, 'to': 5, 'break': 1, 'rules': 1, 'although': 3, 'practicality': 1, 'beats': 1, 'purity': 1, 'errors': 1, 'should': 2, 'never': 3, 'pass': 1, 'silently': 1, 'unless': 2, 'explicitly': 1, 'silenced': 1, 'in': 1, 'face': 1, 'ambiguity': 1, 'refuse': 1, 'temptation': 1, 'guess': 1, 'there': 1, 'be': 3, 'one': 3, 'and': 1, 'preferably': 1, 'only': 1, 'obvious': 2, 'way': 2, 'do': 2, 'it': 2, 'that': 1, 'may': 2, 'not': 1, 'at': 1, 'first': 1, \"you're\": 1, 'dutch': 1, 'now': 2, 'often': 1, 'right': 1, 'if': 2, 'implementation': 2, 'hard': 1, 'explain': 2, \"it's\": 1, 'a': 2, 'bad': 1, 'idea': 3, 'easy': 1, 'good': 1, 'namespaces': 1, 'are': 1, 'honking': 1, 'great': 1, '': 1, \"let's\": 1, 'more': 1, 'those': 1}\n"
     ]
    }
   ],
   "source": [
    "#print(zen.split())\n",
    "zen_map = dict()\n",
    "for word in zen.split():\n",
    "    clean_word = word.strip(\",.!-*\").lower()\n",
    "    #print(clean_word)\n",
    "    if clean_word not in zen_map:\n",
    "        zen_map[clean_word] = 1\n",
    "    else:\n",
    "        zen_map[clean_word] += 1\n",
    "print(zen_map)"
   ]
  },
  {
   "cell_type": "code",
   "execution_count": 107,
   "metadata": {},
   "outputs": [
    {
     "name": "stdout",
     "output_type": "stream",
     "text": [
      "[('', 1), ('a', 2), ('although', 3), ('ambiguity', 1), ('and', 1), ('are', 1), (\"aren't\", 1), ('at', 1), ('bad', 1), ('be', 3), ('beats', 1), ('beautiful', 1), ('better', 8), ('break', 1), ('by', 1), ('cases', 1), ('complex', 2), ('complicated', 1), ('counts', 1), ('dense', 1), ('do', 2), ('dutch', 1), ('easy', 1), ('enough', 1), ('errors', 1), ('explain', 2), ('explicit', 1), ('explicitly', 1), ('face', 1), ('first', 1), ('flat', 1), ('good', 1), ('great', 1), ('guess', 1), ('hard', 1), ('honking', 1), ('idea', 3), ('if', 2), ('implementation', 2), ('implicit', 1), ('in', 1), ('is', 10), ('it', 2), (\"it's\", 1), (\"let's\", 1), ('may', 2), ('more', 1), ('namespaces', 1), ('nested', 1), ('never', 3), ('not', 1), ('now', 2), ('obvious', 2), ('of', 3), ('often', 1), ('one', 3), ('only', 1), ('pass', 1), ('peters', 1), ('practicality', 1), ('preferably', 1), ('purity', 1), ('python', 1), ('readability', 1), ('refuse', 1), ('right', 1), ('rules', 1), ('should', 2), ('silenced', 1), ('silently', 1), ('simple', 1), ('sparse', 1), ('special', 2), ('temptation', 1), ('than', 8), ('that', 1), ('the', 6), ('there', 1), ('those', 1), ('tim', 1), ('to', 5), ('ugly', 1), ('unless', 2), ('way', 2), (\"you're\", 1), ('zen', 1)]\n"
     ]
    }
   ],
   "source": [
    "# order\n",
    "zen_items = zen_map.items()\n",
    "#print(zen_items)  # list of tuples key-value\n",
    "print(sorted(zen_items)) # sort by key, but we need by value\n"
   ]
  },
  {
   "cell_type": "code",
   "execution_count": 112,
   "metadata": {},
   "outputs": [
    {
     "name": "stdout",
     "output_type": "stream",
     "text": [
      "[('is', 10), ('better', 8), ('than', 8), ('the', 6), ('to', 5), ('of', 3), ('although', 3)]\n"
     ]
    }
   ],
   "source": [
    "# to sort by value\n",
    "import operator\n",
    "word_count_items = sorted(zen_items, key = operator.itemgetter(1), reverse = True)\n",
    "print(word_count_items[:7])\n"
   ]
  },
  {
   "cell_type": "code",
   "execution_count": 116,
   "metadata": {},
   "outputs": [
    {
     "name": "stdout",
     "output_type": "stream",
     "text": [
      "[('is', 10), ('better', 8), ('than', 8), ('the', 6), ('to', 5), ('of', 3), ('although', 3)]\n"
     ]
    }
   ],
   "source": [
    "# to do the same with embedded module\n",
    "from collections import Counter\n",
    "cleaned_list = []\n",
    "for word in zen.split():\n",
    "    cleaned_list.append(word.strip('.,!-*').lower())\n",
    "print(Counter(cleaned_list).most_common(7))"
   ]
  },
  {
   "cell_type": "markdown",
   "metadata": {},
   "source": [
    "# Sets или Множества"
   ]
  },
  {
   "cell_type": "markdown",
   "metadata": {},
   "source": [
    "Mutable nonodered collection of unique objects."
   ]
  },
  {
   "cell_type": "code",
   "execution_count": 120,
   "metadata": {},
   "outputs": [
    {
     "name": "stdout",
     "output_type": "stream",
     "text": [
      "{1, 2, 3, 4, 5}\n",
      "<class 'set'>\n"
     ]
    }
   ],
   "source": [
    "empty_set = set()\n",
    "number_set = {1,2,3,3,4,5}\n",
    "print(number_set)\n",
    "print(type(number_set))"
   ]
  },
  {
   "cell_type": "code",
   "execution_count": 118,
   "metadata": {},
   "outputs": [
    {
     "name": "stdout",
     "output_type": "stream",
     "text": [
      "True\n"
     ]
    }
   ],
   "source": [
    "print(2 in number_set)"
   ]
  },
  {
   "cell_type": "code",
   "execution_count": 121,
   "metadata": {},
   "outputs": [
    {
     "name": "stdout",
     "output_type": "stream",
     "text": [
      "{1, 3, 5, 7, 9}\n",
      "{0, 2, 4, 6, 8}\n"
     ]
    }
   ],
   "source": [
    "odd_set = set()\n",
    "even_set = set()\n",
    "\n",
    "for number in range(10):\n",
    "    if number % 2:\n",
    "        odd_set.add(number)\n",
    "    else:\n",
    "        even_set.add(number)\n",
    "\n",
    "print(odd_set)\n",
    "print(even_set)"
   ]
  },
  {
   "cell_type": "code",
   "execution_count": 123,
   "metadata": {},
   "outputs": [
    {
     "name": "stdout",
     "output_type": "stream",
     "text": [
      "{0, 1, 2, 3, 4, 5, 6, 7, 8, 9}\n"
     ]
    }
   ],
   "source": [
    "# union\n",
    "union_set = odd_set | even_set\n",
    "union_set = odd_set.union(even_set)\n",
    "print(union_set)"
   ]
  },
  {
   "cell_type": "code",
   "execution_count": 125,
   "metadata": {},
   "outputs": [
    {
     "name": "stdout",
     "output_type": "stream",
     "text": [
      "set()\n"
     ]
    }
   ],
   "source": [
    "# intersection\n",
    "intersection_set = odd_set & even_set\n",
    "intersection_set = odd_set.intersection(even_set)\n",
    "print(intersection_set)"
   ]
  },
  {
   "cell_type": "code",
   "execution_count": 127,
   "metadata": {},
   "outputs": [
    {
     "name": "stdout",
     "output_type": "stream",
     "text": [
      "{1, 3, 5, 7, 9}\n"
     ]
    }
   ],
   "source": [
    "# difference\n",
    "difference_set = odd_set - even_set\n",
    "difference_set = odd_set.difference(even_set)\n",
    "print(difference_set)"
   ]
  },
  {
   "cell_type": "code",
   "execution_count": 129,
   "metadata": {},
   "outputs": [
    {
     "name": "stdout",
     "output_type": "stream",
     "text": [
      "{0, 1, 2, 3, 4, 5, 6, 7, 8, 9}\n"
     ]
    }
   ],
   "source": [
    "# symmetric difference\n",
    "symmetric_difference_set = odd_set ^ even_set\n",
    "symmetric_difference_set = odd_set.symmetric_difference(even_set)\n",
    "print(symmetric_difference_set)"
   ]
  },
  {
   "cell_type": "code",
   "execution_count": 130,
   "metadata": {},
   "outputs": [
    {
     "name": "stdout",
     "output_type": "stream",
     "text": [
      "{0, 4, 6, 8}\n"
     ]
    }
   ],
   "source": [
    "# remove element\n",
    "even_set.remove(2)\n",
    "print(even_set)"
   ]
  },
  {
   "cell_type": "code",
   "execution_count": 134,
   "metadata": {},
   "outputs": [
    {
     "name": "stdout",
     "output_type": "stream",
     "text": [
      "8\n",
      "set()\n"
     ]
    }
   ],
   "source": [
    "# remove random element\n",
    "print(even_set.pop())\n",
    "print(even_set)"
   ]
  },
  {
   "cell_type": "markdown",
   "metadata": {},
   "source": [
    "### frozenset - immutable set"
   ]
  },
  {
   "cell_type": "code",
   "execution_count": 135,
   "metadata": {},
   "outputs": [
    {
     "ename": "AttributeError",
     "evalue": "'frozenset' object has no attribute 'add'",
     "output_type": "error",
     "traceback": [
      "\u001b[0;31m---------------------------------------------------------------------------\u001b[0m",
      "\u001b[0;31mAttributeError\u001b[0m                            Traceback (most recent call last)",
      "\u001b[0;32m<ipython-input-135-d627d7afc94b>\u001b[0m in \u001b[0;36m<module>\u001b[0;34m\u001b[0m\n\u001b[1;32m      1\u001b[0m \u001b[0mfrozen\u001b[0m \u001b[0;34m=\u001b[0m \u001b[0mfrozenset\u001b[0m\u001b[0;34m(\u001b[0m\u001b[0;34m[\u001b[0m\u001b[0;34m'Anna'\u001b[0m\u001b[0;34m,\u001b[0m \u001b[0;34m'Elsa'\u001b[0m\u001b[0;34m,\u001b[0m \u001b[0;34m'Kristoff'\u001b[0m\u001b[0;34m]\u001b[0m\u001b[0;34m)\u001b[0m\u001b[0;34m\u001b[0m\u001b[0;34m\u001b[0m\u001b[0m\n\u001b[0;32m----> 2\u001b[0;31m \u001b[0mfrozen\u001b[0m\u001b[0;34m.\u001b[0m\u001b[0madd\u001b[0m\u001b[0;34m(\u001b[0m\u001b[0;34m'Olaf'\u001b[0m\u001b[0;34m)\u001b[0m\u001b[0;34m\u001b[0m\u001b[0;34m\u001b[0m\u001b[0m\n\u001b[0m",
      "\u001b[0;31mAttributeError\u001b[0m: 'frozenset' object has no attribute 'add'"
     ]
    }
   ],
   "source": [
    "frozen = frozenset(['Anna', 'Elsa', 'Kristoff'])\n",
    "frozen.add('Olaf')"
   ]
  },
  {
   "cell_type": "markdown",
   "metadata": {},
   "source": [
    "### Task: in how many iterations function random will produce repetitive number?"
   ]
  },
  {
   "cell_type": "code",
   "execution_count": 1,
   "metadata": {},
   "outputs": [
    {
     "name": "stdout",
     "output_type": "stream",
     "text": [
      "random_set: {33, 66, 40, 44, 76, 80, 18, 51, 20, 52, 23, 29, 31}\n",
      "Number of iterations: 14\n"
     ]
    }
   ],
   "source": [
    "import random\n",
    "\n",
    "random_set = set()\n",
    "\n",
    "while True:\n",
    "    new_number = random.randint(0,100)\n",
    "    if new_number in random_set:\n",
    "        break\n",
    "    random_set.add(new_number)\n",
    "print('random_set: ' + str(random_set))\n",
    "print('Number of iterations: {}'.format(len(random_set) + 1))"
   ]
  },
  {
   "cell_type": "code",
   "execution_count": 2,
   "metadata": {},
   "outputs": [
    {
     "data": {
      "text/plain": [
       "'/Users/Andrew/python/playground'"
      ]
     },
     "execution_count": 2,
     "metadata": {},
     "output_type": "execute_result"
    }
   ],
   "source": [
    "pwd"
   ]
  },
  {
   "cell_type": "code",
   "execution_count": 25,
   "metadata": {},
   "outputs": [
    {
     "data": {
      "image/png": "[encoded data removed]",
      "text/plain": [
       "<Figure size 432x288 with 1 Axes>"
      ]
     },
     "metadata": {
      "needs_background": "light"
     },
     "output_type": "display_data"
    }
   ],
   "source": [
    "# let's estimate means distribution\n",
    "import random\n",
    "import matplotlib\n",
    "import matplotlib.pyplot as plt\n",
    "\n",
    "\n",
    "N = 10000 # number of experiments\n",
    "\n",
    "means = []\n",
    "for n in range(N):\n",
    "    random_set = set()\n",
    "    while True:\n",
    "        new_number = random.randint(0, 100)\n",
    "        if new_number in random_set:\n",
    "            break\n",
    "        random_set.add(new_number)\n",
    "    means.append(len(random_set) + 1)\n",
    "#print(means)\n",
    "\n",
    "plt.hist(means, bins = 50, density = True) \n",
    "plt.show()\n",
    "#print(sorted(means))"
   ]
  },
  {
   "cell_type": "code",
   "execution_count": 6,
   "metadata": {},
   "outputs": [
    {
     "name": "stdout",
     "output_type": "stream",
     "text": [
      "/Users/Andrew/python/playground/env/lib/python3.7/site-packages/matplotlib/__init__.py\n"
     ]
    }
   ],
   "source": [
    "import inspect\n",
    "print(inspect.getfile(matplotlib))"
   ]
  },
  {
   "cell_type": "markdown",
   "metadata": {},
   "source": [
    "# Функции"
   ]
  },
  {
   "cell_type": "code",
   "execution_count": 15,
   "metadata": {},
   "outputs": [
    {
     "name": "stdout",
     "output_type": "stream",
     "text": [
      "58\n",
      "Return current seconds\n",
      "get_seconds\n"
     ]
    }
   ],
   "source": [
    "from datetime import datetime\n",
    "\n",
    "def get_seconds():\n",
    "    \"\"\"Return current seconds\"\"\"\n",
    "    return datetime.now().second\n",
    "\n",
    "print(get_seconds())\n",
    "\n",
    "print(get_seconds.__doc__)\n",
    "print(get_seconds.__name__)"
   ]
  },
  {
   "cell_type": "code",
   "execution_count": 20,
   "metadata": {},
   "outputs": [
    {
     "data": {
      "text/plain": [
       "['Python!', ' Coursera', ' mooc']"
      ]
     },
     "execution_count": 20,
     "metadata": {},
     "output_type": "execute_result"
    }
   ],
   "source": [
    "# parameters\n",
    "def split_tags(tag_string):\n",
    "    tag_list = []\n",
    "    for tag in tag_string.split(','):\n",
    "        tag_list.append(tag.strip('!'))\n",
    "    return tag_list\n",
    "\n",
    "split_tags('Python!, Coursera, mooc')"
   ]
  },
  {
   "cell_type": "markdown",
   "metadata": {},
   "source": [
    "### Аннотация типов"
   ]
  },
  {
   "cell_type": "markdown",
   "metadata": {},
   "source": [
    "В Python последних версий есть поддрежка аннотации типов как в С"
   ]
  },
  {
   "cell_type": "code",
   "execution_count": 23,
   "metadata": {},
   "outputs": [
    {
     "name": "stdout",
     "output_type": "stream",
     "text": [
      "21\n",
      "still works\n"
     ]
    }
   ],
   "source": [
    "def add(x: int, y: int) -> int:\n",
    "    return x + y\n",
    "print(add(10,11))\n",
    "print(add('still ', 'works')) # it works ???"
   ]
  },
  {
   "cell_type": "markdown",
   "metadata": {},
   "source": [
    "### Параметры передаются по ссылке или по значению?"
   ]
  },
  {
   "cell_type": "markdown",
   "metadata": {},
   "source": [
    "В питоне все переменные передаются по ссылке"
   ]
  },
  {
   "cell_type": "code",
   "execution_count": 24,
   "metadata": {},
   "outputs": [
    {
     "name": "stdout",
     "output_type": "stream",
     "text": [
      "[1, 2, 3, 4, 5, 6]\n"
     ]
    }
   ],
   "source": [
    "def extender(source_list, extend_list):\n",
    "    source_list.extend(extend_list)\n",
    "\n",
    "values = [1,2,3]\n",
    "extender(values, [4,5,6])\n",
    "\n",
    "print(values)"
   ]
  },
  {
   "cell_type": "code",
   "execution_count": 25,
   "metadata": {},
   "outputs": [
    {
     "name": "stdout",
     "output_type": "stream",
     "text": [
      "('Guide', '31/10')\n"
     ]
    }
   ],
   "source": [
    "# если мы попытаемся передать в функцию и изменить неизменяемый объект например tuple, то он не изменится\n",
    "def replacer(source_tuple, replace_tuple):\n",
    "    source_tuple = replace_tuple\n",
    "    \n",
    "user_info = ('Guide', '31/10')\n",
    "replacer(user_info, ('Larry', '27/10'))\n",
    "\n",
    "print(user_info)"
   ]
  },
  {
   "cell_type": "markdown",
   "metadata": {},
   "source": [
    " Это плохой тон - изменять глобальные переменные внутри функций: неочевидно что происходит. Правльно возвращать значения и присваивать глобальной переменной"
   ]
  },
  {
   "cell_type": "markdown",
   "metadata": {},
   "source": [
    "### Область видимости"
   ]
  },
  {
   "cell_type": "code",
   "execution_count": 26,
   "metadata": {},
   "outputs": [
    {
     "ename": "UnboundLocalError",
     "evalue": "local variable 'result' referenced before assignment",
     "output_type": "error",
     "traceback": [
      "\u001b[0;31m---------------------------------------------------------------------------\u001b[0m",
      "\u001b[0;31mUnboundLocalError\u001b[0m                         Traceback (most recent call last)",
      "\u001b[0;32m<ipython-input-26-b35f2869d543>\u001b[0m in \u001b[0;36m<module>\u001b[0;34m\u001b[0m\n\u001b[1;32m      5\u001b[0m     \u001b[0;32mreturn\u001b[0m \u001b[0mresult\u001b[0m\u001b[0;34m\u001b[0m\u001b[0;34m\u001b[0m\u001b[0m\n\u001b[1;32m      6\u001b[0m \u001b[0;34m\u001b[0m\u001b[0m\n\u001b[0;32m----> 7\u001b[0;31m \u001b[0mprint\u001b[0m\u001b[0;34m(\u001b[0m\u001b[0mincrement\u001b[0m\u001b[0;34m(\u001b[0m\u001b[0;34m)\u001b[0m\u001b[0;34m)\u001b[0m\u001b[0;34m\u001b[0m\u001b[0;34m\u001b[0m\u001b[0m\n\u001b[0m",
      "\u001b[0;32m<ipython-input-26-b35f2869d543>\u001b[0m in \u001b[0;36mincrement\u001b[0;34m()\u001b[0m\n\u001b[1;32m      2\u001b[0m \u001b[0;34m\u001b[0m\u001b[0m\n\u001b[1;32m      3\u001b[0m \u001b[0;32mdef\u001b[0m \u001b[0mincrement\u001b[0m\u001b[0;34m(\u001b[0m\u001b[0;34m)\u001b[0m\u001b[0;34m:\u001b[0m\u001b[0;34m\u001b[0m\u001b[0;34m\u001b[0m\u001b[0m\n\u001b[0;32m----> 4\u001b[0;31m     \u001b[0mresult\u001b[0m \u001b[0;34m+=\u001b[0m \u001b[0;36m1\u001b[0m\u001b[0;34m\u001b[0m\u001b[0;34m\u001b[0m\u001b[0m\n\u001b[0m\u001b[1;32m      5\u001b[0m     \u001b[0;32mreturn\u001b[0m \u001b[0mresult\u001b[0m\u001b[0;34m\u001b[0m\u001b[0;34m\u001b[0m\u001b[0m\n\u001b[1;32m      6\u001b[0m \u001b[0;34m\u001b[0m\u001b[0m\n",
      "\u001b[0;31mUnboundLocalError\u001b[0m: local variable 'result' referenced before assignment"
     ]
    }
   ],
   "source": [
    "result = 0\n",
    "\n",
    "def increment():\n",
    "    result += 1\n",
    "    return result\n",
    "\n",
    "print(increment()) # error because we're trying to change global variable"
   ]
  },
  {
   "cell_type": "markdown",
   "metadata": {},
   "source": [
    "### Аргументы по умолчанию"
   ]
  },
  {
   "cell_type": "code",
   "execution_count": 28,
   "metadata": {},
   "outputs": [
    {
     "name": "stdout",
     "output_type": "stream",
     "text": [
      "Hello, it's me...\n",
      "Hello, Andrew\n"
     ]
    }
   ],
   "source": [
    "def greeting(name = 'it\\'s me...'):\n",
    "    print('Hello, {}'.format(name))\n",
    "\n",
    "greeting()\n",
    "greeting('Andrew')"
   ]
  },
  {
   "cell_type": "code",
   "execution_count": 33,
   "metadata": {},
   "outputs": [
    {
     "name": "stdout",
     "output_type": "stream",
     "text": [
      "[1, 1]\n"
     ]
    }
   ],
   "source": [
    "# Но нужно быть внимательным если передается изменяемый объект\n",
    "def append_one(iterable = []):\n",
    "    iterable.append(1)\n",
    "    return iterable\n",
    "\n",
    "print(append_one([1]))"
   ]
  },
  {
   "cell_type": "code",
   "execution_count": 34,
   "metadata": {},
   "outputs": [
    {
     "name": "stdout",
     "output_type": "stream",
     "text": [
      "[1]\n",
      "[1, 1]\n"
     ]
    }
   ],
   "source": [
    "print(append_one())\n",
    "print(append_one()) # why two 1?? on stage of interpretaion a dictionary is created with default values; if values are mutable their values change every time\n"
   ]
  },
  {
   "cell_type": "code",
   "execution_count": 31,
   "metadata": {},
   "outputs": [
    {
     "name": "stdout",
     "output_type": "stream",
     "text": [
      "[1, 1]\n"
     ]
    }
   ],
   "source": [
    "# to protect from this behaviour we nedd to define mutable vars as None\n",
    "def append_one(iterable = None):\n",
    "    if iterable is None:\n",
    "        iterable = []\n",
    "        \n",
    "\n"
   ]
  },
  {
   "cell_type": "markdown",
   "metadata": {},
   "source": [
    "### Звездочки function(*args)"
   ]
  },
  {
   "cell_type": "code",
   "execution_count": 68,
   "metadata": {
    "scrolled": true
   },
   "outputs": [
    {
     "name": "stdout",
     "output_type": "stream",
     "text": [
      "<class 'tuple'>\n",
      "args(1, 2, 3, 4, 5)\n",
      "1\n",
      "2\n",
      "3\n",
      "4\n",
      "5\n"
     ]
    }
   ],
   "source": [
    "# Красива особенность Питона - возможность определять неопределенное количество аргументов функции\n",
    "def printer(*args):\n",
    "    print(type(args))\n",
    "    print('args' + str(args))\n",
    "    for argument in args:\n",
    "        print(argument)\n",
    "\n",
    "printer(1,2,3,4,5)"
   ]
  },
  {
   "cell_type": "code",
   "execution_count": 64,
   "metadata": {},
   "outputs": [
    {
     "name": "stdout",
     "output_type": "stream",
     "text": [
      "<class 'tuple'>\n",
      "['John', 'Bill', 'Amy']\n",
      "<class 'tuple'>\n",
      "John\n",
      "Bill\n",
      "Amy\n",
      "<class 'tuple'>\n",
      "Andrew\n",
      "Serge\n",
      "Fedor\n",
      "Max\n"
     ]
    }
   ],
   "source": [
    "name_list = ['John', 'Bill', 'Amy']\n",
    "printer(name_list)\n",
    "printer(*name_list)\n",
    "printer('Andrew', 'Serge', 'Fedor', 'Max')"
   ]
  },
  {
   "cell_type": "code",
   "execution_count": 67,
   "metadata": {},
   "outputs": [
    {
     "name": "stdout",
     "output_type": "stream",
     "text": [
      "<class 'dict'>\n",
      "kwarg{'a': 10, 'b': 11, 'c': 30}\n",
      "a: 10\n",
      "b: 11\n",
      "c: 30\n"
     ]
    }
   ],
   "source": [
    "# то же самое мы можем делать со словарями, передавая два именнованных аргумента\n",
    "def printer(**kwargs):\n",
    "    print(type(kwargs))\n",
    "    print('kwarg' + str(kwargs))\n",
    "    for key, value in kwargs.items():\n",
    "        print('{}: {}'.format(key, value))\n",
    "        \n",
    "printer(a = 10, b = 11, c = 30)"
   ]
  },
  {
   "cell_type": "code",
   "execution_count": 61,
   "metadata": {},
   "outputs": [
    {
     "name": "stdout",
     "output_type": "stream",
     "text": [
      "<class 'dict'>\n",
      "user_id: 117\n",
      "feedback: {'subject': 'Registration fields', 'message': 'There us no country for old men'}\n",
      "payload{'user_id': 117, 'feedback': {'subject': 'Registration fields', 'message': 'There us no country for old men'}}\n"
     ]
    },
    {
     "ename": "TypeError",
     "evalue": "'user_id' is an invalid keyword argument for print()",
     "output_type": "error",
     "traceback": [
      "\u001b[0;31m---------------------------------------------------------------------------\u001b[0m",
      "\u001b[0;31mTypeError\u001b[0m                                 Traceback (most recent call last)",
      "\u001b[0;32m<ipython-input-61-e3d399d3606e>\u001b[0m in \u001b[0;36m<module>\u001b[0;34m\u001b[0m\n\u001b[1;32m      9\u001b[0m \u001b[0mprinter\u001b[0m\u001b[0;34m(\u001b[0m\u001b[0;34m**\u001b[0m\u001b[0mpayload\u001b[0m\u001b[0;34m)\u001b[0m\u001b[0;34m\u001b[0m\u001b[0;34m\u001b[0m\u001b[0m\n\u001b[1;32m     10\u001b[0m \u001b[0mprint\u001b[0m\u001b[0;34m(\u001b[0m\u001b[0;34m'payload'\u001b[0m \u001b[0;34m+\u001b[0m \u001b[0mstr\u001b[0m\u001b[0;34m(\u001b[0m\u001b[0mpayload\u001b[0m\u001b[0;34m)\u001b[0m\u001b[0;34m)\u001b[0m\u001b[0;34m\u001b[0m\u001b[0;34m\u001b[0m\u001b[0m\n\u001b[0;32m---> 11\u001b[0;31m \u001b[0mprint\u001b[0m\u001b[0;34m(\u001b[0m\u001b[0;34m'**payload'\u001b[0m\u001b[0;34m,\u001b[0m \u001b[0;34m**\u001b[0m\u001b[0mpayload\u001b[0m\u001b[0;34m)\u001b[0m\u001b[0;34m\u001b[0m\u001b[0;34m\u001b[0m\u001b[0m\n\u001b[0m",
      "\u001b[0;31mTypeError\u001b[0m: 'user_id' is an invalid keyword argument for print()"
     ]
    }
   ],
   "source": [
    "payload = {\n",
    "    'user_id': 117,\n",
    "    'feedback': {\n",
    "        'subject': 'Registration fields',\n",
    "        'message': 'There us no country for old men'\n",
    "    }\n",
    "}\n",
    "\n",
    "printer(**payload)\n",
    "print('payload' + str(payload))\n",
    "print('**payload', **payload)"
   ]
  },
  {
   "cell_type": "code",
   "execution_count": 54,
   "metadata": {},
   "outputs": [
    {
     "name": "stdout",
     "output_type": "stream",
     "text": [
      "*args: ('a', 'b', 'c', 'd', 'e', 'f')\n",
      "**kwargs{}\n",
      "*args: ()\n",
      "**kwargs{'args': ['John', 'Bill', 'Amy'], 'kwargs': {'user_id': 117, 'feedback': {'subject': 'Registration fields', 'message': 'There us no country for old men'}}}\n"
     ]
    }
   ],
   "source": [
    "def foo(*args, **kwargs): \n",
    "    print('*args: ' + str(args))\n",
    "    print('**kwargs' + str(kwargs))\n",
    "\n",
    "foo(*['a', 'b', 'c'], *['d', 'e', 'f'])\n",
    "foo(args = name_list, kwargs = payload)"
   ]
  },
  {
   "cell_type": "markdown",
   "metadata": {},
   "source": [
    "# Файлы"
   ]
  },
  {
   "cell_type": "code",
   "execution_count": 77,
   "metadata": {},
   "outputs": [],
   "source": [
    "text_modes = ['r', 'w', 'a', 'r+'] # r+ read and write\n",
    "binary_modes = ['br', 'bw', 'ba', 'br+']"
   ]
  },
  {
   "cell_type": "code",
   "execution_count": 99,
   "metadata": {},
   "outputs": [
    {
     "name": "stdout",
     "output_type": "stream",
     "text": [
      "<_io.TextIOWrapper name='/Users/Andrew/Desktop/test.txt' mode='w' encoding='UTF-8'>\n"
     ]
    }
   ],
   "source": [
    "f = open('/Users/Andrew/Desktop/test.txt', 'w')\n",
    "print(f)\n",
    "f.write('1 Hi, Andrew!\\n')\n",
    "f.close()"
   ]
  },
  {
   "cell_type": "code",
   "execution_count": 100,
   "metadata": {},
   "outputs": [],
   "source": [
    "f = open('/Users/Andrew/Desktop/test.txt', 'a') # if here would be r+ then fist line will be erased\n",
    "#f.read()\n",
    "f.write('2 How are you doing?\\n')\n",
    "f.write('3 Today is nice day!\\n')\n",
    "f.close()"
   ]
  },
  {
   "cell_type": "code",
   "execution_count": 101,
   "metadata": {},
   "outputs": [
    {
     "data": {
      "text/plain": [
       "'Hi, Andrew!\\nHow are you doing?\\nToday is nice day!'"
      ]
     },
     "execution_count": 101,
     "metadata": {},
     "output_type": "execute_result"
    }
   ],
   "source": [
    "f = open('/Users/Andrew/Desktop/test.txt', 'r')\n",
    "f.read()"
   ]
  },
  {
   "cell_type": "markdown",
   "metadata": {},
   "source": [
    "### Указатель файла"
   ]
  },
  {
   "cell_type": "code",
   "execution_count": 91,
   "metadata": {},
   "outputs": [
    {
     "name": "stdout",
     "output_type": "stream",
     "text": [
      "\n",
      "38\n"
     ]
    }
   ],
   "source": [
    "# if we try to read again will not succeed because pointer points to the end\n",
    "print(f.read())\n",
    "print(f.tell()) # pointer position\n",
    "# to read again we need to move pointer to the beginning\n",
    "f.seek(0) # move pointer to the beginning"
   ]
  },
  {
   "cell_type": "code",
   "execution_count": 102,
   "metadata": {},
   "outputs": [
    {
     "name": "stdout",
     "output_type": "stream",
     "text": [
      "0\n",
      "Hi, Andrew!\n",
      "How are you doing?\n",
      "Today is nice day!\n"
     ]
    }
   ],
   "source": [
    "f.seek(0)\n",
    "print(f.tell())\n",
    "# now we can read again\n",
    "print(f.read())\n",
    "f.close()"
   ]
  },
  {
   "cell_type": "markdown",
   "metadata": {},
   "source": [
    "### readline()"
   ]
  },
  {
   "cell_type": "code",
   "execution_count": 106,
   "metadata": {},
   "outputs": [
    {
     "name": "stdout",
     "output_type": "stream",
     "text": [
      "Hi, Andrew!\n",
      "\n",
      "How are you doing?\n",
      "\n"
     ]
    }
   ],
   "source": [
    "f = open('/Users/Andrew/Desktop/test.txt', 'r')\n",
    "print(f.readline())\n",
    "print(f.readline())\n",
    "f.close()"
   ]
  },
  {
   "cell_type": "markdown",
   "metadata": {},
   "source": [
    "### readlines()"
   ]
  },
  {
   "cell_type": "code",
   "execution_count": 114,
   "metadata": {},
   "outputs": [
    {
     "name": "stdout",
     "output_type": "stream",
     "text": [
      "['Hi, Andrew!\\n', 'How are you doing?\\n', 'Today is nice day!']\n",
      "How are you doing?\n",
      "\n"
     ]
    }
   ],
   "source": [
    "# if we need to read all lines into list\n",
    "f = open('/Users/Andrew/Desktop/test.txt', 'r')\n",
    "\n",
    "print(f.readlines())\n",
    "f.seek(0)\n",
    "strings = f.readlines()\n",
    "print(strings[1])\n",
    "f.close()"
   ]
  },
  {
   "cell_type": "markdown",
   "metadata": {},
   "source": [
    "### with open(..) as f:"
   ]
  },
  {
   "cell_type": "code",
   "execution_count": 116,
   "metadata": {},
   "outputs": [
    {
     "name": "stdout",
     "output_type": "stream",
     "text": [
      "Hi, Andrew!\n",
      "How are you doing?\n",
      "Today is nice day!\n"
     ]
    }
   ],
   "source": [
    "# recommended way of working with files; with takes care about closing file\n",
    "with open('/Users/Andrew/Desktop/test.txt', 'r') as f:\n",
    "    print(f.read())\n",
    "    \n"
   ]
  },
  {
   "cell_type": "markdown",
   "metadata": {},
   "source": [
    "# Функциональное программирование"
   ]
  },
  {
   "cell_type": "code",
   "execution_count": 118,
   "metadata": {},
   "outputs": [
    {
     "name": "stdout",
     "output_type": "stream",
     "text": [
      "I'm Andrew and i'm from Soligorsk\n",
      "I'm Marina and i'm from Minsk\n"
     ]
    }
   ],
   "source": [
    "# Функции в питоне можно передавать в качестве параметров других фнукций\n",
    "def caller(func, params):\n",
    "    return func(*params)\n",
    "def printer(name, origin):\n",
    "    print('I\\'m {} and i\\'m from {}'.format(name, origin))\n",
    "    \n",
    "printer('Andrew', 'Soligorsk')\n",
    "caller(printer, ['Marina', 'Minsk'])"
   ]
  },
  {
   "cell_type": "code",
   "execution_count": 122,
   "metadata": {},
   "outputs": [
    {
     "name": "stdout",
     "output_type": "stream",
     "text": [
      "110\n",
      "6\n"
     ]
    }
   ],
   "source": [
    "# Внутри функций можно определять другие функции\n",
    "def get_multiplier():\n",
    "    def inner(a,b):\n",
    "        return a * b\n",
    "    return inner\n",
    "multiplier = get_multiplier()\n",
    "print(multiplier(10,11))\n",
    "print(get_multiplier(2,3)) # error!\n",
    "print(get_multiplier()(2,3))"
   ]
  },
  {
   "cell_type": "code",
   "execution_count": 123,
   "metadata": {},
   "outputs": [
    {
     "name": "stdout",
     "output_type": "stream",
     "text": [
      "inner\n"
     ]
    }
   ],
   "source": [
    "print(multiplier.__name__) # because it returns inner"
   ]
  },
  {
   "cell_type": "code",
   "execution_count": 124,
   "metadata": {},
   "outputs": [
    {
     "name": "stdout",
     "output_type": "stream",
     "text": [
      "get_multiplier\n"
     ]
    }
   ],
   "source": [
    "print(get_multiplier.__name__)"
   ]
  },
  {
   "cell_type": "markdown",
   "metadata": {},
   "source": [
    "### Замыкание"
   ]
  },
  {
   "cell_type": "code",
   "execution_count": 127,
   "metadata": {},
   "outputs": [
    {
     "name": "stdout",
     "output_type": "stream",
     "text": [
      "20\n",
      "20\n"
     ]
    }
   ],
   "source": [
    "def get_multiplier(number):\n",
    "    def inner(a):\n",
    "        return a * number\n",
    "    return inner\n",
    "multiplier_by_2 = get_multiplier(2)\n",
    "print(multiplier_by_2(10))\n",
    "print(get_multiplier(2)(10)) # the same"
   ]
  },
  {
   "cell_type": "markdown",
   "metadata": {},
   "source": [
    "###  map, filter, lambda"
   ]
  },
  {
   "cell_type": "markdown",
   "metadata": {},
   "source": [
    "### map"
   ]
  },
  {
   "cell_type": "code",
   "execution_count": 133,
   "metadata": {},
   "outputs": [
    {
     "name": "stdout",
     "output_type": "stream",
     "text": [
      "[0, 1, 4, 9, 16]\n",
      "[1, 4, 9]\n"
     ]
    }
   ],
   "source": [
    "def squarify(a):\n",
    "    return a**2\n",
    "\n",
    "print(list(map(squarify, range(5))))\n",
    "print(list(map(squarify, [1,2,3])))"
   ]
  },
  {
   "cell_type": "code",
   "execution_count": 134,
   "metadata": {},
   "outputs": [
    {
     "name": "stdout",
     "output_type": "stream",
     "text": [
      "[0, 1, 4, 9, 16]\n"
     ]
    }
   ],
   "source": [
    "# analogue on clean Python\n",
    "squared_list = []\n",
    "for number in range(5):\n",
    "    squared_list.append(squarify(number))\n",
    "print(squared_list)"
   ]
  },
  {
   "cell_type": "markdown",
   "metadata": {},
   "source": [
    "### filter"
   ]
  },
  {
   "cell_type": "code",
   "execution_count": 135,
   "metadata": {},
   "outputs": [
    {
     "data": {
      "text/plain": [
       "[1, 2]"
      ]
     },
     "execution_count": 135,
     "metadata": {},
     "output_type": "execute_result"
    }
   ],
   "source": [
    "def is_positive(a):\n",
    "    return a > 0\n",
    "list(filter(is_positive, range(-2, 3)))"
   ]
  },
  {
   "cell_type": "code",
   "execution_count": 138,
   "metadata": {},
   "outputs": [
    {
     "name": "stdout",
     "output_type": "stream",
     "text": [
      "[1, 2]\n"
     ]
    }
   ],
   "source": [
    "# analogue on clean Python\n",
    "positive_list = []\n",
    "for number in range(-2,3):\n",
    "    if number > 0:\n",
    "        positive_list.append(number)\n",
    "print(positive_list)"
   ]
  },
  {
   "cell_type": "code",
   "execution_count": 137,
   "metadata": {},
   "outputs": [
    {
     "data": {
      "text/plain": [
       "['4', '1298']"
      ]
     },
     "execution_count": 137,
     "metadata": {},
     "output_type": "execute_result"
    }
   ],
   "source": [
    "def is_digit(a):\n",
    "    return a.isdigit()\n",
    "list(filter(is_digit, ['a', '4', 'sldfk', '1298']))"
   ]
  },
  {
   "cell_type": "markdown",
   "metadata": {},
   "source": [
    "### lambda"
   ]
  },
  {
   "cell_type": "code",
   "execution_count": 139,
   "metadata": {},
   "outputs": [
    {
     "data": {
      "text/plain": [
       "[0, 1, 4, 9, 16]"
      ]
     },
     "execution_count": 139,
     "metadata": {},
     "output_type": "execute_result"
    }
   ],
   "source": [
    "# Полезна когда функция нужно в каком-то контексте, но не нужна в дальнейшем\n",
    "# lambda - анонимная функция (нет имени)\n",
    "list(map(lambda x: x ** 2, range(5)))"
   ]
  },
  {
   "cell_type": "code",
   "execution_count": 140,
   "metadata": {},
   "outputs": [
    {
     "data": {
      "text/plain": [
       "function"
      ]
     },
     "execution_count": 140,
     "metadata": {},
     "output_type": "execute_result"
    }
   ],
   "source": [
    "type(lambda x: x**2)"
   ]
  },
  {
   "cell_type": "code",
   "execution_count": 141,
   "metadata": {},
   "outputs": [
    {
     "data": {
      "text/plain": [
       "[1, 2]"
      ]
     },
     "execution_count": 141,
     "metadata": {},
     "output_type": "execute_result"
    }
   ],
   "source": [
    "list(filter( lambda x: x > 0, range(-2,3)))"
   ]
  },
  {
   "cell_type": "markdown",
   "metadata": {},
   "source": [
    "### Задача: написать функцию, котороя превращает список чисел в список строк\n"
   ]
  },
  {
   "cell_type": "code",
   "execution_count": 143,
   "metadata": {},
   "outputs": [
    {
     "data": {
      "text/plain": [
       "['1', '43', '90', '12', '-5']"
      ]
     },
     "execution_count": 143,
     "metadata": {},
     "output_type": "execute_result"
    }
   ],
   "source": [
    "# 1\n",
    "n_list = [1, 43, 90, 12, -5]\n",
    "def n_to_s(number):\n",
    "    return str(number)\n",
    "list(map(n_to_s, number_list))"
   ]
  },
  {
   "cell_type": "code",
   "execution_count": 145,
   "metadata": {},
   "outputs": [
    {
     "data": {
      "text/plain": [
       "['1', '43', '90', '12', '-5']"
      ]
     },
     "execution_count": 145,
     "metadata": {},
     "output_type": "execute_result"
    }
   ],
   "source": [
    "# 1\n",
    "def strignify_list(numbers_list):\n",
    "    return list(map(str, numbers_list))\n",
    "strignify_list(n_list)"
   ]
  },
  {
   "cell_type": "markdown",
   "metadata": {},
   "source": [
    "### Модуль functools"
   ]
  },
  {
   "cell_type": "code",
   "execution_count": 146,
   "metadata": {},
   "outputs": [],
   "source": [
    "from functools import reduce"
   ]
  },
  {
   "cell_type": "code",
   "execution_count": 147,
   "metadata": {},
   "outputs": [
    {
     "data": {
      "text/plain": [
       "120"
      ]
     },
     "execution_count": 147,
     "metadata": {},
     "output_type": "execute_result"
    }
   ],
   "source": [
    "def multiply(a,b):\n",
    "    return a * b\n",
    "reduce(multiply, [1,2,3,4,5])"
   ]
  },
  {
   "cell_type": "code",
   "execution_count": 148,
   "metadata": {},
   "outputs": [
    {
     "data": {
      "text/plain": [
       "120"
      ]
     },
     "execution_count": 148,
     "metadata": {},
     "output_type": "execute_result"
    }
   ],
   "source": [
    "# same with lambda\n",
    "reduce(lambda x, y: x * y, [1,2,3,4,5])"
   ]
  },
  {
   "cell_type": "code",
   "execution_count": 154,
   "metadata": {},
   "outputs": [
    {
     "name": "stdout",
     "output_type": "stream",
     "text": [
      "Hi, Andrew!\n",
      "Hi, brother!\n",
      "Hello, sir!\n"
     ]
    }
   ],
   "source": [
    "from functools import partial\n",
    "\n",
    "def greeter(person, greeting):\n",
    "    return('{}, {}!'. format(greeting, person))\n",
    "print(greeter('Andrew', 'Hi'))\n",
    "\n",
    "hier = partial(greeter, greeting = 'Hi')\n",
    "helloer = partial(greeter, greeting = 'Hello')\n",
    "\n",
    "print(hier('brother'))\n",
    "print(helloer('sir'))"
   ]
  },
  {
   "cell_type": "markdown",
   "metadata": {},
   "source": [
    "### Списочные выражения"
   ]
  },
  {
   "cell_type": "code",
   "execution_count": 156,
   "metadata": {},
   "outputs": [
    {
     "name": "stdout",
     "output_type": "stream",
     "text": [
      "[0, 1, 4, 9, 16, 25, 36, 49, 64, 81]\n"
     ]
    }
   ],
   "source": [
    "# earlier we initialazed list like this\n",
    "square_list = []\n",
    "for number in range(10):\n",
    "    square_list.append(number ** 2)\n",
    "print(square_list)"
   ]
  },
  {
   "cell_type": "code",
   "execution_count": 158,
   "metadata": {},
   "outputs": [
    {
     "name": "stdout",
     "output_type": "stream",
     "text": [
      "[0, 1, 4, 9, 16, 25, 36, 49, 64, 81]\n"
     ]
    }
   ],
   "source": [
    "# list comprehension\n",
    "squared_list = [number ** 2 for number in range(10)]\n",
    "print(squared_list)"
   ]
  },
  {
   "cell_type": "code",
   "execution_count": 160,
   "metadata": {},
   "outputs": [
    {
     "name": "stdout",
     "output_type": "stream",
     "text": [
      "[0, 2, 4, 6, 8]\n"
     ]
    }
   ],
   "source": [
    "# to make a list of even numbers\n",
    "even_list = [number for number in range(10) if number % 2 == 0]\n",
    "print(even_list)"
   ]
  },
  {
   "cell_type": "code",
   "execution_count": 165,
   "metadata": {},
   "outputs": [
    {
     "name": "stdout",
     "output_type": "stream",
     "text": [
      "{'0 squared': 0, '1 squared': 1, '2 squared': 4, '3 squared': 9, '4 squared': 16, '5 squared': 25, '6 squared': 36, '7 squared': 49, '8 squared': 64, '9 squared': 81}\n"
     ]
    }
   ],
   "source": [
    "# for dictionaries the same\n",
    "square_map = {str(number) + ' squared': number ** 2 for number in range(10)}\n",
    "print(square_map)"
   ]
  },
  {
   "cell_type": "code",
   "execution_count": 166,
   "metadata": {},
   "outputs": [
    {
     "name": "stdout",
     "output_type": "stream",
     "text": [
      "{0, 1, 2, 3, 4, 5, 6, 7, 8, 9}\n"
     ]
    }
   ],
   "source": [
    "# set comprehension\n",
    "reminders_set = {num % 10 for num in range(100)}\n",
    "print(reminders_set)"
   ]
  },
  {
   "cell_type": "code",
   "execution_count": 170,
   "metadata": {},
   "outputs": [
    {
     "name": "stdout",
     "output_type": "stream",
     "text": [
      "<class 'list'>\n",
      "<class 'generator'>\n"
     ]
    }
   ],
   "source": [
    "print(type([number ** 2 for number in range(10)]))\n",
    "print(type(number ** 2 for number in range(10)))"
   ]
  },
  {
   "cell_type": "markdown",
   "metadata": {},
   "source": [
    "### zip"
   ]
  },
  {
   "cell_type": "code",
   "execution_count": 171,
   "metadata": {},
   "outputs": [
    {
     "data": {
      "text/plain": [
       "[(0, 0), (1, 1), (2, 4), (3, 9), (4, 16), (5, 25), (6, 36)]"
      ]
     },
     "execution_count": 171,
     "metadata": {},
     "output_type": "execute_result"
    }
   ],
   "source": [
    "num_list = range(7)\n",
    "num_list_squared = [x ** 2 for x in num_list]\n",
    "\n",
    "list(zip(num_list, num_list_squared))"
   ]
  },
  {
   "cell_type": "markdown",
   "metadata": {},
   "source": [
    "### Task: что вернется после вызова:"
   ]
  },
  {
   "cell_type": "code",
   "execution_count": 172,
   "metadata": {},
   "outputs": [
    {
     "data": {
      "text/plain": [
       "[(1, 1), (2, 2)]"
      ]
     },
     "execution_count": 172,
     "metadata": {},
     "output_type": "execute_result"
    }
   ],
   "source": [
    "list(zip(\n",
    "    filter(bool, range(3)),\n",
    "    [x for x in range(3) if x]\n",
    "))"
   ]
  },
  {
   "cell_type": "code",
   "execution_count": 177,
   "metadata": {},
   "outputs": [
    {
     "name": "stdout",
     "output_type": "stream",
     "text": [
      "True\n",
      "<filter object at 0x10a7bed10>\n",
      "[1, 2]\n"
     ]
    }
   ],
   "source": [
    "print(bool(range(3)))\n",
    "print(filter(bool, range(3)))\n",
    "print([x for x in range(3) if x])"
   ]
  },
  {
   "cell_type": "markdown",
   "metadata": {},
   "source": [
    "# Декораторы"
   ]
  },
  {
   "cell_type": "code",
   "execution_count": 186,
   "metadata": {},
   "outputs": [
    {
     "name": "stdout",
     "output_type": "stream",
     "text": [
      "decorated\n"
     ]
    }
   ],
   "source": [
    "def decorator(func):\n",
    "    return func\n",
    "\n",
    "@decorator\n",
    "def decorated():\n",
    "    print('Hello')\n",
    "    \n",
    "decorated = decorator(decorated)\n",
    "(print(decorated.__name__))"
   ]
  },
  {
   "cell_type": "code",
   "execution_count": 185,
   "metadata": {},
   "outputs": [
    {
     "name": "stdout",
     "output_type": "stream",
     "text": [
      "new_func\n"
     ]
    }
   ],
   "source": [
    "def decorator(func):\n",
    "    def new_func():\n",
    "        pass\n",
    "    return new_func\n",
    "\n",
    "@decorator\n",
    "def decorated():\n",
    "    print('Hello')\n",
    "    \n",
    "decorated()\n",
    "print(decorated.__name__)"
   ]
  },
  {
   "cell_type": "markdown",
   "metadata": {},
   "source": [
    "### Задача: что вернется при вызове multiply(10,2)?\n"
   ]
  },
  {
   "cell_type": "code",
   "execution_count": 191,
   "metadata": {},
   "outputs": [
    {
     "ename": "TypeError",
     "evalue": "'str' object is not callable",
     "output_type": "error",
     "traceback": [
      "\u001b[0;31m---------------------------------------------------------------------------\u001b[0m",
      "\u001b[0;31mTypeError\u001b[0m                                 Traceback (most recent call last)",
      "\u001b[0;32m<ipython-input-191-447656ce9544>\u001b[0m in \u001b[0;36m<module>\u001b[0;34m\u001b[0m\n\u001b[1;32m      6\u001b[0m     \u001b[0;32mreturn\u001b[0m \u001b[0ma\u001b[0m \u001b[0;34m*\u001b[0m \u001b[0mb\u001b[0m\u001b[0;34m\u001b[0m\u001b[0;34m\u001b[0m\u001b[0m\n\u001b[1;32m      7\u001b[0m \u001b[0;34m\u001b[0m\u001b[0m\n\u001b[0;32m----> 8\u001b[0;31m \u001b[0mmultiply\u001b[0m\u001b[0;34m(\u001b[0m\u001b[0;36m10\u001b[0m\u001b[0;34m,\u001b[0m\u001b[0;36m2\u001b[0m\u001b[0;34m)\u001b[0m\u001b[0;34m\u001b[0m\u001b[0;34m\u001b[0m\u001b[0m\n\u001b[0m",
      "\u001b[0;31mTypeError\u001b[0m: 'str' object is not callable"
     ]
    }
   ],
   "source": [
    "def stringify(func):\n",
    "    return str(func)\n",
    "\n",
    "@stringify\n",
    "def multiply(a, b):\n",
    "    return a * b\n",
    "\n",
    "multiply(10,2)"
   ]
  },
  {
   "cell_type": "code",
   "execution_count": 194,
   "metadata": {},
   "outputs": [
    {
     "data": {
      "text/plain": [
       "'20'"
      ]
     },
     "execution_count": 194,
     "metadata": {},
     "output_type": "execute_result"
    }
   ],
   "source": [
    "def stringify(func):\n",
    "    def wrapped(a,b):\n",
    "        result = func(a,b)\n",
    "        return str(result)\n",
    "    return wrapped\n",
    "\n",
    "@stringify\n",
    "def multiply(a, b):\n",
    "    return a * b\n",
    "\n",
    "multiply(10,2)"
   ]
  },
  {
   "cell_type": "markdown",
   "metadata": {},
   "source": [
    "Декотораторы чаще всего используются для модификации поведения определенных функций."
   ]
  },
  {
   "cell_type": "markdown",
   "metadata": {},
   "source": [
    "### Задача: написать декоратор, который записывает в лог результат декорируемой функции\n",
    "    "
   ]
  },
  {
   "cell_type": "code",
   "execution_count": 198,
   "metadata": {},
   "outputs": [
    {
     "name": "stdout",
     "output_type": "stream",
     "text": [
      "log.txt: 15\n"
     ]
    }
   ],
   "source": [
    "def logger(func):\n",
    "    def wrapped(num_list):\n",
    "        result = func(num_list)\n",
    "        with open('/Users/Andrew/Desktop/log.txt', 'w') as f:\n",
    "            f.write(str(result))\n",
    "        return result\n",
    "    return wrapped\n",
    "\n",
    "@logger\n",
    "def summator(num_list):\n",
    "    return sum(num_list)\n",
    "\n",
    "#summator([1,2,3,4,5])\n",
    "\n",
    "with open('/Users/Andrew/Desktop/log.txt', 'r') as f:\n",
    "    print('log.txt: {}'.format(f.read()))"
   ]
  },
  {
   "cell_type": "markdown",
   "metadata": {},
   "source": [
    "Часто бывает необходимо определить декотратор который принимает не только список чисел но любое количество аргументов любого типа"
   ]
  },
  {
   "cell_type": "code",
   "execution_count": 201,
   "metadata": {},
   "outputs": [
    {
     "name": "stdout",
     "output_type": "stream",
     "text": [
      "Summator: 6\n",
      "log.txt: 6\n"
     ]
    }
   ],
   "source": [
    "import functools\n",
    "\n",
    "def logger(func):\n",
    "    @functools.wraps(func) # replaces some definitions to keep summator.__name__ as 'sumator' not 'wrapped'\n",
    "    def wrapped(*args, **kwargs):\n",
    "        result = func(*args, **kwargs)\n",
    "        with open('/Users/Andrew/Desktop/log.txt', 'w') as f:\n",
    "            f.write(str(result))\n",
    "        return result\n",
    "    return wrapped\n",
    "\n",
    "@logger\n",
    "def summator(num_list):\n",
    "    return sum(num_list)\n",
    "\n",
    "print('Summator: {}'.format(summator([1,2,3])))\n",
    "\n",
    "with open('/Users/Andrew/Desktop/log.txt', 'r') as f:\n",
    "    print('log.txt: {}'.format(f.read()))\n",
    "    \n",
    "print(summator.__name__) # it's not convenient that 'wrapped' and not original 'summator' name is returned (when debugging for example)\n",
    "                         \n",
    "\n"
   ]
  },
  {
   "cell_type": "markdown",
   "metadata": {},
   "source": [
    "### Задача: написать декотратор с параметром, который записывает в лог в указанный файл"
   ]
  },
  {
   "cell_type": "code",
   "execution_count": 210,
   "metadata": {},
   "outputs": [
    {
     "name": "stdout",
     "output_type": "stream",
     "text": [
      "summator: 13\n",
      "log1.txt: 13\n"
     ]
    }
   ],
   "source": [
    "def logger(filename):\n",
    "    def decorator(func):\n",
    "        def wrapped(*args, **kwargs):\n",
    "            result = func(*args, **kwargs)\n",
    "            with open(filename, 'w') as f:\n",
    "                f.write(str(result))\n",
    "            return result\n",
    "        return wrapped\n",
    "    return decorator\n",
    "\n",
    "@logger('/Users/Andrew/Desktop/log1.txt')\n",
    "def summator(num_list):\n",
    "    return sum(num_list)\n",
    "\n",
    "# summator = logger('log1.txt').(summator)\n",
    "\n",
    "print('summator: {}'.format(summator([1,4,8])))\n",
    "\n",
    "with open('/Users/Andrew/Desktop/log1.txt', 'r') as f:\n",
    "    print('log1.txt: {}'.format(f.read()))\n",
    "      \n"
   ]
  },
  {
   "cell_type": "markdown",
   "metadata": {},
   "source": [
    "### Пример 1: что будет, если применить сразу несколько декораторов?"
   ]
  },
  {
   "cell_type": "code",
   "execution_count": 216,
   "metadata": {},
   "outputs": [
    {
     "name": "stdout",
     "output_type": "stream",
     "text": [
      "Inside first_decorator\n",
      "Inside second_decorator\n",
      "Finally called...\n"
     ]
    }
   ],
   "source": [
    "def first_decorator(func):\n",
    "    def wrapped():\n",
    "        print('Inside first_decorator')\n",
    "        return func()\n",
    "    return wrapped\n",
    "\n",
    "def second_decorator(func):\n",
    "    def wrapped():\n",
    "        print('Inside second_decorator')\n",
    "        return func()\n",
    "    return wrapped\n",
    "\n",
    "@first_decorator\n",
    "@second_decorator\n",
    "def decorated():\n",
    "    print('Finally called...')\n",
    "    \n",
    "# decorated = first_decorator(second_decorator(decorated))\n",
    "    \n",
    "decorated()"
   ]
  },
  {
   "cell_type": "markdown",
   "metadata": {},
   "source": [
    "### Пример 2: несколько декораторов"
   ]
  },
  {
   "cell_type": "code",
   "execution_count": 219,
   "metadata": {},
   "outputs": [
    {
     "name": "stdout",
     "output_type": "stream",
     "text": [
      "<b><i>hello world</i></b>\n"
     ]
    }
   ],
   "source": [
    "def bold(func):\n",
    "    def wrapped():\n",
    "        return \"<b>\" + func() + \"</b>\"\n",
    "    return wrapped\n",
    "\n",
    "def italic(func):\n",
    "    def wrapped():\n",
    "        return \"<i>\" + func() + \"</i>\"\n",
    "    return wrapped\n",
    "    \n",
    "@bold\n",
    "@italic\n",
    "def hello():\n",
    "    return \"hello world\"\n",
    "\n",
    "# hello = bold(italic(hello))\n",
    "\n",
    "print(hello())"
   ]
  },
  {
   "cell_type": "markdown",
   "metadata": {},
   "source": [
    "# Генераторы"
   ]
  },
  {
   "cell_type": "code",
   "execution_count": 220,
   "metadata": {},
   "outputs": [
    {
     "name": "stdout",
     "output_type": "stream",
     "text": [
      "0\n",
      "2\n",
      "4\n",
      "6\n",
      "8\n"
     ]
    }
   ],
   "source": [
    "def even_range(start, end):\n",
    "    current = start\n",
    "    while current < end:\n",
    "        yield current\n",
    "        current += 2\n",
    "\n",
    "for number in even_range(0,10):\n",
    "    print(number)"
   ]
  },
  {
   "cell_type": "code",
   "execution_count": 223,
   "metadata": {},
   "outputs": [
    {
     "name": "stdout",
     "output_type": "stream",
     "text": [
      "<class 'generator'>\n",
      "0\n",
      "2\n"
     ]
    },
    {
     "ename": "StopIteration",
     "evalue": "",
     "output_type": "error",
     "traceback": [
      "\u001b[0;31m---------------------------------------------------------------------------\u001b[0m",
      "\u001b[0;31mStopIteration\u001b[0m                             Traceback (most recent call last)",
      "\u001b[0;32m<ipython-input-223-114faafd9a25>\u001b[0m in \u001b[0;36m<module>\u001b[0;34m\u001b[0m\n\u001b[1;32m      3\u001b[0m \u001b[0mprint\u001b[0m\u001b[0;34m(\u001b[0m\u001b[0mnext\u001b[0m\u001b[0;34m(\u001b[0m\u001b[0mranger\u001b[0m\u001b[0;34m)\u001b[0m\u001b[0;34m)\u001b[0m\u001b[0;34m\u001b[0m\u001b[0;34m\u001b[0m\u001b[0m\n\u001b[1;32m      4\u001b[0m \u001b[0mprint\u001b[0m\u001b[0;34m(\u001b[0m\u001b[0mnext\u001b[0m\u001b[0;34m(\u001b[0m\u001b[0mranger\u001b[0m\u001b[0;34m)\u001b[0m\u001b[0;34m)\u001b[0m\u001b[0;34m\u001b[0m\u001b[0;34m\u001b[0m\u001b[0m\n\u001b[0;32m----> 5\u001b[0;31m \u001b[0mprint\u001b[0m\u001b[0;34m(\u001b[0m\u001b[0mnext\u001b[0m\u001b[0;34m(\u001b[0m\u001b[0mranger\u001b[0m\u001b[0;34m)\u001b[0m\u001b[0;34m)\u001b[0m\u001b[0;34m\u001b[0m\u001b[0;34m\u001b[0m\u001b[0m\n\u001b[0m",
      "\u001b[0;31mStopIteration\u001b[0m: "
     ]
    }
   ],
   "source": [
    "ranger = even_range(0,4)\n",
    "print(type(ranger))\n",
    "print(next(ranger))\n",
    "print(next(ranger))\n",
    "print(next(ranger))"
   ]
  },
  {
   "cell_type": "code",
   "execution_count": 231,
   "metadata": {},
   "outputs": [
    {
     "name": "stdout",
     "output_type": "stream",
     "text": [
      "1\n",
      "After yielding 1\n",
      "2\n",
      "After yielding 2\n"
     ]
    },
    {
     "ename": "StopIteration",
     "evalue": "",
     "output_type": "error",
     "traceback": [
      "\u001b[0;31m---------------------------------------------------------------------------\u001b[0m",
      "\u001b[0;31mStopIteration\u001b[0m                             Traceback (most recent call last)",
      "\u001b[0;32m<ipython-input-231-378462cbcc74>\u001b[0m in \u001b[0;36m<module>\u001b[0;34m\u001b[0m\n\u001b[1;32m      7\u001b[0m \u001b[0mprint\u001b[0m\u001b[0;34m(\u001b[0m\u001b[0mnext\u001b[0m\u001b[0;34m(\u001b[0m\u001b[0mgenerator\u001b[0m\u001b[0;34m)\u001b[0m\u001b[0;34m)\u001b[0m\u001b[0;34m\u001b[0m\u001b[0;34m\u001b[0m\u001b[0m\n\u001b[1;32m      8\u001b[0m \u001b[0mprint\u001b[0m\u001b[0;34m(\u001b[0m\u001b[0mnext\u001b[0m\u001b[0;34m(\u001b[0m\u001b[0mgenerator\u001b[0m\u001b[0;34m)\u001b[0m\u001b[0;34m)\u001b[0m\u001b[0;34m\u001b[0m\u001b[0;34m\u001b[0m\u001b[0m\n\u001b[0;32m----> 9\u001b[0;31m \u001b[0mprint\u001b[0m\u001b[0;34m(\u001b[0m\u001b[0mnext\u001b[0m\u001b[0;34m(\u001b[0m\u001b[0mgenerator\u001b[0m\u001b[0;34m)\u001b[0m\u001b[0;34m)\u001b[0m\u001b[0;34m\u001b[0m\u001b[0;34m\u001b[0m\u001b[0m\n\u001b[0m",
      "\u001b[0;31mStopIteration\u001b[0m: "
     ]
    }
   ],
   "source": [
    "def list_generator(list_obj):\n",
    "    for item in list_obj:\n",
    "        yield item\n",
    "        print('After yielding {}'.format(item))\n",
    "\n",
    "generator = list_generator([1,2])\n",
    "print(next(generator))\n",
    "print(next(generator))\n",
    "print(next(generator))"
   ]
  },
  {
   "cell_type": "markdown",
   "metadata": {},
   "source": [
    "Зачем нужны генераторы? Они позволяют избежать необходимости хранить большие ряды чисел, а запомнают текущее положение и знают как перейти к следующему при интерациях. Это оптимизирует работу с памятью"
   ]
  },
  {
   "cell_type": "markdown",
   "metadata": {},
   "source": [
    "### Числа Фибоначи"
   ]
  },
  {
   "cell_type": "code",
   "execution_count": 232,
   "metadata": {},
   "outputs": [
    {
     "name": "stdout",
     "output_type": "stream",
     "text": [
      "1\n",
      "1\n",
      "2\n",
      "3\n",
      "5\n",
      "8\n",
      "13\n",
      "21\n",
      "34\n",
      "55\n"
     ]
    }
   ],
   "source": [
    "def fibonacci(number):\n",
    "    a = b = 1\n",
    "    for _ in range(number):\n",
    "        yield a\n",
    "        a, b = b, a + b\n",
    "\n",
    "for num in fibonacci(10):\n",
    "    print(num)"
   ]
  },
  {
   "cell_type": "markdown",
   "metadata": {},
   "source": [
    "### Аккумулятор"
   ]
  },
  {
   "cell_type": "code",
   "execution_count": 248,
   "metadata": {},
   "outputs": [],
   "source": [
    "def accumulator():\n",
    "    total = 0\n",
    "    while True:\n",
    "        value = yield total\n",
    "        print('Got: {}'.format(value))\n",
    "        \n",
    "        if not value: break\n",
    "        total += value\n",
    "\n",
    "generator = accumulator()"
   ]
  },
  {
   "cell_type": "code",
   "execution_count": 249,
   "metadata": {},
   "outputs": [
    {
     "data": {
      "text/plain": [
       "0"
      ]
     },
     "execution_count": 249,
     "metadata": {},
     "output_type": "execute_result"
    }
   ],
   "source": [
    "next(generator)"
   ]
  },
  {
   "cell_type": "code",
   "execution_count": 250,
   "metadata": {},
   "outputs": [
    {
     "name": "stdout",
     "output_type": "stream",
     "text": [
      "Got: 1\n",
      "Accumulated: 1\n",
      "Got: 1\n",
      "Accumulated: 2\n",
      "Got: 1\n",
      "Accumulated: 3\n"
     ]
    }
   ],
   "source": [
    "print('Accumulated: {}'.format(generator.send(1)))\n",
    "print('Accumulated: {}'.format(generator.send(1)))\n",
    "print('Accumulated: {}'.format(generator.send(1)))\n"
   ]
  },
  {
   "cell_type": "code",
   "execution_count": 251,
   "metadata": {},
   "outputs": [
    {
     "name": "stdout",
     "output_type": "stream",
     "text": [
      "Got: None\n"
     ]
    },
    {
     "ename": "StopIteration",
     "evalue": "",
     "output_type": "error",
     "traceback": [
      "\u001b[0;31m---------------------------------------------------------------------------\u001b[0m",
      "\u001b[0;31mStopIteration\u001b[0m                             Traceback (most recent call last)",
      "\u001b[0;32m<ipython-input-251-323ce5d717bb>\u001b[0m in \u001b[0;36m<module>\u001b[0;34m\u001b[0m\n\u001b[0;32m----> 1\u001b[0;31m \u001b[0mnext\u001b[0m\u001b[0;34m(\u001b[0m\u001b[0mgenerator\u001b[0m\u001b[0;34m)\u001b[0m\u001b[0;34m\u001b[0m\u001b[0;34m\u001b[0m\u001b[0m\n\u001b[0m",
      "\u001b[0;31mStopIteration\u001b[0m: "
     ]
    }
   ],
   "source": [
    "next(generator)"
   ]
  },
  {
   "cell_type": "code",
   "execution_count": 260,
   "metadata": {},
   "outputs": [
    {
     "data": {
      "text/plain": [
       "{4, 5, False, True, 'a'}"
      ]
     },
     "execution_count": 260,
     "metadata": {},
     "output_type": "execute_result"
    }
   ],
   "source": [
    "t = set(['a', 4, True, False, 4, 5, False])\n",
    "t\n",
    "#t[1] = 5\n"
   ]
  },
  {
   "cell_type": "markdown",
   "metadata": {},
   "source": [
    "### Задача: напишите декоратор to_json, который можно применить к различным функциям, чтобы преобразовывать их возвращаемое значение в JSON-формат. Не забудьте про сохранение корректного имени декорируемой функции"
   ]
  },
  {
   "cell_type": "code",
   "execution_count": 12,
   "metadata": {},
   "outputs": [
    {
     "name": "stdout",
     "output_type": "stream",
     "text": [
      "<class 'str'>\n",
      "get_data(): {\"data\": 42}\n",
      "get_data\n",
      "<class 'str'>\n",
      "func1(): [1, 2, 3]\n",
      "func1\n"
     ]
    }
   ],
   "source": [
    "import json\n",
    "import functools\n",
    "\n",
    "def to_json(func):\n",
    "    @functools.wraps(func)\n",
    "    def wrapped():\n",
    "        data = func()\n",
    "        data_json = json.dumps(data)\n",
    "        print(type(data_json))\n",
    "        return data_json\n",
    "    return wrapped\n",
    "\n",
    "@to_json\n",
    "def get_data():\n",
    "    return {'data': 42}\n",
    "\n",
    "print('get_data(): ' + get_data())\n",
    "print(get_data.__name__)\n",
    "\n",
    "@to_json\n",
    "def func1():\n",
    "    return [1,2,3]\n",
    "\n",
    "print('func1(): ' + func1())\n",
    "print(func1.__name__)\n",
    "\n",
    "\n",
    "        "
   ]
  },
  {
   "cell_type": "code",
   "execution_count": 13,
   "metadata": {},
   "outputs": [
    {
     "data": {
      "text/plain": [
       "{'a', 'b', 'd', 's'}"
      ]
     },
     "execution_count": 13,
     "metadata": {},
     "output_type": "execute_result"
    }
   ],
   "source": [
    "set('absd')"
   ]
  },
  {
   "cell_type": "code",
   "execution_count": 17,
   "metadata": {},
   "outputs": [
    {
     "data": {
      "text/plain": [
       "array(['5', '4', '3', '2', '1'], dtype='<U1')"
      ]
     },
     "execution_count": 17,
     "metadata": {},
     "output_type": "execute_result"
    }
   ],
   "source": [
    "import numpy as np\n",
    "number = 12345\n",
    "np.array(tuple(str(number)))[::-1].to"
   ]
  },
  {
   "cell_type": "code",
   "execution_count": null,
   "metadata": {},
   "outputs": [],
   "source": []
  }
 ],
 "metadata": {
  "kernelspec": {
   "display_name": "env",
   "language": "python",
   "name": "env"
  },
  "language_info": {
   "codemirror_mode": {
    "name": "ipython",
    "version": 3
   },
   "file_extension": ".py",
   "mimetype": "text/x-python",
   "name": "python",
   "nbconvert_exporter": "python",
   "pygments_lexer": "ipython3",
   "version": "3.7.4"
  }
 },
 "nbformat": 4,
 "nbformat_minor": 2
}
