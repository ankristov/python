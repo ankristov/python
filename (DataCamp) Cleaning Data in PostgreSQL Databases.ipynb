{
 "cells": [
  {
   "cell_type": "markdown",
   "id": "e88cd226",
   "metadata": {},
   "source": [
    "## Applying functions for string cleaning\n",
    "\n",
    "1 Introduction to data cleaning.mp4\n",
    "\n",
    "Throughout this course, we will be using a dataset with 5000 New York City parking violation records stored in the parking_violation table.\n",
    "\n",
    "A service to provide parking violation recipients with a hard copy of the violation is being re-designed. For proper formatting of the output of the information on the report, some fields needs to be changed from the database representation. The changes are as follows:\n",
    "\n",
    "For proper text alignment on the form, violation_location values must be 4 characters in length.\n",
    "All P-U (pick-up truck) values in the vehicle_body_type column should use a general TRK value.\n",
    "Only the first letter in each word in the street_name column should be capitalized.\n",
    "The LPAD(), REPLACE(), and INITCAP() functions will be used to effect these changes.\n",
    "\n",
    "Instructions\n",
    "- Add '0' to the beginning of any violation_location that is less than 4 digits in length using the LPAD() function.\n",
    "- Replace 'P-U' with 'TRK' in values within the vehicle_body_type column using the REPLACE() function.\n",
    "- Ensure that only the first letter of words in the street_name column are capitalized using the INITCAP() function."
   ]
  },
  {
   "cell_type": "raw",
   "id": "ba5ebc47",
   "metadata": {},
   "source": [
    "SELECT\n",
    "  -- Add 0s to ensure violation_location is 4 characters in length\n",
    "  LPAD(violation_location, 4, '0') AS violation_location,\n",
    "  -- Replace 'P-U' with 'TRK' in vehicle_body_type column\n",
    "  REPLACE(vehicle_body_type, 'P-U', 'TRK') AS vehicle_body_type,\n",
    "  -- Ensure only first letter capitalized in street_name\n",
    "  INITCAP(street_name) AS street_name\n",
    "FROM\n",
    "  parking_violation;"
   ]
  },
  {
   "cell_type": "markdown",
   "id": "71473b70",
   "metadata": {},
   "source": [
    "## Classifying parking violations by time of day\n",
    "\n",
    "2 Pattern matching.mp4\n",
    "\n",
    "There have been some concerns raised that parking violations are not being issued uniformly throughout the day. You have been tasked with associating parking violations with the time of day of issuance. You determine that the simplest approach to completing this task is to create a new column named morning. This field will be populated with (the integer) 1 if the violation was issued in the morning (between 12:00 AM and 11:59 AM), and, (the integer) 0, otherwise. The time of issuance is recorded in the violation_time column of the parking_violation table. This column consists of 4 digits followed by an A (for AM) or P (for PM).\n",
    "\n",
    "In this exercise, you will populate the morning column by matching patterns for violation_times occurring in the morning.\n",
    "\n",
    "Instructions\n",
    "- Use the regular expression pattern '\\d\\d\\d\\dA' in the sub-query to match violation_time values consisting of 4 consecutive digits (\\d) followed by an uppercase A.\n",
    "- Edit the CASE clause to populate the morning column with 1 (integer without quotes) when the regular expression is matched.\n",
    "- Edit the CASE clause to populate the morning column with 0 (integer without quotes) when the regular expression is not matched."
   ]
  },
  {
   "cell_type": "raw",
   "id": "672e339c",
   "metadata": {},
   "source": [
    "SELECT \n",
    "\tsummons_number, violation_time,\n",
    "    CASE WHEN \n",
    "    \tsummons_number IN (\n",
    "          SELECT \n",
    "  \t\t\tsummons_number \n",
    "  \t\t  FROM \n",
    "  \t\t\tparking_violation \n",
    "  \t\t  WHERE \n",
    "            -- Match violation_time for morning values\n",
    "  \t\t\tviolation_time SIMILAR TO '\\d\\d\\d\\dA'\n",
    "    \t)\n",
    "        -- Value when pattern matched\n",
    "        THEN 1 \n",
    "        -- Value when pattern not matched\n",
    "        ELSE 0 \n",
    "    END AS morning \n",
    "FROM \n",
    "\tparking_violation;"
   ]
  },
  {
   "cell_type": "markdown",
   "id": "25392818",
   "metadata": {},
   "source": [
    "Well done! Regular expressions using a SIMILAR TO condition in a WHERE clause can be used to match very flexible text patterns. In this exercise, you matched all morning times with a short, 9-character pattern. This exercise assumes that all the records are already in the proper format of 4 digits + 'A' or 'P'. In real life, we would want to check that assumption first."
   ]
  },
  {
   "cell_type": "markdown",
   "id": "77c83793",
   "metadata": {},
   "source": [
    "## Masking identifying information with regular expressions\n",
    "\n",
    "Regular expressions can also be used to replace patterns in strings using REGEXP_REPLACE(). The function is similar to the REPLACE() function. Its signature is REGEXP_REPLACE(source, pattern, replace, flags).\n",
    "\n",
    "pattern is the string pattern to match in the source string.\n",
    "replace is the replacement string to use in place of the pattern.\n",
    "flags is an optional string used to control matching.\n",
    "For example, REGEXP_REPLACE(xyz, '\\d', '_', 'g') would replace any digit character (\\d) in the column xyz with an underscore (_). The g (\"global\") flag ensures every match is replaced.\n",
    "\n",
    "To protect parking violation recipients' privacy in a new web report, all letters in the plate_id column must be replaced with a dash (-) to mask the true license plate number.\n",
    "\n",
    "Instructions\n",
    "- Use REGEXP_REPLACE() to replace all uppercase letters (A to Z) in the plate_id column with a dash character (-) so that masked license plate numbers can be used in the report."
   ]
  },
  {
   "cell_type": "raw",
   "id": "73985b46",
   "metadata": {},
   "source": [
    "SELECT \n",
    "\tsummons_number,plate_id,\n",
    "\t-- Replace uppercase letters in plate_id with dash\n",
    "\tREGEXP_REPLACE(plate_id, '[a-zA-Z]', '-', 'g') \n",
    "FROM \n",
    "\tparking_violation;"
   ]
  },
  {
   "cell_type": "markdown",
   "id": "b908f3b5",
   "metadata": {},
   "source": [
    "The REGEXP_REPLACE() function can be very useful for replacing string patterns across many values. Using regular expressions to define the pattern, many complex patterns can be matched. You were able to use this function for masking letters in license plate numbers using a compact line of code in your SELECT statement. In this case, only uppercase letters are matched. In reality, license plate numbers might include lower case letters. A pattern providing this flexibility is [A-Za-z]. Nicely done!"
   ]
  },
  {
   "cell_type": "markdown",
   "id": "965296a4",
   "metadata": {},
   "source": [
    "## Matching inconsistent color names\n",
    "\n",
    "3 Matching similar strings.mp4\n",
    "\n",
    "From the sample of records in the parking_violation table, it is clear that the vehicle_color values are not consistent. For example, 'GRY', 'GRAY', and 'GREY' are all used to describe a gray vehicle. In order to consistently represent this color, it is beneficial to use a single value. Fortunately, the DIFFERENCE() function can be used to accomplish this goal.\n",
    "\n",
    "In this exercise, you will use the DIFFERENCE() function to return records that contain a vehicle_color value that closely matches the string 'GRAY'. The fuzzystrmatch module has already been enabled for you.\n",
    "\n",
    "Instructions\n",
    "- Use the DIFFERENCE() function to find parking_violation records having a vehicle_color with a Soundex code that matches the Soundex code for 'GRAY'. Recall that the DIFFERENCE() function accepts string values (not Soundex codes) as parameter arguments."
   ]
  },
  {
   "cell_type": "raw",
   "id": "2291fed6",
   "metadata": {},
   "source": [
    "create extension if not exists fuzzystrmatch;\n",
    "\n",
    "SELECT\n",
    "  summons_number,\n",
    "  vehicle_color,\n",
    "  SOUNDEX(vehicle_color) as vehicle_color_soundex\n",
    "FROM\n",
    "  parking_violation\n",
    "WHERE\n",
    "  -- Match SOUNDEX codes of vehicle_color and 'GRAY'\n",
    "  DIFFERENCE(vehicle_color, 'GRAY') = 4;"
   ]
  },
  {
   "cell_type": "markdown",
   "id": "e3b32d51",
   "metadata": {},
   "source": [
    "Really nice job! You were able to use the DIFFERENCE() function to identify records with variable_color values that are similar to GRAY. This provides a great first step towards making the variable_color values more consistent."
   ]
  },
  {
   "cell_type": "markdown",
   "id": "617ef297",
   "metadata": {},
   "source": [
    "## Standardizing color names\n",
    "\n",
    "In the previous exercise, the DIFFERENCE() function was used to identify colors that closely matched our desired representation of the color GRAY. However, this approach retained a number of records where the vehicle_color value may or may not be gray. Specifically, the string GR (green) has the same Soundex code as the string GRAY. Fortunately, records with these vehicle_color values can be excluded from the set of records that should be changed.\n",
    "\n",
    "In this exercise, you will assign a consistent gray vehicle_color value by identifying similar strings that represent the same color. Again, the fuzzystrmatch module has already been installed for you.\n",
    "\n",
    "Instructions\n",
    "- Complete the SET clause to assign 'GRAY' as the vehicle_color for records with a vehicle_color value having a matching Soundex code to the Soundex code for 'GRAY'.\n",
    "- Update the WHERE clause of the subquery so that the summons_number values returned exclude summons_number values from records with 'GR' as the vehicle_color value."
   ]
  },
  {
   "cell_type": "raw",
   "id": "6cc4126f",
   "metadata": {},
   "source": [
    "UPDATE \n",
    "\tparking_violation\n",
    "SET \n",
    "\t-- Update vehicle_color to `GRAY`\n",
    "\tvehicle_color = 'GRAY'\n",
    "WHERE \n",
    "\tsummons_number IN (\n",
    "      SELECT\n",
    "        summons_number\n",
    "      FROM\n",
    "        parking_violation\n",
    "      WHERE\n",
    "        DIFFERENCE(vehicle_color, 'GRAY') = 4 AND\n",
    "        -- Filter out records that have GR as vehicle_color\n",
    "        vehicle_color != 'GR'\n",
    ");"
   ]
  },
  {
   "cell_type": "markdown",
   "id": "4746e3ea",
   "metadata": {},
   "source": [
    "Nicely done! You have now used a string similarity approach to consistently represent gray-colored vehicles using the string value GRAY. In this exercise, you filtered the results so that only records with vehicle colors that likely represent the color gray are selected. Then these results were used to update the records in the parking_violation table to have a consistent vehicle_color value for GRAY vehicles."
   ]
  },
  {
   "cell_type": "markdown",
   "id": "f432c3b3",
   "metadata": {},
   "source": [
    "## Standardizing multiple colors\n",
    "\n",
    "After the success of standardizing the naming of GRAY-colored vehicles, you decide to extend this approach to additional colors. The primary colors RED, BLUE, and YELLOW will be used for extending the color name standardization approach. In this exercise, you will:\n",
    "\n",
    "Find vehicle_color values that are similar to RED, BLUE, or YELLOW.\n",
    "Handle both the ambiguous vehicle_color value BL and the incorrectly identified vehicle_color value BLA using pattern matching.\n",
    "Update the vehicle_color values with strong similarity to RED, BLUE, or YELLOW to the standard string values.\n",
    "Instructions 1/3\n",
    "- Generate columns (red, blue, yellow) storing the DIFFERENCE() value for each vehicle_color compared to the strings RED, BLUE, and YELLOW.\n",
    "- Restrict the returned records to those with a DIFFERENCE() value of 4 for one of RED, BLUE, or YELLOW."
   ]
  },
  {
   "cell_type": "raw",
   "id": "f4cfbffd",
   "metadata": {},
   "source": [
    "SELECT \n",
    "\tsummons_number,\n",
    "\tvehicle_color,\n",
    "    -- Include the DIFFERENCE() value for each color\n",
    "\tDIFFERENCE(vehicle_color, 'RED') AS \"red\",\n",
    "\tDIFFERENCE(vehicle_color, 'BLUE') AS \"blue\",\n",
    "\tDIFFERENCE(vehicle_color, 'YELLOW') AS \"yellow\"\n",
    "FROM\n",
    "\tparking_violation\n",
    "WHERE \n",
    "\t(\n",
    "      \t-- Condition records on DIFFERENCE() value of 4\n",
    "\t\tDIFFERENCE(vehicle_color, 'RED') = 4 OR\n",
    "\t\tDIFFERENCE(vehicle_color, 'BLUE') = 4 OR\n",
    "\t\tDIFFERENCE(vehicle_color, 'YELLOW') = 4\n",
    "\t)"
   ]
  },
  {
   "cell_type": "markdown",
   "id": "65af4586",
   "metadata": {},
   "source": [
    "- Update the SELECT query to match BL or BLA vehicle_color values using the regular expression pattern 'BLA?' and exclude these records from the result."
   ]
  },
  {
   "cell_type": "raw",
   "id": "067ddb99",
   "metadata": {},
   "source": [
    "SELECT \n",
    "\tsummons_number,\n",
    "    vehicle_color,\n",
    "\tDIFFERENCE(vehicle_color, 'RED') AS \"red\",\n",
    "\tDIFFERENCE(vehicle_color, 'BLUE') AS \"blue\",\n",
    "\tDIFFERENCE(vehicle_color, 'YELLOW') AS \"yellow\"\n",
    "FROM\n",
    "\tparking_violation\n",
    "WHERE\n",
    "\t(\n",
    "\t\tDIFFERENCE(vehicle_color, 'RED') = 4 OR\n",
    "\t\tDIFFERENCE(vehicle_color, 'BLUE') = 4 OR\n",
    "\t\tDIFFERENCE(vehicle_color, 'YELLOW') = 4\n",
    "    -- Exclude records with 'BL' and 'BLA' vehicle colors\n",
    "\t) AND vehicle_color NOT SIMILAR TO 'BLA?'"
   ]
  },
  {
   "cell_type": "markdown",
   "id": "2bb958d1",
   "metadata": {},
   "source": [
    "- Use the records from the previously executed SELECT statement (now stored in a table named red_blue_yellow) to update the vehicle_color values where strong similarity (a value of 4) to RED, BLUE, or YELLOW was identified."
   ]
  },
  {
   "cell_type": "raw",
   "id": "5a060488",
   "metadata": {},
   "source": [
    "UPDATE \n",
    "\tparking_violation pv\n",
    "SET \n",
    "\tvehicle_color = CASE\n",
    "      -- Complete conditions and results\n",
    "      WHEN red = 4 THEN 'RED'\n",
    "      WHEN blue = 4 THEN 'BLUE'\n",
    "      WHEN yellow = 4 THEN 'YELLOW'\n",
    "\tEND\n",
    "FROM \n",
    "\tred_blue_yellow rby\n",
    "WHERE \n",
    "\trby.summons_number = pv.summons_number;\n",
    "\n",
    "SELECT * FROM parking_violation \n",
    "where difference(vehicle_color,'red') = 4 or difference(vehicle_color,'yellow') = 4 or difference(vehicle_color,'blue') = 4 and vehicle_color not similar to 'BLA?'\n",
    "LIMIT 10;"
   ]
  },
  {
   "cell_type": "raw",
   "id": "7860dfe7",
   "metadata": {},
   "source": [
    "-- AK: this solution looks more beatiful\n",
    "UPDATE\n",
    "    parking_violation\n",
    "SET\n",
    "    vehicle_color = \n",
    "    CASE\n",
    "        WHEN DIFFERENCE(vehicle_color,'red') = 4 THEN 'RED'\n",
    "        WHEN DIFFERENCE(vehicle_color,'blue') = 4 & vehicle_color NOT SIMILAR TO 'BLA?' THEN 'RED'\n",
    "        WHEN DIFFERENCE(vehicle_color,'yellow') = 4 THEN 'YELLOW'\n",
    "    END\n",
    " "
   ]
  },
  {
   "cell_type": "markdown",
   "id": "457f331a",
   "metadata": {},
   "source": [
    "It looks like this system to standardize color names is really coming together nicely. Ultimately, it would be better for those giving parking violations to use the standard color names moving forward. However, until that happens, you are able to standardize many of the names as they already exist in the dataset. Well done!"
   ]
  },
  {
   "cell_type": "markdown",
   "id": "d3d9418f",
   "metadata": {},
   "source": [
    "## Formatting text for colleagues\n",
    "\n",
    "A website to monitor filming activity in New York City is being constructed based on film permit applications stored in film_permit. This website will include information such as an event_id, parking restrictions required for the filming (parking_held), and the purpose of the filming.\n",
    "\n",
    "Your task is to deliver data to the web development team that will not require the team to perform further cleaning. event_id values will need to be padded with 0s in order to have a uniform length, capitalization for parking will need to be modified to only capitalize the initial letter of a word, and extra spaces from parking descriptions will need to be removed. The REGEXP_REPLACE() function (introduced in one of the previous exercises) will be used to clean the extra spaces.\n",
    "\n",
    "Instructions 1/3\n",
    "- Use the LPAD() function to complete the query so that each event_id is always 10 digits in length with preceding 0s added for any event_id less than 10 digits.\n",
    "- Complete the query to fix capitalization for parking_held column values so that only the first letter of each word is capitalized.\n",
    "- Complete the query using the regular expression pattern ' +' so that one or more consecutive space characters in the parking_held column are replaced with a single space (' ')."
   ]
  },
  {
   "cell_type": "raw",
   "id": "16b9578c",
   "metadata": {},
   "source": [
    "SELECT \n",
    "\tLPAD(event_id, 10, '0') as event_id, \n",
    "    -- Replace consecutive spaces with a single space\n",
    "    REGEXP_REPLACE(INITCAP(parking_held), ' +', ' ', 'g')  as parking_held\n",
    "FROM \n",
    "    film_permit;"
   ]
  },
  {
   "cell_type": "markdown",
   "id": "3230d5ba",
   "metadata": {},
   "source": [
    "Great job! With only a few lines of SQL code, you were able to modify string data so that it is presented in the desired format. This included filling an id value with 0s, removing excess spaces, and fixing capitalization in text. Your web development team is going to be really happy that this data will be delivered in exactly the format that they require."
   ]
  },
  {
   "cell_type": "markdown",
   "id": "3dd1d8ec",
   "metadata": {},
   "source": [
    "## Quantifying completeness\n",
    "\n",
    "4 Handling missing data.mp4\n",
    "\n",
    "The records for parking violations stored in the parking_violation table contain missing values for the vehicle_body_type column. Assume this data is missing completely at random (MCAR) due to human error. In an effort to make the data more complete, you have been tasked with filling in these values. You decide to quantify how many records are missing and perform an analysis for an appropriate fill-in value to replace the missing values.\n",
    "\n",
    "How many parking_violation records have a NULL value for vehicle_body_type? Write and execute a SELECT query that computes this number.\n",
    "\n",
    "Instructions\n",
    "50 XP\n",
    "Possible Answers\n",
    "- 5000\n",
    "- 179+\n",
    "- 4821\n",
    "- 0"
   ]
  },
  {
   "cell_type": "raw",
   "id": "dc7f2e60",
   "metadata": {},
   "source": [
    "SELECT count(*) FROM parking_violation WHERE vehicle_body_type IS NULL;"
   ]
  },
  {
   "cell_type": "markdown",
   "id": "5b2ee95e",
   "metadata": {},
   "source": [
    "That's right! Of the 5000 records, 179 have a NULL-valued vehicle_body_type. Great job! Let's now explore what value we might use to replace these NULL values."
   ]
  },
  {
   "cell_type": "markdown",
   "id": "175ad721",
   "metadata": {},
   "source": [
    "## Using a fill-in value\n",
    "\n",
    "The sedan body type is the most frequently occurring vehicle_body_type in the sample parking violations. For this reason, you propose changing all NULL-valued vehicle_body_type records in the parking_violations table to SDN. Discussions with your team result in a decision to use a value other than SDN as a fill-in value. The body type can be determined by looking up the vehicle using its license plate number. A license plate number is present in most parking_violation records. Rather than using the most frequent value to replace NULL vehicle_body_type values, a placeholder value of Unknown will be used. The actual body type will be updated as license plate lookup data is gathered.\n",
    "\n",
    "In this exercise, you will replace NULL vehicle_body_type values with the string Unknown.\n",
    "\n",
    "Instructions\n",
    "- Use COALESCE() to replace any vehicle_body_type that is NULL with the string value Unknown in the parking_violation table."
   ]
  },
  {
   "cell_type": "raw",
   "id": "6fea4d7c",
   "metadata": {},
   "source": [
    "UPDATE\n",
    "  parking_violation\n",
    "SET\n",
    "  -- Replace NULL vehicle_body_type values with `Unknown`\n",
    "  vehicle_body_type = COALESCE(vehicle_body_type, 'Unknown');\n",
    "\n",
    "--SELECT COUNT(*) FROM parking_violation WHERE vehicle_body_type = 'Unknown';\n",
    "\n",
    "SELECT vehicle_body_type, count(*) as n \n",
    "FROM parking_violation \n",
    "GROUP BY vehicle_body_type \n",
    "ORDER BY count(*) DESC"
   ]
  },
  {
   "cell_type": "markdown",
   "id": "ae4e19de",
   "metadata": {},
   "source": [
    "We see that all 179 NULL vehicle_body_type values have been set to Unknown. The goal is to eventually replace these values with the actual vehicle_body_type for the vehicle for which the violation was issued. But, in the meantime, the Unknown category can be used for visual and reporting purposes. Great work enabling this analysis!"
   ]
  },
  {
   "cell_type": "markdown",
   "id": "16d18b75",
   "metadata": {},
   "source": [
    "## Analyzing incomplete records\n",
    "\n",
    "In an effort to reduce the number of missing vehicle_body_type values going forward, your team has decided to embark on a campaign to educate issuing agencies on the need for complete data. However, each campaign will be customized for individual agencies.\n",
    "\n",
    "In this exercise, your goal is to use the current missing data values to prioritize these campaigns. You will write a query which outputs the issuing agencies along with the number of records attributable to that agency with a NULL vehicle_body_type. These records will be listed in descending order to determine the order in which education campaigns should be developed.\n",
    "\n",
    "Instructions\n",
    "- Specify two columns for the query results: issuing_agency and num_missing (the number of missing vehicle body types for the issuing agency).\n",
    "- Restrict the results such that only NULL values for vehicle_body_type are counted.\n",
    "- Group the results by issuing_agency.\n",
    "- Order the results by num_missing in descending order."
   ]
  },
  {
   "cell_type": "raw",
   "id": "19160419",
   "metadata": {},
   "source": [
    "SELECT\n",
    "  -- Define the SELECT list: issuing_agency and num_missing\n",
    "  issuing_agency,\n",
    "  COUNT(*) AS num_missing\n",
    "FROM\n",
    "  parking_violation\n",
    "WHERE\n",
    "  -- Restrict the results to NULL vehicle_body_type values\n",
    "  vehicle_body_type IS NULL\n",
    "  -- Group results by issuing_agency\n",
    "  GROUP BY issuing_agency\n",
    "  -- Order results by num_missing in descending order\n",
    "  ORDER BY num_missing DESC;"
   ]
  },
  {
   "cell_type": "markdown",
   "id": "87185988",
   "metadata": {},
   "source": [
    "Based on this sample of parking violations, it would be best to start the education campaign at the Police Department (P) first. In the full dataset, the results might be different, but the approach of using missing data to inform a strategy for reducing its frequency would be the same. Nicely done!"
   ]
  },
  {
   "cell_type": "markdown",
   "id": "7255d5e4",
   "metadata": {},
   "source": [
    "## Duplicate parking violations\n",
    "\n",
    "5 Handling duplicated data.mp4\n",
    "\n",
    "There have been a number of complaints indicating that some New York residents have been receiving multiple parking tickets for a single violation. This is resulting in the affected residents having to incur additional legal fees for a single incident. There is justifiable anger about this situation. You have been tasked with identifying records that reflect this duplication of violations.\n",
    "\n",
    "In this exercise, using ROW_NUMBER(), you will find parking_violation records that contain the same plate_id, issue_date, violation_time, house_number, and street_name, indicating that multiple tickets were issued for the same violation.\n",
    "\n",
    "Instructions 1/2\n",
    "- Use ROW_NUMBER() with columns plate_id, issue_date, violation_time, house_number, and street_name to define the duplicate window.\n",
    "- Subtract 1 from the value returned by ROW_NUMBER() to define the duplicate column."
   ]
  },
  {
   "cell_type": "raw",
   "id": "293151c6",
   "metadata": {},
   "source": [
    "SELECT\n",
    "  \tsummons_number,\n",
    "    -- Use ROW_NUMBER() to define duplicate window\n",
    "  \tROW_NUMBER() OVER(\n",
    "        PARTITION BY \n",
    "            plate_id, \n",
    "          \tissue_date, \n",
    "          \tviolation_time, \n",
    "          \thouse_number, \n",
    "          \tstreet_name\n",
    "    -- Modify ROW_NUMBER() value to define duplicate column\n",
    "      ) - 1 AS duplicate, \n",
    "    plate_id, \n",
    "    issue_date, \n",
    "    violation_time, \n",
    "    house_number, \n",
    "    street_name\n",
    "FROM \n",
    "\tparking_violation;"
   ]
  },
  {
   "cell_type": "markdown",
   "id": "8d2084a0",
   "metadata": {},
   "source": [
    "- Using the previous query's results, SELECT all records that have a duplicate value that is 1 or greater."
   ]
  },
  {
   "cell_type": "markdown",
   "id": "94bf5d26",
   "metadata": {},
   "source": [
    "SELECT \n",
    "\t-- Include all columns \n",
    "\t*\n",
    "FROM (\n",
    "\tSELECT\n",
    "  \t\tsummons_number,\n",
    "  \t\tROW_NUMBER() OVER(\n",
    "        \tPARTITION BY \n",
    "            \tplate_id, \n",
    "          \t\tissue_date, \n",
    "          \t\tviolation_time, \n",
    "          \t\thouse_number, \n",
    "          \t\tstreet_name\n",
    "      \t) - 1 AS duplicate, \n",
    "      \tplate_id, \n",
    "      \tissue_date, \n",
    "      \tviolation_time, \n",
    "      \thouse_number, \n",
    "      \tstreet_name \n",
    "\tFROM \n",
    "\t\tparking_violation\n",
    ") sub\n",
    "WHERE\n",
    "\t-- Only return records where duplicate is 1 or more\n",
    "\tduplicate >= 1;"
   ]
  },
  {
   "cell_type": "markdown",
   "id": "405558a9",
   "metadata": {},
   "source": [
    "The vehicle owners that have their duplicate parking violation records removed are going to be appreciative of this effort. Using ROW_NUMBER(), you were able to identify the duplicate records requiring extra fees to be paid. Great work!"
   ]
  },
  {
   "cell_type": "markdown",
   "id": "99263097",
   "metadata": {},
   "source": [
    "## Resolving impartial duplicates\n",
    "\n",
    "The parking_violation dataset has been modified to include a fee column indicating the fee for the violation. This column would be useful for keeping track of New York City parking ticket revenue. However, due to duplicated violation records, revenue calculations based on the dataset would not be accurate. These duplicate records only differ based on the value in the fee column. All other column values are shared in the duplicated records. A decision has been made to use the minimum fee to resolve the ambiguity created by these duplicates.\n",
    "\n",
    "Identify the 3 duplicated parking_violation records and use the MIN() function to determine the fee that will be used after removing the duplicate records.\n",
    "\n",
    "Instructions\n",
    "- Return the summons_number and the minimum fee for duplicated records.\n",
    "- Group the results by summons_number.\n",
    "- Restrict the results to records having a summons_number count that is greater than 1."
   ]
  },
  {
   "cell_type": "raw",
   "id": "caa97c08",
   "metadata": {},
   "source": [
    "SELECT \n",
    "\t-- Include SELECT list columns\n",
    "\tsummons_number,\n",
    "\tcount(1) as num_records,\n",
    "    MIN(fee) AS fee\n",
    "FROM \n",
    "\tparking_violation \n",
    "GROUP BY\n",
    "\t-- Define column for GROUP BY\n",
    "\tsummons_number \n",
    "HAVING \n",
    "\t-- Restrict to summons numbers with count greater than 1\n",
    "\tCOUNT(summons_number) > 1;\n",
    "\n",
    "\n",
    "-- AK: to show all duplicated records\n",
    "SELECT * \n",
    "FROM parking_violation \n",
    "WHERE summons_number IN (\n",
    "\tSELECT summons_number \n",
    "\tFROM parking_violation \n",
    "\tGROUP BY summons_number \n",
    "\tHAVING COUNT(summons_number) > 1\n",
    ");"
   ]
  },
  {
   "cell_type": "markdown",
   "id": "64332a01",
   "metadata": {},
   "source": [
    "Excellent job! Using this query you were able to identify duplicated records by their summons_number. The minimum fee value can be used as the fee value for the record when the duplicate is removed from the dataset. This is an example of how we can resolve impartial duplicates in our dataset."
   ]
  },
  {
   "cell_type": "markdown",
   "id": "a680c30d",
   "metadata": {},
   "source": [
    "## Detecting invalid values with regular expressions\n",
    "\n",
    "6 Detecting invalid values.mp4\n",
    "\n",
    "In the video exercise, we saw that there are a number of ways to detect invalid values in our data. In this exercise, we will use regular expressions to identify records with invalid values in the parking_violation table.\n",
    "\n",
    "A couple of regular expression patterns that will be useful in this exercise are c{n} and c+. c{n} matches strings which contain the character c repeated n times. For example, x{4} would match the pattern xxxx. c+ matches strings which contain the character c repeated one or more times. This pattern would match strings including xxxx as well as x and xx.\n",
    "\n",
    "Instructions 1/3\n",
    "- Write a query returning records with a registration_state that does not match two consecutive uppercase letters.\n",
    "- Write a query that returns records containing a plate_type that does not match three consecutive uppercase letters.\n",
    "- Write a query returning records with a vehicle_make not including an uppercase letter, a forward slash (/), or a space (\\s)."
   ]
  },
  {
   "cell_type": "raw",
   "id": "b96013ed",
   "metadata": {},
   "source": [
    "# SELECT\n",
    "  summons_number,\n",
    "  plate_id,\n",
    "  registration_state\n",
    "FROM\n",
    "  parking_violation\n",
    "WHERE\n",
    "  -- Define the pattern to use for matching\n",
    "  registration_state NOT SIMILAR TO '[A-Z]{2}';"
   ]
  },
  {
   "cell_type": "raw",
   "id": "19d223d5",
   "metadata": {},
   "source": [
    "SELECT\n",
    "  summons_number,\n",
    "  plate_id,\n",
    "  plate_type\n",
    "FROM\n",
    "  parking_violation\n",
    "WHERE\n",
    "  -- Define the pattern to use for matching\n",
    "  plate_type NOT SIMILAR TO '[A-Z]{3}';"
   ]
  },
  {
   "cell_type": "raw",
   "id": "d78e8aa4",
   "metadata": {},
   "source": [
    "SELECT\n",
    "  summons_number,\n",
    "  plate_id,\n",
    "  vehicle_make\n",
    "FROM\n",
    "  parking_violation\n",
    "WHERE\n",
    "  -- Define the pattern to use for matching\n",
    "  vehicle_make NOT SIMILAR TO '.*[/\\sA-Z]+.*';"
   ]
  },
  {
   "cell_type": "markdown",
   "id": "2d217f11",
   "metadata": {},
   "source": [
    "Regular expressions can be really useful for defining complex patterns for matching in WHERE clauses. These examples only touch the surface of what is possible but show how these regular expression patterns can be used to identify invalid values. These invalid values can then be modified/updated after investigation of what an appropriate value should be. Tremendous job!"
   ]
  },
  {
   "cell_type": "markdown",
   "id": "e6d96289",
   "metadata": {},
   "source": [
    "## Identifying out-of-range vehicle model years\n",
    "\n",
    "Type constraints are useful for restricting the type of data that can be stored in a table column. However, there are limitations to how thoroughly these constraints can prevent invalid data from entering the column. Range constraints are useful when the goal is to identify column values that are included in a range of values or excluded from a range of values. Using type constraints when defining a table followed by checking column values with range constraints are a powerful approach to ensuring the integrity of data.\n",
    "\n",
    "In this exercise, you will use a BETWEEN clause to build a range constraint to identify invalid vehicle model years in the parking_violation table. Valid vehicle model years for this dataset are considered to be between 1970 and 2021.\n",
    "\n",
    "Instructions\n",
    "- Write a query that returns the summons_number, plate_id, and vehicle_year for records in the parking_violation table containing a vehicle_year outside of the range 1970-2021.\n"
   ]
  },
  {
   "cell_type": "raw",
   "id": "1f8c6a9d",
   "metadata": {},
   "source": [
    "SELECT\n",
    "  -- Define the columns to return from the query\n",
    "  summons_number,\n",
    "  plate_id,\n",
    "  vehicle_year\n",
    "FROM\n",
    "  parking_violation\n",
    "WHERE\n",
    "  -- Define the range constraint for invalid vehicle years\n",
    "  vehicle_year NOT BETWEEN 1970 AND 2021;"
   ]
  },
  {
   "cell_type": "markdown",
   "id": "c625ffd9",
   "metadata": {},
   "source": [
    "Awesome job! Range constraints when used on columns with proper types can be extremely useful in data cleaning efforts. You learned a number of ways to check that values are in the proper range. In a future chapter, you will learn how to convert between data types to ensure proper type constraint are in place so that range constraints can be used to detect invalid data."
   ]
  },
  {
   "cell_type": "markdown",
   "id": "5b794e4b",
   "metadata": {},
   "source": [
    "7 Detecting inconsistent data.mp4\n",
    "\n",
    "## Identifying invalid parking violations\n",
    "\n",
    "The parking_violation table has three columns populated by related time values. The from_hours_in_effect column indicates the start time when parking restrictions are enforced at the location where the violation occurred. The to_hours_in_effect column indicates the ending time for enforcement of parking restrictions. The violation_time indicates the time at which the violation was recorded. In order to ensure the validity of parking tickets, an audit is being performed to identify tickets given outside of the restricted parking hours.\n",
    "\n",
    "In this exercise, you will use the parking restriction time range defined by from_hours_in_effect and to_hours_in_effect to identify parking tickets with an invalid violation_time.\n",
    "\n",
    "Instructions 1/2\n",
    "- Complete the SELECT query to return the summons_number, violation_time, from_hours_in_effect, and to_hours_in_effect for violation_time values, in that order, outside of the restricted range."
   ]
  },
  {
   "cell_type": "raw",
   "id": "63f9643c",
   "metadata": {},
   "source": [
    "SELECT \n",
    "  -- Specify return columns\n",
    "  summons_number, \n",
    "  violation_time, \n",
    "  from_hours_in_effect, \n",
    "  to_hours_in_effect\n",
    "FROM \n",
    "  parking_violation \n",
    "WHERE \n",
    "  -- Condition on values outside of the restricted range\n",
    "  violation_time NOT BETWEEN from_hours_in_effect AND to_hours_in_effect;"
   ]
  },
  {
   "cell_type": "markdown",
   "id": "9b9acdeb",
   "metadata": {},
   "source": [
    "- Add a condition such that the returned records are those with from_hours_in_effect less than to_hours_in_effect ensuring only records without overnight restrictions are included."
   ]
  },
  {
   "cell_type": "raw",
   "id": "e838c514",
   "metadata": {},
   "source": [
    "SELECT \n",
    "  summons_number, \n",
    "  violation_time, \n",
    "  from_hours_in_effect, \n",
    "  to_hours_in_effect \n",
    "FROM \n",
    "  parking_violation \n",
    "WHERE \n",
    "  -- Exclude results with overnight restrictions \n",
    "  from_hours_in_effect < to_hours_in_effect AND \n",
    "  violation_time NOT BETWEEN from_hours_in_effect AND to_hours_in_effect;"
   ]
  },
  {
   "cell_type": "markdown",
   "id": "7c5dace8",
   "metadata": {},
   "source": [
    "Nicely done! Only 8 records have a violation_time recorded outside of the restricted parking times. However, the recipients of these violations will likely be happy to avoid paying the ticket. By using the from_hours_in_effect and to_hours_in_effect columns, you were able to identify invalid values in the violation_time column. However, only restrictions that do not occur overnight were included in this effort as the logic for identifying out of bounds violation_time values required considerinig only records with earlier from_hours_in_effect than to_hours_in_effect values due to these columns not containing date information. You would like to identify all invalid parking violations. You will get the remaining ones in the next exercise."
   ]
  },
  {
   "cell_type": "markdown",
   "id": "4880bd21",
   "metadata": {},
   "source": [
    "## Invalid violations with overnight parking restrictions\n",
    "\n",
    "In the previous exercise, you identified parking_violation records with violation_time values that were outside of the restricted parking times. The query for identifying these records was restricted to violations that occurred at locations without overnight restrictions. A modified query can be constructed to capture invalid violation times that include overnight parking restrictions. The parking violations in the dataset satisfying this criteria will be identified in this exercise.\n",
    "\n",
    "For example, this query will identify that a record with a from_hours_in_effect value of 10:00 PM, a to_hours_in_effect value of 10:00 AM, and a violation_time of 4:00 PM is an invalid record.\n",
    "\n",
    "Instructions\n",
    "- Add a condition to the SELECT query that ensures the returned records contain a from_hours_in_effect value that is greater than the to_hours_in_effect value.\n",
    "- Add a condition that ensures the violation_time is less than the from_hours_in_effect.\n",
    "- Add a condition that ensures the violation_time is greater than the to_hours_in_effect."
   ]
  },
  {
   "cell_type": "raw",
   "id": "e88f8bc0",
   "metadata": {},
   "source": [
    "SELECT\n",
    "  summons_number,\n",
    "  violation_time,\n",
    "  from_hours_in_effect,\n",
    "  to_hours_in_effect\n",
    "FROM\n",
    "  parking_violation\n",
    "WHERE\n",
    "  -- Ensure from hours greater than to hours\n",
    "  from_hours_in_effect > to_hours_in_effect AND\n",
    "  -- Ensure violation_time less than from hours\n",
    "  violation_time < from_hours_in_effect AND\n",
    "  -- Ensure violation_time greater than to hours\n",
    "  violation_time > to_hours_in_effect;"
   ]
  },
  {
   "cell_type": "raw",
   "id": "235a9e95",
   "metadata": {},
   "source": [
    "summons_number\tviolation_time\tfrom_hours_in_effect\tto_hours_in_effect\n",
    "1447435540\t07:10:00\t08:00:00\t07:00:00\n"
   ]
  },
  {
   "cell_type": "markdown",
   "id": "b5c24240",
   "metadata": {},
   "source": [
    "Combining the results from the query in this exercise with those of the previous exercise, you can identify every parking_violation that had a violation_time recorded outside of the restricted parking times. It should be clear from these exercises that identifying invalid column values based on a range defined by other columns requires careful thought. But you are developing the skills to clean data in such circumstances. Keep it up!"
   ]
  },
  {
   "cell_type": "markdown",
   "id": "cf6dc0aa",
   "metadata": {},
   "source": [
    "### Recovering deleted data\n",
    "\n",
    "While maintenance of the film permit data was taking place, a mishap occurred where the column storing the New York City borough was deleted. While the data was backed up the previous day, additional permit applications were processed between the time the backup was made and when the borough column was removed. In an attempt to recover the borough values while preserving the new data, you decide to use some data cleaning skills that you have learned to rectify the situation.\n",
    "\n",
    "Fortunately, a table mapping zip codes and boroughs is available (nyc_zip_codes). You will use the zip codes from the film_permit table to re-populate the borough column values. This will be done utilizing five sub-queries to specify which of the five boroughs to use in the new borough column.\n",
    "\n",
    "Instructions 1/3\n",
    "\n",
    "Question\n",
    "In the lesson on handling missing data, you learned how to categorize missing data. Before writing any code, can you identify what type of missing data this example represents?\n",
    "\n",
    "Possible Answers\n",
    "- Missing completely at random+\n",
    "- Missing at random\n",
    "\n",
    "Incorrect Submission\n",
    "Missing data at random refers to missing data where there is a systematic relationship between missing data and other observed values for the record.\n",
    "- Missing not at random\n",
    "\n",
    "Incorrect Submission\n",
    "Missing not at random refers to missing data where a systematic relationship between missing data and unobserved values for the record exists.\n"
   ]
  },
  {
   "cell_type": "markdown",
   "id": "59535419",
   "metadata": {},
   "source": [
    "- Define 1 subquery (of the 5) that will be used to select zip_codes from the nyc_zip_codes table that are in the borough of Manhattan."
   ]
  },
  {
   "cell_type": "raw",
   "id": "6ee7a513",
   "metadata": {},
   "source": [
    "-- Select all zip codes from the borough of Manhattan\n",
    "SELECT zip_code FROM nyc_zip_codes WHERE borough = 'Manhattan';"
   ]
  },
  {
   "cell_type": "markdown",
   "id": "aef8e575",
   "metadata": {},
   "source": [
    "- Complete the CASE statement sub-queries so that the borough column is populated by the correct borough name when the zip_code is matched.\n",
    "- Use NULL to indicate that the zip_code value is not associated to any borough for later investigation."
   ]
  },
  {
   "cell_type": "raw",
   "id": "59550875",
   "metadata": {},
   "source": [
    "SELECT\n",
    "\tevent_id,\n",
    "\tCASE \n",
    "      WHEN zip_code IN (SELECT zip_code FROM nyc_zip_codes WHERE borough = 'Manhattan') THEN 'Manhattan' \n",
    "      -- Match Brooklyn zip codes\n",
    "      WHEN zip_code IN (SELECT zip_code FROM nyc_zip_codes WHERE borough = 'Brooklyn') THEN 'Brooklyn'\n",
    "      -- Match Bronx zip codes\n",
    "      WHEN zip_code IN (SELECT zip_code FROM nyc_zip_codes WHERE borough = 'Bronx') THEN 'Bronx'\n",
    "      -- Match Queens zip codes\n",
    "      WHEN zip_code IN (SELECT zip_code FROM nyc_zip_codes WHERE borough = 'Queens') THEN 'Queens'\n",
    "      -- Match Staten Island zip codes\n",
    "      WHEN zip_code IN (SELECT zip_code FROM nyc_zip_codes WHERE borough = 'Staten Island') THEN 'Staten Island'\n",
    "      -- Use default for non-matching zip_code\n",
    "      ELSE NULL \n",
    "    END as borough\n",
    "FROM\n",
    "\tfilm_permit;\n",
    "\n",
    "\n",
    "--select * from nyc_zip_codes where zip_code = '186438';\n",
    "--select column_name,data_type from information_schema.columns where table_name = 'nyc_zip_codes';\n",
    "--select column_name,data_type from information_schema.columns where table_name = 'film_permit';"
   ]
  },
  {
   "cell_type": "markdown",
   "id": "88b057ad",
   "metadata": {},
   "source": [
    "Well done! In this exercise, you were able to re-populate missing data by matching other records and using an auxilary table. Invalid zip_code values were handled by using NULL borough values making an investigation of these values easier to manage in the future."
   ]
  },
  {
   "cell_type": "markdown",
   "id": "c7422a50",
   "metadata": {},
   "source": [
    "8 Data type conversions.mp4\n",
    "\n",
    "## Type conversion with a CASE clause\n",
    "\n",
    "One of the parking_violation attributes included for each record is the vehicle's location with respect to the street address of the violation. An 'F' value in the violation_in_front_of_or_opposite column indicates the vehicle was in front of the recorded address. A 'O' value indicates the vehicle was on the opposite side of the street. The column uses the TEXT type to represent the column values. The same information could be captured using a BOOLEAN (true/false) value which uses less memory.\n",
    "\n",
    "In this exercise, you will convert violation_in_front_of_or_opposite to a BOOLEAN column named is_violation_in_front using a CASE clause. This column is true for records that occur in front of the recorded address and false for records that occur opposite of the recorded address.\n",
    "\n",
    "Instructions\n",
    "- Include one case condition that sets the value of is_violation_in_front to true when the violation_in_front_of_or_opposite value is equal to 'F' for the record.\n",
    "- Include another case condition that sets the value of is_violation_in_front to false when the violation_in_front_of_or_opposite value is equal to 'O' for the record."
   ]
  },
  {
   "cell_type": "raw",
   "id": "e1754557",
   "metadata": {},
   "source": [
    "SELECT\n",
    "  CASE WHEN\n",
    "          -- Use true when column value is 'F'\n",
    "          violation_in_front_of_or_opposite = 'F' THEN TRUE\n",
    "       WHEN\n",
    "          -- Use false when column value is 'O'\n",
    "          violation_in_front_of_or_opposite = 'O' THEN FALSE\n",
    "       ELSE\n",
    "          NULL\n",
    "  END AS is_violation_in_front\n",
    "FROM\n",
    "  parking_violation;"
   ]
  },
  {
   "cell_type": "markdown",
   "id": "175e93d1",
   "metadata": {},
   "source": [
    "Nice work! This query demonstrates how the values of a new BOOLEAN column can be defined based on the value of a TEXT column. This allows the same information to be captured in the new column using a more memory efficient representation."
   ]
  },
  {
   "cell_type": "markdown",
   "id": "2dc9f5b7",
   "metadata": {},
   "source": [
    "## Applying aggregate functions to converted values\n",
    "\n",
    "As demonstrated in the video exercise, converting a column's value from TEXT to a number allows for calculations to be performed using aggregation functions. The summons_number is of type TEXT in the parking_violation dataset. The maximum (using MAX(summons_number)) and minimum (using MIN(summons_number)) of the TEXT representation summons_number can be calculated. If you, however, want to know the size of the range (max - min) of summon_number values , this calculation is not possible because the operation of subtraction on TEXT types is not defined. First, converting summons_number to a BIGINT will resolve this problem.\n",
    "\n",
    "In this exercise, you will calculate the size of the range of summons_number values as the difference between the maximum and minimum summons_number.\n",
    "\n",
    "Instructions\n",
    "- Define the range_size for summons_number as the difference between the maximum summons_number and the minimum of - the summons_number using the summons_number column after converting to the BIGINT type."
   ]
  },
  {
   "cell_type": "raw",
   "id": "b7185c8a",
   "metadata": {},
   "source": [
    "SELECT\n",
    "  -- Define the range_size from the max and min summons number\n",
    "  MAX(summons_number::bigint) - MIN(summons_number::bigint) AS range_size\n",
    "FROM\n",
    "  parking_violation;\n",
    "\n",
    "--select column_name,data_type from information_schema.columns where table_name = 'parking_violation';"
   ]
  },
  {
   "cell_type": "markdown",
   "id": "4b9fd8a6",
   "metadata": {},
   "source": [
    "Superb job! Ideally, the summons_number should be stored in the BIGINT format prior to performing any analysis on the parking_violation data. If this column or any other is not in the proper format and you do not have the ability to alter the format of such a column, the type conversion functionality of PostgreSQL can be prove useful."
   ]
  },
  {
   "cell_type": "markdown",
   "id": "8ff1916e",
   "metadata": {},
   "source": [
    "9 Date parsing and formatting.mp4\n",
    "\n",
    "## Cleaning invalid dates\n",
    "\n",
    "The date_first_observed column in the parking_violation dataset represents the date when the parking violation was first observed by the individual recording the violation. Unfortunately, not all date_first_observed values were recorded properly. Some records contain a '0' value for this column. A '0' value cannot be interpreted as a DATE automatically as its meaning in this context is ambiguous. The column values require cleaning to enable conversion to a proper DATE column.\n",
    "\n",
    "In this exercise, you will convert the date_first_observed value of records with a '0' date_first_observed value into NULL values using the NULLIF() function, so that the field can be represented as a proper date.\n",
    "\n",
    "Instructions 1/2\n",
    "- Replace '0' values in the date_first_observed using the NULLIF() function."
   ]
  },
  {
   "cell_type": "raw",
   "id": "17c86d3c",
   "metadata": {},
   "source": [
    "SELECT\n",
    "  -- Replace '0' with NULL\n",
    "  NULLIF(date_first_observed, '0') AS date_first_observed\n",
    "FROM\n",
    "  parking_violation;\n",
    "\n",
    "--https://www.postgresql.org/docs/12/functions-formatting.html"
   ]
  },
  {
   "cell_type": "markdown",
   "id": "b484f569",
   "metadata": {},
   "source": [
    "- Convert the TEXT values in the date_first_observed column (with NULL in place of '0') into DATE values."
   ]
  },
  {
   "cell_type": "raw",
   "id": "e95dd96b",
   "metadata": {},
   "source": [
    "SELECT\n",
    "  -- Convert date_first_observed into DATE\n",
    "  DATE(NULLIF(date_first_observed, '0')) AS date_first_observed\n",
    "FROM\n",
    "  parking_violation;"
   ]
  },
  {
   "cell_type": "markdown",
   "id": "ec069385",
   "metadata": {},
   "source": [
    "Date values can come in many different formats and PostgreSQL does a great job handling most of them. However, a value such as 0 which has no relationship to a date can still prove problematic. Here, you used the NULLIF() and DATE() functions to clean the date strings in the date_first_observed column to properly convert these string values into DATE values. Nicely done!"
   ]
  },
  {
   "cell_type": "markdown",
   "id": "48ea6eb1",
   "metadata": {},
   "source": [
    "## Converting and displaying dates\n",
    "\n",
    "The parking_violation dataset with which we have been working has two date columns where dates are represented in different formats: issue_date and date_first_observed. This is the case because these columns were imported into the database table as TEXT types. Using the DATE formatting approaches covered in the video exercise, it is possible to convert the dates from TEXT values into proper DATE columns and then output the dates in a consistent format.\n",
    "\n",
    "In this exercise, you will use DATE() to convert vehicle_expiration_date and issue_date into DATE types and TO_CHAR() to display each value in the YYYYMMDD format.\n",
    "\n",
    "Instructions 1/2\n",
    "- Convert the TEXT columns issue_date and date_first_observed to DATE types."
   ]
  },
  {
   "cell_type": "raw",
   "id": "18871397",
   "metadata": {},
   "source": [
    "SELECT\n",
    "  summons_number,\n",
    "  -- Convert issue_date to a DATE\n",
    "  DATE(issue_date) AS issue_date,\n",
    "  -- Convert date_first_observed to a DATE\n",
    "  DATE(date_first_observed) AS date_first_observed\n",
    "FROM\n",
    "  parking_violation;"
   ]
  },
  {
   "cell_type": "markdown",
   "id": "372017cb",
   "metadata": {},
   "source": [
    "- Use the TO_CHAR() function to display the issue_date and date_first_observed DATE columns in the YYYYMMDD format."
   ]
  },
  {
   "cell_type": "raw",
   "id": "69f11868",
   "metadata": {},
   "source": [
    "SELECT\n",
    "  summons_number,\n",
    "  -- Display issue_date using the YYYYMMDD format\n",
    "  TO_CHAR(issue_date, 'YYYYMMDD') AS issue_date,\n",
    "  -- Display date_first_observed using the YYYYMMDD format\n",
    "  TO_CHAR(date_first_observed, 'YYYYMMDD') AS date_first_observed\n",
    "FROM (\n",
    "  SELECT\n",
    "    summons_number,\n",
    "    DATE(issue_date) AS issue_date,\n",
    "    DATE(date_first_observed) AS date_first_observed\n",
    "  FROM\n",
    "    parking_violation\n",
    ") sub"
   ]
  },
  {
   "cell_type": "markdown",
   "id": "f35f96a0",
   "metadata": {},
   "source": [
    "Great job! You used the DATE() and TO_CHAR() functions to first convert TEXT values to DATE values and then displayed these values in the specified YYYYMMDD format. There is a tremendous amount of flexibility in interpreting and outputting dates in PostgreSQL. What we have covered will provide you with the foundation for using this functionality."
   ]
  },
  {
   "cell_type": "markdown",
   "id": "8ea220e3",
   "metadata": {},
   "source": [
    "10 Timestamp parsing and formatting.mp4\n",
    "\n",
    "## Extracting hours from a time value\n",
    "\n",
    "Your team has been tasked with generating a summary report to better understand the hour of the day when most parking violations are occurring. The violation_time field has been imported into the database using strings consisting of the hour (in 12-hour format), the minutes, and AM/PM designation for each violation. An example time stored in this field is '1225AM'. Note the lack of a colon and space in this format.\n",
    "\n",
    "Use the TO_TIMESTAMP() function and the proper format string to convert the violation_time into a TIMESTAMP, extract the hour from the TIME component of this TIMESTAMP, and provide a count of all parking violations by hour issued. The given conversion to a TIME value is performed because violation_time values do not include date information.\n",
    "\n",
    "Instructions 1/2\n",
    "- Convert violation_time to a TIMESTAMP using the TO_TIMESTAMP() function and a format string including 12-hour format (HH12), minutes (MI), and meridian indicator (AM or PM). ::TIME converts the resulting timestamp value to a TIME.\n",
    "- Exclude records with a NULL-valued violation_time."
   ]
  },
  {
   "cell_type": "raw",
   "id": "d2bd2398",
   "metadata": {},
   "source": [
    "SELECT\n",
    "  -- Convert violation_time to a TIMESTAMP\n",
    "  violation_time,\n",
    "  TO_TIMESTAMP(violation_time, 'HH12MIAM')::TIME AS violation_time\n",
    "FROM\n",
    "  parking_violation\n",
    "WHERE\n",
    "  -- Exclude NULL violation_time\n",
    "  violation_time IS NOT NULL;"
   ]
  },
  {
   "cell_type": "raw",
   "id": "ea367f5f",
   "metadata": {},
   "source": [
    "violation_time\tviolation_time\n",
    "0301PM\t15:01:00\n",
    "0845PM\t20:45:00\n",
    "1030PM\t22:30:00\n",
    "0519PM\t17:19:00\n",
    "0311AM\t03:11:00"
   ]
  },
  {
   "cell_type": "markdown",
   "id": "efdf1480",
   "metadata": {},
   "source": [
    "- Use the EXTRACT() function to complete the query such that the first column of the resulting records is populated by the hour of the violation_time."
   ]
  },
  {
   "cell_type": "raw",
   "id": "16026678",
   "metadata": {},
   "source": [
    "SELECT\n",
    "  -- Populate column with violation_time hours\n",
    "  EXTRACT(hour FROM violation_time) AS hour,\n",
    "  COUNT(*)\n",
    "FROM (\n",
    "    SELECT\n",
    "      TO_TIMESTAMP(violation_time, 'HH12MIPM')::TIME as violation_time\n",
    "    FROM\n",
    "      parking_violation\n",
    "    WHERE\n",
    "      violation_time IS NOT NULL\n",
    ") sub\n",
    "GROUP BY\n",
    "  hour\n",
    "ORDER BY\n",
    "  hour"
   ]
  },
  {
   "cell_type": "raw",
   "id": "dfd25d59",
   "metadata": {},
   "source": [
    "hour\tcount\n",
    "0\t181\n",
    "1\t243\n",
    "2\t214\n",
    "3\t149\n",
    "4\t151\n",
    "5\t122\n",
    "..."
   ]
  },
  {
   "cell_type": "raw",
   "id": "62c09bee",
   "metadata": {},
   "source": [
    "SELECT count(*) FROM parking_violation WHERE violation_time IS NULL;\n",
    "\n",
    "-- Result\n",
    "count\n",
    "6"
   ]
  },
  {
   "cell_type": "markdown",
   "id": "4bb6cf9d",
   "metadata": {},
   "source": [
    "Excellent job! You were able to extract the hour from the violation_time column to create the desired summary report. This analysis was enabled by converting the violation_time to its proper representation using TO_TIMESTAMP()."
   ]
  },
  {
   "cell_type": "markdown",
   "id": "7507b57f",
   "metadata": {},
   "source": [
    "## A parking violation report by day of the month\n",
    "\n",
    "Hearing anecdotal evidence that parking tickets are more likely to be given out at the end of the month compared to during the month, you have been tasked with preparing data to get a sense of the distribution of tickets by day of the month. While the date on which the violation occurred is included in the parking_violation dataset, it is currently represented as a string date. While this presents an obstacle for producing the data required, you feel confident in your ability to get the data in the format that you need.\n",
    "\n",
    "In this exercise, you will convert the strings representing the issue_date into proper PostgreSQL DATE values. From this representation of the data, you will extract the day of the month required to produce the distribution of violations by month day.\n",
    "\n",
    "Instructions 1/2\n",
    "- Use one of the techniques introduced in this chapter to convert a string representing a date into a PostgreSQL DATE to convert issue_date into a DATE value."
   ]
  },
  {
   "cell_type": "raw",
   "id": "31dbb880",
   "metadata": {},
   "source": [
    "SELECT\n",
    "  -- Convert issue_date to a DATE value\n",
    "  DATE(issue_date) AS issue_date\n",
    "FROM\n",
    "  parking_violation;"
   ]
  },
  {
   "cell_type": "markdown",
   "id": "ba6cdb53",
   "metadata": {},
   "source": [
    "- Extract the day from each issue_date returned by the subquery to create a column named issue_day.\n",
    "- Include a second column providing the count for every day in which a violation occurred."
   ]
  },
  {
   "cell_type": "raw",
   "id": "dea71cfd",
   "metadata": {},
   "source": [
    "SELECT\n",
    "  -- Create issue_day from the day value of issue_date\n",
    "  EXTRACT(day from issue_date) AS issue_day,\n",
    "  -- Include the count of violations for each day\n",
    "  COUNT(*)\n",
    "FROM (\n",
    "  SELECT\n",
    "    -- Convert issue_date to a `DATE` value\n",
    "    DATE(issue_date) AS issue_date\n",
    "  FROM\n",
    "    parking_violation\n",
    ") sub\n",
    "GROUP BY\n",
    "  issue_day\n",
    "ORDER BY\n",
    "  issue_day;"
   ]
  },
  {
   "cell_type": "raw",
   "id": "a3e1f29f",
   "metadata": {},
   "source": [
    "issue_day\tcount\n",
    "1\t153\n",
    "2\t161\n",
    "3\t154\n",
    "4\t198\n",
    "5\t205\n",
    "..."
   ]
  },
  {
   "cell_type": "markdown",
   "id": "5bd80939",
   "metadata": {},
   "source": [
    "The process of converting the string representation of a date into a DATE value and extracting the day of the month for each violation was used to create a distribution of days on which violations occur. These results and the general process can be used to perform an analysis on the data to determine if the issuing of parking tickets is concentrated at the end of the month. The query results do indeed show that there are more violations closer to the end of the month. Well done!"
   ]
  },
  {
   "cell_type": "markdown",
   "id": "731ac20e",
   "metadata": {},
   "source": [
    "## Risky parking behavior\n",
    "\n",
    "The parking_violation table contains many parking violation details. However, it's unclear what causes an individual to violate parking restrictions. One hypothesis is that violators attempt to park in restricted areas just before the parking restrictions end. You have been asked to investigate this phenomenon. You first need to contend with the fact that times in the parking_violation table are represented as strings.\n",
    "\n",
    "In this exercise, you will convert violation_time, and to_hours_in_effect to TIMESTAMP values for violations that took place in locations with partial day restrictions, calculate the interval between the violation_time and to_hours_in_effect for these records, and identify the records where the violation_time is less than 1 hour before to_hours_in_effect.\n",
    "\n",
    "Instructions 1/3\n",
    "- Convert violation_time and to_hours_in_effect to TIMESTAMP values using TO_TIMESTAMP() and the appropriate format string. ::TIME converts the value to a TIME.\n",
    "- Exclude locations having both a from_hours_in_effect value of 1200AM and a to_hours_in_effect value of 1159PM."
   ]
  },
  {
   "cell_type": "raw",
   "id": "7d99c6d5",
   "metadata": {},
   "source": [
    "SELECT\n",
    "  summons_number,\n",
    "  -- Convert violation_time to a TIMESTAMP\n",
    "  TO_TIMESTAMP(violation_time, 'HH12MIPM')::TIME as violation_time,\n",
    "  -- Convert to_hours_in_effect to a TIMESTAMP\n",
    "  TO_TIMESTAMP(to_hours_in_effect, 'HH12MIPM')::TIME as to_hours_in_effect\n",
    "FROM\n",
    "  parking_violation\n",
    "WHERE\n",
    "  -- Exclude all day parking restrictions\n",
    "  NOT (from_hours_in_effect = '1200AM' AND to_hours_in_effect = '1159PM');\n",
    "  \n",
    "-- Result \n",
    "summons_number\tviolation_time\tto_hours_in_effect\n",
    "1447636478\t16:56:00\t23:59:00\n",
    "1447717879\t09:05:00\t23:59:00\n",
    "1448286669\t19:23:00\t23:59:00\n",
    "1449140609\t18:05:00\t23:59:00"
   ]
  },
  {
   "cell_type": "raw",
   "id": "2f475274",
   "metadata": {},
   "source": [
    " SELECT CONCAT(from_hours_in_effect,' - ',to_hours_in_effect) AS time_range, COUNT(*) AS n\n",
    "  FROM parking_violation\n",
    "  GROUP BY CONCAT(from_hours_in_effect,' - ',to_hours_in_effect)\n",
    "  ORDER BY count(*) DESC;\n",
    "\n",
    "-- Result\n",
    "time_range\tn\n",
    "ALL - 1159PM\t4324\n",
    "0700A - 0700PM\t107\n",
    "1100A - 1230PM\t48\n",
    "0900A - 1030AM\t39\n",
    "1130A - 0100PM\t38\n",
    "0830A - 1000AM\t36"
   ]
  },
  {
   "cell_type": "markdown",
   "id": "f6dd208b",
   "metadata": {},
   "source": [
    "- Use the EXTRACT() function to create two columns representing the number of hours and minutes, respectively, between violation_time and to_hours_in_effect."
   ]
  },
  {
   "cell_type": "raw",
   "id": "d2be22b2",
   "metadata": {},
   "source": [
    "SELECT\n",
    "  summons_number,\n",
    "  violation_time,\n",
    "  to_hours_in_effect,\n",
    "  -- Create column for hours between to_hours_in_effect and violation_time\n",
    "  EXTRACT(hour FROM to_hours_in_effect - violation_time) AS hours,\n",
    "  -- Create column for minutes between to_hours_in_effect and violation_time\n",
    "  EXTRACT(minute FROM to_hours_in_effect - violation_time) AS minutes,\n",
    "  EXTRACT(hour FROM to_hours_in_effect - violation_time) * 60 + EXTRACT(minute FROM to_hours_in_effect - violation_time) as diff_min_1,\n",
    "  date_part('minute',to_hours_in_effect - violation_time) as diff_min_2,\n",
    "  to_hours_in_effect - violation_time diff_min_3,\n",
    "  ROUND(EXTRACT(epoch FROM to_hours_in_effect - violation_time) / 60,2) as diff_min_4\n",
    "FROM (\n",
    "  SELECT\n",
    "    summons_number,\n",
    "    TO_TIMESTAMP(violation_time, 'HH12MIPM')::time as violation_time,\n",
    "    TO_TIMESTAMP(to_hours_in_effect, 'HH12MIPM')::time as to_hours_in_effect\n",
    "  FROM\n",
    "    parking_violation\n",
    "  WHERE\n",
    "    NOT (from_hours_in_effect = '1200AM' AND to_hours_in_effect = '1159PM')\n",
    ") sub\n",
    "\n",
    "-- Result\n",
    "summons_number\tviolation_time\tto_hours_in_effect\thours\tminutes\tdiff_min_1\tdiff_min_2\tdiff_min_3\tdiff_min_4\n",
    "1447636478\t16:56:00\t23:59:00\t7\t3\t423\t3\t7:03:00\t423.00\n",
    "1447717879\t09:05:00\t23:59:00\t14\t54\t894\t54\t14:54:00\t894.00\n",
    "1448286669\t19:23:00\t23:59:00\t4\t36\t276\t36\t4:36:00\t276.00\n",
    "1449140609\t18:05:00\t23:59:00\t5\t54\t354\t54\t5:54:00\t354.00\n"
   ]
  },
  {
   "cell_type": "markdown",
   "id": "590d9d29",
   "metadata": {},
   "source": [
    "- The previous query results are stored in a table named time_differences which contains the columns hours and minutes. Count the number of violation_time values that are within 0 hours and 59 minutes of the record's to_hours_in_effect value."
   ]
  },
  {
   "cell_type": "raw",
   "id": "8b4d864f",
   "metadata": {},
   "source": [
    "SELECT\n",
    "  -- Return the count of records\n",
    "  count(*)\n",
    "FROM\n",
    "  time_differences\n",
    "WHERE\n",
    "  -- Include records with a hours value of 0\n",
    "  hours = 0 AND\n",
    "  -- Include records with a minutes value of at most 59\n",
    "  minutes <= 59;\n",
    "\n",
    "-- Result\n",
    "count\n",
    "322"
   ]
  },
  {
   "cell_type": "markdown",
   "id": "d62c67a3",
   "metadata": {},
   "source": [
    "It turns out that out of 638 violations, 195 occurred within 1 hour of the lifting of parking restrictions. Additional analysis is required to determine the validity of the hypothesis that a large driver of violations are attempts to use restricted parking close to the ending of the restricted time. However, the foundational data cleaning required to do the analysis was put in place during this exercise. Great work on this chapter!"
   ]
  },
  {
   "cell_type": "markdown",
   "id": "1f32b562",
   "metadata": {},
   "source": [
    "11 Combining columns.mp4\n",
    "\n",
    "## Tallying corner parking violations\n",
    "\n",
    "The parking_violation table has two columns (street_name and intersecting_street) with New York City streets. When the values for both columns are not NULL, this indicates that the violation occurred on a corner where two streets intersect. In an effort to identify street corners that tend to be the location of frequent parking violations, you have been tasked with identifying which violations occurred on a street corner and the total number of violations at each corner.\n",
    "\n",
    "In this exercise, you will concatenate the street_name and intersecting_street columns to create a new corner column. Then all parking violations occurring at a corner will be tallied by a SQL query.\n",
    "\n",
    "Instructions 1/2\n",
    "- Combine street_name, ' & ' (an ampersand surrounded by two spaces), and intersecting_street to create a column named corner. Write the query such that records without an intersecting_street value have NULL column entries."
   ]
  },
  {
   "cell_type": "raw",
   "id": "80f71e05",
   "metadata": {},
   "source": [
    "SELECT\n",
    "  -- Combine street_name, ' & ', and intersecting_street\n",
    "  street_name,\n",
    "  intersecting_street,\n",
    "  CONCAT(street_name, ' & ', intersecting_street) AS corner1,\n",
    "  CASE WHEN intersecting_street IS NULL THEN NULL ELSE CONCAT(street_name, ' & ', intersecting_street) END AS corner2,\n",
    "  street_name || ' & ' || intersecting_street AS corner3 --AK: returns NULL when one of the components in NULL\n",
    "FROM\n",
    "  parking_violation;\n",
    "    \n",
    "-- Result\n",
    "intersecting_street\tcorner1\tcorner2\tcorner3\n",
    "OLD BROADWAY\tnull\tOLD BROADWAY & \tnull\tnull\n",
    "...\n",
    "GOLD STREET\tnull\tGOLD STREET & \tnull\tnull\n",
    "GOLD STREET\tnull\tGOLD STREET & \tnull\tnull\n",
    "FRANK FORT STREET\tGOLD\tFRANK FORT STREET & GOLD\tFRANK FORT STREET & GOLD\tFRANK FORT STREET & GOLD\n",
    "GOLD STREET OPPOSITE\tnull\tGOLD STREET OPPOSITE & \tnull\tnull\n",
    "FRANKFORT STREET\tGOLD STREET\tFRANKFORT STREET & GOLD STREET\tFRANKFORT STREET & GOLD STREET\tFRANKFORT STREET & GOLD STREET\n",
    "GOLD STREET\tnull\tGOLD STREET & \tnull\tnull\n",
    "..."
   ]
  },
  {
   "cell_type": "markdown",
   "id": "2facefab",
   "metadata": {},
   "source": [
    "- Use the corner query that you just completed to generate a column with the corner value and a second column with the total number of violations occurring at each corner.\n",
    "- Exclude corner values that are NULL."
   ]
  },
  {
   "cell_type": "raw",
   "id": "9df6ced3",
   "metadata": {},
   "source": [
    "SELECT\n",
    "  -- include the corner in results\n",
    "  corner,\n",
    "  -- include the total number of violations occurring at corner\n",
    "  COUNT(*)\n",
    "FROM (\n",
    "  SELECT\n",
    "    -- concatenate street_name, ' & ', and intersecting_street\n",
    "    street_name || ' & ' || intersecting_street AS corner\n",
    "  FROM\n",
    "    parking_violation\n",
    ") sub\n",
    "WHERE\n",
    "  -- exclude corner values that are NULL\n",
    "  corner IS NOT NULL\n",
    "GROUP BY\n",
    "  corner\n",
    "ORDER BY\n",
    "  count DESC\n",
    "  \n",
    "-- Result\n",
    "corner\tcount\n",
    "RIVERBANK STATE PARK & LOWER LEVEL\t10\n",
    "FR CAPODANNO BLVD & SAND LN\t7\n",
    "JACOB RIIS PARK & EAST PARKING LOT\t6\n",
    "ROCKAWAY BEACH & SHORE FRONT PKWY\t5\n",
    "BRUCKNER BLVD & WILKINSON AVE\t5\n",
    "CROTONA & CLAREMONT PKWY\t5"
   ]
  },
  {
   "cell_type": "markdown",
   "id": "30003e9d",
   "metadata": {},
   "source": [
    "It is often the case that the data that we need to perform some analysis is spread across two or more columns. The string concatenation functionality in PostgreSQL enables these column values to be combined. String concatenation was used in this example to identify violations occurring at street corners and to tabulate the number of violations that list the same corner. Nicely done!"
   ]
  },
  {
   "cell_type": "markdown",
   "id": "6ca16cfa",
   "metadata": {},
   "source": [
    "## Creating a TIMESTAMP with concatenation\n",
    "\n",
    "In a previous exercise, the violation_time column in the parking_violation table was used to check that the recorded violation_time is within the violation location's restricted times. This presented a challenge in cases where restricted parking took place overnight because, for these records, the from_hours_in_effect time is later than the to_hours_in_effect time. This issue could be eliminated by including a date in addition to the time of a violation.\n",
    "\n",
    "In this exercise, you will begin the process of simplifying the identification of overnight violations through the creation of the violation_datetime column populated with TIMESTAMP values. This will be accomplished by concatenating issue_date and violation_time and converting the resulting strings to TIMESTAMP values.\n",
    "\n",
    "Instructions 1/2\n",
    "- Concatenate the issue_date column, a space character (' '), and the violation_time column to create a violation_datetime column in the query results."
   ]
  },
  {
   "cell_type": "raw",
   "id": "c060ab6b",
   "metadata": {},
   "source": [
    "SELECT\n",
    "  -- Concatenate issue_date and violation_time columns\n",
    "  issue_date,\n",
    "  violation_time,\n",
    "  CONCAT(issue_date, ' ', violation_time) AS violation_datetime\n",
    "FROM\n",
    "  parking_violation;\n",
    "  \n",
    "-- Result\n",
    "issue_date\tviolation_time\tviolation_datetime\n",
    "06/20/2019\t0301PM\t06/20/2019 0301PM\n",
    "07/16/2019\t0953AM\t07/16/2019 0953AM\n",
    "06/14/2019\t0519PM\t06/14/2019 0519PM"
   ]
  },
  {
   "cell_type": "markdown",
   "id": "5ca0f7e9",
   "metadata": {},
   "source": [
    "- Complete the query so that the violation_datetime strings returned by the subquery are converted into proper TIMESTAMP values using the format string MM/DD/YYYY HH12MIAM."
   ]
  },
  {
   "cell_type": "raw",
   "id": "330fa982",
   "metadata": {},
   "source": [
    "SELECT\n",
    "  -- Convert violation_time to TIMESTAMP\n",
    "  TO_TIMESTAMP(violation_datetime, 'MM/DD/YYYY HH12MIAM') AS violation_datetime\n",
    "FROM (\n",
    "  SELECT\n",
    "    CONCAT(issue_date, ' ', violation_time) AS violation_datetime\n",
    "  FROM\n",
    "    parking_violation\n",
    ") sub;\n",
    "\n",
    "-- Result\n",
    "violation_datetime\n",
    "2019-06-20 15:01:00+02:00\n",
    "2019-07-16 09:53:00+02:00\n",
    "2019-06-14 17:19:00+02:00"
   ]
  },
  {
   "cell_type": "markdown",
   "id": "7cadb0d6",
   "metadata": {},
   "source": [
    "Concatenation of date and time values can be used to construct complete TIMESTAMP values. This enables the full functionality of the TIMESTAMP column, which would not be available for each component column on its own. After creating the violation_datetime column, the process of distinguishing overnight parking restrictions from those just in effect during the day would be simplified. Great job!"
   ]
  },
  {
   "cell_type": "markdown",
   "id": "b591e4f3",
   "metadata": {},
   "source": [
    "12 Splitting column data.mp4\n",
    "\n",
    "## Extracting time units with SUBSTRING()\n",
    "\n",
    "In a previous exercise, you separated the interval between the violation_time and to_hours_in_effect columns into their constituent hour and minute time units. Some pre-cleaning of these values was done behind the scenes to make the values more amenable for conversion because of inconsistencies in the recording of these values. The functions explored in this lesson provide an approach to extract values from strings.\n",
    "\n",
    "In this exercise, you will use SUBSTRING() to extract the hour and minute units from time strings. This is an alternative approach to extracting time units removing the need to convert the string to a TIMESTAMP value to extract the time unit as was done previously.\n",
    "\n",
    "Instructions 1/2\n",
    "- Define the hour column as the substring starting at the 1st position in violation_time and extending 2 characters in length."
   ]
  },
  {
   "cell_type": "raw",
   "id": "07dfa26d",
   "metadata": {},
   "source": [
    "SELECT\n",
    "  -- Define hour column\n",
    "  violation_time,\n",
    "  REGEXP_REPLACE(violation_time,'(\\d{4}[AP]{1})','\\1M'),\n",
    "  --EXTRACT(hour from TO_TIMESTAMP(REGEXP_REPLACE(violation_time,'(\\d{4}[AP]{1})','\\1M'),'HH12MIAM')) as hour1,\n",
    "  SUBSTRING(violation_time FROM 1 FOR 2) AS hour2\n",
    "FROM\n",
    "  parking_violation;\n",
    "  \n",
    "-- Result\n",
    "violation_time\tregexp_replace\thour2\n",
    "1000A\t1000AM\t10\n",
    "1011A\t1011AM\t10\n",
    "0107A\t0107AM\t01"
   ]
  },
  {
   "cell_type": "markdown",
   "id": "aa240b14",
   "metadata": {},
   "source": [
    "- Add a definition for the minute column in the results as the substring starting at the 3rd position in violation_time and extending 2 characters in length."
   ]
  },
  {
   "cell_type": "raw",
   "id": "4650ccb9",
   "metadata": {},
   "source": [
    "SELECT\n",
    "  violation_time,\n",
    "  SUBSTRING(violation_time FROM 1 FOR 2) AS hour,\n",
    "  -- Define minute column\n",
    "  SUBSTRING(violation_time FROM 3 FOR 2) AS minute\n",
    "FROM\n",
    "  parking_violation;\n",
    "    \n",
    "-- Result\n",
    "violation_time\thour\tminute\n",
    "1000A\t10\t00\n",
    "1011A\t10\t11\n",
    "0107A\t01\t07"
   ]
  },
  {
   "cell_type": "markdown",
   "id": "b5ad2e83",
   "metadata": {},
   "source": [
    "While there are often valid reasons for converting a string containing a time value into a TIMESTAMP, if the goal is simply to extract time units from the string, SUBSTRING() provides an alternative approach. Here the hour and minute units were extracted from violation_time without the need to pre-process the strings to conform to a specific TIMESTAMP pattern. From here, the units could be presented with their counts or converted to INTEGER values for use in calculations. Well done!"
   ]
  },
  {
   "cell_type": "markdown",
   "id": "221e73c2",
   "metadata": {},
   "source": [
    "## Extracting house numbers from a string\n",
    "\n",
    "Addresses for the Queens borough of New York City are unique in that they often include dashes in the house number component of the street address. For example, for the address 86-16 60 Ave, the house number is 16, and 86 refers to the closest cross street. Therefore, if we want the house_number to strictly represent the house number where a parking violation occurred, we need to extract the digits after the dash (-) to represent this value.\n",
    "\n",
    "In this exercise, you will use STRPOS(), SUBSTRING(), and LENGTH() to extract the specific house number from Queens street addresses.\n",
    "\n",
    "Instructions 1/2\n",
    "- Write a query that returns the position in the house_number column where the first dash character (-) location is found or 0 if the house_number does not contain a dash (-)."
   ]
  },
  {
   "cell_type": "raw",
   "id": "7aa137b7",
   "metadata": {},
   "source": [
    "SELECT\n",
    "  house_number,\n",
    "  -- Find the position of first '-'\n",
    "  STRPOS(house_number, '-') AS dash_position\n",
    "FROM\n",
    "  parking_violation\n",
    "WHERE house_number LIKE '%-%';\n",
    "\n",
    "-- Result\n",
    "house_number\tdash_position\n",
    "16-12\t3\n",
    "4376-4380\t5\n",
    "62-16\t3\n",
    "102-32\t4"
   ]
  },
  {
   "cell_type": "markdown",
   "id": "93eacf57",
   "metadata": {},
   "source": [
    "- Complete the query such that new_house_number contains just the Queens house number. The house number begins 1 position beyond the position containing a dash (-) and extends to the end of the original house_number value."
   ]
  },
  {
   "cell_type": "raw",
   "id": "41f33979",
   "metadata": {},
   "source": [
    "SELECT\n",
    "  house_number,\n",
    "  -- Extract the substring after '-'\n",
    "  SUBSTRING(\n",
    "    -- Specify the column of the original house number\n",
    "    house_number\n",
    "    -- Calculate the position that is 1 beyond '-'\n",
    "    FROM STRPOS(house_number, '-') + 1\n",
    "    -- Calculate number characters from dash to end of string\n",
    "    FOR LENGTH(house_number) - STRPOS(house_number, '-')\n",
    "  ) AS new_house_number\n",
    "FROM\n",
    "  parking_violation\n",
    "WHERE house_number LIKE '%-%';\n",
    "\n",
    "-- Result\n",
    "house_number\tnew_house_number\n",
    "16-12\t12\n",
    "4376-4380\t4380\n",
    "62-16\t16"
   ]
  },
  {
   "cell_type": "markdown",
   "id": "6afc9016",
   "metadata": {},
   "source": [
    "Great job! Using a combination of STRPOS(), SUBSTRING(), and LENGTH(), we can extract the component of the house_number string for Queens addresses. This approach is a general way that string values can be separated into multiple columns based on positional specifications to the SUBSTRING() function. However, because the string contains a delimiter (the dash, -) there is a more straightforward approach to accomplishing the same transformation as we will see in an upcoming exercise."
   ]
  },
  {
   "cell_type": "markdown",
   "id": "432e2dff",
   "metadata": {},
   "source": [
    "13 Splitting data with delimiters.mp4\n",
    "\n",
    "## Splitting house numbers with a delimiter\n",
    "\n",
    "In the previous exercise, you used STRPOS(), LENGTH(), and SUBSTRING() to separate the actual house number for Queens addresses from the value representing a cross street. In the video exercise, you learned how strings can be split into parts based on a delimiter string value.\n",
    "\n",
    "In this exercise, you will extract the house number for Queens addresses using the SPLIT_PART() function.\n",
    "\n",
    "Instructions\n",
    "- Write a query that returns the part of the house_number value after the dash character ('-') (if a dash character is present in the column value) as the column new_house_number."
   ]
  },
  {
   "cell_type": "raw",
   "id": "23d8ec65",
   "metadata": {},
   "source": [
    "SELECT\n",
    "  -- Split house_number using '-' as the delimiter\n",
    "  house_number,\n",
    "  SPLIT_PART(house_number, '-', 2) AS new_house_number\n",
    "FROM\n",
    "  parking_violation\n",
    "WHERE\n",
    "  violation_county = 'Q';\n",
    "    \n",
    "--Result\n",
    "house_number\tnew_house_number\n",
    "62-16\t16\n",
    "102-32\t32\n",
    "6517\t\n",
    "null\tnull\n",
    "14-29\t29"
   ]
  },
  {
   "cell_type": "markdown",
   "id": "a15e363b",
   "metadata": {},
   "source": [
    "## Mapping parking restrictions\n",
    "\n",
    "You are interested in building a mobile parking recommendation app for New York City. The goal is to use the parking_violation dataset to map parking restrictions to a driver's location. Parking restrictions are stored in the days_parking_in_effect column in a format that consists of a string of 7 characters. Each position in the string represents a day of the week (Monday-Sunday). A B indicates parking is restricted and a Y indicates parking is allowed. A colleague has organized the data from parking_violation by creating a table named parking_restrictions, which includes the street_address, violation_county, and days_parking_in_effect.\n",
    "\n",
    "In this exercise, you will use REGEXP_SPLIT_TO_TABLE() and ROW_NUMBER() to associate each street address to its parking availability.\n",
    "\n",
    "Instructions 1/2\n",
    "- Use REGEXP_SPLIT_TO_TABLE() with the empty-string ('') as a delimiter to split days_parking_in_effect into a single availability symbol (B or Y).\n",
    "- Include street_address and violation_county as columns so that each row contains these associated values."
   ]
  },
  {
   "cell_type": "raw",
   "id": "f8b6ebc8",
   "metadata": {},
   "source": [
    "SELECT\n",
    "  -- Specify SELECT list columns\n",
    "  street_address,\n",
    "  violation_county,\n",
    "  REGEXP_SPLIT_TO_TABLE(days_parking_in_effect, '') AS daily_parking_restriction\n",
    "FROM\n",
    "  parking_restriction;\n",
    "    \n",
    "--Source\n",
    "street_address\tviolation_county\tdays_parking_in_effect\n",
    "545 W 126 STREET\tNY\tBBBBBBB\n",
    "341 ST NICHOLAS AVENUE\tNY\tBBBBBBB\n",
    "--Result\n",
    "street_address\tviolation_county\tdaily_parking_restriction\n",
    "545 W 126 STREET\tNY\tB\n",
    "545 W 126 STREET\tNY\tB\n",
    "545 W 126 STREET\tNY\tB\n",
    "545 W 126 STREET\tNY\tB"
   ]
  },
  {
   "cell_type": "markdown",
   "id": "4233443f",
   "metadata": {},
   "source": [
    "## Using FILTER to create a pivot table\n",
    "\n",
    "In the previous exercise, you wrote a query that provided information on the number of parking violations (by their numerical code) issued by each of four agencies. The results contained all of the desired information but were presented in a format that included a duplicate display of each violation_code up to four times (for every issuing_agency selected) in the results. A more compact representation of the same data can be achieved through the creation of a pivot table.\n",
    "\n",
    "In this exercise, you will write a query using the FILTER clause to produce results in a pivot table format. This improved presentation of the data can more easily be used in the report for parking violations issued by each of the four agencies of interest.\n",
    "\n",
    "Instructions\n",
    "- Define the Police column as the number of records for each violation_code with an issuing_agency value of P.\n",
    "- Define the Sanitation column as the number of records for each violation_code with an issuing_agency value of S.\n",
    "- Define the Parks column as the number of records for each violation_code with an issuing_agency value of K.\n",
    "- Define the Transportation column as the number of records for each violation_code with an issuing_agency value of V."
   ]
  },
  {
   "cell_type": "raw",
   "id": "aba26173",
   "metadata": {},
   "source": [
    "SELECT \n",
    "\tviolation_code, \n",
    "    -- Define the \"Police\" column\n",
    "\tCOUNT(issuing_agency) FILTER (WHERE issuing_agency = 'P') AS \"Police\",\n",
    "    -- Define the \"Sanitation\" column\n",
    "\tCOUNT(issuing_agency) FILTER (WHERE issuing_agency = 'S') AS \"Sanitation\",\n",
    "    -- Define the \"Parks\" column\n",
    "\tCOUNT(issuing_agency) FILTER (WHERE issuing_agency = 'K') AS \"Parks\",\n",
    "    -- Define the \"Transportation\" column\n",
    "\tCOUNT(issuing_agency) FILTER (WHERE issuing_agency = 'V') AS \"Transportation\"\n",
    "FROM \n",
    "\tparking_violation \n",
    "GROUP BY \n",
    "\tviolation_code\n",
    "ORDER BY \n",
    "\tviolation_code\n",
    "    \n",
    "--Results\n",
    "violation_code\tPolice\tSanitation\tParks\tTransportation\n",
    "4\t2\t0\t0\t0\n",
    "5\t0\t0\t0\t15\n",
    "6\t3\t0\t0\t0\n",
    "9\t4\t1\t1\t0"
   ]
  },
  {
   "cell_type": "markdown",
   "id": "c2aa3083",
   "metadata": {},
   "source": [
    "## Aggregating film categories\n",
    "\n",
    "For the final exercise in this course, let's return to the film_permit table. It contains a community_board TEXT column composed of a comma-separated list of integers. There is interest in doing an analysis of the types of film permits that are being provided for each community board. However, the representation of community boards (INTEGERs in a TEXT column) makes this difficult. By using techniques learned in this chapter, the data can be transformed to allow for such an analysis.\n",
    "\n",
    "In this exercise, you will first create a (temporary) VIEW that represents the community_board values individually for two permit categories. A VIEW is a named query that can be used like a TABLE once created. You will use this VIEW in a subquery for aggregating the results in a pivot table.\n",
    "\n",
    "Instructions 1/2\n",
    "- Use REGEXP_SPLIT_TO_TABLE() to split community_board into multiple rows using a comma (',') followed by a space character (' ') as the 2-character delimiter.\n",
    "- Restrict the category values to 'Film', 'Television', and 'Documentary'."
   ]
  },
  {
   "cell_type": "raw",
   "id": "ec8b8a83",
   "metadata": {},
   "source": [
    "CREATE OR REPLACE TEMP VIEW cb_categories AS \n",
    "SELECT\n",
    "\t-- Split community board values\n",
    "\tREGEXP_SPLIT_TO_TABLE(community_board, ', ') AS community_board,\n",
    "    category\n",
    "FROM\n",
    "\tfilm_permit\n",
    "WHERE \n",
    "    -- Restrict the categories in results\n",
    "    category in ('Film', 'Television', 'Documentary');\n",
    "\n",
    "-- View cb_categories\n",
    "SELECT * FROM cb_categories;\n",
    "\n",
    "--Result\n",
    "community_board\tcategory\n",
    "2\tTelevision\n",
    "12\tFilm\n",
    "8\tFilm\n",
    "2\tTelevision"
   ]
  },
  {
   "cell_type": "code",
   "execution_count": null,
   "id": "cb3e583d",
   "metadata": {},
   "outputs": [],
   "source": []
  }
 ],
 "metadata": {
  "kernelspec": {
   "display_name": "env",
   "language": "python",
   "name": "env"
  },
  "language_info": {
   "codemirror_mode": {
    "name": "ipython",
    "version": 3
   },
   "file_extension": ".py",
   "mimetype": "text/x-python",
   "name": "python",
   "nbconvert_exporter": "python",
   "pygments_lexer": "ipython3",
   "version": "3.7.4"
  }
 },
 "nbformat": 4,
 "nbformat_minor": 5
}
