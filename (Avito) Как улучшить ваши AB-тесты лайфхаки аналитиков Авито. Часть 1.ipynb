{
 "cells": [
  {
   "cell_type": "markdown",
   "id": "9b406e5e",
   "metadata": {},
   "source": [
    "Алгоритм проверки статистических критериев\n",
    "Идея простая:\n",
    "\n",
    "Создаём как можно больше датасетов, поделённых на контроль и тест, без какого-либо различия между ними (обычный А/А-тест). \n",
    "\n",
    "Прогоняем на них придуманный критерий.\n",
    "\n",
    "Если мы хотим, чтобы ошибка первого рода была 5%, то критерий должен ошибиться на этих примерах лишь в 5% случаев. То есть 0 не попал в доверительный интервал. \n",
    "\n",
    "Если критерий ошибся в 5% случаев, значит он корректный. Если ошибок статистически значимо больше или меньше 5%, то для нас плохие новости: критерий некорректен.\n",
    "\n",
    "Если он ошибся меньше, чем в 5% случаев, это не так страшно. Это только означает, что критерий вероятней всего не очень точный, и в большем проценте случаев мы не задетектируем эффект. Использовать такой критерий на практике можно, но, вероятно, он будет проигрывать по мощности своим конкурентам.\n",
    "\n",
    "Но если критерий ошибся больше, чем в 5% случаев, это ALERT, плохо, страшно, ужасно. Таким критерием нельзя пользоваться! Это значит, что вы будете ошибаться больше, чем вы рассчитываете, и в большем проценте случаев раскатите тритменты, которые на самом деле не ведут к росту целевой метрики.\n",
    "\n",
    "Резюмируя: мы генерируем большое количество А/А-тестов и на них прогоняем наш критерий. На всякий случай скажу, что A/A-тесты — это тесты без различий в двух группах, когда мы сравниваем контроль с контролем. \n",
    "\n",
    "Как создать подходящие датасеты? Есть два способа решения проблемы:\n",
    "\n",
    "1 Создать датасеты полностью на искусственных данных.\n",
    "\n",
    "2 Создать датасеты, основываясь на исторических данных компании.\n",
    "\n",
    "Датасеты на искусственных данных. Сначала я предлагаю обсудить первый способ, а также подробнее описать план проверки критериев: \n",
    "\n",
    "1. Первым делом надо выбрать распределение, которое будет описывать наши данные. К примеру, если у нас метрика конверсии, то это бернуллевское распределение (https://ru.wikipedia.org/wiki/%D0%A0%D0%B0%D1%81%D0%BF%D1%80%D0%B5%D0%B4%D0%B5%D0%BB%D0%B5%D0%BD%D0%B8%D0%B5_%D0%91%D0%B5%D1%80%D0%BD%D1%83%D0%BB%D0%BB%D0%B8), а если метрика — выручка, то лучше использовать экспоненциальное распределение (https://ru.wikipedia.org/wiki/%D0%AD%D0%BA%D1%81%D0%BF%D0%BE%D0%BD%D0%B5%D0%BD%D1%86%D0%B8%D0%B0%D0%BB%D1%8C%D0%BD%D0%BE%D0%B5_%D1%80%D0%B0%D1%81%D0%BF%D1%80%D0%B5%D0%B4%D0%B5%D0%BB%D0%B5%D0%BD%D0%B8%D0%B5) в качестве самого простого приближения.\n",
    "\n",
    "2. Следующим шагом надо написать код для нашего критерия. Для проверки нужно, чтобы он возвращал доверительный интервал для эффекта.\n",
    "\n",
    "3. Завести счётчик bad_cnt = 0.\n",
    "\n",
    "4. Далее в цикле размера N, где N — натуральное число от 1000 до бесконечности, чем оно больше, тем лучше:\n",
    "\n",
    "- Симулировать создание теста и контроля из распределения, выбранного на первом шаге.\n",
    "\n",
    "- Запустить на сгенерированных данных наш критерий со второго шага.\n",
    "\n",
    "- Далее проверить, лежит 0 в доверительном интервале или нет. Если нет, то увеличить счётчик bad_cnt на 1. Здесь мы проверяем, ошибся ли критерий на текущей симуляции, или нет.\n",
    "\n",
    "5. Построить доверительный интервал для полученной конверсии bad_cnt / N. Вот статья на Википедии о том, как это сделать (https://en.wikipedia.org/wiki/Binomial_proportion_confidence_interval). Если 5% не принадлежит ему, значит, критерий некорректен, и он заужает или заширяет доверительный интервал. Здесь как раз и играет выбор значения N на четвёртом шаге. Чем оно больше, тем меньше доверительный интервал для конверсии ошибок, а значит, мы более уверены в своём критерии."
   ]
  },
  {
   "cell_type": "code",
   "execution_count": 3,
   "id": "67d16d7d",
   "metadata": {},
   "outputs": [
    {
     "name": "stdout",
     "output_type": "stream",
     "text": [
      "Collecting tqdm\n",
      "  Downloading tqdm-4.64.1-py2.py3-none-any.whl (78 kB)\n",
      "\u001b[2K     \u001b[90m━━━━━━━━━━━━━━━━━━━━━━━━━━━━━━━━━━━━━━━\u001b[0m \u001b[32m78.5/78.5 kB\u001b[0m \u001b[31m908.8 kB/s\u001b[0m eta \u001b[36m0:00:00\u001b[0m \u001b[36m0:00:01\u001b[0m\n",
      "\u001b[?25hInstalling collected packages: tqdm\n",
      "Successfully installed tqdm-4.64.1\n"
     ]
    }
   ],
   "source": [
    "import sys\n",
    "!{sys.executable} -m pip install tqdm"
   ]
  },
  {
   "cell_type": "code",
   "execution_count": 21,
   "id": "589afe8a",
   "metadata": {},
   "outputs": [],
   "source": [
    "from collections import namedtuple\n",
    "import scipy.stats as sps\n",
    "import statsmodels.stats.api as sms\n",
    "from tqdm.notebook import tqdm as tqdm_notebook # tqdm – библиотека для визуализации прогресса в цикле\n",
    "from collections import defaultdict\n",
    "from statsmodels.stats.proportion import proportion_confint\n",
    "import numpy as np\n",
    "import itertools\n",
    "import seaborn as sns\n",
    "import matplotlib.pyplot as plt\n",
    "import pandas as pd\n",
    "\n",
    "sns.set(font_scale=1.5, palette='Set2')\n",
    "\n",
    "ExperimentComparisonResults = namedtuple('ExperimentComparisonResults',['pvalue','effect','ci_length','left_bound','right_bound'])\n"
   ]
  },
  {
   "cell_type": "markdown",
   "id": "f0f2e82f",
   "metadata": {},
   "source": []
  },
  {
   "cell_type": "code",
   "execution_count": 2,
   "id": "25ed8cc6",
   "metadata": {},
   "outputs": [],
   "source": [
    "# 2 Создание тестируемого критерия\n",
    "def absolute_ttest(control,test):\n",
    "    mean_control = np.mean(control)\n",
    "    mean_test = np.mean(test)\n",
    "    var_mean_control = np.var(control) / len(control)\n",
    "    var_mean_test = np.var(test) / len(test)\n",
    "    difference_mean = mean_test - mean_control\n",
    "    difference_mean_var = var_mean_control + var_mean_test\n",
    "    difference_distribution = sps.norm(loc=difference_mean, scale=np.sqrt(difference_mean_var))\n",
    "    left_bound, right_bound = difference_distribution.ppf([0.025,0.975])\n",
    "    ci_length = (right_bound - left_bound)\n",
    "    pvalue = 2 * min(difference_distribution.cdf(0), difference_distribution.sf(0)) # 0 because we this is our Ho, we compaire our diference in CR with 0\n",
    "    effect = difference_mean\n",
    "    return ExperimentComparisonResults(pvalue, effect, ci_length, left_bound, right_bound)\n",
    "    \n",
    "    "
   ]
  },
  {
   "cell_type": "code",
   "execution_count": 3,
   "id": "a54c9783",
   "metadata": {},
   "outputs": [
    {
     "name": "stdout",
     "output_type": "stream",
     "text": [
      "mean: 0.5\n",
      "sd: 0.1\n",
      "left_bound, right_bound: 0.30400360154599454, 0.6959963984540054\n",
      "pvalue_for_bounds_1: 0.049999999999999954\n",
      "pvalue_for_bounds_2: 0.025000000000000022\n",
      "pvalue_1: 5.733031437583867e-07\n",
      "pvalue_2: 0.9999997133484281\n",
      "0.024999999999999977 0.025\n"
     ]
    }
   ],
   "source": [
    "# AK test sps.norm()\n",
    "\n",
    "m=0.5\n",
    "s=.1\n",
    "d = sps.norm(loc=m,scale=s)\n",
    "left_bound, right_bound = d.ppf([0.025,0.975])\n",
    "pvalue_for_bounds_1 = 2 * min(d.cdf(left_bound),d.sf(right_bound)) # two-sided\n",
    "pvalue_for_bounds_2 = 1 - d.cdf(right_bound) # one-sided (rigth)\n",
    "pvalue_1 = 2 * min(d.cdf(0),d.sf(0)) # two-sided, 0 - because of the Ho\n",
    "pvalue_2 = 1 - d.cdf(0) # one-sided (rigth)\n",
    "\n",
    "print(f'mean: {m}')\n",
    "print(f'sd: {s}')\n",
    "print(f'left_bound, right_bound: {left_bound}, {right_bound}')\n",
    "print(f'pvalue_for_bounds_1: {pvalue_for_bounds_1}')\n",
    "print(f'pvalue_for_bounds_2: {pvalue_for_bounds_2}')\n",
    "print(f'pvalue_1: {pvalue_1}')\n",
    "print(f'pvalue_2: {pvalue_2}')\n",
    "print(d.cdf(left_bound), d.sf(right_bound))"
   ]
  },
  {
   "cell_type": "markdown",
   "id": "fca1184a",
   "metadata": {},
   "source": [
    "### 3 A/A test"
   ]
  },
  {
   "cell_type": "code",
   "execution_count": 46,
   "id": "82087a8e",
   "metadata": {},
   "outputs": [
    {
     "name": "stdout",
     "output_type": "stream",
     "text": [
      "Collecting ipywidgets\n",
      "  Downloading ipywidgets-8.0.2-py3-none-any.whl (134 kB)\n",
      "\u001b[2K     \u001b[90m━━━━━━━━━━━━━━━━━━━━━━━━━━━━━━━━━━━━━\u001b[0m \u001b[32m134.4/134.4 kB\u001b[0m \u001b[31m915.0 kB/s\u001b[0m eta \u001b[36m0:00:00\u001b[0m00:01\u001b[0m00:01\u001b[0m\n",
      "\u001b[?25hCollecting widgetsnbextension~=4.0\n",
      "  Downloading widgetsnbextension-4.0.3-py3-none-any.whl (2.0 MB)\n",
      "\u001b[2K     \u001b[90m━━━━━━━━━━━━━━━━━━━━━━━━━━━━━━━━━━━━━━━━\u001b[0m \u001b[32m2.0/2.0 MB\u001b[0m \u001b[31m3.8 MB/s\u001b[0m eta \u001b[36m0:00:00\u001b[0m00:01\u001b[0m00:01\u001b[0m\n",
      "\u001b[?25hRequirement already satisfied: ipython>=6.1.0 in ./lib/python3.7/site-packages (from ipywidgets) (7.17.0)\n",
      "Collecting jupyterlab-widgets~=3.0\n",
      "  Downloading jupyterlab_widgets-3.0.3-py3-none-any.whl (384 kB)\n",
      "\u001b[2K     \u001b[90m━━━━━━━━━━━━━━━━━━━━━━━━━━━━━━━━━━━━━━━\u001b[0m \u001b[32m384.1/384.1 kB\u001b[0m \u001b[31m3.5 MB/s\u001b[0m eta \u001b[36m0:00:00\u001b[0ma \u001b[36m0:00:01\u001b[0m\n",
      "\u001b[?25hRequirement already satisfied: traitlets>=4.3.1 in ./lib/python3.7/site-packages (from ipywidgets) (4.3.3)\n",
      "Requirement already satisfied: ipykernel>=4.5.1 in ./lib/python3.7/site-packages (from ipywidgets) (5.3.4)\n",
      "Requirement already satisfied: appnope in ./lib/python3.7/site-packages (from ipykernel>=4.5.1->ipywidgets) (0.1.0)\n",
      "Requirement already satisfied: tornado>=4.2 in ./lib/python3.7/site-packages (from ipykernel>=4.5.1->ipywidgets) (6.1)\n",
      "Requirement already satisfied: jupyter-client in ./lib/python3.7/site-packages (from ipykernel>=4.5.1->ipywidgets) (6.1.6)\n",
      "Requirement already satisfied: pickleshare in ./lib/python3.7/site-packages (from ipython>=6.1.0->ipywidgets) (0.7.5)\n",
      "Requirement already satisfied: decorator in ./lib/python3.7/site-packages (from ipython>=6.1.0->ipywidgets) (4.4.2)\n",
      "Requirement already satisfied: pygments in ./lib/python3.7/site-packages (from ipython>=6.1.0->ipywidgets) (2.6.1)\n",
      "Requirement already satisfied: setuptools>=18.5 in ./lib/python3.7/site-packages (from ipython>=6.1.0->ipywidgets) (40.8.0)\n",
      "Requirement already satisfied: prompt-toolkit!=3.0.0,!=3.0.1,<3.1.0,>=2.0.0 in ./lib/python3.7/site-packages (from ipython>=6.1.0->ipywidgets) (3.0.5)\n",
      "Requirement already satisfied: jedi>=0.10 in ./lib/python3.7/site-packages (from ipython>=6.1.0->ipywidgets) (0.17.2)\n",
      "Requirement already satisfied: pexpect in ./lib/python3.7/site-packages (from ipython>=6.1.0->ipywidgets) (4.8.0)\n",
      "Requirement already satisfied: backcall in ./lib/python3.7/site-packages (from ipython>=6.1.0->ipywidgets) (0.2.0)\n",
      "Requirement already satisfied: ipython-genutils in ./lib/python3.7/site-packages (from traitlets>=4.3.1->ipywidgets) (0.2.0)\n",
      "Requirement already satisfied: six in ./lib/python3.7/site-packages (from traitlets>=4.3.1->ipywidgets) (1.15.0)\n",
      "Requirement already satisfied: parso<0.8.0,>=0.7.0 in ./lib/python3.7/site-packages (from jedi>=0.10->ipython>=6.1.0->ipywidgets) (0.7.1)\n",
      "Requirement already satisfied: wcwidth in ./lib/python3.7/site-packages (from prompt-toolkit!=3.0.0,!=3.0.1,<3.1.0,>=2.0.0->ipython>=6.1.0->ipywidgets) (0.2.5)\n",
      "Requirement already satisfied: python-dateutil>=2.1 in ./lib/python3.7/site-packages (from jupyter-client->ipykernel>=4.5.1->ipywidgets) (2.8.1)\n",
      "Requirement already satisfied: jupyter-core>=4.6.0 in ./lib/python3.7/site-packages (from jupyter-client->ipykernel>=4.5.1->ipywidgets) (4.6.3)\n",
      "Requirement already satisfied: pyzmq>=13 in ./lib/python3.7/site-packages (from jupyter-client->ipykernel>=4.5.1->ipywidgets) (19.0.2)\n",
      "Requirement already satisfied: ptyprocess>=0.5 in ./lib/python3.7/site-packages (from pexpect->ipython>=6.1.0->ipywidgets) (0.6.0)\n",
      "Installing collected packages: widgetsnbextension, jupyterlab-widgets, ipywidgets\n",
      "Successfully installed ipywidgets-8.0.2 jupyterlab-widgets-3.0.3 widgetsnbextension-4.0.3\n"
     ]
    }
   ],
   "source": [
    "!{sys.executable} -m pip install ipywidgets"
   ]
  },
  {
   "cell_type": "code",
   "execution_count": 52,
   "id": "95c33322",
   "metadata": {},
   "outputs": [
    {
     "name": "stdout",
     "output_type": "stream",
     "text": [
      "Requirement already satisfied: ipywidgets in ./lib/python3.7/site-packages (8.0.2)\n",
      "Requirement already satisfied: ipykernel>=4.5.1 in ./lib/python3.7/site-packages (from ipywidgets) (5.3.4)\n",
      "Requirement already satisfied: jupyterlab-widgets~=3.0 in ./lib/python3.7/site-packages (from ipywidgets) (3.0.3)\n",
      "Requirement already satisfied: traitlets>=4.3.1 in ./lib/python3.7/site-packages (from ipywidgets) (4.3.3)\n",
      "Requirement already satisfied: widgetsnbextension~=4.0 in ./lib/python3.7/site-packages (from ipywidgets) (4.0.3)\n",
      "Requirement already satisfied: ipython>=6.1.0 in ./lib/python3.7/site-packages (from ipywidgets) (7.17.0)\n",
      "Requirement already satisfied: appnope in ./lib/python3.7/site-packages (from ipykernel>=4.5.1->ipywidgets) (0.1.0)\n",
      "Requirement already satisfied: tornado>=4.2 in ./lib/python3.7/site-packages (from ipykernel>=4.5.1->ipywidgets) (6.1)\n",
      "Requirement already satisfied: jupyter-client in ./lib/python3.7/site-packages (from ipykernel>=4.5.1->ipywidgets) (6.1.6)\n",
      "Requirement already satisfied: backcall in ./lib/python3.7/site-packages (from ipython>=6.1.0->ipywidgets) (0.2.0)\n",
      "Requirement already satisfied: pexpect in ./lib/python3.7/site-packages (from ipython>=6.1.0->ipywidgets) (4.8.0)\n",
      "Requirement already satisfied: jedi>=0.10 in ./lib/python3.7/site-packages (from ipython>=6.1.0->ipywidgets) (0.17.2)\n",
      "Requirement already satisfied: prompt-toolkit!=3.0.0,!=3.0.1,<3.1.0,>=2.0.0 in ./lib/python3.7/site-packages (from ipython>=6.1.0->ipywidgets) (3.0.5)\n",
      "Requirement already satisfied: pickleshare in ./lib/python3.7/site-packages (from ipython>=6.1.0->ipywidgets) (0.7.5)\n",
      "Requirement already satisfied: setuptools>=18.5 in ./lib/python3.7/site-packages (from ipython>=6.1.0->ipywidgets) (40.8.0)\n",
      "Requirement already satisfied: decorator in ./lib/python3.7/site-packages (from ipython>=6.1.0->ipywidgets) (4.4.2)\n",
      "Requirement already satisfied: pygments in ./lib/python3.7/site-packages (from ipython>=6.1.0->ipywidgets) (2.6.1)\n",
      "Requirement already satisfied: six in ./lib/python3.7/site-packages (from traitlets>=4.3.1->ipywidgets) (1.15.0)\n",
      "Requirement already satisfied: ipython-genutils in ./lib/python3.7/site-packages (from traitlets>=4.3.1->ipywidgets) (0.2.0)\n",
      "Requirement already satisfied: parso<0.8.0,>=0.7.0 in ./lib/python3.7/site-packages (from jedi>=0.10->ipython>=6.1.0->ipywidgets) (0.7.1)\n",
      "Requirement already satisfied: wcwidth in ./lib/python3.7/site-packages (from prompt-toolkit!=3.0.0,!=3.0.1,<3.1.0,>=2.0.0->ipython>=6.1.0->ipywidgets) (0.2.5)\n",
      "Requirement already satisfied: pyzmq>=13 in ./lib/python3.7/site-packages (from jupyter-client->ipykernel>=4.5.1->ipywidgets) (19.0.2)\n",
      "Requirement already satisfied: python-dateutil>=2.1 in ./lib/python3.7/site-packages (from jupyter-client->ipykernel>=4.5.1->ipywidgets) (2.8.1)\n",
      "Requirement already satisfied: jupyter-core>=4.6.0 in ./lib/python3.7/site-packages (from jupyter-client->ipykernel>=4.5.1->ipywidgets) (4.6.3)\n",
      "Requirement already satisfied: ptyprocess>=0.5 in ./lib/python3.7/site-packages (from pexpect->ipython>=6.1.0->ipywidgets) (0.6.0)\n"
     ]
    }
   ],
   "source": [
    "!{sys.executable} -m pip install ipywidgets"
   ]
  },
  {
   "cell_type": "code",
   "execution_count": 7,
   "id": "6ba41910",
   "metadata": {
    "scrolled": true
   },
   "outputs": [
    {
     "data": {
      "application/vnd.jupyter.widget-view+json": {
       "model_id": "49bac27420b34f598b1df2d41e3753ee",
       "version_major": 2,
       "version_minor": 0
      },
      "text/plain": [
       "  0%|          | 0/100000 [00:00<?, ?it/s]"
      ]
     },
     "metadata": {},
     "output_type": "display_data"
    },
    {
     "name": "stdout",
     "output_type": "stream",
     "text": [
      "Proportion of errors: 0.05014\n",
      "Proportion of errors: 0.05014\n",
      "Real significance level: 0.0501;confidence interval: [0.0488,0.0515]\n",
      "\n"
     ]
    }
   ],
   "source": [
    "# 3. Создаем счетчик\n",
    "bad_cnt = 0\n",
    "bad_cnt_1 = 0\n",
    "\n",
    "# 4. Цикл проверки\n",
    "N = 100000\n",
    "for i in tqdm_notebook(range(N)):\n",
    "    # 4.a. Тестирую A/A-тест\n",
    "    control = sps.expon(scale=1000).rvs(500)\n",
    "    test = sps.expon(scale=1000).rvs(600)\n",
    "    # 4.b. Запускаю критерий\n",
    "    pvalue,_,_,left_bound,right_bound = absolute_ttest(control,test)\n",
    "    # 4.c. Проверяю, лежит ли истинная разница средних в доверительном интервале\n",
    "    if left_bound > 0 or right_bound < 0:\n",
    "        bad_cnt += 1\n",
    "    if pvalue < 0.05:\n",
    "        bad_cnt_1 += 1\n",
    "        \n",
    "print(f'Proportion of errors: {bad_cnt/N}')    \n",
    "print(f'Proportion of errors: {bad_cnt_1/N}')\n",
    "\n",
    "# 5. Строю доверительный интервал для конверсии ошибок у критерия\n",
    "left_real_level, right_real_level = proportion_confint(count=bad_cnt, nobs=N, alpha=0.05, method='wilson')\n",
    "# Result\n",
    "print(f\"Real significance level: {round(bad_cnt/N,4)};\"\n",
    "     f\"confidence interval: [{round(left_real_level,4)},{round(right_real_level,4)}]\")      \n"
   ]
  },
  {
   "cell_type": "code",
   "execution_count": 6,
   "id": "6d55521a",
   "metadata": {},
   "outputs": [],
   "source": [
    "?proportion_confint"
   ]
  },
  {
   "cell_type": "code",
   "execution_count": 43,
   "id": "a4896ec1",
   "metadata": {},
   "outputs": [
    {
     "data": {
      "text/plain": [
       "<AxesSubplot:>"
      ]
     },
     "execution_count": 43,
     "metadata": {},
     "output_type": "execute_result"
    },
    {
     "data": {
      "image/png": "[encoded data removed]",
      "text/plain": [
       "<Figure size 432x288 with 1 Axes>"
      ]
     },
     "metadata": {},
     "output_type": "display_data"
    }
   ],
   "source": [
    "#?sns.distplot\n",
    "df_expon = sps.expon(scale=1000).rvs(500)\n",
    "sns.distplot(a = df_expon)"
   ]
  },
  {
   "cell_type": "code",
   "execution_count": 25,
   "id": "7802e073",
   "metadata": {},
   "outputs": [
    {
     "data": {
      "text/plain": [
       "[<matplotlib.lines.Line2D at 0x7fb7bc272e10>]"
      ]
     },
     "execution_count": 25,
     "metadata": {},
     "output_type": "execute_result"
    },
    {
     "data": {
      "image/png": "[encoded data removed]",
      "text/plain": [
       "<Figure size 432x288 with 1 Axes>"
      ]
     },
     "metadata": {},
     "output_type": "display_data"
    }
   ],
   "source": [
    "x = np.linspace(start=0,stop=5000,num=1000)\n",
    "y = sps.expon(scale=l000).pdf(x)\n",
    "df=pd.DataFrame({'x':x,'y':y})\n",
    "#sns.relplot(x=x,y=y,data=df)\n",
    "plt.plot(x,y)"
   ]
  },
  {
   "cell_type": "code",
   "execution_count": 17,
   "id": "b55ece50",
   "metadata": {},
   "outputs": [],
   "source": [
    "#?np.linspace\n",
    "#?sps.expon\n",
    "?sns.relplot"
   ]
  },
  {
   "cell_type": "markdown",
   "id": "39d1545d",
   "metadata": {},
   "source": [
    "### Относительный T-test критерий"
   ]
  },
  {
   "attachments": {
    "image-2.png": {
     "image/png": "[encoded data removed]"
    },
    "image-3.png": {
     "image/png": "[encoded data removed]"
    },
    "image-4.png": {
     "image/png": "[encoded data removed]"
    },
    "image.png": {
     "image/png": "[encoded data removed]"
    }
   },
   "cell_type": "markdown",
   "id": "fddcd7ac",
   "metadata": {},
   "source": [
    "Но теперь надо придумать, как это исправить. Предлагаю перейти к такой случайной величине:\n",
    "\n",
    "![image-4.png](attachment:image-4.png)\n",
    "\n",
    "Утверждается, что её математическое ожидание — это именно то, что нам нужно в относительной постановке A/B-тестов.\n",
    "\n",
    "Вообще, математическое ожидание у такой статистики не равно величине, которую мы хотим оценить в гипотезе относительного A/B-тестирования. Но здесь на помощь приходит разложение в многочлен Тейлора:\n",
    "\n",
    "![image-3.png](attachment:image-3.png)\n",
    "\n",
    "Но надо понять, как посчитать дисперсию этой статистики. Для этого предлагается применить дельта-метод. В итоге, формула дисперсии будет такой:\n",
    "\n",
    "![image.png](attachment:image.png)\n",
    "Если выборки разного размера:\n",
    "![image-2.png](attachment:image-2.png)"
   ]
  },
  {
   "cell_type": "code",
   "execution_count": 46,
   "id": "9315b914",
   "metadata": {},
   "outputs": [],
   "source": [
    "# 2. Create the testing criterio\n",
    "def relative_ttest(control, test):\n",
    "    control_mean = np.mean(control)\n",
    "    test_mean = np.mean(test)\n",
    "    control_mean_var = np.var(control) / len(control)\n",
    "    test_mean_var = np.var(test) / len(test)\n",
    "    \n",
    "    difference_mean = test_mean - control_mean\n",
    "    difference_mean_var = control_mean_var + test_mean_var\n",
    "    \n",
    "    relative_mean = difference_mean / control_mean\n",
    "    relative_var = difference_mean_var/control_mean**2 \\\n",
    "                    + (difference_mean**2)/(control_mean**4) * control_mean_var \\\n",
    "                    + 2 * (difference_mean / (control_mean**3)) * control_mean_var\n",
    "    relative_distribution = sps.norm(loc=relative_mean,scale=np.sqrt(relative_var))\n",
    "    left_bound, right_bound = relative_distribution.ppf([0.025,0.975])\n",
    "    ci_length = right_bound - left_bound\n",
    "    pvalue = 2 * min(relative_distribution.cdf(0),relative_distribution.sf(0))\n",
    "    effect = relative_mean\n",
    "    \n",
    "    result = ExperimentComparisonResults(pvalue, effect, ci_length, left_bound, right_bound)\n",
    "    #print(f\"control_mean, test_mean, control_mean_var, test_mean_var, difference_mean, difference_mean_var, relative_mean, relative_var: {control_mean}, {test_mean}, {control_mean_var}, {test_mean_var}, {difference_mean}, {difference_mean_var}, {relative_mean}, {relative_var}\")\n",
    "    #print(f'result: {result}')\n",
    "    \n",
    "    \n",
    "    return ExperimentComparisonResults(pvalue, effect, ci_length, left_bound, right_bound)\n",
    "    \n",
    "    "
   ]
  },
  {
   "cell_type": "code",
   "execution_count": 49,
   "id": "d1b9f254",
   "metadata": {},
   "outputs": [
    {
     "data": {
      "application/vnd.jupyter.widget-view+json": {
       "model_id": "9b0e355391ee4138a8e81de564d90b4f",
       "version_major": 2,
       "version_minor": 0
      },
      "text/plain": [
       "  0%|          | 0/100000 [00:00<?, ?it/s]"
      ]
     },
     "metadata": {},
     "output_type": "display_data"
    },
    {
     "name": "stdout",
     "output_type": "stream",
     "text": [
      "Real proportion of mistakes: 0.0508; confidence interval for the proportion of criterio mistakes: [0.04940680573245604,0.05212770844919984]\n"
     ]
    }
   ],
   "source": [
    "# 3. Check the relative criterio on the simulated A/B test\n",
    "%timeit\n",
    "# counter of bad results\n",
    "bad_cnt = 0\n",
    "coef = 2\n",
    "\n",
    "# cycle of cheking\n",
    "N = 100000\n",
    "for i in tqdm_notebook(range(N)):\n",
    "    control = sps.expon(scale=1000).rvs(2000)\n",
    "    test = sps.expon(scale=1000).rvs(2100)\n",
    "    test *= coef\n",
    "    \n",
    "    # check with the criterio\n",
    "    _,_,_, left_bound, right_bound = relative_ttest(control,test)\n",
    "    #print(f'left_bound, right_bound: {left_bound}, {right_bound}')\n",
    "    if left_bound > (coef - 1) or right_bound < (coef - 1):\n",
    "        bad_cnt += 1\n",
    "        \n",
    "# confidence interval for the proportion of criterio mistakes\n",
    "left_real_level, right_real_level = proportion_confint(count=bad_cnt, nobs=N,alpha=0.05,method='wilson')\n",
    "\n",
    "#print(bad_cnt)\n",
    "# result\n",
    "print(f\"Real proportion of mistakes: {round(bad_cnt / N, 4)}; \"\n",
    "     f\"confidence interval for the proportion of criterio mistakes: [{left_real_level},{right_real_level}]\")\n"
   ]
  },
  {
   "cell_type": "markdown",
   "id": "d62dc007",
   "metadata": {},
   "source": [
    "Итак, относительный T-test критерий работает на искусственных данных. Но, возможно, у вас возник вопрос: а не ухудшим ли мы таким образом мощность критериев? Вдруг дополнительный шум в знаменателе так расширит доверительный интервал, что критерий станет бесполезным? И если раньше, с обычным критерием, мы детектировали эффект в 80% случаев, а сейчас только в 50%, то, очевидно, мы не будем пользоваться относительным критерием: мощность всегда превыше всего.\n",
    "\n",
    "Ответ: нет, этого не произойдёт. Вот практический пример:"
   ]
  },
  {
   "cell_type": "code",
   "execution_count": 51,
   "id": "e1e300b4",
   "metadata": {},
   "outputs": [
    {
     "data": {
      "application/vnd.jupyter.widget-view+json": {
       "model_id": "66411be6c805400a808a291e19232d90",
       "version_major": 2,
       "version_minor": 0
      },
      "text/plain": [
       "  0%|          | 0/10000 [00:00<?, ?it/s]"
      ]
     },
     "metadata": {},
     "output_type": "display_data"
    },
    {
     "name": "stdout",
     "output_type": "stream",
     "text": [
      "rel_left_bound,rel_right_bound: -0.06043484810050004,-0.0068256259759843264\n",
      "abs_left_bound,abs_right_bound: -62.57185577091507,-6.523421857195515\n",
      "rel_left_bound,rel_right_bound: -0.05265151150378143,0.0013417492130255518\n",
      "abs_left_bound,abs_right_bound: -54.17463511960621,1.7462997349994787\n",
      "rel_left_bound,rel_right_bound: -0.0426807223434153,0.012790060852719068\n",
      "abs_left_bound,abs_right_bound: -43.55094289056292,13.200579461076309\n",
      "rel_left_bound,rel_right_bound: -0.04805133857682892,0.00595705625127621\n",
      "abs_left_bound,abs_right_bound: -48.91242980450647,6.318783028412543\n",
      "rel_left_bound,rel_right_bound: -0.029243097387620126,0.025086638803468925\n",
      "abs_left_bound,abs_right_bound: -29.618769929556212,25.412967370552845\n",
      "rel_left_bound,rel_right_bound: -0.045121779108266265,0.008853606086111722\n",
      "abs_left_bound,abs_right_bound: -46.351315688028855,9.305174467738965\n",
      "rel_left_bound,rel_right_bound: -0.05727227635362843,-0.0036783977627422443\n",
      "abs_left_bound,abs_right_bound: -58.58837370431643,-3.3050091533954884\n",
      "rel_left_bound,rel_right_bound: -0.01740337221555007,0.03863486584171286\n",
      "abs_left_bound,abs_right_bound: -17.28715535345298,38.55815557885096\n",
      "rel_left_bound,rel_right_bound: -0.031976727660466955,0.023433742006108767\n",
      "abs_left_bound,abs_right_bound: -32.309252249735884,23.693333991577433\n",
      "rel_left_bound,rel_right_bound: -0.041278995288593336,0.012947411523676308\n",
      "abs_left_bound,abs_right_bound: -41.24429183225907,13.068403130611888\n",
      "rel_left_bound,rel_right_bound: -0.04163507497800872,0.01311475138714547\n",
      "abs_left_bound,abs_right_bound: -42.521120532175125,13.532465577145203\n",
      "Power of the relative criterio VS absolute criterio: 0.0038,0.0039\n"
     ]
    }
   ],
   "source": [
    "absolute_power_cnt = 0\n",
    "relative_power_cnt = 0\n",
    "\n",
    "# Cycle of checking\n",
    "N = 10000\n",
    "for i in tqdm_notebook(range(N)):\n",
    "    test = sps.expon(scale=1000).rvs(10000)\n",
    "    control = sps.expon(scale=1000).rvs(10000)*1.01\n",
    "    _,_,_,rel_left_bound,rel_right_bound = relative_ttest(control=control,test=test)\n",
    "    _,_,_,abs_left_bound,abs_right_bound = absolute_ttest(control=control,test=test)\n",
    "    if i <= 10:\n",
    "        print(i)\n",
    "        print(f'rel_left_bound,rel_right_bound: {rel_left_bound},{rel_right_bound}')\n",
    "        print(f'abs_left_bound,abs_right_bound: {abs_left_bound},{abs_right_bound}')\n",
    "        \n",
    "    if rel_left_bound > 0:\n",
    "        relative_power_cnt += 1\n",
    "    if abs_left_bound > 0:\n",
    "        absolute_power_cnt += 1\n",
    "print(f'Power of the relative criterio VS absolute criterio: {relative_power_cnt/N},{absolute_power_cnt/N}') \n",
    "    \n",
    "    \n",
    "    \n",
    "    "
   ]
  }
 ],
 "metadata": {
  "kernelspec": {
   "display_name": "env",
   "language": "python",
   "name": "env"
  },
  "language_info": {
   "codemirror_mode": {
    "name": "ipython",
    "version": 3
   },
   "file_extension": ".py",
   "mimetype": "text/x-python",
   "name": "python",
   "nbconvert_exporter": "python",
   "pygments_lexer": "ipython3",
   "version": "3.7.4"
  }
 },
 "nbformat": 4,
 "nbformat_minor": 5
}
