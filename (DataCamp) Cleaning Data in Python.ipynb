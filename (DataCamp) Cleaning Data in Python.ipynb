{
 "cells": [
  {
   "cell_type": "markdown",
   "id": "c27d2280",
   "metadata": {},
   "source": [
    "1 Data type constraints.mp4\n",
    "\n",
    "## Numeric data or ... ?\n",
    "\n",
    "In this exercise, and throughout this chapter, you'll be working with bicycle ride sharing data in San Francisco called ride_sharing. It contains information on the start and end stations, the trip duration, and some user information for a bike sharing service.\n",
    "\n",
    "The user_type column contains information on whether a user is taking a free ride and takes on the following values:\n",
    "\n",
    "1 for free riders.\n",
    "2 for pay per ride.\n",
    "3 for monthly subscribers.\n",
    "In this instance, you will print the information of ride_sharing using .info() and see a firsthand example of how an incorrect data type can flaw your analysis of the dataset. The pandas package is imported as pd.\n",
    "\n",
    "Instructions 1/3\n",
    "- Print the information of ride_sharing.\n",
    "- Use .describe() to print the summary statistics of the user_type column from ride_sharing."
   ]
  },
  {
   "cell_type": "code",
   "execution_count": 2,
   "id": "7230c200",
   "metadata": {},
   "outputs": [],
   "source": [
    "import pandas as pd"
   ]
  },
  {
   "cell_type": "code",
   "execution_count": 3,
   "id": "12526586",
   "metadata": {},
   "outputs": [
    {
     "data": {
      "text/html": [
       "<div>\n",
       "<style scoped>\n",
       "    .dataframe tbody tr th:only-of-type {\n",
       "        vertical-align: middle;\n",
       "    }\n",
       "\n",
       "    .dataframe tbody tr th {\n",
       "        vertical-align: top;\n",
       "    }\n",
       "\n",
       "    .dataframe thead th {\n",
       "        text-align: right;\n",
       "    }\n",
       "</style>\n",
       "<table border=\"1\" class=\"dataframe\">\n",
       "  <thead>\n",
       "    <tr style=\"text-align: right;\">\n",
       "      <th></th>\n",
       "      <th>Unnamed: 0</th>\n",
       "      <th>duration</th>\n",
       "      <th>station_A_id</th>\n",
       "      <th>station_A_name</th>\n",
       "      <th>station_B_id</th>\n",
       "      <th>station_B_name</th>\n",
       "      <th>bike_id</th>\n",
       "      <th>user_type</th>\n",
       "      <th>user_birth_year</th>\n",
       "      <th>user_gender</th>\n",
       "    </tr>\n",
       "  </thead>\n",
       "  <tbody>\n",
       "    <tr>\n",
       "      <th>0</th>\n",
       "      <td>0</td>\n",
       "      <td>12 minutes</td>\n",
       "      <td>81</td>\n",
       "      <td>Berry St at 4th St</td>\n",
       "      <td>323</td>\n",
       "      <td>Broadway at Kearny</td>\n",
       "      <td>5480</td>\n",
       "      <td>2</td>\n",
       "      <td>1959</td>\n",
       "      <td>Male</td>\n",
       "    </tr>\n",
       "    <tr>\n",
       "      <th>1</th>\n",
       "      <td>1</td>\n",
       "      <td>24 minutes</td>\n",
       "      <td>3</td>\n",
       "      <td>Powell St BART Station (Market St at 4th St)</td>\n",
       "      <td>118</td>\n",
       "      <td>Eureka Valley Recreation Center</td>\n",
       "      <td>5193</td>\n",
       "      <td>2</td>\n",
       "      <td>1965</td>\n",
       "      <td>Male</td>\n",
       "    </tr>\n",
       "    <tr>\n",
       "      <th>2</th>\n",
       "      <td>2</td>\n",
       "      <td>8 minutes</td>\n",
       "      <td>67</td>\n",
       "      <td>San Francisco Caltrain Station 2  (Townsend St...</td>\n",
       "      <td>23</td>\n",
       "      <td>The Embarcadero at Steuart St</td>\n",
       "      <td>3652</td>\n",
       "      <td>3</td>\n",
       "      <td>1993</td>\n",
       "      <td>Male</td>\n",
       "    </tr>\n",
       "    <tr>\n",
       "      <th>3</th>\n",
       "      <td>3</td>\n",
       "      <td>4 minutes</td>\n",
       "      <td>16</td>\n",
       "      <td>Steuart St at Market St</td>\n",
       "      <td>28</td>\n",
       "      <td>The Embarcadero at Bryant St</td>\n",
       "      <td>1883</td>\n",
       "      <td>1</td>\n",
       "      <td>1979</td>\n",
       "      <td>Male</td>\n",
       "    </tr>\n",
       "    <tr>\n",
       "      <th>4</th>\n",
       "      <td>4</td>\n",
       "      <td>11 minutes</td>\n",
       "      <td>22</td>\n",
       "      <td>Howard St at Beale St</td>\n",
       "      <td>350</td>\n",
       "      <td>8th St at Brannan St</td>\n",
       "      <td>4626</td>\n",
       "      <td>2</td>\n",
       "      <td>1994</td>\n",
       "      <td>Male</td>\n",
       "    </tr>\n",
       "  </tbody>\n",
       "</table>\n",
       "</div>"
      ],
      "text/plain": [
       "   Unnamed: 0    duration  station_A_id  \\\n",
       "0           0  12 minutes            81   \n",
       "1           1  24 minutes             3   \n",
       "2           2   8 minutes            67   \n",
       "3           3   4 minutes            16   \n",
       "4           4  11 minutes            22   \n",
       "\n",
       "                                      station_A_name  station_B_id  \\\n",
       "0                                 Berry St at 4th St           323   \n",
       "1       Powell St BART Station (Market St at 4th St)           118   \n",
       "2  San Francisco Caltrain Station 2  (Townsend St...            23   \n",
       "3                            Steuart St at Market St            28   \n",
       "4                              Howard St at Beale St           350   \n",
       "\n",
       "                    station_B_name  bike_id  user_type  user_birth_year  \\\n",
       "0               Broadway at Kearny     5480          2             1959   \n",
       "1  Eureka Valley Recreation Center     5193          2             1965   \n",
       "2    The Embarcadero at Steuart St     3652          3             1993   \n",
       "3     The Embarcadero at Bryant St     1883          1             1979   \n",
       "4             8th St at Brannan St     4626          2             1994   \n",
       "\n",
       "  user_gender  \n",
       "0        Male  \n",
       "1        Male  \n",
       "2        Male  \n",
       "3        Male  \n",
       "4        Male  "
      ]
     },
     "execution_count": 3,
     "metadata": {},
     "output_type": "execute_result"
    }
   ],
   "source": [
    "ride_sharing = pd.read_csv('/Users/Andrew/Downloads/(DataCamp) Cleaning Data in Python/ride_sharing_new.csv')\n",
    "ride_sharing.head()"
   ]
  },
  {
   "cell_type": "code",
   "execution_count": 4,
   "id": "7a16c365",
   "metadata": {},
   "outputs": [
    {
     "name": "stdout",
     "output_type": "stream",
     "text": [
      "<class 'pandas.core.frame.DataFrame'>\n",
      "RangeIndex: 25760 entries, 0 to 25759\n",
      "Data columns (total 10 columns):\n",
      " #   Column           Non-Null Count  Dtype \n",
      "---  ------           --------------  ----- \n",
      " 0   Unnamed: 0       25760 non-null  int64 \n",
      " 1   duration         25760 non-null  object\n",
      " 2   station_A_id     25760 non-null  int64 \n",
      " 3   station_A_name   25760 non-null  object\n",
      " 4   station_B_id     25760 non-null  int64 \n",
      " 5   station_B_name   25760 non-null  object\n",
      " 6   bike_id          25760 non-null  int64 \n",
      " 7   user_type        25760 non-null  int64 \n",
      " 8   user_birth_year  25760 non-null  int64 \n",
      " 9   user_gender      25760 non-null  object\n",
      "dtypes: int64(6), object(4)\n",
      "memory usage: 2.0+ MB\n"
     ]
    }
   ],
   "source": [
    "ride_sharing.info()"
   ]
  },
  {
   "cell_type": "code",
   "execution_count": 5,
   "id": "158f124c",
   "metadata": {},
   "outputs": [
    {
     "data": {
      "text/html": [
       "<div>\n",
       "<style scoped>\n",
       "    .dataframe tbody tr th:only-of-type {\n",
       "        vertical-align: middle;\n",
       "    }\n",
       "\n",
       "    .dataframe tbody tr th {\n",
       "        vertical-align: top;\n",
       "    }\n",
       "\n",
       "    .dataframe thead th {\n",
       "        text-align: right;\n",
       "    }\n",
       "</style>\n",
       "<table border=\"1\" class=\"dataframe\">\n",
       "  <thead>\n",
       "    <tr style=\"text-align: right;\">\n",
       "      <th></th>\n",
       "      <th>Unnamed: 0</th>\n",
       "      <th>station_A_id</th>\n",
       "      <th>station_B_id</th>\n",
       "      <th>bike_id</th>\n",
       "      <th>user_type</th>\n",
       "      <th>user_birth_year</th>\n",
       "    </tr>\n",
       "  </thead>\n",
       "  <tbody>\n",
       "    <tr>\n",
       "      <th>count</th>\n",
       "      <td>25760.000000</td>\n",
       "      <td>25760.000000</td>\n",
       "      <td>25760.000000</td>\n",
       "      <td>25760.000000</td>\n",
       "      <td>25760.000000</td>\n",
       "      <td>25760.000000</td>\n",
       "    </tr>\n",
       "    <tr>\n",
       "      <th>mean</th>\n",
       "      <td>12879.500000</td>\n",
       "      <td>31.023602</td>\n",
       "      <td>89.558579</td>\n",
       "      <td>4107.621467</td>\n",
       "      <td>2.008385</td>\n",
       "      <td>1983.054969</td>\n",
       "    </tr>\n",
       "    <tr>\n",
       "      <th>std</th>\n",
       "      <td>7436.415803</td>\n",
       "      <td>26.409263</td>\n",
       "      <td>105.144103</td>\n",
       "      <td>1576.315767</td>\n",
       "      <td>0.704541</td>\n",
       "      <td>10.010992</td>\n",
       "    </tr>\n",
       "    <tr>\n",
       "      <th>min</th>\n",
       "      <td>0.000000</td>\n",
       "      <td>3.000000</td>\n",
       "      <td>3.000000</td>\n",
       "      <td>11.000000</td>\n",
       "      <td>1.000000</td>\n",
       "      <td>1901.000000</td>\n",
       "    </tr>\n",
       "    <tr>\n",
       "      <th>25%</th>\n",
       "      <td>6439.750000</td>\n",
       "      <td>15.000000</td>\n",
       "      <td>21.000000</td>\n",
       "      <td>3106.000000</td>\n",
       "      <td>2.000000</td>\n",
       "      <td>1978.000000</td>\n",
       "    </tr>\n",
       "    <tr>\n",
       "      <th>50%</th>\n",
       "      <td>12879.500000</td>\n",
       "      <td>21.000000</td>\n",
       "      <td>58.000000</td>\n",
       "      <td>4821.000000</td>\n",
       "      <td>2.000000</td>\n",
       "      <td>1985.000000</td>\n",
       "    </tr>\n",
       "    <tr>\n",
       "      <th>75%</th>\n",
       "      <td>19319.250000</td>\n",
       "      <td>67.000000</td>\n",
       "      <td>93.000000</td>\n",
       "      <td>5257.000000</td>\n",
       "      <td>3.000000</td>\n",
       "      <td>1990.000000</td>\n",
       "    </tr>\n",
       "    <tr>\n",
       "      <th>max</th>\n",
       "      <td>25759.000000</td>\n",
       "      <td>81.000000</td>\n",
       "      <td>383.000000</td>\n",
       "      <td>6638.000000</td>\n",
       "      <td>3.000000</td>\n",
       "      <td>2001.000000</td>\n",
       "    </tr>\n",
       "  </tbody>\n",
       "</table>\n",
       "</div>"
      ],
      "text/plain": [
       "         Unnamed: 0  station_A_id  station_B_id       bike_id     user_type  \\\n",
       "count  25760.000000  25760.000000  25760.000000  25760.000000  25760.000000   \n",
       "mean   12879.500000     31.023602     89.558579   4107.621467      2.008385   \n",
       "std     7436.415803     26.409263    105.144103   1576.315767      0.704541   \n",
       "min        0.000000      3.000000      3.000000     11.000000      1.000000   \n",
       "25%     6439.750000     15.000000     21.000000   3106.000000      2.000000   \n",
       "50%    12879.500000     21.000000     58.000000   4821.000000      2.000000   \n",
       "75%    19319.250000     67.000000     93.000000   5257.000000      3.000000   \n",
       "max    25759.000000     81.000000    383.000000   6638.000000      3.000000   \n",
       "\n",
       "       user_birth_year  \n",
       "count     25760.000000  \n",
       "mean       1983.054969  \n",
       "std          10.010992  \n",
       "min        1901.000000  \n",
       "25%        1978.000000  \n",
       "50%        1985.000000  \n",
       "75%        1990.000000  \n",
       "max        2001.000000  "
      ]
     },
     "execution_count": 5,
     "metadata": {},
     "output_type": "execute_result"
    }
   ],
   "source": [
    "ride_sharing.describe()"
   ]
  },
  {
   "cell_type": "code",
   "execution_count": 6,
   "id": "9d03c510",
   "metadata": {},
   "outputs": [
    {
     "data": {
      "text/plain": [
       "count    25760.000000\n",
       "mean         2.008385\n",
       "std          0.704541\n",
       "min          1.000000\n",
       "25%          2.000000\n",
       "50%          2.000000\n",
       "75%          3.000000\n",
       "max          3.000000\n",
       "Name: user_type, dtype: float64"
      ]
     },
     "execution_count": 6,
     "metadata": {},
     "output_type": "execute_result"
    }
   ],
   "source": [
    "ride_sharing['user_type'].describe()"
   ]
  },
  {
   "cell_type": "markdown",
   "id": "a67d2805",
   "metadata": {},
   "source": [
    "### Question\n",
    "\n",
    "By looking at the summary statistics - they don't really seem to offer much description on how users are distributed along their purchase type, why do you think that is?\n",
    "\n",
    "Possible Answers\n",
    "- The user_type column is not of the correct type, it should be converted to str.\n",
    "- The user_type column has an infinite set of possible values, it should be converted to category.\n",
    "- The user_type column has an finite set of possible values that represent groupings of data, it should be converted to category.+"
   ]
  },
  {
   "cell_type": "markdown",
   "id": "41eee11f",
   "metadata": {},
   "source": [
    "- Convert user_type into categorical by assigning it the 'category' data type and store it in the user_type_cat column.\n",
    "- Make sure you converted user_type_cat correctly by using an assert statement."
   ]
  },
  {
   "cell_type": "code",
   "execution_count": 7,
   "id": "65b90f55",
   "metadata": {},
   "outputs": [
    {
     "name": "stdout",
     "output_type": "stream",
     "text": [
      "count     25760\n",
      "unique        3\n",
      "top           2\n",
      "freq      12972\n",
      "Name: user_type_cat, dtype: int64\n"
     ]
    }
   ],
   "source": [
    "# Convert user_type from integer to category\n",
    "ride_sharing['user_type_cat'] = ride_sharing['user_type'].astype('category')\n",
    "\n",
    "# Write an assert statement confirming the change\n",
    "assert ride_sharing['user_type_cat'].dtype == 'category'\n",
    "\n",
    "# Print new summary statistics \n",
    "print(ride_sharing['user_type_cat'].describe())"
   ]
  },
  {
   "cell_type": "markdown",
   "id": "a719d2f0",
   "metadata": {},
   "source": [
    "Awesome work! Take a look at the new summary statistics, it seems that most users are pay per ride users!"
   ]
  },
  {
   "cell_type": "code",
   "execution_count": 8,
   "id": "d5aeaf52",
   "metadata": {},
   "outputs": [],
   "source": [
    "assert 6-4 == 2"
   ]
  },
  {
   "cell_type": "code",
   "execution_count": 9,
   "id": "7f0b00c8",
   "metadata": {},
   "outputs": [
    {
     "ename": "AssertionError",
     "evalue": "",
     "output_type": "error",
     "traceback": [
      "\u001b[0;31m---------------------------------------------------------------------------\u001b[0m",
      "\u001b[0;31mAssertionError\u001b[0m                            Traceback (most recent call last)",
      "\u001b[0;32m<ipython-input-9-6d622e51acec>\u001b[0m in \u001b[0;36m<module>\u001b[0;34m\u001b[0m\n\u001b[0;32m----> 1\u001b[0;31m \u001b[0;32massert\u001b[0m \u001b[0;36m6\u001b[0m\u001b[0;34m-\u001b[0m\u001b[0;36m4\u001b[0m \u001b[0;34m==\u001b[0m \u001b[0;36m1\u001b[0m\u001b[0;34m\u001b[0m\u001b[0;34m\u001b[0m\u001b[0m\n\u001b[0m",
      "\u001b[0;31mAssertionError\u001b[0m: "
     ]
    }
   ],
   "source": [
    "assert 6-4 == 1"
   ]
  },
  {
   "cell_type": "markdown",
   "id": "f807964a",
   "metadata": {},
   "source": [
    "## Summing strings and concatenating numbers\n",
    "\n",
    "In the previous exercise, you were able to identify that category is the correct data type for user_type and convert it in order to extract relevant statistical summaries that shed light on the distribution of user_type.\n",
    "\n",
    "Another common data type problem is importing what should be numerical values as strings, as mathematical operations such as summing and multiplication lead to string concatenation, not numerical outputs.\n",
    "\n",
    "In this exercise, you'll be converting the string column duration to the type int. Before that however, you will need to make sure to strip \"minutes\" from the column in order to make sure pandas reads it as numerical. The pandas package has been imported as pd.\n",
    "\n",
    "Instructions\n",
    "- Use the .strip() method to strip duration of \"minutes\" and store it in the duration_trim column.\n",
    "- Convert duration_trim to int and store it in the duration_time column.\n",
    "- Write an assert statement that checks if duration_time's data type is now an int.\n",
    "- Print the average ride duration."
   ]
  },
  {
   "cell_type": "code",
   "execution_count": 11,
   "id": "c5d1f936",
   "metadata": {},
   "outputs": [
    {
     "name": "stdout",
     "output_type": "stream",
     "text": [
      "         duration duration_trim  duration_time\n",
      "0      12 minutes            12             12\n",
      "1      24 minutes            24             24\n",
      "2       8 minutes             8              8\n",
      "3       4 minutes             4              4\n",
      "4      11 minutes            11             11\n",
      "...           ...           ...            ...\n",
      "25755  11 minutes            11             11\n",
      "25756  10 minutes            10             10\n",
      "25757  14 minutes            14             14\n",
      "25758  14 minutes            14             14\n",
      "25759  29 minutes            29             29\n",
      "\n",
      "[25760 rows x 3 columns]\n",
      "duration         object\n",
      "duration_trim    object\n",
      "duration_time     int64\n",
      "dtype: object\n",
      "11.389052795031056\n"
     ]
    }
   ],
   "source": [
    "# Strip duration of minutes\n",
    "ride_sharing['duration_trim'] = ride_sharing['duration'].str.strip(' minutes')\n",
    "#print(ride_sharing['duration_trim'][:5])\n",
    "\n",
    "# Convert duration to integer\n",
    "ride_sharing['duration_time'] = ride_sharing['duration_trim'].astype('int')\n",
    "#print(ride_sharing['duration_time'][:5])\n",
    "\n",
    "# Write an assert statement making sure of conversion\n",
    "assert ride_sharing['duration_time'].dtype == 'int'\n",
    "\n",
    "# Print formed columns and calculate average ride duration \n",
    "print(ride_sharing[['duration','duration_trim','duration_time']])\n",
    "print(ride_sharing[['duration','duration_trim','duration_time']].dtypes)\n",
    "print(ride_sharing['duration_time'].mean())"
   ]
  },
  {
   "cell_type": "markdown",
   "id": "f3ad2c3f",
   "metadata": {},
   "source": [
    "Great work! 11 minutes is really not bad for an average ride duration in a city like San-Francisco. In the next lesson, you're going to jump right ahead into sanity checking the range of values in your data."
   ]
  },
  {
   "cell_type": "markdown",
   "id": "0c366ebf",
   "metadata": {},
   "source": [
    "2 Data range constraints.mp4\n",
    "\n",
    "## Tire size constraints\n",
    "\n",
    "In this lesson, you're going to build on top of the work you've been doing with the ride_sharing DataFrame. You'll be working with the tire_sizes column which contains data on each bike's tire size.\n",
    "\n",
    "Bicycle tire sizes could be either 26″, 27″ or 29″ and are here correctly stored as a categorical value. In an effort to cut maintenance costs, the ride sharing provider decided to set the maximum tire size to be 27″.\n",
    "\n",
    "In this exercise, you will make sure the tire_sizes column has the correct range by first converting it to an integer, then setting and testing the new upper limit of 27″ for tire sizes.\n",
    "\n",
    "Instructions\n",
    "100 XP\n",
    "- Convert the tire_sizes column from category to 'int'.\n",
    "- Use .loc[] to set all values of tire_sizes above 27 to 27.\n",
    "- Reconvert back tire_sizes to 'category' from int.\n",
    "- Print the description of the tire_sizes."
   ]
  },
  {
   "cell_type": "code",
   "execution_count": null,
   "id": "cb58fe6e",
   "metadata": {},
   "outputs": [],
   "source": [
    "print(ride_sharing.head())\n",
    "# duration  station_A_id                                     station_A_name  station_B_id                   station_B_name  bike_id   user_type  user_birth_year user_gender tire_sizes\n",
    "# 0  12 minutes            81                                 Berry St at 4th St           323               Broadway at Kearny     5480  Subscriber             1959        Male       27.0\n",
    "# 1  24 minutes             3       Powell St BART Station (Market St at 4th St)           118  Eureka Valley Recreation Center     5193  Subscriber             1965        Male       26.0\n"
   ]
  },
  {
   "cell_type": "code",
   "execution_count": null,
   "id": "61979901",
   "metadata": {},
   "outputs": [],
   "source": [
    "print(ride_sharing.dtypes)\n",
    "# duration             object\n",
    "# station_A_id          int64\n",
    "# station_A_name       object\n",
    "# station_B_id          int64\n",
    "# station_B_name       object\n",
    "# bike_id               int64\n",
    "# user_type            objec nt\n",
    "# user_birth_year       int64\n",
    "# user_gender          object\n",
    "# tire_sizes         category"
   ]
  },
  {
   "cell_type": "code",
   "execution_count": null,
   "id": "4afe4e1f",
   "metadata": {},
   "outputs": [],
   "source": [
    "# Convert tire_sizes to integer\n",
    "ride_sharing['tire_sizes'] = ride_sharing['tire_sizes'].astype('int')\n",
    "\n",
    "# Set all values above 27 to 27\n",
    "ride_sharing.loc[ride_sharing['tire_sizes'] > 27, 'tire_sizes'] = 27\n",
    "\n",
    "# Reconvert tire_sizes back to categorical\n",
    "ride_sharing['tire_sizes'] = ride_sharing['tire_sizes'].astype('category')\n",
    "\n",
    "# Print tire size description\n",
    "print(ride_sharing['tire_sizes'].describe())\n",
    "\n",
    "# count     25760\n",
    "# unique        2\n",
    "# top          27\n",
    "# freq      13274\n",
    "# Name: tire_sizes, dtype: int64"
   ]
  },
  {
   "cell_type": "markdown",
   "id": "ab8a77d3",
   "metadata": {},
   "source": [
    "Awesome work! You can look at the new maximum by looking at the top row in the description. Notice how essential it was to convert tire_sizes into integer before setting a new maximum."
   ]
  },
  {
   "cell_type": "markdown",
   "id": "baadc7ae",
   "metadata": {},
   "source": [
    "## Back to the future\n",
    "\n",
    "A new update to the data pipeline feeding into the ride_sharing DataFrame has been updated to register each ride's date. This information is stored in the ride_date column of the type object, which represents strings in pandas.\n",
    "\n",
    "A bug was discovered which was relaying rides taken today as taken next year. To fix this, you will find all instances of the ride_date column that occur anytime in the future, and set the maximum possible value of this column to today's date. Before doing so, you would need to convert ride_date to a datetime object.\n",
    "\n",
    "The datetime package has been imported as dt, alongside all the packages you've been using till now.\n",
    "\n",
    "Instructions\n",
    "- Convert ride_date to a datetime object using to_datetime(), then convert the datetime object into a date and store it in ride_dt column.\n",
    "- Create the variable today, which stores today's date by using the dt.date.today() function.\n",
    "- For all instances of ride_dt in the future, set them to today's date.\n",
    "- Print the maximum date in the ride_dt column."
   ]
  },
  {
   "cell_type": "code",
   "execution_count": null,
   "id": "0831a5da",
   "metadata": {},
   "outputs": [],
   "source": [
    "print(ride_sharing.head())\n",
    "#     duration  station_A_id                                     station_A_name  station_B_id                   station_B_name  ...   user_type user_birth_year  user_gender tire_sizes   ride_date\n",
    "#0  12 minutes            81                                 Berry St at 4th St           323               Broadway at Kearny  ...  Subscriber            1959         Male       27.0  2020-01-19\n",
    "#1  24 minutes             3       Powell St BART Station (Market St at 4th St)           118  Eureka Valley Recreation Center  ...  Subscriber            1965         Male       26.0  2018-10-24\n",
    "print(ride_sharing.dtypes)\n",
    "# duration             object\n",
    "# station_A_id          int64\n",
    "# station_A_name       object\n",
    "# station_B_id          int64\n",
    "# station_B_name       object\n",
    "# bike_id               int64\n",
    "# user_type            object\n",
    "# user_birth_year       int64\n",
    "# user_gender          object\n",
    "# tire_sizes         category\n",
    "# ride_date            object\n",
    "# dtype: object"
   ]
  },
  {
   "cell_type": "code",
   "execution_count": null,
   "id": "c01dcd15",
   "metadata": {},
   "outputs": [],
   "source": [
    "# Convert ride_date to date\n",
    "ride_sharing['ride_dt'] = pd.to_datetime(ride_sharing['ride_date']).dt.date\n",
    "\n",
    "# Save today's date\n",
    "today = dt.date.today()\n",
    "\n",
    "# Set all in the future to today's date\n",
    "ride_sharing.loc[ride_sharing['ride_dt'] > today, 'ride_dt'] = today\n",
    "\n",
    "# Print maximum of ride_dt column\n",
    "print(ride_sharing['ride_dt'].max())"
   ]
  },
  {
   "cell_type": "markdown",
   "id": "f80059ae",
   "metadata": {},
   "source": [
    "Great job! Imagine counting the number of rides taken today without having cleaned your ranges correctly. You would have wildly underreported your findings!"
   ]
  },
  {
   "cell_type": "markdown",
   "id": "840d11d5",
   "metadata": {},
   "source": [
    "3 Uniqueness constraints.mp4\n",
    "\n",
    "## How big is your subset?\n",
    "\n",
    "You have the following loans DataFrame which contains loan and credit score data for consumers, and some metadata such as their first and last names. You want to find both complete and incomplete duplicates using .duplicated().\n",
    "\n",
    "first_name\tlast_name\tcredit_score\thas_loan\n",
    "Justin\tSaddlemeyer\t600\t1\n",
    "Hadrien\tLacroix\t450\t0\n",
    "Choose the correct usage of .duplicated() below:\n",
    "\n",
    "\n",
    "Answer the question\n",
    "50XP\n",
    "Possible Answers\n",
    "\n",
    "- loans.duplicated() \n",
    "  \n",
    "Because the default method returns both complete and incomplete duplicates.\n",
    "- loans.duplicated(subset = 'first_name') \n",
    "\n",
    "Because constraining the duplicate rows to the first name lets me find incomplete duplicates as well.\n",
    "- loans.duplicated(subset = ['first_name', 'last_name'], keep = False) +\n",
    "  \n",
    "Because subsetting on consumer metadata and not discarding any duplicate returns all duplicated rows.\n",
    "- loans.duplicated(subset = ['first_name', 'last_name'], keep = 'first')\n",
    "\n",
    "Because this drops all duplicates."
   ]
  },
  {
   "cell_type": "markdown",
   "id": "38c7aaa8",
   "metadata": {},
   "source": [
    "Correct! Subsetting on metadata and keeping all duplicate records gives you a better bird-eye's view over your data and how to duplicate it! You can even subset the loans DataFrame using bracketing and sort the values so you can properly identify the duplicates."
   ]
  },
  {
   "cell_type": "markdown",
   "id": "303412de",
   "metadata": {},
   "source": [
    "## Finding duplicates\n",
    "\n",
    "A new update to the data pipeline feeding into ride_sharing has added the ride_id column, which represents a unique identifier for each ride.\n",
    "\n",
    "The update however coincided with radically shorter average ride duration times and irregular user birth dates set in the future. Most importantly, the number of rides taken has increased by 20% overnight, leading you to think there might be both complete and incomplete duplicates in the ride_sharing DataFrame.\n",
    "\n",
    "In this exercise, you will confirm this suspicion by finding those duplicates. A sample of ride_sharing is in your environment, as well as all the packages you've been working with thus far.\n",
    "\n",
    "Instructions\n",
    "- Find duplicated rows of ride_id in the ride_sharing DataFrame while setting keep to False.\n",
    "- Subset ride_sharing on duplicates and sort by ride_id and assign the results to duplicated_rides.\n",
    "- Print the ride_id, duration and user_birth_year columns of duplicated_rides in that order."
   ]
  },
  {
   "cell_type": "code",
   "execution_count": null,
   "id": "affc7c20",
   "metadata": {},
   "outputs": [],
   "source": [
    "# Find duplicates\n",
    "duplicates = ride_sharing.duplicated(subset=['ride_id'], keep=False)\n",
    "\n",
    "# Sort your duplicated rides\n",
    "duplicated_rides = ride_sharing[duplicates].sort_values(by='ride_id')\n",
    "\n",
    "# Print relevant columns of duplicated_rides\n",
    "print(duplicated_rides[['ride_id','duration','user_birth_year']])\n",
    "\n",
    "#     ride_id  duration  user_birth_year\n",
    "# 22       33        10             1979\n",
    "# 39       33         2             1979\n",
    "# 53       55         9             1985\n",
    "# 65       55         9             1985\n",
    "# 74       71        11             1997\n",
    "# 75       71        11             1997\n",
    "# 76       89         9             1986\n",
    "# 77       89         9             2060"
   ]
  },
  {
   "cell_type": "markdown",
   "id": "9c1ff4dd",
   "metadata": {},
   "source": [
    "Great job! Notice that rides 33 and 89 are incomplete duplicates, whereas the remaining are complete. You'll learn how to treat them in the next exercise!"
   ]
  },
  {
   "cell_type": "markdown",
   "id": "9d12b8c7",
   "metadata": {},
   "source": [
    "## Treating duplicates\n",
    "\n",
    "In the last exercise, you were able to verify that the new update feeding into ride_sharing contains a bug generating both complete and incomplete duplicated rows for some values of the ride_id column, with occasional discrepant values for the user_birth_year and duration columns.\n",
    "\n",
    "In this exercise, you will be treating those duplicated rows by first dropping complete duplicates, and then merging the incomplete duplicate rows into one while keeping the average duration, and the minimum user_birth_year for each set of incomplete duplicate rows.\n",
    "\n",
    "Instructions\n",
    "- Drop complete duplicates in ride_sharing and store the results in ride_dup.\n",
    "- Create the statistics dictionary which holds minimum aggregation for user_birth_year and mean aggregation for duration.\n",
    "- Drop incomplete duplicates by grouping by ride_id and applying the aggregation in statistics.\n",
    "- Find duplicates again and run the assert statement to verify de-duplication."
   ]
  },
  {
   "cell_type": "code",
   "execution_count": null,
   "id": "3c63624a",
   "metadata": {},
   "outputs": [],
   "source": [
    "# Drop complete duplicates from ride_sharing\n",
    "ride_dup = ride_sharing.drop_duplicates()\n",
    "\n",
    "# Create statistics dictionary for aggregation function\n",
    "statistics = {'user_birth_year': 'min', 'duration': 'mean'}\n",
    "\n",
    "# Group by ride_id and compute new statistics\n",
    "ride_unique = ride_dup.groupby('ride_id').agg(statistics).reset_index()\n",
    "\n",
    "# Find duplicated values again\n",
    "duplicates = ride_unique.duplicated(subset = 'ride_id', keep = False)\n",
    "duplicated_rides = ride_unique[duplicates == True]\n",
    "\n",
    "# Assert duplicates are processed\n",
    "assert duplicated_rides.shape[0] == 0   "
   ]
  },
  {
   "cell_type": "markdown",
   "id": "2e832ca4",
   "metadata": {},
   "source": [
    "4 Membership constraints.mp4\n",
    "\n",
    "## Finding consistency\n",
    "\n",
    "In this exercise and throughout this chapter, you'll be working with the airlines DataFrame which contains survey responses on the San Francisco Airport from airline customers.\n",
    "\n",
    "The DataFrame contains flight metadata such as the airline, the destination, waiting times as well as answers to key questions regarding cleanliness, safety, and satisfaction. Another DataFrame named categories was created, containing all correct possible values for the survey columns.\n",
    "\n",
    "In this exercise, you will use both of these DataFrames to find survey answers with inconsistent values, and drop them, effectively performing an outer and inner join on both these DataFrames as seen in the video exercise. The pandas package has been imported as pd, and the airlines and categories DataFrames are in your environment.\n",
    "\n",
    "Instructions 1/4\n",
    "- Print the categories DataFrame and take a close look at all possible correct categories of the survey columns.\n",
    "- Print the unique values of the survey columns in airlines using the .unique() method."
   ]
  },
  {
   "cell_type": "code",
   "execution_count": 22,
   "id": "0af833af",
   "metadata": {},
   "outputs": [
    {
     "data": {
      "text/html": [
       "<div>\n",
       "<style scoped>\n",
       "    .dataframe tbody tr th:only-of-type {\n",
       "        vertical-align: middle;\n",
       "    }\n",
       "\n",
       "    .dataframe tbody tr th {\n",
       "        vertical-align: top;\n",
       "    }\n",
       "\n",
       "    .dataframe thead th {\n",
       "        text-align: right;\n",
       "    }\n",
       "</style>\n",
       "<table border=\"1\" class=\"dataframe\">\n",
       "  <thead>\n",
       "    <tr style=\"text-align: right;\">\n",
       "      <th></th>\n",
       "      <th>Unnamed: 0</th>\n",
       "      <th>id</th>\n",
       "      <th>day</th>\n",
       "      <th>airline</th>\n",
       "      <th>destination</th>\n",
       "      <th>dest_region</th>\n",
       "      <th>dest_size</th>\n",
       "      <th>boarding_area</th>\n",
       "      <th>dept_time</th>\n",
       "      <th>wait_min</th>\n",
       "      <th>cleanliness</th>\n",
       "      <th>safety</th>\n",
       "      <th>satisfaction</th>\n",
       "    </tr>\n",
       "  </thead>\n",
       "  <tbody>\n",
       "    <tr>\n",
       "      <th>0</th>\n",
       "      <td>0</td>\n",
       "      <td>1351</td>\n",
       "      <td>Tuesday</td>\n",
       "      <td>UNITED INTL</td>\n",
       "      <td>KANSAI</td>\n",
       "      <td>Asia</td>\n",
       "      <td>Hub</td>\n",
       "      <td>Gates 91-102</td>\n",
       "      <td>2018-12-31</td>\n",
       "      <td>115.0</td>\n",
       "      <td>Clean</td>\n",
       "      <td>Neutral</td>\n",
       "      <td>Very satisfied</td>\n",
       "    </tr>\n",
       "    <tr>\n",
       "      <th>1</th>\n",
       "      <td>1</td>\n",
       "      <td>373</td>\n",
       "      <td>Friday</td>\n",
       "      <td>ALASKA</td>\n",
       "      <td>SAN JOSE DEL CABO</td>\n",
       "      <td>Canada/Mexico</td>\n",
       "      <td>Small</td>\n",
       "      <td>Gates 50-59</td>\n",
       "      <td>2018-12-31</td>\n",
       "      <td>135.0</td>\n",
       "      <td>Clean</td>\n",
       "      <td>Very safe</td>\n",
       "      <td>Very satisfied</td>\n",
       "    </tr>\n",
       "    <tr>\n",
       "      <th>2</th>\n",
       "      <td>2</td>\n",
       "      <td>2820</td>\n",
       "      <td>Thursday</td>\n",
       "      <td>DELTA</td>\n",
       "      <td>LOS ANGELES</td>\n",
       "      <td>West US</td>\n",
       "      <td>Hub</td>\n",
       "      <td>Gates 40-48</td>\n",
       "      <td>2018-12-31</td>\n",
       "      <td>70.0</td>\n",
       "      <td>Average</td>\n",
       "      <td>Somewhat safe</td>\n",
       "      <td>Neutral</td>\n",
       "    </tr>\n",
       "    <tr>\n",
       "      <th>3</th>\n",
       "      <td>3</td>\n",
       "      <td>1157</td>\n",
       "      <td>Tuesday</td>\n",
       "      <td>SOUTHWEST</td>\n",
       "      <td>LOS ANGELES</td>\n",
       "      <td>West US</td>\n",
       "      <td>Hub</td>\n",
       "      <td>Gates 20-39</td>\n",
       "      <td>2018-12-31</td>\n",
       "      <td>190.0</td>\n",
       "      <td>Clean</td>\n",
       "      <td>Very safe</td>\n",
       "      <td>Somewhat satsified</td>\n",
       "    </tr>\n",
       "    <tr>\n",
       "      <th>4</th>\n",
       "      <td>4</td>\n",
       "      <td>2992</td>\n",
       "      <td>Wednesday</td>\n",
       "      <td>AMERICAN</td>\n",
       "      <td>MIAMI</td>\n",
       "      <td>East US</td>\n",
       "      <td>Hub</td>\n",
       "      <td>Gates 50-59</td>\n",
       "      <td>2018-12-31</td>\n",
       "      <td>559.0</td>\n",
       "      <td>Somewhat clean</td>\n",
       "      <td>Very safe</td>\n",
       "      <td>Somewhat satsified</td>\n",
       "    </tr>\n",
       "  </tbody>\n",
       "</table>\n",
       "</div>"
      ],
      "text/plain": [
       "   Unnamed: 0    id        day      airline        destination    dest_region  \\\n",
       "0           0  1351    Tuesday  UNITED INTL             KANSAI           Asia   \n",
       "1           1   373     Friday       ALASKA  SAN JOSE DEL CABO  Canada/Mexico   \n",
       "2           2  2820   Thursday        DELTA        LOS ANGELES        West US   \n",
       "3           3  1157    Tuesday    SOUTHWEST        LOS ANGELES        West US   \n",
       "4           4  2992  Wednesday     AMERICAN              MIAMI        East US   \n",
       "\n",
       "  dest_size boarding_area   dept_time  wait_min     cleanliness  \\\n",
       "0       Hub  Gates 91-102  2018-12-31     115.0           Clean   \n",
       "1     Small   Gates 50-59  2018-12-31     135.0           Clean   \n",
       "2       Hub   Gates 40-48  2018-12-31      70.0         Average   \n",
       "3       Hub   Gates 20-39  2018-12-31     190.0           Clean   \n",
       "4       Hub   Gates 50-59  2018-12-31     559.0  Somewhat clean   \n",
       "\n",
       "          safety        satisfaction  \n",
       "0        Neutral      Very satisfied  \n",
       "1      Very safe      Very satisfied  \n",
       "2  Somewhat safe             Neutral  \n",
       "3      Very safe  Somewhat satsified  \n",
       "4      Very safe  Somewhat satsified  "
      ]
     },
     "execution_count": 22,
     "metadata": {},
     "output_type": "execute_result"
    }
   ],
   "source": [
    "airlines = pd.read_csv('/Users/Andrew/Downloads/(DataCamp) Cleaning Data in Python/airlines_final.csv')\n",
    "airlines['cleanliness'] = airlines['cleanliness'].astype('category')\n",
    "airlines['safety'] = airlines['safety'].astype('category')\n",
    "airlines['satisfaction'] = airlines['satisfaction'].astype('category')\n",
    "airlines.head()"
   ]
  },
  {
   "cell_type": "code",
   "execution_count": 18,
   "id": "cc391e8f",
   "metadata": {},
   "outputs": [
    {
     "data": {
      "text/html": [
       "<div>\n",
       "<style scoped>\n",
       "    .dataframe tbody tr th:only-of-type {\n",
       "        vertical-align: middle;\n",
       "    }\n",
       "\n",
       "    .dataframe tbody tr th {\n",
       "        vertical-align: top;\n",
       "    }\n",
       "\n",
       "    .dataframe thead th {\n",
       "        text-align: right;\n",
       "    }\n",
       "</style>\n",
       "<table border=\"1\" class=\"dataframe\">\n",
       "  <thead>\n",
       "    <tr style=\"text-align: right;\">\n",
       "      <th></th>\n",
       "      <th>cleanliness</th>\n",
       "      <th>safety</th>\n",
       "      <th>satisfaction</th>\n",
       "    </tr>\n",
       "  </thead>\n",
       "  <tbody>\n",
       "    <tr>\n",
       "      <th>0</th>\n",
       "      <td>Clean</td>\n",
       "      <td>Neutral</td>\n",
       "      <td>Very satisfied</td>\n",
       "    </tr>\n",
       "    <tr>\n",
       "      <th>1</th>\n",
       "      <td>Average</td>\n",
       "      <td>Very safe</td>\n",
       "      <td>Neutral</td>\n",
       "    </tr>\n",
       "    <tr>\n",
       "      <th>2</th>\n",
       "      <td>Somewhat clean</td>\n",
       "      <td>Somewhat safe</td>\n",
       "      <td>Somewhat satisfied</td>\n",
       "    </tr>\n",
       "    <tr>\n",
       "      <th>3</th>\n",
       "      <td>Somewhat dirty</td>\n",
       "      <td>Very unsafe</td>\n",
       "      <td>Somewhat unsatisfied</td>\n",
       "    </tr>\n",
       "    <tr>\n",
       "      <th>4</th>\n",
       "      <td>Dirty</td>\n",
       "      <td>Somewhat unsafe</td>\n",
       "      <td>Very unsatisfied</td>\n",
       "    </tr>\n",
       "  </tbody>\n",
       "</table>\n",
       "</div>"
      ],
      "text/plain": [
       "      cleanliness           safety          satisfaction\n",
       "0           Clean          Neutral        Very satisfied\n",
       "1         Average        Very safe               Neutral\n",
       "2  Somewhat clean    Somewhat safe    Somewhat satisfied\n",
       "3  Somewhat dirty      Very unsafe  Somewhat unsatisfied\n",
       "4           Dirty  Somewhat unsafe      Very unsatisfied"
      ]
     },
     "execution_count": 18,
     "metadata": {},
     "output_type": "execute_result"
    }
   ],
   "source": [
    "categories = pd.DataFrame({'cleanliness': ['Clean','Average','Somewhat clean','Somewhat dirty','Dirty'],\n",
    "                           'safety': ['Neutral','Very safe','Somewhat safe','Very unsafe','Somewhat unsafe'],\n",
    "                           'satisfaction': ['Very satisfied','Neutral','Somewhat satisfied','Somewhat unsatisfied','Very unsatisfied']\n",
    "                          })\n",
    "categories"
   ]
  },
  {
   "cell_type": "code",
   "execution_count": 19,
   "id": "afa86ef4",
   "metadata": {},
   "outputs": [
    {
     "data": {
      "text/plain": [
       "{'Neutral', 'Somewhat safe', 'Somewhat unsafe', 'Very safe', 'Very unsafe'}"
      ]
     },
     "execution_count": 19,
     "metadata": {},
     "output_type": "execute_result"
    }
   ],
   "source": [
    "set(airlines['safety'])"
   ]
  },
  {
   "cell_type": "code",
   "execution_count": 20,
   "id": "9e42e88e",
   "metadata": {},
   "outputs": [
    {
     "data": {
      "text/plain": [
       "array(['Neutral', 'Very safe', 'Somewhat safe', 'Very unsafe',\n",
       "       'Somewhat unsafe'], dtype=object)"
      ]
     },
     "execution_count": 20,
     "metadata": {},
     "output_type": "execute_result"
    }
   ],
   "source": [
    "airlines['safety'].unique()"
   ]
  },
  {
   "cell_type": "code",
   "execution_count": 24,
   "id": "8c219e6a",
   "metadata": {},
   "outputs": [
    {
     "name": "stdout",
     "output_type": "stream",
     "text": [
      "      cleanliness           safety          satisfaction\n",
      "0           Clean          Neutral        Very satisfied\n",
      "1         Average        Very safe               Neutral\n",
      "2  Somewhat clean    Somewhat safe    Somewhat satisfied\n",
      "3  Somewhat dirty      Very unsafe  Somewhat unsatisfied\n",
      "4           Dirty  Somewhat unsafe      Very unsatisfied\n",
      "Cleanliness:  ['Clean', 'Average', 'Somewhat clean', 'Somewhat dirty', 'Dirty']\n",
      "Categories (5, object): ['Clean', 'Average', 'Somewhat clean', 'Somewhat dirty', 'Dirty'] \n",
      "\n",
      "Safety:  ['Neutral', 'Very safe', 'Somewhat safe', 'Very unsafe', 'Somewhat unsafe']\n",
      "Categories (5, object): ['Neutral', 'Very safe', 'Somewhat safe', 'Very unsafe', 'Somewhat unsafe'] \n",
      "\n",
      "Satisfaction:  ['Very satisfied', 'Neutral', 'Somewhat satsified', 'Somewhat unsatisfied', 'Very unsatisfied']\n",
      "Categories (5, object): ['Very satisfied', 'Neutral', 'Somewhat satsified', 'Somewhat unsatisfied', 'Very unsatisfied'] \n",
      "\n",
      "Unnamed: 0          int64\n",
      "id                  int64\n",
      "day                object\n",
      "airline            object\n",
      "destination        object\n",
      "dest_region        object\n",
      "dest_size          object\n",
      "boarding_area      object\n",
      "dept_time          object\n",
      "wait_min          float64\n",
      "cleanliness      category\n",
      "safety           category\n",
      "satisfaction     category\n",
      "dtype: object\n"
     ]
    }
   ],
   "source": [
    "# AK: dataset is different from the lab!!!\n",
    "# Print categories DataFrame\n",
    "print(categories)\n",
    "\n",
    "# Print unique values of survey columns in airlines\n",
    "print('Cleanliness: ', airlines['cleanliness'].unique(), \"\\n\")\n",
    "print('Safety: ', airlines['safety'].unique(), \"\\n\")\n",
    "print('Satisfaction: ', airlines['satisfaction'].unique(), \"\\n\")\n",
    "\n",
    "# AK: from the lab\n",
    "# Cleanliness:  ['Clean', 'Average', 'Unacceptable', 'Somewhat clean', 'Somewhat dirty', 'Dirty']\n",
    "# Categories (6, object): ['Average', 'Clean', 'Dirty', 'Somewhat clean', 'Somewhat dirty', 'Unacceptable'] \n",
    "# Safety:  ['Neutral', 'Very safe', 'Somewhat safe', 'Very unsafe', 'Somewhat unsafe']\n",
    "# Categories (5, object): ['Neutral', 'Somewhat safe', 'Somewhat unsafe', 'Very safe', 'Very unsafe'] \n",
    "# Satisfaction:  ['Very satisfied', 'Neutral', 'Somewhat satisfied', 'Somewhat unsatisfied', 'Very unsatisfied']\n",
    "# Categories (5, object): ['Neutral', 'Somewhat satisfied', 'Somewhat unsatisfied', 'Very satisfied', 'Very unsatisfied'] \n",
    "\n",
    "print(airlines.dtypes)"
   ]
  },
  {
   "cell_type": "markdown",
   "id": "d6fbec90",
   "metadata": {},
   "source": [
    "## Finding consistency\n",
    "\n",
    "In this exercise and throughout this chapter, you'll be working with the airlines DataFrame which contains survey responses on the San Francisco Airport from airline customers.\n",
    "\n",
    "The DataFrame contains flight metadata such as the airline, the destination, waiting times as well as answers to key questions regarding cleanliness, safety, and satisfaction. Another DataFrame named categories was created, containing all correct possible values for the survey columns.\n",
    "\n",
    "In this exercise, you will use both of these DataFrames to find survey answers with inconsistent values, and drop them, effectively performing an outer and inner join on both these DataFrames as seen in the video exercise. The pandas package has been imported as pd, and the airlines and categories DataFrames are in your environment.\n",
    "\n",
    "Instructions 2/4\n",
    "\n",
    "Take a look at the output. Out of the cleanliness, safety and satisfaction columns, which one has an inconsistent category and what is it?\n",
    "\n",
    "Possible Answers\n",
    "\n",
    "- cleanliness because it has an Unacceptable category.+\n",
    "- cleanliness because it has a Terribly dirty category.\n",
    "- satisfaction because it has a Very satisfied category.\n"
   ]
  },
  {
   "cell_type": "markdown",
   "id": "f11e1fa7",
   "metadata": {},
   "source": [
    "- Create a set out of the cleanliness column in airlines using set() and find the inconsistent category by finding the difference in the cleanliness column of categories.\n",
    "- Find rows of airlines with a cleanliness value not in categories and print the output."
   ]
  },
  {
   "cell_type": "code",
   "execution_count": null,
   "id": "6ca4393c",
   "metadata": {},
   "outputs": [],
   "source": [
    "# Find the cleanliness category in airlines not in categories\n",
    "cat_clean = set(airlines['cleanliness']).difference(categories['cleanliness'])\n",
    "print(cat_clean)\n",
    "# {'Unacceptable'}\n",
    "\n",
    "# Find rows with that category\n",
    "cat_clean_rows = airlines['cleanliness'].isin(cat_clean)\n",
    "print(cat_clean_rows.head())\n",
    "# 0    False\n",
    "# 1    False\n",
    "# 2    False\n",
    "# 3    False\n",
    "# 4    True\n",
    "# Name: cleanliness, dtype: bool\n",
    "\n",
    "# Print rows with inconsistent category\n",
    "print(airlines[cat_clean_rows])\n",
    "#        id        day           airline  destination  dest_region dest_size boarding_area   dept_time  wait_min   cleanliness         safety        satisfaction\n",
    "# 4    2992  Wednesday          AMERICAN        MIAMI      East US       Hub   Gates 50-59  2018-12-31     559.0  Unacceptable      Very safe  Somewhat satisfied\n",
    "# 18   2913     Friday  TURKISH AIRLINES     ISTANBUL  Middle East       Hub  Gates 91-102  2018-12-31     225.0  Unacceptable      Very safe  Somewhat satisfied\n",
    "# 100  2321  Wednesday         SOUTHWEST  LOS ANGELES      West US       Hub   Gates 20-39  2018-12-31     130.0  Unacceptable  Somewhat safe  Somewhat satisfied"
   ]
  },
  {
   "cell_type": "markdown",
   "id": "0acafb85",
   "metadata": {},
   "source": [
    "- Print the rows with the consistent categories of cleanliness only."
   ]
  },
  {
   "cell_type": "code",
   "execution_count": null,
   "id": "fc06ecf2",
   "metadata": {},
   "outputs": [],
   "source": [
    "# Print rows with consistent categories only\n",
    "print(airlines[~cat_clean_rows].head())\n",
    "#            id       day        airline        destination    dest_region dest_size boarding_area   dept_time  wait_min     cleanliness         safety        satisfaction\n",
    "#    0     1351   Tuesday    UNITED INTL             KANSAI           Asia       Hub  Gates 91-102  2018-12-31     115.0           Clean        Neutral      Very satisfied\n",
    "#    1      373    Friday         ALASKA  SAN JOSE DEL CABO  Canada/Mexico     Small   Gates 50-59  2018-12-31     135.0           Clean      Very safe      Very satisfied\n",
    "#    2     2820  Thursday          DELTA        LOS ANGELES        West US       Hub   Gates 40-48  2018-12-31      70.0         Average  Somewhat safe             Neutral\n",
    "#    3     1157   Tuesday      SOUTHWEST        LOS ANGELES        West US       Hub   Gates 20-39  2018-12-31     190.0           Clean      Very safe  Somewhat satisfied\n",
    "#    5      634  Thursday         ALASKA             NEWARK        East US       Hub   Gates 50-59  2018-12-31     140.0  Somewhat clean      Very safe      Very satisfied\n",
    " "
   ]
  },
  {
   "cell_type": "markdown",
   "id": "cf4fd050",
   "metadata": {},
   "source": [
    "Great _consistent_ work! Keep it up! In the next lesson, we'll be looking at more in depth solutions to dealing with dirty categorical data."
   ]
  },
  {
   "cell_type": "markdown",
   "id": "a1faa733",
   "metadata": {},
   "source": [
    "5 Categorical variables.mp4\n",
    "\n",
    "## Inconsistent categories\n",
    "\n",
    "In this exercise, you'll be revisiting the airlines DataFrame from the previous lesson.\n",
    "\n",
    "As a reminder, the DataFrame contains flight metadata such as the airline, the destination, waiting times as well as answers to key questions regarding cleanliness, safety, and satisfaction on the San Francisco Airport.\n",
    "\n",
    "In this exercise, you will examine two categorical columns from this DataFrame, dest_region and dest_size respectively, assess how to address them and make sure that they are cleaned and ready for analysis. The pandas package has been imported as pd, and the airlines DataFrame is in your environment.\n",
    "\n",
    "Instructions 1/4\n",
    "- Print the unique values in dest_region and dest_size respectively."
   ]
  },
  {
   "cell_type": "code",
   "execution_count": 25,
   "id": "241e3505",
   "metadata": {},
   "outputs": [
    {
     "name": "stdout",
     "output_type": "stream",
     "text": [
      "['Asia' 'Canada/Mexico' 'West US' 'East US' 'Midwest US' 'EAST US'\n",
      " 'Middle East' 'Europe' 'eur' 'Central/South America'\n",
      " 'Australia/New Zealand' 'middle east']\n",
      "['Hub' 'Small' '    Hub' 'Medium' 'Large' 'Hub     ' '    Small'\n",
      " 'Medium     ' '    Medium' 'Small     ' '    Large' 'Large     ']\n"
     ]
    }
   ],
   "source": [
    "# Print unique values of both columns\n",
    "print(airlines['dest_region'].unique())\n",
    "print(airlines['dest_size'].unique())"
   ]
  },
  {
   "cell_type": "markdown",
   "id": "0fe72ee6",
   "metadata": {},
   "source": [
    "### Question\n",
    "\n",
    "From looking at the output, what do you think is the problem with these columns?\n",
    "\n",
    "Possible Answers\n",
    "- The dest_region column has only inconsistent values due to capitalization.\n",
    "- The dest_region column has inconsistent values due to capitalization and has one value that needs to be remapped.\n",
    "- The dest_size column has only inconsistent values due to leading and trailing spaces.\n",
    "- Both 2 and 3 are correct.+"
   ]
  },
  {
   "cell_type": "markdown",
   "id": "80473012",
   "metadata": {},
   "source": [
    "- Change the capitalization of all values of dest_region to lowercase.\n",
    "- Replace the 'eur' with 'europe' in dest_region using the .replace() method."
   ]
  },
  {
   "cell_type": "code",
   "execution_count": 27,
   "id": "b8a9d64a",
   "metadata": {},
   "outputs": [
    {
     "name": "stdout",
     "output_type": "stream",
     "text": [
      "['asia' 'canada/mexico' 'west us' 'east us' 'midwest us' 'middle east'\n",
      " 'europe' 'central/south america' 'australia/new zealand']\n"
     ]
    }
   ],
   "source": [
    "# Lower dest_region column and then replace \"eur\" with \"europe\"\n",
    "airlines['dest_region'] = airlines['dest_region'].str.lower()\n",
    "airlines['dest_region'] = airlines['dest_region'].replace({'eur':'europe'})\n",
    "print(airlines['dest_region'].unique())"
   ]
  },
  {
   "cell_type": "markdown",
   "id": "c0204c73",
   "metadata": {},
   "source": [
    "- Strip white spaces from the dest_size column using the .strip() method.\n",
    "- Verify that the changes have been into effect by printing the unique values of the columns using .unique() ."
   ]
  },
  {
   "cell_type": "code",
   "execution_count": 28,
   "id": "09e09cf8",
   "metadata": {},
   "outputs": [
    {
     "name": "stdout",
     "output_type": "stream",
     "text": [
      "['asia' 'canada/mexico' 'west us' 'east us' 'midwest us' 'middle east'\n",
      " 'europe' 'central/south america' 'australia/new zealand']\n",
      "['Hub' 'Small' 'Medium' 'Large']\n"
     ]
    }
   ],
   "source": [
    "# Remove white spaces from `dest_size`\n",
    "airlines['dest_size'] = airlines['dest_size'].str.strip()\n",
    "\n",
    "# Verify changes have been effected\n",
    "print(airlines['dest_region'].unique())\n",
    "print(airlines['dest_size'].unique())"
   ]
  },
  {
   "cell_type": "markdown",
   "id": "b2121f21",
   "metadata": {},
   "source": [
    "Great work! Notice how all categories have been properly treated?"
   ]
  },
  {
   "cell_type": "markdown",
   "id": "6315f055",
   "metadata": {},
   "source": [
    "## Remapping categories\n",
    "\n",
    "To better understand survey respondents from airlines, you want to find out if there is a relationship between certain responses and the day of the week and wait time at the gate.\n",
    "\n",
    "The airlines DataFrame contains the day and wait_min columns, which are categorical and numerical respectively. The day column contains the exact day a flight took place, and wait_min contains the amount of minutes it took travelers to wait at the gate. To make your analysis easier, you want to create two new categorical variables:\n",
    "\n",
    "wait_type: 'short' for 0-60 min, 'medium' for 60-180 and long for 180+\n",
    "day_week: 'weekday' if day is in the weekday, 'weekend' if day is in the weekend.\n",
    "The pandas and numpy packages have been imported as pd and np. Let's create some new categorical data!\n",
    "\n",
    "Instructions\n",
    "- Create the ranges and labels for the wait_type column mentioned in the description.\n",
    "- Create the wait_type column by from wait_min by using pd.cut(), while inputting label_ranges and label_names in the correct arguments.\n",
    "- Create the mapping dictionary mapping weekdays to 'weekday' and weekend days to 'weekend'.\n",
    "- Create the day_week column by using .replace()."
   ]
  },
  {
   "cell_type": "code",
   "execution_count": 31,
   "id": "614a118d",
   "metadata": {},
   "outputs": [
    {
     "data": {
      "text/html": [
       "<div>\n",
       "<style scoped>\n",
       "    .dataframe tbody tr th:only-of-type {\n",
       "        vertical-align: middle;\n",
       "    }\n",
       "\n",
       "    .dataframe tbody tr th {\n",
       "        vertical-align: top;\n",
       "    }\n",
       "\n",
       "    .dataframe thead th {\n",
       "        text-align: right;\n",
       "    }\n",
       "</style>\n",
       "<table border=\"1\" class=\"dataframe\">\n",
       "  <thead>\n",
       "    <tr style=\"text-align: right;\">\n",
       "      <th>wait_type</th>\n",
       "      <th>short</th>\n",
       "      <th>medium</th>\n",
       "      <th>long</th>\n",
       "    </tr>\n",
       "    <tr>\n",
       "      <th>day_week</th>\n",
       "      <th></th>\n",
       "      <th></th>\n",
       "      <th></th>\n",
       "    </tr>\n",
       "  </thead>\n",
       "  <tbody>\n",
       "    <tr>\n",
       "      <th>weekday</th>\n",
       "      <td>74</td>\n",
       "      <td>1389</td>\n",
       "      <td>537</td>\n",
       "    </tr>\n",
       "    <tr>\n",
       "      <th>weekend</th>\n",
       "      <td>7</td>\n",
       "      <td>322</td>\n",
       "      <td>148</td>\n",
       "    </tr>\n",
       "  </tbody>\n",
       "</table>\n",
       "</div>"
      ],
      "text/plain": [
       "wait_type  short   medium  long  \n",
       "day_week                         \n",
       "weekday        74    1389     537\n",
       "weekend         7     322     148"
      ]
     },
     "execution_count": 31,
     "metadata": {},
     "output_type": "execute_result"
    }
   ],
   "source": [
    "import numpy as np\n",
    "\n",
    "# Create ranges for categories\n",
    "label_ranges = [0, 60, 180, np.inf]\n",
    "label_names = ['short', 'medium', 'long']\n",
    "\n",
    "# Create wait_type column\n",
    "airlines['wait_type'] = pd.cut(airlines['wait_min'], bins = label_ranges, \n",
    "                                labels = label_names)\n",
    "\n",
    "# Create mappings and replace\n",
    "mappings = {'Monday':'weekday', 'Tuesday':'weekday', 'Wednesday': 'weekday', \n",
    "            'Thursday': 'weekday', 'Friday': 'weekday', \n",
    "            'Saturday': 'weekend', 'Sunday': 'weekend'}\n",
    "\n",
    "airlines['day_week'] = airlines['day'].replace(mappings)\n",
    "\n",
    "#print(airlines.head())\n",
    "\n",
    "airlines.groupby(by=['day_week','wait_type'])['id'].count().unstack(level=1)"
   ]
  },
  {
   "cell_type": "code",
   "execution_count": 33,
   "id": "6018dc23",
   "metadata": {},
   "outputs": [
    {
     "data": {
      "text/html": [
       "<div>\n",
       "<style scoped>\n",
       "    .dataframe tbody tr th:only-of-type {\n",
       "        vertical-align: middle;\n",
       "    }\n",
       "\n",
       "    .dataframe tbody tr th {\n",
       "        vertical-align: top;\n",
       "    }\n",
       "\n",
       "    .dataframe thead th {\n",
       "        text-align: right;\n",
       "    }\n",
       "</style>\n",
       "<table border=\"1\" class=\"dataframe\">\n",
       "  <thead>\n",
       "    <tr style=\"text-align: right;\">\n",
       "      <th></th>\n",
       "      <th>wait_min</th>\n",
       "    </tr>\n",
       "    <tr>\n",
       "      <th>day_week</th>\n",
       "      <th></th>\n",
       "    </tr>\n",
       "  </thead>\n",
       "  <tbody>\n",
       "    <tr>\n",
       "      <th>weekday</th>\n",
       "      <td>164.40550</td>\n",
       "    </tr>\n",
       "    <tr>\n",
       "      <th>weekend</th>\n",
       "      <td>173.12369</td>\n",
       "    </tr>\n",
       "  </tbody>\n",
       "</table>\n",
       "</div>"
      ],
      "text/plain": [
       "           wait_min\n",
       "day_week           \n",
       "weekday   164.40550\n",
       "weekend   173.12369"
      ]
     },
     "execution_count": 33,
     "metadata": {},
     "output_type": "execute_result"
    }
   ],
   "source": [
    "airlines.groupby(by='day_week').agg({'wait_min':'mean'})"
   ]
  },
  {
   "cell_type": "code",
   "execution_count": 38,
   "id": "48dde9f4",
   "metadata": {},
   "outputs": [
    {
     "data": {
      "text/html": [
       "<div>\n",
       "<style scoped>\n",
       "    .dataframe tbody tr th:only-of-type {\n",
       "        vertical-align: middle;\n",
       "    }\n",
       "\n",
       "    .dataframe tbody tr th {\n",
       "        vertical-align: top;\n",
       "    }\n",
       "\n",
       "    .dataframe thead tr th {\n",
       "        text-align: left;\n",
       "    }\n",
       "\n",
       "    .dataframe thead tr:last-of-type th {\n",
       "        text-align: right;\n",
       "    }\n",
       "</style>\n",
       "<table border=\"1\" class=\"dataframe\">\n",
       "  <thead>\n",
       "    <tr>\n",
       "      <th></th>\n",
       "      <th colspan=\"9\" halign=\"left\">wait_min</th>\n",
       "    </tr>\n",
       "    <tr>\n",
       "      <th></th>\n",
       "      <th colspan=\"3\" halign=\"left\">mean</th>\n",
       "      <th colspan=\"3\" halign=\"left\">std</th>\n",
       "      <th colspan=\"3\" halign=\"left\">count</th>\n",
       "    </tr>\n",
       "    <tr>\n",
       "      <th>wait_type</th>\n",
       "      <th>short</th>\n",
       "      <th>medium</th>\n",
       "      <th>long</th>\n",
       "      <th>short</th>\n",
       "      <th>medium</th>\n",
       "      <th>long</th>\n",
       "      <th>short</th>\n",
       "      <th>medium</th>\n",
       "      <th>long</th>\n",
       "    </tr>\n",
       "    <tr>\n",
       "      <th>day_week</th>\n",
       "      <th></th>\n",
       "      <th></th>\n",
       "      <th></th>\n",
       "      <th></th>\n",
       "      <th></th>\n",
       "      <th></th>\n",
       "      <th></th>\n",
       "      <th></th>\n",
       "      <th></th>\n",
       "    </tr>\n",
       "  </thead>\n",
       "  <tbody>\n",
       "    <tr>\n",
       "      <th>weekday</th>\n",
       "      <td>48.878378</td>\n",
       "      <td>123.624190</td>\n",
       "      <td>285.810056</td>\n",
       "      <td>14.223223</td>\n",
       "      <td>31.215988</td>\n",
       "      <td>148.437777</td>\n",
       "      <td>74</td>\n",
       "      <td>1389</td>\n",
       "      <td>537</td>\n",
       "    </tr>\n",
       "    <tr>\n",
       "      <th>weekend</th>\n",
       "      <td>51.142857</td>\n",
       "      <td>131.900621</td>\n",
       "      <td>268.581081</td>\n",
       "      <td>13.569925</td>\n",
       "      <td>31.329861</td>\n",
       "      <td>115.305274</td>\n",
       "      <td>7</td>\n",
       "      <td>322</td>\n",
       "      <td>148</td>\n",
       "    </tr>\n",
       "  </tbody>\n",
       "</table>\n",
       "</div>"
      ],
      "text/plain": [
       "            wait_min                                                \\\n",
       "                mean                                std              \n",
       "wait_type     short       medium      long       short      medium   \n",
       "day_week                                                             \n",
       "weekday    48.878378  123.624190  285.810056  14.223223  31.215988   \n",
       "weekend    51.142857  131.900621  268.581081  13.569925  31.329861   \n",
       "\n",
       "                                            \n",
       "                       count                \n",
       "wait_type      long   short  medium long    \n",
       "day_week                                    \n",
       "weekday    148.437777     74   1389    537  \n",
       "weekend    115.305274      7    322    148  "
      ]
     },
     "execution_count": 38,
     "metadata": {},
     "output_type": "execute_result"
    }
   ],
   "source": [
    "airlines.groupby(by=['day_week','wait_type']).agg({'wait_min':['mean','std','count']}).unstack(level=1)"
   ]
  },
  {
   "cell_type": "markdown",
   "id": "da251bf0",
   "metadata": {},
   "source": [
    "Awesome work! You just created two new categorical variables, that when combined with other columns, could produce really interesting analysis. Don't forget, you can always use an assert statement to check your changes passed."
   ]
  },
  {
   "cell_type": "markdown",
   "id": "3292299d",
   "metadata": {},
   "source": [
    "6 Cleaning text data.mp4\n",
    "\n",
    "## Removing titles and taking names\n",
    "\n",
    "While collecting survey respondent metadata in the airlines DataFrame, the full name of respondents was saved in the full_name column. However upon closer inspection, you found that a lot of the different names are prefixed by honorifics such as \"Dr.\", \"Mr.\", \"Ms.\" and \"Miss\".\n",
    "\n",
    "Your ultimate objective is to create two new columns named first_name and last_name, containing the first and last names of respondents respectively. Before doing so however, you need to remove honorifics.\n",
    "\n",
    "The airlines DataFrame is in your environment, alongside pandas as pd.\n",
    "\n",
    "Instructions\n",
    "- Remove \"Dr.\", \"Mr.\", \"Miss\" and \"Ms.\" from full_name by replacing them with an empty string \"\" in that order.\n",
    "- Run the assert statement using .str.contains() that tests whether full_name still contains any of the honorifics."
   ]
  },
  {
   "cell_type": "code",
   "execution_count": 46,
   "id": "988ae8fe",
   "metadata": {},
   "outputs": [
    {
     "data": {
      "text/html": [
       "<div>\n",
       "<style scoped>\n",
       "    .dataframe tbody tr th:only-of-type {\n",
       "        vertical-align: middle;\n",
       "    }\n",
       "\n",
       "    .dataframe tbody tr th {\n",
       "        vertical-align: top;\n",
       "    }\n",
       "\n",
       "    .dataframe thead th {\n",
       "        text-align: right;\n",
       "    }\n",
       "</style>\n",
       "<table border=\"1\" class=\"dataframe\">\n",
       "  <thead>\n",
       "    <tr style=\"text-align: right;\">\n",
       "      <th></th>\n",
       "      <th>Unnamed: 0</th>\n",
       "      <th>id</th>\n",
       "      <th>day</th>\n",
       "      <th>airline</th>\n",
       "      <th>destination</th>\n",
       "      <th>dest_region</th>\n",
       "      <th>dest_size</th>\n",
       "      <th>boarding_area</th>\n",
       "      <th>dept_time</th>\n",
       "      <th>wait_min</th>\n",
       "      <th>cleanliness</th>\n",
       "      <th>safety</th>\n",
       "      <th>satisfaction</th>\n",
       "      <th>wait_type</th>\n",
       "      <th>day_week</th>\n",
       "    </tr>\n",
       "  </thead>\n",
       "  <tbody>\n",
       "    <tr>\n",
       "      <th>0</th>\n",
       "      <td>0</td>\n",
       "      <td>1351</td>\n",
       "      <td>Tuesday</td>\n",
       "      <td>UNITED INTL</td>\n",
       "      <td>KANSAI</td>\n",
       "      <td>asia</td>\n",
       "      <td>Hub</td>\n",
       "      <td>Gates 91-102</td>\n",
       "      <td>2018-12-31</td>\n",
       "      <td>115.0</td>\n",
       "      <td>Clean</td>\n",
       "      <td>Neutral</td>\n",
       "      <td>Very satisfied</td>\n",
       "      <td>medium</td>\n",
       "      <td>weekday</td>\n",
       "    </tr>\n",
       "    <tr>\n",
       "      <th>1</th>\n",
       "      <td>1</td>\n",
       "      <td>373</td>\n",
       "      <td>Friday</td>\n",
       "      <td>ALASKA</td>\n",
       "      <td>SAN JOSE DEL CABO</td>\n",
       "      <td>canada/mexico</td>\n",
       "      <td>Small</td>\n",
       "      <td>Gates 50-59</td>\n",
       "      <td>2018-12-31</td>\n",
       "      <td>135.0</td>\n",
       "      <td>Clean</td>\n",
       "      <td>Very safe</td>\n",
       "      <td>Very satisfied</td>\n",
       "      <td>medium</td>\n",
       "      <td>weekday</td>\n",
       "    </tr>\n",
       "    <tr>\n",
       "      <th>2</th>\n",
       "      <td>2</td>\n",
       "      <td>2820</td>\n",
       "      <td>Thursday</td>\n",
       "      <td>DELTA</td>\n",
       "      <td>LOS ANGELES</td>\n",
       "      <td>west us</td>\n",
       "      <td>Hub</td>\n",
       "      <td>Gates 40-48</td>\n",
       "      <td>2018-12-31</td>\n",
       "      <td>70.0</td>\n",
       "      <td>Average</td>\n",
       "      <td>Somewhat safe</td>\n",
       "      <td>Neutral</td>\n",
       "      <td>medium</td>\n",
       "      <td>weekday</td>\n",
       "    </tr>\n",
       "    <tr>\n",
       "      <th>3</th>\n",
       "      <td>3</td>\n",
       "      <td>1157</td>\n",
       "      <td>Tuesday</td>\n",
       "      <td>SOUTHWEST</td>\n",
       "      <td>LOS ANGELES</td>\n",
       "      <td>west us</td>\n",
       "      <td>Hub</td>\n",
       "      <td>Gates 20-39</td>\n",
       "      <td>2018-12-31</td>\n",
       "      <td>190.0</td>\n",
       "      <td>Clean</td>\n",
       "      <td>Very safe</td>\n",
       "      <td>Somewhat satsified</td>\n",
       "      <td>long</td>\n",
       "      <td>weekday</td>\n",
       "    </tr>\n",
       "    <tr>\n",
       "      <th>4</th>\n",
       "      <td>4</td>\n",
       "      <td>2992</td>\n",
       "      <td>Wednesday</td>\n",
       "      <td>AMERICAN</td>\n",
       "      <td>MIAMI</td>\n",
       "      <td>east us</td>\n",
       "      <td>Hub</td>\n",
       "      <td>Gates 50-59</td>\n",
       "      <td>2018-12-31</td>\n",
       "      <td>559.0</td>\n",
       "      <td>Somewhat clean</td>\n",
       "      <td>Very safe</td>\n",
       "      <td>Somewhat satsified</td>\n",
       "      <td>long</td>\n",
       "      <td>weekday</td>\n",
       "    </tr>\n",
       "  </tbody>\n",
       "</table>\n",
       "</div>"
      ],
      "text/plain": [
       "   Unnamed: 0    id        day      airline        destination    dest_region  \\\n",
       "0           0  1351    Tuesday  UNITED INTL             KANSAI           asia   \n",
       "1           1   373     Friday       ALASKA  SAN JOSE DEL CABO  canada/mexico   \n",
       "2           2  2820   Thursday        DELTA        LOS ANGELES        west us   \n",
       "3           3  1157    Tuesday    SOUTHWEST        LOS ANGELES        west us   \n",
       "4           4  2992  Wednesday     AMERICAN              MIAMI        east us   \n",
       "\n",
       "  dest_size boarding_area   dept_time  wait_min     cleanliness  \\\n",
       "0       Hub  Gates 91-102  2018-12-31     115.0           Clean   \n",
       "1     Small   Gates 50-59  2018-12-31     135.0           Clean   \n",
       "2       Hub   Gates 40-48  2018-12-31      70.0         Average   \n",
       "3       Hub   Gates 20-39  2018-12-31     190.0           Clean   \n",
       "4       Hub   Gates 50-59  2018-12-31     559.0  Somewhat clean   \n",
       "\n",
       "          safety        satisfaction wait_type day_week  \n",
       "0        Neutral      Very satisfied    medium  weekday  \n",
       "1      Very safe      Very satisfied    medium  weekday  \n",
       "2  Somewhat safe             Neutral    medium  weekday  \n",
       "3      Very safe  Somewhat satsified      long  weekday  \n",
       "4      Very safe  Somewhat satsified      long  weekday  "
      ]
     },
     "execution_count": 46,
     "metadata": {},
     "output_type": "execute_result"
    }
   ],
   "source": [
    "airlines.head()"
   ]
  },
  {
   "cell_type": "code",
   "execution_count": null,
   "id": "411abbaf",
   "metadata": {},
   "outputs": [],
   "source": [
    "# AK: from the lab\n",
    "airlines.head()\n",
    "# Out[1]:\n",
    "#      id                full_name        day      airline        destination  ...   dept_time wait_min     cleanliness         safety        satisfaction\n",
    "# 0  1351           Melodie Stuart    Tuesday  UNITED INTL             KANSAI  ...  2018-12-31    115.0           Clean        Neutral      Very satisfied\n",
    "# 1   373          Dominic Shannon     Friday       ALASKA  SAN JOSE DEL CABO  ...  2018-12-31    135.0           Clean      Very safe      Very satisfied\n",
    "# 2  2820        Quintessa Tillman   Thursday        DELTA        LOS ANGELES  ...  2018-12-31     70.0         Average  Somewhat safe             Neutral\n",
    "# 3  1157  Dr. Christine Nicholson    Tuesday    SOUTHWEST        LOS ANGELES  ...  2018-12-31    190.0           Clean      Very safe  Somewhat satsified\n",
    "# 4  2992          Regina Clements  Wednesday     AMERICAN              MIAMI  ...  2018-12-31    559.0  Somewhat clean      Very safe  Somewhat satsified\n"
   ]
  },
  {
   "cell_type": "code",
   "execution_count": null,
   "id": "d07237d3",
   "metadata": {},
   "outputs": [],
   "source": [
    "# Replace \"Dr.\" with empty string \"\"\n",
    "airlines['full_name'] = airlines['full_name'].str.replace(\"Dr.\",\"\")\n",
    "\n",
    "# Replace \"Mr.\" with empty string \"\"\n",
    "airlines['full_name'] = airlines['full_name'].str.replace(\"Mr.\",\"\")\n",
    "\n",
    "# Replace \"Miss\" with empty string \"\"\n",
    "airlines['full_name'] = airlines['full_name'].str.replace(\"Miss\",\"\")\n",
    "\n",
    "# Replace \"Ms.\" with empty string \"\"\n",
    "airlines['full_name'] = airlines['full_name'].str.replace(\"Ms.\",\"\")\n",
    "\n",
    "# Assert that full_name has no honorifics\n",
    "assert airlines['full_name'].str.contains('Ms.|Mr.|Miss|Dr.').any() == False"
   ]
  },
  {
   "cell_type": "code",
   "execution_count": 45,
   "id": "2fa4b9e9",
   "metadata": {},
   "outputs": [
    {
     "name": "stdout",
     "output_type": "stream",
     "text": [
      "0    False\n",
      "1     True\n",
      "2    False\n",
      "3    False\n",
      "4    False\n",
      "Name: c, dtype: bool\n",
      "True\n"
     ]
    }
   ],
   "source": [
    "ar = ['as','df','tg','gb','rt']\n",
    "ar_df = pd.DataFrame({'c':ar})\n",
    "print(ar_df['c'].str.contains('d'))\n",
    "print(ar_df['c'].str.contains('d').any())"
   ]
  },
  {
   "cell_type": "markdown",
   "id": "6215ade0",
   "metadata": {},
   "source": [
    "Great work! By normalizing full names this way, you can now easily split them into first names and last names!"
   ]
  },
  {
   "cell_type": "markdown",
   "id": "37776ae8",
   "metadata": {},
   "source": [
    "## Keeping it descriptive\n",
    "\n",
    "To further understand travelers' experiences in the San Francisco Airport, the quality assurance department sent out a qualitative questionnaire to all travelers who gave the airport the worst score on all possible categories. The objective behind this questionnaire is to identify common patterns in what travelers are saying about the airport.\n",
    "\n",
    "Their response is stored in the survey_response column. Upon a closer look, you realized a few of the answers gave the shortest possible character amount without much substance. In this exercise, you will isolate the responses with a character count higher than 40 , and make sure your new DataFrame contains responses with 40 characters or more using an assert statement.\n",
    "\n",
    "The airlines DataFrame is in your environment, and pandas is imported as pd.\n",
    "\n",
    "Instructions\n",
    "- Using the airlines DataFrame, store the length of each instance in the survey_response column in resp_length by using .str.len().\n",
    "- Isolate the rows of airlines with resp_length higher than 40.\n",
    "- Assert that the smallest survey_response length in airlines_survey is now bigger than 40"
   ]
  },
  {
   "cell_type": "code",
   "execution_count": null,
   "id": "297c9b05",
   "metadata": {},
   "outputs": [],
   "source": [
    "# airlines.head()\n",
    "# Out[1]:\n",
    "#      id        day      airline        destination    dest_region  ... wait_min cleanliness       safety      satisfaction           survey_response\n",
    "# 0  1351    Tuesday  UNITED INTL             KANSAI           Asia  ...    115.0       Dirty  Very unsafe  Very unsatisfied           It was terrible\n",
    "# 1   373     Friday       ALASKA  SAN JOSE DEL CABO  Canada/Mexico  ...    135.0       Dirty  Very unsafe  Very unsatisfied  I didn't like the flight\n",
    "# 2  2820   Thursday        DELTA        LOS ANGELES        West US  ...     70.0       Dirty  Very unsafe  Very unsatisfied              I hate this \n",
    "# 3  1157    Tuesday    SOUTHWEST        LOS ANGELES        West US  ...    190.0       Dirty  Very unsafe  Very unsatisfied                 Not a fan\n",
    "# 4  2992  Wednesday     AMERICAN              MIAMI        East US  ...    559.0       Dirty  Very unsafe  Very unsatisfied                       Bad\n"
   ]
  },
  {
   "cell_type": "code",
   "execution_count": null,
   "id": "7fb65c80",
   "metadata": {},
   "outputs": [],
   "source": [
    "# Store length of each row in survey_response column\n",
    "resp_length = airlines['survey_response'].str.len()\n",
    "print(airlines['survey_response'][:5], resp_length[:5])\n",
    "# 0             It was terrible\n",
    "# 1    I didn't like the flight\n",
    "# 2                I hate this \n",
    "# 3                   Not a fan\n",
    "# 4                         Bad\n",
    "# Name: survey_response, dtype: object 0    15\n",
    "# 1    24\n",
    "# 2    12\n",
    "# 3     9\n",
    "# 4     3\n",
    "\n",
    "# Find rows in airlines where resp_length > 40\n",
    "airlines_survey = airlines[resp_length > 40]\n",
    "\n",
    "# Assert minimum survey_response length is > 40\n",
    "assert airlines_survey['survey_response'].str.len().min() > 40\n",
    "\n",
    "# Print new survey_response column\n",
    "print(airlines_survey['survey_response'])\n",
    "# Name: survey_response, dtype: int64\n",
    "# 18    The airport personnell forgot to alert us of d...\n",
    "# 19    The food in the airport was really really expe...\n",
    "# 20    One of the other travelers was really loud and...\n",
    "# 21    I don't remember answering the survey with the...\n",
    "# 22    The airport personnel kept ignoring my request...\n"
   ]
  },
  {
   "cell_type": "markdown",
   "id": "d7abf606",
   "metadata": {},
   "source": [
    "Phenomenal work! These types of feedbacks are essential to improving any service. Coupled with some wordcount analysis, you can find common patterns across all survey responses in no time!"
   ]
  },
  {
   "cell_type": "markdown",
   "id": "00016057",
   "metadata": {},
   "source": [
    "7 Uniformity.mp4\n",
    "\n",
    "## Ambiguous dates\n",
    "You have a DataFrame containing a subscription_date column that was collected from various sources with different Date formats such as YYYY-mm-dd and YYYY-dd-mm. What is the best way to unify the formats for ambiguous values such as 2019-04-07?\n",
    "\n",
    "Answer the question\n",
    "\n",
    "Possible Answers\n",
    "\n",
    "- Set them to NA and drop them.\n",
    "- Infer the format of the data in question by checking the format of subsequent and previous values.\n",
    "\n",
    "Incorrect. That's definitely a possibility, but it's best to understand your data better before treating it.\n",
    "\n",
    "- Infer the format from the original data source.\n",
    "\n",
    "Incorrect. Really close! But what if you have erroneous values like 2019-28-21? It's best to always gain a clearer picture of the dynamics affecting your data.\n",
    "\n",
    "- All of the above are possible, as long as we investigate where our data comes from, and understand the dynamics affecting it before cleaning it. +\n",
    "\n",
    "Great work! Like most cleaning data tasks, ambiguous dates require a thorough understanding of where your data comes from. Diagnosing problems is the first step in finding the best solution!"
   ]
  },
  {
   "cell_type": "markdown",
   "id": "70fdf04c",
   "metadata": {},
   "source": [
    "## Uniform currencies\n",
    "\n",
    "In this exercise and throughout this chapter, you will be working with a retail banking dataset stored in the banking DataFrame. The dataset contains data on the amount of money stored in accounts (acct_amount), their currency (acct_cur), amount invested (inv_amount), account opening date (account_opened), and last transaction date (last_transaction) that were consolidated from American and European branches.\n",
    "\n",
    "You are tasked with understanding the average account size and how investments vary by the size of account, however in order to produce this analysis accurately, you first need to unify the currency amount into dollars. The pandas package has been imported as pd, and the banking DataFrame is in your environment.\n",
    "\n",
    "Instructions\n",
    "- Find the rows of acct_cur in banking that are equal to 'euro' and store them in the variable acct_eu.\n",
    "- Find all the rows of acct_amount in banking that fit the acct_eu condition, and convert them to USD by multiplying them with 1.1.\n",
    "- Find all the rows of acct_cur in banking that fit the acct_eu condition, set them to 'dollar'."
   ]
  },
  {
   "cell_type": "code",
   "execution_count": 49,
   "id": "be92bdd0",
   "metadata": {},
   "outputs": [
    {
     "data": {
      "text/html": [
       "<div>\n",
       "<style scoped>\n",
       "    .dataframe tbody tr th:only-of-type {\n",
       "        vertical-align: middle;\n",
       "    }\n",
       "\n",
       "    .dataframe tbody tr th {\n",
       "        vertical-align: top;\n",
       "    }\n",
       "\n",
       "    .dataframe thead th {\n",
       "        text-align: right;\n",
       "    }\n",
       "</style>\n",
       "<table border=\"1\" class=\"dataframe\">\n",
       "  <thead>\n",
       "    <tr style=\"text-align: right;\">\n",
       "      <th></th>\n",
       "      <th>Unnamed: 0</th>\n",
       "      <th>cust_id</th>\n",
       "      <th>birth_date</th>\n",
       "      <th>Age</th>\n",
       "      <th>acct_amount</th>\n",
       "      <th>inv_amount</th>\n",
       "      <th>fund_A</th>\n",
       "      <th>fund_B</th>\n",
       "      <th>fund_C</th>\n",
       "      <th>fund_D</th>\n",
       "      <th>account_opened</th>\n",
       "      <th>last_transaction</th>\n",
       "    </tr>\n",
       "  </thead>\n",
       "  <tbody>\n",
       "    <tr>\n",
       "      <th>0</th>\n",
       "      <td>0</td>\n",
       "      <td>870A9281</td>\n",
       "      <td>1962-06-09</td>\n",
       "      <td>58</td>\n",
       "      <td>63523.31</td>\n",
       "      <td>51295</td>\n",
       "      <td>30105.0</td>\n",
       "      <td>4138.0</td>\n",
       "      <td>1420.0</td>\n",
       "      <td>15632.0</td>\n",
       "      <td>02-09-18</td>\n",
       "      <td>22-02-19</td>\n",
       "    </tr>\n",
       "    <tr>\n",
       "      <th>1</th>\n",
       "      <td>1</td>\n",
       "      <td>166B05B0</td>\n",
       "      <td>1962-12-16</td>\n",
       "      <td>58</td>\n",
       "      <td>38175.46</td>\n",
       "      <td>15050</td>\n",
       "      <td>4995.0</td>\n",
       "      <td>938.0</td>\n",
       "      <td>6696.0</td>\n",
       "      <td>2421.0</td>\n",
       "      <td>28-02-19</td>\n",
       "      <td>31-10-18</td>\n",
       "    </tr>\n",
       "    <tr>\n",
       "      <th>2</th>\n",
       "      <td>2</td>\n",
       "      <td>BFC13E88</td>\n",
       "      <td>1990-09-12</td>\n",
       "      <td>34</td>\n",
       "      <td>59863.77</td>\n",
       "      <td>24567</td>\n",
       "      <td>10323.0</td>\n",
       "      <td>4590.0</td>\n",
       "      <td>8469.0</td>\n",
       "      <td>1185.0</td>\n",
       "      <td>25-04-18</td>\n",
       "      <td>02-04-18</td>\n",
       "    </tr>\n",
       "    <tr>\n",
       "      <th>3</th>\n",
       "      <td>3</td>\n",
       "      <td>F2158F66</td>\n",
       "      <td>1985-11-03</td>\n",
       "      <td>35</td>\n",
       "      <td>84132.10</td>\n",
       "      <td>23712</td>\n",
       "      <td>3908.0</td>\n",
       "      <td>492.0</td>\n",
       "      <td>6482.0</td>\n",
       "      <td>12830.0</td>\n",
       "      <td>07-11-17</td>\n",
       "      <td>08-11-18</td>\n",
       "    </tr>\n",
       "    <tr>\n",
       "      <th>4</th>\n",
       "      <td>4</td>\n",
       "      <td>7A73F334</td>\n",
       "      <td>1990-05-17</td>\n",
       "      <td>30</td>\n",
       "      <td>120512.00</td>\n",
       "      <td>93230</td>\n",
       "      <td>12158.4</td>\n",
       "      <td>51281.0</td>\n",
       "      <td>13434.0</td>\n",
       "      <td>18383.0</td>\n",
       "      <td>14-05-18</td>\n",
       "      <td>19-07-18</td>\n",
       "    </tr>\n",
       "  </tbody>\n",
       "</table>\n",
       "</div>"
      ],
      "text/plain": [
       "   Unnamed: 0   cust_id  birth_date  Age  acct_amount  inv_amount   fund_A  \\\n",
       "0           0  870A9281  1962-06-09   58     63523.31       51295  30105.0   \n",
       "1           1  166B05B0  1962-12-16   58     38175.46       15050   4995.0   \n",
       "2           2  BFC13E88  1990-09-12   34     59863.77       24567  10323.0   \n",
       "3           3  F2158F66  1985-11-03   35     84132.10       23712   3908.0   \n",
       "4           4  7A73F334  1990-05-17   30    120512.00       93230  12158.4   \n",
       "\n",
       "    fund_B   fund_C   fund_D account_opened last_transaction  \n",
       "0   4138.0   1420.0  15632.0       02-09-18         22-02-19  \n",
       "1    938.0   6696.0   2421.0       28-02-19         31-10-18  \n",
       "2   4590.0   8469.0   1185.0       25-04-18         02-04-18  \n",
       "3    492.0   6482.0  12830.0       07-11-17         08-11-18  \n",
       "4  51281.0  13434.0  18383.0       14-05-18         19-07-18  "
      ]
     },
     "execution_count": 49,
     "metadata": {},
     "output_type": "execute_result"
    }
   ],
   "source": [
    "banking = pd.read_csv('/Users/Andrew/Downloads/(DataCamp) Cleaning Data in Python/banking_dirty.csv')\n",
    "banking.head()"
   ]
  },
  {
   "cell_type": "code",
   "execution_count": 58,
   "id": "aa2639bf",
   "metadata": {},
   "outputs": [
    {
     "data": {
      "text/html": [
       "<div>\n",
       "<style scoped>\n",
       "    .dataframe tbody tr th:only-of-type {\n",
       "        vertical-align: middle;\n",
       "    }\n",
       "\n",
       "    .dataframe tbody tr th {\n",
       "        vertical-align: top;\n",
       "    }\n",
       "\n",
       "    .dataframe thead th {\n",
       "        text-align: right;\n",
       "    }\n",
       "</style>\n",
       "<table border=\"1\" class=\"dataframe\">\n",
       "  <thead>\n",
       "    <tr style=\"text-align: right;\">\n",
       "      <th></th>\n",
       "      <th>acct_amount</th>\n",
       "      <th>acct_amount_qcut</th>\n",
       "    </tr>\n",
       "  </thead>\n",
       "  <tbody>\n",
       "    <tr>\n",
       "      <th>0</th>\n",
       "      <td>63523.31</td>\n",
       "      <td>(59218.13, 83344.165]</td>\n",
       "    </tr>\n",
       "    <tr>\n",
       "      <th>1</th>\n",
       "      <td>38175.46</td>\n",
       "      <td>(12209.839, 59218.13]</td>\n",
       "    </tr>\n",
       "    <tr>\n",
       "      <th>2</th>\n",
       "      <td>59863.77</td>\n",
       "      <td>(59218.13, 83344.165]</td>\n",
       "    </tr>\n",
       "    <tr>\n",
       "      <th>3</th>\n",
       "      <td>84132.10</td>\n",
       "      <td>(83344.165, 95097.47]</td>\n",
       "    </tr>\n",
       "    <tr>\n",
       "      <th>4</th>\n",
       "      <td>120512.00</td>\n",
       "      <td>(95097.47, 173743123.55]</td>\n",
       "    </tr>\n",
       "  </tbody>\n",
       "</table>\n",
       "</div>"
      ],
      "text/plain": [
       "   acct_amount          acct_amount_qcut\n",
       "0     63523.31     (59218.13, 83344.165]\n",
       "1     38175.46     (12209.839, 59218.13]\n",
       "2     59863.77     (59218.13, 83344.165]\n",
       "3     84132.10     (83344.165, 95097.47]\n",
       "4    120512.00  (95097.47, 173743123.55]"
      ]
     },
     "execution_count": 58,
     "metadata": {},
     "output_type": "execute_result"
    }
   ],
   "source": [
    "banking['acct_amount_qcut'] = pd.qcut(x=banking['acct_amount'],q=[0,0.25,0.5,0.75,1])\n",
    "banking[['acct_amount','acct_amount_qcut']].head()"
   ]
  },
  {
   "cell_type": "code",
   "execution_count": 59,
   "id": "7c09363f",
   "metadata": {},
   "outputs": [
    {
     "data": {
      "text/plain": [
       "array([1.22098400e+04, 5.92181300e+04, 8.33441650e+04, 9.50974700e+04,\n",
       "       1.73743124e+08])"
      ]
     },
     "execution_count": 59,
     "metadata": {},
     "output_type": "execute_result"
    }
   ],
   "source": [
    "np.percentile(a=banking['acct_amount'],q=[0,25,50,75,100])\n"
   ]
  },
  {
   "cell_type": "code",
   "execution_count": null,
   "id": "07cc20d6",
   "metadata": {},
   "outputs": [],
   "source": [
    "# AK: dataset in the lab is different\n",
    "banking.head()\n",
    "# Out[1]:\n",
    "#     cust_id  acct_amount acct_cur  inv_amount account_opened last_transaction\n",
    "# 0  8C35540A     44244.71   dollar    35500.50       03-05-18         30-09-19\n",
    "# 1  D5536652     86506.85   dollar    81921.86       21-01-18         14-01-19\n",
    "# 2  A631984D     77799.33   dollar    46412.27       26-01-18         06-10-19\n",
    "# 3  93F2F951     93875.24     euro    76563.35       21-08-17         10-07-19\n",
    "# 4  DE0A0882     99998.35     euro    18669.01       05-06-17         15-01-19"
   ]
  },
  {
   "cell_type": "code",
   "execution_count": null,
   "id": "16c0c6cc",
   "metadata": {},
   "outputs": [],
   "source": [
    "# Find values of acct_cur that are equal to 'euro'\n",
    "acct_eu = banking['acct_cur'] == 'euro'\n",
    "\n",
    "# Convert acct_amount where it is in euro to dollars\n",
    "banking.loc[acct_eu, 'acct_amount'] = banking.loc[acct_eu, 'acct_amount'] * 1.1\n",
    "\n",
    "# Unify acct_cur column by changing 'euro' values to 'dollar'\n",
    "banking.loc[acct_eu, 'acct_cur'] = 'dollar'\n",
    "\n",
    "# Assert that only dollar currency remains\n",
    "assert banking['acct_cur'].unique() == 'dollar'"
   ]
  },
  {
   "cell_type": "markdown",
   "id": "c9b2fba3",
   "metadata": {},
   "source": [
    "Crafty currency conversion! With just a few lines of code, you made this column ready for analysis!"
   ]
  },
  {
   "cell_type": "markdown",
   "id": "00282517",
   "metadata": {},
   "source": [
    "## Uniform dates\n",
    "\n",
    "After having unified the currencies of your different account amounts, you want to add a temporal dimension to your analysis and see how customers have been investing their money given the size of their account over each year. The account_opened column represents when customers opened their accounts and is a good proxy for segmenting customer activity and investment over time.\n",
    "\n",
    "However, since this data was consolidated from multiple sources, you need to make sure that all dates are of the same format. You will do so by converting this column into a datetime object, while making sure that the format is inferred and potentially incorrect formats are set to missing. The banking DataFrame is in your environment and pandas was imported as pd.\n",
    "\n",
    "Instructions 1/4\n",
    "- Print the header of account_opened from the banking DataFrame and take a look at the different results."
   ]
  },
  {
   "cell_type": "code",
   "execution_count": null,
   "id": "c5dfdfd1",
   "metadata": {},
   "outputs": [],
   "source": [
    "print(banking['account_opened'].head())\n",
    "# 0          2018-03-05\n",
    "# 1            21-01-18\n",
    "# 2    January 26, 2018\n",
    "# 3            21-14-17\n",
    "# 4            05-06-17\n",
    "# Name: account_opened, dtype: object"
   ]
  },
  {
   "cell_type": "code",
   "execution_count": null,
   "id": "f8ab9c9d",
   "metadata": {},
   "outputs": [],
   "source": [
    "# Convert account_opened to datetime\n",
    "banking['account_opened_1'] = pd.to_datetime(banking['account_opened'],\n",
    "                                           # Infer datetime format\n",
    "                                           infer_datetime_format = True,\n",
    "                                           # Return missing value for error\n",
    "                                           errors = 'coerce')\n",
    "print(banking[['account_opened', 'account_opened_1']].head()) \n",
    "#      account_opened account_opened_1\n",
    "# 0        2018-03-05       2018-03-05\n",
    "# 1          21-01-18       2018-01-21\n",
    "# 2  January 26, 2018       2018-01-26\n",
    "# 3          21-14-17              NaT\n",
    "# 4          05-06-17       2017-05-06"
   ]
  },
  {
   "cell_type": "markdown",
   "id": "85600261",
   "metadata": {},
   "source": [
    "- Extract the year from the amended account_opened column and assign it to the acct_year column.\n",
    "- Print the newly created acct_year column."
   ]
  },
  {
   "cell_type": "code",
   "execution_count": null,
   "id": "9bb691b5",
   "metadata": {},
   "outputs": [],
   "source": [
    "# Get year of account opened\n",
    "banking['acct_year'] = banking['account_opened'].dt.strftime('%Y')\n",
    "\n",
    "# Print acct_year\n",
    "print(banking[['account_opened','acct_year']])\n",
    "\n",
    "#    account_opened acct_year\n",
    "# 0      2018-03-05      2018\n",
    "# 1      2018-01-21      2018\n",
    "# 2      2018-01-26      2018\n",
    "# 3             NaT       NaN\n",
    "# 4      2017-05-06      2017\n"
   ]
  },
  {
   "cell_type": "markdown",
   "id": "3c9ed63c",
   "metadata": {},
   "source": [
    "Cunning calendar cleaning! Now that the acct_year column is created, a simple .groupby() will show you how accounts are opened on a yearly!"
   ]
  },
  {
   "cell_type": "markdown",
   "id": "6483a0e7",
   "metadata": {},
   "source": [
    "8 Cross field validation.mp4\n",
    "\n",
    "## How's our data integrity?\n",
    "\n",
    "New data has been merged into the banking DataFrame that contains details on how investments in the inv_amount column are allocated across four different funds A, B, C and D.\n",
    "\n",
    "Furthermore, the age and birthdays of customers are now stored in the age and birth_date columns respectively.\n",
    "\n",
    "You want to understand how customers of different age groups invest. However, you want to first make sure the data you're analyzing is correct. You will do so by cross field checking values of inv_amount and age against the amount invested in different funds and customers' birthdays. Both pandas and datetime have been imported as pd and dt respectively.\n",
    "\n",
    "Instructions 1/2\n",
    "- Find the rows where the sum of all rows of the fund_columns in banking are equal to the inv_amount column.\n",
    "- Store the values of banking with consistent inv_amount in consistent_inv, and those with inconsistent ones in inconsistent_inv.\n",
    "- Store today's date into today, and manually calculate customers' ages and store them in ages_manual.\n",
    "- Find all rows of banking where the age column is equal to ages_manual and then filter banking into consistent_ages and inconsistent_ages."
   ]
  },
  {
   "cell_type": "code",
   "execution_count": null,
   "id": "ba190a89",
   "metadata": {},
   "outputs": [],
   "source": [
    "banking.head()\n",
    "#     cust_id birth_date  age  acct_amount  inv_amount  ...   fund_B   fund_C   fund_D  account_opened last_transaction\n",
    "# 0  870A9281 1962-06-09   61     63523.31       51295  ...   4138.0   1420.0  15632.0        02-09-18         22-02-19\n",
    "# 1  166B05B0 1962-12-16   61     38175.46       15050  ...    938.0   6696.0   2421.0        28-02-19         31-10-18\n",
    "# 2  BFC13E88 1990-09-12   33     59863.77       24567  ...   4590.0   8469.0   1185.0        25-04-18         02-04-18\n",
    "# 3  F2158F66 1985-11-03   38     84132.10       23712  ...    492.0   6482.0  12830.0        07-11-17         08-11-18\n"
   ]
  },
  {
   "cell_type": "code",
   "execution_count": null,
   "id": "69d6f98b",
   "metadata": {},
   "outputs": [],
   "source": [
    "# Store fund columns to sum against\n",
    "fund_columns = ['fund_A', 'fund_B', 'fund_C', 'fund_D']\n",
    "\n",
    "# Find rows where fund_columns row sum == inv_amount\n",
    "inv_equ = banking[fund_columns].sum(axis=1) == banking['inv_amount']\n",
    "\n",
    "# Store consistent and inconsistent data\n",
    "consistent_inv = banking[inv_equ]\n",
    "inconsistent_inv = banking[~inv_equ]\n",
    "\n",
    "# Store consistent and inconsistent data\n",
    "print(\"Number of inconsistent investments: \", inconsistent_inv.shape[0])\n",
    "# Number of inconsistent investments:  8"
   ]
  },
  {
   "cell_type": "code",
   "execution_count": null,
   "id": "7a86b0bd",
   "metadata": {},
   "outputs": [],
   "source": [
    "print(inconsistent_inv[['fund_A', 'fund_B', 'fund_C', 'fund_D','inv_amount']])\n",
    "# Number of inconsistent investments:  8\n",
    "#       fund_A    fund_B    fund_C    fund_D  inv_amount\n",
    "# 4   12158.40  51281.00  13434.00  18383.00       93230\n",
    "# 12  18314.00   1477.00  29049.48   5539.00       50812\n",
    "# 22   8206.00  15019.00   5559.60   6182.00       33927\n",
    "# 43    314.00   6072.28  14163.00   7908.00       27531\n",
    "# 47  33764.00   5042.00  10659.00  19237.41       66796\n",
    "# 65  28615.00  21720.05  11906.00  10763.00       70171\n",
    "# 89   8489.36  28592.00   2439.00  30419.00       68466\n",
    "# 92   6467.00  20861.00   9861.00  26004.16       60407"
   ]
  },
  {
   "cell_type": "code",
   "execution_count": null,
   "id": "3abf0745",
   "metadata": {},
   "outputs": [],
   "source": [
    "# Store today's date and find ages\n",
    "today = dt.date.today()\n",
    "ages_manual = today.year - banking['birth_date'].dt.year\n",
    "\n",
    "\n",
    "# Find rows where age column == ages_manual\n",
    "age_equ = banking['age'] == ages_manual\n",
    "\n",
    "\n",
    "# Store consistent and inconsistent data\n",
    "consistent_ages = banking[age_equ]\n",
    "inconsistent_ages = banking[~age_equ]\n",
    "\n",
    "# Store consistent and inconsistent data\n",
    "print(\"Number of inconsistent ages: \", inconsistent_ages.shape[0])\n",
    "# Number of inconsistent ages:  4\n",
    "\n",
    "assert inconsistent_ages.shape[0] == 0\n",
    "\n",
    "print(inconsistent_ages)\n",
    "#      cust_id birth_date  age  acct_amount  inv_amount  ...   fund_B    fund_C   fund_D  account_opened last_transaction\n",
    "# 4   7A73F334 1990-05-17   39    120512.00       93230  ...  51281.0  13434.00  18383.0        14-05-18         19-07-18\n",
    "# 6   6B094617 1977-08-26   52     89855.98       34549  ...    312.0  20610.00  11831.0        06-02-18         14-02-19\n",
    "# 12  EEBD980F 1990-11-20   39     57838.49       50812  ...   1477.0  29049.48   5539.0        08-12-18         04-01-20\n",
    "# 42  E7389E60 1989-01-13   40     86028.48       48085  ...  10608.0  26502.00   5244.0        04-06-17         07-08-18\n"
   ]
  },
  {
   "cell_type": "markdown",
   "id": "70df7a38",
   "metadata": {},
   "source": [
    "Awesome work! There are only 8 and 4 rows affected by inconsistent inv_amount and age values, respectively. In this case, it's best to investigate the underlying data sources before deciding on a course of action!"
   ]
  },
  {
   "cell_type": "markdown",
   "id": "b81ed5b2",
   "metadata": {},
   "source": [
    "9 Completenes.mp4\n",
    "\n",
    "## Is this missing at random?\n",
    "You've seen in the video exercise how there are a variety of missingness types when observing missing data. As a reminder, missingness types can be described as the following:\n",
    "\n",
    "- Missing Completely at Random: No systematic relationship between a column's missing values and other or own values.\n",
    "- Missing at Random: There is a systematic relationship between a column's missing values and other observed values.\n",
    "- Missing not at Random: There is a systematic relationship between a column's missing values and unobserved values.\n",
    "\n",
    "You have a DataFrame containing customer satisfaction scores for a service. What type of missingness is the following? \n",
    "\n",
    "A customer satisfaction_score column with missing values for highly dissatisfied customers.\n",
    "\n",
    "Answer the question\n",
    "\n",
    "Possible Answers\n",
    "\n",
    "- Missing completely at random.\n",
    "\n",
    "Incorrect. Hmm not really, there's obviously an underlying mechanism behind the missingness of the data.\n",
    "\n",
    "- Missing at random.\n",
    "\n",
    "Incorrect. Are you sure about that one? This would be more applicable if missing satisfaction_score values were due to values in another column of the DataFrame.\n",
    "\n",
    "- Missing not at random +\n",
    "\n",
    "Awesome work! This is a clear example of missing not at random, where low values of satisfaction_score are missing because of inherently low satisfaction!"
   ]
  },
  {
   "cell_type": "markdown",
   "id": "25dcc405",
   "metadata": {},
   "source": [
    "## Missing investors\n",
    "\n",
    "Dealing with missing data is one of the most common tasks in data science. There are a variety of types of missingness, as well as a variety of types of solutions to missing data.\n",
    "\n",
    "You just received a new version of the banking DataFrame containing data on the amount held and invested for new and existing customers. However, there are rows with missing inv_amount values.\n",
    "\n",
    "You know for a fact that most customers below 25 do not have investment accounts yet, and suspect it could be driving the missingness. The pandas, missingno and matplotlib.pyplot packages have been imported as pd, msno and plt respectively. The banking DataFrame is in your environment.\n",
    "\n",
    "Instructions 1/4\n",
    "- Print the number of missing values by column in the banking DataFrame.\n",
    "- Plot and show the missingness matrix of banking with the msno.matrix() function.\n"
   ]
  },
  {
   "cell_type": "code",
   "execution_count": 61,
   "id": "cd8a3cd1",
   "metadata": {},
   "outputs": [
    {
     "ename": "ModuleNotFoundError",
     "evalue": "No module named 'missingno'",
     "output_type": "error",
     "traceback": [
      "\u001b[0;31m---------------------------------------------------------------------------\u001b[0m",
      "\u001b[0;31mModuleNotFoundError\u001b[0m                       Traceback (most recent call last)",
      "\u001b[0;32m<ipython-input-61-bceeece93114>\u001b[0m in \u001b[0;36m<module>\u001b[0;34m\u001b[0m\n\u001b[0;32m----> 1\u001b[0;31m \u001b[0;32mimport\u001b[0m \u001b[0mmissingno\u001b[0m \u001b[0;32mas\u001b[0m \u001b[0mmsno\u001b[0m\u001b[0;34m\u001b[0m\u001b[0;34m\u001b[0m\u001b[0m\n\u001b[0m\u001b[1;32m      2\u001b[0m \u001b[0;34m\u001b[0m\u001b[0m\n\u001b[1;32m      3\u001b[0m \u001b[0;31m# Print number of missing values in banking\u001b[0m\u001b[0;34m\u001b[0m\u001b[0;34m\u001b[0m\u001b[0;34m\u001b[0m\u001b[0m\n\u001b[1;32m      4\u001b[0m \u001b[0mprint\u001b[0m\u001b[0;34m(\u001b[0m\u001b[0mbanking\u001b[0m\u001b[0;34m.\u001b[0m\u001b[0misna\u001b[0m\u001b[0;34m(\u001b[0m\u001b[0;34m)\u001b[0m\u001b[0;34m.\u001b[0m\u001b[0msum\u001b[0m\u001b[0;34m(\u001b[0m\u001b[0;34m)\u001b[0m\u001b[0;34m)\u001b[0m\u001b[0;34m\u001b[0m\u001b[0;34m\u001b[0m\u001b[0m\n\u001b[1;32m      5\u001b[0m \u001b[0;31m# cust_id              0\u001b[0m\u001b[0;34m\u001b[0m\u001b[0;34m\u001b[0m\u001b[0;34m\u001b[0m\u001b[0m\n",
      "\u001b[0;31mModuleNotFoundError\u001b[0m: No module named 'missingno'"
     ]
    }
   ],
   "source": [
    "import missingno as msno\n",
    "\n",
    "# Print number of missing values in banking\n",
    "print(banking.isna().sum())\n",
    "# cust_id              0\n",
    "# age                  0\n",
    "# acct_amount          0\n",
    "# inv_amount          13\n",
    "# account_opened       0\n",
    "# last_transaction     0\n",
    "# dtype: int64\n",
    "\n",
    "# Visualize missingness matrix\n",
    "msno.matrix(banking)\n",
    "plt.show()"
   ]
  },
  {
   "attachments": {
    "Screen%20Shot%202023-03-11%20at%207.09.01%20PM.png": {
     "image/png": "[encoded data removed]"
    }
   },
   "cell_type": "markdown",
   "id": "611bc33c",
   "metadata": {},
   "source": [
    "![Screen%20Shot%202023-03-11%20at%207.09.01%20PM.png](attachment:Screen%20Shot%202023-03-11%20at%207.09.01%20PM.png)"
   ]
  },
  {
   "cell_type": "markdown",
   "id": "271bf89c",
   "metadata": {},
   "source": [
    "- Isolate the values of banking missing values of inv_amount into missing_investors and with non-missing inv_amount values into investors."
   ]
  },
  {
   "cell_type": "code",
   "execution_count": null,
   "id": "d8153f52",
   "metadata": {},
   "outputs": [],
   "source": [
    "# Isolate missing and non missing values of inv_amount\n",
    "missing_investors = banking[banking['inv_amount'].isna()]\n",
    "investors = banking[~banking['inv_amount'].isna()]\n",
    "\n",
    "print(missing_investors)\n",
    "# dtype: int64\n",
    "#      cust_id  age  acct_amount  inv_amount account_opened last_transaction\n",
    "# 4   DE0A0882   21     99998.35         NaN       05-06-17         15-01-19\n",
    "# 14  E7389E60   22     86028.48         NaN       04-06-17         07-08-18\n",
    "# 17  D3287768   20     89961.77         NaN       03-09-18         19-10-18\n",
    "# 18  FA01676F   21     66947.30         NaN       10-08-18         23-07-19\n",
    "# 35  904A19DD   20     31981.36         NaN       28-01-19         23-06-19\n",
    "# 40  93E78DA3   22     41942.23         NaN       09-10-17         15-04-18\n",
    "# 46  3B240FEF   25     97856.46         NaN       23-05-18         11-10-18\n",
    "# 54  6B094617   21     89855.98         NaN       06-02-18         14-02-19\n",
    "# 59  56D310A8   21     88660.40         NaN       25-02-18         29-07-18\n",
    "# 82  078C654F   21     87312.64         NaN       14-04-17         05-08-18\n",
    "# 88  33CA2B76   23     75508.61         NaN       16-11-17         03-03-19\n",
    "# 93  4C7F8638   23     21942.37         NaN       14-07-18         02-02-19\n",
    "# 94  A81D31B3   24     74010.15         NaN       02-06-18         12-09-18"
   ]
  },
  {
   "cell_type": "markdown",
   "id": "87eba7b0",
   "metadata": {},
   "source": [
    "### Question\n",
    "\n",
    "Now that you've isolated banking into investors and missing_investors, use the .describe() method on both of these DataFrames in the IPython shell to understand whether there are structural differences between them. What do you think is going on?\n",
    "\n",
    "Possible Answers\n",
    "- The data is missing completely at random and there are no drivers behind the missingness.\n",
    "- The inv_amount is missing only for young customers, since the average age in missing_investors is 22 and the maximum age is 25.+\n",
    "- The inv_amount is missing only for old customers, since the average age in missing_investors is 42 and the maximum age is 59."
   ]
  },
  {
   "cell_type": "code",
   "execution_count": null,
   "id": "cc8e8774",
   "metadata": {},
   "outputs": [],
   "source": [
    "investors.describe()\n",
    "\n",
    "#           age  acct_amount  inv_amount\n",
    "# count  84.000       84.000      84.000\n",
    "# mean   43.560    75095.273   44717.885\n",
    "# std    10.411    32414.506   26031.246\n",
    "# min    26.000    12209.840    3216.720\n",
    "# 25%    34.000    57373.062   22736.037\n",
    "# 50%    45.000    83061.845   44498.460\n",
    "# 75%    53.000    94165.965   66176.803\n",
    "# max    59.000   250046.760   93552.690\n",
    "\n",
    "missing_investors.describe()\n",
    "\n",
    "#           age  acct_amount  inv_amount\n",
    "# count  13.000       13.000         0.0\n",
    "# mean   21.846    73231.238         NaN\n",
    "# std     1.519    25553.327         NaN\n",
    "# min    20.000    21942.370         NaN\n",
    "# 25%    21.000    66947.300         NaN\n",
    "# 50%    21.000    86028.480         NaN\n",
    "# 75%    23.000    89855.980         NaN\n",
    "# max    25.000    99998.350         NaN"
   ]
  },
  {
   "cell_type": "markdown",
   "id": "89352970",
   "metadata": {},
   "source": [
    "- Sort the banking DataFrame by the age column and plot the missingness matrix of banking_sorted."
   ]
  },
  {
   "cell_type": "code",
   "execution_count": null,
   "id": "5bb5315f",
   "metadata": {},
   "outputs": [],
   "source": [
    "# Sort banking by age and visualize\n",
    "banking_sorted = banking.sort_values(by='age')\n",
    "msno.matrix(banking_sorted)\n",
    "plt.show()"
   ]
  },
  {
   "attachments": {
    "Screen%20Shot%202023-03-11%20at%207.23.33%20PM.png": {
     "image/png": "[encoded data removed]"
    }
   },
   "cell_type": "markdown",
   "id": "30ca9807",
   "metadata": {},
   "source": [
    "![Screen%20Shot%202023-03-11%20at%207.23.33%20PM.png](attachment:Screen%20Shot%202023-03-11%20at%207.23.33%20PM.png)"
   ]
  },
  {
   "cell_type": "markdown",
   "id": "66f50ecc",
   "metadata": {},
   "source": [
    "Great job! Notice how all the white spaces for inv_amount are on top? Indeed missing values are only due to young bank account holders not investing their money! Better set it to 0 with .fillna()."
   ]
  },
  {
   "cell_type": "markdown",
   "id": "d30060c1",
   "metadata": {},
   "source": [
    "## Follow the money\n",
    "\n",
    "In this exercise, you're working with another version of the banking DataFrame that contains missing values for both the cust_id column and the acct_amount column.\n",
    "\n",
    "You want to produce analysis on how many unique customers the bank has, the average amount held by customers and more. You know that rows with missing cust_id don't really help you, and that on average acct_amount is usually 5 times the amount of inv_amount.\n",
    "\n",
    "In this exercise, you will drop rows of banking with missing cust_ids, and impute missing values of acct_amount with some domain knowledge.\n",
    "\n",
    "Instructions\n",
    "- Use .dropna() to drop missing values of the cust_id column in banking and store the results in banking_fullid.\n",
    "- Use inv_amount to compute the estimated account amounts for banking_fullid by setting the amounts equal to inv_amount * 5, and assign the results to acct_imp.\n",
    "- Impute the missing values of acct_amount in banking_fullid with the newly created acct_imp using .fillna()."
   ]
  },
  {
   "cell_type": "code",
   "execution_count": null,
   "id": "45c6d177",
   "metadata": {},
   "outputs": [],
   "source": [
    "print(banking.head())\n",
    "#     cust_id  acct_amount  inv_amount account_opened last_transaction\n",
    "# 0  8C35540A     44244.71    35500.50       03-05-18         30-09-19\n",
    "# 1  D5536652          NaN    81921.86       21-01-18         14-01-19\n",
    "# 2  A631984D          NaN    46412.27       26-01-18         06-10-19\n",
    "# 3  93F2F951          NaN    76563.35       21-08-17         10-07-19\n",
    "# 4  DE0A0882          NaN    18669.01       05-06-17         15-01-19"
   ]
  },
  {
   "cell_type": "code",
   "execution_count": null,
   "id": "428d5dce",
   "metadata": {},
   "outputs": [],
   "source": [
    "print(banking['cust_id'].isna().sum())\n",
    "# 9\n",
    "# Drop missing values of cust_id\n",
    "banking_fullid = banking.dropna(subset = ['cust_id'])\n",
    "print(banking_fullid['cust_id'].isna().sum())\n",
    "# 0\n",
    "\n",
    "# Compute estimated acct_amount\n",
    "acct_imp = banking['inv_amount'] * 5\n",
    "\n",
    "print('--1\\n',banking_fullid['acct_amount'].isna().sum())\n",
    "# --1\n",
    "#  14\n",
    "# Impute missing acct_amount with corresponding acct_imp\n",
    "banking_imputed = banking_fullid.fillna({'acct_amount':acct_imp})\n",
    "print('--2\\n',banking_imputed['acct_amount'].isna().sum())\n",
    "# --2\n",
    "#   0\n",
    "\n",
    "# Print number of missing values\n",
    "print(banking_imputed.isna().sum())\n",
    "# cust_id             0\n",
    "# acct_amount         0\n",
    "# inv_amount          0\n",
    "# account_opened      0\n",
    "# last_transaction    0\n",
    "# dtype: int64"
   ]
  },
  {
   "cell_type": "markdown",
   "id": "5d3f4955",
   "metadata": {},
   "source": [
    "Awesome work! As you can see no missing data left, you can definitely _bank_ on getting your analysis right!"
   ]
  },
  {
   "cell_type": "markdown",
   "id": "3402ac12",
   "metadata": {},
   "source": [
    "10 Comparing strings.mp4\n",
    "\n",
    "## Minimum edit distance\n",
    "In the video exercise, you saw how minimum edit distance is used to identify how similar two strings are. As a reminder, minimum edit distance is the minimum number of steps needed to reach from String A to String B, with the operations available being:\n",
    "\n",
    "- Insertion of a new character.\n",
    "- Deletion of an existing character.\n",
    "- Substitution of an existing character.\n",
    "- Transposition of two existing consecutive characters.\n",
    "\n",
    "What is the minimum edit distance from 'sign' to 'sing', and which operation(s) gets you there?\n",
    "\n",
    "Answer the question\n",
    "\n",
    "Possible Answers\n",
    "\n",
    "- 2 by substituting 'g' with 'n' and 'n' with 'g'.\n",
    "\n",
    "Incorrect. That's not really correct - do you think this is the minimum edit distance?\n",
    "\n",
    "- 1 by transposing 'g' with 'n'.+\n",
    "\n",
    "Correct! Transposing the last two letters of 'sign' is the easiest way to get to 'sing' - in the next exercise, you'll use edit distance at scale to remap categories!\n",
    "\n",
    "- 1 by substituting 'g' with 'n'.\n",
    "\n",
    "Incorrect. That's the correct edit distance, but substituting g with n would take you from 'sign' to 'sinn'.\n",
    "\n",
    "- 2 by deleting 'g' and inserting a new 'g' at the end.\n",
    "\n",
    "Incorrect. That's not really correct - do you think this is the minimum edit distance?\n"
   ]
  },
  {
   "cell_type": "markdown",
   "id": "4fb1f884",
   "metadata": {},
   "source": [
    "## The cutoff point\n",
    "\n",
    "In this exercise, and throughout this chapter, you'll be working with the restaurants DataFrame which has data on various restaurants. Your ultimate goal is to create a restaurant recommendation engine, but you need to first clean your data.\n",
    "\n",
    "This version of restaurants has been collected from many sources, where the cuisine_type column is riddled with typos, and should contain only italian, american and asian cuisine types. There are so many unique categories that remapping them manually isn't scalable, and it's best to use string similarity instead.\n",
    "\n",
    "Before doing so, you want to establish the cutoff point for the similarity score using the thefuzz's process.extract() function by finding the similarity score of the most distant typo of each category.\n",
    "\n",
    "Instructions 1/2\n",
    "- Import process from thefuzz.\n",
    "- Store the unique cuisine_types into unique_types.\n",
    "- Calculate the similarity of 'asian', 'american', and 'italian' to all possible cuisine_types using process.extract(), while returning all possible matches."
   ]
  },
  {
   "cell_type": "code",
   "execution_count": null,
   "id": "becf624a",
   "metadata": {},
   "outputs": [],
   "source": [
    "restaurants.head()\n",
    "#                     rest_name                  rest_addr         city       phone cuisine_type\n",
    "# 0  arnie morton  s of chicago   435 s. la cienega blv .   los angeles  3102461501      america\n",
    "# 1         art  s delicatessen       12224 ventura blvd.   studio city  8187621221      merican\n",
    "# 2                   campanile       624 s. la brea ave.   los angeles  2139381447     amurican\n",
    "# 3                       fenix    8358 sunset blvd. west     hollywood  2138486677     americen\n",
    "# 4          grill on the alley           9560 dayton way   los angeles  3102760615    americann"
   ]
  },
  {
   "cell_type": "code",
   "execution_count": null,
   "id": "1c1bdd70",
   "metadata": {},
   "outputs": [],
   "source": [
    "# Import process from thefuzz\n",
    "from thefuzz import process\n",
    "\n",
    "# Store the unique values of cuisine_type in unique_types\n",
    "unique_types = restaurants['cuisine_type'].unique()\n",
    "print(unique_types)\n",
    "# ['america' 'merican' 'amurican' 'americen' 'americann' 'asiane' 'itali'\n",
    "# 'asiann' 'murican' 'italien' 'italian' 'asiat' 'american' 'americano'\n",
    "# 'italiann' 'ameerican' 'asianne' 'italiano' 'americin' 'ammericann'\n",
    "# 'amerycan' 'aamerican' 'ameriican' 'italiaan' 'asiian' 'asiaan'\n",
    "# 'amerrican' 'ameerrican' 'ammereican' 'asian' 'italianne' 'italiian'\n",
    "# 'itallian']\n",
    "    \n",
    "# Calculate similarity of 'asian' to all values of unique_types\n",
    "print(process.extract('asian', unique_types, limit = len(unique_types)))\n",
    "# [('asian', 100), ('asiane', 91), ('asiann', 91), ('asiian', 91), ('asiaan', 91), ('asianne', 83), ('asiat', 80), ('italiann', 72), ('italiano', 72), ('italianne', 72), ('italian', 67), ('amurican', 62), ('american', 62), ('italiaan', 62), ('italiian', 62), ('itallian', 62), ('americann', 57), ('americano', 57), ('ameerican', 57), ('aamerican', 57), ('ameriican', 57), ('amerrican', 57), ('ammericann', 54), ('ameerrican', 54), ('ammereican', 54), ('america', 50), ('merican', 50), ('murican', 50), ('italien', 50), ('americen', 46), ('americin', 46), ('amerycan', 46), ('itali', 40)]\n",
    "\n",
    "# Calculate similarity of 'american' to all values of unique_types\n",
    "print(process.extract('american', unique_types, limit=len(unique_types)))\n",
    "# [('american', 100), ('americann', 94), ('americano', 94), ('ameerican', 94), ('aamerican', 94), ('ameriican', 94), ('amerrican', 94), ('america', 93), ('merican', 93), ('ammericann', 89), ('ameerrican', 89), ('ammereican', 89), ('amurican', 88), ('americen', 88), ('americin', 88), ('amerycan', 88), ('murican', 80), ('asian', 62), ('asiane', 57), ('asiann', 57), ('asiian', 57), ('asiaan', 57), ('italian', 53), ('asianne', 53), ('italiann', 50), ('italiano', 50), ('italiaan', 50), ('italiian', 50), ('itallian', 50), ('italianne', 47), ('asiat', 46), ('itali', 40), ('italien', 40)]\n",
    "\n",
    "# Calculate similarity of 'italian' to all values of unique_types\n",
    "print(process.extract('italian',unique_types,limit=len(unique_types)))\n",
    "# [('italian', 100), ('italiann', 93), ('italiano', 93), ('italiaan', 93), ('italiian', 93), ('itallian', 93), ('italianne', 88), ('italien', 86), ('itali', 83), ('asian', 67), ('asiane', 62), ('asiann', 62), ('asiian', 62), ('asiaan', 62), ('asianne', 57), ('amurican', 53), ('american', 53), ('americann', 50), ('asiat', 50), ('americano', 50), ('ameerican', 50), ('aamerican', 50), ('ameriican', 50), ('amerrican', 50), ('ammericann', 47), ('ameerrican', 47), ('ammereican', 47), ('america', 43), ('merican', 43), ('murican', 43), ('americen', 40), ('americin', 40), ('amerycan', 40)]\n"
   ]
  },
  {
   "cell_type": "markdown",
   "id": "907c0038",
   "metadata": {},
   "source": [
    "### Question\n",
    "\n",
    "Take a look at the output, what do you think should be the similarity cutoff point when remapping categories?\n",
    "\n",
    "Possible Answers\n",
    "- 80+\n",
    "- 70\n",
    "- 60"
   ]
  },
  {
   "cell_type": "markdown",
   "id": "5a7ab8aa",
   "metadata": {},
   "source": [
    "Correct! 80 is that sweet spot where you convert all incorrect typos without remapping incorrect categories. Often times though, you may need to combine the techniques learned in chapter 2, especially since there could be strings that make it beyond our cutoff point, but are not actually a match!"
   ]
  },
  {
   "cell_type": "markdown",
   "id": "6de2ad87",
   "metadata": {},
   "source": [
    "## Remapping categories II\n",
    "\n",
    "In the last exercise, you determined that the distance cutoff point for remapping typos of 'american', 'asian', and 'italian' cuisine types stored in the cuisine_type column should be 80.\n",
    "\n",
    "In this exercise, you're going to put it all together by finding matches with similarity scores equal to or higher than 80 by using fuzywuzzy.process's extract() function, for each correct cuisine type, and replacing these matches with it. Remember, when comparing a string with an array of strings using process.extract(), the output is a list of tuples where each is formatted like:\n",
    "\n",
    "(closest match, similarity score, index of match)\n",
    "The restaurants DataFrame is in your environment, and you have access to a categories list containing the correct cuisine types ('italian', 'asian', and 'american').\n",
    "\n",
    "Instructions 1/4\n",
    "- Return all of the unique values in the cuisine_type column of restaurants."
   ]
  },
  {
   "cell_type": "code",
   "execution_count": 63,
   "id": "0951102b",
   "metadata": {},
   "outputs": [
    {
     "ename": "ModuleNotFoundError",
     "evalue": "No module named 'thefuzz'",
     "output_type": "error",
     "traceback": [
      "\u001b[0;31m---------------------------------------------------------------------------\u001b[0m",
      "\u001b[0;31mModuleNotFoundError\u001b[0m                       Traceback (most recent call last)",
      "\u001b[0;32m<ipython-input-63-bce1f8a5e2c9>\u001b[0m in \u001b[0;36m<module>\u001b[0;34m\u001b[0m\n\u001b[0;32m----> 1\u001b[0;31m \u001b[0;32mfrom\u001b[0m \u001b[0mthefuzz\u001b[0m \u001b[0;32mimport\u001b[0m \u001b[0mfuzz\u001b[0m\u001b[0;34m\u001b[0m\u001b[0;34m\u001b[0m\u001b[0m\n\u001b[0m",
      "\u001b[0;31mModuleNotFoundError\u001b[0m: No module named 'thefuzz'"
     ]
    }
   ],
   "source": [
    "from thefuzz import fuzz"
   ]
  },
  {
   "cell_type": "code",
   "execution_count": 64,
   "id": "df5cbe0e",
   "metadata": {},
   "outputs": [
    {
     "name": "stdout",
     "output_type": "stream",
     "text": [
      "Collecting thefuzz\n",
      "  Downloading thefuzz-0.19.0-py2.py3-none-any.whl (17 kB)\n",
      "Installing collected packages: thefuzz\n",
      "Successfully installed thefuzz-0.19.0\n",
      "\n",
      "\u001b[1m[\u001b[0m\u001b[34;49mnotice\u001b[0m\u001b[1;39;49m]\u001b[0m\u001b[39;49m A new release of pip available: \u001b[0m\u001b[31;49m22.3.1\u001b[0m\u001b[39;49m -> \u001b[0m\u001b[32;49m23.0.1\u001b[0m\n",
      "\u001b[1m[\u001b[0m\u001b[34;49mnotice\u001b[0m\u001b[1;39;49m]\u001b[0m\u001b[39;49m To update, run: \u001b[0m\u001b[32;49mpip install --upgrade pip\u001b[0m\n",
      "Note: you may need to restart the kernel to use updated packages.\n"
     ]
    }
   ],
   "source": [
    "%pip install thefuzz"
   ]
  },
  {
   "cell_type": "code",
   "execution_count": 65,
   "id": "73045b0a",
   "metadata": {},
   "outputs": [
    {
     "name": "stderr",
     "output_type": "stream",
     "text": [
      "/Users/Andrew/Documents/python/env/lib/python3.7/site-packages/thefuzz/fuzz.py:11: UserWarning: Using slow pure-python SequenceMatcher. Install python-Levenshtein to remove this warning\n",
      "  warnings.warn('Using slow pure-python SequenceMatcher. Install python-Levenshtein to remove this warning')\n"
     ]
    }
   ],
   "source": [
    "from thefuzz import fuzz"
   ]
  },
  {
   "cell_type": "code",
   "execution_count": 66,
   "id": "03ebac71",
   "metadata": {},
   "outputs": [
    {
     "data": {
      "text/plain": [
       "90"
      ]
     },
     "execution_count": 66,
     "metadata": {},
     "output_type": "execute_result"
    }
   ],
   "source": [
    "fuzz.WRatio('Isa','Isabel')"
   ]
  },
  {
   "cell_type": "code",
   "execution_count": null,
   "id": "4b409df3",
   "metadata": {},
   "outputs": [],
   "source": [
    "# Inspect the unique values of the cuisine_type column\n",
    "print(restaurants['cuisine_type'].unique())\n",
    "# ['america' 'merican' 'amurican' 'americen' 'americann' 'asiane' 'itali'\n",
    "#  'asiann' 'murican' 'italien' 'italian' 'asiat' 'american' 'americano'\n",
    "#  'italiann' 'ameerican' 'asianne' 'italiano' 'americin' 'ammericann'\n",
    "#  'amerycan' 'aamerican' 'ameriican' 'italiaan' 'asiian' 'asiaan'\n",
    "#  'amerrican' 'ameerrican' 'ammereican' 'asian' 'italianne' 'italiian'\n",
    "#  'itallian']\n",
    "print(categories)\n",
    "# ['italian', 'asian', 'american']"
   ]
  },
  {
   "cell_type": "markdown",
   "id": "b47efe85",
   "metadata": {},
   "source": [
    "Okay! Looks like you will need to use some string matching to correct these misspellings!\n",
    "- As a first step, create a list of all possible matches, comparing 'italian' with the restaurant types listed in the cuisine_type column."
   ]
  },
  {
   "cell_type": "code",
   "execution_count": null,
   "id": "1f430e5b",
   "metadata": {},
   "outputs": [],
   "source": [
    "# Create a list of matches, comparing 'italian' with the cuisine_type column\n",
    "matches = process.extract('italian',restaurants['cuisine_type'],limit=restaurants.shape[0])\n",
    "\n",
    "# Inspect the first 5 matches\n",
    "print(matches[0:5])\n",
    "# [('italian', 100, 11), ('italian', 100, 25), ('italian', 100, 41), ('italian', 100, 47), ('italian', 100, 49)]\n"
   ]
  },
  {
   "cell_type": "markdown",
   "id": "c1862a33",
   "metadata": {},
   "source": [
    "Now you're getting somewhere! Now you can iterate through matches to reassign similar entries.\n",
    "\n",
    "- Within the for loop, use an if statement to check whether the similarity score in each match is greater than or equal to 80.\n",
    "- If it is, use .loc to select rows where cuisine_type in restaurants is equal to the current match (which is the first element of match), and reassign them to be 'italian'."
   ]
  },
  {
   "cell_type": "code",
   "execution_count": null,
   "id": "dbe60e4d",
   "metadata": {},
   "outputs": [],
   "source": [
    "# Create a list of matches, comparing 'italian' with the cuisine_type column\n",
    "matches = process.extract('italian', restaurants['cuisine_type'], limit=len(restaurants.cuisine_type))\n",
    "\n",
    "# Iterate through the list of matches to italian\n",
    "for match in matches:\n",
    "  # Check whether the similarity score is greater than or equal to 80\n",
    "  if match[1] >= 80:\n",
    "    # Select all rows where the cuisine_type is spelled this way, and set them to the correct cuisine\n",
    "    restaurants.loc[restaurants['cuisine_type'] == match[0],'cuisine_type'] = 'italian'\n",
    "    # AK: !!! for this works matches better to calculated for the array of unique values for cuisine_type\n",
    "    # matches = process.extract('italian', restaurants['cuisine_type'].unique(), limit=len(restaurants.cuisine_type.unique()))"
   ]
  },
  {
   "cell_type": "markdown",
   "id": "8045d2e8",
   "metadata": {},
   "source": [
    "Finally, you'll adapt your code to work with every restaurant type in categories.\n",
    "\n",
    "- Using the variable cuisine to iterate through categories, embed your code from the previous step in an outer for loop.\n",
    "- Inspect the final result. This has been done for you."
   ]
  },
  {
   "cell_type": "code",
   "execution_count": null,
   "id": "4890e9ab",
   "metadata": {},
   "outputs": [],
   "source": [
    "print(restaurants.shape)\n",
    "# (287, 5)\n",
    "print(len(restaurants['cuisine_type'].unique()))\n",
    "# 33\n",
    "print(restaurants['cuisine_type'].unique())\n",
    "# ['america' 'merican' 'amurican' 'americen' 'americann' 'asiane' 'itali'\n",
    "#  'asiann' 'murican' 'italien' 'italian' 'asiat' 'american' 'americano'\n",
    "#  'italiann' 'ameerican' 'asianne' 'italiano' 'americin' 'ammericann'\n",
    "#  'amerycan' 'aamerican' 'ameriican' 'italiaan' 'asiian' 'asiaan'\n",
    "#  'amerrican' 'ameerrican' 'ammereican' 'asian' 'italianne' 'italiian'\n",
    "#  'itallian']\n",
    "\n",
    "# Iterate through categories\n",
    "for cuisine in categories: \n",
    "  print(f'Cuisine: {cuisine}') \n",
    "  # Create a list of matches, comparing cuisine with the cuisine_type column\n",
    "  matches = process.extract(cuisine, restaurants['cuisine_type'], limit=len(restaurants.cuisine_type))\n",
    "  # AK: !!! more correct: much less iterations!!!\n",
    "  # matches = process.extract(cuisine, restaurants['cuisine_type'].unique(), limit=len(restaurants.cuisine_type.unique()))\n",
    "  print('length: ',len(matches))\n",
    "  \n",
    "  # Iterate through the list of matches\n",
    "  for i,match in enumerate(matches):\n",
    "     # Check whether the similarity score is greater than or equal to 80\n",
    "    if match[1] >= 80:\n",
    "      # If it is, select all rows where the cuisine_type is spelled this way, and set them to the correct cuisine\n",
    "      restaurants.loc[restaurants['cuisine_type'] == match[0]] = cuisine\n",
    "      print(i)\n",
    "# Inspect the final result\n",
    "print(restaurants['cuisine_type'].unique())\n",
    "# ['american' 'asian' 'italian']\n",
    "\n",
    "print(len(restaurants['cuisine_type'].unique()))\n",
    "# 3"
   ]
  },
  {
   "cell_type": "markdown",
   "id": "009b67df",
   "metadata": {},
   "source": [
    "Tremendous work! All your cuisine types are properly mapped! Now you'll build on string similarity, by jumping into record linkage!"
   ]
  },
  {
   "cell_type": "markdown",
   "id": "60069c0d",
   "metadata": {},
   "source": [
    "11 Generating pairs.mp4\n",
    "\n",
    "## Pairs of restaurants\n",
    "\n",
    "In the last lesson, you cleaned the restaurants dataset to make it ready for building a restaurants recommendation engine. You have a new DataFrame named restaurants_new with new restaurants to train your model on, that's been scraped from a new data source.\n",
    "\n",
    "You've already cleaned the cuisine_type and city columns using the techniques learned throughout the course. However you saw duplicates with typos in restaurants names that require record linkage instead of joins with restaurants.\n",
    "\n",
    "In this exercise, you will perform the first step in record linkage and generate possible pairs of rows between restaurants and restaurants_new. Both DataFrames, pandas and recordlinkage are in your environment.\n",
    "\n",
    "Instructions 1/2\n",
    "- Instantiate an indexing object by using the Index() function from recordlinkage.\n",
    "- Block your pairing on cuisine_type by using indexer's' .block() method.\n",
    "- Generate pairs by indexing restaurants and restaurants_new in that order."
   ]
  },
  {
   "cell_type": "code",
   "execution_count": null,
   "id": "6095d1e9",
   "metadata": {},
   "outputs": [],
   "source": [
    "restaurants.head()\n",
    "# Out[1]:\n",
    "#                    rest_name                  rest_addr         city       phone cuisine_type\n",
    "# 0  arnie morton's of chicago   435 s. la cienega blv .   los angeles  3102461501     american\n",
    "# 1         art's delicatessen       12224 ventura blvd.   studio city  8187621221     american\n",
    "# 2                  campanile       624 s. la brea ave.   los angeles  2139381447     american\n",
    "# 3                      fenix    8358 sunset blvd. west     hollywood  2138486677     american\n",
    "# 4         grill on the alley           9560 dayton way   los angeles  3102760615     american\n",
    "\n",
    "restaurants_new.head()\n",
    "# Out[2]:\n",
    "#   rest_name                 rest_addr         city       phone  cuisine_type\n",
    "# 0    kokomo         6333 w. third st.           la  2139330773      american\n",
    "# 1    feenix   8358 sunset blvd. west     hollywood  2138486677      american\n",
    "# 2   parkway      510 s. arroyo pkwy .     pasadena  8187951001   californian\n",
    "# 3      r-23          923 e. third st.  los angeles  2136877178      japanese\n",
    "# 4     gumbo         6333 w. third st.           la  2139330358  cajun/creole"
   ]
  },
  {
   "cell_type": "code",
   "execution_count": null,
   "id": "65823b84",
   "metadata": {},
   "outputs": [],
   "source": [
    "import recordlinkage\n",
    "\n",
    "# Create an indexer and object and find possible pairs\n",
    "indexer = recordlinkage.Index()\n",
    "\n",
    "# Block pairing on cuisine_type\n",
    "indexer.block('cuisine_type')\n",
    "\n",
    "# Generate pairs\n",
    "pairs = indexer.index(restaurants, restaurants_new)\n",
    "\n",
    "print(pairs)\n",
    "# MultiIndex([(  0,  0),\n",
    "#             (  0,  1),\n",
    "#             (  0,  7),\n",
    "#             (  0, 12),\n",
    "#             (  0, 13),\n",
    "#             (  0, 20),\n",
    "#             (  0, 27),\n",
    "#             (  0, 28),\n",
    "#             (  0, 39),\n",
    "#             (  0, 40),\n",
    "#             ...\n",
    "#             (284, 63),\n",
    "#             (284, 66),\n",
    "#             (287, 24),\n",
    "#             (287, 63),\n",
    "#             (287, 66),\n",
    "#             ( 40, 18),\n",
    "#             (281, 18),\n",
    "#             (288, 18),\n",
    "#             (302, 18),\n",
    "#             (308, 18)],\n",
    "#            length=3631)\n",
    "print(restaurants.iloc[287])\n",
    "# rest_name               viva mercado's\n",
    "# rest_addr        6182 w. flamingo rd. \n",
    "# city                         las vegas\n",
    "# phone                       7028718826\n",
    "# cuisine_type                   mexican\n",
    "# Name: 287, dtype: object\n",
    "print(restaurants_new.iloc[[24,63,66]])\n",
    "#    rest_name           rest_addr              city       phone cuisine_type\n",
    "# 24      baja     3345 kimber dr.  westlake village  8054984049      mexican\n",
    "# 63   poquito  2635 w. olive ave.           burbank  8185632252      mexican\n",
    "# 66        la           22800 pch            malibu  3104566299      mexican\n",
    "\n",
    "print(restaurants.iloc[[40,281,288,302,308]])\n",
    "#                      rest_name                 rest_addr           city       phone cuisine_type\n",
    "# 40                 steak house   2880 las vegas blvd. s       las vegas  7027340410  steakhouses\n",
    "# 281               golden steer       308 w. sahara ave.       las vegas  7023844470  steakhouses\n",
    "# 288                    yolie's        3900 paradise rd.       las vegas  7027940700  steakhouses\n",
    "# 302                     harris       2100 van ness ave.   san francisco  4156731888  steakhouses\n",
    "# 308  izzy's steak & chop house         3345 steiner st.   san francisco  4155630487  steakhouses\n",
    "print(restaurants_new.iloc[[18]])\n",
    "#    rest_name           rest_addr           city       phone cuisine_type\n",
    "# 18    ruth's  224 s. beverly dr.  beverly hills  3108598744  steakhouses"
   ]
  },
  {
   "cell_type": "markdown",
   "id": "d6f8abc1",
   "metadata": {},
   "source": [
    "### Question\n",
    "Now that you've generated your pairs, you've achieved the first step of record linkage. What are the steps remaining to link both restaurants DataFrames, and in what order?\n",
    "\n",
    "Possible Answers\n",
    "- Compare between columns, score the comparison, then link the DataFrames.+\n",
    "- Clean the data, compare between columns, link the DataFrames, then score the comparison.\n",
    "- Clean the data, compare between columns, score the comparison, then link the DataFrames."
   ]
  },
  {
   "cell_type": "markdown",
   "id": "01a4a205",
   "metadata": {},
   "source": [
    "- Instantiate a comparison object using the recordlinkage.Compare() function.\n",
    "- Use the appropriate comp_cl method to find exact matches between the city and cuisine_type columns of both DataFrames.\n",
    "- Use the appropriate comp_cl method to find similar strings with a 0.8 similarity threshold in the rest_name column of both DataFrames.\n",
    "- Compute the comparison of the pairs by using the .compute() method of comp_cl."
   ]
  },
  {
   "cell_type": "code",
   "execution_count": null,
   "id": "d323a3cc",
   "metadata": {},
   "outputs": [],
   "source": [
    "# Create a comparison object\n",
    "comp_cl = recordlinkage.Compare()\n",
    "\n",
    "# Find exact matches on city, cuisine_types - \n",
    "comp_cl.exact('city', 'city', label='city')\n",
    "comp_cl.exact('cuisine_type', 'cuisine_type', label='cuisine_type')\n",
    "\n",
    "# Find similar matches of rest_name\n",
    "comp_cl.string('rest_name', 'rest_name', label='name', threshold = 0.8) \n",
    "\n",
    "# Get potential matches and print\n",
    "potential_matches = comp_cl.compute(pairs, restaurants, restaurants_new)\n",
    "print(potential_matches)\n",
    "#         city  cuisine_type  name\n",
    "# 0   0      0             1   0.0\n",
    "#     1      0             1   0.0\n",
    "#     7      0             1   0.0\n",
    "#     12     0             1   0.0\n",
    "#     13     0             1   0.0\n",
    "# ...      ...           ...   ...\n",
    "# 40  18     0             1   0.0\n",
    "# 281 18     0             1   0.0\n",
    "# 288 18     0             1   0.0\n",
    "# 302 18     0             1   0.0\n",
    "# 308 18     0             1   0.0"
   ]
  },
  {
   "cell_type": "markdown",
   "id": "31990ad1",
   "metadata": {},
   "source": [
    "### Question\n",
    "Print out potential_matches, the columns are the columns being compared, with values being 1 for a match, and 0 for not a match for each pair of rows in your DataFrames. To find potential matches, you need to find rows with more than matching value in a column. You can find them with\n",
    "\n",
    "potential_matches[potential_matches.sum(axis = 1) >= n]\n",
    "Where n is the minimum number of columns you want matching to ensure a proper duplicate find, what do you think should the value of n be?\n",
    "\n",
    "Possible Answers\n",
    "- 3 because I need to have matches in all my columns.+\n",
    "- 2 because matching on any of the 2 columns or more is enough to find potential duplicates.\n",
    "- 1 because matching on just 1 column like the restaurant name is enough to find potential duplicates."
   ]
  },
  {
   "cell_type": "code",
   "execution_count": null,
   "id": "feed5d27",
   "metadata": {},
   "outputs": [],
   "source": [
    "potential_matches[potential_matches.sum(axis = 1) >= 3]\n",
    "\n",
    "#        city  cuisine_type  name\n",
    "# 0  40     1             1   1.0\n",
    "# 1  28     1             1   1.0\n",
    "# 2  74     1             1   1.0\n",
    "# 3  1      1             1   1.0\n",
    "# 4  53     1             1   1.0\n",
    "# 8  43     1             1   1.0\n",
    "# 9  50     1             1   1.0\n",
    "# 13 7      1             1   1.0\n",
    "# 14 67     1             1   1.0\n",
    "# 17 12     1             1   1.0\n",
    "# 20 20     1             1   1.0\n",
    "# 21 27     1             1   1.0\n",
    "# 5  65     1             1   1.0\n",
    "# 7  79     1             1   1.0\n",
    "# 12 26     1             1   1.0\n",
    "# 18 71     1             1   1.0\n",
    "# 6  73     1             1   1.0\n",
    "# 10 75     1             1   1.0\n",
    "# 11 21     1             1   1.0\n",
    "# 16 57     1             1   1.0\n",
    "# 19 47     1             1   1.0\n",
    "# 15 55     1             1   1.0"
   ]
  },
  {
   "cell_type": "markdown",
   "id": "1f0cb76d",
   "metadata": {},
   "source": [
    "That's correct! For this example, tightening your selection criteria will ensure good duplicate finds! In the next lesson, you're gonna build on what you learned to link these two DataFrames!"
   ]
  },
  {
   "cell_type": "markdown",
   "id": "6cfc97cd",
   "metadata": {},
   "source": [
    "12 Linking DataFrames.mp4\n",
    "\n",
    "## Getting the right index\n",
    "Here's a DataFrame named matches containing potential matches between two DataFrames, users_1 and users_2. Each DataFrame's row indices is stored in uid_1 and uid_2 respectively.\n",
    "\n",
    "             first_name  address_1  address_2  marriage_status  date_of_birth\n",
    "uid_1 uid_2                                                                  \n",
    "0     3              1          1          1                1              0\n",
    "     ...            ...         ...        ...              ...            ...\n",
    "     ...            ...         ...        ...              ...            ...\n",
    "1     3              1          1          1                1              0\n",
    "     ...            ...         ...        ...              ...            ...\n",
    "     ...            ...         ...        ...              ...            ...\n",
    "\n",
    "How do you extract all values of the uid_1 index column?\n",
    "\n",
    "\n",
    "Answer the question\n",
    "\n",
    "Possible Answers\n",
    "\n",
    "- matches.index.get_level_values(0)\n",
    "- matches.index.get_level_values(1)\n",
    "- matches.index.get_level_values('uid_1')\n",
    "- Both 1 and 3 are correct.+\n",
    "\n",
    "Correct! In the next exercise, you'll use these functions to subset your data and link your DataFrames!"
   ]
  },
  {
   "cell_type": "markdown",
   "id": "c8b7c266",
   "metadata": {},
   "source": [
    "## Linking them together!\n",
    "\n",
    "In the last lesson, you've finished the bulk of the work on your effort to link restaurants and restaurants_new. You've generated the different pairs of potentially matching rows, searched for exact matches between the cuisine_type and city columns, but compared for similar strings in the rest_name column. You stored the DataFrame containing the scores in potential_matches.\n",
    "\n",
    "Now it's finally time to link both DataFrames. You will do so by first extracting all row indices of restaurants_new that are matching across the columns mentioned above from potential_matches. Then you will subset restaurants_new on these indices, then append the non-duplicate values to restaurants. All DataFrames are in your environment, alongside pandas imported as pd.\n",
    "\n",
    "Instructions\n",
    "- Isolate instances of potential_matches where the row sum is above or equal to 3 by using the .sum() method.\n",
    "- Extract the second column index from matches, which represents row indices of matching record from restaurants_new by using the .get_level_values() method.\n",
    "- Subset restaurants_new for rows that are not in matching_indices.\n",
    "- Append non_dup to restaurants."
   ]
  },
  {
   "cell_type": "markdown",
   "id": "438fc7fa",
   "metadata": {},
   "source": [
    "Hint\n",
    "\n",
    "- Remember, you can sum across rows by using .sum(axis = 1).\n",
    "- You saw how to get the values of a column index in the last exercise, don't forget to chain .get_level_values() with the .index first.\n",
    "- You need to subset on instances of restaurants_new where its index value .isin() the matching_indices object.\n",
    "- You can append DataFrames with .append()."
   ]
  },
  {
   "cell_type": "code",
   "execution_count": null,
   "id": "7f392aca",
   "metadata": {},
   "outputs": [],
   "source": [
    "# Isolate potential matches with row sum >=3\n",
    "matches = potential_matches[potential_matches.sum(axis = 1) >= 3]\n",
    "\n",
    "# Get values of second column index of matches\n",
    "matching_indices = matches.index.get_level_values(1)\n",
    "\n",
    "# Subset restaurants_new based on non-duplicate values\n",
    "non_dup = restaurants_new[~restaurants_new.index.isin(matching_indices)]\n",
    "\n",
    "# Append non_dup to restaurants\n",
    "full_restaurants = restaurants.append(non_dup)\n",
    "print(full_restaurants)\n",
    "#                     rest_name                  rest_addr               city       phone cuisine_type\n",
    "# 0   arnie morton's of chicago   435 s. la cienega blv .         los angeles  3102461501     american\n",
    "# 1          art's delicatessen       12224 ventura blvd.         studio city  8187621221     american\n",
    "# 2                   campanile       624 s. la brea ave.         los angeles  2139381447     american\n",
    "# 3                       fenix    8358 sunset blvd. west           hollywood  2138486677     american\n",
    "# 4          grill on the alley           9560 dayton way         los angeles  3102760615     american\n",
    "# ..                        ...                        ...                ...         ...          ...\n",
    "# 76                        don        1136 westwood blvd.           westwood  3102091422      italian\n",
    "# 77                      feast        1949 westwood blvd.            west la  3104750400      chinese\n",
    "# 78                   mulberry        17040 ventura blvd.             encino  8189068881        pizza\n",
    "# 80                    jiraffe      502 santa monica blvd       santa monica  3109176671  californian\n",
    "# 81                   martha's  22nd street grill 25 22nd  st. hermosa beach  3103767786     american\n"
   ]
  },
  {
   "cell_type": "markdown",
   "id": "3ec711ac",
   "metadata": {},
   "source": [
    "Awesome work! Linking the DataFrames is arguably the most straightforward step of record linkage. You are now ready to get started on that recommendation engine!"
   ]
  },
  {
   "cell_type": "code",
   "execution_count": null,
   "id": "e97af1dc",
   "metadata": {},
   "outputs": [],
   "source": [
    "lower"
   ]
  }
 ],
 "metadata": {
  "kernelspec": {
   "display_name": "env",
   "language": "python",
   "name": "env"
  },
  "language_info": {
   "codemirror_mode": {
    "name": "ipython",
    "version": 3
   },
   "file_extension": ".py",
   "mimetype": "text/x-python",
   "name": "python",
   "nbconvert_exporter": "python",
   "pygments_lexer": "ipython3",
   "version": "3.7.4"
  }
 },
 "nbformat": 4,
 "nbformat_minor": 5
}
