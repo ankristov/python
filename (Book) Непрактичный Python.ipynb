{
 "cells": [
  {
   "cell_type": "markdown",
   "id": "7c956320",
   "metadata": {},
   "source": [
    "# Project 1: Generate pseudonames"
   ]
  },
  {
   "cell_type": "code",
   "execution_count": 1,
   "id": "6c8bf07c",
   "metadata": {},
   "outputs": [],
   "source": [
    "import sys, random"
   ]
  },
  {
   "cell_type": "code",
   "execution_count": 34,
   "id": "c7635d5a",
   "metadata": {},
   "outputs": [
    {
     "data": {
      "text/plain": [
       "\"Sid 'The Squirts'\""
      ]
     },
     "execution_count": 34,
     "metadata": {},
     "output_type": "execute_result"
    }
   ],
   "source": [
    "first_name = ('Baby Oil', 'Bad News', 'Big Burps', \"Bill 'Beenie-Weenie'\", \"Bob 'Stinkbug'\", 'Bowel Noises', 'Boxelder', \"Bud 'Lite' \", 'Butterbean', 'Buttermilk', 'Buttocks', 'Chad', 'Chesterfield', 'Chewy', 'Chigger\", \"Cinnabuns', 'Cleet', 'Cornbread', 'Crab Meat', 'Crapps', 'Dark Skies', 'Dennis Clawhammer', 'Dicman', 'Elphonso', 'Fancypants', 'Figgs', 'Foncy', 'Gootsy', 'Greasy Jim', 'Huckleberry', 'Huggy', 'Ignatious', 'Jimbo', \"Joe 'Pottin Soil'\", 'Johnny', 'Lemongrass', 'Lil Debil', 'Longbranch', '\"Lunch Money\"', 'Mergatroid', '\"Mr Peabody\"', 'Oil-Сап', 'Oinks', 'Old Scratch', 'Ovaltine', 'Pennywhistle', 'Pitchfork Ben', 'Potato Bug', 'Pushmeet','Rock Candy', 'Schlomo','Scratchensniff', 'Scut', \"Sid 'The Squirts'\",'Skidmark', 'Slaps', 'Snakes', 'Snoobs', 'Snorki','Soupcan Sam', 'Spitzitout', 'Squids', 'Stinky', 'Storyboard', 'Sweet Tea', 'TeeTee', 'Wheezy Joe', \"Winston 'Jazz Hands'\", 'Worms')\n",
    "#print(first_name)\n",
    "first_name_ru = ()\n",
    "second_name = ('Appleyard', 'Bigmeat', 'Bloominshine', 'Boogerbottom', 'Breedslovetrout', 'Butterbaugh', 'Clovenhoof', 'Clutterbuck', 'Cocktoasten', 'Endicott', 'Fewhairs', 'Gooberdapple', 'Goodensmith', 'Goodpasture', 'Guster', 'Henderson', 'Hooperbag', 'Hoosenater', 'Hootkins', 'Jefferson', 'Jenkins', 'Jingley-Schmidt', 'Johnson', 'Kingfish', 'Listenbee', \"M'Bernbo\", 'McFadden', 'Moonshine', 'Nettles', 'Noseworthy', 'Olivetti', 'Outerbridge', 'Overpeck', 'Overturf', 'Oxhandler', 'Pealike', 'Pennywhistle', 'Peterson', 'Pieplow', 'Pinkerton', 'Porkins', 'Putney', 'Quakenbush', 'Rainwater', 'Rosenthal', 'Rubbins', 'Sackrider', 'Snuggleshine', 'Splern', 'Stevens', 'Stroganoff', 'Sugar-Gold', 'Swackhamer', 'Tippins', 'Turnipseed', 'Vinaigrette', 'Walkingstick', 'Wallbanger', 'Weewax', 'Weiners', 'Whipkey', 'Wigglesworth', 'Wimplesnatch', 'Winterkorn', 'Woolysocks')\n",
    "second_name_ru = ('Акулибаба','Бабай','Бабанина','Бабело','Бабенец','Бабич','Базар','Бибик','Блохина','Блюдников','Бляденко','Блядько','Бляхер','Бобрик','Братишко','Бухаров','Винник','Вислоушкина','Вопилов','Гаврик','Гниляк','Головатюк','Дивизионная','Долбня','Драндар','Дрочек','Жуйвода','Зажерило','Закорюкина','Закривидорога','Западня','Зюзина','Казелка','Какаев','Квач','Кикоть','Клячева','Кокин','Косяков','Кривулькин','Курятников','Кусайко','Лус-Кучерявый','Лялькин','Мандзюк','Матюха','Мац','Морданшина','Мордовец','Моська','Мотуз','Мохнаткин','Мохнач','Мудряк','Мурзя','Мухосранов','Наибулин','Наливайко','Насрутдинов','Неборак','Негрич','Негро','Недодаева','Недорезов','Недостоп','Непейпиво','Несоленый','Ноздрина','Нюхлов','Объедкин','Охрименко','очкевич','Пахучая','Педик','Перебейнос','Пидор','Пидорашко','Пилипончик','Пиндюрина','Пипко','Погуляйко','Подлас','подопригора','Покоевич','Полторак','Поносова','Попеску','Попик','Попков','Попукалова','припутенко','Пристежнюк','Редкокаша','Роспопина','Рыгун','Салоед','Свинаренко','Серобаба','Синяк','Сморщук','Соснина','Тараканчиков','Тузюк','Тупицына','Тырина','Тютькина','Хайбриева','Хариноа','Хертухеев','Хняч','Хотянец','Храпач','Храпатая','Хренов','Хрюкин','Хуйкин','Чайкин','Чекотилов','Черепок','Чернозипунникова','Чупилко','Шарапанюк','Ширяева','Шкраблюк','Шматок','Шмонько','Штыхер','Шурло','Голомудько','РобертБананович','РазубайБуранович','РульКарданов','Шжопов','Флавиан','Чурбанов','Лажа','Убейволк','Убейконь','Непейпиво','Пробейголова','Перебейнос','Пидкасистый','Червяк','Сиськов','Однопозов','Кисель','Пасюк','ДобрыйвечериПодъеблонская','Хрусталевый','Бриллиантский','Вшивцева','Выпирайлова','Гадючка','Давикоза','Дохлик','Дуля','Подлюк','Херных','Трепакова','Трахман','Дура','женщинасфамилиейДядя','Неутринос','Щи-борщ','Хватаймуха','Какашкинд','Блятко','Чмырюк','Билайнер','Тампак','Презерман','Писькин','Срака','Хуер','Интралигатор','Блябкин','Бляблин','Блярор','Блятник','Блях','Бляхеру','Бляхеров','Бляхман','Бобик','Бобинчик-Рабинович','Недрищев','Сручкин','Задников','Сухозад','Пятижопов')\n",
    "#print(second_name)\n",
    "random.choice(first_name)\n"
   ]
  },
  {
   "cell_type": "code",
   "execution_count": 42,
   "id": "9f0be8e9",
   "metadata": {},
   "outputs": [
    {
     "name": "stderr",
     "output_type": "stream",
     "text": [
      "Storyboard Appleyard\n"
     ]
    }
   ],
   "source": [
    "first = random.choice(first_name)\n",
    "second = random.choice(second_name)\n",
    "print(f'{first} {second}', file = sys.stderr)\n",
    "\n",
    "#try_again = input(\"\\n\\nTry one more time? (Press Enter or n if you want finish) \\n\")\n",
    "    \n",
    "    \n",
    "    "
   ]
  }
 ],
 "metadata": {
  "kernelspec": {
   "display_name": "env",
   "language": "python",
   "name": "env"
  },
  "language_info": {
   "codemirror_mode": {
    "name": "ipython",
    "version": 3
   },
   "file_extension": ".py",
   "mimetype": "text/x-python",
   "name": "python",
   "nbconvert_exporter": "python",
   "pygments_lexer": "ipython3",
   "version": "3.7.4"
  }
 },
 "nbformat": 4,
 "nbformat_minor": 5
}
