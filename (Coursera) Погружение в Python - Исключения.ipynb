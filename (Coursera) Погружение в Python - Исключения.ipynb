{
 "cells": [
  {
   "cell_type": "markdown",
   "metadata": {},
   "source": [
    "# Классы исключений и их обработка"
   ]
  },
  {
   "cell_type": "code",
   "execution_count": 1,
   "metadata": {},
   "outputs": [
    {
     "ename": "AttributeError",
     "evalue": "'MyClass' object has no attribute 'foo'",
     "output_type": "error",
     "traceback": [
      "\u001b[0;31m-----------------------------------------------------------------\u001b[0m",
      "\u001b[0;31mAttributeError\u001b[0m                  Traceback (most recent call last)",
      "\u001b[0;32m<ipython-input-1-564a21d6affa>\u001b[0m in \u001b[0;36m<module>\u001b[0;34m\u001b[0m\n\u001b[1;32m      3\u001b[0m \u001b[0;34m\u001b[0m\u001b[0m\n\u001b[1;32m      4\u001b[0m \u001b[0mobj\u001b[0m \u001b[0;34m=\u001b[0m \u001b[0mMyClass\u001b[0m\u001b[0;34m(\u001b[0m\u001b[0;34m)\u001b[0m\u001b[0;34m\u001b[0m\u001b[0;34m\u001b[0m\u001b[0m\n\u001b[0;32m----> 5\u001b[0;31m \u001b[0mobj\u001b[0m\u001b[0;34m.\u001b[0m\u001b[0mfoo\u001b[0m\u001b[0;34m\u001b[0m\u001b[0;34m\u001b[0m\u001b[0m\n\u001b[0m",
      "\u001b[0;31mAttributeError\u001b[0m: 'MyClass' object has no attribute 'foo'"
     ]
    }
   ],
   "source": [
    "# AttributeError\n",
    "class MyClass:\n",
    "    pass\n",
    "\n",
    "obj = MyClass()\n",
    "obj.foo"
   ]
  },
  {
   "cell_type": "code",
   "execution_count": 2,
   "metadata": {},
   "outputs": [
    {
     "ename": "KeyError",
     "evalue": "'g'",
     "output_type": "error",
     "traceback": [
      "\u001b[0;31m-----------------------------------------------------------------\u001b[0m",
      "\u001b[0;31mKeyError\u001b[0m                        Traceback (most recent call last)",
      "\u001b[0;32m<ipython-input-2-ac43292ed676>\u001b[0m in \u001b[0;36m<module>\u001b[0;34m\u001b[0m\n\u001b[1;32m      1\u001b[0m \u001b[0md\u001b[0m \u001b[0;34m=\u001b[0m \u001b[0;34m{\u001b[0m\u001b[0;34m'f'\u001b[0m\u001b[0;34m:\u001b[0m \u001b[0;36m1234\u001b[0m\u001b[0;34m}\u001b[0m\u001b[0;34m\u001b[0m\u001b[0;34m\u001b[0m\u001b[0m\n\u001b[0;32m----> 2\u001b[0;31m \u001b[0md\u001b[0m\u001b[0;34m[\u001b[0m\u001b[0;34m'g'\u001b[0m\u001b[0;34m]\u001b[0m\u001b[0;34m\u001b[0m\u001b[0;34m\u001b[0m\u001b[0m\n\u001b[0m",
      "\u001b[0;31mKeyError\u001b[0m: 'g'"
     ]
    }
   ],
   "source": [
    "# KeyError\n",
    "d = {'f': 1234}\n",
    "d['g']"
   ]
  },
  {
   "cell_type": "code",
   "execution_count": 3,
   "metadata": {},
   "outputs": [
    {
     "ename": "IndexError",
     "evalue": "list index out of range",
     "output_type": "error",
     "traceback": [
      "\u001b[0;31m-----------------------------------------------------------------\u001b[0m",
      "\u001b[0;31mIndexError\u001b[0m                      Traceback (most recent call last)",
      "\u001b[0;32m<ipython-input-3-4671246f84a1>\u001b[0m in \u001b[0;36m<module>\u001b[0;34m\u001b[0m\n\u001b[1;32m      1\u001b[0m \u001b[0ml\u001b[0m \u001b[0;34m=\u001b[0m \u001b[0;34m[\u001b[0m\u001b[0;36m1\u001b[0m\u001b[0;34m,\u001b[0m\u001b[0;36m2\u001b[0m\u001b[0;34m,\u001b[0m\u001b[0;36m3\u001b[0m\u001b[0;34m]\u001b[0m\u001b[0;34m\u001b[0m\u001b[0;34m\u001b[0m\u001b[0m\n\u001b[0;32m----> 2\u001b[0;31m \u001b[0ml\u001b[0m\u001b[0;34m[\u001b[0m\u001b[0;36m99\u001b[0m\u001b[0;34m]\u001b[0m\u001b[0;34m\u001b[0m\u001b[0;34m\u001b[0m\u001b[0m\n\u001b[0m",
      "\u001b[0;31mIndexError\u001b[0m: list index out of range"
     ]
    }
   ],
   "source": [
    "# IndexError\n",
    "l = [1,2,3]\n",
    "l[99]"
   ]
  },
  {
   "cell_type": "code",
   "execution_count": 3,
   "metadata": {},
   "outputs": [
    {
     "ename": "ValueError",
     "evalue": "invalid literal for int() with base 10: 'abcd'",
     "output_type": "error",
     "traceback": [
      "\u001b[0;31m-----------------------------------------------------------------\u001b[0m",
      "\u001b[0;31mValueError\u001b[0m                      Traceback (most recent call last)",
      "\u001b[0;32m<ipython-input-3-bf272de171b2>\u001b[0m in \u001b[0;36m<module>\u001b[0;34m\u001b[0m\n\u001b[1;32m      1\u001b[0m \u001b[0;31m# ValueError\u001b[0m\u001b[0;34m\u001b[0m\u001b[0;34m\u001b[0m\u001b[0;34m\u001b[0m\u001b[0m\n\u001b[0;32m----> 2\u001b[0;31m \u001b[0mint\u001b[0m\u001b[0;34m(\u001b[0m\u001b[0;34m'abcd'\u001b[0m\u001b[0;34m)\u001b[0m\u001b[0;34m\u001b[0m\u001b[0;34m\u001b[0m\u001b[0m\n\u001b[0m\u001b[1;32m      3\u001b[0m \u001b[0;34m\u001b[0m\u001b[0m\n\u001b[1;32m      4\u001b[0m \u001b[0;31m#try:\u001b[0m\u001b[0;34m\u001b[0m\u001b[0;34m\u001b[0m\u001b[0;34m\u001b[0m\u001b[0m\n\u001b[1;32m      5\u001b[0m \u001b[0;31m#    int('abcd')\u001b[0m\u001b[0;34m\u001b[0m\u001b[0;34m\u001b[0m\u001b[0;34m\u001b[0m\u001b[0m\n",
      "\u001b[0;31mValueError\u001b[0m: invalid literal for int() with base 10: 'abcd'"
     ]
    }
   ],
   "source": [
    "# ValueError\n",
    "int('abcd')\n",
    "\n",
    "#try:\n",
    "#    int('abcd')\n",
    "#except ValueError:\n",
    "#    print('Everything is ok')"
   ]
  },
  {
   "cell_type": "code",
   "execution_count": 7,
   "metadata": {},
   "outputs": [
    {
     "ename": "TypeError",
     "evalue": "unsupported operand type(s) for +: 'int' and 'str'",
     "output_type": "error",
     "traceback": [
      "\u001b[0;31m-----------------------------------------------------------------\u001b[0m",
      "\u001b[0;31mTypeError\u001b[0m                       Traceback (most recent call last)",
      "\u001b[0;32m<ipython-input-7-b3e104e2ee46>\u001b[0m in \u001b[0;36m<module>\u001b[0;34m\u001b[0m\n\u001b[0;32m----> 1\u001b[0;31m \u001b[0;36m1\u001b[0m \u001b[0;34m+\u001b[0m \u001b[0;34m'10'\u001b[0m\u001b[0;34m\u001b[0m\u001b[0;34m\u001b[0m\u001b[0m\n\u001b[0m",
      "\u001b[0;31mTypeError\u001b[0m: unsupported operand type(s) for +: 'int' and 'str'"
     ]
    }
   ],
   "source": [
    "# TypeError\n",
    "1 + '10'"
   ]
  },
  {
   "cell_type": "markdown",
   "metadata": {},
   "source": [
    "### Обработка исключений\n",
    "В программе лучше избежать вывода неприятного сообщения об ошибке, а напечатать не такое грозное сообщение, например "
   ]
  },
  {
   "cell_type": "code",
   "execution_count": 8,
   "metadata": {},
   "outputs": [
    {
     "name": "stdout",
     "output_type": "stream",
     "text": [
      "Error\n"
     ]
    }
   ],
   "source": [
    "try:\n",
    "    1/0\n",
    "except:\n",
    "    print('Error')\n"
   ]
  },
  {
   "cell_type": "code",
   "execution_count": 9,
   "metadata": {},
   "outputs": [
    {
     "name": "stdout",
     "output_type": "stream",
     "text": [
      "Error\n"
     ]
    }
   ],
   "source": [
    "# следующий код отлавливает все исключения класса Exception\n",
    "try:\n",
    "    1/0\n",
    "except Exception:\n",
    "    print('Error')"
   ]
  },
  {
   "cell_type": "markdown",
   "metadata": {},
   "source": [
    "### Пример: обработка ожидаемого исключения"
   ]
  },
  {
   "cell_type": "code",
   "execution_count": 1,
   "metadata": {},
   "outputs": [
    {
     "name": "stdout",
     "output_type": "stream",
     "text": [
      "enter a number: 4\n"
     ]
    },
    {
     "ename": "ValueError",
     "evalue": "invalid literal for int() with base 10: 'ewwe'",
     "output_type": "error",
     "traceback": [
      "\u001b[0;31m-----------------------------------------------------------------\u001b[0m",
      "\u001b[0;31mValueError\u001b[0m                      Traceback (most recent call last)",
      "\u001b[0;32m<ipython-input-1-341215b9cd20>\u001b[0m in \u001b[0;36m<module>\u001b[0;34m\u001b[0m\n\u001b[1;32m      8\u001b[0m \u001b[0;34m\u001b[0m\u001b[0m\n\u001b[1;32m      9\u001b[0m \u001b[0;31m# блок настроен на отлов всех исключений, включая ValueError\u001b[0m\u001b[0;34m\u001b[0m\u001b[0;34m\u001b[0m\u001b[0;34m\u001b[0m\u001b[0m\n\u001b[0;32m---> 10\u001b[0;31m \u001b[0mint\u001b[0m\u001b[0;34m(\u001b[0m\u001b[0;34m'ewwe'\u001b[0m\u001b[0;34m)\u001b[0m\u001b[0;34m\u001b[0m\u001b[0;34m\u001b[0m\u001b[0m\n\u001b[0m",
      "\u001b[0;31mValueError\u001b[0m: invalid literal for int() with base 10: 'ewwe'"
     ]
    }
   ],
   "source": [
    "while True:\n",
    "    try:\n",
    "        raw = input('enter a number: ')\n",
    "        number = int(raw)\n",
    "        break\n",
    "    except:\n",
    "        print('wrong value; not a number')\n",
    "        \n",
    "# блок настроен на отлов всех исключений, включая ValueError\n",
    "int('ewwe')"
   ]
  },
  {
   "cell_type": "markdown",
   "metadata": {},
   "source": [
    "Если мы будем исполнять этот код в терминале и захотим при появлении ошибки завершить программе Ctrl+C это не получится, потому что исключения не конкретизировано, и исключение генерируемое клавиатурой KeyboardInterrupt тоже обрабатывается программой а не системой. Чтобы этого избежать необходимо конкретизировать класс исключения"
   ]
  },
  {
   "cell_type": "code",
   "execution_count": 16,
   "metadata": {},
   "outputs": [
    {
     "name": "stdout",
     "output_type": "stream",
     "text": [
      "enter a number: r\n",
      "wrong value\n",
      "enter a number: r\n",
      "wrong value\n",
      "enter a number: 4\n"
     ]
    }
   ],
   "source": [
    "while True:\n",
    "    try:\n",
    "        raw = input('enter a number: ')\n",
    "        number = int(raw)\n",
    "        break\n",
    "    except ValueError:\n",
    "        print('wrong value')"
   ]
  },
  {
   "cell_type": "code",
   "execution_count": 18,
   "metadata": {},
   "outputs": [
    {
     "name": "stdout",
     "output_type": "stream",
     "text": [
      "enter a number: r\n",
      "wrong value\n",
      "enter a number: 4\n",
      "you entered number!\n"
     ]
    }
   ],
   "source": [
    "# else используется если исключения не произошло\n",
    "while True:\n",
    "    try:\n",
    "        raw = input('enter a number: ')\n",
    "        number = int(raw)\n",
    "    except ValueError:\n",
    "        print('wrong value')\n",
    "    else:\n",
    "        print('you entered number!')\n",
    "        break"
   ]
  },
  {
   "cell_type": "markdown",
   "metadata": {},
   "source": [
    "### Обработка нескольких исключений\n"
   ]
  },
  {
   "cell_type": "code",
   "execution_count": null,
   "metadata": {},
   "outputs": [],
   "source": [
    "while True:\n",
    "    try:\n",
    "        raw = input('enter a number: ')\n",
    "        number = int(raw)\n",
    "    except ValueError:\n",
    "        print('wrong value')\n",
    "    except KeyboardInterrupt:\n",
    "        print('interrupt from keyboard. Bye')\n",
    "        break\n",
    "    else:\n",
    "        print('you entered number!')\n",
    "        break"
   ]
  },
  {
   "cell_type": "markdown",
   "metadata": {},
   "source": [
    "break используется только во втором блоке except: когда возникает ValueError программа продолжает работать идя на следующую итерацию. "
   ]
  },
  {
   "cell_type": "markdown",
   "metadata": {},
   "source": [
    "### Eсли обработчик исключений одинаковый для нескольких видов"
   ]
  },
  {
   "cell_type": "code",
   "execution_count": 2,
   "metadata": {},
   "outputs": [
    {
     "name": "stdout",
     "output_type": "stream",
     "text": [
      "enter a number: 0\n",
      "wrong value\n",
      "enter a number: 9\n",
      "11111.111111111111\n"
     ]
    }
   ],
   "source": [
    "\n",
    "total_count = 100000\n",
    "while True:\n",
    "    try:\n",
    "        raw = input('enter a number: ')\n",
    "        number = int(raw)\n",
    "        total_count /= number\n",
    "        print(total_count)\n",
    "        break\n",
    "    except (ValueError, ZeroDivisionError):\n",
    "        print('wrong value')\n",
    "\n"
   ]
  },
  {
   "cell_type": "markdown",
   "metadata": {},
   "source": [
    "### Обработка нескольких исключений, наследование"
   ]
  },
  {
   "cell_type": "code",
   "execution_count": 6,
   "metadata": {},
   "outputs": [
    {
     "name": "stdout",
     "output_type": "stream",
     "text": [
      "True\n",
      "True\n"
     ]
    }
   ],
   "source": [
    "# Структура классов исключений\n",
    "# - LookupError\n",
    "# -- IndexError\n",
    "# -- IndexError\n",
    "print(issubclass(IndexError, LookupError))\n",
    "print(issubclass(KeyError, LookupError))"
   ]
  },
  {
   "cell_type": "code",
   "execution_count": 2,
   "metadata": {},
   "outputs": [
    {
     "name": "stdout",
     "output_type": "stream",
     "text": [
      "enter color: green\n",
      "enter number: 2\n",
      "your choice:  pyhton\n"
     ]
    }
   ],
   "source": [
    "# ниже будем ловить два типа исключений IndexError и IndexError с помощью родителя\n",
    "\n",
    "database = {\n",
    "    'red': ['fox', 'flower'],\n",
    "    'green': ['peace', 'M', 'pyhton']\n",
    "}\n",
    "\n",
    "try:\n",
    "    color = input('enter color: ')\n",
    "    number = input('enter number: ')\n",
    "    label = database[color][int(number)]\n",
    "    \n",
    "    print('your choice: ', label)\n",
    "except LookupError:\n",
    "    print(\"Can't find object :(\")"
   ]
  },
  {
   "cell_type": "markdown",
   "metadata": {},
   "source": [
    "### Блок finally\n",
    "Предположим что мы открыли файл читаем его осуществляем операции с данным и возникает неожиданное исключение (которое мы не отлавливаем). Блок finally позволяет корректно завершить работу исопльзуемых, например закрыть файл"
   ]
  },
  {
   "cell_type": "code",
   "execution_count": null,
   "metadata": {},
   "outputs": [],
   "source": [
    "f = open('etc/hosts')\n",
    "try:\n",
    "    for line in f:\n",
    "        print(line.rstrip('\\n'))\n",
    "        1/0\n",
    "except OSError:\n",
    "    print('Error')\n",
    "finally:\n",
    "    f.close()\n",
    "    \n",
    "# В данном случае finally будет выполнен в любом случае"
   ]
  },
  {
   "cell_type": "markdown",
   "metadata": {},
   "source": [
    "A finally clause is always executed before leaving the try statement, whether an exception has occurred or not. When an exception has occurred in the try clause and has not been handled by an except clause (or it has occurred in an except or else clause), it is re-raised after the finally clause has been executed. The finally clause is also executed “on the way out” when any other clause of the try statement is left via a break, continue or return statement"
   ]
  },
  {
   "cell_type": "code",
   "execution_count": 18,
   "metadata": {},
   "outputs": [
    {
     "name": "stdout",
     "output_type": "stream",
     "text": [
      "result is 2.0\n",
      "executing finally clause\n",
      "division by zero!\n",
      "executing finally clause\n",
      "executing finally clause\n"
     ]
    },
    {
     "ename": "TypeError",
     "evalue": "unsupported operand type(s) for /: 'str' and 'str'",
     "output_type": "error",
     "traceback": [
      "\u001b[0;31m-----------------------------------------------------------------\u001b[0m",
      "\u001b[0;31mTypeError\u001b[0m                       Traceback (most recent call last)",
      "\u001b[0;32m<ipython-input-18-36a2d4607428>\u001b[0m in \u001b[0;36m<module>\u001b[0;34m\u001b[0m\n\u001b[1;32m     11\u001b[0m \u001b[0mdivide\u001b[0m\u001b[0;34m(\u001b[0m\u001b[0;36m2\u001b[0m\u001b[0;34m,\u001b[0m \u001b[0;36m1\u001b[0m\u001b[0;34m)\u001b[0m\u001b[0;34m\u001b[0m\u001b[0;34m\u001b[0m\u001b[0m\n\u001b[1;32m     12\u001b[0m \u001b[0mdivide\u001b[0m\u001b[0;34m(\u001b[0m\u001b[0;36m2\u001b[0m\u001b[0;34m,\u001b[0m \u001b[0;36m0\u001b[0m\u001b[0;34m)\u001b[0m\u001b[0;34m\u001b[0m\u001b[0;34m\u001b[0m\u001b[0m\n\u001b[0;32m---> 13\u001b[0;31m \u001b[0mdivide\u001b[0m\u001b[0;34m(\u001b[0m\u001b[0;34m\"2\"\u001b[0m\u001b[0;34m,\u001b[0m \u001b[0;34m\"1\"\u001b[0m\u001b[0;34m)\u001b[0m\u001b[0;34m\u001b[0m\u001b[0;34m\u001b[0m\u001b[0m\n\u001b[0m",
      "\u001b[0;32m<ipython-input-18-36a2d4607428>\u001b[0m in \u001b[0;36mdivide\u001b[0;34m(x, y)\u001b[0m\n\u001b[1;32m      1\u001b[0m \u001b[0;32mdef\u001b[0m \u001b[0mdivide\u001b[0m\u001b[0;34m(\u001b[0m\u001b[0mx\u001b[0m\u001b[0;34m,\u001b[0m \u001b[0my\u001b[0m\u001b[0;34m)\u001b[0m\u001b[0;34m:\u001b[0m\u001b[0;34m\u001b[0m\u001b[0;34m\u001b[0m\u001b[0m\n\u001b[1;32m      2\u001b[0m     \u001b[0;32mtry\u001b[0m\u001b[0;34m:\u001b[0m\u001b[0;34m\u001b[0m\u001b[0;34m\u001b[0m\u001b[0m\n\u001b[0;32m----> 3\u001b[0;31m         \u001b[0mresult\u001b[0m \u001b[0;34m=\u001b[0m \u001b[0mx\u001b[0m \u001b[0;34m/\u001b[0m \u001b[0my\u001b[0m\u001b[0;34m\u001b[0m\u001b[0;34m\u001b[0m\u001b[0m\n\u001b[0m\u001b[1;32m      4\u001b[0m     \u001b[0;32mexcept\u001b[0m \u001b[0mZeroDivisionError\u001b[0m\u001b[0;34m:\u001b[0m\u001b[0;34m\u001b[0m\u001b[0;34m\u001b[0m\u001b[0m\n\u001b[1;32m      5\u001b[0m         \u001b[0mprint\u001b[0m\u001b[0;34m(\u001b[0m\u001b[0;34m\"division by zero!\"\u001b[0m\u001b[0;34m)\u001b[0m\u001b[0;34m\u001b[0m\u001b[0;34m\u001b[0m\u001b[0m\n",
      "\u001b[0;31mTypeError\u001b[0m: unsupported operand type(s) for /: 'str' and 'str'"
     ]
    }
   ],
   "source": [
    "def divide(x, y):\n",
    "    try:\n",
    "        result = x / y\n",
    "    except ZeroDivisionError:\n",
    "        print(\"division by zero!\")\n",
    "    else:\n",
    "        print(\"result is\", result)\n",
    "    finally:\n",
    "        print(\"executing finally clause\")\n",
    "\n",
    "divide(2, 1)\n",
    "divide(2, 0)\n",
    "divide(\"2\", \"1\")"
   ]
  },
  {
   "cell_type": "markdown",
   "metadata": {},
   "source": [
    "# Генерация исключений"
   ]
  },
  {
   "cell_type": "code",
   "execution_count": null,
   "metadata": {},
   "outputs": [],
   "source": []
  },
  {
   "cell_type": "markdown",
   "metadata": {},
   "source": [
    "### Доступ к объекту исключений"
   ]
  },
  {
   "cell_type": "code",
   "execution_count": 3,
   "metadata": {},
   "outputs": [
    {
     "name": "stdout",
     "output_type": "stream",
     "text": [
      "err.errno:  2\n",
      "err.args:  (2, 'No such file or directory')\n",
      "err.filename:  /file/not/found\n",
      "err.filename2:  None\n",
      "err.strerror:  No such file or directory\n",
      "err.with_traceback:  <built-in method with_traceback of FileNotFoundError object at 0x10604e560>\n",
      "(<class 'FileNotFoundError'>, <class 'OSError'>, <class 'Exception'>, <class 'BaseException'>, <class 'object'>)\n"
     ]
    }
   ],
   "source": [
    "#with open('/file/not/found') as f:\n",
    "#        content = f.read()\n",
    "\n",
    "try:\n",
    "    with open('/file/not/found') as f:\n",
    "        content = f.read()\n",
    "except OSError as err:\n",
    "    print('err.errno: ', err.errno)\n",
    "    print('err.args: ', err.args)\n",
    "    print('err.filename: ', err.filename)\n",
    "    print('err.filename2: ', err.filename2)\n",
    "    print('err.strerror: ', err.strerror)\n",
    "    print('err.with_traceback: ', err.with_traceback)\n",
    "   \n",
    "# Method resolution order\n",
    "print(FileNotFoundError.__mro__)    \n",
    "   "
   ]
  },
  {
   "cell_type": "markdown",
   "metadata": {},
   "source": [
    "### Доступ к объекту исключения, атрибут args\n"
   ]
  },
  {
   "cell_type": "code",
   "execution_count": 10,
   "metadata": {},
   "outputs": [
    {
     "name": "stdout",
     "output_type": "stream",
     "text": [
      "File not exists /file/not/found\n"
     ]
    }
   ],
   "source": [
    "import os.path\n",
    "\n",
    "filename = '/file/not/found'\n",
    "try:\n",
    "    if not os.path.exists(filename):\n",
    "        raise ValueError('File not exists', filename)\n",
    "except ValueError as err:\n",
    "    message, filename = err.args[0], err.args[1]\n",
    "    print(message, filename)"
   ]
  },
  {
   "cell_type": "markdown",
   "metadata": {},
   "source": [
    "### Доступ к стеку вызовов"
   ]
  },
  {
   "cell_type": "code",
   "execution_count": 11,
   "metadata": {},
   "outputs": [
    {
     "name": "stdout",
     "output_type": "stream",
     "text": [
      "None\n"
     ]
    },
    {
     "name": "stderr",
     "output_type": "stream",
     "text": [
      "Traceback (most recent call last):\n",
      "  File \"<ipython-input-11-0af407c78dbf>\", line 4, in <module>\n",
      "    with open('/file/not/found') as f:\n",
      "FileNotFoundError: [Errno 2] No such file or directory: '/file/not/found'\n"
     ]
    }
   ],
   "source": [
    "import traceback\n",
    "\n",
    "try:\n",
    "    with open('/file/not/found') as f:\n",
    "        content = f.read()\n",
    "except OSError as err:\n",
    "    trace = traceback.print_exc()\n",
    "    print(trace)"
   ]
  },
  {
   "cell_type": "markdown",
   "metadata": {},
   "source": [
    "### Генерация исключения, инструкция raise"
   ]
  },
  {
   "cell_type": "code",
   "execution_count": 17,
   "metadata": {},
   "outputs": [
    {
     "name": "stdout",
     "output_type": "stream",
     "text": [
      "enter a number: e\n",
      "not a number!\n"
     ]
    }
   ],
   "source": [
    "#class ValueError1(ValueError):\n",
    "#    pass\n",
    "\n",
    "try:\n",
    "    raw = input('enter a number: ')\n",
    "    if not raw.isdigit():\n",
    "        raise ValueError  # try ValueError1\n",
    "    else:\n",
    "        print(raw)\n",
    "except ValueError:\n",
    "    print('not a number!')"
   ]
  },
  {
   "cell_type": "code",
   "execution_count": 14,
   "metadata": {},
   "outputs": [
    {
     "name": "stdout",
     "output_type": "stream",
     "text": [
      "MyExc1\n",
      "MyExc2\n",
      "MyExc3\n"
     ]
    }
   ],
   "source": [
    "class MyExc1(Exception):\n",
    "    pass\n",
    "\n",
    "class MyExc2(MyExc1):\n",
    "    pass\n",
    "\n",
    "class MyExc3(MyExc2):\n",
    "    pass\n",
    "\n",
    "for cls in [MyExc1, MyExc2, MyExc3]:\n",
    "    try:\n",
    "        raise cls()\n",
    "    except MyExc3:\n",
    "        print(\"MyExc3\")\n",
    "    except MyExc2:\n",
    "        print(\"MyExc2\")\n",
    "    except MyExc1:\n",
    "        print(\"MyExc1\")"
   ]
  },
  {
   "cell_type": "code",
   "execution_count": 22,
   "metadata": {},
   "outputs": [
    {
     "name": "stdout",
     "output_type": "stream",
     "text": [
      "enter a number: derqw\n",
      "not a number! ('you entered not a digit', 'derqw')\n"
     ]
    }
   ],
   "source": [
    "# также можно передать параметры\n",
    "try:\n",
    "    raw = input('enter a number: ')\n",
    "    if not raw.isdigit():\n",
    "        raise ValueError('you entered not a digit', raw)\n",
    "    else:\n",
    "        print(raw)\n",
    "except ValueError as err:\n",
    "    print('not a number!', err)"
   ]
  },
  {
   "cell_type": "code",
   "execution_count": null,
   "metadata": {},
   "outputs": [],
   "source": [
    "### Проброс исключений \"выше\""
   ]
  },
  {
   "cell_type": "code",
   "execution_count": 5,
   "metadata": {},
   "outputs": [
    {
     "name": "stdout",
     "output_type": "stream",
     "text": [
      "enter a number: r\n",
      "not a number! ('you entered not a digit', 'r')\n"
     ]
    },
    {
     "ename": "ValueError",
     "evalue": "('you entered not a digit', 'r')",
     "output_type": "error",
     "traceback": [
      "\u001b[0;31m-----------------------------------------------------------------\u001b[0m",
      "\u001b[0;31mValueError\u001b[0m                      Traceback (most recent call last)",
      "\u001b[0;32m<ipython-input-5-f2c04cc104e0>\u001b[0m in \u001b[0;36m<module>\u001b[0;34m\u001b[0m\n\u001b[1;32m      4\u001b[0m     \u001b[0mraw\u001b[0m \u001b[0;34m=\u001b[0m \u001b[0minput\u001b[0m\u001b[0;34m(\u001b[0m\u001b[0;34m'enter a number: '\u001b[0m\u001b[0;34m)\u001b[0m\u001b[0;34m\u001b[0m\u001b[0;34m\u001b[0m\u001b[0m\n\u001b[1;32m      5\u001b[0m     \u001b[0;32mif\u001b[0m \u001b[0;32mnot\u001b[0m \u001b[0mraw\u001b[0m\u001b[0;34m.\u001b[0m\u001b[0misdigit\u001b[0m\u001b[0;34m(\u001b[0m\u001b[0;34m)\u001b[0m\u001b[0;34m:\u001b[0m\u001b[0;34m\u001b[0m\u001b[0;34m\u001b[0m\u001b[0m\n\u001b[0;32m----> 6\u001b[0;31m         \u001b[0;32mraise\u001b[0m \u001b[0mValueError\u001b[0m\u001b[0;34m(\u001b[0m\u001b[0;34m'you entered not a digit'\u001b[0m\u001b[0;34m,\u001b[0m \u001b[0mraw\u001b[0m\u001b[0;34m)\u001b[0m\u001b[0;34m\u001b[0m\u001b[0;34m\u001b[0m\u001b[0m\n\u001b[0m\u001b[1;32m      7\u001b[0m     \u001b[0;32melse\u001b[0m\u001b[0;34m:\u001b[0m\u001b[0;34m\u001b[0m\u001b[0;34m\u001b[0m\u001b[0m\n\u001b[1;32m      8\u001b[0m         \u001b[0mprint\u001b[0m\u001b[0;34m(\u001b[0m\u001b[0mraw\u001b[0m\u001b[0;34m)\u001b[0m\u001b[0;34m\u001b[0m\u001b[0;34m\u001b[0m\u001b[0m\n",
      "\u001b[0;31mValueError\u001b[0m: ('you entered not a digit', 'r')"
     ]
    }
   ],
   "source": [
    "# Иногда мы не знаем что делать с исключением; в этом случае его можно пробросить выше\n",
    "# также можно передать параметры\n",
    "try:\n",
    "    raw = input('enter a number: ')\n",
    "    if not raw.isdigit():\n",
    "        raise ValueError('you entered not a digit', raw)\n",
    "    else:\n",
    "        print(raw)\n",
    "except ValueError as err:\n",
    "    print('not a number!', err)\n",
    "    # делегирование обработки исключения\n",
    "    raise"
   ]
  },
  {
   "cell_type": "markdown",
   "metadata": {},
   "source": [
    "### Исключение через raise from Exception\n",
    "Если таких мест в которых делегируются исключения очень много, то иногда неясно где именно оно возникло. Для этого используется raise from exception"
   ]
  },
  {
   "cell_type": "code",
   "execution_count": 28,
   "metadata": {},
   "outputs": [
    {
     "name": "stdout",
     "output_type": "stream",
     "text": [
      "enter a number: f\n",
      "not a number! you entered not a digit f\n"
     ]
    },
    {
     "ename": "TypeError",
     "evalue": "**error**",
     "output_type": "error",
     "traceback": [
      "\u001b[0;31m-----------------------------------------------------------------\u001b[0m",
      "\u001b[0;31mValueError\u001b[0m                      Traceback (most recent call last)",
      "\u001b[0;32m<ipython-input-28-bf2b3c9d4f0a>\u001b[0m in \u001b[0;36m<module>\u001b[0;34m\u001b[0m\n\u001b[1;32m      3\u001b[0m     \u001b[0;32mif\u001b[0m \u001b[0;32mnot\u001b[0m \u001b[0mraw\u001b[0m\u001b[0;34m.\u001b[0m\u001b[0misdigit\u001b[0m\u001b[0;34m(\u001b[0m\u001b[0;34m)\u001b[0m\u001b[0;34m:\u001b[0m\u001b[0;34m\u001b[0m\u001b[0;34m\u001b[0m\u001b[0m\n\u001b[0;32m----> 4\u001b[0;31m         \u001b[0;32mraise\u001b[0m \u001b[0mValueError\u001b[0m\u001b[0;34m(\u001b[0m\u001b[0;34m'you entered not a digit'\u001b[0m\u001b[0;34m,\u001b[0m \u001b[0mraw\u001b[0m\u001b[0;34m)\u001b[0m\u001b[0;34m\u001b[0m\u001b[0;34m\u001b[0m\u001b[0m\n\u001b[0m\u001b[1;32m      5\u001b[0m     \u001b[0;32melse\u001b[0m\u001b[0;34m:\u001b[0m\u001b[0;34m\u001b[0m\u001b[0;34m\u001b[0m\u001b[0m\n",
      "\u001b[0;31mValueError\u001b[0m: ('you entered not a digit', 'f')",
      "\nThe above exception was the direct cause of the following exception:\n",
      "\u001b[0;31mTypeError\u001b[0m                       Traceback (most recent call last)",
      "\u001b[0;32m<ipython-input-28-bf2b3c9d4f0a>\u001b[0m in \u001b[0;36m<module>\u001b[0;34m\u001b[0m\n\u001b[1;32m      7\u001b[0m \u001b[0;32mexcept\u001b[0m \u001b[0mValueError\u001b[0m \u001b[0;32mas\u001b[0m \u001b[0merr\u001b[0m\u001b[0;34m:\u001b[0m\u001b[0;34m\u001b[0m\u001b[0;34m\u001b[0m\u001b[0m\n\u001b[1;32m      8\u001b[0m     \u001b[0mprint\u001b[0m\u001b[0;34m(\u001b[0m\u001b[0;34m'not a number!'\u001b[0m\u001b[0;34m,\u001b[0m \u001b[0merr\u001b[0m\u001b[0;34m.\u001b[0m\u001b[0margs\u001b[0m\u001b[0;34m[\u001b[0m\u001b[0;36m0\u001b[0m\u001b[0;34m]\u001b[0m\u001b[0;34m,\u001b[0m \u001b[0merr\u001b[0m\u001b[0;34m.\u001b[0m\u001b[0margs\u001b[0m\u001b[0;34m[\u001b[0m\u001b[0;36m1\u001b[0m\u001b[0;34m]\u001b[0m\u001b[0;34m)\u001b[0m\u001b[0;34m\u001b[0m\u001b[0;34m\u001b[0m\u001b[0m\n\u001b[0;32m----> 9\u001b[0;31m     \u001b[0;32mraise\u001b[0m \u001b[0mTypeError\u001b[0m\u001b[0;34m(\u001b[0m\u001b[0;34m'**error**'\u001b[0m\u001b[0;34m)\u001b[0m \u001b[0;32mfrom\u001b[0m \u001b[0merr\u001b[0m\u001b[0;34m\u001b[0m\u001b[0;34m\u001b[0m\u001b[0m\n\u001b[0m\u001b[1;32m     10\u001b[0m \u001b[0;34m\u001b[0m\u001b[0m\n",
      "\u001b[0;31mTypeError\u001b[0m: **error**"
     ]
    }
   ],
   "source": [
    "try:\n",
    "    raw = input('enter a number: ')\n",
    "    if not raw.isdigit():\n",
    "        raise ValueError('you entered not a digit', raw)\n",
    "    else:\n",
    "        print(raw)\n",
    "except ValueError as err:\n",
    "    print('not a number!', err.args[0], err.args[1])\n",
    "    raise TypeError('**error**') from err\n",
    "\n"
   ]
  },
  {
   "cell_type": "markdown",
   "metadata": {},
   "source": [
    "### Инструкция assert, флаг -o\n",
    "Используется программистами на этапе написания кода для отслеживания ошибок. Все assert можно отключить с помощью флага -o."
   ]
  },
  {
   "cell_type": "code",
   "execution_count": 31,
   "metadata": {},
   "outputs": [],
   "source": [
    "assert True"
   ]
  },
  {
   "cell_type": "code",
   "execution_count": 32,
   "metadata": {},
   "outputs": [
    {
     "ename": "AssertionError",
     "evalue": "",
     "output_type": "error",
     "traceback": [
      "\u001b[0;31m-----------------------------------------------------------------\u001b[0m",
      "\u001b[0;31mAssertionError\u001b[0m                  Traceback (most recent call last)",
      "\u001b[0;32m<ipython-input-32-e99f91a18d62>\u001b[0m in \u001b[0;36m<module>\u001b[0;34m\u001b[0m\n\u001b[0;32m----> 1\u001b[0;31m \u001b[0;32massert\u001b[0m \u001b[0;36m1\u001b[0m \u001b[0;34m==\u001b[0m \u001b[0;36m0\u001b[0m\u001b[0;34m\u001b[0m\u001b[0;34m\u001b[0m\u001b[0m\n\u001b[0m",
      "\u001b[0;31mAssertionError\u001b[0m: "
     ]
    }
   ],
   "source": [
    "assert 1 == 0"
   ]
  },
  {
   "cell_type": "code",
   "execution_count": 33,
   "metadata": {},
   "outputs": [
    {
     "ename": "AssertionError",
     "evalue": "1 is not equal 0",
     "output_type": "error",
     "traceback": [
      "\u001b[0;31m-----------------------------------------------------------------\u001b[0m",
      "\u001b[0;31mAssertionError\u001b[0m                  Traceback (most recent call last)",
      "\u001b[0;32m<ipython-input-33-afde1481d102>\u001b[0m in \u001b[0;36m<module>\u001b[0;34m\u001b[0m\n\u001b[0;32m----> 1\u001b[0;31m \u001b[0;32massert\u001b[0m \u001b[0;36m1\u001b[0m\u001b[0;34m==\u001b[0m\u001b[0;36m0\u001b[0m\u001b[0;34m,\u001b[0m \u001b[0;34m'1 is not equal 0'\u001b[0m\u001b[0;34m\u001b[0m\u001b[0;34m\u001b[0m\u001b[0m\n\u001b[0m",
      "\u001b[0;31mAssertionError\u001b[0m: 1 is not equal 0"
     ]
    }
   ],
   "source": [
    "assert 1==0, '1 is not equal 0'"
   ]
  },
  {
   "cell_type": "markdown",
   "metadata": {},
   "source": [
    "### Пример assert"
   ]
  },
  {
   "cell_type": "code",
   "execution_count": 13,
   "metadata": {},
   "outputs": [
    {
     "name": "stdout",
     "output_type": "stream",
     "text": [
      "searching for user by id...\n"
     ]
    },
    {
     "ename": "AssertionError",
     "evalue": "id should be a number!",
     "output_type": "error",
     "traceback": [
      "\u001b[0;31m-----------------------------------------------------------------\u001b[0m",
      "\u001b[0;31mAssertionError\u001b[0m                  Traceback (most recent call last)",
      "\u001b[0;32m<ipython-input-13-ddc653153c06>\u001b[0m in \u001b[0;36m<module>\u001b[0;34m\u001b[0m\n\u001b[1;32m      4\u001b[0m \u001b[0;34m\u001b[0m\u001b[0m\n\u001b[1;32m      5\u001b[0m \u001b[0mget_user_by_id\u001b[0m\u001b[0;34m(\u001b[0m\u001b[0;36m8\u001b[0m\u001b[0;34m)\u001b[0m\u001b[0;34m\u001b[0m\u001b[0;34m\u001b[0m\u001b[0m\n\u001b[0;32m----> 6\u001b[0;31m \u001b[0mget_user_by_id\u001b[0m\u001b[0;34m(\u001b[0m\u001b[0;34m'doicnm'\u001b[0m\u001b[0;34m)\u001b[0m\u001b[0;34m\u001b[0m\u001b[0;34m\u001b[0m\u001b[0m\n\u001b[0m",
      "\u001b[0;32m<ipython-input-13-ddc653153c06>\u001b[0m in \u001b[0;36mget_user_by_id\u001b[0;34m(id)\u001b[0m\n\u001b[1;32m      1\u001b[0m \u001b[0;32mdef\u001b[0m \u001b[0mget_user_by_id\u001b[0m\u001b[0;34m(\u001b[0m\u001b[0mid\u001b[0m\u001b[0;34m)\u001b[0m\u001b[0;34m:\u001b[0m\u001b[0;34m\u001b[0m\u001b[0;34m\u001b[0m\u001b[0m\n\u001b[0;32m----> 2\u001b[0;31m     \u001b[0;32massert\u001b[0m \u001b[0misinstance\u001b[0m\u001b[0;34m(\u001b[0m\u001b[0mid\u001b[0m\u001b[0;34m,\u001b[0m \u001b[0mint\u001b[0m\u001b[0;34m)\u001b[0m\u001b[0;34m,\u001b[0m \u001b[0;34m'id should be a number!'\u001b[0m\u001b[0;34m\u001b[0m\u001b[0;34m\u001b[0m\u001b[0m\n\u001b[0m\u001b[1;32m      3\u001b[0m     \u001b[0mprint\u001b[0m\u001b[0;34m(\u001b[0m\u001b[0;34m'searching for user by id...'\u001b[0m\u001b[0;34m)\u001b[0m\u001b[0;34m\u001b[0m\u001b[0;34m\u001b[0m\u001b[0m\n\u001b[1;32m      4\u001b[0m \u001b[0;34m\u001b[0m\u001b[0m\n\u001b[1;32m      5\u001b[0m \u001b[0mget_user_by_id\u001b[0m\u001b[0;34m(\u001b[0m\u001b[0;36m8\u001b[0m\u001b[0;34m)\u001b[0m\u001b[0;34m\u001b[0m\u001b[0;34m\u001b[0m\u001b[0m\n",
      "\u001b[0;31mAssertionError\u001b[0m: id should be a number!"
     ]
    }
   ],
   "source": [
    "def get_user_by_id(id):\n",
    "    assert isinstance(id, int), 'id should be a number!'\n",
    "    print('searching for user by id...')\n",
    " \n",
    "get_user_by_id(8)\n",
    "get_user_by_id('doicnm')\n"
   ]
  },
  {
   "cell_type": "markdown",
   "metadata": {},
   "source": [
    "### Производительность обработки исключений"
   ]
  },
  {
   "cell_type": "code",
   "execution_count": 35,
   "metadata": {},
   "outputs": [
    {
     "name": "stdout",
     "output_type": "stream",
     "text": [
      "334 µs ± 6.03 µs per loop (mean ± std. dev. of 7 runs, 1000 loops each)\n"
     ]
    }
   ],
   "source": [
    "%%timeit\n",
    "d = {'foo': 1}\n",
    "for _ in range(1000):\n",
    "    try:\n",
    "        d['bar']\n",
    "    except KeyError:\n",
    "        pass\n",
    "        "
   ]
  },
  {
   "cell_type": "code",
   "execution_count": 36,
   "metadata": {},
   "outputs": [
    {
     "name": "stdout",
     "output_type": "stream",
     "text": [
      "44.2 µs ± 1.02 µs per loop (mean ± std. dev. of 7 runs, 10000 loops each)\n"
     ]
    }
   ],
   "source": [
    "%%timeit\n",
    "d = {'foo': 1}\n",
    "for _ in range(1000):\n",
    "    if 'bar' in d:\n",
    "        _ = d['bar']\n",
    "        "
   ]
  },
  {
   "cell_type": "markdown",
   "metadata": {},
   "source": [
    "Поэтому следует минимизировать использование исключений"
   ]
  },
  {
   "cell_type": "markdown",
   "metadata": {},
   "source": [
    "# Пример: исключения в request. Пользовательские исключения"
   ]
  },
  {
   "cell_type": "code",
   "execution_count": 37,
   "metadata": {},
   "outputs": [
    {
     "name": "stdout",
     "output_type": "stream",
     "text": [
      "/Users/Andrew/python/playground/env/lib/python3.7/site-packages/requests/__init__.py\n"
     ]
    }
   ],
   "source": [
    "import requests\n",
    "# посмотрим какие исключения можно обрабатывать в этом модуле \n",
    "# для этого сначала посмотрим где модуль находится\n",
    "print(requests.__file__)"
   ]
  },
  {
   "cell_type": "code",
   "execution_count": 38,
   "metadata": {},
   "outputs": [
    {
     "name": "stdout",
     "output_type": "stream",
     "text": [
      "# -*- coding: utf-8 -*-\n",
      "\n",
      "\"\"\"\n",
      "requests.exceptions\n",
      "~~~~~~~~~~~~~~~~~~~\n",
      "\n",
      "This module contains the set of Requests' exceptions.\n",
      "\"\"\"\n",
      "from urllib3.exceptions import HTTPError as BaseHTTPError\n",
      "\n",
      "\n",
      "class RequestException(IOError):\n",
      "    \"\"\"There was an ambiguous exception that occurred while handling your\n",
      "    request.\n",
      "    \"\"\"\n",
      "\n",
      "    def __init__(self, *args, **kwargs):\n",
      "        \"\"\"Initialize RequestException with `request` and `response` objects.\"\"\"\n",
      "        response = kwargs.pop('response', None)\n",
      "        self.response = response\n",
      "        self.request = kwargs.pop('request', None)\n",
      "        if (response is not None and not self.request and\n",
      "                hasattr(response, 'request')):\n",
      "            self.request = self.response.request\n",
      "        super(RequestException, self).__init__(*args, **kwargs)\n",
      "\n",
      "\n",
      "class HTTPError(RequestException):\n",
      "    \"\"\"An HTTP error occurred.\"\"\"\n",
      "\n",
      "\n",
      "class ConnectionError(RequestException):\n",
      "    \"\"\"A Connection error occurred.\"\"\"\n",
      "\n",
      "\n",
      "class ProxyError(ConnectionError):\n",
      "    \"\"\"A proxy error occurred.\"\"\"\n",
      "\n",
      "\n",
      "class SSLError(ConnectionError):\n",
      "    \"\"\"An SSL error occurred.\"\"\"\n",
      "\n",
      "\n",
      "class Timeout(RequestException):\n",
      "    \"\"\"The request timed out.\n",
      "\n",
      "    Catching this error will catch both\n",
      "    :exc:`~requests.exceptions.ConnectTimeout` and\n",
      "    :exc:`~requests.exceptions.ReadTimeout` errors.\n",
      "    \"\"\"\n",
      "\n",
      "\n",
      "class ConnectTimeout(ConnectionError, Timeout):\n",
      "    \"\"\"The request timed out while trying to connect to the remote server.\n",
      "\n",
      "    Requests that produced this error are safe to retry.\n",
      "    \"\"\"\n",
      "\n",
      "\n",
      "class ReadTimeout(Timeout):\n",
      "    \"\"\"The server did not send any data in the allotted amount of time.\"\"\"\n",
      "\n",
      "\n",
      "class URLRequired(RequestException):\n",
      "    \"\"\"A valid URL is required to make a request.\"\"\"\n",
      "\n",
      "\n",
      "class TooManyRedirects(RequestException):\n",
      "    \"\"\"Too many redirects.\"\"\"\n",
      "\n",
      "\n",
      "class MissingSchema(RequestException, ValueError):\n",
      "    \"\"\"The URL schema (e.g. http or https) is missing.\"\"\"\n",
      "\n",
      "\n",
      "class InvalidSchema(RequestException, ValueError):\n",
      "    \"\"\"See defaults.py for valid schemas.\"\"\"\n",
      "\n",
      "\n",
      "class InvalidURL(RequestException, ValueError):\n",
      "    \"\"\"The URL provided was somehow invalid.\"\"\"\n",
      "\n",
      "\n",
      "class InvalidHeader(RequestException, ValueError):\n",
      "    \"\"\"The header value provided was somehow invalid.\"\"\"\n",
      "\n",
      "\n",
      "class InvalidProxyURL(InvalidURL):\n",
      "    \"\"\"The proxy URL provided is invalid.\"\"\"\n",
      "\n",
      "\n",
      "class ChunkedEncodingError(RequestException):\n",
      "    \"\"\"The server declared chunked encoding but sent an invalid chunk.\"\"\"\n",
      "\n",
      "\n",
      "class ContentDecodingError(RequestException, BaseHTTPError):\n",
      "    \"\"\"Failed to decode response content.\"\"\"\n",
      "\n",
      "\n",
      "class StreamConsumedError(RequestException, TypeError):\n",
      "    \"\"\"The content for this response was already consumed.\"\"\"\n",
      "\n",
      "\n",
      "class RetryError(RequestException):\n",
      "    \"\"\"Custom retries logic failed\"\"\"\n",
      "\n",
      "\n",
      "class UnrewindableBodyError(RequestException):\n",
      "    \"\"\"Requests encountered an error when trying to rewind a body.\"\"\"\n",
      "\n",
      "# Warnings\n",
      "\n",
      "\n",
      "class RequestsWarning(Warning):\n",
      "    \"\"\"Base warning for Requests.\"\"\"\n",
      "\n",
      "\n",
      "class FileModeWarning(RequestsWarning, DeprecationWarning):\n",
      "    \"\"\"A file was opened in text mode, but Requests determined its binary length.\"\"\"\n",
      "\n",
      "\n",
      "class RequestsDependencyWarning(RequestsWarning):\n",
      "    \"\"\"An imported dependency doesn't match the expected version range.\"\"\"\n",
      "\n"
     ]
    }
   ],
   "source": [
    "# по этому пути посмотрим содержимое файла exceptions.py\n",
    "path = '/Users/Andrew/python/playground/env/lib/python3.7/site-packages/requests/exceptions.py'\n",
    "with open(path, 'r') as f:\n",
    "    print(f.read())"
   ]
  },
  {
   "cell_type": "markdown",
   "metadata": {},
   "source": [
    "класс исключения RequestException является базовым для всех остальных, поэтому отлавливать можно именно его"
   ]
  },
  {
   "cell_type": "code",
   "execution_count": null,
   "metadata": {},
   "outputs": [],
   "source": [
    "import sys\n",
    "import requests\n",
    "\n",
    "url = sys.argv[1]\n",
    "\n",
    "response = requests.get(url)\n",
    "\n",
    "print(response.content)"
   ]
  },
  {
   "cell_type": "markdown",
   "metadata": {},
   "source": [
    "Смотри файл requests_exceptions.py"
   ]
  },
  {
   "cell_type": "code",
   "execution_count": null,
   "metadata": {},
   "outputs": [],
   "source": [
    "### Resources:\n",
    "# https://docs.python.org/3/library/exceptions.html\n",
    "# https://docs.python.org/3.6/tutorial/errors.html\n"
   ]
  },
  {
   "cell_type": "markdown",
   "metadata": {},
   "source": [
    "# Programming Assignment: Реализация простого класса для чтения из файла"
   ]
  },
  {
   "cell_type": "code",
   "execution_count": 6,
   "metadata": {},
   "outputs": [
    {
     "name": "stdout",
     "output_type": "stream",
     "text": [
      "Some text in new file.\n",
      "<class '__main__.FileReader'>\n"
     ]
    }
   ],
   "source": [
    "class FileReader:\n",
    "    def __init__(self, path):\n",
    "        self.path = path\n",
    "    def read(self):\n",
    "        try:\n",
    "            with open(self.path) as f:\n",
    "                result = f.read()\n",
    "        except FileNotFoundError:\n",
    "            print('FileNotFoundError generated...')\n",
    "        else:\n",
    "            print(result) \n",
    "\n",
    "#fr = FileReader('/Users/Andrew/python/working/data/log.txt')\n",
    "#fr.read()\n",
    "\n",
    "# let's test\n",
    "path = '/Users/Andrew/Desktop/log99.txt'\n",
    "with open(path, 'w') as f:\n",
    "    f.write('Some text in new file.')\n",
    "fr = FileReader(path)  \n",
    "fr.read()\n",
    "\n",
    "print(type(fr))"
   ]
  },
  {
   "cell_type": "markdown",
   "metadata": {},
   "source": [
    "# Programming Assignment: Классы и наследование"
   ]
  },
  {
   "cell_type": "markdown",
   "metadata": {},
   "source": [
    "(https://www.coursera.org/learn/diving-in-python/programming/bd6aI/klassy-i-nasliedovaniie)\n",
    "\n",
    "Как правило задачи про классы не носят вычислительный характер. Обычно нужно написать классы, которые отвечают определенным интерфейсам. Насколько удобны эти интерфейсы и как сильно связаны классы между собой, определит легкость их использования в будущих программах.\n",
    "\n",
    "Предположим есть данные о разных автомобилях и спецтехнике. Данные представлены в виде таблицы с характеристиками. Вся техника разделена на три вида: спецтехника, легковые и грузовые автомобили. Обратите внимание на то, что некоторые характеристики присущи только определенному виду техники. Например, у легковых автомобилей есть характеристика «кол-во пассажирских мест», а у грузовых автомобилей — габариты кузова: «длина», «ширина» и «высота».\n",
    "\n",
    "Тип (car_type)\tМарка (brand)\tКол-во пассажирских мест (passenger_seats_count)\tФото (photo_file_name)\tКузов ДxШxВ, м (body_whl)\tГрузоподъемность, Тонн (carrying)\tДополнительно (extra)\n",
    "car\tNissan xTtrail\t4\tf1.jpeg\t\t2.5\t\n",
    "truck\tMan\t\tf2.jpeg\t8x3x2.5\t20\t\n",
    "car\tMazda 6\t4\tf3.jpeg\t\t2.5\t\n",
    "spec_machine\tHitachi\t\tf4.jpeg\t\t1.2\tЛегкая техника для уборки снега\n",
    "Вам необходимо создать свою иерархию классов для данных, которые описаны в таблице. Классы должны называться CarBase (базовый класс для всех типов машин), Car (легковые автомобили), Truck (грузовые автомобили) и SpecMachine (спецтехника). Все объекты имеют обязательные атрибуты:\n",
    "\n",
    "- car_type, значение типа объекта и может принимать одно из значений: «car», «truck», «spec_machine».\n",
    "\n",
    "- photo_file_name, имя файла с изображением машины, допустимы названия файлов изображений с расширением из списка: «.jpg», «.jpeg», «.png», «.gif»\n",
    "\n",
    "- brand, марка производителя машины\n",
    "\n",
    "- carrying, грузоподъемность\n",
    "\n",
    "В базовом классе CarBase нужно реализовать метод get_photo_file_ext для получения расширения файла изображения. Расширение файла можно получить при помощи os.path.splitext.\n",
    "\n",
    "Для грузового автомобиля необходимо в конструкторе класса определить атрибуты: body_length, body_width, body_height, отвечающие соответственно за габариты кузова — длину, ширину и высоту. Габариты передаются в параметре body_whl (строка, в которой размеры разделены латинской буквой «x»). Обратите внимание на то, что характеристики кузова должны быть вещественными числами и характеристики кузова могут быть не валидными (например, пустая строка). В таком случае всем атрибутам, отвечающим за габариты кузова, присваивается значение равное нулю.\n",
    "\n",
    "Также для класса грузового автомобиля необходимо реализовать метод get_body_volume, возвращающий объем кузова.\n",
    "\n",
    "В классе Car должен быть определен атрибут passenger_seats_count (количество пассажирских мест), а в классе SpecMachine — extra (дополнительное описание машины).\n",
    "\n",
    "Полная информация о атрибутах классов приведена в таблице ниже, где 1 - означает, что атрибут обязателен для объекта, 0 - атрибут должен отсутствовать.\n",
    "\n",
    "Car\tTruck\tSpecMachine\n",
    "car_type\t1\t1\t1\n",
    "photo_file_name\t1\t1\t1\n",
    "brand\t1\t1\t1\n",
    "carrying\t1\t1\t1\n",
    "passenger_seats_count\t1\t0\t0\n",
    "body_width\t0\t1\t0\n",
    "body_height\t0\t1\t0\n",
    "body_length\t0\t1\t0\n",
    "extra\t0\t0\t1\n",
    "Обратите внимание, что у каждого объекта из иерархии должен быть свой набор атрибутов и методов. Например, у класса легковой автомобиль не должно быть метода get_body_volume в отличие от класса грузового автомобиля. Имена атрибутов и методов должны совпадать с теми, что описаны выше.\n",
    "\n",
    "Далее вам необходимо реализовать функцию get_car_list, на вход которой подается имя файла в формате csv. Файл содержит данные, аналогичные строкам из таблицы. Вам необходимо прочитать этот файл построчно при помощи модуля стандартной библиотеки csv. Затем проанализировать строки на валидность и создать список объектов с автомобилями и специальной техникой. Функция должна возвращать список объектов.\n",
    "\n",
    "Вы можете использовать для отладки работы функции get_car_list следующий csv-файл:\n",
    "\n",
    "coursera_week3_cars.csv\n",
    "Первая строка в исходном файле — это заголовок csv, который содержит имена колонок. Нужно пропустить первую строку из исходного файла. Обратите внимание на то, что в некоторых строках исходного файла , данные могут быть заполнены некорректно, например, отсутствовать обязательные поля или иметь не валидное значение. В таком случае нужно проигнорировать подобные строки и не создавать объекты. Строки с пустым или не валидным значением для body_whl игнорироваться не должны.  Вы можете использовать стандартный механизм обработки исключений в процессе чтения, валидации и создания объектов из строк csv-файла. Проверьте работу вашего кода с входным файлом, прежде чем загружать задание для оценки.\n",
    "\n",
    "Пример кода, демонстрирующего чтение csv файла:\n",
    "\n",
    "import csv\n",
    "with open(csv_filename) as csv_fd:\n",
    "    reader = csv.reader(csv_fd, \n",
    "      delimiter=';')\n",
    "    next(reader)  # пропускаем заголовок\n",
    "    for row in reader:\n",
    "        print(row)\n",
    "\n",
    "Ниже приведен шаблон кода для выполнения задания:\n",
    "\n",
    "class CarBase:\n",
    "    def __init__(self, brand, photo_file_name, carrying):\n",
    "        pass\n",
    "\n",
    "\n",
    "class Car(CarBase):\n",
    "    def __init__(self, brand, photo_file_name, carrying, passenger_seats_count):\n",
    "        pass\n",
    "\n",
    "\n",
    "class Truck(CarBase):\n",
    "    def __init__(self, brand, photo_file_name, carrying, body_whl):\n",
    "        pass\n",
    "\n",
    "\n",
    "class SpecMachine(CarBase):\n",
    "    def __init__(self, brand, photo_file_name, carrying, extra):\n",
    "        pass\n",
    "\n",
    "\n",
    "def get_car_list(csv_filename):\n",
    "    car_list = []\n",
    "    return car_list\n",
    "    \n",
    "Несколько примеров работы:\n"
   ]
  },
  {
   "cell_type": "code",
   "execution_count": 104,
   "metadata": {},
   "outputs": [],
   "source": [
    "import os\n",
    "import csv\n",
    "import pandas as pd\n",
    "\n",
    "\n",
    "\n",
    "class CarBase:\n",
    "    def __init__(self, brand, photo_file_name, carrying):\n",
    "        self.photo_file_name = photo_file_name\n",
    "        self.brand = brand\n",
    "        self.carrying = carrying\n",
    "    def get_photo_file_ext(self):\n",
    "        path_parts = os.path.split(self.photo_file_name)\n",
    "        return path_parts[1].split('.')[1]\n",
    "\n",
    "class Car(CarBase):\n",
    "    def __init__(self, brand, photo_file_name, carrying, passenger_seats_count):\n",
    "        super().__init__(brand, photo_file_name, carrying)\n",
    "        self.car_type = 'car'\n",
    "        self.passenger_seats_count = passenger_seats_count\n",
    "    \n",
    "class Truck(CarBase):\n",
    "    def __init__(self, brand, photo_file_name, carrying, body_whl):\n",
    "        super().__init__(brand, photo_file_name, carrying)\n",
    "        self.car_type = 'truck'\n",
    "        self.body_whl = body_whl\n",
    "        (self.body_length, self.body_width, self.body_height) = self.extract_body_measures()\n",
    "    def extract_body_measures(self):\n",
    "        l, w, h = self.body_whl.split('x')\n",
    "        try:\n",
    "            l, w, h = float(l), float(w), float(h)\n",
    "        except:\n",
    "            print('...dimensions are not numeric')\n",
    "            l, w, h = 0,0,0                \n",
    "        return (float(l), float(w), float(h))\n",
    "    def get_body_volume(self):\n",
    "        return self.body_length * self.body_width * self.body_height\n",
    "    \n",
    "class SpecMachine(CarBase):\n",
    "    def __init__(self, brand, photo_file_name, carrying, extra):\n",
    "        super().__init__(brand, photo_file_name, carrying)\n",
    "        self.car_type = 'special machine'\n",
    "        self.extra = extra\n",
    "            \n",
    "def get_car_list(path_csv):\n",
    "    #df = pd.read_table(path_csv, sep = ';')\n",
    "    #print(df)\n",
    "    car_list = []\n",
    "    with open(path_csv) as f:\n",
    "        reader = csv.reader(f, delimiter = ';')\n",
    "        next(reader)\n",
    "        for row in reader:\n",
    "            if len(row) == 7:\n",
    "                p1, p2, p3, p4, p5, p6, p7 = row\n",
    "                #print(p1)\n",
    "                if p1 == 'car' and p2 and p4 and p6 and p2:\n",
    "                    car_list.append(Car(p2,p4, p6, p3))\n",
    "                elif p1 == 'truck' and p2 and p4 and p6 and p5:\n",
    "                    car_list.append(Truck(p2,p4, p6, p5))\n",
    "                elif p1 == 'spec_machine' and p2 and p4 and p6 and p7:\n",
    "                    car_list.append(SpecMachine(p2,p4, p6, p7))\n",
    "    return car_list\n",
    "        "
   ]
  },
  {
   "cell_type": "code",
   "execution_count": null,
   "metadata": {},
   "outputs": [],
   "source": []
  },
  {
   "cell_type": "code",
   "execution_count": 111,
   "metadata": {},
   "outputs": [
    {
     "name": "stdout",
     "output_type": "stream",
     "text": [
      "0\n",
      "car\n",
      "<class '__main__.Car'>\n",
      "1\n",
      "truck\n",
      "<class '__main__.Truck'>\n",
      "2\n",
      "car\n",
      "<class '__main__.Car'>\n",
      "3\n",
      "special machine\n",
      "<class '__main__.SpecMachine'>\n",
      "cars[0].passenger_seats_count:  4\n",
      "cars[1].get_body_volume():  60.0\n"
     ]
    }
   ],
   "source": [
    "path_csv = '/Users/Andrew/python/working/data/coursera_week3_cars.csv'           \n",
    "cars = get_car_list(path_csv)\n",
    "len(cars)\n",
    "for i, car in enumerate(cars):\n",
    "    print(i)\n",
    "    print(car.car_type)\n",
    "    print(type(car))\n",
    "\n",
    "print('cars[0].passenger_seats_count: ', cars[0].passenger_seats_count)\n",
    "print('cars[1].get_body_volume(): ', cars[1].get_body_volume())\n"
   ]
  },
  {
   "cell_type": "code",
   "execution_count": 99,
   "metadata": {},
   "outputs": [
    {
     "name": "stdout",
     "output_type": "stream",
     "text": [
      "3.92\n",
      "<class 'str'>\n",
      "3.92\n",
      "<class 'float'>\n",
      "\n",
      "False\n"
     ]
    }
   ],
   "source": [
    "body_whl = '5x4x6'\n",
    "body_whl = '3.92x2.09x1.87'\n",
    "a,b,c = body_whl.split('x')\n",
    "print(a)\n",
    "print(type(a))\n",
    "a = float(a)\n",
    "print(a)\n",
    "print(type(a))\n",
    "d = ['a', '', 'c']\n",
    "print(d[1])\n",
    "print(bool(''))"
   ]
  },
  {
   "cell_type": "code",
   "execution_count": 114,
   "metadata": {},
   "outputs": [
    {
     "name": "stdout",
     "output_type": "stream",
     "text": [
      "car\n",
      "Bugatti Veyron\n",
      "bugatti.png\n",
      "0.312\n",
      "2\n"
     ]
    },
    {
     "ename": "ValueError",
     "evalue": "not enough values to unpack (expected 3, got 2)",
     "output_type": "error",
     "traceback": [
      "\u001b[0;31m-----------------------------------------------------------------\u001b[0m",
      "\u001b[0;31mValueError\u001b[0m                      Traceback (most recent call last)",
      "\u001b[0;32m<ipython-input-114-57a493f1444c>\u001b[0m in \u001b[0;36m<module>\u001b[0;34m\u001b[0m\n\u001b[1;32m      3\u001b[0m       car.passenger_seats_count, sep='\\n')\n\u001b[1;32m      4\u001b[0m \u001b[0;34m\u001b[0m\u001b[0m\n\u001b[0;32m----> 5\u001b[0;31m \u001b[0mtruck\u001b[0m \u001b[0;34m=\u001b[0m \u001b[0mTruck\u001b[0m\u001b[0;34m(\u001b[0m\u001b[0;34m'Nissan'\u001b[0m\u001b[0;34m,\u001b[0m \u001b[0;34m'nissan.jpeg'\u001b[0m\u001b[0;34m,\u001b[0m \u001b[0;34m'1.5'\u001b[0m\u001b[0;34m,\u001b[0m \u001b[0;34m'3.92x1.87'\u001b[0m\u001b[0;34m)\u001b[0m\u001b[0;34m\u001b[0m\u001b[0;34m\u001b[0m\u001b[0m\n\u001b[0m\u001b[1;32m      6\u001b[0m print(truck.car_type, truck.brand, truck.photo_file_name, truck.body_length,\n\u001b[1;32m      7\u001b[0m       truck.body_width, truck.body_height, sep='\\n')\n",
      "\u001b[0;32m<ipython-input-104-c25489353991>\u001b[0m in \u001b[0;36m__init__\u001b[0;34m(self, brand, photo_file_name, carrying, body_whl)\u001b[0m\n\u001b[1;32m     25\u001b[0m         \u001b[0mself\u001b[0m\u001b[0;34m.\u001b[0m\u001b[0mcar_type\u001b[0m \u001b[0;34m=\u001b[0m \u001b[0;34m'truck'\u001b[0m\u001b[0;34m\u001b[0m\u001b[0;34m\u001b[0m\u001b[0m\n\u001b[1;32m     26\u001b[0m         \u001b[0mself\u001b[0m\u001b[0;34m.\u001b[0m\u001b[0mbody_whl\u001b[0m \u001b[0;34m=\u001b[0m \u001b[0mbody_whl\u001b[0m\u001b[0;34m\u001b[0m\u001b[0;34m\u001b[0m\u001b[0m\n\u001b[0;32m---> 27\u001b[0;31m         \u001b[0;34m(\u001b[0m\u001b[0mself\u001b[0m\u001b[0;34m.\u001b[0m\u001b[0mbody_length\u001b[0m\u001b[0;34m,\u001b[0m \u001b[0mself\u001b[0m\u001b[0;34m.\u001b[0m\u001b[0mbody_width\u001b[0m\u001b[0;34m,\u001b[0m \u001b[0mself\u001b[0m\u001b[0;34m.\u001b[0m\u001b[0mbody_height\u001b[0m\u001b[0;34m)\u001b[0m \u001b[0;34m=\u001b[0m \u001b[0mself\u001b[0m\u001b[0;34m.\u001b[0m\u001b[0mextract_body_measures\u001b[0m\u001b[0;34m(\u001b[0m\u001b[0;34m)\u001b[0m\u001b[0;34m\u001b[0m\u001b[0;34m\u001b[0m\u001b[0m\n\u001b[0m\u001b[1;32m     28\u001b[0m     \u001b[0;32mdef\u001b[0m \u001b[0mextract_body_measures\u001b[0m\u001b[0;34m(\u001b[0m\u001b[0mself\u001b[0m\u001b[0;34m)\u001b[0m\u001b[0;34m:\u001b[0m\u001b[0;34m\u001b[0m\u001b[0;34m\u001b[0m\u001b[0m\n\u001b[1;32m     29\u001b[0m         \u001b[0ml\u001b[0m\u001b[0;34m,\u001b[0m \u001b[0mw\u001b[0m\u001b[0;34m,\u001b[0m \u001b[0mh\u001b[0m \u001b[0;34m=\u001b[0m \u001b[0mself\u001b[0m\u001b[0;34m.\u001b[0m\u001b[0mbody_whl\u001b[0m\u001b[0;34m.\u001b[0m\u001b[0msplit\u001b[0m\u001b[0;34m(\u001b[0m\u001b[0;34m'x'\u001b[0m\u001b[0;34m)\u001b[0m\u001b[0;34m\u001b[0m\u001b[0;34m\u001b[0m\u001b[0m\n",
      "\u001b[0;32m<ipython-input-104-c25489353991>\u001b[0m in \u001b[0;36mextract_body_measures\u001b[0;34m(self)\u001b[0m\n\u001b[1;32m     27\u001b[0m         \u001b[0;34m(\u001b[0m\u001b[0mself\u001b[0m\u001b[0;34m.\u001b[0m\u001b[0mbody_length\u001b[0m\u001b[0;34m,\u001b[0m \u001b[0mself\u001b[0m\u001b[0;34m.\u001b[0m\u001b[0mbody_width\u001b[0m\u001b[0;34m,\u001b[0m \u001b[0mself\u001b[0m\u001b[0;34m.\u001b[0m\u001b[0mbody_height\u001b[0m\u001b[0;34m)\u001b[0m \u001b[0;34m=\u001b[0m \u001b[0mself\u001b[0m\u001b[0;34m.\u001b[0m\u001b[0mextract_body_measures\u001b[0m\u001b[0;34m(\u001b[0m\u001b[0;34m)\u001b[0m\u001b[0;34m\u001b[0m\u001b[0;34m\u001b[0m\u001b[0m\n\u001b[1;32m     28\u001b[0m     \u001b[0;32mdef\u001b[0m \u001b[0mextract_body_measures\u001b[0m\u001b[0;34m(\u001b[0m\u001b[0mself\u001b[0m\u001b[0;34m)\u001b[0m\u001b[0;34m:\u001b[0m\u001b[0;34m\u001b[0m\u001b[0;34m\u001b[0m\u001b[0m\n\u001b[0;32m---> 29\u001b[0;31m         \u001b[0ml\u001b[0m\u001b[0;34m,\u001b[0m \u001b[0mw\u001b[0m\u001b[0;34m,\u001b[0m \u001b[0mh\u001b[0m \u001b[0;34m=\u001b[0m \u001b[0mself\u001b[0m\u001b[0;34m.\u001b[0m\u001b[0mbody_whl\u001b[0m\u001b[0;34m.\u001b[0m\u001b[0msplit\u001b[0m\u001b[0;34m(\u001b[0m\u001b[0;34m'x'\u001b[0m\u001b[0;34m)\u001b[0m\u001b[0;34m\u001b[0m\u001b[0;34m\u001b[0m\u001b[0m\n\u001b[0m\u001b[1;32m     30\u001b[0m         \u001b[0;32mtry\u001b[0m\u001b[0;34m:\u001b[0m\u001b[0;34m\u001b[0m\u001b[0;34m\u001b[0m\u001b[0m\n\u001b[1;32m     31\u001b[0m             \u001b[0ml\u001b[0m\u001b[0;34m,\u001b[0m \u001b[0mw\u001b[0m\u001b[0;34m,\u001b[0m \u001b[0mh\u001b[0m \u001b[0;34m=\u001b[0m \u001b[0mfloat\u001b[0m\u001b[0;34m(\u001b[0m\u001b[0ml\u001b[0m\u001b[0;34m)\u001b[0m\u001b[0;34m,\u001b[0m \u001b[0mfloat\u001b[0m\u001b[0;34m(\u001b[0m\u001b[0mw\u001b[0m\u001b[0;34m)\u001b[0m\u001b[0;34m,\u001b[0m \u001b[0mfloat\u001b[0m\u001b[0;34m(\u001b[0m\u001b[0mh\u001b[0m\u001b[0;34m)\u001b[0m\u001b[0;34m\u001b[0m\u001b[0;34m\u001b[0m\u001b[0m\n",
      "\u001b[0;31mValueError\u001b[0m: not enough values to unpack (expected 3, got 2)"
     ]
    }
   ],
   "source": [
    "car = Car('Bugatti Veyron', 'bugatti.png', '0.312', '2')\n",
    "print(car.car_type, car.brand, car.photo_file_name, car.carrying,\n",
    "      car.passenger_seats_count, sep='\\n')\n",
    "\n",
    "truck = Truck('Nissan', 'nissan.jpeg', '1.5', '3.92x2.09x1.87')\n",
    "print(truck.car_type, truck.brand, truck.photo_file_name, truck.body_length,\n",
    "      truck.body_width, truck.body_height, sep='\\n')\n",
    "\n",
    "spec_machine = SpecMachine('Komatsu-D355', 'd355.jpg', '93', 'pipelayer specs')\n",
    "print(spec_machine.car_type, spec_machine.brand, spec_machine.carrying,\n",
    "      spec_machine.photo_file_name, spec_machine.extra, sep='\\n')\n",
    "\n",
    "spec_machine.get_photo_file_ext()\n",
    "\n"
   ]
  },
  {
   "cell_type": "code",
   "execution_count": 26,
   "metadata": {},
   "outputs": [
    {
     "name": "stdout",
     "output_type": "stream",
     "text": [
      "4\n"
     ]
    }
   ],
   "source": []
  },
  {
   "cell_type": "code",
   "execution_count": null,
   "metadata": {},
   "outputs": [],
   "source": []
  }
 ],
 "metadata": {
  "kernelspec": {
   "display_name": "env",
   "language": "python",
   "name": "env"
  },
  "language_info": {
   "codemirror_mode": {
    "name": "ipython",
    "version": 3
   },
   "file_extension": ".py",
   "mimetype": "text/x-python",
   "name": "python",
   "nbconvert_exporter": "python",
   "pygments_lexer": "ipython3",
   "version": "3.7.4"
  }
 },
 "nbformat": 4,
 "nbformat_minor": 4
}
