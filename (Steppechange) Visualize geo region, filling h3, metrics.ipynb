{
 "cells": [
  {
   "cell_type": "code",
   "execution_count": 1,
   "id": "f8d0928a",
   "metadata": {},
   "outputs": [],
   "source": [
    "import numpy as np\n",
    "import pandas as pd\n",
    "from google.cloud import bigquery\n",
    "import geopandas as gpd\n",
    "import h3\n",
    "import geojson\n",
    "from geojson import Feature, Point, FeatureCollection, Polygon\n",
    "import plotly.express as px\n",
    "from shapely import Polygon\n",
    "from shapely import wkt\n",
    "import json"
   ]
  },
  {
   "cell_type": "code",
   "execution_count": 2,
   "id": "4180c422",
   "metadata": {},
   "outputs": [],
   "source": [
    "bigquery_client = bigquery.Client(project='geograph-342112')\n",
    "q = \"\"\"\n",
    "    select * from `geograph-342112.kristov_dev.regions_h3_cat_Randall_with_metrics`\n",
    "\"\"\"\n",
    "query_result = bigquery_client.query(q)\n",
    "df_regions_to_h3_raw = query_result.to_dataframe()"
   ]
  },
  {
   "cell_type": "code",
   "execution_count": 18,
   "id": "549d7ede",
   "metadata": {},
   "outputs": [
    {
     "data": {
      "text/html": [
       "<div>\n",
       "<style scoped>\n",
       "    .dataframe tbody tr th:only-of-type {\n",
       "        vertical-align: middle;\n",
       "    }\n",
       "\n",
       "    .dataframe tbody tr th {\n",
       "        vertical-align: top;\n",
       "    }\n",
       "\n",
       "    .dataframe thead th {\n",
       "        text-align: right;\n",
       "    }\n",
       "</style>\n",
       "<table border=\"1\" class=\"dataframe\">\n",
       "  <thead>\n",
       "    <tr style=\"text-align: right;\">\n",
       "      <th></th>\n",
       "      <th>location</th>\n",
       "      <th>region_geometry</th>\n",
       "      <th>region_exterior_ring</th>\n",
       "      <th>region_centroid</th>\n",
       "      <th>h3_l7</th>\n",
       "      <th>h3_l5</th>\n",
       "      <th>population</th>\n",
       "      <th>cnt_distinct_h3_l7_in_l5</th>\n",
       "      <th>sum_population_h3_l5</th>\n",
       "      <th>category_Randall</th>\n",
       "      <th>cnt_poi_h3_l7</th>\n",
       "      <th>cnt_poi_h3_l7_in_h3_l5</th>\n",
       "      <th>poi_per_capita_h3_l7</th>\n",
       "      <th>poi_per_capita_h3_l5</th>\n",
       "      <th>poi_per_capita_relative_h3_l7_to_h3_l5</th>\n",
       "    </tr>\n",
       "  </thead>\n",
       "  <tbody>\n",
       "    <tr>\n",
       "      <th>0</th>\n",
       "      <td>London</td>\n",
       "      <td>POLYGON((-0.5580103 51.7298297, -0.7186854 51....</td>\n",
       "      <td>LINESTRING(-0.5580103 51.7298297, -0.7186854 5...</td>\n",
       "      <td>POINT(-0.138123649968448 51.4791453212843)</td>\n",
       "      <td>87194a500ffffff</td>\n",
       "      <td>85194a53fffffff</td>\n",
       "      <td>245.821049</td>\n",
       "      <td>32</td>\n",
       "      <td>21890.376562</td>\n",
       "      <td>Limited-Service Restaurants</td>\n",
       "      <td>0</td>\n",
       "      <td>0</td>\n",
       "      <td>0.0</td>\n",
       "      <td>0.0</td>\n",
       "      <td>0.0</td>\n",
       "    </tr>\n",
       "    <tr>\n",
       "      <th>1</th>\n",
       "      <td>London</td>\n",
       "      <td>POLYGON((-0.5580103 51.7298297, -0.7186854 51....</td>\n",
       "      <td>LINESTRING(-0.5580103 51.7298297, -0.7186854 5...</td>\n",
       "      <td>POINT(-0.138123649968448 51.4791453212843)</td>\n",
       "      <td>87194a500ffffff</td>\n",
       "      <td>85194a53fffffff</td>\n",
       "      <td>245.821049</td>\n",
       "      <td>32</td>\n",
       "      <td>21890.376562</td>\n",
       "      <td>Specialty Food Stores</td>\n",
       "      <td>0</td>\n",
       "      <td>0</td>\n",
       "      <td>0.0</td>\n",
       "      <td>0.0</td>\n",
       "      <td>0.0</td>\n",
       "    </tr>\n",
       "  </tbody>\n",
       "</table>\n",
       "</div>"
      ],
      "text/plain": [
       "  location                                    region_geometry  \\\n",
       "0   London  POLYGON((-0.5580103 51.7298297, -0.7186854 51....   \n",
       "1   London  POLYGON((-0.5580103 51.7298297, -0.7186854 51....   \n",
       "\n",
       "                                region_exterior_ring  \\\n",
       "0  LINESTRING(-0.5580103 51.7298297, -0.7186854 5...   \n",
       "1  LINESTRING(-0.5580103 51.7298297, -0.7186854 5...   \n",
       "\n",
       "                              region_centroid            h3_l7  \\\n",
       "0  POINT(-0.138123649968448 51.4791453212843)  87194a500ffffff   \n",
       "1  POINT(-0.138123649968448 51.4791453212843)  87194a500ffffff   \n",
       "\n",
       "             h3_l5  population  cnt_distinct_h3_l7_in_l5  \\\n",
       "0  85194a53fffffff  245.821049                        32   \n",
       "1  85194a53fffffff  245.821049                        32   \n",
       "\n",
       "   sum_population_h3_l5             category_Randall  cnt_poi_h3_l7  \\\n",
       "0          21890.376562  Limited-Service Restaurants              0   \n",
       "1          21890.376562        Specialty Food Stores              0   \n",
       "\n",
       "   cnt_poi_h3_l7_in_h3_l5  poi_per_capita_h3_l7  poi_per_capita_h3_l5  \\\n",
       "0                       0                   0.0                   0.0   \n",
       "1                       0                   0.0                   0.0   \n",
       "\n",
       "   poi_per_capita_relative_h3_l7_to_h3_l5  \n",
       "0                                     0.0  \n",
       "1                                     0.0  "
      ]
     },
     "execution_count": 18,
     "metadata": {},
     "output_type": "execute_result"
    }
   ],
   "source": [
    "df_regions_to_h3 = df_regions_to_h3_raw\n",
    "df_regions_to_h3.head(2)"
   ]
  },
  {
   "cell_type": "code",
   "execution_count": 19,
   "id": "47a5645d",
   "metadata": {},
   "outputs": [
    {
     "data": {
      "text/plain": [
       "category_Randall\n",
       "All Other General Merchandise Stores         988\n",
       "Beer, Wine, and Liquor Stores                143\n",
       "Building Material and Supplies Dealers      1811\n",
       "Clothing Stores                             4248\n",
       "Convenience Stores                          2215\n",
       "Department Stores                            900\n",
       "Fitness and Recreational Sports Centers     1609\n",
       "Full-Service Restaurants                    4098\n",
       "Gas Stations                                3144\n",
       "Grocery Stores                              5971\n",
       "Health and Personal Care Stores             5322\n",
       "Limited-Service Restaurants                 8721\n",
       "Others                                     40529\n",
       "Restaurants and Other Eating Places         5895\n",
       "Shoe Stores                                 1319\n",
       "Specialty Food Stores                        403\n",
       "Sporting Goods, Hobby...                    1233\n",
       "Universities                                   5\n",
       "Name: cnt_poi_h3_l7, dtype: Int64"
      ]
     },
     "execution_count": 19,
     "metadata": {},
     "output_type": "execute_result"
    }
   ],
   "source": [
    "df_regions_to_h3.groupby(by='category_Randall')['cnt_poi_h3_l7'].sum()"
   ]
  },
  {
   "cell_type": "code",
   "execution_count": 20,
   "id": "ed3b5b0f",
   "metadata": {},
   "outputs": [],
   "source": [
    "category_to_select = 'Clothing Stores'\n",
    "df_regions_to_h3 = df_regions_to_h3[df_regions_to_h3['category_Randall'] == category_to_select]"
   ]
  },
  {
   "cell_type": "code",
   "execution_count": 21,
   "id": "482f499b",
   "metadata": {
    "scrolled": true
   },
   "outputs": [
    {
     "name": "stderr",
     "output_type": "stream",
     "text": [
      "/Users/Andrew/Documents/python/env/lib/python3.7/site-packages/ipykernel_launcher.py:2: SettingWithCopyWarning: \n",
      "A value is trying to be set on a copy of a slice from a DataFrame.\n",
      "Try using .loc[row_indexer,col_indexer] = value instead\n",
      "\n",
      "See the caveats in the documentation: https://pandas.pydata.org/pandas-docs/stable/user_guide/indexing.html#returning-a-view-versus-a-copy\n",
      "  \n",
      "/Users/Andrew/Documents/python/env/lib/python3.7/site-packages/ipykernel_launcher.py:4: SettingWithCopyWarning: \n",
      "A value is trying to be set on a copy of a slice from a DataFrame.\n",
      "Try using .loc[row_indexer,col_indexer] = value instead\n",
      "\n",
      "See the caveats in the documentation: https://pandas.pydata.org/pandas-docs/stable/user_guide/indexing.html#returning-a-view-versus-a-copy\n",
      "  after removing the cwd from sys.path.\n",
      "/Users/Andrew/Documents/python/env/lib/python3.7/site-packages/ipykernel_launcher.py:5: SettingWithCopyWarning: \n",
      "A value is trying to be set on a copy of a slice from a DataFrame.\n",
      "Try using .loc[row_indexer,col_indexer] = value instead\n",
      "\n",
      "See the caveats in the documentation: https://pandas.pydata.org/pandas-docs/stable/user_guide/indexing.html#returning-a-view-versus-a-copy\n",
      "  \"\"\"\n"
     ]
    },
    {
     "data": {
      "text/html": [
       "<div>\n",
       "<style scoped>\n",
       "    .dataframe tbody tr th:only-of-type {\n",
       "        vertical-align: middle;\n",
       "    }\n",
       "\n",
       "    .dataframe tbody tr th {\n",
       "        vertical-align: top;\n",
       "    }\n",
       "\n",
       "    .dataframe thead th {\n",
       "        text-align: right;\n",
       "    }\n",
       "</style>\n",
       "<table border=\"1\" class=\"dataframe\">\n",
       "  <thead>\n",
       "    <tr style=\"text-align: right;\">\n",
       "      <th></th>\n",
       "      <th>location</th>\n",
       "      <th>region_geometry</th>\n",
       "      <th>region_exterior_ring</th>\n",
       "      <th>region_centroid</th>\n",
       "      <th>h3_l7</th>\n",
       "      <th>h3_l5</th>\n",
       "      <th>population</th>\n",
       "      <th>cnt_distinct_h3_l7_in_l5</th>\n",
       "      <th>sum_population_h3_l5</th>\n",
       "      <th>category_Randall</th>\n",
       "      <th>cnt_poi_h3_l7</th>\n",
       "      <th>cnt_poi_h3_l7_in_h3_l5</th>\n",
       "      <th>poi_per_capita_h3_l7</th>\n",
       "      <th>poi_per_capita_h3_l5</th>\n",
       "      <th>poi_per_capita_relative_h3_l7_to_h3_l5</th>\n",
       "      <th>region_h3</th>\n",
       "      <th>is_null_population</th>\n",
       "    </tr>\n",
       "  </thead>\n",
       "  <tbody>\n",
       "    <tr>\n",
       "      <th>5</th>\n",
       "      <td>London</td>\n",
       "      <td>POLYGON((-0.5580103 51.7298297, -0.7186854 51....</td>\n",
       "      <td>LINESTRING(-0.5580103 51.7298297, -0.7186854 5...</td>\n",
       "      <td>POINT(-0.138123649968448 51.4791453212843)</td>\n",
       "      <td>87194a500ffffff</td>\n",
       "      <td>85194a53fffffff</td>\n",
       "      <td>245.821049</td>\n",
       "      <td>32</td>\n",
       "      <td>21890.376562</td>\n",
       "      <td>Clothing Stores</td>\n",
       "      <td>0</td>\n",
       "      <td>0</td>\n",
       "      <td>0.0</td>\n",
       "      <td>0.0</td>\n",
       "      <td>0.0</td>\n",
       "      <td>London_87194a500ffffff</td>\n",
       "      <td>0</td>\n",
       "    </tr>\n",
       "    <tr>\n",
       "      <th>14</th>\n",
       "      <td>London</td>\n",
       "      <td>POLYGON((-0.5580103 51.7298297, -0.7186854 51....</td>\n",
       "      <td>LINESTRING(-0.5580103 51.7298297, -0.7186854 5...</td>\n",
       "      <td>POINT(-0.138123649968448 51.4791453212843)</td>\n",
       "      <td>87194a501ffffff</td>\n",
       "      <td>85194a53fffffff</td>\n",
       "      <td>273.842666</td>\n",
       "      <td>32</td>\n",
       "      <td>21890.376562</td>\n",
       "      <td>Clothing Stores</td>\n",
       "      <td>0</td>\n",
       "      <td>0</td>\n",
       "      <td>0.0</td>\n",
       "      <td>0.0</td>\n",
       "      <td>0.0</td>\n",
       "      <td>London_87194a501ffffff</td>\n",
       "      <td>0</td>\n",
       "    </tr>\n",
       "  </tbody>\n",
       "</table>\n",
       "</div>"
      ],
      "text/plain": [
       "   location                                    region_geometry  \\\n",
       "5    London  POLYGON((-0.5580103 51.7298297, -0.7186854 51....   \n",
       "14   London  POLYGON((-0.5580103 51.7298297, -0.7186854 51....   \n",
       "\n",
       "                                 region_exterior_ring  \\\n",
       "5   LINESTRING(-0.5580103 51.7298297, -0.7186854 5...   \n",
       "14  LINESTRING(-0.5580103 51.7298297, -0.7186854 5...   \n",
       "\n",
       "                               region_centroid            h3_l7  \\\n",
       "5   POINT(-0.138123649968448 51.4791453212843)  87194a500ffffff   \n",
       "14  POINT(-0.138123649968448 51.4791453212843)  87194a501ffffff   \n",
       "\n",
       "              h3_l5  population  cnt_distinct_h3_l7_in_l5  \\\n",
       "5   85194a53fffffff  245.821049                        32   \n",
       "14  85194a53fffffff  273.842666                        32   \n",
       "\n",
       "    sum_population_h3_l5 category_Randall  cnt_poi_h3_l7  \\\n",
       "5           21890.376562  Clothing Stores              0   \n",
       "14          21890.376562  Clothing Stores              0   \n",
       "\n",
       "    cnt_poi_h3_l7_in_h3_l5  poi_per_capita_h3_l7  poi_per_capita_h3_l5  \\\n",
       "5                        0                   0.0                   0.0   \n",
       "14                       0                   0.0                   0.0   \n",
       "\n",
       "    poi_per_capita_relative_h3_l7_to_h3_l5               region_h3  \\\n",
       "5                                      0.0  London_87194a500ffffff   \n",
       "14                                     0.0  London_87194a501ffffff   \n",
       "\n",
       "   is_null_population  \n",
       "5                   0  \n",
       "14                  0  "
      ]
     },
     "execution_count": 21,
     "metadata": {},
     "output_type": "execute_result"
    }
   ],
   "source": [
    "# create id unique id field\n",
    "df_regions_to_h3['region_h3'] = df_regions_to_h3['location'] + '_' + df_regions_to_h3['h3_l7']\n",
    "# create indicator variable (to visualize empty hexagons)\n",
    "df_regions_to_h3['is_null_population'] = np.where(df_regions_to_h3['population'].isna(),1,0)\n",
    "df_regions_to_h3['is_null_population'] = df_regions_to_h3['is_null_population'].astype('category')\n",
    "df_regions_to_h3.head(2)"
   ]
  },
  {
   "cell_type": "code",
   "execution_count": 22,
   "id": "d68395ce",
   "metadata": {},
   "outputs": [],
   "source": [
    "def normalize_metric_in_location(df, metric):\n",
    "    df_max = df.groupby(by='location')[metric].max()\n",
    "    df_merge = df.merge(df_max, how='inner',left_on='location',right_index=True)\n",
    "    df_merge.rename(columns={f'{metric}_y':f'{metric}_max',f'{metric}_x':f'{metric}'},inplace=True)\n",
    "    df_merge[f'{metric}_normalized'] = df_merge[f'{metric}'] / df_merge[f'{metric}_max']\n",
    "    result = df_merge\n",
    "    return result\n",
    "\n",
    "df_regions_to_h3 = normalize_metric_in_location(df_regions_to_h3,'cnt_poi_h3_l7')\n",
    "df_regions_to_h3 = normalize_metric_in_location(df_regions_to_h3,'poi_per_capita_h3_l7')\n",
    "df_regions_to_h3 = normalize_metric_in_location(df_regions_to_h3,'poi_per_capita_relative_h3_l7_to_h3_l5')\n",
    "#df_regions_to_h3.head()"
   ]
  },
  {
   "cell_type": "code",
   "execution_count": 23,
   "id": "9bdab321",
   "metadata": {},
   "outputs": [
    {
     "data": {
      "text/html": [
       "<div>\n",
       "<style scoped>\n",
       "    .dataframe tbody tr th:only-of-type {\n",
       "        vertical-align: middle;\n",
       "    }\n",
       "\n",
       "    .dataframe tbody tr th {\n",
       "        vertical-align: top;\n",
       "    }\n",
       "\n",
       "    .dataframe thead th {\n",
       "        text-align: right;\n",
       "    }\n",
       "</style>\n",
       "<table border=\"1\" class=\"dataframe\">\n",
       "  <thead>\n",
       "    <tr style=\"text-align: right;\">\n",
       "      <th></th>\n",
       "      <th>location</th>\n",
       "      <th>region_geometry</th>\n",
       "      <th>region_exterior_ring</th>\n",
       "      <th>region_centroid</th>\n",
       "      <th>h3_l7</th>\n",
       "      <th>h3_l5</th>\n",
       "      <th>population</th>\n",
       "      <th>cnt_distinct_h3_l7_in_l5</th>\n",
       "      <th>sum_population_h3_l5</th>\n",
       "      <th>category_Randall</th>\n",
       "      <th>...</th>\n",
       "      <th>poi_per_capita_h3_l5</th>\n",
       "      <th>poi_per_capita_relative_h3_l7_to_h3_l5</th>\n",
       "      <th>region_h3</th>\n",
       "      <th>is_null_population</th>\n",
       "      <th>cnt_poi_h3_l7_max</th>\n",
       "      <th>cnt_poi_h3_l7_normalized</th>\n",
       "      <th>poi_per_capita_h3_l7_max</th>\n",
       "      <th>poi_per_capita_h3_l7_normalized</th>\n",
       "      <th>poi_per_capita_relative_h3_l7_to_h3_l5_max</th>\n",
       "      <th>poi_per_capita_relative_h3_l7_to_h3_l5_normalized</th>\n",
       "    </tr>\n",
       "  </thead>\n",
       "  <tbody>\n",
       "    <tr>\n",
       "      <th>3839</th>\n",
       "      <td>Soligorsk</td>\n",
       "      <td>POLYGON((27.4271169 52.8686898, 27.2939077 52....</td>\n",
       "      <td>LINESTRING(27.4271169 52.8686898, 27.2939077 5...</td>\n",
       "      <td>POINT(27.5265446696382 52.7602771284113)</td>\n",
       "      <td>871f4a400ffffff</td>\n",
       "      <td>851f4a43fffffff</td>\n",
       "      <td>0.0</td>\n",
       "      <td>39</td>\n",
       "      <td>0.0</td>\n",
       "      <td>Clothing Stores</td>\n",
       "      <td>...</td>\n",
       "      <td>0.0</td>\n",
       "      <td>0.0</td>\n",
       "      <td>Soligorsk_871f4a400ffffff</td>\n",
       "      <td>0</td>\n",
       "      <td>0</td>\n",
       "      <td>NaN</td>\n",
       "      <td>0.0</td>\n",
       "      <td>NaN</td>\n",
       "      <td>0.0</td>\n",
       "      <td>-1.0</td>\n",
       "    </tr>\n",
       "    <tr>\n",
       "      <th>3853</th>\n",
       "      <td>Soligorsk</td>\n",
       "      <td>POLYGON((27.4271169 52.8686898, 27.2939077 52....</td>\n",
       "      <td>LINESTRING(27.4271169 52.8686898, 27.2939077 5...</td>\n",
       "      <td>POINT(27.5265446696382 52.7602771284113)</td>\n",
       "      <td>871f4a401ffffff</td>\n",
       "      <td>851f4a43fffffff</td>\n",
       "      <td>0.0</td>\n",
       "      <td>39</td>\n",
       "      <td>0.0</td>\n",
       "      <td>Clothing Stores</td>\n",
       "      <td>...</td>\n",
       "      <td>0.0</td>\n",
       "      <td>0.0</td>\n",
       "      <td>Soligorsk_871f4a401ffffff</td>\n",
       "      <td>0</td>\n",
       "      <td>0</td>\n",
       "      <td>NaN</td>\n",
       "      <td>0.0</td>\n",
       "      <td>NaN</td>\n",
       "      <td>0.0</td>\n",
       "      <td>-1.0</td>\n",
       "    </tr>\n",
       "    <tr>\n",
       "      <th>3884</th>\n",
       "      <td>Soligorsk</td>\n",
       "      <td>POLYGON((27.4271169 52.8686898, 27.2939077 52....</td>\n",
       "      <td>LINESTRING(27.4271169 52.8686898, 27.2939077 5...</td>\n",
       "      <td>POINT(27.5265446696382 52.7602771284113)</td>\n",
       "      <td>871f4a402ffffff</td>\n",
       "      <td>851f4a43fffffff</td>\n",
       "      <td>0.0</td>\n",
       "      <td>39</td>\n",
       "      <td>0.0</td>\n",
       "      <td>Clothing Stores</td>\n",
       "      <td>...</td>\n",
       "      <td>0.0</td>\n",
       "      <td>0.0</td>\n",
       "      <td>Soligorsk_871f4a402ffffff</td>\n",
       "      <td>0</td>\n",
       "      <td>0</td>\n",
       "      <td>NaN</td>\n",
       "      <td>0.0</td>\n",
       "      <td>NaN</td>\n",
       "      <td>0.0</td>\n",
       "      <td>-1.0</td>\n",
       "    </tr>\n",
       "    <tr>\n",
       "      <th>3902</th>\n",
       "      <td>Soligorsk</td>\n",
       "      <td>POLYGON((27.4271169 52.8686898, 27.2939077 52....</td>\n",
       "      <td>LINESTRING(27.4271169 52.8686898, 27.2939077 5...</td>\n",
       "      <td>POINT(27.5265446696382 52.7602771284113)</td>\n",
       "      <td>871f4a403ffffff</td>\n",
       "      <td>851f4a43fffffff</td>\n",
       "      <td>0.0</td>\n",
       "      <td>39</td>\n",
       "      <td>0.0</td>\n",
       "      <td>Clothing Stores</td>\n",
       "      <td>...</td>\n",
       "      <td>0.0</td>\n",
       "      <td>0.0</td>\n",
       "      <td>Soligorsk_871f4a403ffffff</td>\n",
       "      <td>0</td>\n",
       "      <td>0</td>\n",
       "      <td>NaN</td>\n",
       "      <td>0.0</td>\n",
       "      <td>NaN</td>\n",
       "      <td>0.0</td>\n",
       "      <td>-1.0</td>\n",
       "    </tr>\n",
       "    <tr>\n",
       "      <th>3906</th>\n",
       "      <td>Soligorsk</td>\n",
       "      <td>POLYGON((27.4271169 52.8686898, 27.2939077 52....</td>\n",
       "      <td>LINESTRING(27.4271169 52.8686898, 27.2939077 5...</td>\n",
       "      <td>POINT(27.5265446696382 52.7602771284113)</td>\n",
       "      <td>871f4a404ffffff</td>\n",
       "      <td>851f4a43fffffff</td>\n",
       "      <td>0.0</td>\n",
       "      <td>39</td>\n",
       "      <td>0.0</td>\n",
       "      <td>Clothing Stores</td>\n",
       "      <td>...</td>\n",
       "      <td>0.0</td>\n",
       "      <td>0.0</td>\n",
       "      <td>Soligorsk_871f4a404ffffff</td>\n",
       "      <td>0</td>\n",
       "      <td>0</td>\n",
       "      <td>NaN</td>\n",
       "      <td>0.0</td>\n",
       "      <td>NaN</td>\n",
       "      <td>0.0</td>\n",
       "      <td>-1.0</td>\n",
       "    </tr>\n",
       "  </tbody>\n",
       "</table>\n",
       "<p>5 rows × 23 columns</p>\n",
       "</div>"
      ],
      "text/plain": [
       "       location                                    region_geometry  \\\n",
       "3839  Soligorsk  POLYGON((27.4271169 52.8686898, 27.2939077 52....   \n",
       "3853  Soligorsk  POLYGON((27.4271169 52.8686898, 27.2939077 52....   \n",
       "3884  Soligorsk  POLYGON((27.4271169 52.8686898, 27.2939077 52....   \n",
       "3902  Soligorsk  POLYGON((27.4271169 52.8686898, 27.2939077 52....   \n",
       "3906  Soligorsk  POLYGON((27.4271169 52.8686898, 27.2939077 52....   \n",
       "\n",
       "                                   region_exterior_ring  \\\n",
       "3839  LINESTRING(27.4271169 52.8686898, 27.2939077 5...   \n",
       "3853  LINESTRING(27.4271169 52.8686898, 27.2939077 5...   \n",
       "3884  LINESTRING(27.4271169 52.8686898, 27.2939077 5...   \n",
       "3902  LINESTRING(27.4271169 52.8686898, 27.2939077 5...   \n",
       "3906  LINESTRING(27.4271169 52.8686898, 27.2939077 5...   \n",
       "\n",
       "                               region_centroid            h3_l7  \\\n",
       "3839  POINT(27.5265446696382 52.7602771284113)  871f4a400ffffff   \n",
       "3853  POINT(27.5265446696382 52.7602771284113)  871f4a401ffffff   \n",
       "3884  POINT(27.5265446696382 52.7602771284113)  871f4a402ffffff   \n",
       "3902  POINT(27.5265446696382 52.7602771284113)  871f4a403ffffff   \n",
       "3906  POINT(27.5265446696382 52.7602771284113)  871f4a404ffffff   \n",
       "\n",
       "                h3_l5  population  cnt_distinct_h3_l7_in_l5  \\\n",
       "3839  851f4a43fffffff         0.0                        39   \n",
       "3853  851f4a43fffffff         0.0                        39   \n",
       "3884  851f4a43fffffff         0.0                        39   \n",
       "3902  851f4a43fffffff         0.0                        39   \n",
       "3906  851f4a43fffffff         0.0                        39   \n",
       "\n",
       "      sum_population_h3_l5 category_Randall  ...  poi_per_capita_h3_l5  \\\n",
       "3839                   0.0  Clothing Stores  ...                   0.0   \n",
       "3853                   0.0  Clothing Stores  ...                   0.0   \n",
       "3884                   0.0  Clothing Stores  ...                   0.0   \n",
       "3902                   0.0  Clothing Stores  ...                   0.0   \n",
       "3906                   0.0  Clothing Stores  ...                   0.0   \n",
       "\n",
       "      poi_per_capita_relative_h3_l7_to_h3_l5                  region_h3  \\\n",
       "3839                                     0.0  Soligorsk_871f4a400ffffff   \n",
       "3853                                     0.0  Soligorsk_871f4a401ffffff   \n",
       "3884                                     0.0  Soligorsk_871f4a402ffffff   \n",
       "3902                                     0.0  Soligorsk_871f4a403ffffff   \n",
       "3906                                     0.0  Soligorsk_871f4a404ffffff   \n",
       "\n",
       "      is_null_population  cnt_poi_h3_l7_max cnt_poi_h3_l7_normalized  \\\n",
       "3839                   0                  0                      NaN   \n",
       "3853                   0                  0                      NaN   \n",
       "3884                   0                  0                      NaN   \n",
       "3902                   0                  0                      NaN   \n",
       "3906                   0                  0                      NaN   \n",
       "\n",
       "     poi_per_capita_h3_l7_max  poi_per_capita_h3_l7_normalized  \\\n",
       "3839                      0.0                              NaN   \n",
       "3853                      0.0                              NaN   \n",
       "3884                      0.0                              NaN   \n",
       "3902                      0.0                              NaN   \n",
       "3906                      0.0                              NaN   \n",
       "\n",
       "      poi_per_capita_relative_h3_l7_to_h3_l5_max  \\\n",
       "3839                                         0.0   \n",
       "3853                                         0.0   \n",
       "3884                                         0.0   \n",
       "3902                                         0.0   \n",
       "3906                                         0.0   \n",
       "\n",
       "      poi_per_capita_relative_h3_l7_to_h3_l5_normalized  \n",
       "3839                                               -1.0  \n",
       "3853                                               -1.0  \n",
       "3884                                               -1.0  \n",
       "3902                                               -1.0  \n",
       "3906                                               -1.0  \n",
       "\n",
       "[5 rows x 23 columns]"
      ]
     },
     "execution_count": 23,
     "metadata": {},
     "output_type": "execute_result"
    }
   ],
   "source": [
    "# replace na with -1 for visualization\n",
    "df_regions_to_h3.fillna({'poi_per_capita_relative_h3_l7_to_h3_l5_normalized':-1},inplace=True)\n",
    "df_regions_to_h3[df_regions_to_h3['population'] == 0].head()"
   ]
  },
  {
   "cell_type": "code",
   "execution_count": 24,
   "id": "d55035ac",
   "metadata": {},
   "outputs": [
    {
     "data": {
      "text/html": [
       "<div>\n",
       "<style scoped>\n",
       "    .dataframe tbody tr th:only-of-type {\n",
       "        vertical-align: middle;\n",
       "    }\n",
       "\n",
       "    .dataframe tbody tr th {\n",
       "        vertical-align: top;\n",
       "    }\n",
       "\n",
       "    .dataframe thead th {\n",
       "        text-align: right;\n",
       "    }\n",
       "</style>\n",
       "<table border=\"1\" class=\"dataframe\">\n",
       "  <thead>\n",
       "    <tr style=\"text-align: right;\">\n",
       "      <th></th>\n",
       "      <th>location</th>\n",
       "      <th>region_geometry</th>\n",
       "      <th>region_exterior_ring</th>\n",
       "      <th>exterior_ring_shapely</th>\n",
       "    </tr>\n",
       "  </thead>\n",
       "  <tbody>\n",
       "    <tr>\n",
       "      <th>5</th>\n",
       "      <td>London</td>\n",
       "      <td>POLYGON((-0.5580103 51.7298297, -0.7186854 51....</td>\n",
       "      <td>LINESTRING(-0.5580103 51.7298297, -0.7186854 5...</td>\n",
       "      <td>LINESTRING (-0.5580103 51.7298297, -0.7186854 ...</td>\n",
       "    </tr>\n",
       "    <tr>\n",
       "      <th>1947</th>\n",
       "      <td>Birmingham</td>\n",
       "      <td>POLYGON((-2.2007212 52.6693307, -2.3215708 52....</td>\n",
       "      <td>LINESTRING(-2.2007212 52.6693307, -2.3215708 5...</td>\n",
       "      <td>LINESTRING (-2.2007212 52.6693307, -2.3215708 ...</td>\n",
       "    </tr>\n",
       "    <tr>\n",
       "      <th>3839</th>\n",
       "      <td>Soligorsk</td>\n",
       "      <td>POLYGON((27.4271169 52.8686898, 27.2939077 52....</td>\n",
       "      <td>LINESTRING(27.4271169 52.8686898, 27.2939077 5...</td>\n",
       "      <td>LINESTRING (27.4271169 52.8686898, 27.2939077 ...</td>\n",
       "    </tr>\n",
       "    <tr>\n",
       "      <th>6292</th>\n",
       "      <td>Minsk</td>\n",
       "      <td>POLYGON((27.3886889 54.0744289, 27.0920581 53....</td>\n",
       "      <td>LINESTRING(27.3886889 54.0744289, 27.0920581 5...</td>\n",
       "      <td>LINESTRING (27.3886889 54.0744289, 27.0920581 ...</td>\n",
       "    </tr>\n",
       "    <tr>\n",
       "      <th>11300</th>\n",
       "      <td>San Francisco</td>\n",
       "      <td>POLYGON((-122.5845595 37.7601185, -122.5763197...</td>\n",
       "      <td>LINESTRING(-122.5845595 37.7601185, -122.57631...</td>\n",
       "      <td>LINESTRING (-122.5845595 37.7601185, -122.5763...</td>\n",
       "    </tr>\n",
       "    <tr>\n",
       "      <th>13346</th>\n",
       "      <td>Los Angeles</td>\n",
       "      <td>POLYGON((-118.662229 34.0412527, -118.5276465 ...</td>\n",
       "      <td>LINESTRING(-118.662229 34.0412527, -118.527646...</td>\n",
       "      <td>LINESTRING (-118.662229 34.0412527, -118.52764...</td>\n",
       "    </tr>\n",
       "    <tr>\n",
       "      <th>18609</th>\n",
       "      <td>Barcelona</td>\n",
       "      <td>POLYGON((1.9590174 41.2648057, 2.028368 41.258...</td>\n",
       "      <td>LINESTRING(1.9590174 41.2648057, 2.028368 41.2...</td>\n",
       "      <td>LINESTRING (1.9590174 41.2648057, 2.028368 41....</td>\n",
       "    </tr>\n",
       "  </tbody>\n",
       "</table>\n",
       "</div>"
      ],
      "text/plain": [
       "            location                                    region_geometry  \\\n",
       "5             London  POLYGON((-0.5580103 51.7298297, -0.7186854 51....   \n",
       "1947      Birmingham  POLYGON((-2.2007212 52.6693307, -2.3215708 52....   \n",
       "3839       Soligorsk  POLYGON((27.4271169 52.8686898, 27.2939077 52....   \n",
       "6292           Minsk  POLYGON((27.3886889 54.0744289, 27.0920581 53....   \n",
       "11300  San Francisco  POLYGON((-122.5845595 37.7601185, -122.5763197...   \n",
       "13346    Los Angeles  POLYGON((-118.662229 34.0412527, -118.5276465 ...   \n",
       "18609      Barcelona  POLYGON((1.9590174 41.2648057, 2.028368 41.258...   \n",
       "\n",
       "                                    region_exterior_ring  \\\n",
       "5      LINESTRING(-0.5580103 51.7298297, -0.7186854 5...   \n",
       "1947   LINESTRING(-2.2007212 52.6693307, -2.3215708 5...   \n",
       "3839   LINESTRING(27.4271169 52.8686898, 27.2939077 5...   \n",
       "6292   LINESTRING(27.3886889 54.0744289, 27.0920581 5...   \n",
       "11300  LINESTRING(-122.5845595 37.7601185, -122.57631...   \n",
       "13346  LINESTRING(-118.662229 34.0412527, -118.527646...   \n",
       "18609  LINESTRING(1.9590174 41.2648057, 2.028368 41.2...   \n",
       "\n",
       "                                   exterior_ring_shapely  \n",
       "5      LINESTRING (-0.5580103 51.7298297, -0.7186854 ...  \n",
       "1947   LINESTRING (-2.2007212 52.6693307, -2.3215708 ...  \n",
       "3839   LINESTRING (27.4271169 52.8686898, 27.2939077 ...  \n",
       "6292   LINESTRING (27.3886889 54.0744289, 27.0920581 ...  \n",
       "11300  LINESTRING (-122.5845595 37.7601185, -122.5763...  \n",
       "13346  LINESTRING (-118.662229 34.0412527, -118.52764...  \n",
       "18609  LINESTRING (1.9590174 41.2648057, 2.028368 41....  "
      ]
     },
     "execution_count": 24,
     "metadata": {},
     "output_type": "execute_result"
    }
   ],
   "source": [
    "#df_region_polygons = pd.DataFrame({'geometry':df_regions_to_h3[['location','geometry']].unique()})\n",
    "df_region_polygons = df_regions_to_h3[['location','region_geometry','region_exterior_ring']].drop_duplicates(keep='first')\n",
    "df_region_polygons['exterior_ring_shapely'] = wkt.loads(df_region_polygons['region_exterior_ring'])\n",
    "df_region_polygons"
   ]
  },
  {
   "cell_type": "code",
   "execution_count": 25,
   "id": "2806a9e8",
   "metadata": {},
   "outputs": [
    {
     "data": {
      "text/html": [
       "<div>\n",
       "<style scoped>\n",
       "    .dataframe tbody tr th:only-of-type {\n",
       "        vertical-align: middle;\n",
       "    }\n",
       "\n",
       "    .dataframe tbody tr th {\n",
       "        vertical-align: top;\n",
       "    }\n",
       "\n",
       "    .dataframe thead th {\n",
       "        text-align: right;\n",
       "    }\n",
       "</style>\n",
       "<table border=\"1\" class=\"dataframe\">\n",
       "  <thead>\n",
       "    <tr style=\"text-align: right;\">\n",
       "      <th></th>\n",
       "      <th>location</th>\n",
       "      <th>region_geometry</th>\n",
       "      <th>region_exterior_ring</th>\n",
       "      <th>region_centroid</th>\n",
       "      <th>h3_l7</th>\n",
       "      <th>h3_l5</th>\n",
       "      <th>population</th>\n",
       "      <th>cnt_distinct_h3_l7_in_l5</th>\n",
       "      <th>sum_population_h3_l5</th>\n",
       "      <th>category_Randall</th>\n",
       "      <th>...</th>\n",
       "      <th>poi_per_capita_relative_h3_l7_to_h3_l5</th>\n",
       "      <th>region_h3</th>\n",
       "      <th>is_null_population</th>\n",
       "      <th>cnt_poi_h3_l7_max</th>\n",
       "      <th>cnt_poi_h3_l7_normalized</th>\n",
       "      <th>poi_per_capita_h3_l7_max</th>\n",
       "      <th>poi_per_capita_h3_l7_normalized</th>\n",
       "      <th>poi_per_capita_relative_h3_l7_to_h3_l5_max</th>\n",
       "      <th>poi_per_capita_relative_h3_l7_to_h3_l5_normalized</th>\n",
       "      <th>h3_polygons</th>\n",
       "    </tr>\n",
       "  </thead>\n",
       "  <tbody>\n",
       "    <tr>\n",
       "      <th>5</th>\n",
       "      <td>London</td>\n",
       "      <td>POLYGON((-0.5580103 51.7298297, -0.7186854 51....</td>\n",
       "      <td>LINESTRING(-0.5580103 51.7298297, -0.7186854 5...</td>\n",
       "      <td>POINT(-0.138123649968448 51.4791453212843)</td>\n",
       "      <td>87194a500ffffff</td>\n",
       "      <td>85194a53fffffff</td>\n",
       "      <td>245.821049</td>\n",
       "      <td>32</td>\n",
       "      <td>21890.376562</td>\n",
       "      <td>Clothing Stores</td>\n",
       "      <td>...</td>\n",
       "      <td>0.0</td>\n",
       "      <td>London_87194a500ffffff</td>\n",
       "      <td>0</td>\n",
       "      <td>246</td>\n",
       "      <td>0.0</td>\n",
       "      <td>0.017982</td>\n",
       "      <td>0.0</td>\n",
       "      <td>113.71609</td>\n",
       "      <td>0.0</td>\n",
       "      <td>POLYGON ((-0.4384792869340857 51.1916253010286...</td>\n",
       "    </tr>\n",
       "    <tr>\n",
       "      <th>14</th>\n",
       "      <td>London</td>\n",
       "      <td>POLYGON((-0.5580103 51.7298297, -0.7186854 51....</td>\n",
       "      <td>LINESTRING(-0.5580103 51.7298297, -0.7186854 5...</td>\n",
       "      <td>POINT(-0.138123649968448 51.4791453212843)</td>\n",
       "      <td>87194a501ffffff</td>\n",
       "      <td>85194a53fffffff</td>\n",
       "      <td>273.842666</td>\n",
       "      <td>32</td>\n",
       "      <td>21890.376562</td>\n",
       "      <td>Clothing Stores</td>\n",
       "      <td>...</td>\n",
       "      <td>0.0</td>\n",
       "      <td>London_87194a501ffffff</td>\n",
       "      <td>0</td>\n",
       "      <td>246</td>\n",
       "      <td>0.0</td>\n",
       "      <td>0.017982</td>\n",
       "      <td>0.0</td>\n",
       "      <td>113.71609</td>\n",
       "      <td>0.0</td>\n",
       "      <td>POLYGON ((-0.4177386497770632 51.1740365939916...</td>\n",
       "    </tr>\n",
       "  </tbody>\n",
       "</table>\n",
       "<p>2 rows × 24 columns</p>\n",
       "</div>"
      ],
      "text/plain": [
       "   location                                    region_geometry  \\\n",
       "5    London  POLYGON((-0.5580103 51.7298297, -0.7186854 51....   \n",
       "14   London  POLYGON((-0.5580103 51.7298297, -0.7186854 51....   \n",
       "\n",
       "                                 region_exterior_ring  \\\n",
       "5   LINESTRING(-0.5580103 51.7298297, -0.7186854 5...   \n",
       "14  LINESTRING(-0.5580103 51.7298297, -0.7186854 5...   \n",
       "\n",
       "                               region_centroid            h3_l7  \\\n",
       "5   POINT(-0.138123649968448 51.4791453212843)  87194a500ffffff   \n",
       "14  POINT(-0.138123649968448 51.4791453212843)  87194a501ffffff   \n",
       "\n",
       "              h3_l5  population  cnt_distinct_h3_l7_in_l5  \\\n",
       "5   85194a53fffffff  245.821049                        32   \n",
       "14  85194a53fffffff  273.842666                        32   \n",
       "\n",
       "    sum_population_h3_l5 category_Randall  ...  \\\n",
       "5           21890.376562  Clothing Stores  ...   \n",
       "14          21890.376562  Clothing Stores  ...   \n",
       "\n",
       "    poi_per_capita_relative_h3_l7_to_h3_l5               region_h3  \\\n",
       "5                                      0.0  London_87194a500ffffff   \n",
       "14                                     0.0  London_87194a501ffffff   \n",
       "\n",
       "    is_null_population  cnt_poi_h3_l7_max  cnt_poi_h3_l7_normalized  \\\n",
       "5                    0                246                       0.0   \n",
       "14                   0                246                       0.0   \n",
       "\n",
       "   poi_per_capita_h3_l7_max poi_per_capita_h3_l7_normalized  \\\n",
       "5                  0.017982                             0.0   \n",
       "14                 0.017982                             0.0   \n",
       "\n",
       "    poi_per_capita_relative_h3_l7_to_h3_l5_max  \\\n",
       "5                                    113.71609   \n",
       "14                                   113.71609   \n",
       "\n",
       "    poi_per_capita_relative_h3_l7_to_h3_l5_normalized  \\\n",
       "5                                                 0.0   \n",
       "14                                                0.0   \n",
       "\n",
       "                                          h3_polygons  \n",
       "5   POLYGON ((-0.4384792869340857 51.1916253010286...  \n",
       "14  POLYGON ((-0.4177386497770632 51.1740365939916...  \n",
       "\n",
       "[2 rows x 24 columns]"
      ]
     },
     "execution_count": 25,
     "metadata": {},
     "output_type": "execute_result"
    }
   ],
   "source": [
    "def h3_to_polygon(h3_hexagon):\n",
    "    return Polygon(h3.h3_to_geo_boundary(h3_hexagon,geo_json=True))\n",
    "\n",
    "df_regions_to_h3['h3_polygons'] = df_regions_to_h3['h3_l7'].apply(lambda x: h3_to_polygon(x))\n",
    "df_regions_to_h3.head(2)"
   ]
  },
  {
   "cell_type": "code",
   "execution_count": 26,
   "id": "cce9eceb",
   "metadata": {},
   "outputs": [],
   "source": [
    "def polygon_dataframe_to_geojson(df,geometry_id,geometry,geometry_value,file_output=None):\n",
    "    \n",
    "    \"\"\" Function creates geojson for visualization with plotly express\"\"\"\n",
    "    \n",
    "    list_features = []\n",
    "    for i,row in df.iterrows():\n",
    "        feature = Feature(\n",
    "            geometry = row[geometry] if geometry == 'h3_polygons' else wkt.loads(row[geometry]),\n",
    "            #geometry = wkt.loads(row[geometry]),\n",
    "            id = row[geometry_id],\n",
    "            properties = {'value':row[geometry_value]})\n",
    "        list_features.append(feature)\n",
    "    \n",
    "    feature_collection = FeatureCollection(list_features)\n",
    "    \n",
    "    if file_output is not None:\n",
    "            with open(file_output,'w') as f:\n",
    "                json.dump(feature_collection,f)\n",
    "    \n",
    "    return feature_collection"
   ]
  },
  {
   "cell_type": "code",
   "execution_count": 27,
   "id": "ac48c2ff",
   "metadata": {},
   "outputs": [],
   "source": [
    "geojson_object_hexagons = polygon_dataframe_to_geojson(\n",
    "                            df=df_regions_to_h3,\n",
    "                            geometry_id='h3_l7',\n",
    "                            geometry='h3_polygons',\n",
    "                            geometry_value='is_null_population',\n",
    "                            file_output='region_hex.json')\n",
    "geojson_object_polygons = polygon_dataframe_to_geojson(\n",
    "                            df=df_region_polygons,\n",
    "                            geometry_id='location',\n",
    "                            geometry='region_geometry',\n",
    "                            geometry_value='location',\n",
    "                            file_output='region_polygons.json')\n",
    "geojson_object_regions_exterior_lines = polygon_dataframe_to_geojson(\n",
    "                            df=df_region_polygons,\n",
    "                            geometry_id='location',\n",
    "                            geometry='region_exterior_ring',\n",
    "                            geometry_value='location',\n",
    "                            file_output='region_exterior_lines.json')"
   ]
  },
  {
   "cell_type": "code",
   "execution_count": 32,
   "id": "aeb64ab4",
   "metadata": {},
   "outputs": [
    {
     "data": {
      "text/plain": [
       "Index(['location', 'region_geometry', 'region_exterior_ring',\n",
       "       'region_centroid', 'h3_l7', 'h3_l5', 'population',\n",
       "       'cnt_distinct_h3_l7_in_l5', 'sum_population_h3_l5', 'category_Randall',\n",
       "       'cnt_poi_h3_l7', 'cnt_poi_h3_l7_in_h3_l5', 'poi_per_capita_h3_l7',\n",
       "       'poi_per_capita_h3_l5', 'poi_per_capita_relative_h3_l7_to_h3_l5',\n",
       "       'region_h3', 'is_null_population', 'cnt_poi_h3_l7_max',\n",
       "       'cnt_poi_h3_l7_normalized', 'poi_per_capita_h3_l7_max',\n",
       "       'poi_per_capita_h3_l7_normalized',\n",
       "       'poi_per_capita_relative_h3_l7_to_h3_l5_max',\n",
       "       'poi_per_capita_relative_h3_l7_to_h3_l5_normalized', 'h3_polygons'],\n",
       "      dtype='object')"
      ]
     },
     "execution_count": 32,
     "metadata": {},
     "output_type": "execute_result"
    }
   ],
   "source": [
    "df_regions_to_h3.columns"
   ]
  },
  {
   "cell_type": "code",
   "execution_count": 303,
   "id": "917ebf0d",
   "metadata": {
    "scrolled": false
   },
   "outputs": [
    {
     "data": {
      "application/vnd.plotly.v1+json": {
       "config": {
        "plotlyServerURL": "https://plot.ly"
       },
       "data": [
        {
         "geo": "geo",
         "hovertemplate": "lat=%{lat}<br>lon=%{lon}<br>locations=%{location}<extra></extra>",
         "lat": [
          51.7298297,
          51.3866037,
          51.1640971,
          51.201113,
          51.5431696,
          51.8105622,
          51.7298297,
          null,
          52.6693307,
          52.4104047,
          52.2812087,
          52.3584361,
          52.6526719,
          52.6943071,
          52.6693307,
          null,
          52.8686898,
          52.7774063,
          52.6292865,
          52.6959194,
          52.8703477,
          52.8686898,
          null,
          54.0744289,
          53.8951654,
          53.7460014,
          53.7995669,
          54.0276688,
          54.0744289,
          null,
          37.7601185,
          37.691688,
          37.5502822,
          37.4879193,
          37.4277254,
          37.4696696,
          37.5404826,
          37.6536437,
          37.7829147,
          37.9422909,
          38.0667325,
          38.0786246,
          38.0483501,
          37.9606999,
          37.8404166,
          37.7601185,
          null,
          34.0412527,
          34.0025533,
          33.8715278,
          33.7486871,
          33.6866649,
          33.7330527,
          33.8681071,
          34.0230434,
          34.2367495,
          34.3660829,
          34.3151722,
          34.0412527,
          null,
          41.2648057,
          41.2581181,
          41.2658379,
          41.2957653,
          41.3401173,
          41.4544654,
          41.498194,
          41.5118465,
          41.400922,
          41.2648057,
          null
         ],
         "legendgroup": "",
         "line": {
          "color": "rgba(25,210,242,1)",
          "dash": "solid",
          "width": 4
         },
         "locations": [
          "London",
          "London",
          "London",
          "London",
          "London",
          "London",
          "London",
          null,
          "Birmingham",
          "Birmingham",
          "Birmingham",
          "Birmingham",
          "Birmingham",
          "Birmingham",
          "Birmingham",
          null,
          "Soligorsk",
          "Soligorsk",
          "Soligorsk",
          "Soligorsk",
          "Soligorsk",
          "Soligorsk",
          null,
          "Minsk",
          "Minsk",
          "Minsk",
          "Minsk",
          "Minsk",
          "Minsk",
          null,
          "San Francisco",
          "San Francisco",
          "San Francisco",
          "San Francisco",
          "San Francisco",
          "San Francisco",
          "San Francisco",
          "San Francisco",
          "San Francisco",
          "San Francisco",
          "San Francisco",
          "San Francisco",
          "San Francisco",
          "San Francisco",
          "San Francisco",
          "San Francisco",
          null,
          "Los Angeles",
          "Los Angeles",
          "Los Angeles",
          "Los Angeles",
          "Los Angeles",
          "Los Angeles",
          "Los Angeles",
          "Los Angeles",
          "Los Angeles",
          "Los Angeles",
          "Los Angeles",
          "Los Angeles",
          null,
          "Barcelona",
          "Barcelona",
          "Barcelona",
          "Barcelona",
          "Barcelona",
          "Barcelona",
          "Barcelona",
          "Barcelona",
          "Barcelona",
          "Barcelona",
          null
         ],
         "lon": [
          -0.5580103,
          -0.7186854,
          -0.4742396,
          0.2082861,
          0.481571,
          0.1258886,
          -0.5580103,
          null,
          -2.2007212,
          -2.3215708,
          -2.0386729,
          -1.5992197,
          -1.5635142,
          -2.143043,
          -2.2007212,
          null,
          27.4271169,
          27.2939077,
          27.4408498,
          27.7457204,
          27.6715627,
          27.4271169,
          null,
          27.3886889,
          27.0920581,
          27.4243945,
          27.9105395,
          27.9242724,
          27.3886889,
          null,
          -122.5845595,
          -122.5763197,
          -122.5337477,
          -122.5137851,
          -122.4636677,
          -122.2961683,
          -122.1354933,
          -121.9954176,
          -122.0050306,
          -122.1148939,
          -122.2343702,
          -122.3964186,
          -122.5886793,
          -122.6188917,
          -122.5927992,
          -122.5845595,
          null,
          -118.662229,
          -118.5276465,
          -118.4328894,
          -118.4448156,
          -118.2860618,
          -118.193246,
          -117.9948096,
          -117.8670936,
          -117.932909,
          -118.1884436,
          -118.6684503,
          -118.662229,
          null,
          1.9590174,
          2.028368,
          2.103213,
          2.1697906,
          2.19797,
          2.2686945,
          2.1835505,
          2.0231726,
          1.9528376,
          1.9590174,
          null
         ],
         "marker": {
          "line": {
           "color": "rgba(25,210,242,1)",
           "width": 4
          },
          "symbol": "circle"
         },
         "mode": "markers+lines",
         "name": "",
         "showlegend": false,
         "type": "scattergeo"
        }
       ],
       "layout": {
        "geo": {
         "center": {},
         "domain": {
          "x": [
           0,
           1
          ],
          "y": [
           0,
           1
          ]
         }
        },
        "legend": {
         "tracegroupgap": 0
        },
        "margin": {
         "t": 60
        },
        "template": {
         "data": {
          "bar": [
           {
            "error_x": {
             "color": "#2a3f5f"
            },
            "error_y": {
             "color": "#2a3f5f"
            },
            "marker": {
             "line": {
              "color": "#E5ECF6",
              "width": 0.5
             },
             "pattern": {
              "fillmode": "overlay",
              "size": 10,
              "solidity": 0.2
             }
            },
            "type": "bar"
           }
          ],
          "barpolar": [
           {
            "marker": {
             "line": {
              "color": "#E5ECF6",
              "width": 0.5
             },
             "pattern": {
              "fillmode": "overlay",
              "size": 10,
              "solidity": 0.2
             }
            },
            "type": "barpolar"
           }
          ],
          "carpet": [
           {
            "aaxis": {
             "endlinecolor": "#2a3f5f",
             "gridcolor": "white",
             "linecolor": "white",
             "minorgridcolor": "white",
             "startlinecolor": "#2a3f5f"
            },
            "baxis": {
             "endlinecolor": "#2a3f5f",
             "gridcolor": "white",
             "linecolor": "white",
             "minorgridcolor": "white",
             "startlinecolor": "#2a3f5f"
            },
            "type": "carpet"
           }
          ],
          "choropleth": [
           {
            "colorbar": {
             "outlinewidth": 0,
             "ticks": ""
            },
            "type": "choropleth"
           }
          ],
          "contour": [
           {
            "colorbar": {
             "outlinewidth": 0,
             "ticks": ""
            },
            "colorscale": [
             [
              0,
              "#0d0887"
             ],
             [
              0.1111111111111111,
              "#46039f"
             ],
             [
              0.2222222222222222,
              "#7201a8"
             ],
             [
              0.3333333333333333,
              "#9c179e"
             ],
             [
              0.4444444444444444,
              "#bd3786"
             ],
             [
              0.5555555555555556,
              "#d8576b"
             ],
             [
              0.6666666666666666,
              "#ed7953"
             ],
             [
              0.7777777777777778,
              "#fb9f3a"
             ],
             [
              0.8888888888888888,
              "#fdca26"
             ],
             [
              1,
              "#f0f921"
             ]
            ],
            "type": "contour"
           }
          ],
          "contourcarpet": [
           {
            "colorbar": {
             "outlinewidth": 0,
             "ticks": ""
            },
            "type": "contourcarpet"
           }
          ],
          "heatmap": [
           {
            "colorbar": {
             "outlinewidth": 0,
             "ticks": ""
            },
            "colorscale": [
             [
              0,
              "#0d0887"
             ],
             [
              0.1111111111111111,
              "#46039f"
             ],
             [
              0.2222222222222222,
              "#7201a8"
             ],
             [
              0.3333333333333333,
              "#9c179e"
             ],
             [
              0.4444444444444444,
              "#bd3786"
             ],
             [
              0.5555555555555556,
              "#d8576b"
             ],
             [
              0.6666666666666666,
              "#ed7953"
             ],
             [
              0.7777777777777778,
              "#fb9f3a"
             ],
             [
              0.8888888888888888,
              "#fdca26"
             ],
             [
              1,
              "#f0f921"
             ]
            ],
            "type": "heatmap"
           }
          ],
          "heatmapgl": [
           {
            "colorbar": {
             "outlinewidth": 0,
             "ticks": ""
            },
            "colorscale": [
             [
              0,
              "#0d0887"
             ],
             [
              0.1111111111111111,
              "#46039f"
             ],
             [
              0.2222222222222222,
              "#7201a8"
             ],
             [
              0.3333333333333333,
              "#9c179e"
             ],
             [
              0.4444444444444444,
              "#bd3786"
             ],
             [
              0.5555555555555556,
              "#d8576b"
             ],
             [
              0.6666666666666666,
              "#ed7953"
             ],
             [
              0.7777777777777778,
              "#fb9f3a"
             ],
             [
              0.8888888888888888,
              "#fdca26"
             ],
             [
              1,
              "#f0f921"
             ]
            ],
            "type": "heatmapgl"
           }
          ],
          "histogram": [
           {
            "marker": {
             "pattern": {
              "fillmode": "overlay",
              "size": 10,
              "solidity": 0.2
             }
            },
            "type": "histogram"
           }
          ],
          "histogram2d": [
           {
            "colorbar": {
             "outlinewidth": 0,
             "ticks": ""
            },
            "colorscale": [
             [
              0,
              "#0d0887"
             ],
             [
              0.1111111111111111,
              "#46039f"
             ],
             [
              0.2222222222222222,
              "#7201a8"
             ],
             [
              0.3333333333333333,
              "#9c179e"
             ],
             [
              0.4444444444444444,
              "#bd3786"
             ],
             [
              0.5555555555555556,
              "#d8576b"
             ],
             [
              0.6666666666666666,
              "#ed7953"
             ],
             [
              0.7777777777777778,
              "#fb9f3a"
             ],
             [
              0.8888888888888888,
              "#fdca26"
             ],
             [
              1,
              "#f0f921"
             ]
            ],
            "type": "histogram2d"
           }
          ],
          "histogram2dcontour": [
           {
            "colorbar": {
             "outlinewidth": 0,
             "ticks": ""
            },
            "colorscale": [
             [
              0,
              "#0d0887"
             ],
             [
              0.1111111111111111,
              "#46039f"
             ],
             [
              0.2222222222222222,
              "#7201a8"
             ],
             [
              0.3333333333333333,
              "#9c179e"
             ],
             [
              0.4444444444444444,
              "#bd3786"
             ],
             [
              0.5555555555555556,
              "#d8576b"
             ],
             [
              0.6666666666666666,
              "#ed7953"
             ],
             [
              0.7777777777777778,
              "#fb9f3a"
             ],
             [
              0.8888888888888888,
              "#fdca26"
             ],
             [
              1,
              "#f0f921"
             ]
            ],
            "type": "histogram2dcontour"
           }
          ],
          "mesh3d": [
           {
            "colorbar": {
             "outlinewidth": 0,
             "ticks": ""
            },
            "type": "mesh3d"
           }
          ],
          "parcoords": [
           {
            "line": {
             "colorbar": {
              "outlinewidth": 0,
              "ticks": ""
             }
            },
            "type": "parcoords"
           }
          ],
          "pie": [
           {
            "automargin": true,
            "type": "pie"
           }
          ],
          "scatter": [
           {
            "fillpattern": {
             "fillmode": "overlay",
             "size": 10,
             "solidity": 0.2
            },
            "type": "scatter"
           }
          ],
          "scatter3d": [
           {
            "line": {
             "colorbar": {
              "outlinewidth": 0,
              "ticks": ""
             }
            },
            "marker": {
             "colorbar": {
              "outlinewidth": 0,
              "ticks": ""
             }
            },
            "type": "scatter3d"
           }
          ],
          "scattercarpet": [
           {
            "marker": {
             "colorbar": {
              "outlinewidth": 0,
              "ticks": ""
             }
            },
            "type": "scattercarpet"
           }
          ],
          "scattergeo": [
           {
            "marker": {
             "colorbar": {
              "outlinewidth": 0,
              "ticks": ""
             }
            },
            "type": "scattergeo"
           }
          ],
          "scattergl": [
           {
            "marker": {
             "colorbar": {
              "outlinewidth": 0,
              "ticks": ""
             }
            },
            "type": "scattergl"
           }
          ],
          "scattermapbox": [
           {
            "marker": {
             "colorbar": {
              "outlinewidth": 0,
              "ticks": ""
             }
            },
            "type": "scattermapbox"
           }
          ],
          "scatterpolar": [
           {
            "marker": {
             "colorbar": {
              "outlinewidth": 0,
              "ticks": ""
             }
            },
            "type": "scatterpolar"
           }
          ],
          "scatterpolargl": [
           {
            "marker": {
             "colorbar": {
              "outlinewidth": 0,
              "ticks": ""
             }
            },
            "type": "scatterpolargl"
           }
          ],
          "scatterternary": [
           {
            "marker": {
             "colorbar": {
              "outlinewidth": 0,
              "ticks": ""
             }
            },
            "type": "scatterternary"
           }
          ],
          "surface": [
           {
            "colorbar": {
             "outlinewidth": 0,
             "ticks": ""
            },
            "colorscale": [
             [
              0,
              "#0d0887"
             ],
             [
              0.1111111111111111,
              "#46039f"
             ],
             [
              0.2222222222222222,
              "#7201a8"
             ],
             [
              0.3333333333333333,
              "#9c179e"
             ],
             [
              0.4444444444444444,
              "#bd3786"
             ],
             [
              0.5555555555555556,
              "#d8576b"
             ],
             [
              0.6666666666666666,
              "#ed7953"
             ],
             [
              0.7777777777777778,
              "#fb9f3a"
             ],
             [
              0.8888888888888888,
              "#fdca26"
             ],
             [
              1,
              "#f0f921"
             ]
            ],
            "type": "surface"
           }
          ],
          "table": [
           {
            "cells": {
             "fill": {
              "color": "#EBF0F8"
             },
             "line": {
              "color": "white"
             }
            },
            "header": {
             "fill": {
              "color": "#C8D4E3"
             },
             "line": {
              "color": "white"
             }
            },
            "type": "table"
           }
          ]
         },
         "layout": {
          "annotationdefaults": {
           "arrowcolor": "#2a3f5f",
           "arrowhead": 0,
           "arrowwidth": 1
          },
          "autotypenumbers": "strict",
          "coloraxis": {
           "colorbar": {
            "outlinewidth": 0,
            "ticks": ""
           }
          },
          "colorscale": {
           "diverging": [
            [
             0,
             "#8e0152"
            ],
            [
             0.1,
             "#c51b7d"
            ],
            [
             0.2,
             "#de77ae"
            ],
            [
             0.3,
             "#f1b6da"
            ],
            [
             0.4,
             "#fde0ef"
            ],
            [
             0.5,
             "#f7f7f7"
            ],
            [
             0.6,
             "#e6f5d0"
            ],
            [
             0.7,
             "#b8e186"
            ],
            [
             0.8,
             "#7fbc41"
            ],
            [
             0.9,
             "#4d9221"
            ],
            [
             1,
             "#276419"
            ]
           ],
           "sequential": [
            [
             0,
             "#0d0887"
            ],
            [
             0.1111111111111111,
             "#46039f"
            ],
            [
             0.2222222222222222,
             "#7201a8"
            ],
            [
             0.3333333333333333,
             "#9c179e"
            ],
            [
             0.4444444444444444,
             "#bd3786"
            ],
            [
             0.5555555555555556,
             "#d8576b"
            ],
            [
             0.6666666666666666,
             "#ed7953"
            ],
            [
             0.7777777777777778,
             "#fb9f3a"
            ],
            [
             0.8888888888888888,
             "#fdca26"
            ],
            [
             1,
             "#f0f921"
            ]
           ],
           "sequentialminus": [
            [
             0,
             "#0d0887"
            ],
            [
             0.1111111111111111,
             "#46039f"
            ],
            [
             0.2222222222222222,
             "#7201a8"
            ],
            [
             0.3333333333333333,
             "#9c179e"
            ],
            [
             0.4444444444444444,
             "#bd3786"
            ],
            [
             0.5555555555555556,
             "#d8576b"
            ],
            [
             0.6666666666666666,
             "#ed7953"
            ],
            [
             0.7777777777777778,
             "#fb9f3a"
            ],
            [
             0.8888888888888888,
             "#fdca26"
            ],
            [
             1,
             "#f0f921"
            ]
           ]
          },
          "colorway": [
           "#636efa",
           "#EF553B",
           "#00cc96",
           "#ab63fa",
           "#FFA15A",
           "#19d3f3",
           "#FF6692",
           "#B6E880",
           "#FF97FF",
           "#FECB52"
          ],
          "font": {
           "color": "#2a3f5f"
          },
          "geo": {
           "bgcolor": "white",
           "lakecolor": "white",
           "landcolor": "#E5ECF6",
           "showlakes": true,
           "showland": true,
           "subunitcolor": "white"
          },
          "hoverlabel": {
           "align": "left"
          },
          "hovermode": "closest",
          "mapbox": {
           "style": "light"
          },
          "paper_bgcolor": "white",
          "plot_bgcolor": "#E5ECF6",
          "polar": {
           "angularaxis": {
            "gridcolor": "white",
            "linecolor": "white",
            "ticks": ""
           },
           "bgcolor": "#E5ECF6",
           "radialaxis": {
            "gridcolor": "white",
            "linecolor": "white",
            "ticks": ""
           }
          },
          "scene": {
           "xaxis": {
            "backgroundcolor": "#E5ECF6",
            "gridcolor": "white",
            "gridwidth": 2,
            "linecolor": "white",
            "showbackground": true,
            "ticks": "",
            "zerolinecolor": "white"
           },
           "yaxis": {
            "backgroundcolor": "#E5ECF6",
            "gridcolor": "white",
            "gridwidth": 2,
            "linecolor": "white",
            "showbackground": true,
            "ticks": "",
            "zerolinecolor": "white"
           },
           "zaxis": {
            "backgroundcolor": "#E5ECF6",
            "gridcolor": "white",
            "gridwidth": 2,
            "linecolor": "white",
            "showbackground": true,
            "ticks": "",
            "zerolinecolor": "white"
           }
          },
          "shapedefaults": {
           "line": {
            "color": "#2a3f5f"
           }
          },
          "ternary": {
           "aaxis": {
            "gridcolor": "white",
            "linecolor": "white",
            "ticks": ""
           },
           "baxis": {
            "gridcolor": "white",
            "linecolor": "white",
            "ticks": ""
           },
           "bgcolor": "#E5ECF6",
           "caxis": {
            "gridcolor": "white",
            "linecolor": "white",
            "ticks": ""
           }
          },
          "title": {
           "x": 0.05
          },
          "xaxis": {
           "automargin": true,
           "gridcolor": "white",
           "linecolor": "white",
           "ticks": "",
           "title": {
            "standoff": 15
           },
           "zerolinecolor": "white",
           "zerolinewidth": 2
          },
          "yaxis": {
           "automargin": true,
           "gridcolor": "white",
           "linecolor": "white",
           "ticks": "",
           "title": {
            "standoff": 15
           },
           "zerolinecolor": "white",
           "zerolinewidth": 2
          }
         }
        }
       }
      },
      "text/html": [
       "<div>                            <div id=\"3d33d085-eada-47d5-8f08-9570053bf477\" class=\"plotly-graph-div\" style=\"height:525px; width:100%;\"></div>            <script type=\"text/javascript\">                require([\"plotly\"], function(Plotly) {                    window.PLOTLYENV=window.PLOTLYENV || {};                                    if (document.getElementById(\"3d33d085-eada-47d5-8f08-9570053bf477\")) {                    Plotly.newPlot(                        \"3d33d085-eada-47d5-8f08-9570053bf477\",                        [{\"geo\":\"geo\",\"hovertemplate\":\"lat=%{lat}<br>lon=%{lon}<br>locations=%{location}<extra></extra>\",\"lat\":[51.7298297,51.3866037,51.1640971,51.201113,51.5431696,51.8105622,51.7298297,null,52.6693307,52.4104047,52.2812087,52.3584361,52.6526719,52.6943071,52.6693307,null,52.8686898,52.7774063,52.6292865,52.6959194,52.8703477,52.8686898,null,54.0744289,53.8951654,53.7460014,53.7995669,54.0276688,54.0744289,null,37.7601185,37.691688,37.5502822,37.4879193,37.4277254,37.4696696,37.5404826,37.6536437,37.7829147,37.9422909,38.0667325,38.0786246,38.0483501,37.9606999,37.8404166,37.7601185,null,34.0412527,34.0025533,33.8715278,33.7486871,33.6866649,33.7330527,33.8681071,34.0230434,34.2367495,34.3660829,34.3151722,34.0412527,null,41.2648057,41.2581181,41.2658379,41.2957653,41.3401173,41.4544654,41.498194,41.5118465,41.400922,41.2648057,null],\"legendgroup\":\"\",\"line\":{\"color\":\"rgba(25,210,242,1)\",\"dash\":\"solid\",\"width\":4},\"locations\":[\"London\",\"London\",\"London\",\"London\",\"London\",\"London\",\"London\",null,\"Birmingham\",\"Birmingham\",\"Birmingham\",\"Birmingham\",\"Birmingham\",\"Birmingham\",\"Birmingham\",null,\"Soligorsk\",\"Soligorsk\",\"Soligorsk\",\"Soligorsk\",\"Soligorsk\",\"Soligorsk\",null,\"Minsk\",\"Minsk\",\"Minsk\",\"Minsk\",\"Minsk\",\"Minsk\",null,\"San Francisco\",\"San Francisco\",\"San Francisco\",\"San Francisco\",\"San Francisco\",\"San Francisco\",\"San Francisco\",\"San Francisco\",\"San Francisco\",\"San Francisco\",\"San Francisco\",\"San Francisco\",\"San Francisco\",\"San Francisco\",\"San Francisco\",\"San Francisco\",null,\"Los Angeles\",\"Los Angeles\",\"Los Angeles\",\"Los Angeles\",\"Los Angeles\",\"Los Angeles\",\"Los Angeles\",\"Los Angeles\",\"Los Angeles\",\"Los Angeles\",\"Los Angeles\",\"Los Angeles\",null,\"Barcelona\",\"Barcelona\",\"Barcelona\",\"Barcelona\",\"Barcelona\",\"Barcelona\",\"Barcelona\",\"Barcelona\",\"Barcelona\",\"Barcelona\",null],\"lon\":[-0.5580103,-0.7186854,-0.4742396,0.2082861,0.481571,0.1258886,-0.5580103,null,-2.2007212,-2.3215708,-2.0386729,-1.5992197,-1.5635142,-2.143043,-2.2007212,null,27.4271169,27.2939077,27.4408498,27.7457204,27.6715627,27.4271169,null,27.3886889,27.0920581,27.4243945,27.9105395,27.9242724,27.3886889,null,-122.5845595,-122.5763197,-122.5337477,-122.5137851,-122.4636677,-122.2961683,-122.1354933,-121.9954176,-122.0050306,-122.1148939,-122.2343702,-122.3964186,-122.5886793,-122.6188917,-122.5927992,-122.5845595,null,-118.662229,-118.5276465,-118.4328894,-118.4448156,-118.2860618,-118.193246,-117.9948096,-117.8670936,-117.932909,-118.1884436,-118.6684503,-118.662229,null,1.9590174,2.028368,2.103213,2.1697906,2.19797,2.2686945,2.1835505,2.0231726,1.9528376,1.9590174,null],\"marker\":{\"symbol\":\"circle\",\"line\":{\"color\":\"rgba(25,210,242,1)\",\"width\":4}},\"mode\":\"markers+lines\",\"name\":\"\",\"showlegend\":false,\"type\":\"scattergeo\"}],                        {\"template\":{\"data\":{\"histogram2dcontour\":[{\"type\":\"histogram2dcontour\",\"colorbar\":{\"outlinewidth\":0,\"ticks\":\"\"},\"colorscale\":[[0.0,\"#0d0887\"],[0.1111111111111111,\"#46039f\"],[0.2222222222222222,\"#7201a8\"],[0.3333333333333333,\"#9c179e\"],[0.4444444444444444,\"#bd3786\"],[0.5555555555555556,\"#d8576b\"],[0.6666666666666666,\"#ed7953\"],[0.7777777777777778,\"#fb9f3a\"],[0.8888888888888888,\"#fdca26\"],[1.0,\"#f0f921\"]]}],\"choropleth\":[{\"type\":\"choropleth\",\"colorbar\":{\"outlinewidth\":0,\"ticks\":\"\"}}],\"histogram2d\":[{\"type\":\"histogram2d\",\"colorbar\":{\"outlinewidth\":0,\"ticks\":\"\"},\"colorscale\":[[0.0,\"#0d0887\"],[0.1111111111111111,\"#46039f\"],[0.2222222222222222,\"#7201a8\"],[0.3333333333333333,\"#9c179e\"],[0.4444444444444444,\"#bd3786\"],[0.5555555555555556,\"#d8576b\"],[0.6666666666666666,\"#ed7953\"],[0.7777777777777778,\"#fb9f3a\"],[0.8888888888888888,\"#fdca26\"],[1.0,\"#f0f921\"]]}],\"heatmap\":[{\"type\":\"heatmap\",\"colorbar\":{\"outlinewidth\":0,\"ticks\":\"\"},\"colorscale\":[[0.0,\"#0d0887\"],[0.1111111111111111,\"#46039f\"],[0.2222222222222222,\"#7201a8\"],[0.3333333333333333,\"#9c179e\"],[0.4444444444444444,\"#bd3786\"],[0.5555555555555556,\"#d8576b\"],[0.6666666666666666,\"#ed7953\"],[0.7777777777777778,\"#fb9f3a\"],[0.8888888888888888,\"#fdca26\"],[1.0,\"#f0f921\"]]}],\"heatmapgl\":[{\"type\":\"heatmapgl\",\"colorbar\":{\"outlinewidth\":0,\"ticks\":\"\"},\"colorscale\":[[0.0,\"#0d0887\"],[0.1111111111111111,\"#46039f\"],[0.2222222222222222,\"#7201a8\"],[0.3333333333333333,\"#9c179e\"],[0.4444444444444444,\"#bd3786\"],[0.5555555555555556,\"#d8576b\"],[0.6666666666666666,\"#ed7953\"],[0.7777777777777778,\"#fb9f3a\"],[0.8888888888888888,\"#fdca26\"],[1.0,\"#f0f921\"]]}],\"contourcarpet\":[{\"type\":\"contourcarpet\",\"colorbar\":{\"outlinewidth\":0,\"ticks\":\"\"}}],\"contour\":[{\"type\":\"contour\",\"colorbar\":{\"outlinewidth\":0,\"ticks\":\"\"},\"colorscale\":[[0.0,\"#0d0887\"],[0.1111111111111111,\"#46039f\"],[0.2222222222222222,\"#7201a8\"],[0.3333333333333333,\"#9c179e\"],[0.4444444444444444,\"#bd3786\"],[0.5555555555555556,\"#d8576b\"],[0.6666666666666666,\"#ed7953\"],[0.7777777777777778,\"#fb9f3a\"],[0.8888888888888888,\"#fdca26\"],[1.0,\"#f0f921\"]]}],\"surface\":[{\"type\":\"surface\",\"colorbar\":{\"outlinewidth\":0,\"ticks\":\"\"},\"colorscale\":[[0.0,\"#0d0887\"],[0.1111111111111111,\"#46039f\"],[0.2222222222222222,\"#7201a8\"],[0.3333333333333333,\"#9c179e\"],[0.4444444444444444,\"#bd3786\"],[0.5555555555555556,\"#d8576b\"],[0.6666666666666666,\"#ed7953\"],[0.7777777777777778,\"#fb9f3a\"],[0.8888888888888888,\"#fdca26\"],[1.0,\"#f0f921\"]]}],\"mesh3d\":[{\"type\":\"mesh3d\",\"colorbar\":{\"outlinewidth\":0,\"ticks\":\"\"}}],\"scatter\":[{\"fillpattern\":{\"fillmode\":\"overlay\",\"size\":10,\"solidity\":0.2},\"type\":\"scatter\"}],\"parcoords\":[{\"type\":\"parcoords\",\"line\":{\"colorbar\":{\"outlinewidth\":0,\"ticks\":\"\"}}}],\"scatterpolargl\":[{\"type\":\"scatterpolargl\",\"marker\":{\"colorbar\":{\"outlinewidth\":0,\"ticks\":\"\"}}}],\"bar\":[{\"error_x\":{\"color\":\"#2a3f5f\"},\"error_y\":{\"color\":\"#2a3f5f\"},\"marker\":{\"line\":{\"color\":\"#E5ECF6\",\"width\":0.5},\"pattern\":{\"fillmode\":\"overlay\",\"size\":10,\"solidity\":0.2}},\"type\":\"bar\"}],\"scattergeo\":[{\"type\":\"scattergeo\",\"marker\":{\"colorbar\":{\"outlinewidth\":0,\"ticks\":\"\"}}}],\"scatterpolar\":[{\"type\":\"scatterpolar\",\"marker\":{\"colorbar\":{\"outlinewidth\":0,\"ticks\":\"\"}}}],\"histogram\":[{\"marker\":{\"pattern\":{\"fillmode\":\"overlay\",\"size\":10,\"solidity\":0.2}},\"type\":\"histogram\"}],\"scattergl\":[{\"type\":\"scattergl\",\"marker\":{\"colorbar\":{\"outlinewidth\":0,\"ticks\":\"\"}}}],\"scatter3d\":[{\"type\":\"scatter3d\",\"line\":{\"colorbar\":{\"outlinewidth\":0,\"ticks\":\"\"}},\"marker\":{\"colorbar\":{\"outlinewidth\":0,\"ticks\":\"\"}}}],\"scattermapbox\":[{\"type\":\"scattermapbox\",\"marker\":{\"colorbar\":{\"outlinewidth\":0,\"ticks\":\"\"}}}],\"scatterternary\":[{\"type\":\"scatterternary\",\"marker\":{\"colorbar\":{\"outlinewidth\":0,\"ticks\":\"\"}}}],\"scattercarpet\":[{\"type\":\"scattercarpet\",\"marker\":{\"colorbar\":{\"outlinewidth\":0,\"ticks\":\"\"}}}],\"carpet\":[{\"aaxis\":{\"endlinecolor\":\"#2a3f5f\",\"gridcolor\":\"white\",\"linecolor\":\"white\",\"minorgridcolor\":\"white\",\"startlinecolor\":\"#2a3f5f\"},\"baxis\":{\"endlinecolor\":\"#2a3f5f\",\"gridcolor\":\"white\",\"linecolor\":\"white\",\"minorgridcolor\":\"white\",\"startlinecolor\":\"#2a3f5f\"},\"type\":\"carpet\"}],\"table\":[{\"cells\":{\"fill\":{\"color\":\"#EBF0F8\"},\"line\":{\"color\":\"white\"}},\"header\":{\"fill\":{\"color\":\"#C8D4E3\"},\"line\":{\"color\":\"white\"}},\"type\":\"table\"}],\"barpolar\":[{\"marker\":{\"line\":{\"color\":\"#E5ECF6\",\"width\":0.5},\"pattern\":{\"fillmode\":\"overlay\",\"size\":10,\"solidity\":0.2}},\"type\":\"barpolar\"}],\"pie\":[{\"automargin\":true,\"type\":\"pie\"}]},\"layout\":{\"autotypenumbers\":\"strict\",\"colorway\":[\"#636efa\",\"#EF553B\",\"#00cc96\",\"#ab63fa\",\"#FFA15A\",\"#19d3f3\",\"#FF6692\",\"#B6E880\",\"#FF97FF\",\"#FECB52\"],\"font\":{\"color\":\"#2a3f5f\"},\"hovermode\":\"closest\",\"hoverlabel\":{\"align\":\"left\"},\"paper_bgcolor\":\"white\",\"plot_bgcolor\":\"#E5ECF6\",\"polar\":{\"bgcolor\":\"#E5ECF6\",\"angularaxis\":{\"gridcolor\":\"white\",\"linecolor\":\"white\",\"ticks\":\"\"},\"radialaxis\":{\"gridcolor\":\"white\",\"linecolor\":\"white\",\"ticks\":\"\"}},\"ternary\":{\"bgcolor\":\"#E5ECF6\",\"aaxis\":{\"gridcolor\":\"white\",\"linecolor\":\"white\",\"ticks\":\"\"},\"baxis\":{\"gridcolor\":\"white\",\"linecolor\":\"white\",\"ticks\":\"\"},\"caxis\":{\"gridcolor\":\"white\",\"linecolor\":\"white\",\"ticks\":\"\"}},\"coloraxis\":{\"colorbar\":{\"outlinewidth\":0,\"ticks\":\"\"}},\"colorscale\":{\"sequential\":[[0.0,\"#0d0887\"],[0.1111111111111111,\"#46039f\"],[0.2222222222222222,\"#7201a8\"],[0.3333333333333333,\"#9c179e\"],[0.4444444444444444,\"#bd3786\"],[0.5555555555555556,\"#d8576b\"],[0.6666666666666666,\"#ed7953\"],[0.7777777777777778,\"#fb9f3a\"],[0.8888888888888888,\"#fdca26\"],[1.0,\"#f0f921\"]],\"sequentialminus\":[[0.0,\"#0d0887\"],[0.1111111111111111,\"#46039f\"],[0.2222222222222222,\"#7201a8\"],[0.3333333333333333,\"#9c179e\"],[0.4444444444444444,\"#bd3786\"],[0.5555555555555556,\"#d8576b\"],[0.6666666666666666,\"#ed7953\"],[0.7777777777777778,\"#fb9f3a\"],[0.8888888888888888,\"#fdca26\"],[1.0,\"#f0f921\"]],\"diverging\":[[0,\"#8e0152\"],[0.1,\"#c51b7d\"],[0.2,\"#de77ae\"],[0.3,\"#f1b6da\"],[0.4,\"#fde0ef\"],[0.5,\"#f7f7f7\"],[0.6,\"#e6f5d0\"],[0.7,\"#b8e186\"],[0.8,\"#7fbc41\"],[0.9,\"#4d9221\"],[1,\"#276419\"]]},\"xaxis\":{\"gridcolor\":\"white\",\"linecolor\":\"white\",\"ticks\":\"\",\"title\":{\"standoff\":15},\"zerolinecolor\":\"white\",\"automargin\":true,\"zerolinewidth\":2},\"yaxis\":{\"gridcolor\":\"white\",\"linecolor\":\"white\",\"ticks\":\"\",\"title\":{\"standoff\":15},\"zerolinecolor\":\"white\",\"automargin\":true,\"zerolinewidth\":2},\"scene\":{\"xaxis\":{\"backgroundcolor\":\"#E5ECF6\",\"gridcolor\":\"white\",\"linecolor\":\"white\",\"showbackground\":true,\"ticks\":\"\",\"zerolinecolor\":\"white\",\"gridwidth\":2},\"yaxis\":{\"backgroundcolor\":\"#E5ECF6\",\"gridcolor\":\"white\",\"linecolor\":\"white\",\"showbackground\":true,\"ticks\":\"\",\"zerolinecolor\":\"white\",\"gridwidth\":2},\"zaxis\":{\"backgroundcolor\":\"#E5ECF6\",\"gridcolor\":\"white\",\"linecolor\":\"white\",\"showbackground\":true,\"ticks\":\"\",\"zerolinecolor\":\"white\",\"gridwidth\":2}},\"shapedefaults\":{\"line\":{\"color\":\"#2a3f5f\"}},\"annotationdefaults\":{\"arrowcolor\":\"#2a3f5f\",\"arrowhead\":0,\"arrowwidth\":1},\"geo\":{\"bgcolor\":\"white\",\"landcolor\":\"#E5ECF6\",\"subunitcolor\":\"white\",\"showland\":true,\"showlakes\":true,\"lakecolor\":\"white\"},\"title\":{\"x\":0.05},\"mapbox\":{\"style\":\"light\"}}},\"geo\":{\"domain\":{\"x\":[0.0,1.0],\"y\":[0.0,1.0]},\"center\":{}},\"legend\":{\"tracegroupgap\":0},\"margin\":{\"t\":60}},                        {\"responsive\": true}                    ).then(function(){\n",
       "                            \n",
       "var gd = document.getElementById('3d33d085-eada-47d5-8f08-9570053bf477');\n",
       "var x = new MutationObserver(function (mutations, observer) {{\n",
       "        var display = window.getComputedStyle(gd).display;\n",
       "        if (!display || display === 'none') {{\n",
       "            console.log([gd, 'removed!']);\n",
       "            Plotly.purge(gd);\n",
       "            observer.disconnect();\n",
       "        }}\n",
       "}});\n",
       "\n",
       "// Listen for the removal of the full notebook cells\n",
       "var notebookContainer = gd.closest('#notebook-container');\n",
       "if (notebookContainer) {{\n",
       "    x.observe(notebookContainer, {childList: true});\n",
       "}}\n",
       "\n",
       "// Listen for the clearing of the current output cell\n",
       "var outputEl = gd.closest('.output');\n",
       "if (outputEl) {{\n",
       "    x.observe(outputEl, {childList: true});\n",
       "}}\n",
       "\n",
       "                        })                };                });            </script>        </div>"
      ]
     },
     "metadata": {},
     "output_type": "display_data"
    }
   ],
   "source": [
    "from shapely import geometry\n",
    "import plotly.graph_objects as go\n",
    "center_lon, center_lat = (wkt.loads(df_regions_to_h3[df_regions_to_h3['location']=='Los Angeles']['region_centroid'].iloc[0]).x,\n",
    "                          wkt.loads(df_regions_to_h3[df_regions_to_h3['location']=='Los Angeles']['region_centroid'].iloc[0]).y)\n",
    "\n",
    "color_polygons = 'rgba(25,210,242,0.1)'\n",
    "color_hexagons = 'rgba(25,210,242,0.0)'\n",
    "\n",
    "import plotly.graph_objects as go\n",
    "\n",
    "#fig = go.Figure(\n",
    "fig1 = (\n",
    "    px.choropleth_mapbox(\n",
    "        df_regions_to_h3,\n",
    "        geojson=geojson_object_hexagons,\n",
    "        locations='h3_l7',\n",
    "        #color='is_null_population',\n",
    "        color='poi_per_capita_relative_h3_l7_to_h3_l5_normalized', #'pct_area_residential',\n",
    "        #color_discrete_map = {'Los Angeles':color_hexagons,'Barcelona':color_hexagons,'London':color_hexagons,'Birmingham':color_hexagons,'Minsk':color_hexagons,'Soligorsk':color_hexagons},\n",
    "        #color_discrete_map = {0:'#000000',1:'#ff0000'},\n",
    "        color_continuous_scale=[[0,'#ffffff'],[1,'#ffa23a']], #ffbf65 #ffa23a orange\n",
    "        #color_continuous_scale='Viridis',\n",
    "        range_color=(0,max(df_regions_to_h3['poi_per_capita_relative_h3_l7_to_h3_l5_normalized'])),\n",
    "        center={\"lat\": center_lat, \"lon\": center_lon},\n",
    "        zoom=9,\n",
    "        #width=1200, \n",
    "        height=800,\n",
    "        opacity=1,\n",
    "        hover_data={'h3_l7':True,'h3_l5':True,'location':True,'population':True,'category_Randall':True,'cnt_poi_h3_l7':True,'cnt_poi_h3_l7_in_h3_l5':True,'poi_per_capita_h3_l7':True,'poi_per_capita_h3_l5':True,'poi_per_capita_relative_h3_l7_to_h3_l5':True},\n",
    "        #labels={'h3_l7':'h3_l7'}\n",
    "    )\n",
    ")\n",
    "#fig1.add_trace(\n",
    "#fig = go.Figure(\n",
    "fig = (\n",
    "    px.choropleth_mapbox(\n",
    "        df_region_polygons,\n",
    "        geojson=geojson_object_polygons,\n",
    "        locations='location',\n",
    "        color='location',\n",
    "        #color_discrete_map = {'Los Angeles':'#19D2F2','Barcelona':'#19D2F2','London':'#19D2F2','Birmingham':'#19D2F2','Minsk':'#19D2F2','Soligorsk':'#19D2F2'},\n",
    "        color_discrete_map = {'Los Angeles':color_polygons,'San Francisco':color_polygons,'Barcelona':color_polygons,'London':color_polygons,'Birmingham':color_polygons,'Minsk':color_polygons,'Soligorsk':color_polygons},\n",
    "        #color_continuous_scale=['#ffffff','#ffa23a'],\n",
    "        #color_continuous_scale='Viridis',\n",
    "        #range_color=(0,4),\n",
    "        center={\"lat\": center_lat, \"lon\": center_lon},\n",
    "        #mapbox_style='carto-positron',\n",
    "        zoom=9,\n",
    "        height=800,\n",
    "        opacity=1,\n",
    "        hover_data={'location':True},\n",
    "        #labels={'location'}\n",
    "    )\n",
    ")\n",
    "\n",
    "\n",
    "lats = []\n",
    "lons = []\n",
    "names = []\n",
    "\n",
    "for feature, name in zip(df_region_polygons['exterior_ring_shapely'], df_region_polygons['location']):\n",
    "    #print('feature: ',feature)\n",
    "    #print('name: ',name)\n",
    "    if isinstance(feature, geometry.linestring.LineString):\n",
    "        linestrings = [feature]\n",
    "    elif isinstance(feature, shapely.geometry.multilinestring.MultiLineString):\n",
    "        linestrings = feature.geoms\n",
    "    else:\n",
    "        continue\n",
    "    for linestring in linestrings:\n",
    "        #print('linestring: ', linestring)\n",
    "        x, y = linestring.xy\n",
    "        #print('x,y: ',x,y)\n",
    "        lats = np.append(lats, y)\n",
    "        lons = np.append(lons, x)\n",
    "        names = np.append(names, [name]*len(y))\n",
    "        lats = np.append(lats, None)\n",
    "        lons = np.append(lons, None)\n",
    "        names = np.append(names, None)\n",
    "#print((lats,lons,names))\n",
    "\n",
    "#fig.add_trace(\n",
    "fig3 = (\n",
    "    px.line_geo(#data_frame = pd.DataFrame({'lat':lats,'lon':lons,'name':names}),\n",
    "                #geojson='geojson_object_polygons',\n",
    "                lon = lons, \n",
    "                lat = lats,\n",
    "                #color = 'name',\n",
    "        locations=names,\n",
    "                markers = True\n",
    "                #color_discrete_map = {'Los Angeles':color_polygons,'San Francisco':color_polygons,'Barcelona':color_polygons,'London':color_polygons,'Birmingham':color_polygons,'Minsk':color_polygons,'Soligorsk':color_polygons},\n",
    "                #lat=lats, lon=lons, hover_name=names\n",
    "                  )\n",
    ")\n",
    "#fig.add_trace(\n",
    "# fig3 = (\n",
    "#     go.Scattergeo(\n",
    "#     lon = lons,\n",
    "#     lat = lats,\n",
    "#     #geojson=geojson_object_regions_exterior_lines,\n",
    "#     #locations = 'locations',\n",
    "#     mode = 'lines',\n",
    "#     line = dict(width = 4,color = color_polygons),\n",
    "#     opacity=1\n",
    "#     #opacity = float(df_flight_paths['cnt'][i]) / float(df_flight_paths['cnt'].max()),\n",
    "#         )\n",
    "# )\n",
    "# fig.add_scattermapbox(\n",
    "#     #data_frame=df_region_polygons,\n",
    "#     #colors='location',\n",
    "#     #color_discrete_map = {'Los Angeles':color_polygons,'San Francisco':color_polygons,'Barcelona':color_polygons,'London':color_polygons,'Birmingham':color_polygons,'Minsk':color_polygons,'Soligorsk':color_polygons},\n",
    "#     lat = lats,\n",
    "#     lon = lons,\n",
    "#     mode = 'lines',\n",
    "#     #text = texts,\n",
    "#     marker_size=12,\n",
    "#     marker_color='rgba(25,210,242)',\n",
    "#     fillcolor='rgba(25,210,242)'\n",
    "# )\n",
    "# fig.add_traces(go.Scattergeo(\n",
    "#     geojson = geojson_object_regions_exterior_lines,\n",
    "#     #locationmode = 'USA-states',\n",
    "#     locations='location',\n",
    "#     lon = lons,\n",
    "#     lat = lats,\n",
    "#     #hoverinfo = 'text',\n",
    "#     #text = df_airports['airport'],\n",
    "#     mode = 'lines',\n",
    "#     line = dict(\n",
    "#         width = 4,\n",
    "#         color = 'rgba(25,210,242)'\n",
    "        \n",
    "#     )))\n",
    "# map_stores = px.scatter_mapbox(\n",
    "#             data_frame = pd.DataFrame({'lat':lats,'lon':lons,'name':names}),\n",
    "#             lon = 'lon', \n",
    "#             lat = 'lat',\n",
    "#             color = 'name',\n",
    "#             #hover_name = 'Name',\n",
    "#             size_max = 20,\n",
    "#         )\n",
    "\n",
    "#fig.add_traces(list(fig3.select_traces()))\n",
    "\n",
    "\n",
    "\n",
    "############\n",
    "#fig.layout.coloraxis2 = fig1.layout.coloraxis\n",
    "\n",
    "fig3.update_traces(line=dict(color='rgba(25,210,242,1)', width=4))\n",
    "fig3.update_traces(marker_line_width=4,marker_line_color='rgba(25,210,242,1)')\n",
    "\n",
    "fig.add_traces(list(fig3.select_traces()))\n",
    "#fig.update_traces(line=dict(color='rgba(25,210,242,1)', width=4))\n",
    "\n",
    "\n",
    "# fig1.update_layout(showlegend=False)\n",
    "\n",
    "# fig.layout.coloraxis2 = fig1.layout.coloraxis\n",
    "# fig.add_trace(fig1.data[0])\n",
    "# fig.data[8]['coloraxis'] = 'coloraxis2'\n",
    "# fig.data[8]['z'] = df_regions_to_h3['poi_per_capita_relative_h3_l7_to_h3_l5_normalized']\n",
    "# #fig.layout.coloraxis2.colorbar.x = -0.2\n",
    "# fig.layout.coloraxis2.colorbar.title.text = 'PCT h3l7/h3l5'\n",
    "\n",
    "#fig.add_trace(list(fig3.select_traces()))\n",
    "\n",
    "\n",
    "#fig.update_layout(newshape_line_color='rgba(25,210,242,1)',newshape_line_width=4) #['#ffffff','#ffa23a'])\n",
    "#fig3.update_traces(marker_line_width=4,marker_line_color='rgba(25,210,242,1)')\n",
    "\n",
    "#fig.add_trace(fig3.data[0])\n",
    "#fig.update_traces(color_continuous_scale=['#ffffff','#ffa23a'])\n",
    "#fig.update_layout(colorscale_sequential=[[0,'#ffffff'],[1,'#ffa23a']])\n",
    "\n",
    "\n",
    "# fig['data'][1]['marker'] = {'color' : np.array(df_region_polygons['location']),\n",
    "#                             'coloraxis' : 'coloraxis2',\n",
    "#                             'opacity' : 1,\n",
    "#                             'sizemode' : 'area',\n",
    "#                             'sizeref' : .01,\n",
    "#                             'autocolorscale' : False\n",
    "#                            }\n",
    "#fig.layout.coloraxis2.colorbar.x = -0.2\n",
    "#fig.update_layout(colorscale_sequential=[[0, 'rgb(220,220,220)'], [0.2, 'rgb(245,195,157)'], [0.4, 'rgb(245,160,105)'], [1, 'rgb(178,10,28)'], ]) #['#ffffff','#ffa23a'])\n",
    "\n",
    "#fig.update_geos(fitbounds=\"locations\")\n",
    "fig.update_layout(mapbox_style=\"carto-positron\")\n",
    "# fig.update_layout(legend=dict(\n",
    "#     title=\"Locations\",\n",
    "#     font=dict(\n",
    "#         family=\"Consolas\",\n",
    "#         size=10,\n",
    "#         color=\"black\"\n",
    "#     )\n",
    "# ))\n",
    "\n",
    "\n",
    "\n",
    "# 'open-street-map', 'white-bg', 'carto-positron', 'carto-darkmatter', 'stamen- terrain', 'stamen-toner', 'stamen-watercolor'\n",
    "fig3.show()\n"
   ]
  },
  {
   "cell_type": "code",
   "execution_count": 302,
   "id": "2bcff34f",
   "metadata": {},
   "outputs": [
    {
     "data": {
      "text/plain": [
       "(Scattergeo({\n",
       "     'geo': 'geo',\n",
       "     'hovertemplate': 'lat=%{lat}<br>lon=%{lon}<br>locations=%{location}<extra></extra>',\n",
       "     'lat': array([51.7298297, 51.3866037, 51.1640971, 51.201113, 51.5431696, 51.8105622,\n",
       "                   51.7298297, None, 52.6693307, 52.4104047, 52.2812087, 52.3584361,\n",
       "                   52.6526719, 52.6943071, 52.6693307, None, 52.8686898, 52.7774063,\n",
       "                   52.6292865, 52.6959194, 52.8703477, 52.8686898, None, 54.0744289,\n",
       "                   53.8951654, 53.7460014, 53.7995669, 54.0276688, 54.0744289, None,\n",
       "                   37.7601185, 37.691688, 37.5502822, 37.4879193, 37.4277254, 37.4696696,\n",
       "                   37.5404826, 37.6536437, 37.7829147, 37.9422909, 38.0667325, 38.0786246,\n",
       "                   38.0483501, 37.9606999, 37.8404166, 37.7601185, None, 34.0412527,\n",
       "                   34.0025533, 33.8715278, 33.7486871, 33.6866649, 33.7330527, 33.8681071,\n",
       "                   34.0230434, 34.2367495, 34.3660829, 34.3151722, 34.0412527, None,\n",
       "                   41.2648057, 41.2581181, 41.2658379, 41.2957653, 41.3401173, 41.4544654,\n",
       "                   41.498194, 41.5118465, 41.400922, 41.2648057, None], dtype=object),\n",
       "     'legendgroup': '',\n",
       "     'line': {'color': 'rgba(25,210,242,1)', 'dash': 'solid', 'width': 4},\n",
       "     'locations': array(['London', 'London', 'London', 'London', 'London', 'London', 'London',\n",
       "                         None, 'Birmingham', 'Birmingham', 'Birmingham', 'Birmingham',\n",
       "                         'Birmingham', 'Birmingham', 'Birmingham', None, 'Soligorsk',\n",
       "                         'Soligorsk', 'Soligorsk', 'Soligorsk', 'Soligorsk', 'Soligorsk', None,\n",
       "                         'Minsk', 'Minsk', 'Minsk', 'Minsk', 'Minsk', 'Minsk', None,\n",
       "                         'San Francisco', 'San Francisco', 'San Francisco', 'San Francisco',\n",
       "                         'San Francisco', 'San Francisco', 'San Francisco', 'San Francisco',\n",
       "                         'San Francisco', 'San Francisco', 'San Francisco', 'San Francisco',\n",
       "                         'San Francisco', 'San Francisco', 'San Francisco', 'San Francisco',\n",
       "                         None, 'Los Angeles', 'Los Angeles', 'Los Angeles', 'Los Angeles',\n",
       "                         'Los Angeles', 'Los Angeles', 'Los Angeles', 'Los Angeles',\n",
       "                         'Los Angeles', 'Los Angeles', 'Los Angeles', 'Los Angeles', None,\n",
       "                         'Barcelona', 'Barcelona', 'Barcelona', 'Barcelona', 'Barcelona',\n",
       "                         'Barcelona', 'Barcelona', 'Barcelona', 'Barcelona', 'Barcelona', None],\n",
       "                        dtype=object),\n",
       "     'lon': array([-0.5580103, -0.7186854, -0.4742396, 0.2082861, 0.481571, 0.1258886,\n",
       "                   -0.5580103, None, -2.2007212, -2.3215708, -2.0386729, -1.5992197,\n",
       "                   -1.5635142, -2.143043, -2.2007212, None, 27.4271169, 27.2939077,\n",
       "                   27.4408498, 27.7457204, 27.6715627, 27.4271169, None, 27.3886889,\n",
       "                   27.0920581, 27.4243945, 27.9105395, 27.9242724, 27.3886889, None,\n",
       "                   -122.5845595, -122.5763197, -122.5337477, -122.5137851, -122.4636677,\n",
       "                   -122.2961683, -122.1354933, -121.9954176, -122.0050306, -122.1148939,\n",
       "                   -122.2343702, -122.3964186, -122.5886793, -122.6188917, -122.5927992,\n",
       "                   -122.5845595, None, -118.662229, -118.5276465, -118.4328894,\n",
       "                   -118.4448156, -118.2860618, -118.193246, -117.9948096, -117.8670936,\n",
       "                   -117.932909, -118.1884436, -118.6684503, -118.662229, None, 1.9590174,\n",
       "                   2.028368, 2.103213, 2.1697906, 2.19797, 2.2686945, 2.1835505, 2.0231726,\n",
       "                   1.9528376, 1.9590174, None], dtype=object),\n",
       "     'marker': {'line': {'color': 'rgba(25,210,242,1)', 'width': 4}, 'symbol': 'circle'},\n",
       "     'mode': 'markers+lines',\n",
       "     'name': '',\n",
       "     'showlegend': False\n",
       " }),)"
      ]
     },
     "execution_count": 302,
     "metadata": {},
     "output_type": "execute_result"
    }
   ],
   "source": [
    "fig3.data\n"
   ]
  },
  {
   "cell_type": "code",
   "execution_count": null,
   "id": "33ae3f0a",
   "metadata": {},
   "outputs": [],
   "source": [
    "geojson_object_hexagons\n"
   ]
  }
 ],
 "metadata": {
  "kernelspec": {
   "display_name": "env",
   "language": "python",
   "name": "env"
  },
  "language_info": {
   "codemirror_mode": {
    "name": "ipython",
    "version": 3
   },
   "file_extension": ".py",
   "mimetype": "text/x-python",
   "name": "python",
   "nbconvert_exporter": "python",
   "pygments_lexer": "ipython3",
   "version": "3.7.4"
  }
 },
 "nbformat": 4,
 "nbformat_minor": 5
}
