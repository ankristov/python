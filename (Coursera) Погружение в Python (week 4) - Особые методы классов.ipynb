{
 "cells": [
  {
   "cell_type": "markdown",
   "metadata": {},
   "source": [
    "# Магические методы\n"
   ]
  },
  {
   "cell_type": "markdown",
   "metadata": {},
   "source": [
    "### `__init()__`"
   ]
  },
  {
   "cell_type": "code",
   "execution_count": 2,
   "metadata": {},
   "outputs": [
    {
     "name": "stdout",
     "output_type": "stream",
     "text": [
      "{'name': 'Jane Doe', 'email': 'janedoe@example.com'}\n"
     ]
    }
   ],
   "source": [
    "# __init()__\n",
    "class User:\n",
    "    def __init__(self, name, email):\n",
    "        self.name = name\n",
    "        self.email = email\n",
    "    def get_email_data(self):\n",
    "        return {\n",
    "            'name': self.name,\n",
    "            'email': self.email\n",
    "        }\n",
    "jane = User('Jane Doe', 'janedoe@example.com')\n",
    "\n",
    "print(jane.get_email_data())"
   ]
  },
  {
   "cell_type": "markdown",
   "metadata": {},
   "source": [
    "### `__new__`"
   ]
  },
  {
   "cell_type": "code",
   "execution_count": 4,
   "metadata": {},
   "outputs": [
    {
     "name": "stdout",
     "output_type": "stream",
     "text": [
      "True\n"
     ]
    }
   ],
   "source": [
    "# __new__()\n",
    "class Singleton:\n",
    "    instance = None\n",
    "    \n",
    "    def __new__(cls):\n",
    "        if cls.instance is None:\n",
    "            cls.instance = super().__new__(cls)\n",
    "        return cls.instance\n",
    "    \n",
    "a = Singleton()\n",
    "b = Singleton()\n",
    "\n",
    "print(a is b)\n",
    "        "
   ]
  },
  {
   "cell_type": "markdown",
   "metadata": {},
   "source": [
    "### `__str__`\n",
    "Определяет человеко-читаемое описание нашего класса"
   ]
  },
  {
   "cell_type": "code",
   "execution_count": 6,
   "metadata": {},
   "outputs": [
    {
     "name": "stdout",
     "output_type": "stream",
     "text": [
      "Jane Doe <janedoe@example.com>\n"
     ]
    }
   ],
   "source": [
    "class User:\n",
    "    def __init__(self, name, email):\n",
    "        self.name = name\n",
    "        self.email = email\n",
    "    def __str__(self):\n",
    "        return '{} <{}>'.format(self.name, self.email)\n",
    "\n",
    "jane = User('Jane Doe', 'janedoe@example.com')\n",
    "print(jane)\n",
    "\n"
   ]
  },
  {
   "cell_type": "markdown",
   "metadata": {},
   "source": [
    "### `__hash__, __eq__`\n",
    "Определяют как сравниваются наши объекты и что происходит при вызове функции hash()"
   ]
  },
  {
   "cell_type": "code",
   "execution_count": 22,
   "metadata": {},
   "outputs": [
    {
     "name": "stdout",
     "output_type": "stream",
     "text": [
      "True\n",
      "-7004153980191167432\n",
      "-7004153980191167432\n",
      "{<__main__.User object at 0x107be4150>: 'Joe Doe'}\n"
     ]
    }
   ],
   "source": [
    "class User:\n",
    "    def __init__(self, name, email):\n",
    "        self.name = name\n",
    "        self.email = email\n",
    "    def __hash__(self):\n",
    "        return hash(self.email)\n",
    "        #return hash(self.name)\n",
    "    def __eq__(self, obj):\n",
    "        return self.email ==  obj.email\n",
    "    \n",
    "jane = User('Jane Doe', 'jdoe@example.com')\n",
    "joe = User('Joe Doe', 'jdoe@example.com')\n",
    "\n",
    "print(jane == joe)\n",
    "\n",
    "print(hash(jane)) # hash is the same\n",
    "print(hash(joe))\n",
    "\n",
    "# если мы попытаемся создать словарь из этих экземпляров то ключ будет только один, так как hash одинаковый так как он генерируется на основе email, который одинаков\n",
    "# (попробуй вернуть из hash уникальное значение)\n",
    "user_email_map = {user: user.name for user in [jane, joe]}\n",
    "print(user_email_map)"
   ]
  },
  {
   "cell_type": "markdown",
   "metadata": {},
   "source": [
    "### `__getattr__, __getattribute__, `\n",
    "### `__setattr__, __delattr__`"
   ]
  },
  {
   "cell_type": "code",
   "execution_count": 57,
   "metadata": {},
   "outputs": [
    {
     "name": "stdout",
     "output_type": "stream",
     "text": [
      "nope\n",
      "nope\n"
     ]
    }
   ],
   "source": [
    "class Researcher:\n",
    "    def __getattr__(self, name): # вызывется тогда, когда не найден атрибут\n",
    "        return 'Nothing found :('\n",
    "    def __getattribute__(self, name): # вызывается всегда, когда мы обращаемся к атрибуту, существующему или нет; можно использовать для логирования обращений\n",
    "        return 'nope'\n",
    "    \n",
    "obj = Researcher()\n",
    "print(obj.attr)\n",
    "print(obj.method)\n",
    "\n"
   ]
  },
  {
   "cell_type": "code",
   "execution_count": 59,
   "metadata": {},
   "outputs": [
    {
     "name": "stdout",
     "output_type": "stream",
     "text": [
      "Looking for attr\n",
      "Nothing found :(\n",
      "Looking for method\n",
      "Nothing found :(\n"
     ]
    }
   ],
   "source": [
    "class Researcher:\n",
    "    # вызывется тогда, когда не найден атрибут\n",
    "    def __getattr__(self, name): \n",
    "        return 'Nothing found :('\n",
    "    # вызывается всегда, когда мы обращаемся к атрибуту, существующему или нет; можно использовать для логирования обращений\n",
    "    def __getattribute__(self, name): \n",
    "        print('Looking for {}'.format(name))\n",
    "         #return object.__getattribute__(self, name)\n",
    "        return object.__getattribute__(self, name)\n",
    "    \n",
    "obj = Researcher()\n",
    "print(obj.attr)\n",
    "print(obj.method)\n",
    "\n"
   ]
  },
  {
   "cell_type": "code",
   "execution_count": 42,
   "metadata": {},
   "outputs": [
    {
     "name": "stdout",
     "output_type": "stream",
     "text": [
      "Setting attribute... Not gonna set 'math'!\n"
     ]
    }
   ],
   "source": [
    "# __settattr__ вызывается всегда при присваивании значения атрибуту\n",
    "class Ignorant:\n",
    "    def __setattr__(self, name, value):\n",
    "        print(\"Setting attribute... Not gonna set '{}'!\".format(name))\n",
    "        \n",
    "obj = Ignorant()\n",
    "obj.math = True"
   ]
  },
  {
   "cell_type": "code",
   "execution_count": 43,
   "metadata": {},
   "outputs": [
    {
     "name": "stdout",
     "output_type": "stream",
     "text": [
      "Godbye attr, you were 10!\n"
     ]
    }
   ],
   "source": [
    "# __delattr__ вызывается когда мы пытаемся удалить атрибут\n",
    "# используется когда мы хотим переопределить поведение удалятора, например, каскадно удалить другие объекты\n",
    "class Polite:\n",
    "    def __delattr__(self, name):\n",
    "        value = getattr(self, name)\n",
    "        print(f'Goodbye {name}, you were {value}!')\n",
    "        object.__delattr__(self, name)\n",
    "\n",
    "obj = Polite()\n",
    "obj.attr = 10\n",
    "del obj.attr\n",
    "\n"
   ]
  },
  {
   "cell_type": "markdown",
   "metadata": {},
   "source": [
    "### `__call__`"
   ]
  },
  {
   "cell_type": "code",
   "execution_count": 60,
   "metadata": {},
   "outputs": [
    {
     "name": "stdout",
     "output_type": "stream",
     "text": [
      "Class Logger was called at 2020-07-10 18:41:09.230562\n"
     ]
    }
   ],
   "source": [
    "# определяет поведение когда наш класс вызывается\n",
    "# например мы можем определить класс Loger который будет в качестве декоратора вызываться при вызове какой-либо функции для логирования определенных действий\n",
    "import datetime\n",
    "\n",
    "class Logger:\n",
    "    def __init__(self, filename):\n",
    "        self.filename = filename\n",
    "        \n",
    "    def __call__(self, func):\n",
    "        with open(self.filename, 'w') as f:\n",
    "            f.write('Class Logger was called at {}'.format(datetime.datetime.now()))\n",
    "        return func\n",
    "    \n",
    "logger = Logger('/Users/Andrew/Desktop/log1.txt')\n",
    "\n",
    "@logger\n",
    "def completely_useless_function():\n",
    "    pass\n",
    "\n",
    "completely_useless_function()\n",
    "\n",
    "with open('/Users/Andrew/Desktop/log1.txt', 'r') as f:\n",
    "    print(f.read())"
   ]
  },
  {
   "cell_type": "markdown",
   "metadata": {},
   "source": [
    "В этом примере, к сожалению, допущена ошибка. При определении метода __call__, мы меняем поведение объекта класса при его вызове с помощью круглых скобочек. В данном примере объект logger вызывается, когда используется как декоратор, то есть при определении \"бессмысленной\" функции. Таким образом мы записываем в файл не вызов функции, а применение объекта в качестве декоратора. Для логирования вызовов функции код должен был быть примерно такой:"
   ]
  },
  {
   "cell_type": "code",
   "execution_count": 51,
   "metadata": {},
   "outputs": [
    {
     "name": "stdout",
     "output_type": "stream",
     "text": [
      "Logging function call...\n"
     ]
    }
   ],
   "source": [
    "class Logger:\n",
    "    def __init__(self, filename):\n",
    "        self.filename = filename\n",
    "        \n",
    "    def __call__(self, func):\n",
    "        def wrapped(*args, **kwargs):\n",
    "            with open(self.filename, 'w') as f:\n",
    "                f.write('Logging function call...')\n",
    "        \n",
    "            return func(*args, *kwargs)\n",
    "        return wrapped\n",
    "    \n",
    "logger = Logger('/Users/Andrew/Desktop/log1.txt')\n",
    "\n",
    "@logger\n",
    "def completely_useless_function():\n",
    "    pass\n",
    "\n",
    "completely_useless_function()\n",
    "\n",
    "with open('/Users/Andrew/Desktop/log1.txt', 'r') as f:\n",
    "    print(f.read())"
   ]
  },
  {
   "cell_type": "markdown",
   "metadata": {},
   "source": [
    "### `__add__`"
   ]
  },
  {
   "cell_type": "code",
   "execution_count": 54,
   "metadata": {},
   "outputs": [
    {
     "name": "stdout",
     "output_type": "stream",
     "text": [
      "29.948661633259537\n",
      "29.58237378221851\n",
      "29.92500999661754\n"
     ]
    }
   ],
   "source": [
    "import random\n",
    "\n",
    "class NoisyInt:\n",
    "    def __init__(self, value):\n",
    "        self.value = value\n",
    "    def __add__(self, obj):\n",
    "        noise = random.uniform(-1, 1)\n",
    "        return self.value + obj.value + noise\n",
    "    \n",
    "a = NoisyInt(10)\n",
    "b = NoisyInt(20)\n",
    "\n",
    "for _ in range(3):\n",
    "    print(a + b)"
   ]
  },
  {
   "cell_type": "markdown",
   "metadata": {},
   "source": [
    "### `__getitem__, __setitem__`"
   ]
  },
  {
   "cell_type": "code",
   "execution_count": 56,
   "metadata": {},
   "outputs": [
    {
     "name": "stdout",
     "output_type": "stream",
     "text": [
      "1\n",
      "5\n"
     ]
    }
   ],
   "source": [
    "# в Паскале листы индексируются с 1. Создадим класс который имитирует их\n",
    "class PascalList:\n",
    "    def __init__(self, original_list = None):\n",
    "        self.container = original_list or []\n",
    "        \n",
    "    def __getitem__(self, index):\n",
    "        return self.container[index - 1]\n",
    "    def __setitem__(self, index, value):\n",
    "        self.container[index - 1] = value\n",
    "    def __str__(self):\n",
    "        return self.container.__str__()\n",
    "    \n",
    "numbers = PascalList([1,2,3,4,5])\n",
    "\n",
    "print(numbers[1])\n",
    "print(numbers[5])"
   ]
  },
  {
   "cell_type": "markdown",
   "metadata": {},
   "source": [
    "# Итераторы\n"
   ]
  },
  {
   "cell_type": "code",
   "execution_count": 61,
   "metadata": {},
   "outputs": [
    {
     "name": "stdout",
     "output_type": "stream",
     "text": [
      "0\n",
      "1\n",
      "2\n",
      "3\n",
      "4\n"
     ]
    }
   ],
   "source": [
    "for number in range(5):\n",
    "    print(number)"
   ]
  },
  {
   "cell_type": "code",
   "execution_count": 63,
   "metadata": {},
   "outputs": [
    {
     "name": "stdout",
     "output_type": "stream",
     "text": [
      "p - 112\n",
      "y - 121\n",
      "t - 116\n",
      "h - 104\n",
      "o - 111\n",
      "n - 110\n"
     ]
    }
   ],
   "source": [
    "for letter in 'python':\n",
    "    print('{0} - {1}'.format(letter, ord(letter)))"
   ]
  },
  {
   "cell_type": "code",
   "execution_count": 65,
   "metadata": {},
   "outputs": [
    {
     "name": "stdout",
     "output_type": "stream",
     "text": [
      "1\n",
      "2\n",
      "3\n"
     ]
    }
   ],
   "source": [
    "# можно создать свой итератор\n",
    "iterator = iter([1,2,3])\n",
    "print(next(iterator))\n",
    "print(next(iterator))\n",
    "print(next(iterator))"
   ]
  },
  {
   "cell_type": "code",
   "execution_count": 67,
   "metadata": {},
   "outputs": [
    {
     "name": "stdout",
     "output_type": "stream",
     "text": [
      "Andrei\n",
      "Maxim\n",
      "Sergei\n"
     ]
    },
    {
     "ename": "StopIteration",
     "evalue": "",
     "output_type": "error",
     "traceback": [
      "\u001b[0;31m-----------------------------------------------------------------\u001b[0m",
      "\u001b[0;31mStopIteration\u001b[0m                   Traceback (most recent call last)",
      "\u001b[0;32m<ipython-input-67-4def46a2b0fa>\u001b[0m in \u001b[0;36m<module>\u001b[0;34m\u001b[0m\n\u001b[1;32m      3\u001b[0m \u001b[0mprint\u001b[0m\u001b[0;34m(\u001b[0m\u001b[0mnext\u001b[0m\u001b[0;34m(\u001b[0m\u001b[0miterator\u001b[0m\u001b[0;34m)\u001b[0m\u001b[0;34m)\u001b[0m\u001b[0;34m\u001b[0m\u001b[0;34m\u001b[0m\u001b[0m\n\u001b[1;32m      4\u001b[0m \u001b[0mprint\u001b[0m\u001b[0;34m(\u001b[0m\u001b[0mnext\u001b[0m\u001b[0;34m(\u001b[0m\u001b[0miterator\u001b[0m\u001b[0;34m)\u001b[0m\u001b[0;34m)\u001b[0m\u001b[0;34m\u001b[0m\u001b[0;34m\u001b[0m\u001b[0m\n\u001b[0;32m----> 5\u001b[0;31m \u001b[0mprint\u001b[0m\u001b[0;34m(\u001b[0m\u001b[0mnext\u001b[0m\u001b[0;34m(\u001b[0m\u001b[0miterator\u001b[0m\u001b[0;34m)\u001b[0m\u001b[0;34m)\u001b[0m\u001b[0;34m\u001b[0m\u001b[0;34m\u001b[0m\u001b[0m\n\u001b[0m",
      "\u001b[0;31mStopIteration\u001b[0m: "
     ]
    }
   ],
   "source": [
    "iterator = iter(['Andrei','Maxim','Sergei'])\n",
    "print(next(iterator))\n",
    "print(next(iterator))\n",
    "print(next(iterator))\n",
    "print(next(iterator))"
   ]
  },
  {
   "cell_type": "markdown",
   "metadata": {},
   "source": [
    "В Python можно реализовать свой итератор написав класс с соответсвующими методами"
   ]
  },
  {
   "cell_type": "code",
   "execution_count": 68,
   "metadata": {},
   "outputs": [
    {
     "name": "stdout",
     "output_type": "stream",
     "text": [
      "1\n",
      "4\n",
      "9\n"
     ]
    }
   ],
   "source": [
    "class SquareIterator:\n",
    "    def __init__(self, start, end):\n",
    "        self.current = start\n",
    "        self.end = end\n",
    "    def __iter__(self):\n",
    "        return self\n",
    "    def __next__(self):  # определяет, что возвращается при следующей итерации\n",
    "        if self.current >= self.end:\n",
    "            raise StopIteration\n",
    "        result = self.current ** 2\n",
    "        self.current += 1\n",
    "        return result\n",
    "    \n",
    "for num in SquareIterator(1,4):\n",
    "    print(num)\n",
    "    "
   ]
  },
  {
   "cell_type": "markdown",
   "metadata": {},
   "source": [
    "Можно определить свой класс-итератор и без определения iter и next"
   ]
  },
  {
   "cell_type": "code",
   "execution_count": 69,
   "metadata": {},
   "outputs": [
    {
     "name": "stdout",
     "output_type": "stream",
     "text": [
      "s\n",
      "t\n",
      "r\n"
     ]
    }
   ],
   "source": [
    "class IndexIterable:\n",
    "    def __init__(self, obj):\n",
    "        self.obj = obj\n",
    "    def __getitem__(self, index):\n",
    "        return self.obj[index]\n",
    "    \n",
    "for letter in IndexIterable('str'):\n",
    "    print(letter)"
   ]
  },
  {
   "cell_type": "markdown",
   "metadata": {},
   "source": [
    "# Контекстные менеджеры"
   ]
  },
  {
   "cell_type": "code",
   "execution_count": null,
   "metadata": {
    "collapsed": true
   },
   "outputs": [],
   "source": [
    "# простейший контекстный менеджер\n",
    "with open('access_log.log', 'a') as f:\n",
    "    f.write('New Access')"
   ]
  },
  {
   "cell_type": "code",
   "execution_count": 1,
   "metadata": {},
   "outputs": [
    {
     "name": "stdout",
     "output_type": "stream",
     "text": [
      "Inside `open_file` context manger\n"
     ]
    }
   ],
   "source": [
    "# Для определения своего контекстного менеджера необходимо определить класс с особыми магическими методами\n",
    "class open_file: # начитается малой буквы так как это контекстный менеджер\n",
    "    def __init__(self, filename, mode):\n",
    "        self.f = open(filename, mode)\n",
    "    def __enter__(self): # определяет что происходит в начале\n",
    "        return self.f  # то что записывается в переменную file (смотри ниже)\n",
    "    def __exit__(self, *args): # определяет что присходит в конце\n",
    "        self.f.close()\n",
    "        \n",
    "with open_file('/Users/Andrew/Documents/python/working/data/test.log', 'w') as file:\n",
    "    file.write('Inside `open_file` context manger')\n",
    "    \n",
    "with open_file('/Users/Andrew/Documents/python/working/data/test.log', 'r') as file:\n",
    "    print(file.read())"
   ]
  },
  {
   "cell_type": "markdown",
   "metadata": {},
   "source": [
    "Еще одна важная особенность контекстных менеджеров - они позволяют управлять искючениями которые произошли внутри блока"
   ]
  },
  {
   "cell_type": "code",
   "execution_count": 6,
   "metadata": {},
   "outputs": [
    {
     "name": "stdout",
     "output_type": "stream",
     "text": [
      "Nothing bad happend.. continue.\n"
     ]
    }
   ],
   "source": [
    "class suppress_exception:\n",
    "    def __init__(self, exc_type):\n",
    "        self.exc_type = exc_type\n",
    "    def __enter__(self):\n",
    "        return\n",
    "    def __exit__(self, exc_type, exc_value, traceback):\n",
    "        if exc_type == self.exc_type:\n",
    "            print('Nothing bad happend.. continue.')\n",
    "            return True\n",
    "    \n",
    "\n",
    "with suppress_exception(ZeroDivisionError):\n",
    "    really_big_number = 1/0\n",
    "    print(really_big_number)\n"
   ]
  },
  {
   "cell_type": "markdown",
   "metadata": {},
   "source": [
    "Такой контекстный менеджер уже есть в стандартной библиотеке"
   ]
  },
  {
   "cell_type": "code",
   "execution_count": 7,
   "metadata": {
    "collapsed": true
   },
   "outputs": [],
   "source": [
    "import contextlib\n",
    "\n",
    "with contextlib.suppress(ValueError):\n",
    "    raise ValueError"
   ]
  },
  {
   "cell_type": "markdown",
   "metadata": {},
   "source": [
    "### Пример: напишем контекстный менеджер который считает и выводит время, проведенное внутри его"
   ]
  },
  {
   "cell_type": "code",
   "execution_count": 20,
   "metadata": {},
   "outputs": [
    {
     "name": "stdout",
     "output_type": "stream",
     "text": [
      "Current time: 1.001657247543335\n",
      "Elapsed time: 2.0059990882873535\n"
     ]
    }
   ],
   "source": [
    "import time\n",
    "\n",
    "class timer():\n",
    "    def __init__(self):\n",
    "        self.start = time.time()\n",
    "    def current_time(self):\n",
    "        return time.time() - self.start\n",
    "    \n",
    "    def __enter__(self):\n",
    "        return self\n",
    "    def __exit__(self, *args):\n",
    "        print('Elapsed time: {}'.format(self.current_time()))\n",
    "    \n",
    "with timer() as t:\n",
    "    #print('123')\n",
    "    time.sleep(1)\n",
    "    print('Current time: {}'.format(t.current_time()))\n",
    "    time.sleep(1)"
   ]
  },
  {
   "cell_type": "markdown",
   "metadata": {},
   "source": [
    "# Programming Assignment: Файл с магическими методами\n",
    "В этом задании вам нужно создать интерфейс для работы с файлами. Интерфейс должен предоставлять следующие возможности по работе с файлами:\n",
    "\n",
    "- чтение из файла, метод read возвращает строку с текущим содержанием файла\n",
    "\n",
    "- запись в файл, метод write принимает в качестве аргумента строку с новым содержанием файла\n",
    "\n",
    "- сложение объектов типа File, результатом сложения является объект класса File, при этом создается новый файл и файловый объект, в котором содержимое второго файла добавляется к содержимому первого файла. Новый файл должен создаваться в директории, полученной с помощью функции tempfile.gettempdir (https://docs.python.org/3/library/tempfile.html). Для получения нового пути можно использовать os.path.join (https://docs.python.org/3/library/os.path.html#os.path.join).\n",
    "\n",
    "- возвращать в качестве строкового представления объекта класса File полный путь до файла\n",
    "\n",
    "- поддерживать протокол итерации, причем итерация проходит по строкам файла\n",
    "\n",
    "При создании экземпляра класса File в конструктор передается полный путь до файла на файловой системе. Если файла с таким путем не существует, он должен быть создан при инициализации.\n",
    "\n"
   ]
  },
  {
   "cell_type": "code",
   "execution_count": 75,
   "metadata": {
    "collapsed": true
   },
   "outputs": [],
   "source": [
    "import tempfile\n",
    "import os\n",
    "tempfile.tempdir = '/Users/Andrew/tmp'\n",
    "tempfile.gettempdir()\n",
    "\n",
    "class File:\n",
    "    def __init__(self, path):\n",
    "        self.path = path\n",
    "        \n",
    "        #print(os.path.exists(self.path))\n",
    "        if not os.path.exists(self.path):\n",
    "            with open(self.path, 'w') as f:\n",
    "                f.write('')\n",
    "    def read(self):\n",
    "        with open(self.path, 'r') as f:\n",
    "                result = f.read()\n",
    "        #try:\n",
    "        #    with open(self.path, 'r') as f:\n",
    "        #        result = f.read()\n",
    "        #except FileNotFoundError:\n",
    "        #    print('Sorry, there is no such file')\n",
    "        #    result = ''\n",
    "        return result\n",
    "    def write(self, string):\n",
    "        with open(self.path, 'w') as f:\n",
    "            f.write(string)\n",
    "    def __add__(self, obj):\n",
    "        new_path = os.path.join(tempfile.gettempdir(), 'file3.txt')\n",
    "        file_obj_new = File(new_path)\n",
    "        file_obj_new.write(self.read() + obj.read())  \n",
    "        return file_obj_new\n",
    "    def __str__(self):\n",
    "        return self.path\n",
    "    def __iter__(self):\n",
    "        self.file = open(self.path, 'r')\n",
    "        #with open(self.path, 'r') as f:\n",
    "        #       list_of_lines = f.readlines()\n",
    "        #return list_of_lines\n",
    "        return self\n",
    "    def __next__(self):\n",
    "        line = self.file.readline()\n",
    "        if line == '':\n",
    "            self.file.close()\n",
    "            raise StopIteration\n",
    "        return line\n",
    "    \n"
   ]
  },
  {
   "cell_type": "markdown",
   "metadata": {},
   "source": [
    "### Testing"
   ]
  },
  {
   "cell_type": "code",
   "execution_count": 77,
   "metadata": {},
   "outputs": [
    {
     "name": "stdout",
     "output_type": "stream",
     "text": [
      "1. file_obj.read(): some text\n",
      "2. os.path.exists(path):  True\n",
      "3. file_obj.read():  some text\n",
      "4. file_obj_new:  /Users/Andrew/tmp/file3.txt\n",
      "5. file_obj_new.read():  line 1 \n",
      "line 2 \n",
      "\n",
      "6. reading lines iterating through file\n",
      "line 1 \n",
      "\n",
      "line 2 \n",
      "\n"
     ]
    }
   ],
   "source": [
    "import os.path\n",
    "\n",
    "path = '/Users/Andrew/tmp/file'\n",
    "os.path.exists(path)\n",
    "\n",
    "# 1\n",
    "file_obj = File(path)\n",
    "print('1. file_obj.read():', file_obj.read())\n",
    "\n",
    "# 2\n",
    "print('2. os.path.exists(path): ', os.path.exists(path))\n",
    "\n",
    "# 3\n",
    "file_obj.write('some text')\n",
    "print('3. file_obj.read(): ', file_obj.read())\n",
    "\n",
    "# 4\n",
    "file_obj_1 = File(path + '_1')\n",
    "file_obj_2 = File(path + '_2')\n",
    "file_obj_1.write('line 1 \\n')\n",
    "file_obj_2.write('line 2 \\n')\n",
    "file_obj_new = file_obj_1 + file_obj_2\n",
    "isinstance(file_obj_new, File)\n",
    "print('4. file_obj_new: ', file_obj_new)\n",
    "print('5. file_obj_new.read(): ', file_obj_new.read())\n",
    "\n",
    "# 6\n",
    "print('6. reading lines iterating through file')\n",
    "for line in file_obj_new:\n",
    "    print(line)"
   ]
  },
  {
   "cell_type": "code",
   "execution_count": 69,
   "metadata": {},
   "outputs": [
    {
     "name": "stdout",
     "output_type": "stream",
     "text": [
      "line 1 \n",
      "\n",
      "line 2 \n",
      "\n",
      "\n"
     ]
    }
   ],
   "source": [
    "f = open('/Users/Andrew/tmp/file3.txt', 'r')\n",
    "print(f.readline())\n",
    "print(f.readline())\n",
    "print(f.readline())\n",
    "\n",
    "f."
   ]
  },
  {
   "cell_type": "markdown",
   "metadata": {},
   "source": [
    "# Дескрипторы\n",
    "С помощью дескрипторов в Python реализована практически вся магия при работе с объектами, классами и методами. Чтобы определить свой собственный дескриптор, нужно определить класс. методы __get__, __set__ или __delete__. После этого мы можем создать какой-то новый класс и в атрибут этого класса записать объект типа дескриптор.\n",
    "\n",
    "Документация: https://docs.python.org/3/howto/descriptor.html"
   ]
  },
  {
   "cell_type": "code",
   "execution_count": null,
   "metadata": {},
   "outputs": [],
   "source": [
    "class Descriptor:\n",
    "    def __get__(self, obj, obj_type):\n",
    "        print('get')\n",
    "    def __set__(self, obj, value):\n",
    "        print('set')\n",
    "    def __delete__(self, obj):\n",
    "        print('delete')\n",
    "        \n",
    "class Class:\n",
    "    attr = Descriptor()\n",
    "    \n",
    "instance = Class()"
   ]
  },
  {
   "cell_type": "markdown",
   "metadata": {},
   "source": [
    "Таким образом, Python позволяет вам переопределять поведение при доступе к атрибуту. Это очень мощная концепция, мощный механизм, который позволяет вам незаметно от пользователя определять различные поведения в ваших классах. "
   ]
  },
  {
   "cell_type": "code",
   "execution_count": 7,
   "metadata": {},
   "outputs": [
    {
     "name": "stdout",
     "output_type": "stream",
     "text": [
      "__get__ <__main__.Class object at 0x1065cf310>\n",
      "__get__ <class '__main__.Class'>\n",
      "100\n"
     ]
    }
   ],
   "source": [
    "class Value:\n",
    "    def __init__(self):\n",
    "        self.value = None\n",
    "    @staticmethod\n",
    "    def _prepare_value(value):\n",
    "        return value * 10\n",
    "    def __get__(self, obj, obj_type): # obj - объект который вызвал дескриптор, obj_type - его тип\n",
    "        print('__get__', obj)\n",
    "        print('__get__', obj_type)\n",
    "        return self.value\n",
    "    def __set__(self, obj, value):\n",
    "        self.value = self._prepare_value(value)\n",
    "        #print('__set__', obj)\n",
    "        \n",
    "\n",
    "\n",
    "class Class:\n",
    "    attr = Value()\n",
    "    \n",
    "instance = Class()\n",
    "instance.attr = 10\n",
    "print(instance.attr)"
   ]
  },
  {
   "cell_type": "markdown",
   "metadata": {},
   "source": [
    "### Пример: написать декскриптор, который пишет в файл все присваиваемые ему значения"
   ]
  },
  {
   "cell_type": "code",
   "execution_count": 14,
   "metadata": {},
   "outputs": [
    {
     "name": "stdout",
     "output_type": "stream",
     "text": [
      "2020-07-13 18:21:50.638374 - 150\n",
      "\n"
     ]
    }
   ],
   "source": [
    "import datetime\n",
    "\n",
    "class ImportantValue:\n",
    "    def __init__(self, amount):\n",
    "        self.amount = amount\n",
    "    def __get__(self, obj, obj_type):\n",
    "        pass\n",
    "    def __set__(self, obj, value):    \n",
    "        with open('data/log.txt', 'w') as f:\n",
    "            f.write('{} - {}\\n'.format(datetime.datetime.now(), str(value)))\n",
    "        self.amount = value\n",
    "\n",
    "class Account:\n",
    "    amount = ImportantValue(100)\n",
    "    \n",
    "bobs_account = Account()\n",
    "bobs_account.amount = 150 # here writing to log file should occure\n",
    "\n",
    "with open('data/log.txt', 'r') as f:\n",
    "    print(f.read())"
   ]
  },
  {
   "cell_type": "markdown",
   "metadata": {},
   "source": [
    "### Функции и методы в Python реализованы с помощью дескрипторов"
   ]
  },
  {
   "cell_type": "code",
   "execution_count": 15,
   "metadata": {},
   "outputs": [
    {
     "name": "stdout",
     "output_type": "stream",
     "text": [
      "<bound method Class.method of <__main__.Class object at 0x106b5be10>>\n",
      "<function Class.method at 0x106b58dd0>\n"
     ]
    }
   ],
   "source": [
    "class Class:\n",
    "    def method(self):\n",
    "        pass\n",
    "    \n",
    "obj = Class()\n",
    "\n",
    "print(obj.method) # returns bound method те это метод привязанный к какому-то объекту\n",
    "print(Class.method) # returns unbound method"
   ]
  },
  {
   "cell_type": "markdown",
   "metadata": {},
   "source": [
    "В bound метод по умолчанию передаётся объект, с которым вызван метод. И именно он и записывается в атрибут self метода класса. \n",
    "Один и тот же метод возвращает разные объекты в зависимости от того как к нему образаются. Это и есть поведение дескриптора."
   ]
  },
  {
   "cell_type": "markdown",
   "metadata": {},
   "source": [
    "Вам уже знаком декоратор property, который позволяет вам использовать функцию как атрибут класса (без скобочек). В данном случае мы можем определить property full_name, который на самом деле хоть и является функцией, которая возвращает строчку, используется потом так же, как и обычный атрибут, то есть без вызова скобочек. В данном случае у нас класс User, у нас first_name и last_name, и full_name возвращает, очевидно, полное имя. При вызове full_name от объекта у нас вызывается функция full_name. Однако если мы пытаемся обратиться к full_name от класса, у нас получится объект типа property. На самом деле, property реализовано с помощью дескрипторов, потому что разное поведение в зависимости от того, как у нас вызывается этот объект. "
   ]
  },
  {
   "cell_type": "code",
   "execution_count": 16,
   "metadata": {},
   "outputs": [
    {
     "name": "stdout",
     "output_type": "stream",
     "text": [
      "Amy Janes\n",
      "<property object at 0x106b6e050>\n"
     ]
    }
   ],
   "source": [
    "class User:\n",
    "    def __init__(self, first_name, last_name):\n",
    "        self.first_name = first_name\n",
    "        self.last_name = last_name\n",
    "        \n",
    "    @property\n",
    "    def full_name(self):\n",
    "        return f'{self.first_name} {self.last_name}'\n",
    "    \n",
    "amy = User('Amy', 'Janes')\n",
    "\n",
    "print(amy.full_name)\n",
    "print(User.full_name)"
   ]
  },
  {
   "cell_type": "markdown",
   "metadata": {},
   "source": [
    "И мы можем написать свой собственный класс property, который будет эмулировать поведение стандартного property. Для этого нам нужно сохранить функцию, которую property получает, потому что property — это декоратор, он получает функцию. И когда мы обращаемся к нашему объекту, если он вызван от класса, мы просто возвращаем самого себя, а если у нас вызван наш атрибут с объектом, то мы возвращаем соответствующий getter, вызываем функцию. Таким образом, мы можем определить класс и использовать как стандартный декоратор property, так и новый только что созданный. В двух видах можем просто его использовать как декоратор с помощью синтаксического сахара, можем использовать как вызов функции. И окажется, что они работают идентично, потому что на самом деле property реализован именно с помощью дескриптора. Точно так же реализованы StaticMethod и ClassMethod."
   ]
  },
  {
   "cell_type": "code",
   "execution_count": 17,
   "metadata": {},
   "outputs": [
    {
     "name": "stdout",
     "output_type": "stream",
     "text": [
      "original\n",
      "custom sugar\n",
      "custom pure\n"
     ]
    }
   ],
   "source": [
    "# property делает возможным обращение к методу без скобок, как атрибуту\n",
    "\n",
    "class Property:\n",
    "    def __init__(self, getter):\n",
    "        self.getter = getter\n",
    "        \n",
    "    def __get__(self, obj, obj_type = None):\n",
    "        if obj is None:  # вызов метода классом\n",
    "            return self\n",
    "        return self.getter(obj) # вызов метода экземпляром класса\n",
    "    \n",
    "class Class:\n",
    "    @property\n",
    "    def original(self):\n",
    "        return 'original'\n",
    "    @Property\n",
    "    def custom_sugar(self):\n",
    "        return 'custom sugar'\n",
    "    def custom_pure(self):\n",
    "        return 'custom pure'\n",
    "    custom_pure = Property(custom_pure)\n",
    "    \n",
    "obj = Class()\n",
    "print(obj.original)\n",
    "print(obj.custom_sugar)\n",
    "print(obj.custom_pure)"
   ]
  },
  {
   "cell_type": "code",
   "execution_count": 18,
   "metadata": {},
   "outputs": [],
   "source": [
    "class StaticMethod:\n",
    "    def __init__(self, func):\n",
    "        self.func = func\n",
    "    def __get__(self, obj, obj_type = None):\n",
    "        return self.func\n",
    "\n",
    "class ClassMethod:\n",
    "    def __init__(self, func):\n",
    "        self.func = func\n",
    "    def __get__(self, obj, obj_type = None):\n",
    "        if obj_type is None: # конда вызывается от класса, то класс объекта возвращаем первым параметром\n",
    "            obj_type = type(obj)\n",
    "        def new_func(*args, **kwargs):\n",
    "            return self.func(obj_type, *args, **kwargs)\n",
    "        return new_func\n",
    "\n"
   ]
  },
  {
   "cell_type": "markdown",
   "metadata": {},
   "source": [
    "### `__slots__`"
   ]
  },
  {
   "cell_type": "markdown",
   "metadata": {},
   "source": [
    "На самом деле с помощью дескрипторов в Python реализовано очень много чего, и, например, есть такая конструкция __slots__, которая работает тоже с помощью дескрипторов. __slots__ позволяет вам определить класс, у которого есть жестко заданный набор атрибутов. Как вы знаете, когда мы создаем класс, у класса создается соответствующий словарь, в который мы записываем атрибуты, которые добавляются в объект. Очень часто это бывает излишне. У вас может быть огромное количество, например, объектов, и вы не хотите создавать каждый раз для каждого объекта словарь. Для этого приходит на помощь конструкция __slots__, которая вам позволяет жестко задать количество элементов, которые ваш класс может содержать. В данном случае мы говорим, что у нас в нашем классе должен быть только атрибут anakin. Собственно, он при инициализации и создается. Если мы попытаемся добавить в наш класс, в наш объект какой-то еще один атрибут, у нас ничего не получится, потому что у нас нет, собственно, справочника, нет dict, в который мы это записываем. И __slots__ реализуется с помощью определения дескрипторов для каждого из атрибутов."
   ]
  },
  {
   "cell_type": "code",
   "execution_count": 20,
   "metadata": {},
   "outputs": [
    {
     "name": "stdout",
     "output_type": "stream",
     "text": [
      "the chosen one ;)\n"
     ]
    },
    {
     "ename": "AttributeError",
     "evalue": "'Class' object has no attribute 'luke'",
     "output_type": "error",
     "traceback": [
      "\u001b[0;31m-----------------------------------------------------------------\u001b[0m",
      "\u001b[0;31mAttributeError\u001b[0m                  Traceback (most recent call last)",
      "\u001b[0;32m<ipython-input-20-82c6fd2a93a0>\u001b[0m in \u001b[0;36m<module>\u001b[0;34m\u001b[0m\n\u001b[1;32m      7\u001b[0m \u001b[0mobj\u001b[0m \u001b[0;34m=\u001b[0m \u001b[0mClass\u001b[0m\u001b[0;34m(\u001b[0m\u001b[0;34m)\u001b[0m\u001b[0;34m\u001b[0m\u001b[0;34m\u001b[0m\u001b[0m\n\u001b[1;32m      8\u001b[0m \u001b[0mprint\u001b[0m\u001b[0;34m(\u001b[0m\u001b[0mobj\u001b[0m\u001b[0;34m.\u001b[0m\u001b[0manakin\u001b[0m\u001b[0;34m)\u001b[0m\u001b[0;34m\u001b[0m\u001b[0;34m\u001b[0m\u001b[0m\n\u001b[0;32m----> 9\u001b[0;31m \u001b[0mobj\u001b[0m\u001b[0;34m.\u001b[0m\u001b[0mluke\u001b[0m \u001b[0;34m=\u001b[0m \u001b[0;34m'the chosen too'\u001b[0m\u001b[0;34m\u001b[0m\u001b[0;34m\u001b[0m\u001b[0m\n\u001b[0m",
      "\u001b[0;31mAttributeError\u001b[0m: 'Class' object has no attribute 'luke'"
     ]
    }
   ],
   "source": [
    "class Class:\n",
    "    __slots__ = ['anakin']\n",
    "    \n",
    "    def __init__(self):\n",
    "        self.anakin = 'the chosen one ;)'\n",
    "\n",
    "obj = Class()\n",
    "print(obj.anakin)\n",
    "obj.luke = 'the chosen too'"
   ]
  },
  {
   "cell_type": "markdown",
   "metadata": {},
   "source": [
    "# Метаклассы\n",
    "Как вы уже знаете, всё в Python'е является объектом, и классы не исключение, а значит эти классы кто-то создаёт. Давайте определим класс с названием Class и его объект. Тип нашего объекта является Class, потому что Class создал наш объект. Однако, у класса тоже есть тип. Этот тип type, потому что type создал наш класс. В данном случае type является мета-классом. Он создаёт другие классы. Типом самого type, кстати, является он же сам. Это рекурсивное замыкание, которое реализовано с помощью С внутри. Очень важно понимать разницу между созданием и наследованием. В данном случае класс не является subclass'ом type. Type его создаёт, но класс не наследуется от него."
   ]
  },
  {
   "cell_type": "code",
   "execution_count": 27,
   "metadata": {},
   "outputs": [
    {
     "name": "stdout",
     "output_type": "stream",
     "text": [
      "<class '__main__.Class'>\n",
      "<class 'type'>\n",
      "<class 'type'>\n",
      "True\n",
      "False\n",
      "True\n"
     ]
    }
   ],
   "source": [
    "class Class:\n",
    "    pass\n",
    "\n",
    "obj = Class()\n",
    "\n",
    "print(type(obj))\n",
    "print(type(Class)) # type created our Class, type is metaclass\n",
    "print(type(type))\n",
    "print(isinstance(Class, type))\n",
    "print(issubclass(Class, type))\n",
    "print(issubclass(Class, object))"
   ]
  },
  {
   "cell_type": "markdown",
   "metadata": {},
   "source": [
    "Чтобы понять, как вообще классы задаются, можно написать простую функцию, которая класс возвращает. В данном случае мы определяем функцию, которая возвращает какой-то новый класс — dummy_factory. Классы можно создавать на лету. В данном случае мы создаём два разных объекта и просто их возвращаем. "
   ]
  },
  {
   "cell_type": "code",
   "execution_count": 29,
   "metadata": {},
   "outputs": [
    {
     "name": "stdout",
     "output_type": "stream",
     "text": [
      "False\n"
     ]
    }
   ],
   "source": [
    "def dummy_factory():\n",
    "    class Class:\n",
    "        pass\n",
    "    return Class\n",
    "\n",
    "Dummy = dummy_factory()\n",
    "print(Dummy() is Dummy())"
   ]
  },
  {
   "cell_type": "markdown",
   "metadata": {},
   "source": [
    "Однако, на самом деле, Python работает, конечно, не так. Для создания классов используется мета-класс type, и вы можете на лету создать type, просто вызвав его и передав название класса. В данном случае мы создаём класс NewClass без родителей и без каких-то атрибутов. NewClass действительно является классическим классом. Вы можете его вывести, можете создать какой-то объект этого класса. Это настоящий класс, мы создали его на лету без литерала class."
   ]
  },
  {
   "cell_type": "code",
   "execution_count": 31,
   "metadata": {},
   "outputs": [
    {
     "name": "stdout",
     "output_type": "stream",
     "text": [
      "<class '__main__.NewClass'>\n",
      "<__main__.NewClass object at 0x106ff3410>\n"
     ]
    }
   ],
   "source": [
    "NewClass = type('NewClass', (), {})\n",
    "print(NewClass)\n",
    "print(NewClass())"
   ]
  },
  {
   "cell_type": "markdown",
   "metadata": {},
   "source": [
    "Однако, чаще всего классы создаются всё-таки по-другому. Они создаются с помощью мета-классов, и в данном случае давайте определим свой собственный мета-класс, который будет управлять поведением при создании класса. Мы определим класс Meta. Для того чтобы он бы мета-классом, он должен наследоваться от другого мета-класса. В данном случае это мета-класс type, базовый мета-класс. И, как вы уже знаете, метод _new_ управляет поведением при создании объекта. В данном случае объектом является другой класс, поэтому мы можем изменять поведение при создании другого класса. Метод _new_ принимает название класса, его родителей и какие-то атрибуты. Мы можем определить какой-то новый класс A и указать, что его мета-классом является наш мета-класс. Именно этот мета-класс и будет управлять поведением при создании нового класса. При определении class у нас вызывается мета-класс и функция _new_, метод _new_. Мы выводим, что у нас наш класс создаётся. Записываем в какой-то атрибут нашего класса, в данном случае в атрибут class_id, значение. Таким образом, мы можем переопределить поведение при создании класса. Например, добавить ему какой-то атрибут или сделать что-нибудь другое."
   ]
  },
  {
   "cell_type": "code",
   "execution_count": 34,
   "metadata": {},
   "outputs": [
    {
     "name": "stdout",
     "output_type": "stream",
     "text": [
      "Creating A\n",
      "A.class_id: \"a\"\n"
     ]
    }
   ],
   "source": [
    "class Meta(type):\n",
    "    def __new__(cls, name, parents, attrs):\n",
    "        print('Creating {}'.format(name))\n",
    "        if 'class_id' not in attrs:\n",
    "            attrs['class_id'] = name.lower()\n",
    "        return super().__new__(cls, name, parents, attrs)\n",
    "    \n",
    "class A(metaclass = Meta):  # here Meta will manage creation of class A\n",
    "    pass\n",
    "\n",
    "print('A.class_id: \"{}\"'.format(A.class_id))"
   ]
  },
  {
   "cell_type": "markdown",
   "metadata": {},
   "source": [
    "Например, мы можем определить мета-класс, который переопределяет функцию _init_, и в данном случае наш мета-класс будет логировать, запоминать все созданные подклассы. Давайте определим функцию _init_, которая будет вызываться при инициализации нашего объекта. В данном случае нашим объектом является класс. При инициализации класса у нас она будет вызываться. Наш _init_ принимает те же самые аргументы, однако, делает немного другое. Он записывает свой собственный атрибут значения созданных классов. В данном случае, у нас вначале создаётся класс Base, мета-классом которого является Meta, и у него создаётся registry, в который мы потом будем записывать все его подклассы. Каждый раз, когда у нас создаётся какой-то класс, который наследуется от Base, мы записываем в наш registry соответствующее значение, то есть название созданного класса и ссылку на него, то есть объект class. И мы можем вывести теперь все подклассы нашего Base, просто обратившись к registry, ну или написав обращение к методу subclasses."
   ]
  },
  {
   "cell_type": "code",
   "execution_count": 35,
   "metadata": {},
   "outputs": [
    {
     "name": "stdout",
     "output_type": "stream",
     "text": [
      "Initializing - Base\n",
      "Initializing - A\n",
      "Initializing - B\n"
     ]
    }
   ],
   "source": [
    "class Meta(type):\n",
    "    def __init__(cls, name, bases, attrs):\n",
    "        print('Initializing - {}'.format(name))\n",
    "        if not hasattr(cls, 'registry'):\n",
    "            cls.registry = {}\n",
    "        else:    \n",
    "            cls.registry[name.lower()] = cls\n",
    "        super().__init__(name, bases, attrs)\n",
    "        \n",
    "class Base(metaclass = Meta):\n",
    "    pass\n",
    "\n",
    "class A(Base):\n",
    "    pass\n",
    "\n",
    "class B(Base): \n",
    "    pass"
   ]
  },
  {
   "cell_type": "code",
   "execution_count": 37,
   "metadata": {},
   "outputs": [
    {
     "name": "stdout",
     "output_type": "stream",
     "text": [
      "{'a': <class '__main__.A'>, 'b': <class '__main__.B'>}\n",
      "[<class '__main__.A'>, <class '__main__.B'>]\n"
     ]
    }
   ],
   "source": [
    "print(Base.registry)\n",
    "print(Base.__subclasses__())"
   ]
  },
  {
   "cell_type": "markdown",
   "metadata": {},
   "source": [
    "### Абстрактные методы\n",
    "В Python'е есть абстрактные методы, вы можете их использовать с помощью стандартной библиотеки abc. В данном случае здесь также работают мета-классы и мы можем определить абстрактный какой-то класс с методом abstractmethod. О чём говорит наш декоратор abstractmethod? Что у нас не получится создать какой-то класс, не определив этот метод. То есть у нас метод абстрактный и мы обязаны его переопределить в классе, который наследуется от нашего класса. "
   ]
  },
  {
   "cell_type": "code",
   "execution_count": 38,
   "metadata": {},
   "outputs": [
    {
     "ename": "TypeError",
     "evalue": "Can't instantiate abstract class Child with abstract methods send",
     "output_type": "error",
     "traceback": [
      "\u001b[0;31m-----------------------------------------------------------------\u001b[0m",
      "\u001b[0;31mTypeError\u001b[0m                       Traceback (most recent call last)",
      "\u001b[0;32m<ipython-input-38-457ac30b5e8e>\u001b[0m in \u001b[0;36m<module>\u001b[0;34m\u001b[0m\n\u001b[1;32m      9\u001b[0m     \u001b[0;32mpass\u001b[0m\u001b[0;34m\u001b[0m\u001b[0;34m\u001b[0m\u001b[0m\n\u001b[1;32m     10\u001b[0m \u001b[0;34m\u001b[0m\u001b[0m\n\u001b[0;32m---> 11\u001b[0;31m \u001b[0mChild\u001b[0m\u001b[0;34m(\u001b[0m\u001b[0;34m)\u001b[0m\u001b[0;34m\u001b[0m\u001b[0;34m\u001b[0m\u001b[0m\n\u001b[0m",
      "\u001b[0;31mTypeError\u001b[0m: Can't instantiate abstract class Child with abstract methods send"
     ]
    }
   ],
   "source": [
    "from abc import ABCMeta, abstractmethod\n",
    "\n",
    "class Sender(metaclass = ABCMeta):\n",
    "    @abstractmethod\n",
    "    def send(self):\n",
    "        \"\"\"Do something\"\"\"\n",
    "        \n",
    "class Child(Sender):\n",
    "    pass\n",
    "\n",
    "Child()"
   ]
  },
  {
   "cell_type": "code",
   "execution_count": 39,
   "metadata": {},
   "outputs": [
    {
     "data": {
      "text/plain": [
       "<__main__.Child at 0x106f26dd0>"
      ]
     },
     "execution_count": 39,
     "metadata": {},
     "output_type": "execute_result"
    }
   ],
   "source": [
    "class Child(Sender):\n",
    "    def send(self):\n",
    "        print('Sending...')\n",
    "        \n",
    "Child()"
   ]
  },
  {
   "cell_type": "markdown",
   "metadata": {},
   "source": [
    "Ну и, на самом деле, абстрактные методы используются в Python'е довольно редко, чаще всего вызывается просто исключение NotImplementedError, которое говорит программисту о том, что этот метод нужно реализовать."
   ]
  },
  {
   "cell_type": "code",
   "execution_count": null,
   "metadata": {},
   "outputs": [],
   "source": [
    "class PythonWay:\n",
    "    def send(self):\n",
    "        raise NotImplementedError"
   ]
  },
  {
   "cell_type": "markdown",
   "metadata": {},
   "source": [
    "### Programming Assignment: Дескриптор с комиссией\n",
    "Часто при зачислении каких-то средств на счет с нас берут комиссию. Давайте реализуем похожий механизм с помощью дескрипторов. Напишите дескриптор Value, который будет использоваться в нашем классе Account.\n",
    "\n",
    "У аккаунта будет атрибут commission. Именно эту коммиссию и нужно вычитать при присваивании значений в amount.\n",
    "\n"
   ]
  },
  {
   "cell_type": "code",
   "execution_count": 43,
   "metadata": {},
   "outputs": [
    {
     "name": "stdout",
     "output_type": "stream",
     "text": [
      "90.0\n"
     ]
    }
   ],
   "source": [
    "class Value:\n",
    "    def __init__(self, amount):\n",
    "        self.amount = amount\n",
    "    def __set__(self, obj, value):\n",
    "        self.amount = value * (1 - obj.comission)\n",
    "    def __get__(self, obj, obj_type):\n",
    "        return self.amount\n",
    "    \n",
    "class Account:\n",
    "    amount = Value(100)\n",
    "    def __init__(self, comission):\n",
    "        self.comission = comission\n",
    "        \n",
    "bobs_account = Account(0.1)\n",
    "bobs_account.amount = 100\n",
    "print(bobs_account.amount)"
   ]
  },
  {
   "cell_type": "markdown",
   "metadata": {},
   "source": [
    "# Отладка\n",
    "\n",
    "Мы с вами разберём классический механизм отладки с помощью Python Debugger'а и делать мы это будем на примере. Мы напишем программу, которая принимает на вход сайт, URL сайта и какую-то строчку, и ищет в коде сайта эту строчку и считает, сколько раз там встретилась эта строка. Давайте напишем нашу программу и попробуем её отладить"
   ]
  },
  {
   "cell_type": "code",
   "execution_count": null,
   "metadata": {},
   "outputs": [
    {
     "name": "stdout",
     "output_type": "stream",
     "text": [
      "> \u001b[0;32m<ipython-input-9-ab52830b0998>\u001b[0m(8)\u001b[0;36mmain\u001b[0;34m()\u001b[0m\n",
      "\u001b[0;32m      6 \u001b[0;31m    \u001b[0mpdb\u001b[0m\u001b[0;34m.\u001b[0m\u001b[0mset_trace\u001b[0m\u001b[0;34m(\u001b[0m\u001b[0;34m)\u001b[0m\u001b[0;34m\u001b[0m\u001b[0;34m\u001b[0m\u001b[0m\n",
      "\u001b[0m\u001b[0;32m      7 \u001b[0;31m\u001b[0;34m\u001b[0m\u001b[0m\n",
      "\u001b[0m\u001b[0;32m----> 8 \u001b[0;31m    \u001b[0msite_code\u001b[0m \u001b[0;34m=\u001b[0m \u001b[0mget_site_code\u001b[0m\u001b[0;34m(\u001b[0m\u001b[0msite_url\u001b[0m\u001b[0;34m)\u001b[0m\u001b[0;34m\u001b[0m\u001b[0;34m\u001b[0m\u001b[0m\n",
      "\u001b[0m\u001b[0;32m      9 \u001b[0;31m    \u001b[0mmatching_substrings\u001b[0m \u001b[0;34m=\u001b[0m \u001b[0mget_matching_substrings\u001b[0m\u001b[0;34m(\u001b[0m\u001b[0msite_code\u001b[0m\u001b[0;34m,\u001b[0m \u001b[0msubstring\u001b[0m\u001b[0;34m)\u001b[0m\u001b[0;34m\u001b[0m\u001b[0;34m\u001b[0m\u001b[0m\n",
      "\u001b[0m\u001b[0;32m     10 \u001b[0;31m    print('\"{}\" found {} times in {}'.format(\n",
      "\u001b[0m\n",
      "ipdb> b\n",
      "ipdb> b10\n",
      "*** NameError: name 'b10' is not defined\n",
      "ipdb> b 10\n",
      "Breakpoint 2 at <ipython-input-9-ab52830b0998>:10\n",
      "ipdb> cont\n",
      "> \u001b[0;32m<ipython-input-9-ab52830b0998>\u001b[0m(10)\u001b[0;36mmain\u001b[0;34m()\u001b[0m\n",
      "\u001b[0;32m      8 \u001b[0;31m    \u001b[0msite_code\u001b[0m \u001b[0;34m=\u001b[0m \u001b[0mget_site_code\u001b[0m\u001b[0;34m(\u001b[0m\u001b[0msite_url\u001b[0m\u001b[0;34m)\u001b[0m\u001b[0;34m\u001b[0m\u001b[0;34m\u001b[0m\u001b[0m\n",
      "\u001b[0m\u001b[0;32m      9 \u001b[0;31m    \u001b[0mmatching_substrings\u001b[0m \u001b[0;34m=\u001b[0m \u001b[0mget_matching_substrings\u001b[0m\u001b[0;34m(\u001b[0m\u001b[0msite_code\u001b[0m\u001b[0;34m,\u001b[0m \u001b[0msubstring\u001b[0m\u001b[0;34m)\u001b[0m\u001b[0;34m\u001b[0m\u001b[0;34m\u001b[0m\u001b[0m\n",
      "\u001b[0m\u001b[1;31m2\u001b[0;32m--> 10 \u001b[0;31m    print('\"{}\" found {} times in {}'.format(\n",
      "\u001b[0m\u001b[0;32m     11 \u001b[0;31m        substring, len(matching_substrings), site_url))\n",
      "\u001b[0m\u001b[0;32m     12 \u001b[0;31m\u001b[0;34m\u001b[0m\u001b[0m\n",
      "\u001b[0m\n"
     ]
    }
   ],
   "source": [
    "import requests\n",
    "import re\n",
    "\n",
    "def main(site_url, substring):\n",
    "    import pdb\n",
    "    pdb.set_trace()\n",
    "    \n",
    "    site_code = get_site_code(site_url)\n",
    "    matching_substrings = get_matching_substrings(site_code, substring)\n",
    "    print('\"{}\" found {} times in {}'.format(\n",
    "        substring, len(matching_substrings), site_url))\n",
    "    \n",
    "def get_matching_substrings(source, substring):\n",
    "    return re.findall(substring, source)\n",
    "    \n",
    "def get_site_code(site_url):\n",
    "    if not site_url.startswith('http'):\n",
    "        site_url = 'http://' + site_url\n",
    "    return requests.get(site_url).text\n",
    "\n",
    "main('mail.ru', 'script')"
   ]
  },
  {
   "cell_type": "markdown",
   "metadata": {},
   "source": [
    "И давайте вызовем нашу функцию. В этот момент уже начнётся процесс отладки, потому что скорее всего сразу она не заработает. И, например, не заработает она потому, что мы не передали в функцию main параметра. Итак, процесс отладки уже начат, мы смотрим на исключения, читаем, что нам исключение это говорит. Давайте исправим это, передадим туда сайт mail.ru и script, допустим, поскольку script будем искать в сайте mail.ru. Давайте запустим и посмотрим, что у нас не работает дальше. Итак, у нас какая-то проблема в get_matching_substrings очевидно. Совершенно непонятно, что же случилось. По этой ошибке нельзя однозначно сказать, почему наша программа не работает. В данном случае на помощь нам может прийти отладчик."
   ]
  },
  {
   "cell_type": "markdown",
   "metadata": {},
   "source": [
    "В терминале для запуска дебаггера:\n",
    "    \n",
    "python3 -m pdb wc_web.py\n",
    "\n",
    "Команды:\n",
    "- ll - выход на точку, где определен pdb.set_trace()\n",
    "- step/s - вход внутрь функции\n",
    "- next/n - проход функции без захода\n",
    "- b - показать брейкпоинты\n",
    "- b 12 - поставить брейпоинт на строку 12\n",
    "- cont/c - продолжить после остановки\n",
    "- help - показать команды"
   ]
  },
  {
   "cell_type": "markdown",
   "metadata": {},
   "source": [
    "## Тестирование"
   ]
  },
  {
   "cell_type": "markdown",
   "metadata": {},
   "source": [
    "Мы с вами разберем наиболее популярный, наиболее распространенный вид тестирования - это unit тестирование. Unit тесты призваны протестировать какую-то небольшую функциональность, функцию, класс или модуль, посмотреть корректно ли он работает. Вы можете написать unit тесты к вашем классу, чтобы проверять все ли он делает корректно. Чтобы определить свой unittest можно воспользоваться стандартной библиотекой модулей minitest и определить свой класс, который наследуется от testcase'а из модуля unittest. Дальше вы можете определить функции, которые, собственно, и будут являться тестами. Каждая функция, которая начинается с test и нижнего подчеркивания, является тестом и внутри этого теста вы можете проверить какие-то условия. В данном случае мы можем проверить правильно ли у нас приводится тип в случае int'a и float'а, или, например, корректно ли у нас работает функция get у пустого словаря. Делается это с помощью методов testcase'а. Их довольно много - есть assertEqual, assertIsNone, assertRaises и так далее. Вы можете посмотреть про это в документации. Все они делают одно - они проверяют корректно ли работает выражение, корректно ли вызывается функция и так далее. Чтобы запустить тесты можно воспользоваться консолью. Еще чаще тесты запускает какая-то автоматическая система сборки или тестирования, или, например, ваше IDE может запускать тесты"
   ]
  },
  {
   "cell_type": "markdown",
   "metadata": {},
   "source": [
    "Resources:\n",
    "    \n",
    "- https://docs.python.org/3/library/unittest.html\n",
    "- https://docs.python.org/3/library/unittest.mock.html\n",
    "- https://docs.python.org/3/library/unittest.mock-examples.html"
   ]
  },
  {
   "cell_type": "code",
   "execution_count": null,
   "metadata": {},
   "outputs": [],
   "source": [
    "# test_python.py\n",
    "\n",
    "import unittest\n",
    "\n",
    "class TestPython(unittest.TestCase):\n",
    "    def test_float_to_int_coercion(self):\n",
    "        self.assertEqual(1, int(1.0))\n",
    "    def test_get_empty_dict(self):\n",
    "        self.assertIsNone({}.get('key'))\n",
    "    def test_trueness(self):\n",
    "        self.assertTrue(bool(10))"
   ]
  },
  {
   "cell_type": "markdown",
   "metadata": {},
   "source": [
    "Запуск из терминала:\n",
    "  \n",
    "python3 -m unittest test_python.py"
   ]
  },
  {
   "cell_type": "code",
   "execution_count": null,
   "metadata": {},
   "outputs": [],
   "source": [
    "# test_division.py\n",
    "\n",
    "import unittest\n",
    "\n",
    "class TestDivision(unittest.TestCase):\n",
    "    def test_integer_division(self):\n",
    "        self.assertIs(10 / 5, 2)"
   ]
  },
  {
   "cell_type": "markdown",
   "metadata": {},
   "source": [
    "### Пример\n",
    "\n",
    "Давайте посмотрим на конкретный пример и напишем свой собственный класс, который попробуем протестировать. Класс будет называться Asteroid и он призван помочь нам работать с открытым api NASA по астероидам и каким-то телам, которые летают вокруг Земли"
   ]
  },
  {
   "cell_type": "code",
   "execution_count": 2,
   "metadata": {},
   "outputs": [],
   "source": [
    "import requests\n",
    "\n",
    "class Asteroid:\n",
    "    BASE_API_URL = 'https://api.nasa.gov/neo/rest/v1/neo/{}?api_key=DEMO_KEY'\n",
    "    \n",
    "    def __init__(self, spk_id):\n",
    "        self.api_url = self.BASE_API_URL.format(spk_id)\n",
    "    \n",
    "    def get_data(self):\n",
    "        return requests.get(self.api_url).json()\n",
    "    \n",
    "    @property\n",
    "    def name(self):\n",
    "        return self.get_data()['name']\n",
    "    \n",
    "    @property\n",
    "    def diameter(self):\n",
    "        return int(self.get_data()['estimated_diameter']['meters']['estimated_diameter_max'])\n",
    "    "
   ]
  },
  {
   "cell_type": "markdown",
   "metadata": {},
   "source": [
    "Давайте протестируем наш класс и посмотрим, корректно ли работает наша функция name и наша функция diameter. Однако, вы можете заметить, что здесь есть некоторая тонкость. Каждый раз, когда мы будем запускать тесты, у нас наш класс, testcase будет ходить в Интернет, потому что у нас запускается функция get_data. Это не всегда будет работать, потому что мы можем запускать наши тесты, например, в окружении, в котором нет Интернета, или Интернет медленный, или мы экономим трафик. Точно то же самое можно сказать про работу с Сетью в принципе или про работу с какими-то другими ресурсами, например, с диском. Возможно мы не хотим загружать диск. Что же сделать в таком случае? На помощь нам придет несколько механизмов, о которых мы поговорим прямо сейчас."
   ]
  },
  {
   "cell_type": "code",
   "execution_count": 3,
   "metadata": {},
   "outputs": [
    {
     "name": "stdout",
     "output_type": "stream",
     "text": [
      "Name: 99942 Apophis (2004 MN4)\n",
      "Diameter: 682 m\n"
     ]
    }
   ],
   "source": [
    "apophis = Asteroid(2099942)\n",
    "# https://api.nasa.gov/neo/rest/v1/neo/2099942?api_key=DEMO_KEY\n",
    "\n",
    "print(f'Name: {apophis.name}')\n",
    "print(f'Diameter: {apophis.diameter} m')"
   ]
  },
  {
   "cell_type": "markdown",
   "metadata": {},
   "source": [
    "Итак, во-первых, мы опять же определяем класс, который наследуется от testcase'а и определяем новую функцию setUp, с который вы еще не знакомы. Функция setUp призвана, как и соответствует ее название, \"засетапить\" окружение, которое будет работать во время исполнения тестовой функции. Таким образом, если нам нужно работать, например, с объектом Asteroid'а, мы можем в начале исполнения каждой функции создавать этот объект Asteroid'а, чтобы не дублировать этот код каждый раз в начале наших тестовых функций, или мы можем создавать другие какие-то объекты или как-то наши данные готовить. Существует симметричный метод, который называется tearDown, который позволяет закрывать какие-то ресурсы, удалять объекты в конце каждой тестовой функции. Итак, давайте напишем наши две тестовые функции, которые будут проверять test_name, то есть diameter. Однако, что если мы тестируем наши функции в окружении без Интернета, как я вам уже говорил. На помощь нам может прийти механизм mock off и модуль unittest.mock, который позволяет подменять какую-то функциональность, подменять какие-то функции другими. Таким образом, мы можем на самом деле не ходить в Интернет, а можем, например, читать информацию из файла. Я заранее скачал данные об астероиде Apophis в специальную фикстуру, текстовый файл. Это просто точно то же самое, что и возвращает наш api, только оно лежит в файле. Мы подменим функцию, которая идет в Интернет get_data функцией, которая просто читает из файла. Таким образом мы не будет ходить в Интернет во время тестов. Делается это с помощью декоратора patch довольно просто. Мы можем проверять внутри нашей тестовой функции определенные условия. В данном случае мы проверяем действительно ли имя астероида, которое мы распарсили, в данном случае из файла, действительно оно корректно, действительно ли оно Apophis и проверять размер нашего астероида - действительно ли он равен почти 700 метрам"
   ]
  },
  {
   "cell_type": "code",
   "execution_count": null,
   "metadata": {},
   "outputs": [],
   "source": [
    "# test_asteroid.py\n",
    "\n",
    "import json\n",
    "import unittest\n",
    "from unittest.mock import patch\n",
    "from asteroid import Asteroid\n",
    "\n",
    "class TestAsteroid(unittest.TestCase):\n",
    "    def setUp(self):\n",
    "        self.asteroid = Asteroid(2099942)\n",
    "        \n",
    "    def mocked_get_data(self):\n",
    "        with open('data/apophis_fixture.txt') as f:\n",
    "            return json.loads(f.read())\n",
    "        \n",
    "    @patch('asteroid.Asteroid.get_data', mocked_get_data)\n",
    "    def test_name(self):\n",
    "        self.assertEqual(\n",
    "            self.asteroid.name, '99942 Apophis (2004 MN4)'\n",
    "        )\n",
    "        \n",
    "    @patch('asteroid.Asteroid.get_data', mocked_get_data)\n",
    "    def test_diameter(self):\n",
    "        self.assertEqual(self.asteroid.diameter, 682)"
   ]
  },
  {
   "cell_type": "code",
   "execution_count": null,
   "metadata": {},
   "outputs": [],
   "source": []
  },
  {
   "cell_type": "code",
   "execution_count": null,
   "metadata": {},
   "outputs": [],
   "source": []
  }
 ],
 "metadata": {
  "kernelspec": {
   "display_name": "env",
   "language": "python",
   "name": "env"
  },
  "language_info": {
   "codemirror_mode": {
    "name": "ipython",
    "version": 3
   },
   "file_extension": ".py",
   "mimetype": "text/x-python",
   "name": "python",
   "nbconvert_exporter": "python",
   "pygments_lexer": "ipython3",
   "version": "3.7.4"
  }
 },
 "nbformat": 4,
 "nbformat_minor": 4
}
