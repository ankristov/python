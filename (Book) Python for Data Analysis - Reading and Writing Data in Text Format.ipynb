{
 "cells": [
  {
   "cell_type": "code",
   "execution_count": 25,
   "metadata": {},
   "outputs": [
    {
     "name": "stdout",
     "output_type": "stream",
     "text": [
      "   a   b   c   d message\n",
      "0  1   2   3   4   hello\n",
      "1  5   6   7   8   world\n",
      "2  9  10  11  12     foo\n"
     ]
    }
   ],
   "source": [
    "import pandas as pd\n",
    "\n",
    "df = pd.read_csv('/Users/Andrew/python/working/data/ex1.csv')\n",
    "print(df)\n",
    "#df = pd.read_csv('/Users/Andrew/python/working/data/ex1.csv',\n",
    "#                index_col = 'b')\n",
    "#print(df)"
   ]
  },
  {
   "cell_type": "code",
   "execution_count": 21,
   "metadata": {},
   "outputs": [
    {
     "name": "stdout",
     "output_type": "stream",
     "text": [
      "   a   b   c   d message\n",
      "0  1   2   3   4   hello\n",
      "1  5   6   7   8   world\n",
      "2  9  10  11  12     foo\n",
      "Index(['a', 'b', 'c', 'd', 'message'], dtype='object')\n",
      "RangeIndex(start=0, stop=3, step=1)\n"
     ]
    }
   ],
   "source": [
    "# We could also have used read_table and specified the delimiter\n",
    "df = pd.read_table('/Users/Andrew/python/working/data/ex1.csv', sep = ',')\n",
    "print(df)\n",
    "print(df.columns)\n",
    "print(df.index)\n",
    "#df.columns = ['col1', 'col2', 'col3', 'col4', 'col5']\n",
    "#print(df)"
   ]
  },
  {
   "cell_type": "code",
   "execution_count": 9,
   "metadata": {},
   "outputs": [
    {
     "name": "stdout",
     "output_type": "stream",
     "text": [
      "   0   1   2   3        4\n",
      "0  a   b   c   d  message\n",
      "1  1   2   3   4    hello\n",
      "2  5   6   7   8    world\n",
      "3  9  10  11  12      foo\n",
      "  col1 col2 col3 col4     col5\n",
      "0    a    b    c    d  message\n",
      "1    1    2    3    4    hello\n",
      "2    5    6    7    8    world\n",
      "3    9   10   11   12      foo\n"
     ]
    }
   ],
   "source": [
    "# A file will not always have a header row. You can allow pandas to assign default column names, or you can specify names yourself:\n",
    "df = pd.read_csv('/Users/Andrew/python/working/data/ex1.csv', header = None)\n",
    "print(df)\n",
    "df = pd.read_csv('/Users/Andrew/python/working/data/ex1.csv',\n",
    "                 header = None,\n",
    "                 names = ['col1', 'col2', 'col3', 'col4', 'col5'])\n",
    "print(df)"
   ]
  },
  {
   "cell_type": "code",
   "execution_count": 30,
   "metadata": {},
   "outputs": [
    {
     "name": "stdout",
     "output_type": "stream",
     "text": [
      ",a,b,c,d,message\n",
      "0,1,2,3,4,hello\n",
      "1,5,6,7,8,world\n",
      "2,9,10,11,12,foo\n",
      "\n",
      "1,2,3,4,hello\n",
      "5,6,7,8,world\n",
      "9,10,11,12,foo\n"
     ]
    }
   ],
   "source": [
    "import sys\n",
    "df.to_csv(sys.stdout); print()\n",
    "df.to_csv(sys.stdout, index = None, header = None)\n",
    "\n"
   ]
  },
  {
   "cell_type": "code",
   "execution_count": 38,
   "metadata": {},
   "outputs": [
    {
     "name": "stdout",
     "output_type": "stream",
     "text": [
      "   Unnamed: 0  0\n",
      "0  2020-07-12  0\n",
      "1  2020-07-13  1\n",
      "2  2020-07-14  2\n",
      "3  2020-07-15  3\n",
      "4  2020-07-16  4\n",
      "5  2020-07-17  5\n",
      "6  2020-07-18  6\n"
     ]
    }
   ],
   "source": [
    "import numpy as np\n",
    "\n",
    "# Series also has a to_csv method\n",
    "dates = pd.date_range('07/12/2020', periods = 7)\n",
    "#print(type(dates))\n",
    "ts = pd.Series(np.arange(7), index = dates)\n",
    "#print(ts)\n",
    "ts.to_csv('/Users/Andrew/python/working/data/ex2.csv')\n",
    "print(pd.read_csv('/Users/Andrew/python/working/data/ex2.csv'))"
   ]
  },
  {
   "cell_type": "code",
   "execution_count": null,
   "metadata": {},
   "outputs": [],
   "source": []
  }
 ],
 "metadata": {
  "kernelspec": {
   "display_name": "env",
   "language": "python",
   "name": "env"
  },
  "language_info": {
   "codemirror_mode": {
    "name": "ipython",
    "version": 3
   },
   "file_extension": ".py",
   "mimetype": "text/x-python",
   "name": "python",
   "nbconvert_exporter": "python",
   "pygments_lexer": "ipython3",
   "version": "3.7.4"
  }
 },
 "nbformat": 4,
 "nbformat_minor": 4
}
