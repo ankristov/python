{
 "cells": [
  {
   "cell_type": "markdown",
   "metadata": {},
   "source": [
    "# K-fold cross validation"
   ]
  },
  {
   "cell_type": "code",
   "execution_count": 2,
   "metadata": {
    "collapsed": false
   },
   "outputs": [
    {
     "data": {
      "text/plain": [
       "0.96666666666666667"
      ]
     },
     "execution_count": 2,
     "metadata": {},
     "output_type": "execute_result"
    }
   ],
   "source": [
    "import numpy as np\n",
    "from sklearn import cross_validation\n",
    "from sklearn import datasets\n",
    "from sklearn import svm\n",
    "\n",
    "iris = datasets.load_iris()\n",
    "# single train/test, 40% reserved for testing\n",
    "X_train, X_test, y_train, y_test = cross_validation.train_test_split(iris.data, iris.target, test_size = 0.4, random_state = 0)\n",
    "# SVC model for predicting iris classification using training data\n",
    "clf = svm.SVC(kernel='linear', C=1).fit(X_train, y_train)\n",
    "# measure it's performance with the test data\n",
    "clf.score(X_test, y_test)"
   ]
  },
  {
   "cell_type": "code",
   "execution_count": 3,
   "metadata": {
    "collapsed": false
   },
   "outputs": [
    {
     "name": "stdout",
     "output_type": "stream",
     "text": [
      "[ 0.96666667  1.          0.96666667  0.96666667  1.        ]\n",
      "0.98\n"
     ]
    }
   ],
   "source": [
    "scores = cross_validation.cross_val_score(clf, iris.data, iris.target, cv = 5)\n",
    "print scores\n",
    "print scores.mean()"
   ]
  },
  {
   "cell_type": "code",
   "execution_count": 4,
   "metadata": {
    "collapsed": false
   },
   "outputs": [
    {
     "name": "stdout",
     "output_type": "stream",
     "text": [
      "[ 1.          1.          0.9         0.93333333  1.        ]\n",
      "0.966666666667\n"
     ]
    }
   ],
   "source": [
    "clf = svm.SVC(kernel='poly', C=1).fit(X_train, y_train)\n",
    "scores = cross_validation.cross_val_score(clf, iris.data, iris.target, cv=5)\n",
    "print scores\n",
    "print scores.mean()"
   ]
  },
  {
   "cell_type": "code",
   "execution_count": 5,
   "metadata": {
    "collapsed": false
   },
   "outputs": [
    {
     "data": {
      "text/plain": [
       "0.96666666666666667"
      ]
     },
     "execution_count": 5,
     "metadata": {},
     "output_type": "execute_result"
    }
   ],
   "source": [
    "# Polynomial kernel is overfitting, but we couldn't have noted it\n",
    "# with only on train/test split:\n",
    "clf = svm.SVC(kernel='poly', C=1).fit(X_train, y_train)\n",
    "clf.score(X_test, y_test)"
   ]
  },
  {
   "cell_type": "code",
   "execution_count": 6,
   "metadata": {
    "collapsed": true
   },
   "outputs": [],
   "source": [
    "# no difference in this case but in general it's better make cross validation"
   ]
  },
  {
   "cell_type": "markdown",
   "metadata": {},
   "source": [
    "# Cleaning web log data"
   ]
  },
  {
   "cell_type": "code",
   "execution_count": 10,
   "metadata": {
    "collapsed": false
   },
   "outputs": [],
   "source": [
    "# Let's take a web access log and figure out the most viewed pages from it.\n",
    "# let's set up a regex that lets us parse an apach access log line:\n",
    "import re\n",
    "\n",
    "format_pat = re.compile(\n",
    "    r\"(?P<host>[\\d\\.]+)\\s\"\n",
    "    r\"(?P<identity>\\S*)\\s\"\n",
    "    r\"(?P<user>\\S*)\\s\"\n",
    "    r\"\\[(?P<time>.*?)\\]\\s\"\n",
    "    r'\"(?P<request>.*?)\"\\s'\n",
    "    r\"(?P<status>\\d+)\\s\"\n",
    "    r\"(?P<bytes>\\S*)\\s\"\n",
    "    r'\"(?P<referer>.*?)\"\\s'\n",
    "    r'\"(?P<user_agent>.*?)\"\\s*'\n",
    ")\n",
    "\n",
    "logPath = \"/Users/Andrew/python/notebooks/access_log.txt\"\n"
   ]
  },
  {
   "cell_type": "code",
   "execution_count": 37,
   "metadata": {
    "collapsed": false
   },
   "outputs": [
    {
     "name": "stdout",
     "output_type": "stream",
     "text": [
      "66.249.75.159 - - [29/Nov/2015:03:50:05 +0000] \"GET /robots.txt HTTP/1.1\" 200 55 \"-\" \"Mozilla/5.0 (compatible; Googlebot/2.1; +http://www.google.com/bot.html)\"\n",
      "\n",
      "\n",
      "{'status': '200', 'bytes': '55', 'request': 'GET /robots.txt HTTP/1.1', 'host': '66.249.75.159', 'referer': '-', 'user': '-', 'time': '29/Nov/2015:03:50:05 +0000', 'identity': '-', 'user_agent': 'Mozilla/5.0 (compatible; Googlebot/2.1; +http://www.google.com/bot.html)'}\n",
      "\n",
      "request: GET /robots.txt HTTP/1.1\n",
      "['GET', '/robots.txt', 'HTTP/1.1']\n",
      "action: GET\n",
      "URL: /robots.txt\n",
      "protocol: HTTP/1.1\n"
     ]
    }
   ],
   "source": [
    "URLcounts = []\n",
    "b_print = True\n",
    "\n",
    "with open(logPath, \"r\") as f:\n",
    "    for line in (l.strip() for l in f):\n",
    "        match = format_pat.match(line)\n",
    "        if match:\n",
    "            access = match.groupdict()\n",
    "            request = access['request']\n",
    "            if b_print:\n",
    "                print line\n",
    "                print \"\\n\"\n",
    "                print access\n",
    "                print \"\\n\" + \"request: \" + request\n",
    "                print request.split()\n",
    "                (action, URL, protocol) = request.split()\n",
    "                print \"action: \" + action\n",
    "                print \"URL: \" + URL\n",
    "                print \"protocol: \" + protocol\n",
    "                break\n",
    "            "
   ]
  },
  {
   "cell_type": "code",
   "execution_count": 38,
   "metadata": {
    "collapsed": false
   },
   "outputs": [
    {
     "ename": "ValueError",
     "evalue": "need more than 1 value to unpack",
     "output_type": "error",
     "traceback": [
      "\u001b[0;31m\u001b[0m",
      "\u001b[0;31mValueError\u001b[0mTraceback (most recent call last)",
      "\u001b[0;32m<ipython-input-38-aa2792175c62>\u001b[0m in \u001b[0;36m<module>\u001b[0;34m()\u001b[0m\n\u001b[1;32m      8\u001b[0m             \u001b[0maccess\u001b[0m \u001b[0;34m=\u001b[0m \u001b[0mmatch\u001b[0m\u001b[0;34m.\u001b[0m\u001b[0mgroupdict\u001b[0m\u001b[0;34m(\u001b[0m\u001b[0;34m)\u001b[0m\u001b[0;34m\u001b[0m\u001b[0m\n\u001b[1;32m      9\u001b[0m             \u001b[0mrequest\u001b[0m \u001b[0;34m=\u001b[0m \u001b[0maccess\u001b[0m\u001b[0;34m[\u001b[0m\u001b[0;34m'request'\u001b[0m\u001b[0;34m]\u001b[0m\u001b[0;34m\u001b[0m\u001b[0m\n\u001b[0;32m---> 10\u001b[0;31m             \u001b[0;34m(\u001b[0m\u001b[0maction\u001b[0m\u001b[0;34m,\u001b[0m \u001b[0mURL\u001b[0m\u001b[0;34m,\u001b[0m \u001b[0mprotocol\u001b[0m\u001b[0;34m)\u001b[0m \u001b[0;34m=\u001b[0m \u001b[0mrequest\u001b[0m\u001b[0;34m.\u001b[0m\u001b[0msplit\u001b[0m\u001b[0;34m(\u001b[0m\u001b[0;34m)\u001b[0m\u001b[0;34m\u001b[0m\u001b[0m\n\u001b[0m\u001b[1;32m     11\u001b[0m             \u001b[0;32mif\u001b[0m \u001b[0mURLCounts\u001b[0m\u001b[0;34m.\u001b[0m\u001b[0mhas_key\u001b[0m\u001b[0;34m(\u001b[0m\u001b[0mURL\u001b[0m\u001b[0;34m)\u001b[0m\u001b[0;34m:\u001b[0m\u001b[0;34m\u001b[0m\u001b[0m\n\u001b[1;32m     12\u001b[0m                 \u001b[0mURLCounts\u001b[0m\u001b[0;34m[\u001b[0m\u001b[0mURL\u001b[0m\u001b[0;34m]\u001b[0m \u001b[0;34m=\u001b[0m \u001b[0mURLCounts\u001b[0m\u001b[0;34m[\u001b[0m\u001b[0mURL\u001b[0m\u001b[0;34m]\u001b[0m \u001b[0;34m+\u001b[0m \u001b[0;36m1\u001b[0m\u001b[0;34m\u001b[0m\u001b[0m\n",
      "\u001b[0;31mValueError\u001b[0m: need more than 1 value to unpack"
     ]
    }
   ],
   "source": [
    "# let's extract urls and use a dictionary to count the number of times each appears\n",
    "\n",
    "URLCounts = {}\n",
    "with open(logPath, \"r\") as f:\n",
    "    for line in (l.strip() for l in f):\n",
    "        match = format_pat.match(line)\n",
    "        if match:\n",
    "            access = match.groupdict()\n",
    "            request = access['request']\n",
    "            (action, URL, protocol) = request.split()\n",
    "            if URLCounts.has_key(URL):\n",
    "                URLCounts[URL] = URLCounts[URL] + 1\n",
    "            else:\n",
    "                URLCounts[URL] = 1\n",
    "\n",
    "results = sorted(URLCounts, key=lambda i: int(URLCounts[i]), reverse=True)\n",
    "\n",
    "for result in results[:20]:\n",
    "    print result + \": \" + str(URLCounts[result])\n",
    "\n"
   ]
  },
  {
   "cell_type": "code",
   "execution_count": 39,
   "metadata": {
    "collapsed": false
   },
   "outputs": [
    {
     "name": "stdout",
     "output_type": "stream",
     "text": [
      "['_\\\\xb0ZP\\\\x07tR\\\\xe5']\n",
      "[]\n",
      "[]\n",
      "[]\n",
      "[]\n",
      "[]\n",
      "[]\n",
      "[]\n",
      "[]\n",
      "[]\n",
      "[]\n"
     ]
    }
   ],
   "source": [
    "# let's figure out cuase of mistake\n",
    "\n",
    "URLCounts = {}\n",
    "with open(logPath, \"r\") as f:\n",
    "    for line in (l.strip() for l in f):\n",
    "        match = format_pat.match(line)\n",
    "        if match:\n",
    "            access = match.groupdict()\n",
    "            request = access['request']\n",
    "            fields = request.split()\n",
    "            if len(fields) != 3:\n",
    "                print fields"
   ]
  },
  {
   "cell_type": "code",
   "execution_count": 41,
   "metadata": {
    "collapsed": false
   },
   "outputs": [
    {
     "name": "stdout",
     "output_type": "stream",
     "text": [
      "/xmlrpc.php: 68494\n",
      "/wp-login.php: 1923\n",
      "/: 440\n",
      "/blog/: 138\n",
      "/robots.txt: 123\n",
      "/sitemap_index.xml: 118\n",
      "/post-sitemap.xml: 118\n",
      "/category-sitemap.xml: 117\n",
      "/page-sitemap.xml: 117\n",
      "/orlando-headlines/: 95\n",
      "/san-jose-headlines/: 85\n",
      "http://51.254.206.142/httptest.php: 81\n",
      "/comics-2/: 76\n",
      "/travel/: 74\n",
      "/entertainment/: 72\n",
      "/world/: 70\n",
      "/business/: 70\n",
      "/weather/: 70\n",
      "/national/: 70\n",
      "/national-headlines/: 70\n"
     ]
    }
   ],
   "source": [
    "# let's modify script to take this into account\n",
    "\n",
    "URLCounts = {}\n",
    "with open(logPath, \"r\") as f:\n",
    "    for line in (l.strip() for l in f):\n",
    "        match = format_pat.match(line)\n",
    "        if match:\n",
    "            access = match.groupdict()\n",
    "            request = access['request']\n",
    "            fields = request.split()\n",
    "            if (len(fields) == 3):\n",
    "                URL = fields[1]\n",
    "                if URLCounts.has_key(URL):\n",
    "                    URLCounts[URL] = URLCounts[URL] + 1\n",
    "                else:\n",
    "                    URLCounts[URL] = 1\n",
    "\n",
    "results = sorted(URLCounts, key=lambda i: int(URLCounts[i]), reverse=True)\n",
    "\n",
    "for result in results[:20]:\n",
    "    print result + \": \" + str(URLCounts[result])\n"
   ]
  },
  {
   "cell_type": "code",
   "execution_count": 43,
   "metadata": {
    "collapsed": false
   },
   "outputs": [
    {
     "name": "stdout",
     "output_type": "stream",
     "text": [
      "/: 434\n",
      "/blog/: 138\n",
      "/robots.txt: 123\n",
      "/sitemap_index.xml: 118\n",
      "/post-sitemap.xml: 118\n",
      "/category-sitemap.xml: 117\n",
      "/page-sitemap.xml: 117\n",
      "/orlando-headlines/: 95\n",
      "/san-jose-headlines/: 85\n",
      "http://51.254.206.142/httptest.php: 81\n",
      "/comics-2/: 76\n",
      "/travel/: 74\n",
      "/entertainment/: 72\n",
      "/world/: 70\n",
      "/business/: 70\n",
      "/weather/: 70\n",
      "/national/: 70\n",
      "/national-headlines/: 70\n",
      "/defense-sticking-head-sand/: 69\n",
      "/about/: 69\n"
     ]
    }
   ],
   "source": [
    "# it's seems that website is under attack: frequent requests of\n",
    "# xmlrpc.php and wp-login.php and corresponding requests are POST (execute) not GET type\n",
    "# let's filter POST requests\n",
    "\n",
    "URLCounts = {}\n",
    "with open(logPath, \"r\") as f:\n",
    "    for line in (l.strip() for l in f):\n",
    "        match = format_pat.match(line)\n",
    "        if match:\n",
    "            access = match.groupdict()\n",
    "            request = access['request']\n",
    "            fields = request.split()\n",
    "            if (len(fields) == 3):\n",
    "                (action, URL, protocol) = fields\n",
    "                if (action == 'GET'):\n",
    "                    if URLCounts.has_key(URL):\n",
    "                        URLCounts[URL] = URLCounts[URL] + 1\n",
    "                    else:\n",
    "                        URLCounts[URL] = 1\n",
    "\n",
    "results = sorted(URLCounts, key=lambda i: int(URLCounts[i]), reverse=True)\n",
    "\n",
    "for result in results[:20]:\n",
    "    print result + \": \" + str(URLCounts[result])\n",
    "\n",
    "# it's strange that blog is highly requested (a few posts)\n",
    "# let's examine "
   ]
  },
  {
   "cell_type": "code",
   "execution_count": 51,
   "metadata": {
    "collapsed": false
   },
   "outputs": [
    {
     "name": "stdout",
     "output_type": "stream",
     "text": [
      "{'status': '200', 'bytes': '8083', 'request': 'GET /blog/ HTTP/1.1', 'host': '66.249.75.168', 'referer': '-', 'user': '-', 'time': '29/Nov/2015:03:50:06 +0000', 'identity': '-', 'user_agent': 'Mozilla/5.0 (compatible; Googlebot/2.1; +http://www.google.com/bot.html)'}\n",
      "{'status': '200', 'bytes': '31746', 'request': 'GET /blog/ HTTP/1.0', 'host': '54.165.199.171', 'referer': '-', 'user': '-', 'time': '29/Nov/2015:04:32:27 +0000', 'identity': '-', 'user_agent': '-'}\n",
      "{'status': '200', 'bytes': '31784', 'request': 'GET /blog/ HTTP/1.0', 'host': '54.165.199.171', 'referer': '-', 'user': '-', 'time': '29/Nov/2015:05:32:23 +0000', 'identity': '-', 'user_agent': '-'}\n",
      "{'status': '200', 'bytes': '31784', 'request': 'GET /blog/ HTTP/1.0', 'host': '54.165.199.171', 'referer': '-', 'user': '-', 'time': '29/Nov/2015:06:32:21 +0000', 'identity': '-', 'user_agent': '-'}\n",
      "{'status': '200', 'bytes': '31771', 'request': 'GET /blog/ HTTP/1.0', 'host': '54.165.199.171', 'referer': '-', 'user': '-', 'time': '29/Nov/2015:07:32:44 +0000', 'identity': '-', 'user_agent': '-'}\n",
      "{'status': '200', 'bytes': '8089', 'request': 'GET /blog/ HTTP/1.1', 'host': '54.221.52.183', 'referer': '-', 'user': '-', 'time': '29/Nov/2015:07:58:39 +0000', 'identity': '-', 'user_agent': 'Mozilla/5.0 (compatible; linkdexbot/2.0; +http://www.linkdex.com/bots/)'}\n",
      "{'status': '200', 'bytes': '31771', 'request': 'GET /blog/ HTTP/1.0', 'host': '54.165.199.171', 'referer': '-', 'user': '-', 'time': '29/Nov/2015:08:32:19 +0000', 'identity': '-', 'user_agent': '-'}\n",
      "{'status': '200', 'bytes': '31771', 'request': 'GET /blog/ HTTP/1.0', 'host': '54.165.199.171', 'referer': '-', 'user': '-', 'time': '29/Nov/2015:09:32:23 +0000', 'identity': '-', 'user_agent': '-'}\n",
      "{'status': '200', 'bytes': '8089', 'request': 'GET /blog/ HTTP/1.1', 'host': '180.76.15.18', 'referer': '-', 'user': '-', 'time': '29/Nov/2015:10:29:58 +0000', 'identity': '-', 'user_agent': 'Mozilla/5.0 (compatible; Baiduspider/2.0; +http://www.baidu.com/search/spider.html)'}\n",
      "{'status': '200', 'bytes': '31973', 'request': 'GET /blog/ HTTP/1.0', 'host': '54.165.199.171', 'referer': '-', 'user': '-', 'time': '29/Nov/2015:10:32:37 +0000', 'identity': '-', 'user_agent': '-'}\n",
      "{'status': '200', 'bytes': '31973', 'request': 'GET /blog/ HTTP/1.0', 'host': '54.165.199.171', 'referer': '-', 'user': '-', 'time': '29/Nov/2015:11:32:26 +0000', 'identity': '-', 'user_agent': '-'}\n",
      "{'status': '200', 'bytes': '31732', 'request': 'GET /blog/ HTTP/1.0', 'host': '54.165.199.171', 'referer': '-', 'user': '-', 'time': '29/Nov/2015:12:33:03 +0000', 'identity': '-', 'user_agent': '-'}\n",
      "{'status': '200', 'bytes': '31732', 'request': 'GET /blog/ HTTP/1.0', 'host': '54.165.199.171', 'referer': '-', 'user': '-', 'time': '29/Nov/2015:13:32:46 +0000', 'identity': '-', 'user_agent': '-'}\n",
      "{'status': '200', 'bytes': '31926', 'request': 'GET /blog/ HTTP/1.0', 'host': '54.165.199.171', 'referer': '-', 'user': '-', 'time': '29/Nov/2015:14:32:21 +0000', 'identity': '-', 'user_agent': '-'}\n",
      "{'status': '200', 'bytes': '31986', 'request': 'GET /blog/ HTTP/1.0', 'host': '54.165.199.171', 'referer': '-', 'user': '-', 'time': '29/Nov/2015:15:32:41 +0000', 'identity': '-', 'user_agent': '-'}\n",
      "{'status': '200', 'bytes': '8176', 'request': 'GET /blog/ HTTP/1.1', 'host': '66.249.66.3', 'referer': '-', 'user': '-', 'time': '29/Nov/2015:15:37:00 +0000', 'identity': '-', 'user_agent': 'Mozilla/5.0 (compatible; Googlebot/2.1; +http://www.google.com/bot.html)'}\n",
      "{'status': '200', 'bytes': '31986', 'request': 'GET /blog/ HTTP/1.0', 'host': '54.165.199.171', 'referer': '-', 'user': '-', 'time': '29/Nov/2015:16:32:38 +0000', 'identity': '-', 'user_agent': '-'}\n",
      "{'status': '200', 'bytes': '31912', 'request': 'GET /blog/ HTTP/1.0', 'host': '54.165.199.171', 'referer': '-', 'user': '-', 'time': '29/Nov/2015:17:32:26 +0000', 'identity': '-', 'user_agent': '-'}\n",
      "{'status': '200', 'bytes': '31912', 'request': 'GET /blog/ HTTP/1.0', 'host': '54.165.199.171', 'referer': '-', 'user': '-', 'time': '29/Nov/2015:18:32:20 +0000', 'identity': '-', 'user_agent': '-'}\n",
      "{'status': '200', 'bytes': '31966', 'request': 'GET /blog/ HTTP/1.0', 'host': '54.165.199.171', 'referer': '-', 'user': '-', 'time': '29/Nov/2015:19:33:01 +0000', 'identity': '-', 'user_agent': '-'}\n",
      "{'status': '200', 'bytes': '31966', 'request': 'GET /blog/ HTTP/1.0', 'host': '54.165.199.171', 'referer': '-', 'user': '-', 'time': '29/Nov/2015:20:32:47 +0000', 'identity': '-', 'user_agent': '-'}\n",
      "{'status': '200', 'bytes': '31940', 'request': 'GET /blog/ HTTP/1.0', 'host': '54.165.199.171', 'referer': '-', 'user': '-', 'time': '29/Nov/2015:21:32:39 +0000', 'identity': '-', 'user_agent': '-'}\n",
      "{'status': '200', 'bytes': '8156', 'request': 'GET /blog/ HTTP/1.1', 'host': '180.76.15.141', 'referer': '-', 'user': '-', 'time': '29/Nov/2015:21:53:56 +0000', 'identity': '-', 'user_agent': 'Mozilla/5.0 (compatible; Baiduspider/2.0; +http://www.baidu.com/search/spider.html)'}\n",
      "{'status': '200', 'bytes': '31940', 'request': 'GET /blog/ HTTP/1.0', 'host': '54.165.199.171', 'referer': '-', 'user': '-', 'time': '29/Nov/2015:22:32:20 +0000', 'identity': '-', 'user_agent': '-'}\n",
      "{'status': '200', 'bytes': '31737', 'request': 'GET /blog/ HTTP/1.0', 'host': '54.165.199.171', 'referer': '-', 'user': '-', 'time': '30/Nov/2015:11:32:40 +0000', 'identity': '-', 'user_agent': '-'}\n",
      "{'status': '200', 'bytes': '31737', 'request': 'GET /blog/ HTTP/1.0', 'host': '54.165.199.171', 'referer': '-', 'user': '-', 'time': '30/Nov/2015:12:32:35 +0000', 'identity': '-', 'user_agent': '-'}\n",
      "{'status': '200', 'bytes': '31766', 'request': 'GET /blog/ HTTP/1.0', 'host': '54.165.199.171', 'referer': '-', 'user': '-', 'time': '30/Nov/2015:13:32:42 +0000', 'identity': '-', 'user_agent': '-'}\n",
      "{'status': '200', 'bytes': '31766', 'request': 'GET /blog/ HTTP/1.0', 'host': '54.165.199.171', 'referer': '-', 'user': '-', 'time': '30/Nov/2015:14:32:35 +0000', 'identity': '-', 'user_agent': '-'}\n",
      "{'status': '200', 'bytes': '31879', 'request': 'GET /blog/ HTTP/1.0', 'host': '54.165.199.171', 'referer': '-', 'user': '-', 'time': '30/Nov/2015:15:32:25 +0000', 'identity': '-', 'user_agent': '-'}\n",
      "{'status': '200', 'bytes': '31952', 'request': 'GET /blog/ HTTP/1.0', 'host': '54.165.199.171', 'referer': '-', 'user': '-', 'time': '30/Nov/2015:16:32:58 +0000', 'identity': '-', 'user_agent': '-'}\n",
      "{'status': '200', 'bytes': '31952', 'request': 'GET /blog/ HTTP/1.0', 'host': '54.165.199.171', 'referer': '-', 'user': '-', 'time': '30/Nov/2015:17:32:40 +0000', 'identity': '-', 'user_agent': '-'}\n",
      "{'status': '200', 'bytes': '31889', 'request': 'GET /blog/ HTTP/1.0', 'host': '54.165.199.171', 'referer': '-', 'user': '-', 'time': '30/Nov/2015:18:32:45 +0000', 'identity': '-', 'user_agent': '-'}\n",
      "{'status': '200', 'bytes': '31889', 'request': 'GET /blog/ HTTP/1.0', 'host': '54.165.199.171', 'referer': '-', 'user': '-', 'time': '30/Nov/2015:19:32:27 +0000', 'identity': '-', 'user_agent': '-'}\n",
      "{'status': '200', 'bytes': '8108', 'request': 'GET /blog/ HTTP/1.1', 'host': '66.249.66.3', 'referer': '-', 'user': '-', 'time': '30/Nov/2015:20:28:04 +0000', 'identity': '-', 'user_agent': 'Mozilla/5.0 (compatible; Googlebot/2.1; +http://www.google.com/bot.html)'}\n",
      "{'status': '200', 'bytes': '31830', 'request': 'GET /blog/ HTTP/1.0', 'host': '54.165.199.171', 'referer': '-', 'user': '-', 'time': '30/Nov/2015:20:32:44 +0000', 'identity': '-', 'user_agent': '-'}\n",
      "{'status': '500', 'bytes': '200', 'request': 'GET /blog/ HTTP/1.1', 'host': '66.249.66.59', 'referer': '-', 'user': '-', 'time': '01/Dec/2015:13:12:28 +0000', 'identity': '-', 'user_agent': 'Mozilla/5.0 (compatible; Googlebot/2.1; +http://www.google.com/bot.html)'}\n",
      "{'status': '200', 'bytes': '31879', 'request': 'GET /blog/ HTTP/1.0', 'host': '54.165.199.171', 'referer': '-', 'user': '-', 'time': '01/Dec/2015:22:32:47 +0000', 'identity': '-', 'user_agent': '-'}\n",
      "{'status': '200', 'bytes': '31879', 'request': 'GET /blog/ HTTP/1.0', 'host': '54.165.199.171', 'referer': '-', 'user': '-', 'time': '01/Dec/2015:23:32:27 +0000', 'identity': '-', 'user_agent': '-'}\n",
      "{'status': '200', 'bytes': '31632', 'request': 'GET /blog/ HTTP/1.0', 'host': '54.165.199.171', 'referer': '-', 'user': '-', 'time': '02/Dec/2015:12:32:08 +0000', 'identity': '-', 'user_agent': '-'}\n",
      "{'status': '200', 'bytes': '31632', 'request': 'GET /blog/ HTTP/1.0', 'host': '54.165.199.171', 'referer': '-', 'user': '-', 'time': '02/Dec/2015:13:31:49 +0000', 'identity': '-', 'user_agent': '-'}\n",
      "{'status': '200', 'bytes': '31773', 'request': 'GET /blog/ HTTP/1.0', 'host': '54.165.199.171', 'referer': '-', 'user': '-', 'time': '02/Dec/2015:14:32:03 +0000', 'identity': '-', 'user_agent': '-'}\n",
      "{'status': '200', 'bytes': '31773', 'request': 'GET /blog/ HTTP/1.0', 'host': '54.165.199.171', 'referer': '-', 'user': '-', 'time': '02/Dec/2015:15:31:54 +0000', 'identity': '-', 'user_agent': '-'}\n",
      "{'status': '200', 'bytes': '31802', 'request': 'GET /blog/ HTTP/1.0', 'host': '54.165.199.171', 'referer': '-', 'user': '-', 'time': '02/Dec/2015:16:32:08 +0000', 'identity': '-', 'user_agent': '-'}\n",
      "{'status': '200', 'bytes': '8147', 'request': 'GET /blog/ HTTP/1.1', 'host': '141.8.143.133', 'referer': '-', 'user': '-', 'time': '02/Dec/2015:16:39:03 +0000', 'identity': '-', 'user_agent': 'Mozilla/5.0 (compatible; YandexBot/3.0; +http://yandex.com/bots)'}\n",
      "{'status': '200', 'bytes': '31656', 'request': 'GET /blog/ HTTP/1.0', 'host': '54.165.199.171', 'referer': '-', 'user': '-', 'time': '02/Dec/2015:17:32:34 +0000', 'identity': '-', 'user_agent': '-'}\n",
      "{'status': '200', 'bytes': '31656', 'request': 'GET /blog/ HTTP/1.0', 'host': '54.165.199.171', 'referer': '-', 'user': '-', 'time': '02/Dec/2015:18:31:55 +0000', 'identity': '-', 'user_agent': '-'}\n",
      "{'status': '200', 'bytes': '31708', 'request': 'GET /blog/ HTTP/1.0', 'host': '54.165.199.171', 'referer': '-', 'user': '-', 'time': '02/Dec/2015:19:31:52 +0000', 'identity': '-', 'user_agent': '-'}\n",
      "{'status': '200', 'bytes': '31969', 'request': 'GET /blog/ HTTP/1.0', 'host': '54.165.199.171', 'referer': '-', 'user': '-', 'time': '02/Dec/2015:20:32:33 +0000', 'identity': '-', 'user_agent': '-'}\n",
      "{'status': '200', 'bytes': '31969', 'request': 'GET /blog/ HTTP/1.0', 'host': '54.165.199.171', 'referer': '-', 'user': '-', 'time': '02/Dec/2015:21:32:04 +0000', 'identity': '-', 'user_agent': '-'}\n",
      "{'status': '200', 'bytes': '31832', 'request': 'GET /blog/ HTTP/1.0', 'host': '54.165.199.171', 'referer': '-', 'user': '-', 'time': '02/Dec/2015:22:31:55 +0000', 'identity': '-', 'user_agent': '-'}\n",
      "{'status': '200', 'bytes': '31760', 'request': 'GET /blog/ HTTP/1.0', 'host': '54.165.199.171', 'referer': '-', 'user': '-', 'time': '02/Dec/2015:23:32:04 +0000', 'identity': '-', 'user_agent': '-'}\n",
      "{'status': '200', 'bytes': '31879', 'request': 'GET /blog/ HTTP/1.0', 'host': '54.165.199.171', 'referer': '-', 'user': '-', 'time': '03/Dec/2015:00:32:16 +0000', 'identity': '-', 'user_agent': '-'}\n",
      "{'status': '200', 'bytes': '31977', 'request': 'GET /blog/ HTTP/1.0', 'host': '54.165.199.171', 'referer': '-', 'user': '-', 'time': '03/Dec/2015:01:32:31 +0000', 'identity': '-', 'user_agent': '-'}\n",
      "{'status': '200', 'bytes': '31977', 'request': 'GET /blog/ HTTP/1.0', 'host': '54.165.199.171', 'referer': '-', 'user': '-', 'time': '03/Dec/2015:02:31:48 +0000', 'identity': '-', 'user_agent': '-'}\n",
      "{'status': '200', 'bytes': '31586', 'request': 'GET /blog/ HTTP/1.0', 'host': '54.165.199.171', 'referer': '-', 'user': '-', 'time': '03/Dec/2015:03:31:49 +0000', 'identity': '-', 'user_agent': '-'}\n",
      "{'status': '200', 'bytes': '31594', 'request': 'GET /blog/ HTTP/1.0', 'host': '54.165.199.171', 'referer': '-', 'user': '-', 'time': '03/Dec/2015:04:31:52 +0000', 'identity': '-', 'user_agent': '-'}\n",
      "{'status': '200', 'bytes': '31859', 'request': 'GET /blog/ HTTP/1.0', 'host': '54.165.199.171', 'referer': '-', 'user': '-', 'time': '03/Dec/2015:05:32:14 +0000', 'identity': '-', 'user_agent': '-'}\n",
      "{'status': '200', 'bytes': '31859', 'request': 'GET /blog/ HTTP/1.0', 'host': '54.165.199.171', 'referer': '-', 'user': '-', 'time': '03/Dec/2015:06:31:56 +0000', 'identity': '-', 'user_agent': '-'}\n",
      "{'status': '200', 'bytes': '8071', 'request': 'GET /blog/ HTTP/1.1', 'host': '66.249.73.158', 'referer': '-', 'user': '-', 'time': '03/Dec/2015:06:52:50 +0000', 'identity': '-', 'user_agent': 'Mozilla/5.0 (compatible; Googlebot/2.1; +http://www.google.com/bot.html)'}\n",
      "{'status': '200', 'bytes': '31615', 'request': 'GET /blog/ HTTP/1.0', 'host': '54.165.199.171', 'referer': '-', 'user': '-', 'time': '03/Dec/2015:07:32:09 +0000', 'identity': '-', 'user_agent': '-'}\n",
      "{'status': '200', 'bytes': '8208', 'request': 'GET /blog/ HTTP/1.1', 'host': '180.76.15.141', 'referer': '-', 'user': '-', 'time': '03/Dec/2015:08:12:41 +0000', 'identity': '-', 'user_agent': 'Mozilla/5.0 (compatible; Baiduspider/2.0; +http://www.baidu.com/search/spider.html)'}\n",
      "{'status': '200', 'bytes': '31893', 'request': 'GET /blog/ HTTP/1.0', 'host': '54.165.199.171', 'referer': '-', 'user': '-', 'time': '03/Dec/2015:08:32:10 +0000', 'identity': '-', 'user_agent': '-'}\n",
      "{'status': '200', 'bytes': '31961', 'request': 'GET /blog/ HTTP/1.0', 'host': '54.165.199.171', 'referer': '-', 'user': '-', 'time': '03/Dec/2015:09:32:09 +0000', 'identity': '-', 'user_agent': '-'}\n",
      "{'status': '200', 'bytes': '31832', 'request': 'GET /blog/ HTTP/1.0', 'host': '54.165.199.171', 'referer': '-', 'user': '-', 'time': '03/Dec/2015:10:32:26 +0000', 'identity': '-', 'user_agent': '-'}\n",
      "{'status': '200', 'bytes': '31832', 'request': 'GET /blog/ HTTP/1.0', 'host': '54.165.199.171', 'referer': '-', 'user': '-', 'time': '03/Dec/2015:11:31:47 +0000', 'identity': '-', 'user_agent': '-'}\n",
      "{'status': '200', 'bytes': '8097', 'request': 'GET /blog/ HTTP/1.1', 'host': '66.249.73.166', 'referer': '-', 'user': '-', 'time': '03/Dec/2015:11:53:57 +0000', 'identity': '-', 'user_agent': 'Mozilla/5.0 (compatible; Googlebot/2.1; +http://www.google.com/bot.html)'}\n",
      "{'status': '200', 'bytes': '31785', 'request': 'GET /blog/ HTTP/1.0', 'host': '54.165.199.171', 'referer': '-', 'user': '-', 'time': '03/Dec/2015:12:32:06 +0000', 'identity': '-', 'user_agent': '-'}\n",
      "{'status': '200', 'bytes': '32084', 'request': 'GET /blog/ HTTP/1.0', 'host': '54.165.199.171', 'referer': '-', 'user': '-', 'time': '03/Dec/2015:13:32:10 +0000', 'identity': '-', 'user_agent': '-'}\n",
      "{'status': '200', 'bytes': '32015', 'request': 'GET /blog/ HTTP/1.0', 'host': '54.165.199.171', 'referer': '-', 'user': '-', 'time': '03/Dec/2015:14:32:25 +0000', 'identity': '-', 'user_agent': '-'}\n",
      "{'status': '200', 'bytes': '8185', 'request': 'GET /blog/ HTTP/1.1', 'host': '66.249.66.59', 'referer': '-', 'user': '-', 'time': '03/Dec/2015:14:32:43 +0000', 'identity': '-', 'user_agent': 'Mozilla/5.0 (compatible; Googlebot/2.1; +http://www.google.com/bot.html)'}\n",
      "{'status': '200', 'bytes': '32015', 'request': 'GET /blog/ HTTP/1.0', 'host': '54.165.199.171', 'referer': '-', 'user': '-', 'time': '03/Dec/2015:15:32:06 +0000', 'identity': '-', 'user_agent': '-'}\n",
      "{'status': '200', 'bytes': '31897', 'request': 'GET /blog/ HTTP/1.0', 'host': '54.165.199.171', 'referer': '-', 'user': '-', 'time': '03/Dec/2015:16:32:19 +0000', 'identity': '-', 'user_agent': '-'}\n",
      "{'status': '200', 'bytes': '31897', 'request': 'GET /blog/ HTTP/1.0', 'host': '54.165.199.171', 'referer': '-', 'user': '-', 'time': '03/Dec/2015:17:31:52 +0000', 'identity': '-', 'user_agent': '-'}\n",
      "{'status': '200', 'bytes': '31736', 'request': 'GET /blog/ HTTP/1.0', 'host': '54.165.199.171', 'referer': '-', 'user': '-', 'time': '03/Dec/2015:18:32:03 +0000', 'identity': '-', 'user_agent': '-'}\n",
      "{'status': '200', 'bytes': '31730', 'request': 'GET /blog/ HTTP/1.0', 'host': '54.165.199.171', 'referer': '-', 'user': '-', 'time': '03/Dec/2015:19:32:31 +0000', 'identity': '-', 'user_agent': '-'}\n",
      "{'status': '200', 'bytes': '31730', 'request': 'GET /blog/ HTTP/1.0', 'host': '54.165.199.171', 'referer': '-', 'user': '-', 'time': '03/Dec/2015:20:31:51 +0000', 'identity': '-', 'user_agent': '-'}\n",
      "{'status': '200', 'bytes': '31637', 'request': 'GET /blog/ HTTP/1.0', 'host': '54.165.199.171', 'referer': '-', 'user': '-', 'time': '03/Dec/2015:21:31:58 +0000', 'identity': '-', 'user_agent': '-'}\n",
      "{'status': '200', 'bytes': '31637', 'request': 'GET /blog/ HTTP/1.0', 'host': '54.165.199.171', 'referer': '-', 'user': '-', 'time': '03/Dec/2015:22:31:53 +0000', 'identity': '-', 'user_agent': '-'}\n",
      "{'status': '200', 'bytes': '8149', 'request': 'GET /blog/ HTTP/1.1', 'host': '66.249.66.62', 'referer': '-', 'user': '-', 'time': '03/Dec/2015:22:57:21 +0000', 'identity': '-', 'user_agent': 'Mozilla/5.0 (compatible; Googlebot/2.1; +http://www.google.com/bot.html)'}\n",
      "{'status': '200', 'bytes': '31720', 'request': 'GET /blog/ HTTP/1.0', 'host': '54.165.199.171', 'referer': '-', 'user': '-', 'time': '03/Dec/2015:23:32:16 +0000', 'identity': '-', 'user_agent': '-'}\n",
      "{'status': '200', 'bytes': '31806', 'request': 'GET /blog/ HTTP/1.0', 'host': '54.165.199.171', 'referer': '-', 'user': '-', 'time': '04/Dec/2015:00:32:02 +0000', 'identity': '-', 'user_agent': '-'}\n",
      "{'status': '200', 'bytes': '31613', 'request': 'GET /blog/ HTTP/1.0', 'host': '54.165.199.171', 'referer': '-', 'user': '-', 'time': '04/Dec/2015:01:32:18 +0000', 'identity': '-', 'user_agent': '-'}\n",
      "{'status': '200', 'bytes': '31613', 'request': 'GET /blog/ HTTP/1.0', 'host': '54.165.199.171', 'referer': '-', 'user': '-', 'time': '04/Dec/2015:02:32:00 +0000', 'identity': '-', 'user_agent': '-'}\n",
      "{'status': '200', 'bytes': '31655', 'request': 'GET /blog/ HTTP/1.0', 'host': '54.165.199.171', 'referer': '-', 'user': '-', 'time': '04/Dec/2015:03:31:58 +0000', 'identity': '-', 'user_agent': '-'}\n",
      "{'status': '200', 'bytes': '31655', 'request': 'GET /blog/ HTTP/1.0', 'host': '54.165.199.171', 'referer': '-', 'user': '-', 'time': '04/Dec/2015:04:31:57 +0000', 'identity': '-', 'user_agent': '-'}\n",
      "{'status': '200', 'bytes': '31849', 'request': 'GET /blog/ HTTP/1.0', 'host': '54.165.199.171', 'referer': '-', 'user': '-', 'time': '04/Dec/2015:05:32:02 +0000', 'identity': '-', 'user_agent': '-'}\n",
      "{'status': '200', 'bytes': '8219', 'request': 'GET /blog/ HTTP/1.1', 'host': '180.76.15.19', 'referer': '-', 'user': '-', 'time': '04/Dec/2015:05:56:51 +0000', 'identity': '-', 'user_agent': 'Mozilla/5.0 (compatible; Baiduspider/2.0; +http://www.baidu.com/search/spider.html)'}\n",
      "{'status': '200', 'bytes': '31683', 'request': 'GET /blog/ HTTP/1.0', 'host': '54.165.199.171', 'referer': '-', 'user': '-', 'time': '04/Dec/2015:06:32:25 +0000', 'identity': '-', 'user_agent': '-'}\n",
      "{'status': '200', 'bytes': '31683', 'request': 'GET /blog/ HTTP/1.0', 'host': '54.165.199.171', 'referer': '-', 'user': '-', 'time': '04/Dec/2015:07:32:11 +0000', 'identity': '-', 'user_agent': '-'}\n",
      "{'status': '200', 'bytes': '31806', 'request': 'GET /blog/ HTTP/1.0', 'host': '54.165.199.171', 'referer': '-', 'user': '-', 'time': '04/Dec/2015:08:32:02 +0000', 'identity': '-', 'user_agent': '-'}\n",
      "{'status': '200', 'bytes': '31879', 'request': 'GET /blog/ HTTP/1.0', 'host': '54.165.199.171', 'referer': '-', 'user': '-', 'time': '04/Dec/2015:09:32:18 +0000', 'identity': '-', 'user_agent': '-'}\n",
      "{'status': '200', 'bytes': '31879', 'request': 'GET /blog/ HTTP/1.0', 'host': '54.165.199.171', 'referer': '-', 'user': '-', 'time': '04/Dec/2015:10:32:18 +0000', 'identity': '-', 'user_agent': '-'}\n",
      "{'status': '200', 'bytes': '31935', 'request': 'GET /blog/ HTTP/1.0', 'host': '54.165.199.171', 'referer': '-', 'user': '-', 'time': '04/Dec/2015:11:32:04 +0000', 'identity': '-', 'user_agent': '-'}\n",
      "{'status': '200', 'bytes': '31935', 'request': 'GET /blog/ HTTP/1.0', 'host': '54.165.199.171', 'referer': '-', 'user': '-', 'time': '04/Dec/2015:12:32:03 +0000', 'identity': '-', 'user_agent': '-'}\n",
      "{'status': '200', 'bytes': '31929', 'request': 'GET /blog/ HTTP/1.0', 'host': '54.165.199.171', 'referer': '-', 'user': '-', 'time': '04/Dec/2015:13:31:57 +0000', 'identity': '-', 'user_agent': '-'}\n",
      "{'status': '200', 'bytes': '32079', 'request': 'GET /blog/ HTTP/1.0', 'host': '54.165.199.171', 'referer': '-', 'user': '-', 'time': '04/Dec/2015:14:32:19 +0000', 'identity': '-', 'user_agent': '-'}\n",
      "{'status': '200', 'bytes': '32079', 'request': 'GET /blog/ HTTP/1.0', 'host': '54.165.199.171', 'referer': '-', 'user': '-', 'time': '04/Dec/2015:15:32:06 +0000', 'identity': '-', 'user_agent': '-'}\n",
      "{'status': '200', 'bytes': '31808', 'request': 'GET /blog/ HTTP/1.0', 'host': '54.165.199.171', 'referer': '-', 'user': '-', 'time': '04/Dec/2015:16:32:06 +0000', 'identity': '-', 'user_agent': '-'}\n",
      "{'status': '200', 'bytes': '31958', 'request': 'GET /blog/ HTTP/1.0', 'host': '54.165.199.171', 'referer': '-', 'user': '-', 'time': '04/Dec/2015:17:32:22 +0000', 'identity': '-', 'user_agent': '-'}\n",
      "{'status': '200', 'bytes': '31763', 'request': 'GET /blog/ HTTP/1.0', 'host': '54.165.199.171', 'referer': '-', 'user': '-', 'time': '04/Dec/2015:18:32:24 +0000', 'identity': '-', 'user_agent': '-'}\n",
      "{'status': '200', 'bytes': '31763', 'request': 'GET /blog/ HTTP/1.0', 'host': '54.165.199.171', 'referer': '-', 'user': '-', 'time': '04/Dec/2015:19:32:17 +0000', 'identity': '-', 'user_agent': '-'}\n",
      "{'status': '200', 'bytes': '31642', 'request': 'GET /blog/ HTTP/1.0', 'host': '54.165.199.171', 'referer': '-', 'user': '-', 'time': '04/Dec/2015:21:32:27 +0000', 'identity': '-', 'user_agent': '-'}\n",
      "{'status': '200', 'bytes': '31642', 'request': 'GET /blog/ HTTP/1.0', 'host': '54.165.199.171', 'referer': '-', 'user': '-', 'time': '04/Dec/2015:22:31:57 +0000', 'identity': '-', 'user_agent': '-'}\n",
      "{'status': '200', 'bytes': '8221', 'request': 'GET /blog/ HTTP/1.1', 'host': '66.249.66.62', 'referer': '-', 'user': '-', 'time': '04/Dec/2015:22:49:52 +0000', 'identity': '-', 'user_agent': 'Mozilla/5.0 (compatible; Googlebot/2.1; +http://www.google.com/bot.html)'}\n",
      "{'status': '200', 'bytes': '32035', 'request': 'GET /blog/ HTTP/1.0', 'host': '54.165.199.171', 'referer': '-', 'user': '-', 'time': '04/Dec/2015:23:32:36 +0000', 'identity': '-', 'user_agent': '-'}\n",
      "{'status': '200', 'bytes': '31796', 'request': 'GET /blog/ HTTP/1.0', 'host': '54.165.199.171', 'referer': '-', 'user': '-', 'time': '05/Dec/2015:00:32:16 +0000', 'identity': '-', 'user_agent': '-'}\n",
      "{'status': '200', 'bytes': '8161', 'request': 'GET /blog/ HTTP/1.1', 'host': '66.249.66.3', 'referer': '-', 'user': '-', 'time': '05/Dec/2015:01:03:24 +0000', 'identity': '-', 'user_agent': 'Mozilla/5.0 (compatible; Googlebot/2.1; +http://www.google.com/bot.html)'}\n",
      "{'status': '200', 'bytes': '31918', 'request': 'GET /blog/ HTTP/1.0', 'host': '54.165.199.171', 'referer': '-', 'user': '-', 'time': '05/Dec/2015:01:32:24 +0000', 'identity': '-', 'user_agent': '-'}\n",
      "{'status': '200', 'bytes': '8233', 'request': 'GET /blog/ HTTP/1.1', 'host': '66.249.66.3', 'referer': '-', 'user': '-', 'time': '05/Dec/2015:02:20:04 +0000', 'identity': '-', 'user_agent': 'Mozilla/5.0 (compatible; Googlebot/2.1; +http://www.google.com/bot.html)'}\n",
      "{'status': '200', 'bytes': '32015', 'request': 'GET /blog/ HTTP/1.0', 'host': '54.165.199.171', 'referer': '-', 'user': '-', 'time': '05/Dec/2015:02:32:35 +0000', 'identity': '-', 'user_agent': '-'}\n",
      "{'status': '200', 'bytes': '32015', 'request': 'GET /blog/ HTTP/1.0', 'host': '54.165.199.171', 'referer': '-', 'user': '-', 'time': '05/Dec/2015:03:31:58 +0000', 'identity': '-', 'user_agent': '-'}\n",
      "{'status': '200', 'bytes': '32008', 'request': 'GET /blog/ HTTP/1.0', 'host': '54.165.199.171', 'referer': '-', 'user': '-', 'time': '05/Dec/2015:04:32:00 +0000', 'identity': '-', 'user_agent': '-'}\n",
      "{'status': '200', 'bytes': '32070', 'request': 'GET /blog/ HTTP/1.0', 'host': '54.165.199.171', 'referer': '-', 'user': '-', 'time': '05/Dec/2015:05:32:29 +0000', 'identity': '-', 'user_agent': '-'}\n",
      "{'status': '200', 'bytes': '32070', 'request': 'GET /blog/ HTTP/1.0', 'host': '54.165.199.171', 'referer': '-', 'user': '-', 'time': '05/Dec/2015:06:32:19 +0000', 'identity': '-', 'user_agent': '-'}\n",
      "{'status': '200', 'bytes': '31733', 'request': 'GET /blog/ HTTP/1.0', 'host': '54.165.199.171', 'referer': '-', 'user': '-', 'time': '05/Dec/2015:07:32:00 +0000', 'identity': '-', 'user_agent': '-'}\n",
      "{'status': '200', 'bytes': '31670', 'request': 'GET /blog/ HTTP/1.0', 'host': '54.165.199.171', 'referer': '-', 'user': '-', 'time': '05/Dec/2015:08:32:16 +0000', 'identity': '-', 'user_agent': '-'}\n",
      "{'status': '200', 'bytes': '31670', 'request': 'GET /blog/ HTTP/1.0', 'host': '54.165.199.171', 'referer': '-', 'user': '-', 'time': '05/Dec/2015:09:32:05 +0000', 'identity': '-', 'user_agent': '-'}\n",
      "{'status': '200', 'bytes': '31615', 'request': 'GET /blog/ HTTP/1.0', 'host': '54.165.199.171', 'referer': '-', 'user': '-', 'time': '05/Dec/2015:10:32:48 +0000', 'identity': '-', 'user_agent': '-'}\n",
      "{'status': '200', 'bytes': '8005', 'request': 'GET /blog/ HTTP/1.1', 'host': '66.249.66.62', 'referer': '-', 'user': '-', 'time': '05/Dec/2015:10:35:21 +0000', 'identity': '-', 'user_agent': 'Mozilla/5.0 (compatible; Googlebot/2.1; +http://www.google.com/bot.html)'}\n",
      "{'status': '200', 'bytes': '31615', 'request': 'GET /blog/ HTTP/1.0', 'host': '54.165.199.171', 'referer': '-', 'user': '-', 'time': '05/Dec/2015:11:31:59 +0000', 'identity': '-', 'user_agent': '-'}\n",
      "{'status': '200', 'bytes': '31541', 'request': 'GET /blog/ HTTP/1.0', 'host': '54.165.199.171', 'referer': '-', 'user': '-', 'time': '05/Dec/2015:12:32:21 +0000', 'identity': '-', 'user_agent': '-'}\n",
      "{'status': '200', 'bytes': '31541', 'request': 'GET /blog/ HTTP/1.0', 'host': '54.165.199.171', 'referer': '-', 'user': '-', 'time': '05/Dec/2015:13:31:57 +0000', 'identity': '-', 'user_agent': '-'}\n",
      "{'status': '200', 'bytes': '31689', 'request': 'GET /blog/ HTTP/1.0', 'host': '54.165.199.171', 'referer': '-', 'user': '-', 'time': '05/Dec/2015:14:32:08 +0000', 'identity': '-', 'user_agent': '-'}\n",
      "{'status': '200', 'bytes': '32057', 'request': 'GET /blog/ HTTP/1.0', 'host': '54.165.199.171', 'referer': '-', 'user': '-', 'time': '05/Dec/2015:15:32:45 +0000', 'identity': '-', 'user_agent': '-'}\n",
      "{'status': '200', 'bytes': '32057', 'request': 'GET /blog/ HTTP/1.0', 'host': '54.165.199.171', 'referer': '-', 'user': '-', 'time': '05/Dec/2015:16:32:27 +0000', 'identity': '-', 'user_agent': '-'}\n",
      "{'status': '200', 'bytes': '31752', 'request': 'GET /blog/ HTTP/1.0', 'host': '54.165.199.171', 'referer': '-', 'user': '-', 'time': '05/Dec/2015:17:32:06 +0000', 'identity': '-', 'user_agent': '-'}\n",
      "{'status': '200', 'bytes': '31994', 'request': 'GET /blog/ HTTP/1.0', 'host': '54.165.199.171', 'referer': '-', 'user': '-', 'time': '05/Dec/2015:18:32:18 +0000', 'identity': '-', 'user_agent': '-'}\n",
      "{'status': '200', 'bytes': '8236', 'request': 'GET /blog/ HTTP/1.1', 'host': '66.249.66.3', 'referer': '-', 'user': '-', 'time': '05/Dec/2015:18:35:32 +0000', 'identity': '-', 'user_agent': 'Mozilla/5.0 (compatible; Googlebot/2.1; +http://www.google.com/bot.html)'}\n",
      "{'status': '200', 'bytes': '32020', 'request': 'GET /blog/ HTTP/1.0', 'host': '54.165.199.171', 'referer': '-', 'user': '-', 'time': '05/Dec/2015:19:32:23 +0000', 'identity': '-', 'user_agent': '-'}\n",
      "{'status': '200', 'bytes': '32020', 'request': 'GET /blog/ HTTP/1.0', 'host': '54.165.199.171', 'referer': '-', 'user': '-', 'time': '05/Dec/2015:20:32:17 +0000', 'identity': '-', 'user_agent': '-'}\n",
      "{'status': '200', 'bytes': '32083', 'request': 'GET /blog/ HTTP/1.0', 'host': '54.165.199.171', 'referer': '-', 'user': '-', 'time': '05/Dec/2015:21:32:18 +0000', 'identity': '-', 'user_agent': '-'}\n",
      "{'status': '200', 'bytes': '32083', 'request': 'GET /blog/ HTTP/1.0', 'host': '54.165.199.171', 'referer': '-', 'user': '-', 'time': '05/Dec/2015:22:32:13 +0000', 'identity': '-', 'user_agent': '-'}\n",
      "{'status': '200', 'bytes': '31704', 'request': 'GET /blog/ HTTP/1.0', 'host': '54.165.199.171', 'referer': '-', 'user': '-', 'time': '05/Dec/2015:23:32:03 +0000', 'identity': '-', 'user_agent': '-'}\n",
      "{'status': '200', 'bytes': '31852', 'request': 'GET /blog/ HTTP/1.0', 'host': '54.165.199.171', 'referer': '-', 'user': '-', 'time': '06/Dec/2015:00:32:29 +0000', 'identity': '-', 'user_agent': '-'}\n",
      "{'status': '200', 'bytes': '8118', 'request': 'GET /blog/ HTTP/1.1', 'host': '66.249.66.59', 'referer': '-', 'user': '-', 'time': '06/Dec/2015:00:36:48 +0000', 'identity': '-', 'user_agent': 'Mozilla/5.0 (compatible; Googlebot/2.1; +http://www.google.com/bot.html)'}\n",
      "{'status': '200', 'bytes': '31852', 'request': 'GET /blog/ HTTP/1.0', 'host': '54.165.199.171', 'referer': '-', 'user': '-', 'time': '06/Dec/2015:01:32:08 +0000', 'identity': '-', 'user_agent': '-'}\n",
      "{'status': '200', 'bytes': '8072', 'request': 'GET /blog/ HTTP/1.1', 'host': '66.249.66.59', 'referer': '-', 'user': '-', 'time': '06/Dec/2015:02:31:48 +0000', 'identity': '-', 'user_agent': 'Mozilla/5.0 (compatible; Googlebot/2.1; +http://www.google.com/bot.html)'}\n",
      "{'status': '200', 'bytes': '31775', 'request': 'GET /blog/ HTTP/1.0', 'host': '54.165.199.171', 'referer': '-', 'user': '-', 'time': '06/Dec/2015:02:32:25 +0000', 'identity': '-', 'user_agent': '-'}\n"
     ]
    }
   ],
   "source": [
    "URLCounts = {}\n",
    "b = True\n",
    "with open(logPath, \"r\") as f:\n",
    "    for line in (l.strip() for l in f):\n",
    "        match = format_pat.match(line)\n",
    "        if match:\n",
    "            access = match.groupdict()\n",
    "            request = access['request']\n",
    "            fields = request.split()\n",
    "            if (len(fields) == 3):\n",
    "                (action, URL, protocol) = fields\n",
    "                if (action == 'GET'):\n",
    "                    if URL == \"/blog/\" and b:\n",
    "                        print access\n",
    "                    if URLCounts.has_key(URL):\n",
    "                        URLCounts[URL] = URLCounts[URL] + 1\n",
    "                    else:\n",
    "                        URLCounts[URL] = 1\n",
    "\n",
    "results = sorted(URLCounts, key=lambda i: int(URLCounts[i]), reverse=True)\n",
    "\n",
    "#for result in results[:20]:\n",
    "    #print result + \": \" + str(URLCounts[result])\n",
    "    \n",
    "# a lot of reauests do not contain user_agent; that means that\n",
    "# may be not real user but scrpper"
   ]
  },
  {
   "cell_type": "code",
   "execution_count": 52,
   "metadata": {
    "collapsed": false
   },
   "outputs": [
    {
     "name": "stdout",
     "output_type": "stream",
     "text": [
      "Mozilla/4.0 (compatible: MSIE 7.0; Windows NT 6.0): 68484\n",
      "-: 4035\n",
      "Mozilla/4.0 (compatible; MSIE 6.0; Windows NT 5.0): 1724\n",
      "W3 Total Cache/0.9.4.1: 468\n",
      "Mozilla/5.0 (compatible; Baiduspider/2.0; +http://www.baidu.com/search/spider.html): 278\n",
      "Mozilla/5.0 (compatible; Googlebot/2.1; +http://www.google.com/bot.html): 248\n",
      "Mozilla/5.0 (Windows NT 10.0; WOW64) AppleWebKit/537.36 (KHTML, like Gecko) Chrome/46.0.2490.86 Safari/537.36: 158\n",
      "Mozilla/5.0 (Windows NT 6.1; WOW64; rv:40.0) Gecko/20100101 Firefox/40.0: 144\n",
      "Mozilla/5.0 (iPad; CPU OS 8_4 like Mac OS X) AppleWebKit/600.1.4 (KHTML, like Gecko) Version/8.0 Mobile/12H143 Safari/600.1.4: 120\n",
      "Mozilla/5.0 (Linux; Android 5.1.1; SM-G900T Build/LMY47X) AppleWebKit/537.36 (KHTML, like Gecko) Chrome/46.0.2490.76 Mobile Safari/537.36: 47\n",
      "Mozilla/5.0 (compatible; bingbot/2.0; +http://www.bing.com/bingbot.htm): 43\n",
      "Mozilla/5.0 (compatible; MJ12bot/v1.4.5; http://www.majestic12.co.uk/bot.php?+): 41\n",
      "Opera/9.80 (Windows NT 6.0) Presto/2.12.388 Version/12.14: 40\n",
      "Mozilla/5.0 (compatible; YandexBot/3.0; +http://yandex.com/bots): 27\n",
      "Ruby: 15\n",
      "Mozilla/5.0 (Linux; Android 5.1.1; SM-G900T Build/LMY47X) AppleWebKit/537.36 (KHTML, like Gecko) Chrome/47.0.2526.76 Mobile Safari/537.36: 15\n",
      "Mozilla/5.0 (Windows NT 6.1; WOW64) AppleWebKit/537.36 (KHTML, like Gecko) Chrome/46.0.2490.86 Safari/537.36: 13\n",
      "Mozilla/5.0 (compatible; AhrefsBot/5.0; +http://ahrefs.com/robot/): 11\n",
      "Mozilla/5.0 (Windows NT 5.1; rv:6.0.2) Gecko/20100101 Firefox/6.0.2: 11\n",
      "MobileSafari/600.1.4 CFNetwork/711.4.6 Darwin/14.0.0: 10\n",
      "Mozilla/5.0 (Macintosh; Intel Mac OS X 10_11_1) AppleWebKit/537.36 (KHTML, like Gecko) Chrome/47.0.2526.73 Safari/537.36: 9\n",
      "Mozilla/5.0 (compatible; YandexImages/3.0; +http://yandex.com/bots): 9\n",
      "Mozilla/5.0 (compatible; linkdexbot/2.0; +http://www.linkdex.com/bots/): 7\n",
      "Mozilla/5.0 (iPhone; CPU iPhone OS 8_3 like Mac OS X) AppleWebKit/600.1.4 (KHTML, like Gecko) Version/8.0 Mobile/12F70 Safari/600.1.4 (compatible; Googlebot/2.1; +http://www.google.com/bot.html): 6\n",
      "Mozilla/5.0 (compatible; Yahoo! Slurp; http://help.yahoo.com/help/us/ysearch/slurp): 6\n",
      "Mozilla/5.0 (Windows; U; Windows NT 6.1; en-US; rv:1.9.2.28) Gecko/20120306 Firefox/3.6.28 (.NET CLR 3.5.30729): 4\n",
      "Mozilla/5.0 (compatible; SeznamBot/3.2; +http://fulltext.sblog.cz/): 4\n",
      "Mozilla/4.0 (compatible; MSIE 6.0; Windows NT 5.1; SV1): 4\n",
      "Mozilla/5.0 (X11; Linux i686) AppleWebKit/537.36 (KHTML, like Gecko) Chrome/30.0.1599.66 Safari/537.36: 4\n",
      "Mozilla/5.0 zgrab/0.x: 4\n",
      "Mozilla/5.0 (compatible; spbot/4.4.2; +http://OpenLinkProfiler.org/bot ): 3\n",
      "Mozilla/5.0 (Windows NT 6.1; rv:34.0) Gecko/20100101 Firefox/34.0: 3\n",
      "Opera/9.80 (Windows NT 5.1; U; ru) Presto/2.9.168 Version/11.50: 3\n",
      "Mozilla/5.0 (Windows NT 6.1; WOW64; rv:31.0) Gecko/20100101 Firefox/31.0: 3\n",
      "Mozilla/4.0 (compatible; MSIE 9.0; Windows NT 6.1; 2Pac; .NET CLR 2.0.50727; .NET CLR 3.0.04506.648; .NET CLR 3.5.21022): 3\n",
      "Mozilla/5.0: 3\n",
      "Mozilla/4.0 (compatible: FDSE robot): 3\n",
      "Mozilla/5.0 (Macintosh; Intel Mac OS X 10_10_5) AppleWebKit/537.36 (KHTML, like Gecko) Chrome/46.0.2490.86 Safari/537.36: 2\n",
      "Mozilla/5.0 (compatible; MSIE 10.0; Windows NT 6.1; WOW64; Trident/5.0; .NET CLR 2.0.50727; .NET CLR 3.5.30729; .NET CLR 3.0.30729; Media Center PC 6.0; .NET4.0C; .NET4.0E): 2\n",
      "Mozilla/5.0 (Windows NT 6.0; rv:31.0) Gecko/20100101 Firefox/31.0: 2\n",
      "netEstate NE Crawler (+http://www.website-datenbank.de/): 2\n",
      "Opera/9.80 (Windows NT 6.1); U) Presto/2.10.289 Version/12.02: 2\n",
      "Mozilla/5.0 (compatible; MSIE 9.0; Windows NT 5.1; Trident/5.0; .NET CLR 2.0.50727; .NET CLR 3.5.30729): 2\n",
      "Mozilla/5.0 (Windows NT 6.2; rv:24.0) Gecko/20100101 Firefox/24.0: 2\n",
      "Mozilla/5.0 (Windows NT 6.1; WOW64; rv:21.0) Gecko/20100101 Firefox/21.0: 2\n",
      "Mozilla/5.0 (X11; U; FreeBSD x86_64; en-US) AppleWebKit/534.16 (KHTML, like Gecko) Chrome/10.0.648.204 Safari/534.16: 2\n",
      "Mozilla/4.0 (compatible; Netcraft Web Server Survey): 2\n",
      "Mozilla/5.0 (Windows NT 6.0; rv:29.0) Gecko/20120101 Firefox/29.0: 2\n",
      "Googlebot-Image/1.0: 2\n",
      "Mozilla/5.0 (Windows NT 6.3; WOW64) AppleWebKit/537.36 (KHTML, like Gecko) Chrome/46.0.2490.86 Safari/537.36: 2\n",
      "Mozilla/5.0 (Windows NT 5.1; rv:28.0) Gecko/20100101 Firefox/28.0: 2\n",
      "Mozilla/5.0 (Windows NT 6.2; WOW64; rv:36.0) Gecko/20100101 Firefox/36.0: 2\n",
      "Mozilla/5.0 (Windows NT 5.1; rv:2.0.1) Gecko/20100101 Firefox/5.0: 2\n",
      "Mozilla/5.0 (X11; U; Linux i686; en-US; rv:1.7.5) Gecko/20041107 Firefox/1.0: 2\n",
      "Mozilla/5.0 (Windows NT 6.2; rv:31.0) Gecko/20100101 Firefox/31.0: 2\n",
      "Mozilla/5.0 (Windows NT 6.1; rv:28.0) Gecko/20100101 Firefox/28.0: 2\n",
      "Mozilla/5.0 (Windows NT 5.1; rv:36.0) Gecko/20100101 Firefox/36.0: 2\n",
      "Mozilla/5.0 (Windows NT 6.1) AppleWebKit/537.36 (KHTML, like Gecko) Chrome/41.0.2228.0 Safari/537.36: 2\n",
      "Mozilla/5.0 (Windows; U; Windows NT 5.1; en-US; rv:1.3.1.1) Gecko/20101203 Firefox/3.6.12 (.NET CLR 3.5.30309): 1\n",
      "Mozilla/5.0 (Macintosh; Intel Mac OS X 10_10_1) AppleWebKit/537.36 (KHTML, like Gecko) Chrome/41.0.2251.0 Safari/537.36: 1\n",
      "Mozilla/5.0 (X11; Ubuntu; Linux i686; rv:42.0) Gecko/20100101 Firefox/42.0: 1\n",
      "Mozilla/5.0 (Windows NT 6.1; rv:22.0) Gecko/20130405 Firefox/22.0: 1\n",
      "Mozilla/5.0 (Windows; U; Windows NT 5.0; fr-FR; rv:0.9.4) Gecko/20011019 Netscape6/6.2: 1\n",
      "Mozilla/5.0 (Windows NT 6.3; WOW64; Trident/7.0; MAGWJS; rv:11.0) like Gecko: 1\n",
      "Mozilla/3.0 (compatible; Indy Library): 1\n",
      "Mozilla/5.0 (Windows NT 6.1; rv:33.0) Gecko/20100101 Firefox/33.0: 1\n",
      "Mozilla/5.0 (Windows NT 6.3; WOW64) AppleWebKit/537.36 (KHTML, like Gecko) Chrome/45.0.2454.101 Safari/537.36: 1\n",
      "Mozilla/5.0 (X11; Linux x86_64) AppleWebKit/537.36 (KHTML, like Gecko) Chrome/37.0.2062.120 Safari/537.36: 1\n",
      "Scrapy/1.0.3 (+http://scrapy.org): 1\n",
      "Mozilla/5.0 (Windows NT 6.1; rv:31.0) Gecko/20100101 Firefox/31.0: 1\n",
      "Mozilla/5.0 (Macintosh; Intel Mac OS X 10_11_1) AppleWebKit/537.36 (KHTML, like Gecko) Chrome/46.0.2490.86 Safari/537.36 Scanning for research (researchscan.comsys.rwth-aachen.de): 1\n",
      "Opera/9.80 (Windows NT 6.2; WOW64); U) Presto/2.12.388 Version/12.14: 1\n",
      "facebookexternalhit/1.1 (+http://www.facebook.com/externalhit_uatext.php): 1\n",
      "Mozilla/5.0 (Macintosh; Intel Mac OS X 10_6_8) AppleWebKit/534.59.10 (KHTML, like Gecko) Version/5.1.9 Safari/534.59.10: 1\n",
      "Telesphoreo: 1\n",
      "Mozilla/5.0 (Windows NT 10.0; WOW64; rv:42.0) Gecko/20100101 Firefox/42.0: 1\n",
      "Mozilla/4.0 (compatible; MSIE 6.0; MSIE 5.5; Windows 95) Opera 7.03 [de]: 1\n",
      "Mozilla/5.0 (Windows; U; Windows NT 5.1; fr; rv:1.9.0.13) Gecko/2009073022 Firefox/3.0.13 (.NET CLR 3.5.30729): 1\n",
      "Mozilla/5.0 (X11; U; Linux i686; pl-PL; rv:1.9.0.2) Gecko/20121223 Ubuntu/9.25 (jaunty) Firefox/3.8: 1\n",
      "Mozilla/5.0 (Windows NT 5.1; rv:32.0) Gecko/20100101 Firefox/31.0: 1\n",
      "NokiaE5-00/SymbianOS/9.1 Series60/3.0 3gpp-gba: 1\n",
      "Mozilla/5.0 (Windows NT 6.1; WOW64) AppleWebKit/537.36 (KHTML, like Gecko) Chrome/47.0.2526.73 Safari/537.36: 1\n",
      "Mozilla/5.0 (Windows NT 6.1; WOW64) AppleWebKit/537.36 (KHTML, like Gecko) Chrome/45.0.2454.101 Safari/537.36: 1\n",
      "Mozilla/5.0 (Windows NT 10.0; WOW64; Trident/7.0; rv:11.0) like Gecko: 1\n",
      "Mozilla/5.0 (Windows NT 5.1; rv:5.0) Gecko/20100101 Firefox/5.0: 1\n"
     ]
    }
   ],
   "source": [
    "# let's print user_agents\n",
    "\n",
    "userAgent = {}\n",
    "with open(logPath, \"r\") as f:\n",
    "    for line in (l.strip() for l in f):\n",
    "        match = format_pat.match(line)\n",
    "        if match:\n",
    "            access = match.groupdict()\n",
    "            agent = access['user_agent']\n",
    "            if userAgent.has_key(agent):\n",
    "                userAgent[agent] = userAgent[agent] + 1\n",
    "            else:\n",
    "                userAgent[agent] = 1\n",
    "\n",
    "results = sorted(userAgent, key=lambda i: int(userAgent[i]), reverse=True)\n",
    "\n",
    "for result in results:\n",
    "    print result + \": \" + str(userAgent[result])"
   ]
  },
  {
   "cell_type": "code",
   "execution_count": 54,
   "metadata": {
    "collapsed": false
   },
   "outputs": [
    {
     "name": "stdout",
     "output_type": "stream",
     "text": [
      "/page-sitemap.xml: 117\n",
      "/sitemap_index.xml: 117\n",
      "/category-sitemap.xml: 117\n",
      "/post-sitemap.xml: 117\n",
      "/: 77\n",
      "/orlando-headlines/: 36\n",
      "/?page_id=34248: 28\n",
      "/wp-content/cache/minify/000000/M9bPKixNLarUy00szs8D0Zl5AA.js: 27\n",
      "/wp-content/cache/minify/000000/lY7dDoIwDIVfiG0KxkfxfnbdKO4HuxICTy-it8Zw15PzfSftzPCckJem-x4qUWArqBPl5mygZLEgyhdOaoxToGyGaiALiOfUnIz0qDLOdSZGE-nOlpc3kopDzrSyavVVt_veb5qSDVhjsQ6dHh_B_eE_z2pYIGJ7iBWKeEio_eT9UQe4xHhDll27mGRryVu_pRc.js: 27\n",
      "/wp-content/cache/minify/000000/M9AvyUjVzUstLy7PLErVz8lMKkosqtTPKtYvTi7KLCgpBgA.js: 27\n",
      "/wp-content/cache/minify/000000/fY45DoAwDAQ_FMvkRQgFA5ZyWLajiN9zNHR0O83MRkyt-pIctqYFJPedKyYzfHg2PzOFiENAzaD07AxcpKmTolORvDjZt8KEfhBUGjZYCf8Fb0fvA1TXCw.css: 25\n",
      "/?author=1: 21\n",
      "/wp-content/cache/minify/000000/hcrRCYAwDAXAhXyEjiQ1YKAh4SVSx3cE7_uG7ASr4M9qg3kGWyk1adklK84LHtRj_My6Y0Pfqcz-AA.js: 20\n",
      "/wp-content/uploads/2014/11/nhn1.png: 19\n",
      "/wp-includes/js/wp-emoji-release.min.js?ver=4.3.1: 17\n",
      "/wp-content/cache/minify/000000/BcGBCQAgCATAiUSaKYSERPk3avzuht4SkBJnt4tHJdqgnPBqKldesTcN1R8.js: 17\n",
      "/wp-login.php: 16\n",
      "/comics-2/: 12\n",
      "/world/: 12\n",
      "/favicon.ico: 10\n",
      "/wp-content/uploads/2014/11/babyblues.jpg: 6\n",
      "/wp-content/uploads/2014/11/garfield.jpg: 6\n",
      "/wp-content/uploads/2014/11/violentcrime.jpg: 6\n",
      "/robots.txt: 6\n",
      "/wp-content/uploads/2014/11/jumble.jpg: 6\n",
      "/apple-touch-icon.png: 4\n",
      "/about/: 4\n",
      "/australia/: 4\n",
      "/weather/: 4\n",
      "/wp-content/uploads/2014/11/headlines-150x150.jpg: 4\n",
      "/national-headlines/: 3\n",
      "/?page_id=34420: 3\n",
      "/force-download.php?file=wp-config.php: 2\n",
      "/wp-content/plugins/db-backup/download.php?file=/etc/passwd: 2\n",
      "/touch-icon-ipad.png: 2\n",
      "/wp-admin/tools.php?page=backup_manager&download_backup_file=../wp-config.php: 2\n",
      "http://httpheader.net: 2\n",
      "/wp-content/force-download.php?file=../wp-config.php: 2\n",
      "/sample-page/feed/: 2\n",
      "/technology/: 2\n",
      "/wp/wp-content/force-download.php?file=../wp-config.php: 2\n",
      "/science/: 2\n",
      "/feed/: 2\n",
      "http://httpheader.nethttp/httpheader.net: 2\n",
      "/apple-touch-icon-76x76-precomposed.png: 2\n",
      "/apple-touch-icon-76x76.png: 2\n",
      "/manager/html: 2\n",
      "/touch-icon-ipad-retina.png: 1\n",
      "/web-console/ServerInfo.jsp: 1\n",
      "/travel/feed/: 1\n",
      "/x: 1\n",
      "http://testp2.czar.bielawa.pl/testproxy.php: 1\n",
      "/national-headlines/wp-content/plugins/db-backup/download.php?file=/etc/passwd: 1\n",
      "/san-jose-headlines/: 1\n",
      "/invoker/JMXInvokerServlet: 1\n",
      "/?feed=rss2: 1\n",
      "/wp-content/plugins/landing-pages/tests/phantomjs/server.php?url=;ls: 1\n",
      "/orlando-headlines/?pg=1: 1\n",
      "/jmx-console/HtmlAdaptor?action=inspectMBean&name=jboss.system:type=ServerInfo: 1\n",
      "/national-headlines/force-download.php?file=wp-config.php: 1\n",
      "/national-headlines/wp-admin/tools.php?page=backup_manager&download_backup_file=../wp-config.php: 1\n",
      "/entertainment/: 1\n",
      "/national-headlines/wp/wp-content/force-download.php?file=../wp-config.php: 1\n",
      "/?page_id=34499: 1\n",
      "/wp-content/uploads/2014/11/national-150x150.jpg: 1\n",
      "/national-headlines/wp-content/force-download.php?file=../wp-config.php: 1\n",
      "/business/: 1\n",
      "/wp-content/uploads/2014/12/nhn-lg.png: 1\n"
     ]
    }
   ],
   "source": [
    "# let's filter what we can with 'spide', 'bot', etc.\n",
    "\n",
    "URLCounts = {}\n",
    "with open(logPath, \"r\") as f:\n",
    "    for line in (l.strip() for l in f):\n",
    "        match = format_pat.match(line)\n",
    "        if match:\n",
    "            access = match.groupdict()\n",
    "            agent = access['user_agent']\n",
    "            if (not('bot' in agent or 'spider' in agent or\n",
    "                   'Bot' in agent or 'Spider' in agent or\n",
    "                   'W3 Total Cashe' in agent or agent == '-')):\n",
    "                request = access['request']\n",
    "                fields = request.split()\n",
    "                if (len(fields) == 3):\n",
    "                    (action, URL, protocol) = fields\n",
    "                    if (action == 'GET'):\n",
    "                        if URLCounts.has_key(URL):\n",
    "                            URLCounts[URL] = URLCounts[URL] + 1\n",
    "                        else:\n",
    "                            URLCounts[URL] = 1\n",
    "\n",
    "results = sorted(URLCounts, key=lambda i: int(URLCounts[i]), reverse=True)\n",
    "\n",
    "for result in results:\n",
    "    print result + \": \" + str(URLCounts[result])\n",
    "\n"
   ]
  },
  {
   "cell_type": "code",
   "execution_count": 55,
   "metadata": {
    "collapsed": false
   },
   "outputs": [
    {
     "name": "stdout",
     "output_type": "stream",
     "text": [
      "/: 77\n",
      "/orlando-headlines/: 36\n",
      "/world/: 12\n",
      "/comics-2/: 12\n",
      "/weather/: 4\n",
      "/about/: 4\n",
      "/australia/: 4\n",
      "/national-headlines/: 3\n",
      "/sample-page/feed/: 2\n",
      "/feed/: 2\n",
      "/technology/: 2\n",
      "/science/: 2\n",
      "/entertainment/: 1\n",
      "/san-jose-headlines/: 1\n",
      "/business/: 1\n",
      "/travel/feed/: 1\n"
     ]
    }
   ],
   "source": [
    "# let's delete all urls without / at the end\n",
    "\n",
    "URLCounts = {}\n",
    "with open(logPath, \"r\") as f:\n",
    "    for line in (l.strip() for l in f):\n",
    "        match = format_pat.match(line)\n",
    "        if match:\n",
    "            access = match.groupdict()\n",
    "            agent = access['user_agent']\n",
    "            if (not('bot' in agent or 'spider' in agent or\n",
    "                   'Bot' in agent or 'Spider' in agent or\n",
    "                   'W3 Total Cashe' in agent or agent == '-')):\n",
    "                request = access['request']\n",
    "                fields = request.split()\n",
    "                if (len(fields) == 3):\n",
    "                    (action, URL, protocol) = fields\n",
    "                    if (URL.endswith(\"/\")):\n",
    "                        if (action == 'GET'):\n",
    "                            if URLCounts.has_key(URL):\n",
    "                                URLCounts[URL] = URLCounts[URL] + 1\n",
    "                            else:\n",
    "                                URLCounts[URL] = 1\n",
    "\n",
    "results = sorted(URLCounts, key=lambda i: int(URLCounts[i]), reverse=True)\n",
    "\n",
    "for result in results:\n",
    "    print result + \": \" + str(URLCounts[result])"
   ]
  },
  {
   "cell_type": "markdown",
   "metadata": {},
   "source": [
    "# Dealing with outliers"
   ]
  },
  {
   "cell_type": "code",
   "execution_count": 56,
   "metadata": {
    "collapsed": false
   },
   "outputs": [
    {
     "data": {
      "image/png": "[encoded data removed]",
      "text/plain": [
       "<matplotlib.figure.Figure at 0x110a8f6d0>"
      ]
     },
     "metadata": {},
     "output_type": "display_data"
    }
   ],
   "source": [
    "import numpy as np\n",
    "import matplotlib.pyplot as plt\n",
    "\n",
    "incomes = np.random.normal(27000, 15000, 10000)\n",
    "incomes = np.append(incomes, [1000000000])\n",
    "\n",
    "plt.hist(incomes, 50)\n",
    "plt.show()\n"
   ]
  },
  {
   "cell_type": "code",
   "execution_count": 57,
   "metadata": {
    "collapsed": false
   },
   "outputs": [
    {
     "data": {
      "text/plain": [
       "127028.81666824019"
      ]
     },
     "execution_count": 57,
     "metadata": {},
     "output_type": "execute_result"
    }
   ],
   "source": [
    "incomes.mean()"
   ]
  },
  {
   "cell_type": "code",
   "execution_count": 58,
   "metadata": {
    "collapsed": false
   },
   "outputs": [
    {
     "data": {
      "image/png": "[encoded data removed]",
      "text/plain": [
       "<matplotlib.figure.Figure at 0x115a769d0>"
      ]
     },
     "metadata": {},
     "output_type": "display_data"
    }
   ],
   "source": [
    "# mean not very helpful to understand data: \n",
    "# it differs greatly from real mean 27000, but this is a hint about something\n",
    "# anormal or outliers\n",
    "# it's not correct just to cut out data at specific point; better way to\n",
    "# identify outliers several std from the mean\n",
    "\n",
    "def reject_outliers(data):\n",
    "    u = np.median(data) # using median in case of such big outliers more correct\n",
    "    s = np.std(data)\n",
    "    filtered = [e for e in data if (u - 2 * s < e < u + 2 * s)]\n",
    "    return filtered\n",
    "\n",
    "filtered = reject_outliers(incomes)\n",
    "\n",
    "plt.hist(filtered, 50)\n",
    "plt.show()"
   ]
  },
  {
   "cell_type": "code",
   "execution_count": 61,
   "metadata": {
    "collapsed": false
   },
   "outputs": [
    {
     "ename": "ValueError",
     "evalue": "No JSON object could be decoded",
     "output_type": "error",
     "traceback": [
      "\u001b[0;31m\u001b[0m",
      "\u001b[0;31mValueError\u001b[0mTraceback (most recent call last)",
      "\u001b[0;32m<ipython-input-61-9073f586d817>\u001b[0m in \u001b[0;36m<module>\u001b[0;34m()\u001b[0m\n\u001b[1;32m      5\u001b[0m \u001b[0mcontents\u001b[0m \u001b[0;34m=\u001b[0m \u001b[0mresponse\u001b[0m\u001b[0;34m.\u001b[0m\u001b[0mread\u001b[0m\u001b[0;34m(\u001b[0m\u001b[0;34m)\u001b[0m\u001b[0;34m\u001b[0m\u001b[0m\n\u001b[1;32m      6\u001b[0m \u001b[0mtext\u001b[0m \u001b[0;34m=\u001b[0m \u001b[0mcontents\u001b[0m\u001b[0;34m.\u001b[0m\u001b[0mdecode\u001b[0m\u001b[0;34m(\u001b[0m\u001b[0;34m'utf8'\u001b[0m\u001b[0;34m)\u001b[0m\u001b[0;34m\u001b[0m\u001b[0m\n\u001b[0;32m----> 7\u001b[0;31m \u001b[0mdata\u001b[0m \u001b[0;34m=\u001b[0m \u001b[0mjson\u001b[0m\u001b[0;34m.\u001b[0m\u001b[0mloads\u001b[0m\u001b[0;34m(\u001b[0m\u001b[0mtext\u001b[0m\u001b[0;34m)\u001b[0m\u001b[0;34m\u001b[0m\u001b[0m\n\u001b[0m\u001b[1;32m      8\u001b[0m \u001b[0;32mprint\u001b[0m \u001b[0mdata\u001b[0m\u001b[0;34m\u001b[0m\u001b[0m\n\u001b[1;32m      9\u001b[0m \u001b[0;31m#for video in data['feed']['entry'][0:6]:\u001b[0m\u001b[0;34m\u001b[0m\u001b[0;34m\u001b[0m\u001b[0m\n",
      "\u001b[0;32m/Users/Andrew/Library/Enthought/Canopy/edm/envs/User/lib/python2.7/json/__init__.pyc\u001b[0m in \u001b[0;36mloads\u001b[0;34m(s, encoding, cls, object_hook, parse_float, parse_int, parse_constant, object_pairs_hook, **kw)\u001b[0m\n\u001b[1;32m    337\u001b[0m             \u001b[0mparse_int\u001b[0m \u001b[0;32mis\u001b[0m \u001b[0mNone\u001b[0m \u001b[0;32mand\u001b[0m \u001b[0mparse_float\u001b[0m \u001b[0;32mis\u001b[0m \u001b[0mNone\u001b[0m \u001b[0;32mand\u001b[0m\u001b[0;34m\u001b[0m\u001b[0m\n\u001b[1;32m    338\u001b[0m             parse_constant is None and object_pairs_hook is None and not kw):\n\u001b[0;32m--> 339\u001b[0;31m         \u001b[0;32mreturn\u001b[0m \u001b[0m_default_decoder\u001b[0m\u001b[0;34m.\u001b[0m\u001b[0mdecode\u001b[0m\u001b[0;34m(\u001b[0m\u001b[0ms\u001b[0m\u001b[0;34m)\u001b[0m\u001b[0;34m\u001b[0m\u001b[0m\n\u001b[0m\u001b[1;32m    340\u001b[0m     \u001b[0;32mif\u001b[0m \u001b[0mcls\u001b[0m \u001b[0;32mis\u001b[0m \u001b[0mNone\u001b[0m\u001b[0;34m:\u001b[0m\u001b[0;34m\u001b[0m\u001b[0m\n\u001b[1;32m    341\u001b[0m         \u001b[0mcls\u001b[0m \u001b[0;34m=\u001b[0m \u001b[0mJSONDecoder\u001b[0m\u001b[0;34m\u001b[0m\u001b[0m\n",
      "\u001b[0;32m/Users/Andrew/Library/Enthought/Canopy/edm/envs/User/lib/python2.7/json/decoder.pyc\u001b[0m in \u001b[0;36mdecode\u001b[0;34m(self, s, _w)\u001b[0m\n\u001b[1;32m    362\u001b[0m \u001b[0;34m\u001b[0m\u001b[0m\n\u001b[1;32m    363\u001b[0m         \"\"\"\n\u001b[0;32m--> 364\u001b[0;31m         \u001b[0mobj\u001b[0m\u001b[0;34m,\u001b[0m \u001b[0mend\u001b[0m \u001b[0;34m=\u001b[0m \u001b[0mself\u001b[0m\u001b[0;34m.\u001b[0m\u001b[0mraw_decode\u001b[0m\u001b[0;34m(\u001b[0m\u001b[0ms\u001b[0m\u001b[0;34m,\u001b[0m \u001b[0midx\u001b[0m\u001b[0;34m=\u001b[0m\u001b[0m_w\u001b[0m\u001b[0;34m(\u001b[0m\u001b[0ms\u001b[0m\u001b[0;34m,\u001b[0m \u001b[0;36m0\u001b[0m\u001b[0;34m)\u001b[0m\u001b[0;34m.\u001b[0m\u001b[0mend\u001b[0m\u001b[0;34m(\u001b[0m\u001b[0;34m)\u001b[0m\u001b[0;34m)\u001b[0m\u001b[0;34m\u001b[0m\u001b[0m\n\u001b[0m\u001b[1;32m    365\u001b[0m         \u001b[0mend\u001b[0m \u001b[0;34m=\u001b[0m \u001b[0m_w\u001b[0m\u001b[0;34m(\u001b[0m\u001b[0ms\u001b[0m\u001b[0;34m,\u001b[0m \u001b[0mend\u001b[0m\u001b[0;34m)\u001b[0m\u001b[0;34m.\u001b[0m\u001b[0mend\u001b[0m\u001b[0;34m(\u001b[0m\u001b[0;34m)\u001b[0m\u001b[0;34m\u001b[0m\u001b[0m\n\u001b[1;32m    366\u001b[0m         \u001b[0;32mif\u001b[0m \u001b[0mend\u001b[0m \u001b[0;34m!=\u001b[0m \u001b[0mlen\u001b[0m\u001b[0;34m(\u001b[0m\u001b[0ms\u001b[0m\u001b[0;34m)\u001b[0m\u001b[0;34m:\u001b[0m\u001b[0;34m\u001b[0m\u001b[0m\n",
      "\u001b[0;32m/Users/Andrew/Library/Enthought/Canopy/edm/envs/User/lib/python2.7/json/decoder.pyc\u001b[0m in \u001b[0;36mraw_decode\u001b[0;34m(self, s, idx)\u001b[0m\n\u001b[1;32m    380\u001b[0m             \u001b[0mobj\u001b[0m\u001b[0;34m,\u001b[0m \u001b[0mend\u001b[0m \u001b[0;34m=\u001b[0m \u001b[0mself\u001b[0m\u001b[0;34m.\u001b[0m\u001b[0mscan_once\u001b[0m\u001b[0;34m(\u001b[0m\u001b[0ms\u001b[0m\u001b[0;34m,\u001b[0m \u001b[0midx\u001b[0m\u001b[0;34m)\u001b[0m\u001b[0;34m\u001b[0m\u001b[0m\n\u001b[1;32m    381\u001b[0m         \u001b[0;32mexcept\u001b[0m \u001b[0mStopIteration\u001b[0m\u001b[0;34m:\u001b[0m\u001b[0;34m\u001b[0m\u001b[0m\n\u001b[0;32m--> 382\u001b[0;31m             \u001b[0;32mraise\u001b[0m \u001b[0mValueError\u001b[0m\u001b[0;34m(\u001b[0m\u001b[0;34m\"No JSON object could be decoded\"\u001b[0m\u001b[0;34m)\u001b[0m\u001b[0;34m\u001b[0m\u001b[0m\n\u001b[0m\u001b[1;32m    383\u001b[0m         \u001b[0;32mreturn\u001b[0m \u001b[0mobj\u001b[0m\u001b[0;34m,\u001b[0m \u001b[0mend\u001b[0m\u001b[0;34m\u001b[0m\u001b[0m\n",
      "\u001b[0;31mValueError\u001b[0m: No JSON object could be decoded"
     ]
    }
   ],
   "source": [
    "import json\n",
    "from urllib import urlopen\n",
    "url = \"https://www.youtube.com/feed/trending\"\n",
    "response = urlopen(url)\n",
    "contents = response.read()\n",
    "text = contents.decode('utf8')\n",
    "data = json.loads(text)\n",
    "print data\n",
    "#for video in data['feed']['entry'][0:6]:\n",
    "#    print(video['title']['$t'])"
   ]
  },
  {
   "cell_type": "code",
   "execution_count": null,
   "metadata": {
    "collapsed": true
   },
   "outputs": [],
   "source": []
  }
 ],
 "metadata": {
  "kernelspec": {
   "display_name": "Python 2",
   "language": "python",
   "name": "python2"
  },
  "language_info": {
   "codemirror_mode": {
    "name": "ipython",
    "version": 2
   },
   "file_extension": ".py",
   "mimetype": "text/x-python",
   "name": "python",
   "nbconvert_exporter": "python",
   "pygments_lexer": "ipython2",
   "version": "2.7.13"
  }
 },
 "nbformat": 4,
 "nbformat_minor": 2
}
