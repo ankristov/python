{
 "cells": [
  {
   "cell_type": "code",
   "execution_count": 32,
   "id": "074672ea",
   "metadata": {},
   "outputs": [],
   "source": [
    "import string\n",
    "import random\n",
    "import pandas as pd\n",
    "import numpy as np\n",
    "import datetime\n",
    "import matplotlib.pyplot as plt\n",
    "import matplotlib as mpl\n",
    "import seaborn as sns"
   ]
  },
  {
   "cell_type": "code",
   "execution_count": 45,
   "id": "f75f4218",
   "metadata": {},
   "outputs": [],
   "source": [
    "# Global vars\n",
    "n_users = 100 # number of users in dataset"
   ]
  },
  {
   "cell_type": "markdown",
   "id": "ce055ffd",
   "metadata": {},
   "source": [
    "## Generate: user_id"
   ]
  },
  {
   "cell_type": "code",
   "execution_count": 7,
   "id": "06726e01",
   "metadata": {},
   "outputs": [
    {
     "name": "stdout",
     "output_type": "stream",
     "text": [
      "0123456789\n"
     ]
    },
    {
     "data": {
      "text/plain": [
       "'9815623'"
      ]
     },
     "execution_count": 7,
     "metadata": {},
     "output_type": "execute_result"
    }
   ],
   "source": [
    "print(string.digits)\n",
    "''.join(random.sample(string.digits, 7))"
   ]
  },
  {
   "cell_type": "code",
   "execution_count": 15,
   "id": "9724569f",
   "metadata": {},
   "outputs": [
    {
     "name": "stdout",
     "output_type": "stream",
     "text": [
      "ABCDEFGHIJKLMNOPQRSTUVWXYZ\n",
      "abcdefghijklmnopqrstuvwxyzABCDEFGHIJKLMNOPQRSTUVWXYZ\n",
      "['T', 'K', 'P']\n"
     ]
    },
    {
     "data": {
      "text/plain": [
       "'VSA'"
      ]
     },
     "execution_count": 15,
     "metadata": {},
     "output_type": "execute_result"
    }
   ],
   "source": [
    "print(string.ascii_uppercase)\n",
    "print(string.ascii_letters)\n",
    "print(random.sample(string.ascii_uppercase, 3))\n",
    "''.join(random.sample(string.ascii_uppercase, 3))"
   ]
  },
  {
   "cell_type": "code",
   "execution_count": 66,
   "id": "a0cdba31",
   "metadata": {},
   "outputs": [
    {
     "name": "stdout",
     "output_type": "stream",
     "text": [
      "['ZKY-2499369', 'OSZ-9635162', 'CJN-4544893', 'BJX-2504106', 'KAW-8236699', 'QDP-7999385', 'ZKT-9355543']\n"
     ]
    }
   ],
   "source": [
    "n_letters = 3\n",
    "n_numbers = 7\n",
    "n_rows = 100\n",
    "list_user_id = []\n",
    "\n",
    "for i in range(n_rows):\n",
    "    p1 = ''.join(random.sample(string.ascii_uppercase, n_letters))\n",
    "    p2 = ''.join(random.choices(string.digits, k=n_numbers))\n",
    "    list_user_id.append(p1 + '-' + p2)\n",
    "\n",
    "print(list_user_id[:7])\n",
    "    "
   ]
  },
  {
   "cell_type": "code",
   "execution_count": 22,
   "id": "c8a2d061",
   "metadata": {},
   "outputs": [],
   "source": [
    "def generate_user_id(n=100, method = 'n_letters-n_numbers', n_digits = 7, n_letters = 3):\n",
    "    \"\"\"\n",
    "    n - number of user_id to generate\n",
    "    method - method used to generate\n",
    "    n_digits - number of numbers in user_id\n",
    "    n_letters - number of letters in user_id\n",
    "    Methods:\n",
    "        - n_letters-n_numbers (RmT-8987231, length = n_letters + n_numbers + 1)\n",
    "        - n_numbers (9872310, length = n_numbers)\n",
    "        - n_letters (DLauPqM, length = n_letters)\n",
    "        - n_letters_n_numbers_rand: random number of letters and digits and their order (E9nQouZZ42, length = n_letters + n_numbers)\n",
    "    \"\"\"   \n",
    "    \n",
    "    # no quarantee against duplicates\n",
    "    \"\"\"\n",
    "    list_user_id = []\n",
    "    if method == 'n_letters-n_numbers':\n",
    "        for i in range(n):\n",
    "            p1 = ''.join(random.choices(string.ascii_letters, k = n_letters))\n",
    "            p2 = ''.join(random.choices(string.digits, k = n_digits))\n",
    "            list_user_id.append(p1 + '-' + p2)\n",
    "    elif method == 'n_numbers':\n",
    "        for i in range(n):\n",
    "            char_set = string.digits\n",
    "            list_user_id.append(''.join(random.choices(char_set, k = n_digits)))\n",
    "    elif method == 'n_letters':\n",
    "        for i in range(n):\n",
    "            char_set = string.ascii_letters\n",
    "            list_user_id.append(''.join(random.choices(char_set, k = n_letters)))\n",
    "    elif method == 'n_letters_n_numbers_rand':\n",
    "        for i in range(n):\n",
    "            n_symbols = n_letters + n_digits\n",
    "            n_letters_rand = random.randint(0,n_symbols)\n",
    "            char_set = random.choices(string.ascii_letters, k = n_letters_rand) + random.choices(string.digits, k = n_symbols - n_letters_rand)\n",
    "            list_user_id.append(''.join(random.sample(char_set, k = n_symbols)))\n",
    "    return list_user_id\n",
    "    \"\"\"\n",
    "    # to eliminate duplicates\n",
    "    i = 1\n",
    "    list_user_id = []\n",
    "    while i <= n:\n",
    "        if method == 'n_letters-n_numbers':\n",
    "            p1 = ''.join(random.choices(string.ascii_letters, k = n_letters))\n",
    "            p2 = ''.join(random.choices(string.digits, k = n_digits))\n",
    "            user_id = p1 + '-' + p2\n",
    "        elif method == 'n_numbers':\n",
    "            char_set = string.digits\n",
    "            user_id = ''.join(random.choices(char_set, k = n_digits))\n",
    "        elif method == 'n_letters':\n",
    "            char_set = string.ascii_letters\n",
    "            user_id = ''.join(random.choices(char_set, k = n_letters))\n",
    "        elif method == 'n_letters_n_numbers_rand':\n",
    "            n_symbols = n_letters + n_digits\n",
    "            n_letters_rand = random.randint(0,n_symbols)\n",
    "            char_set = random.choices(string.ascii_letters, k = n_letters_rand) + random.choices(string.digits, k = n_symbols - n_letters_rand)\n",
    "            user_id = ''.join(random.sample(char_set, k = n_symbols))\n",
    "        \n",
    "        # to exclude duplcates\n",
    "        if user_id not in list_user_id:\n",
    "            list_user_id.append(user_id)\n",
    "            i += 1\n",
    "    \n",
    "    return list_user_id\n"
   ]
  },
  {
   "cell_type": "code",
   "execution_count": 29,
   "id": "a5768f84",
   "metadata": {},
   "outputs": [
    {
     "name": "stdout",
     "output_type": "stream",
     "text": [
      "['xHV-8773936', 'kHa-0905301', 'lCB-5546271', 'JhR-1373032', 'fcE-7986520', 'oKC-1226512', 'nIf-8758368', 'zGI-2714913', 'dhJ-4325171', 'Gpb-0592702']\n",
      "Length of list_user_id: 100\n"
     ]
    }
   ],
   "source": [
    "list_user_id = generate_user_id(n = n_users, method = 'n_letters-n_numbers', n_digits = 7, n_letters = 3)\n",
    "print(list_user_id[:10])\n",
    "print('Length of list_user_id: {}'.format(len(list_user_id)))"
   ]
  },
  {
   "cell_type": "markdown",
   "id": "8b3d12e6",
   "metadata": {},
   "source": [
    "## Generate: sign up date"
   ]
  },
  {
   "cell_type": "code",
   "execution_count": 74,
   "id": "794d4e06",
   "metadata": {},
   "outputs": [
    {
     "name": "stdout",
     "output_type": "stream",
     "text": [
      "2000-01-01 00:00:00\n",
      "2022-08-02 13:34:48.192170\n",
      "DatetimeIndex(['2000-01-01', '2000-01-02', '2000-01-03', '2000-01-04',\n",
      "               '2000-01-05', '2000-01-06', '2000-01-07', '2000-01-08',\n",
      "               '2000-01-09', '2000-01-10',\n",
      "               ...\n",
      "               '2022-07-24', '2022-07-25', '2022-07-26', '2022-07-27',\n",
      "               '2022-07-28', '2022-07-29', '2022-07-30', '2022-07-31',\n",
      "               '2022-08-01', '2022-08-02'],\n",
      "              dtype='datetime64[ns]', length=8250, freq='D')\n",
      "<class 'pandas.core.indexes.datetimes.DatetimeIndex'>\n"
     ]
    }
   ],
   "source": [
    "date_range_start = pd.to_datetime('2000-01-01')\n",
    "date_range_end = pd.to_datetime(datetime.datetime.now())\n",
    "date_range = pd.date_range(date_range_start, date_range_end, freq = '1D')\n",
    "print(date_range_start)\n",
    "print(date_range_end)\n",
    "print(date_range)\n",
    "print(type(date_range))"
   ]
  },
  {
   "cell_type": "code",
   "execution_count": 81,
   "id": "c87d83b4",
   "metadata": {},
   "outputs": [
    {
     "name": "stdout",
     "output_type": "stream",
     "text": [
      "[Timestamp('2015-12-27 00:00:00', freq='D'), Timestamp('2013-11-20 00:00:00', freq='D'), Timestamp('2021-10-01 00:00:00', freq='D'), Timestamp('2015-09-18 00:00:00', freq='D'), Timestamp('2018-05-03 00:00:00', freq='D'), Timestamp('2009-08-01 00:00:00', freq='D'), Timestamp('2003-01-08 00:00:00', freq='D'), Timestamp('2007-12-08 00:00:00', freq='D'), Timestamp('2000-03-15 00:00:00', freq='D'), Timestamp('2003-07-12 00:00:00', freq='D')]\n",
      "100\n",
      "<class 'pandas._libs.tslibs.timestamps.Timestamp'>\n"
     ]
    }
   ],
   "source": [
    "list_signup_dates = random.choices(date_range, k = n_users)\n",
    "#list_signup_dates = pd.to_datetime(list_signup_dates)\n",
    "print(list_signup_dates[:10])\n",
    "print(len(list_signup_dates))\n",
    "print(type(list_signup_dates[1]))"
   ]
  },
  {
   "cell_type": "code",
   "execution_count": 68,
   "id": "c47da288",
   "metadata": {},
   "outputs": [
    {
     "data": {
      "text/plain": [
       "Timestamp('2000-03-01 00:00:00')"
      ]
     },
     "execution_count": 68,
     "metadata": {},
     "output_type": "execute_result"
    }
   ],
   "source": [
    "from datetime import timedelta\n",
    "date_range_start + timedelta(days = 60)"
   ]
  }
 ],
 "metadata": {
  "kernelspec": {
   "display_name": "env",
   "language": "python",
   "name": "env"
  },
  "language_info": {
   "codemirror_mode": {
    "name": "ipython",
    "version": 3
   },
   "file_extension": ".py",
   "mimetype": "text/x-python",
   "name": "python",
   "nbconvert_exporter": "python",
   "pygments_lexer": "ipython3",
   "version": "3.7.4"
  }
 },
 "nbformat": 4,
 "nbformat_minor": 5
}
